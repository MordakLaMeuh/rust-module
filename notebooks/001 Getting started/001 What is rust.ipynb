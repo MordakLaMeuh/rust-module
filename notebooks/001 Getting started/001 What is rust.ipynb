{
 "cells": [
  {
   "cell_type": "markdown",
   "id": "heard-anthropology",
   "metadata": {
    "deletable": false,
    "editable": false
   },
   "source": [
    "# ___Le Langage de programmation RUST___\n",
    "\n",
    "---\n",
    "Rust est un langage de programmation système qui se distingue par sa rapidité exceptionnelle, sa capacité à prévenir les erreurs de segmentation et à garantir la sécurité entre les threads. Il a été créé dans le but d'être un langage à la fois sécurisé et puissant, il supporte différents styles de programmation, notamment fonctionnel, concurrent, imperatif, et même orienté objet dans certains cas.\n",
    "\n",
    "Rendez-vous sur la [page d'accueil de Rust](https://www.rust-lang.org/ \"Rust Programming Language\") pour commencer l'aventure."
   ]
  },
  {
   "cell_type": "markdown",
   "id": "yellow-sheet",
   "metadata": {
    "deletable": false,
    "editable": false
   },
   "source": [
    "## Cas d'usage répandus de RUST\n",
    "\n",
    "---\n",
    "\n",
    "### Ligne de commande\n",
    "Créez rapidement un outil en ligne de commande (CLI) avec l'écosystème solide de Rust. Rust vous aide à maintenir votre application avec confiance et à la distribuer facilement.\n",
    "\n",
    "### Web Assembly\n",
    "Utilisez Rust pour donner un coup de fouet à votre JavaScript, module par module. Publiez sur npm, regroupez avec webpack, et c'est parti pour la course.\n",
    "\n",
    "### Reseaux\n",
    "Des performances prévisibles. Une empreinte mémoire minuscule. Une fiabilité à toute épreuve. Rust est excellent pour les services réseau.\n",
    "\n",
    "### Programmation embarquee\n",
    "Vous ciblez des dispositifs à faibles ressources ? Vous avez besoin d'un contrôle de bas niveau sans sacrifier les avantages de haut niveau ? Rust a ce qu'il vous faut."
   ]
  },
  {
   "cell_type": "markdown",
   "id": "greater-patch",
   "metadata": {
    "deletable": false,
    "editable": false
   },
   "source": [
    "## Points forts du langage\n",
    "\n",
    "---\n",
    "\n",
    "### Protection de la memoire\n",
    "En Rust, la sécurité de la mémoire est garantie à la compilation grâce à un système de propriété de possession et de référence qui prévient les erreurs de segmentation et les fuites de mémoire.\n",
    "\n",
    "### Langage concurrent\n",
    "La création de programmes multithread est très simple en Rust, grâce aux mécanismes de compilation qui empêchent les 'race conditions'. Si des problèmes de concurrence peuvent survenir, le programme ne peut pas être compilé !\n",
    "\n",
    "### Zero cost abstraction\n",
    "Performance optimale grâce aux abstractions à coût nul.\n",
    "\n",
    "### Langage systeme\n",
    "En tant que langage système, Rust est utilisable jusqu'au niveau de l'embarqué et permet même de créer des systèmes d'exploitation."
   ]
  },
  {
   "cell_type": "markdown",
   "id": "mighty-animation",
   "metadata": {
    "deletable": false,
    "editable": false
   },
   "source": [
    "## Points faibles du langage\n",
    "\n",
    "---\n",
    "\n",
    "### Difficile\n",
    "La courbe d'apprentissage initiale peut être raide pour certains développeurs, car Rust a des concepts et des paradigmes de programmation avancés qui peuvent être difficiles à comprendre pour les débutants.\n",
    "\n",
    "### Developpement long pour les debutants\n",
    "La vérification de la mémoire et les exigences strictes de Rust peuvent rendre le développement plus lent et nécessiter plus d'efforts de la part des développeurs, en particulier pour les projets de petite taille.\n",
    "\n",
    "### Un langage encore jeune\n",
    "Bien que l'écosystème de Rust soit en croissance rapide, il peut ne pas être aussi mature que certains autres langages de programmation plus établis, ce qui peut limiter le nombre de bibliothèques tierces disponibles pour certains cas d'utilisation."
   ]
  }
 ],
 "metadata": {
  "kernelspec": {
   "display_name": "Rust",
   "language": "rust",
   "name": "rust"
  },
  "language_info": {
   "codemirror_mode": "rust",
   "file_extension": ".rs",
   "mimetype": "text/rust",
   "name": "Rust",
   "pygment_lexer": "rust",
   "version": ""
  },
  "toc": {
   "base_numbering": 1,
   "nav_menu": {
    "height": "373px",
    "width": "364px"
   },
   "number_sections": true,
   "sideBar": true,
   "skip_h1_title": false,
   "title_cell": "Table of Contents",
   "title_sidebar": "Contents",
   "toc_cell": false,
   "toc_position": {
    "height": "calc(100% - 180px)",
    "left": "10px",
    "top": "150px",
    "width": "434px"
   },
   "toc_section_display": true,
   "toc_window_display": false
  }
 },
 "nbformat": 4,
 "nbformat_minor": 5
}
