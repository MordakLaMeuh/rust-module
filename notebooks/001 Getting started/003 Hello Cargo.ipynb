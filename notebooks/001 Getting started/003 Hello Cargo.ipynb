{
 "cells": [
  {
   "cell_type": "markdown",
   "id": "public-flooring",
   "metadata": {
    "deletable": false,
    "editable": false
   },
   "source": [
    "# ___Premier programme: La magie de Cargo___\n",
    "\n",
    "---"
   ]
  },
  {
   "cell_type": "markdown",
   "id": "covered-importance",
   "metadata": {
    "deletable": false,
    "editable": false
   },
   "source": [
    "## Tour d'horizon de Cargo"
   ]
  },
  {
   "cell_type": "markdown",
   "id": "warming-future",
   "metadata": {
    "deletable": false,
    "editable": false
   },
   "source": [
    "### La création du programme\n",
    "- **Il suffit d'utiliser la commande cargo new avec en argument le nom du programme.**\n",
    "\n",
    "\n",
    "`32ae4300ecc8:~/notebooks# cargo new premier_programme`\n",
    "\n",
    "\n",
    "Cargo a écrit tous les fichiers nécessaires au projet.\n",
    "```\n",
    "32ae4300ecc8:~/notebooks# cd premier_programme/\n",
    "32ae4300ecc8:~/notebooks/premier_programme# ls -lR\n",
    ".:\n",
    "total 8\n",
    "-rw-rw-rw- 1 root root  186 Mar 20 04:15 Cargo.toml\n",
    "drwxrwxrwx 2 root root 4096 Mar 20 04:15 src\n",
    "\n",
    "./src:\n",
    "total 4\n",
    "-rw-rw-rw- 1 root root 45 Mar 20 04:15 main.rs\n",
    "32ae4300ecc8:~/notebooks/premier_programme#\n",
    "```\n",
    "**Il n'y a pas de fichier Cargo.lock, car pour l'instant, nous n'avons pas encore lancé de compilation.**\n",
    "\n",
    "\n",
    "\n",
    "- **Le fichier main.rs du dossier /src contient déjà son Hello World.**\n",
    "\n",
    "\n",
    "```\n",
    "fn main() {\n",
    "    println!(\"Hello, world!\");\n",
    "}\n",
    "```\n",
    "\n",
    "- **Quand au fichier Cargo.toml, il contient le minimum.**\n",
    "\n",
    "\n",
    "```\n",
    "32ae4300ecc8:~/notebooks/premier_programme# cat Cargo.toml\n",
    "[package]\n",
    "name = \"premier_programme\"\n",
    "version = \"0.1.0\"\n",
    "edition = \"2021\"\n",
    "\n",
    "# See more keys and their definitions at https://doc.rust-lang.org/cargo/reference/manifest.html\n",
    "\n",
    "[dependencies]\n",
    "32ae4300ecc8:~/notebooks/premier_programme#\n",
    "```"
   ]
  },
  {
   "cell_type": "markdown",
   "id": "eight-greek",
   "metadata": {
    "deletable": false,
    "editable": false
   },
   "source": [
    "### Compiler et executer le programme\n",
    "- On utilise **cargo build** pour compiler le programme\n",
    "```\n",
    "32ae4300ecc8:~/notebooks/premier_programme# cargo build\n",
    "   Compiling premier_programme v0.1.0 (/home/jupyter/notebooks/premier_programme)\n",
    "    Finished dev [unoptimized + debuginfo] target(s) in 0.37s\n",
    "32ae4300ecc8:~/notebooks/premier_programme#\n",
    "```\n",
    "\n",
    "\n",
    "- On utilise **cargo run** pour exécuter le programme\n",
    "```\n",
    "32ae4300ecc8:~/notebooks/premier_programme# cargo run\n",
    "    Finished dev [unoptimized + debuginfo] target(s) in 0.00s\n",
    "     Running `target/debug/premier_programme`\n",
    "Hello, world!\n",
    "32ae4300ecc8:~/notebooks/premier_programme#\n",
    "```\n",
    "\n",
    "\n",
    "*Notez que Cargo run compile puis exécute, il n'y a pas besoin de build explicitement si c'est seulement pour l’exécution.*  \n",
    "*Notez aussi que le 'profile' de compilation utilise ici (par défaut) est celui de **debug**, pour les versions de production, l'on utilisera le profil **release**.*\n",
    "```\n",
    "32ae4300ecc8:~/notebooks/premier_programme# cargo run --release\n",
    "   Compiling premier_programme v0.1.0 (/home/jupyter/notebooks/premier_programme)\n",
    "    Finished release [optimized] target(s) in 0.22s\n",
    "     Running `target/release/premier_programme`\n",
    "Hello, world!\n",
    "32ae4300ecc8:~/notebooks/premier_programme#\n",
    "```"
   ]
  },
  {
   "cell_type": "markdown",
   "id": "major-reform",
   "metadata": {
    "deletable": false,
    "editable": false
   },
   "source": [
    "### Documentation\n",
    "\n",
    "Enfin, il est possible de générer la documentation de son propre programme avec **`cargo doc`**\n",
    "```\n",
    "32ae4300ecc8:~/notebooks/premier_programme# cargo doc --open\n",
    "```\n",
    "\n",
    "*La documentation sera ouverte dans le navigateur Web par défaut, `cargo doc` la génere et `--open` l'affiche directement !*\n",
    "\n",
    "___IMPORTANT___\n",
    "\n",
    "*Si vous n'avez pas rust sur votre machine hote, l'ouverture de la documentation ne se fera pas automatiquement dans votre navigateur parce que le container Docker ne connaît pas de serveur X. J'ai mis sur le container simple-http-server, il permet d'accéder à la documentation issue de cargo. Après avoir exécuté la commande `cargo doc`, entrez* **``simple-http-server target/doc/`grep -oP '(?<=name = \")[^\"]*' Cargo.toml`/ -i -p 8081``** *(Les ports 8081 a 8090 peuvent être utilisés, le 8080 étant déjà utilise par Jupyter). La documentation se trouvera dans le navigateur de l'hote a l'addresse **127.0.01:8081**.*\n",
    "\n",
    "\n",
    "![DOCUMENTATION 1](pictures/first-doc.png)\n",
    "\n",
    "- Je peux accéder à la description de la fonction main()\n",
    "\n",
    "![DOCUMENTATION 2](pictures/first-main.png)\n",
    "\n",
    "**Tentons maintenant de commenter le code**\n",
    "```\n",
    "/// La fonction principale de mon programme\n",
    "fn main() {\n",
    "    // Write to stdout\n",
    "    println!(\"Hello, world!\");\n",
    "}\n",
    "```\n",
    "- Les modifications suivantes auront lieu:\n",
    "\n",
    "![DOCUMENTATION 1_BIS](pictures/first-doc-modified.png)\n",
    "\n",
    "- Quant à la description du main()\n",
    "\n",
    "![DOCUMENTATION 2_BIS](pictures/first-main-modified.png)\n",
    "\n",
    "Comme nous pouvons l'observer, les commentaires composés de **3 slashs** ont été écrits dans la documentation du programme.  A contrario, ceux avec deux slashs ne serviront qu'à préciser quelque chose qui restera uniquement dans le code.  \n",
    "\n",
    "Il existe aussi évidement des commentaires multi-lignes avec **/*** et ***/**\n",
    "\n",
    "```\n",
    "/// Ici un commentaire que l'on ne verra pas dans la doc\n",
    "fn main() {\n",
    "    // Write to stdout\n",
    "    println!(\"Hello, world!\");\n",
    "    /*\n",
    "    Ce est\n",
    "    un commentaire\n",
    "    multiligne\n",
    "    */\n",
    "}\n",
    "```\n",
    "**Une documentation plus complète sur les blocs de commentaires peut se trouver [ici](https://doc.rust-lang.org/reference/comments.html \"COMMENTS IN RUST\")**"
   ]
  },
  {
   "cell_type": "markdown",
   "id": "basic-seeking",
   "metadata": {
    "deletable": false,
    "editable": false
   },
   "source": [
    "### Le formatage du code\n",
    "\n",
    "Enfin, il existe un autre outil de cargo qui est **cargo-fmt**, il permet de formater le code selon :\n",
    "- Soit la norme Rust par défaut.\n",
    "- Soit une norme que nous avons définie dans le fichier **rustfmt.toml**.\n",
    "\n",
    "> Notez que Rust par défaut utilise des **tabulations de 4 espaces** !  \n",
    "\n",
    "Normalement, l'installation de Rust l'a téléchargé, sinon, on peut l'installer comme ceci:\n",
    "`cargo install rustfmt`  \n",
    "\n",
    "*Voici un exemple de fichier rustfmt.toml*\n",
    "\n",
    "```\n",
    "mordak@mordak-pc:~/Documents/KFS/rust_kernel$ cat rustfmt.toml\n",
    "max_width = 120\n",
    "```\n",
    "\n",
    "- Il suffit d'utiliser la commande cargo-fmt pour lancer le formatage du code. voyons un exemple:\n",
    "```\n",
    "32ae4300ecc8:~/notebooks/premier_programme# cat -e src/main.rs \n",
    "   //! La fonction principale de mon programme$\n",
    "fn main()    {$\n",
    "\t\t    // Write to stdout$\n",
    "    \t\tprintln!(\"Hello, world!\");                                        $\n",
    "}$\n",
    "32ae4300ecc8:~/notebooks/premier_programme# cargo-fmt\n",
    "32ae4300ecc8:~/notebooks/premier_programme# cat -e src/main.rs \n",
    "//! La fonction principale de mon programme$\n",
    "fn main() {$\n",
    "    // Write to stdout$\n",
    "    println!(\"Hello, world!\");$\n",
    "}$\n",
    "```\n",
    "\n",
    "*Ici la commande cargo-fmt a rendu le code lisible et partageable*"
   ]
  },
  {
   "cell_type": "markdown",
   "id": "danish-outdoors",
   "metadata": {
    "deletable": false,
    "editable": false
   },
   "source": [
    "## A propos de Jupyter\n",
    "\n",
    "**Il est possible de tester le résultat de ce bout de code sur Jupyter grâce au Kernel Rust installé**"
   ]
  },
  {
   "cell_type": "code",
   "execution_count": 3,
   "id": "wound-lyric",
   "metadata": {
    "deletable": false,
    "editable": false
   },
   "outputs": [],
   "source": [
    "/// Ici un commentaire que l'on ne verra pas dans la doc\n",
    "fn main() {\n",
    "    // Write to stdout\n",
    "    println!(\"Hello World !\");\n",
    "    /*\n",
    "    Ce est\n",
    "    un commentaire\n",
    "    multiligne\n",
    "    */\n",
    "}"
   ]
  },
  {
   "cell_type": "markdown",
   "id": "surrounded-approval",
   "metadata": {
    "deletable": false,
    "editable": false
   },
   "source": [
    "**La fonction main() doit etre appelée**"
   ]
  },
  {
   "cell_type": "code",
   "execution_count": 4,
   "id": "dominican-custom",
   "metadata": {
    "deletable": false,
    "editable": false
   },
   "outputs": [
    {
     "name": "stdout",
     "output_type": "stream",
     "text": [
      "Hello World !\n"
     ]
    },
    {
     "data": {
      "text/plain": [
       "()"
      ]
     },
     "execution_count": 4,
     "metadata": {},
     "output_type": "execute_result"
    }
   ],
   "source": [
    "main()"
   ]
  },
  {
   "cell_type": "markdown",
   "id": "practical-wedding",
   "metadata": {
    "deletable": false,
    "editable": false
   },
   "source": [
    "**Il sera aussi possible de ne pas avoir à créer ici de fonction main()**"
   ]
  },
  {
   "cell_type": "code",
   "execution_count": 5,
   "id": "sized-reply",
   "metadata": {
    "deletable": false,
    "editable": false
   },
   "outputs": [
    {
     "name": "stdout",
     "output_type": "stream",
     "text": [
      "Un autre Hello World\n"
     ]
    }
   ],
   "source": [
    "println!(\"Un autre Hello World\");"
   ]
  },
  {
   "cell_type": "markdown",
   "id": "spatial-armor",
   "metadata": {
    "deletable": false,
    "editable": false
   },
   "source": [
    "*Le bouton 'Run' permet l'exécution  du code*"
   ]
  }
 ],
 "metadata": {
  "kernelspec": {
   "display_name": "Rust",
   "language": "rust",
   "name": "rust"
  },
  "language_info": {
   "codemirror_mode": "rust",
   "file_extension": ".rs",
   "mimetype": "text/rust",
   "name": "Rust",
   "pygment_lexer": "rust",
   "version": ""
  },
  "toc": {
   "base_numbering": "3",
   "nav_menu": {
    "height": "168px",
    "width": "324px"
   },
   "number_sections": true,
   "sideBar": true,
   "skip_h1_title": false,
   "title_cell": "Table of Contents",
   "title_sidebar": "Contents",
   "toc_cell": false,
   "toc_position": {
    "height": "calc(100% - 180px)",
    "left": "10px",
    "top": "150px",
    "width": "384px"
   },
   "toc_section_display": true,
   "toc_window_display": false
  }
 },
 "nbformat": 4,
 "nbformat_minor": 5
}
