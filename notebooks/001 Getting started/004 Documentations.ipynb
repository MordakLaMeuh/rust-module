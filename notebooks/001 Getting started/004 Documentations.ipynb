{
 "cells": [
  {
   "cell_type": "markdown",
   "id": "gross-portrait",
   "metadata": {
    "deletable": false,
    "editable": false
   },
   "source": [
    "# ___Quelques liens utiles___\n",
    "\n",
    "---"
   ]
  },
  {
   "cell_type": "markdown",
   "id": "portuguese-kentucky",
   "metadata": {
    "deletable": false,
    "editable": false
   },
   "source": [
    "## Débutant\n",
    "\n",
    "\n",
    "- Documentation de référence du Rust  \n",
    "[https://doc.rust-lang.org/beta/](https://doc.rust-lang.org/beta/)\n",
    "\n",
    "\n",
    "- The BOOK, les bases de Rust  \n",
    "[https://doc.rust-lang.org/beta/book/index.html](https://doc.rust-lang.org/beta/book/index.html)\n",
    "\n",
    "\n",
    "- Écrire et tester du Rust en ligne  \n",
    "[https://play.rust-lang.org/?version=stable&mode=debug&edition=2021](https://play.rust-lang.org/?version=stable&mode=debug&edition=2021)\n",
    "\n",
    "\n",
    "- Beaucoup d'exemples de Rust sur différents aspects du langage  \n",
    "[https://doc.rust-lang.org/stable/rust-by-example/](https://doc.rust-lang.org/stable/rust-by-example/)\n",
    "\n",
    "\n",
    "- Learn Rust (bases)  \n",
    "[https://www.rust-lang.org/learn](https://www.rust-lang.org/learn)\n",
    "\n",
    "![CORE_DOC](pictures/core_doc.png)\n",
    "\n",
    "*Toutes ces documentations, mis à part play.rust et une ou deux autres peuvent se consulter en LOCAL avec `rustup doc`*"
   ]
  },
  {
   "cell_type": "markdown",
   "id": "conscious-indicator",
   "metadata": {
    "deletable": false,
    "editable": false
   },
   "source": [
    "## Avancé\n",
    "\n",
    "\n",
    "- The rust reference, tout savoir sur Rust  \n",
    "[https://doc.rust-lang.org/beta/reference/index.html](https://doc.rust-lang.org/beta/reference/index.html)\n",
    "\n",
    "\n",
    "- The unstable book: Les fonctionnalités nightly à venir ou pas  \n",
    "[https://doc.rust-lang.org/beta/unstable-book/index.html](https://doc.rust-lang.org/beta/unstable-book/index.html)\n",
    "\n",
    "\n",
    "- The Rustonomicon: Le code unsafe  \n",
    "[https://doc.rust-lang.org/beta/nomicon/index.html](https://doc.rust-lang.org/beta/nomicon/index.html)\n",
    "\n",
    "\n",
    "- Learn Rust (spécialisations)  \n",
    "[https://www.rust-lang.org/learn](https://www.rust-lang.org/learn)\n",
    "\n",
    "![SKILLED_DOC](pictures/skilled_doc.png)\n",
    "\n",
    "*La plupart de ces documentations peuvent se consulter en LOCAL avec `rustup doc`*"
   ]
  },
  {
   "cell_type": "markdown",
   "id": "recorded-makeup",
   "metadata": {
    "deletable": false,
    "editable": false
   },
   "source": [
    "## Enfin, si vous pouvez y mettre un peu d'argent, ce livre est selon moi le meilleur pour commencer, sa reputation n'est pas surfaite.\n",
    "\n",
    "\n",
    "\n",
    "- Il peut se commander [a ce lien](https://www.oreilly.com/library/view/programmer-avec-rust/9782412046593/ \"PROGRAMMING RUST\").\n",
    "\n",
    "![O_REALLY](pictures/programming_rust.png)\n",
    "\n",
    "*Le lien ci-dessus pointe vers la seconde edition*"
   ]
  }
 ],
 "metadata": {
  "kernelspec": {
   "display_name": "Python 3",
   "language": "python",
   "name": "python3"
  },
  "language_info": {
   "codemirror_mode": {
    "name": "ipython",
    "version": 3
   },
   "file_extension": ".py",
   "mimetype": "text/x-python",
   "name": "python",
   "nbconvert_exporter": "python",
   "pygments_lexer": "ipython3",
   "version": "3.9.2"
  },
  "toc": {
   "base_numbering": "4",
   "nav_menu": {
    "height": "111px",
    "width": "838px"
   },
   "number_sections": true,
   "sideBar": true,
   "skip_h1_title": false,
   "title_cell": "Table of Contents",
   "title_sidebar": "Contents",
   "toc_cell": false,
   "toc_position": {
    "height": "calc(100% - 180px)",
    "left": "10px",
    "top": "150px",
    "width": "384px"
   },
   "toc_section_display": true,
   "toc_window_display": false
  }
 },
 "nbformat": 4,
 "nbformat_minor": 5
}
