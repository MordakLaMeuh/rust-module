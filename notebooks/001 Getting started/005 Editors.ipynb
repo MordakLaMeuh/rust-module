{
 "cells": [
  {
   "cell_type": "markdown",
   "id": "mysterious-decimal",
   "metadata": {
    "deletable": false,
    "editable": false
   },
   "source": [
    "# ___Le choix de l'éditeur___\n",
    "\n",
    "---\n",
    "- Bien que tous les éditeurs jusqu'à nano et pico permettent d'écrire du code, il est vivement conseillé d'utiliser un éditeur qui gere bien rust, de la coloration syntaxe a la détection des erreurs en temps réel en passant par le formatage automatique.\n",
    "\n",
    "*[rust-analyzer-language-server](https://rust-analyzer.github.io/manual.html#rust-analyzer-language-server-binary) (RLS) donne la capacité à beaucoup d'éditeurs de pouvoir comprendre et interpréter correctement le Rust.*\n",
    "\n",
    "*Voici une liste non-exhaustive des éditeurs pouvant être utilisés.*"
   ]
  },
  {
   "cell_type": "markdown",
   "id": "exciting-zimbabwe",
   "metadata": {
    "deletable": false,
    "editable": false
   },
   "source": [
    "1. ***[Visual Studio Code](https://code.visualstudio.com/): Simple, basique.***\n",
    "> Il est le plus utilisé par les débutants en Rust grâce à son interface graphique facile à prendre en main, il est aussi très simple d'[installer rust-analyzer](https://code.visualstudio.com/docs/languages/rust) dessus. ***L'image Docker fournit le programme VSCode correctement configuré pour le Rust, utilisable dans la mesure où le système d'exploitation de l'hôte est compatible.***"
   ]
  },
  {
   "cell_type": "markdown",
   "id": "reasonable-synthesis",
   "metadata": {
    "deletable": false,
    "editable": false
   },
   "source": [
    "2. ***[Emacs](https://github.com/emacs-mirror/emacs): Puissant, mais pas si simple a configurer.***\n",
    "> Bien que plus difficile a configurer, emacs restera toujours un des meilleurs choix pour les développeurs, le rust ne fait pas exception. ***L'image docker fournit une version d'emacs avec une configuration suffisante pour suivre cette formation.***.\n",
    "\n",
    "Configuration minimale acceptable:\n",
    "- [rust mode](https://github.com/rust-lang/rust-mode)\n",
    "- [lsp mode](https://github.com/emacs-lsp/lsp-mode)\n",
    "- [flycheck rust](https://github.com/flycheck/flycheck-rust)\n",
    "- [rust analyzer](https://rust-analyzer.github.io/manual.html#emacs)\n",
    "\n",
    "`lsp`: Creation d'un nouveau projet.  \n",
    "`flycheck-list-error`: Lister les erreurs."
   ]
  },
  {
   "cell_type": "markdown",
   "id": "hundred-louis",
   "metadata": {
    "deletable": false,
    "editable": false
   },
   "source": [
    "3. ***[Eclipse IDE](https://www.eclipse.org/downloads/packages/): Une édition spéciale Rust.***\n",
    "> Je ne connais pas bien, mais j'ai eu des retours d'expérience positifs quant à l'utilisation d'éclipse pour le Rust. Toute les fonctionnalités que l'on attends d'un éditeur de code moderne sont presentes."
   ]
  }
 ],
 "metadata": {
  "kernelspec": {
   "display_name": "Rust",
   "language": "rust",
   "name": "rust"
  },
  "language_info": {
   "codemirror_mode": "rust",
   "file_extension": ".rs",
   "mimetype": "text/rust",
   "name": "Rust",
   "pygment_lexer": "rust",
   "version": ""
  },
  "toc": {
   "base_numbering": "5",
   "nav_menu": {
    "height": "37px",
    "width": "177px"
   },
   "number_sections": true,
   "sideBar": true,
   "skip_h1_title": false,
   "title_cell": "Table of Contents",
   "title_sidebar": "Contents",
   "toc_cell": false,
   "toc_position": {
    "height": "calc(100% - 180px)",
    "left": "10px",
    "top": "150px",
    "width": "384px"
   },
   "toc_section_display": true,
   "toc_window_display": false
  }
 },
 "nbformat": 4,
 "nbformat_minor": 5
}
