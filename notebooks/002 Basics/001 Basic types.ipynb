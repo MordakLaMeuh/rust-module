{
 "cells": [
  {
   "cell_type": "markdown",
   "id": "boring-belly",
   "metadata": {
    "deletable": false,
    "editable": false
   },
   "source": [
    "# ___Les types basiques___\n",
    "\n",
    "___\n",
    "\n",
    "- Dans sa forme la plus simple, déclarer une variable se fait avec le mot-clef `let` suivi de son `nom` puis de deux petits points `:`, de son `type` et enfin `= sa valeur`. **En Rust, la syntaxe impose que la déclaration du type suit le nom de la variable et non le contraire**, ceci peut être, au départ, extremement déroutant.\n",
    "\n",
    " Quelque particularité à connaître du langage Rust sur ses types:\n",
    " > - Pas de cast implicite.\n",
    " > - Il est impossible d'utiliser une variable non-initialisée, sauf en cas de code unsafe.\n",
    " > - Grace a son **moteur d'inférence**, Rust déduit les types qui n'ont pas été explicitement déclarés."
   ]
  },
  {
   "cell_type": "markdown",
   "id": "transparent-ottawa",
   "metadata": {
    "deletable": false,
    "editable": false
   },
   "source": [
    "## Les types numériques\n",
    "\n",
    "- Sans grande surprise, ces types se manipulent à l'aide des opérateurs numériques Addition, Soustraction, Multiplication, Division et Modulo.\n",
    "\n",
    "| Non-Signé\t | Signé  |  Flottants | Représentation |\n",
    "-------- |----------|----------|---------|\n",
    "| u8\t |   i8\t    |          |   8 bits |\n",
    "| u16\t |   i16\t|          |  16 bits |\n",
    "| u32\t |   i32\t|   f32    |  32 bits |\n",
    "| u64\t |   i64\t|   f64    |  64 bits |\n",
    "| u128\t |   i128\t|          | 128 bits |\n",
    "| usize\t |   isize\t|          | register size |\n",
    "\n",
    "**NB** *Les types f80 et f128 n'existent pas en Rust pour des raisons de portage de code entre les différentes architectures.*"
   ]
  },
  {
   "cell_type": "markdown",
   "id": "genetic-medicaid",
   "metadata": {
    "deletable": false,
    "editable": false
   },
   "source": [
    "### Déclaration"
   ]
  },
  {
   "cell_type": "code",
   "execution_count": 2,
   "id": "enormous-andorra",
   "metadata": {
    "deletable": false,
    "editable": false
   },
   "outputs": [],
   "source": [
    "let a: u32 = 42;\n",
    "let b: i64 = -127;\n",
    "let c: isize = -128;\n",
    "let pi: f32 = std::f32::consts::PI;\n",
    "let pi: f64 = std::f64::consts::PI;"
   ]
  },
  {
   "cell_type": "markdown",
   "id": "expected-fisher",
   "metadata": {
    "deletable": false,
    "editable": false
   },
   "source": [
    "- Il n'est pas toujours utile de définir explicitement les types en Rust, le moteur d'inférence de type devine quel est le type le plus évident. Par exemple, si j'ajoute un type inféré  à un type connu par le compilateur tel u64, le moteur d'inférence de Rust déduira que mon premier type est un u64."
   ]
  },
  {
   "cell_type": "code",
   "execution_count": 3,
   "id": "overall-earth",
   "metadata": {
    "deletable": false,
    "editable": false
   },
   "outputs": [],
   "source": [
    "let t1: u64 = 42;\n",
    "let t2 = 12; // Ici le type n'est pas explicitement donné\n",
    "let t3 = t1 + t2; // le type de t3 sera un u64"
   ]
  },
  {
   "cell_type": "markdown",
   "id": "retired-custody",
   "metadata": {
    "deletable": false,
    "editable": false
   },
   "source": [
    "- C'est aussi courant lorsque le type est retourné par une fonction (L'annotation du type étant obligatoire lors de l'écriture des prototypes de fonctions)."
   ]
  },
  {
   "cell_type": "code",
   "execution_count": 4,
   "id": "fluid-beijing",
   "metadata": {
    "deletable": false,
    "editable": false
   },
   "outputs": [],
   "source": [
    "fn return_u64() -> u64 { // Cette fonction retourne un u64\n",
    "    12\n",
    "}\n",
    "let t4 = return_u64(); // Ici t4 sera un u64"
   ]
  },
  {
   "cell_type": "markdown",
   "id": "vulnerable-lunch",
   "metadata": {
    "deletable": false,
    "editable": false
   },
   "source": [
    "- Quand il y a une erreur dans le code, le moteur d'inférence ne pourra pas déduire le bon type !"
   ]
  },
  {
   "cell_type": "code",
   "execution_count": 5,
   "id": "given-drove",
   "metadata": {
    "deletable": false,
    "editable": false
   },
   "outputs": [
    {
     "ename": "Error",
     "evalue": "mismatched types",
     "output_type": "error",
     "traceback": [
      "\u001b[31m[E0308] Error:\u001b[0m mismatched types",
      "   \u001b[38;5;246m╭\u001b[0m\u001b[38;5;246m─\u001b[0m\u001b[38;5;246m[\u001b[0mcommand_5:1:1\u001b[38;5;246m]\u001b[0m",
      "   \u001b[38;5;246m│\u001b[0m",
      " \u001b[38;5;246m4 │\u001b[0m \u001b[38;5;249ml\u001b[0m\u001b[38;5;249me\u001b[0m\u001b[38;5;249mt\u001b[0m\u001b[38;5;249m \u001b[0m\u001b[38;5;249mt\u001b[0m\u001b[38;5;249m5\u001b[0m\u001b[38;5;249m \u001b[0m\u001b[38;5;249m=\u001b[0m\u001b[38;5;249m \u001b[0m\u001b[38;5;249mr\u001b[0m\u001b[38;5;249me\u001b[0m\u001b[38;5;249mt\u001b[0m\u001b[38;5;249mu\u001b[0m\u001b[38;5;249mr\u001b[0m\u001b[38;5;249mn\u001b[0m\u001b[38;5;249m_\u001b[0m\u001b[38;5;249mu\u001b[0m\u001b[38;5;249m6\u001b[0m\u001b[38;5;249m4\u001b[0m\u001b[38;5;249m(\u001b[0m\u001b[38;5;249m)\u001b[0m\u001b[38;5;249m \u001b[0m\u001b[38;5;249m+\u001b[0m\u001b[38;5;249m \u001b[0m\u001b[38;5;54mr\u001b[0m\u001b[38;5;54me\u001b[0m\u001b[38;5;54mt\u001b[0m\u001b[38;5;54mu\u001b[0m\u001b[38;5;54mr\u001b[0m\u001b[38;5;54mn\u001b[0m\u001b[38;5;54m_\u001b[0m\u001b[38;5;54mu\u001b[0m\u001b[38;5;54m3\u001b[0m\u001b[38;5;54m2\u001b[0m\u001b[38;5;54m(\u001b[0m\u001b[38;5;54m)\u001b[0m\u001b[38;5;249m;\u001b[0m",
      " \u001b[38;5;246m  ·\u001b[0m                         \u001b[38;5;54m─\u001b[0m\u001b[38;5;54m─\u001b[0m\u001b[38;5;54m─\u001b[0m\u001b[38;5;54m─\u001b[0m\u001b[38;5;54m─\u001b[0m\u001b[38;5;54m─\u001b[0m\u001b[38;5;54m┬\u001b[0m\u001b[38;5;54m─\u001b[0m\u001b[38;5;54m─\u001b[0m\u001b[38;5;54m─\u001b[0m\u001b[38;5;54m─\u001b[0m\u001b[38;5;54m─\u001b[0m  ",
      " \u001b[38;5;246m  ·\u001b[0m                               \u001b[38;5;54m╰\u001b[0m\u001b[38;5;54m─\u001b[0m\u001b[38;5;54m─\u001b[0m\u001b[38;5;54m─\u001b[0m\u001b[38;5;54m─\u001b[0m\u001b[38;5;54m─\u001b[0m\u001b[38;5;54m─\u001b[0m\u001b[38;5;54m─\u001b[0m expected `u64`, found `u32`",
      "\u001b[38;5;246m───╯\u001b[0m"
     ]
    },
    {
     "ename": "Error",
     "evalue": "cannot add `u32` to `u64`",
     "output_type": "error",
     "traceback": [
      "\u001b[31m[E0277] Error:\u001b[0m cannot add `u32` to `u64`",
      "   \u001b[38;5;246m╭\u001b[0m\u001b[38;5;246m─\u001b[0m\u001b[38;5;246m[\u001b[0mcommand_5:1:1\u001b[38;5;246m]\u001b[0m",
      "   \u001b[38;5;246m│\u001b[0m",
      " \u001b[38;5;246m4 │\u001b[0m \u001b[38;5;249ml\u001b[0m\u001b[38;5;249me\u001b[0m\u001b[38;5;249mt\u001b[0m\u001b[38;5;249m \u001b[0m\u001b[38;5;249mt\u001b[0m\u001b[38;5;249m5\u001b[0m\u001b[38;5;249m \u001b[0m\u001b[38;5;249m=\u001b[0m\u001b[38;5;249m \u001b[0m\u001b[38;5;249mr\u001b[0m\u001b[38;5;249me\u001b[0m\u001b[38;5;249mt\u001b[0m\u001b[38;5;249mu\u001b[0m\u001b[38;5;249mr\u001b[0m\u001b[38;5;249mn\u001b[0m\u001b[38;5;249m_\u001b[0m\u001b[38;5;249mu\u001b[0m\u001b[38;5;249m6\u001b[0m\u001b[38;5;249m4\u001b[0m\u001b[38;5;249m(\u001b[0m\u001b[38;5;249m)\u001b[0m\u001b[38;5;249m \u001b[0m\u001b[38;5;54m+\u001b[0m\u001b[38;5;249m \u001b[0m\u001b[38;5;249mr\u001b[0m\u001b[38;5;249me\u001b[0m\u001b[38;5;249mt\u001b[0m\u001b[38;5;249mu\u001b[0m\u001b[38;5;249mr\u001b[0m\u001b[38;5;249mn\u001b[0m\u001b[38;5;249m_\u001b[0m\u001b[38;5;249mu\u001b[0m\u001b[38;5;249m3\u001b[0m\u001b[38;5;249m2\u001b[0m\u001b[38;5;249m(\u001b[0m\u001b[38;5;249m)\u001b[0m\u001b[38;5;249m;\u001b[0m",
      " \u001b[38;5;246m  ·\u001b[0m                       \u001b[38;5;54m┬\u001b[0m  ",
      " \u001b[38;5;246m  ·\u001b[0m                       \u001b[38;5;54m╰\u001b[0m\u001b[38;5;54m─\u001b[0m\u001b[38;5;54m─\u001b[0m no implementation for `u64 + u32`",
      "\u001b[38;5;246m───╯\u001b[0m"
     ]
    }
   ],
   "source": [
    "fn return_u32() -> u32 {\n",
    "    12\n",
    "}\n",
    "let t5 = return_u64() + return_u32();"
   ]
  },
  {
   "cell_type": "markdown",
   "id": "usual-climb",
   "metadata": {
    "deletable": false,
    "editable": false
   },
   "source": [
    "- Sanns annotation de type, Rust utilise un type par défaut."
   ]
  },
  {
   "cell_type": "code",
   "execution_count": 6,
   "id": "electrical-blair",
   "metadata": {
    "deletable": false,
    "editable": false
   },
   "outputs": [],
   "source": [
    "let unknown_unsigned_type = 12; // i32\n",
    "let unknown_signed_type = -12; // i32\n",
    "let unknown_float = 3.12; // f64"
   ]
  },
  {
   "cell_type": "markdown",
   "id": "minimal-vertex",
   "metadata": {
    "deletable": false,
    "editable": false
   },
   "source": [
    "- Il peut arriver que l'annotation de type soit obligatoire"
   ]
  },
  {
   "cell_type": "code",
   "execution_count": 7,
   "id": "composite-arbitration",
   "metadata": {
    "deletable": false,
    "editable": false
   },
   "outputs": [
    {
     "ename": "Error",
     "evalue": "type annotations needed",
     "output_type": "error",
     "traceback": [
      "\u001b[31m[E0284] Error:\u001b[0m type annotations needed",
      "   \u001b[38;5;246m╭\u001b[0m\u001b[38;5;246m─\u001b[0m\u001b[38;5;246m[\u001b[0mcommand_7:1:1\u001b[38;5;246m]\u001b[0m",
      "   \u001b[38;5;246m│\u001b[0m",
      " \u001b[38;5;246m3 │\u001b[0m \u001b[38;5;249m \u001b[0m\u001b[38;5;249m \u001b[0m\u001b[38;5;249m \u001b[0m\u001b[38;5;249m \u001b[0m\u001b[38;5;249md\u001b[0m\u001b[38;5;249mb\u001b[0m\u001b[38;5;249mg\u001b[0m\u001b[38;5;249m!\u001b[0m\u001b[38;5;249m(\u001b[0m\u001b[38;5;249ms\u001b[0m\u001b[38;5;249m.\u001b[0m\u001b[38;5;54mp\u001b[0m\u001b[38;5;54ma\u001b[0m\u001b[38;5;54mr\u001b[0m\u001b[38;5;54ms\u001b[0m\u001b[38;5;54me\u001b[0m\u001b[38;5;249m(\u001b[0m\u001b[38;5;249m)\u001b[0m\u001b[38;5;249m)\u001b[0m\u001b[38;5;249m;\u001b[0m",
      " \u001b[38;5;246m  ·\u001b[0m            \u001b[38;5;54m─\u001b[0m\u001b[38;5;54m─\u001b[0m\u001b[38;5;54m┬\u001b[0m\u001b[38;5;54m─\u001b[0m\u001b[38;5;54m─\u001b[0m\u001b[38;5;100m│\u001b[0m ",
      " \u001b[38;5;246m  ·\u001b[0m              \u001b[38;5;54m╰\u001b[0m\u001b[38;5;54m─\u001b[0m\u001b[38;5;54m─\u001b[0m\u001b[38;5;54m─\u001b[0m\u001b[38;5;54m─\u001b[0m cannot infer type of the type parameter `F` declared on the associated function `parse`",
      " \u001b[38;5;246m  ·\u001b[0m                 \u001b[38;5;100m│\u001b[0m ",
      " \u001b[38;5;246m  ·\u001b[0m                 \u001b[38;5;100m╰\u001b[0m\u001b[38;5;100m─\u001b[0m help: consider specifying the generic argument: `::<F>`",
      "\u001b[38;5;246m───╯\u001b[0m"
     ]
    }
   ],
   "source": [
    "fn main() {\n",
    "    let s = \"11\";\n",
    "    dbg!(s.parse()); // la macro dbg! permet de \"debugger\" la valeur\n",
    "}"
   ]
  },
  {
   "cell_type": "markdown",
   "id": "conservative-advertising",
   "metadata": {
    "deletable": false,
    "editable": false
   },
   "source": [
    "**Le compilateur ne sait pas vers quel type convertir la chaine de caractere \"11\"**"
   ]
  },
  {
   "cell_type": "code",
   "execution_count": 8,
   "id": "lasting-basics",
   "metadata": {
    "deletable": false,
    "editable": false
   },
   "outputs": [
    {
     "name": "stderr",
     "output_type": "stream",
     "text": [
      "[src/lib.rs:7] s.parse::<u32>() = Ok(\n",
      ")\n",
      "    11,\n"
     ]
    },
    {
     "data": {
      "text/plain": [
       "()"
      ]
     },
     "execution_count": 8,
     "metadata": {},
     "output_type": "execute_result"
    }
   ],
   "source": [
    "fn main() {\n",
    "    let s = \"11\";\n",
    "    dbg!(s.parse::<u32>()); // On precise que l'on veut un u32\n",
    "}\n",
    "main()"
   ]
  },
  {
   "cell_type": "markdown",
   "id": "latter-jurisdiction",
   "metadata": {
    "deletable": false,
    "editable": false,
    "solution2": "hidden",
    "solution2_first": true
   },
   "source": [
    "**Comment se nomme la syntaxe `::<u32>` ?**"
   ]
  },
  {
   "cell_type": "markdown",
   "id": "clear-simple",
   "metadata": {
    "deletable": false,
    "editable": false,
    "solution2": "hidden"
   },
   "source": [
    "On appelle cela un **turbofish**, c'est une façon plutôt classe d'annoter les types bien que ce ne soit pas généralement indispensable. Nous aurions aussi pu écrire:"
   ]
  },
  {
   "cell_type": "code",
   "execution_count": 9,
   "id": "widespread-effects",
   "metadata": {
    "deletable": false,
    "editable": false,
    "scrolled": true,
    "solution2": "hidden"
   },
   "outputs": [
    {
     "name": "stderr",
     "output_type": "stream",
     "text": [
      "[src/lib.rs:8] number = Ok(\n",
      "    11,\n",
      ")\n"
     ]
    },
    {
     "data": {
      "text/plain": [
       "()"
      ]
     },
     "execution_count": 9,
     "metadata": {},
     "output_type": "execute_result"
    }
   ],
   "source": [
    "fn main() {\n",
    "    let s = \"11\";\n",
    "    let number: Result<u32, _> = s.parse(); // On precise que l'on veut un u32\n",
    "    dbg!(number);\n",
    "}\n",
    "main()"
   ]
  },
  {
   "cell_type": "markdown",
   "id": "julian-rocket",
   "metadata": {
    "deletable": false,
    "editable": false
   },
   "source": [
    "### Différentes façons de donner les valeurs\n",
    "\n",
    "\n",
    "| Number literals | Example |\n",
    "-------|-------|\n",
    "| Decimal |\t98_222 |\n",
    "| Hex\t| 0xff |\n",
    "| Octal\t| 0o77 |\n",
    "| Binary |\t0b1111_0000 |\n",
    "| Byte (u8 only)\t| b'A' |\n",
    "\n",
    "*L'underscore `_` peut être utilise pour la lisibilité des valeurs*."
   ]
  },
  {
   "cell_type": "markdown",
   "id": "adult-force",
   "metadata": {
    "deletable": false,
    "editable": false
   },
   "source": [
    "### La casting ou conversion entre les types\n",
    "\n",
    "- Pour passer d'un type primitif a l'autre, il est possible d'utiliser le mot clef `as`"
   ]
  },
  {
   "cell_type": "code",
   "execution_count": 10,
   "id": "velvet-dinner",
   "metadata": {
    "deletable": false,
    "editable": false
   },
   "outputs": [],
   "source": [
    "let mon_petit_entier: u32 = 42;\n",
    "let mon_grand_entier: u64 = mon_petit_entier as u64;\n",
    "\n",
    "let mon_petit_flottant: f32 = 1.12;\n",
    "let mon_grand_flottant: f64 = mon_petit_flottant as f64;"
   ]
  },
  {
   "cell_type": "markdown",
   "id": "fixed-variation",
   "metadata": {
    "deletable": false,
    "editable": false
   },
   "source": [
    "- Les conversions en RUST doivent être toujours explicites ! Le mot-clef `as` doit donc être toujours utilisé. C'est une sécurité du langage."
   ]
  },
  {
   "cell_type": "code",
   "execution_count": 11,
   "id": "freelance-flooring",
   "metadata": {
    "deletable": false,
    "editable": false
   },
   "outputs": [
    {
     "ename": "Error",
     "evalue": "mismatched types",
     "output_type": "error",
     "traceback": [
      "\u001b[31m[E0308] Error:\u001b[0m mismatched types",
      "   \u001b[38;5;246m╭\u001b[0m\u001b[38;5;246m─\u001b[0m\u001b[38;5;246m[\u001b[0mcommand_11:1:1\u001b[38;5;246m]\u001b[0m",
      "   \u001b[38;5;246m│\u001b[0m",
      " \u001b[38;5;246m2 │\u001b[0m \u001b[38;5;249ml\u001b[0m\u001b[38;5;249me\u001b[0m\u001b[38;5;249mt\u001b[0m\u001b[38;5;249m \u001b[0m\u001b[38;5;249mm\u001b[0m\u001b[38;5;249mo\u001b[0m\u001b[38;5;249mn\u001b[0m\u001b[38;5;249m_\u001b[0m\u001b[38;5;249mg\u001b[0m\u001b[38;5;249mr\u001b[0m\u001b[38;5;249ma\u001b[0m\u001b[38;5;249mn\u001b[0m\u001b[38;5;249md\u001b[0m\u001b[38;5;249m_\u001b[0m\u001b[38;5;249me\u001b[0m\u001b[38;5;249mn\u001b[0m\u001b[38;5;249mt\u001b[0m\u001b[38;5;249mi\u001b[0m\u001b[38;5;249me\u001b[0m\u001b[38;5;249mr\u001b[0m\u001b[38;5;249m:\u001b[0m\u001b[38;5;249m \u001b[0m\u001b[38;5;100mu\u001b[0m\u001b[38;5;100m6\u001b[0m\u001b[38;5;100m4\u001b[0m\u001b[38;5;249m \u001b[0m\u001b[38;5;249m=\u001b[0m\u001b[38;5;249m \u001b[0m\u001b[38;5;54mm\u001b[0m\u001b[38;5;54mo\u001b[0m\u001b[38;5;54mn\u001b[0m\u001b[38;5;54m_\u001b[0m\u001b[38;5;54mp\u001b[0m\u001b[38;5;54me\u001b[0m\u001b[38;5;54mt\u001b[0m\u001b[38;5;54mi\u001b[0m\u001b[38;5;54mt\u001b[0m\u001b[38;5;54m_\u001b[0m\u001b[38;5;54me\u001b[0m\u001b[38;5;54mn\u001b[0m\u001b[38;5;54mt\u001b[0m\u001b[38;5;54mi\u001b[0m\u001b[38;5;54me\u001b[0m\u001b[38;5;54mr\u001b[0m\u001b[38;5;249m;\u001b[0m",
      " \u001b[38;5;246m  ·\u001b[0m                       \u001b[38;5;100m─\u001b[0m\u001b[38;5;100m┬\u001b[0m\u001b[38;5;100m─\u001b[0m   \u001b[38;5;54m─\u001b[0m\u001b[38;5;54m─\u001b[0m\u001b[38;5;54m─\u001b[0m\u001b[38;5;54m─\u001b[0m\u001b[38;5;54m─\u001b[0m\u001b[38;5;54m─\u001b[0m\u001b[38;5;54m─\u001b[0m\u001b[38;5;54m─\u001b[0m\u001b[38;5;54m┬\u001b[0m\u001b[38;5;54m─\u001b[0m\u001b[38;5;54m─\u001b[0m\u001b[38;5;54m─\u001b[0m\u001b[38;5;54m─\u001b[0m\u001b[38;5;54m─\u001b[0m\u001b[38;5;54m─\u001b[0m\u001b[38;5;54m─\u001b[0m\u001b[38;5;68m│\u001b[0m ",
      " \u001b[38;5;246m  ·\u001b[0m                        \u001b[38;5;100m╰\u001b[0m\u001b[38;5;100m─\u001b[0m\u001b[38;5;100m─\u001b[0m\u001b[38;5;100m─\u001b[0m\u001b[38;5;100m─\u001b[0m\u001b[38;5;100m─\u001b[0m\u001b[38;5;100m─\u001b[0m\u001b[38;5;100m─\u001b[0m\u001b[38;5;100m─\u001b[0m\u001b[38;5;100m─\u001b[0m\u001b[38;5;100m─\u001b[0m\u001b[38;5;100m─\u001b[0m\u001b[38;5;100m─\u001b[0m\u001b[38;5;100m─\u001b[0m\u001b[38;5;100m─\u001b[0m\u001b[38;5;100m─\u001b[0m\u001b[38;5;100m─\u001b[0m\u001b[38;5;100m─\u001b[0m\u001b[38;5;100m─\u001b[0m\u001b[38;5;100m─\u001b[0m\u001b[38;5;100m─\u001b[0m\u001b[38;5;100m─\u001b[0m\u001b[38;5;100m─\u001b[0m expected due to this",
      " \u001b[38;5;246m  ·\u001b[0m                                     \u001b[38;5;54m│\u001b[0m       \u001b[38;5;68m│\u001b[0m ",
      " \u001b[38;5;246m  ·\u001b[0m                                     \u001b[38;5;54m╰\u001b[0m\u001b[38;5;54m─\u001b[0m\u001b[38;5;54m─\u001b[0m\u001b[38;5;54m─\u001b[0m\u001b[38;5;54m─\u001b[0m\u001b[38;5;54m─\u001b[0m\u001b[38;5;54m─\u001b[0m\u001b[38;5;54m─\u001b[0m\u001b[38;5;54m─\u001b[0m\u001b[38;5;54m─\u001b[0m expected `u64`, found `u32`",
      " \u001b[38;5;246m  ·\u001b[0m                                             \u001b[38;5;68m│\u001b[0m ",
      " \u001b[38;5;246m  ·\u001b[0m                                             \u001b[38;5;68m╰\u001b[0m\u001b[38;5;68m─\u001b[0m help: you can convert a `u32` to a `u64`: `.into()`",
      "\u001b[38;5;246m───╯\u001b[0m"
     ]
    }
   ],
   "source": [
    "let mon_petit_entier: u32 = 42;\n",
    "let mon_grand_entier: u64 = mon_petit_entier;"
   ]
  },
  {
   "cell_type": "markdown",
   "id": "broke-drama",
   "metadata": {
    "deletable": false,
    "editable": false
   },
   "source": [
    "- Ainsi l'utilisateur assume ce qu'il fait lorsqu'il utilise `as`..."
   ]
  },
  {
   "cell_type": "code",
   "execution_count": 12,
   "id": "complimentary-vision",
   "metadata": {
    "deletable": false,
    "editable": false
   },
   "outputs": [
    {
     "name": "stderr",
     "output_type": "stream",
     "text": [
      "[src/lib.rs:144] u = 2917375036\n"
     ]
    }
   ],
   "source": [
    "    let v: u64 = 7_212_342_332;\n",
    "    let u = v as u32;\n",
    "    dbg!(u);"
   ]
  },
  {
   "cell_type": "markdown",
   "id": "separate-thomas",
   "metadata": {
    "deletable": false,
    "editable": false
   },
   "source": [
    "## Les booléens\n",
    "\n",
    "- Ce type se manipule avec les opérateurs logiques habituels AND, OR, XOR et NOT."
   ]
  },
  {
   "cell_type": "code",
   "execution_count": 13,
   "id": "ancient-restaurant",
   "metadata": {
    "deletable": false,
    "editable": false
   },
   "outputs": [
    {
     "name": "stdout",
     "output_type": "stream",
     "text": [
      "B is false\n",
      "B is true\n",
      "B and C are true\n"
     ]
    },
    {
     "data": {
      "text/plain": [
       "()"
      ]
     },
     "execution_count": 13,
     "metadata": {},
     "output_type": "execute_result"
    }
   ],
   "source": [
    "let b: bool = false;\n",
    "let c: bool = true;\n",
    "\n",
    "let mut b: bool = false;\n",
    "if !b {\n",
    "    println!(\"B is false\");\n",
    "}\n",
    "b = true;\n",
    "if b {\n",
    "     println!(\"B is true\");\n",
    "}\n",
    "let c: bool = true;\n",
    "if b & c {\n",
    "    println!(\"B and C are true\")\n",
    "}"
   ]
  },
  {
   "cell_type": "markdown",
   "id": "minus-applicant",
   "metadata": {
    "deletable": false,
    "editable": false
   },
   "source": [
    "- Notez qu'à cause de problèmes bien connus dans d'autres langages, Rust ne permet pas le cast implicite entres les types numériques et les booléens. Seul true ou false peuvent être utilisés."
   ]
  },
  {
   "cell_type": "code",
   "execution_count": 14,
   "id": "classified-kenya",
   "metadata": {
    "deletable": false,
    "editable": false
   },
   "outputs": [
    {
     "ename": "Error",
     "evalue": "mismatched types",
     "output_type": "error",
     "traceback": [
      "\u001b[31m[E0308] Error:\u001b[0m mismatched types",
      "   \u001b[38;5;246m╭\u001b[0m\u001b[38;5;246m─\u001b[0m\u001b[38;5;246m[\u001b[0mcommand_14:1:1\u001b[38;5;246m]\u001b[0m",
      "   \u001b[38;5;246m│\u001b[0m",
      " \u001b[38;5;246m1 │\u001b[0m \u001b[38;5;249ml\u001b[0m\u001b[38;5;249me\u001b[0m\u001b[38;5;249mt\u001b[0m\u001b[38;5;249m \u001b[0m\u001b[38;5;249mb\u001b[0m\u001b[38;5;249m:\u001b[0m\u001b[38;5;249m \u001b[0m\u001b[38;5;100mb\u001b[0m\u001b[38;5;100mo\u001b[0m\u001b[38;5;100mo\u001b[0m\u001b[38;5;100ml\u001b[0m\u001b[38;5;249m \u001b[0m\u001b[38;5;249m=\u001b[0m\u001b[38;5;249m \u001b[0m\u001b[38;5;54m0\u001b[0m\u001b[38;5;249m;\u001b[0m",
      " \u001b[38;5;246m  ·\u001b[0m        \u001b[38;5;100m─\u001b[0m\u001b[38;5;100m─\u001b[0m\u001b[38;5;100m┬\u001b[0m\u001b[38;5;100m─\u001b[0m   \u001b[38;5;54m┬\u001b[0m  ",
      " \u001b[38;5;246m  ·\u001b[0m          \u001b[38;5;100m╰\u001b[0m\u001b[38;5;100m─\u001b[0m\u001b[38;5;100m─\u001b[0m\u001b[38;5;100m─\u001b[0m\u001b[38;5;100m─\u001b[0m\u001b[38;5;100m─\u001b[0m\u001b[38;5;100m─\u001b[0m\u001b[38;5;100m─\u001b[0m expected due to this",
      " \u001b[38;5;246m  ·\u001b[0m               \u001b[38;5;54m│\u001b[0m  ",
      " \u001b[38;5;246m  ·\u001b[0m               \u001b[38;5;54m╰\u001b[0m\u001b[38;5;54m─\u001b[0m\u001b[38;5;54m─\u001b[0m expected `bool`, found integer",
      "\u001b[38;5;246m───╯\u001b[0m"
     ]
    }
   ],
   "source": [
    "let b: bool = 0;"
   ]
  },
  {
   "cell_type": "code",
   "execution_count": 15,
   "id": "ultimate-shade",
   "metadata": {
    "deletable": false,
    "editable": false
   },
   "outputs": [
    {
     "ename": "Error",
     "evalue": "cannot cast as `bool`",
     "output_type": "error",
     "traceback": [
      "\u001b[31m[E0054] Error:\u001b[0m cannot cast as `bool`",
      "   \u001b[38;5;246m╭\u001b[0m\u001b[38;5;246m─\u001b[0m\u001b[38;5;246m[\u001b[0mcommand_15:1:1\u001b[38;5;246m]\u001b[0m",
      "   \u001b[38;5;246m│\u001b[0m",
      " \u001b[38;5;246m2 │\u001b[0m \u001b[38;5;249ml\u001b[0m\u001b[38;5;249me\u001b[0m\u001b[38;5;249mt\u001b[0m\u001b[38;5;249m \u001b[0m\u001b[38;5;249md\u001b[0m\u001b[38;5;249m:\u001b[0m\u001b[38;5;249m \u001b[0m\u001b[38;5;249mb\u001b[0m\u001b[38;5;249mo\u001b[0m\u001b[38;5;249mo\u001b[0m\u001b[38;5;249ml\u001b[0m\u001b[38;5;249m \u001b[0m\u001b[38;5;249m=\u001b[0m\u001b[38;5;249m \u001b[0m\u001b[38;5;54mv\u001b[0m\u001b[38;5;54m \u001b[0m\u001b[38;5;54ma\u001b[0m\u001b[38;5;54ms\u001b[0m\u001b[38;5;54m \u001b[0m\u001b[38;5;54mb\u001b[0m\u001b[38;5;54mo\u001b[0m\u001b[38;5;54mo\u001b[0m\u001b[38;5;54ml\u001b[0m\u001b[38;5;249m;\u001b[0m",
      " \u001b[38;5;246m  ·\u001b[0m               \u001b[38;5;54m─\u001b[0m\u001b[38;5;54m─\u001b[0m\u001b[38;5;54m─\u001b[0m\u001b[38;5;54m─\u001b[0m\u001b[38;5;54m┬\u001b[0m\u001b[38;5;54m─\u001b[0m\u001b[38;5;54m─\u001b[0m\u001b[38;5;54m─\u001b[0m\u001b[38;5;54m─\u001b[0m  ",
      " \u001b[38;5;246m  ·\u001b[0m                   \u001b[38;5;54m╰\u001b[0m\u001b[38;5;54m─\u001b[0m\u001b[38;5;54m─\u001b[0m\u001b[38;5;54m─\u001b[0m\u001b[38;5;54m─\u001b[0m\u001b[38;5;54m─\u001b[0m\u001b[38;5;54m─\u001b[0m error: cannot cast as `bool`",
      " \u001b[38;5;246m  ·\u001b[0m                   \u001b[38;5;100m│\u001b[0m      ",
      " \u001b[38;5;246m  ·\u001b[0m                   \u001b[38;5;100m╰\u001b[0m\u001b[38;5;100m─\u001b[0m\u001b[38;5;100m─\u001b[0m\u001b[38;5;100m─\u001b[0m\u001b[38;5;100m─\u001b[0m\u001b[38;5;100m─\u001b[0m\u001b[38;5;100m─\u001b[0m help: compare with zero instead: `v != 0`",
      "\u001b[38;5;246m───╯\u001b[0m"
     ]
    }
   ],
   "source": [
    "let v: u32 = 42;\n",
    "let d: bool = v as bool;"
   ]
  },
  {
   "cell_type": "code",
   "execution_count": 16,
   "id": "elementary-tomato",
   "metadata": {
    "deletable": false,
    "editable": false
   },
   "outputs": [
    {
     "name": "stderr",
     "output_type": "stream",
     "text": [
      "[src/lib.rs:146] d = true\n"
     ]
    }
   ],
   "source": [
    "let v: u32 = 42;\n",
    "let d: bool = v != 0;\n",
    "dbg!(d);"
   ]
  },
  {
   "cell_type": "markdown",
   "id": "competitive-afternoon",
   "metadata": {
    "deletable": false,
    "editable": false
   },
   "source": [
    "## Les caractères\n",
    "\n",
    "- Le type caractère est au format utf8 en Rust, ceci doit etre pris en consideration car il peut y avoir des bugs lors du portage de ce type vers d'autres langages (Ce n'est pas des caractères ASCII simples comme le type `char` en C)."
   ]
  },
  {
   "cell_type": "code",
   "execution_count": 17,
   "id": "selective-choir",
   "metadata": {
    "deletable": false,
    "editable": false
   },
   "outputs": [
    {
     "name": "stdout",
     "output_type": "stream",
     "text": [
      "len: 1 - t\n",
      "len: 2 - ф\n",
      "len: 3 - 錆\n"
     ]
    }
   ],
   "source": [
    "let c: char = 't';\n",
    "println!(\"len: {} - {}\", c.len_utf8(), c);\n",
    "let c: char = 'ф';\n",
    "println!(\"len: {} - {}\", c.len_utf8(), c);\n",
    "let c: char = '錆';\n",
    "println!(\"len: {} - {}\", c.len_utf8(), c);"
   ]
  },
  {
   "cell_type": "markdown",
   "id": "frozen-washington",
   "metadata": {
    "deletable": false,
    "editable": false
   },
   "source": [
    "## Les chaines de caractères &str\n",
    "\n",
    "- Les chaînes de caractères en Rust ressemblent a celles d'autres langages, elles s'écrivent entre guillemets doubles. Notez que ce sont des chaînes de caractère utf8 toujours valides et elles sont aussi constantes, car elles sont présentes dans le code du programme. Elles sont du type `&str`."
   ]
  },
  {
   "cell_type": "code",
   "execution_count": 18,
   "id": "divided-interpretation",
   "metadata": {
    "deletable": false,
    "editable": false
   },
   "outputs": [],
   "source": [
    "let ma_chaine = \"Banane\";\n",
    "let ma_seconde_chaine: &str = \"Banane\";"
   ]
  },
  {
   "cell_type": "markdown",
   "id": "atlantic-halloween",
   "metadata": {
    "deletable": false,
    "editable": false
   },
   "source": [
    "- Notez que si on veut les écrire sur plusieurs lignes, il est possible d'utiliser le caractère d'échappement `\\`."
   ]
  },
  {
   "cell_type": "code",
   "execution_count": 19,
   "id": "flush-chosen",
   "metadata": {
    "deletable": false,
    "editable": false
   },
   "outputs": [
    {
     "name": "stderr",
     "output_type": "stream",
     "text": [
      "[src/lib.rs:152] ma_chaine_echapee = \"BananeVolante\"\n"
     ]
    }
   ],
   "source": [
    "let ma_chaine_echapee = \"Banane\\\n",
    "Volante\";\n",
    "dbg!(ma_chaine_echapee);"
   ]
  },
  {
   "cell_type": "markdown",
   "id": "certified-testimony",
   "metadata": {
    "deletable": false,
    "editable": false
   },
   "source": [
    "> Nous verrons plus tard comment allouer dynamiquement de la mémoire pour des chaînes de caractère non-constantes."
   ]
  },
  {
   "cell_type": "markdown",
   "id": "pediatric-above",
   "metadata": {
    "deletable": false,
    "editable": false
   },
   "source": [
    "## Les Types composés\n",
    "\n",
    "- On dit qu'une variable est de type composé lorsque qu'elle contient un ensemble de valeurs de plusieurs types. Il existe le cas des **tuple** ou couple et celui des **array** ou tableaux."
   ]
  },
  {
   "cell_type": "markdown",
   "id": "located-purpose",
   "metadata": {
    "deletable": false,
    "editable": false
   },
   "source": [
    "### Le cas des array\n",
    "\n",
    "- Les tableaux sont une collection de **n variables de même type**, ils sont définis avec une taille précise. On utilise la notation **crochets** `[    ]` pour déclarer un type tableau et chaque valeur associée sera séparée par une virgule `[0, 1, 2, ...]`. Un tableau peut aussi etre initialisé avec cette syntaxe `[value; nbr_elements]`. Enfin, on utilisera aussi la notation crochet pour acceder a chacun des champs `mon_array[3]`."
   ]
  },
  {
   "cell_type": "code",
   "execution_count": 4,
   "id": "common-supervision",
   "metadata": {
    "deletable": false,
    "editable": false
   },
   "outputs": [
    {
     "name": "stdout",
     "output_type": "stream",
     "text": [
      "First element of the array: 1\n",
      "Second element of the array: 2\n",
      "Acces a la seconde case du tableau : Feu\n"
     ]
    }
   ],
   "source": [
    "// Un tableau initialisé avec plusieurs i32.\n",
    "let xs: [i32; 5] = [1, 2, 3, 4, 5];\n",
    "\n",
    "// Tous les éléments sont initialisés a 0\n",
    "let ys: [i32; 500] = [0; 500];\n",
    "\n",
    "// Accés aux éléments\n",
    "println!(\"First element of the array: {}\", xs[0]);\n",
    "println!(\"Second element of the array: {}\", xs[1]);\n",
    "\n",
    "// Taille implicite\n",
    "let xz = ['a', 'b', 'c'];\n",
    "\n",
    "// Tableau de chaines de caractere\n",
    "let categories: [&str; 4] = [\"Terre\", \"Feu\", \"Air\", \"Eau\"];\n",
    "println!(\"Acces a la seconde case du tableau : {}\", categories[1]);"
   ]
  },
  {
   "cell_type": "markdown",
   "id": "retained-soundtrack",
   "metadata": {
    "deletable": false,
    "editable": false
   },
   "source": [
    "> **NB** Le programme panique lors d'un acces illicite au tableau."
   ]
  },
  {
   "cell_type": "code",
   "execution_count": 21,
   "id": "precious-point",
   "metadata": {
    "deletable": false,
    "editable": false
   },
   "outputs": [
    {
     "name": "stderr",
     "output_type": "stream",
     "text": [
      "thread '<unnamed>' panicked at 'index out of bounds: the len is 3 but the index is 6', src/lib.rs:158:6\n",
      "stack backtrace:\n",
      "   0: rust_begin_unwind\n",
      "             at /rustc/8460ca823e8367a30dda430efda790588b8c84d3/library/std/src/panicking.rs:575:5\n",
      "   1: core::panicking::panic_fmt\n",
      "             at /rustc/8460ca823e8367a30dda430efda790588b8c84d3/library/core/src/panicking.rs:64:14\n",
      "   2: core::panicking::panic_bounds_check\n",
      "             at /rustc/8460ca823e8367a30dda430efda790588b8c84d3/library/core/src/panicking.rs:159:5\n",
      "   3: <core::panic::unwind_safe::AssertUnwindSafe<F> as core::ops::function::FnOnce<()>>::call_once\n",
      "   4: run_user_code_15\n",
      "   5: evcxr::runtime::Runtime::run_loop\n",
      "   6: evcxr::runtime::runtime_hook\n",
      "   7: evcxr_jupyter::main\n",
      "note: Some details are omitted, run with `RUST_BACKTRACE=full` for a verbose backtrace.\n"
     ]
    }
   ],
   "source": [
    "dbg!(xz[6]);"
   ]
  },
  {
   "cell_type": "markdown",
   "id": "shared-honolulu",
   "metadata": {
    "deletable": false,
    "editable": false
   },
   "source": [
    "> *Le programme panique a l'exécution (ou bien à la compilation si l'on utilise des const fn), en paniquant il s'arrête, et affiche a l'écran la raison du panique ainsi que la backtrace.* **Le panique n'est pas un crash**. *Il n'y a pas de segmentation fault, le programme s'arrête tout simplement, car quelque chose d'impossible, d'illogique ou de dangereux allait être exécuté. Imaginez en C le même bout de code avec cet accès a la case 6 du tableau, quels auraient été les conséquences ?* "
   ]
  },
  {
   "cell_type": "markdown",
   "id": "driving-passenger",
   "metadata": {
    "deletable": false,
    "editable": false
   },
   "source": [
    "### Le cas des tuples\n",
    "\n",
    "- Un tuple s'écrit en mettant plusieurs types entre parenthèses séparés par une virgule, un tuple peut aussi être vide ou bien ne contenir qu'un seul type. L'avantage des tuples c'est qu'ils peuvent contenir des variables de type différents. Comme les tableaux, ils sont de taille fixe. On utilise la notation `.` puis numero du champs pour acceder aux elements du tuple comme par exemple `mon_tuple.0` ou `mon_tuple.1`"
   ]
  },
  {
   "cell_type": "code",
   "execution_count": 22,
   "id": "progressive-component",
   "metadata": {
    "deletable": false,
    "editable": false
   },
   "outputs": [
    {
     "name": "stderr",
     "output_type": "stream",
     "text": [
      "[src/lib.rs:164] tuple2.1 = 3.14\n",
      "[src/lib.rs:167] g = (\n",
      "    84,\n",
      "    6.283185307179586,\n",
      ")\n"
     ]
    }
   ],
   "source": [
    "let tuple1: (u32, u16) = (3, 6); // Initialisation d'un tuple\n",
    "let tuple2 = (12, 3.14); // Declaration des types implicites\n",
    "\n",
    "dbg!(tuple2.1);\n",
    "\n",
    "fn mul(n: (u32, f64), e: u32) -> (u32, f64) {\n",
    "    (n.0 * e, n.1 * e as f64)\n",
    "}\n",
    "let g = mul((42, std::f64::consts::PI), 2);    \n",
    "dbg!(g);"
   ]
  },
  {
   "cell_type": "markdown",
   "id": "laden-latitude",
   "metadata": {
    "deletable": false,
    "editable": false
   },
   "source": [
    "- Le programme panique tout autant lors d'un acces illicite."
   ]
  },
  {
   "cell_type": "code",
   "execution_count": 23,
   "id": "sharp-ozone",
   "metadata": {
    "deletable": false,
    "editable": false,
    "scrolled": true
   },
   "outputs": [
    {
     "ename": "Error",
     "evalue": "no field `2` on type `(f64, f64)`",
     "output_type": "error",
     "traceback": [
      "\u001b[31m[E0609] Error:\u001b[0m no field `2` on type `(f64, f64)`",
      "   \u001b[38;5;246m╭\u001b[0m\u001b[38;5;246m─\u001b[0m\u001b[38;5;246m[\u001b[0mcommand_23:1:1\u001b[38;5;246m]\u001b[0m",
      "   \u001b[38;5;246m│\u001b[0m",
      " \u001b[38;5;246m2 │\u001b[0m \u001b[38;5;249md\u001b[0m\u001b[38;5;249mb\u001b[0m\u001b[38;5;249mg\u001b[0m\u001b[38;5;249m!\u001b[0m\u001b[38;5;249m(\u001b[0m\u001b[38;5;249mt\u001b[0m\u001b[38;5;249mu\u001b[0m\u001b[38;5;249mp\u001b[0m\u001b[38;5;249ml\u001b[0m\u001b[38;5;249me\u001b[0m\u001b[38;5;249m3\u001b[0m\u001b[38;5;249m.\u001b[0m\u001b[38;5;54m2\u001b[0m\u001b[38;5;249m)\u001b[0m\u001b[38;5;249m;\u001b[0m",
      " \u001b[38;5;246m  ·\u001b[0m             \u001b[38;5;54m┬\u001b[0m  ",
      " \u001b[38;5;246m  ·\u001b[0m             \u001b[38;5;54m╰\u001b[0m\u001b[38;5;54m─\u001b[0m\u001b[38;5;54m─\u001b[0m error: no field `2` on type `(f64, f64)`",
      "\u001b[38;5;246m───╯\u001b[0m"
     ]
    }
   ],
   "source": [
    "let tuple3: (f64, f64) = (1.2, 1.7);\n",
    "dbg!(tuple3.2);"
   ]
  },
  {
   "cell_type": "markdown",
   "id": "acting-order",
   "metadata": {
    "deletable": false,
    "editable": false
   },
   "source": [
    "## Les alias de Type\n",
    "\n",
    "- Tout comme en C, il est possible de nommer ses propres alias de type. C'est l'équivalent de Typedef :"
   ]
  },
  {
   "cell_type": "code",
   "execution_count": 12,
   "id": "intermediate-tunnel",
   "metadata": {
    "deletable": false,
    "editable": false
   },
   "outputs": [
    {
     "name": "stderr",
     "output_type": "stream",
     "text": [
      "[src/lib.rs:134] g = (\n",
      "    6.283185307179586,\n",
      "    84,\n",
      ")\n"
     ]
    },
    {
     "data": {
      "text/plain": [
       "()"
      ]
     },
     "execution_count": 12,
     "metadata": {},
     "output_type": "execute_result"
    }
   ],
   "source": [
    "type Tuple = (u32, f64); // Ici, Tuple es un alias de du tuple (u32, f64)\n",
    "fn mul2(n: Tuple, e: u32) -> Tuple { // Cette fonction prend l'alias Tuple en parametre\n",
    "    (n.0 * e, n.1 * e as f64)\n",
    "}\n",
    "{\n",
    "    let tuple: Tuple = (42, std::f64::consts::PI); // Declaration d'une variable de type Tuple\n",
    "    let g = mul2(tuple, 2);    \n",
    "    dbg!(g);\n",
    "}"
   ]
  },
  {
   "cell_type": "markdown",
   "id": "lovely-pharmacology",
   "metadata": {
    "deletable": false,
    "editable": false
   },
   "source": [
    "- Cependant, les alias de type **ne sont pas des constructeurs.** Ce qui implique que la syntaxe commune aux constructeurs dans d'autres langages `Type(parameters...)` n'est pas valide :"
   ]
  },
  {
   "cell_type": "code",
   "execution_count": 9,
   "id": "hairy-chance",
   "metadata": {
    "deletable": false,
    "editable": false
   },
   "outputs": [
    {
     "ename": "Error",
     "evalue": "expected function, tuple struct or tuple variant, found type alias `Tuple`",
     "output_type": "error",
     "traceback": [
      "\u001b[31m[E0423] Error:\u001b[0m expected function, tuple struct or tuple variant, found type alias `Tuple`",
      "   \u001b[38;5;246m╭\u001b[0m\u001b[38;5;246m─\u001b[0m\u001b[38;5;246m[\u001b[0mcommand_9:1:1\u001b[38;5;246m]\u001b[0m",
      "   \u001b[38;5;246m│\u001b[0m",
      " \u001b[38;5;246m2 │\u001b[0m \u001b[38;5;249m \u001b[0m\u001b[38;5;249m \u001b[0m\u001b[38;5;249m \u001b[0m\u001b[38;5;249m \u001b[0m\u001b[38;5;249ml\u001b[0m\u001b[38;5;249me\u001b[0m\u001b[38;5;249mt\u001b[0m\u001b[38;5;249m \u001b[0m\u001b[38;5;249mg\u001b[0m\u001b[38;5;249m \u001b[0m\u001b[38;5;249m=\u001b[0m\u001b[38;5;249m \u001b[0m\u001b[38;5;249mm\u001b[0m\u001b[38;5;249mu\u001b[0m\u001b[38;5;249ml\u001b[0m\u001b[38;5;249m2\u001b[0m\u001b[38;5;249m(\u001b[0m\u001b[38;5;54mT\u001b[0m\u001b[38;5;54mu\u001b[0m\u001b[38;5;54mp\u001b[0m\u001b[38;5;54ml\u001b[0m\u001b[38;5;54me\u001b[0m\u001b[38;5;249m(\u001b[0m\u001b[38;5;249m4\u001b[0m\u001b[38;5;249m2\u001b[0m\u001b[38;5;249m,\u001b[0m\u001b[38;5;249m \u001b[0m\u001b[38;5;249ms\u001b[0m\u001b[38;5;249mt\u001b[0m\u001b[38;5;249md\u001b[0m\u001b[38;5;249m:\u001b[0m\u001b[38;5;249m:\u001b[0m\u001b[38;5;249mf\u001b[0m\u001b[38;5;249m6\u001b[0m\u001b[38;5;249m4\u001b[0m\u001b[38;5;249m:\u001b[0m\u001b[38;5;249m:\u001b[0m\u001b[38;5;249mc\u001b[0m\u001b[38;5;249mo\u001b[0m\u001b[38;5;249mn\u001b[0m\u001b[38;5;249ms\u001b[0m\u001b[38;5;249mt\u001b[0m\u001b[38;5;249ms\u001b[0m\u001b[38;5;249m:\u001b[0m\u001b[38;5;249m:\u001b[0m\u001b[38;5;249mP\u001b[0m\u001b[38;5;249mI\u001b[0m\u001b[38;5;249m)\u001b[0m\u001b[38;5;249m,\u001b[0m\u001b[38;5;249m \u001b[0m\u001b[38;5;249m2\u001b[0m\u001b[38;5;249m)\u001b[0m\u001b[38;5;249m;\u001b[0m",
      " \u001b[38;5;246m  ·\u001b[0m                  \u001b[38;5;54m─\u001b[0m\u001b[38;5;54m─\u001b[0m\u001b[38;5;54m┬\u001b[0m\u001b[38;5;54m─\u001b[0m\u001b[38;5;54m─\u001b[0m  ",
      " \u001b[38;5;246m  ·\u001b[0m                    \u001b[38;5;54m╰\u001b[0m\u001b[38;5;54m─\u001b[0m\u001b[38;5;54m─\u001b[0m\u001b[38;5;54m─\u001b[0m\u001b[38;5;54m─\u001b[0m error: expected function, tuple struct or tuple variant, found type alias `Tuple`",
      "\u001b[38;5;246m───╯\u001b[0m"
     ]
    }
   ],
   "source": [
    "{\n",
    "    let g = mul2(Tuple(42, std::f64::consts::PI), 2);    \n",
    "    dbg!(g);\n",
    "}"
   ]
  },
  {
   "cell_type": "markdown",
   "id": "honest-bench",
   "metadata": {
    "deletable": false,
    "editable": false
   },
   "source": [
    "> Le kernel rust de Jupyter ne le dit pas, mais quand je tente de compiler le même code en local sur un fichier, le message d'erreur du compilateur est plus éloquent :\n",
    "```\n",
    "error[E0423]: expected function, tuple struct or tuple variant, found type alias `Tuple`\n",
    "  --> src/main.rs:45:18\n",
    "   |\n",
    "45 |     let g = mul2(Tuple(42, std::f64::consts::PI), 2);\n",
    "   |                  ^^^^^\n",
    "   |\n",
    "   = note: can't use a type alias as a constructor\n",
    "```\n",
    "**note: can't use a type alias as a constructor**\n",
    "\n",
    "> Apparemment, le compilateur a bien compris ce que j'ai tenté de faire !"
   ]
  },
  {
   "cell_type": "markdown",
   "id": "worst-lincoln",
   "metadata": {
    "deletable": false,
    "editable": false
   },
   "source": [
    "## Exercices\n",
    "\n",
    "> corriger les bouts de code ci-dessous: Appliquer les modifications necessaires puis lancer run."
   ]
  },
  {
   "cell_type": "markdown",
   "id": "sought-contest",
   "metadata": {
    "deletable": false,
    "editable": false
   },
   "source": [
    "### Types incompatibles"
   ]
  },
  {
   "cell_type": "code",
   "execution_count": 24,
   "id": "regular-effects",
   "metadata": {
    "deletable": false,
    "editable": false
   },
   "outputs": [],
   "source": [
    "let v1: u32 = 42;"
   ]
  },
  {
   "cell_type": "code",
   "execution_count": 25,
   "id": "champion-sociology",
   "metadata": {},
   "outputs": [],
   "source": [
    "let v2: i64 = 42; // FIX AND RUN IT"
   ]
  },
  {
   "cell_type": "code",
   "execution_count": 26,
   "id": "objective-wilson",
   "metadata": {
    "deletable": false,
    "editable": false,
    "hide_input": false,
    "scrolled": true
   },
   "outputs": [
    {
     "ename": "Error",
     "evalue": "mismatched types",
     "output_type": "error",
     "traceback": [
      "\u001b[31m[E0308] Error:\u001b[0m mismatched types",
      "   \u001b[38;5;246m╭\u001b[0m\u001b[38;5;246m─\u001b[0m\u001b[38;5;246m[\u001b[0mcommand_26:1:1\u001b[38;5;246m]\u001b[0m",
      "   \u001b[38;5;246m│\u001b[0m",
      " \u001b[38;5;246m1 │\u001b[0m \u001b[38;5;249ml\u001b[0m\u001b[38;5;249me\u001b[0m\u001b[38;5;249mt\u001b[0m\u001b[38;5;249m \u001b[0m\u001b[38;5;249mr\u001b[0m\u001b[38;5;249me\u001b[0m\u001b[38;5;249ms\u001b[0m\u001b[38;5;249mu\u001b[0m\u001b[38;5;249ml\u001b[0m\u001b[38;5;249mt\u001b[0m\u001b[38;5;249m:\u001b[0m\u001b[38;5;249m \u001b[0m\u001b[38;5;249mu\u001b[0m\u001b[38;5;249m3\u001b[0m\u001b[38;5;249m2\u001b[0m\u001b[38;5;249m \u001b[0m\u001b[38;5;249m=\u001b[0m\u001b[38;5;249m \u001b[0m\u001b[38;5;249mv\u001b[0m\u001b[38;5;249m1\u001b[0m\u001b[38;5;249m \u001b[0m\u001b[38;5;249m+\u001b[0m\u001b[38;5;249m \u001b[0m\u001b[38;5;54mv\u001b[0m\u001b[38;5;54m2\u001b[0m\u001b[38;5;249m;\u001b[0m\u001b[38;5;249m \u001b[0m\u001b[38;5;249m/\u001b[0m\u001b[38;5;249m/\u001b[0m\u001b[38;5;249m \u001b[0m\u001b[38;5;249mR\u001b[0m\u001b[38;5;249mU\u001b[0m\u001b[38;5;249mN\u001b[0m\u001b[38;5;249m \u001b[0m\u001b[38;5;249mI\u001b[0m\u001b[38;5;249mT\u001b[0m",
      " \u001b[38;5;246m  ·\u001b[0m                        \u001b[38;5;54m─\u001b[0m\u001b[38;5;54m┬\u001b[0m  ",
      " \u001b[38;5;246m  ·\u001b[0m                         \u001b[38;5;54m╰\u001b[0m\u001b[38;5;54m─\u001b[0m\u001b[38;5;54m─\u001b[0m expected `u32`, found `i64`",
      "\u001b[38;5;246m───╯\u001b[0m"
     ]
    },
    {
     "ename": "Error",
     "evalue": "cannot add `i64` to `u32`",
     "output_type": "error",
     "traceback": [
      "\u001b[31m[E0277] Error:\u001b[0m cannot add `i64` to `u32`",
      "   \u001b[38;5;246m╭\u001b[0m\u001b[38;5;246m─\u001b[0m\u001b[38;5;246m[\u001b[0mcommand_26:1:1\u001b[38;5;246m]\u001b[0m",
      "   \u001b[38;5;246m│\u001b[0m",
      " \u001b[38;5;246m1 │\u001b[0m \u001b[38;5;249ml\u001b[0m\u001b[38;5;249me\u001b[0m\u001b[38;5;249mt\u001b[0m\u001b[38;5;249m \u001b[0m\u001b[38;5;249mr\u001b[0m\u001b[38;5;249me\u001b[0m\u001b[38;5;249ms\u001b[0m\u001b[38;5;249mu\u001b[0m\u001b[38;5;249ml\u001b[0m\u001b[38;5;249mt\u001b[0m\u001b[38;5;249m:\u001b[0m\u001b[38;5;249m \u001b[0m\u001b[38;5;249mu\u001b[0m\u001b[38;5;249m3\u001b[0m\u001b[38;5;249m2\u001b[0m\u001b[38;5;249m \u001b[0m\u001b[38;5;249m=\u001b[0m\u001b[38;5;249m \u001b[0m\u001b[38;5;249mv\u001b[0m\u001b[38;5;249m1\u001b[0m\u001b[38;5;249m \u001b[0m\u001b[38;5;54m+\u001b[0m\u001b[38;5;249m \u001b[0m\u001b[38;5;249mv\u001b[0m\u001b[38;5;249m2\u001b[0m\u001b[38;5;249m;\u001b[0m\u001b[38;5;249m \u001b[0m\u001b[38;5;249m/\u001b[0m\u001b[38;5;249m/\u001b[0m\u001b[38;5;249m \u001b[0m\u001b[38;5;249mR\u001b[0m\u001b[38;5;249mU\u001b[0m\u001b[38;5;249mN\u001b[0m\u001b[38;5;249m \u001b[0m\u001b[38;5;249mI\u001b[0m\u001b[38;5;249mT\u001b[0m",
      " \u001b[38;5;246m  ·\u001b[0m                      \u001b[38;5;54m┬\u001b[0m  ",
      " \u001b[38;5;246m  ·\u001b[0m                      \u001b[38;5;54m╰\u001b[0m\u001b[38;5;54m─\u001b[0m\u001b[38;5;54m─\u001b[0m no implementation for `u32 + i64`",
      "\u001b[38;5;246m───╯\u001b[0m"
     ]
    }
   ],
   "source": [
    "let result: u32 = v1 + v2; // RUN IT\n",
    "dbg!(result);"
   ]
  },
  {
   "cell_type": "markdown",
   "id": "reverse-channel",
   "metadata": {
    "deletable": false,
    "editable": false,
    "solution2": "hidden",
    "solution2_first": true
   },
   "source": [
    "**SOLUTION**"
   ]
  },
  {
   "cell_type": "markdown",
   "id": "failing-magazine",
   "metadata": {
    "deletable": false,
    "editable": false,
    "hide_input": false,
    "solution2": "hidden"
   },
   "source": [
    "**Le type de la variable v2 doit être un u32, ne déclarer aucun type est possible aussi, le moteur d'inférence fonctionnera correctement.**"
   ]
  },
  {
   "cell_type": "markdown",
   "id": "resistant-works",
   "metadata": {
    "deletable": false,
    "editable": false,
    "hide_input": false
   },
   "source": [
    "### To be bool or not bool"
   ]
  },
  {
   "cell_type": "code",
   "execution_count": 27,
   "id": "sophisticated-bundle",
   "metadata": {},
   "outputs": [
    {
     "ename": "Error",
     "evalue": "mismatched types",
     "output_type": "error",
     "traceback": [
      "\u001b[31m[E0308] Error:\u001b[0m mismatched types",
      "   \u001b[38;5;246m╭\u001b[0m\u001b[38;5;246m─\u001b[0m\u001b[38;5;246m[\u001b[0mcommand_27:1:1\u001b[38;5;246m]\u001b[0m",
      "   \u001b[38;5;246m│\u001b[0m",
      " \u001b[38;5;246m1 │\u001b[0m \u001b[38;5;249ml\u001b[0m\u001b[38;5;249me\u001b[0m\u001b[38;5;249mt\u001b[0m\u001b[38;5;249m \u001b[0m\u001b[38;5;249mm\u001b[0m\u001b[38;5;249mo\u001b[0m\u001b[38;5;249mn\u001b[0m\u001b[38;5;249m_\u001b[0m\u001b[38;5;249mb\u001b[0m\u001b[38;5;249mo\u001b[0m\u001b[38;5;249mo\u001b[0m\u001b[38;5;249ml\u001b[0m\u001b[38;5;249me\u001b[0m\u001b[38;5;249ma\u001b[0m\u001b[38;5;249mn\u001b[0m\u001b[38;5;249m:\u001b[0m\u001b[38;5;249m \u001b[0m\u001b[38;5;100mb\u001b[0m\u001b[38;5;100mo\u001b[0m\u001b[38;5;100mo\u001b[0m\u001b[38;5;100ml\u001b[0m\u001b[38;5;249m \u001b[0m\u001b[38;5;249m=\u001b[0m\u001b[38;5;249m \u001b[0m\u001b[38;5;54m4\u001b[0m\u001b[38;5;54m2\u001b[0m\u001b[38;5;249m;\u001b[0m\u001b[38;5;249m \u001b[0m\u001b[38;5;249m/\u001b[0m\u001b[38;5;249m/\u001b[0m\u001b[38;5;249m \u001b[0m\u001b[38;5;249mF\u001b[0m\u001b[38;5;249mI\u001b[0m\u001b[38;5;249mX\u001b[0m\u001b[38;5;249m \u001b[0m\u001b[38;5;249mA\u001b[0m\u001b[38;5;249mN\u001b[0m\u001b[38;5;249mD\u001b[0m\u001b[38;5;249m \u001b[0m\u001b[38;5;249mR\u001b[0m\u001b[38;5;249mU\u001b[0m\u001b[38;5;249mN\u001b[0m\u001b[38;5;249m \u001b[0m\u001b[38;5;249mI\u001b[0m\u001b[38;5;249mT\u001b[0m",
      " \u001b[38;5;246m  ·\u001b[0m                  \u001b[38;5;100m─\u001b[0m\u001b[38;5;100m─\u001b[0m\u001b[38;5;100m┬\u001b[0m\u001b[38;5;100m─\u001b[0m   \u001b[38;5;54m─\u001b[0m\u001b[38;5;54m┬\u001b[0m  ",
      " \u001b[38;5;246m  ·\u001b[0m                    \u001b[38;5;100m╰\u001b[0m\u001b[38;5;100m─\u001b[0m\u001b[38;5;100m─\u001b[0m\u001b[38;5;100m─\u001b[0m\u001b[38;5;100m─\u001b[0m\u001b[38;5;100m─\u001b[0m\u001b[38;5;100m─\u001b[0m\u001b[38;5;100m─\u001b[0m\u001b[38;5;100m─\u001b[0m expected due to this",
      " \u001b[38;5;246m  ·\u001b[0m                          \u001b[38;5;54m│\u001b[0m  ",
      " \u001b[38;5;246m  ·\u001b[0m                          \u001b[38;5;54m╰\u001b[0m\u001b[38;5;54m─\u001b[0m\u001b[38;5;54m─\u001b[0m expected `bool`, found integer",
      "\u001b[38;5;246m───╯\u001b[0m"
     ]
    }
   ],
   "source": [
    "let mon_boolean: bool = 42; // FIX AND RUN IT"
   ]
  },
  {
   "cell_type": "markdown",
   "id": "conditional-regulation",
   "metadata": {
    "deletable": false,
    "editable": false,
    "hide_input": true,
    "solution2": "hidden",
    "solution2_first": true
   },
   "source": [
    "**SOLUTION**"
   ]
  },
  {
   "cell_type": "markdown",
   "id": "adjacent-chick",
   "metadata": {
    "deletable": false,
    "editable": false,
    "hide_input": false,
    "solution2": "hidden"
   },
   "source": [
    "**Un booléen (bool) ne peut être initialisé en Rust qu'a true ou a false, jamais avec un entier.**"
   ]
  },
  {
   "cell_type": "markdown",
   "id": "ordinary-reform",
   "metadata": {
    "deletable": false,
    "editable": false
   },
   "source": [
    "### Out of array bounds"
   ]
  },
  {
   "cell_type": "code",
   "execution_count": 28,
   "id": "southwest-irish",
   "metadata": {},
   "outputs": [],
   "source": [
    "let array = [1, 2, 3]; // FIX AND RUN IT"
   ]
  },
  {
   "cell_type": "code",
   "execution_count": 29,
   "id": "warming-acquisition",
   "metadata": {
    "deletable": false,
    "editable": false
   },
   "outputs": [
    {
     "name": "stderr",
     "output_type": "stream",
     "text": [
      "thread '<unnamed>' panicked at 'index out of bounds: the len is 3 but the index is 3', src/lib.rs:173:39\n",
      "stack backtrace:\n",
      "   0: rust_begin_unwind\n",
      "             at /rustc/8460ca823e8367a30dda430efda790588b8c84d3/library/std/src/panicking.rs:575:5\n",
      "   1: core::panicking::panic_fmt\n",
      "             at /rustc/8460ca823e8367a30dda430efda790588b8c84d3/library/core/src/panicking.rs:64:14\n",
      "   2: core::panicking::panic_bounds_check\n",
      "             at /rustc/8460ca823e8367a30dda430efda790588b8c84d3/library/core/src/panicking.rs:159:5\n",
      "   3: <unknown>\n",
      "   4: <unknown>\n",
      "   5: evcxr::runtime::Runtime::run_loop\n",
      "   6: evcxr::runtime::runtime_hook\n",
      "   7: evcxr_jupyter::main\n",
      "note: Some details are omitted, run with `RUST_BACKTRACE=full` for a verbose backtrace.\n"
     ]
    }
   ],
   "source": [
    "dbg!(array[0] + array[1] + array[2] + array[3]); // RUN IT"
   ]
  },
  {
   "cell_type": "markdown",
   "id": "returning-marijuana",
   "metadata": {
    "deletable": false,
    "editable": false,
    "hide_input": false,
    "solution2": "hidden",
    "solution2_first": true
   },
   "source": [
    "**SOLUTION**"
   ]
  },
  {
   "cell_type": "markdown",
   "id": "bored-indian",
   "metadata": {
    "deletable": false,
    "editable": false,
    "hide_input": false,
    "solution2": "hidden"
   },
   "source": [
    "**Il manque une cellule au tableau, `array[3]` n'existe pas. Tentez `let array = [1, 2, 3, 4];`.**"
   ]
  },
  {
   "cell_type": "markdown",
   "id": "featured-atlantic",
   "metadata": {
    "deletable": false,
    "editable": false
   },
   "source": [
    "### The good and the bad tuple"
   ]
  },
  {
   "cell_type": "code",
   "execution_count": 30,
   "id": "royal-meaning",
   "metadata": {
    "deletable": false,
    "editable": false
   },
   "outputs": [
    {
     "ename": "Error",
     "evalue": "cannot find value `my_new_tuple` in this scope",
     "output_type": "error",
     "traceback": [
      "\u001b[31m[E0425] Error:\u001b[0m cannot find value `my_new_tuple` in this scope",
      "   \u001b[38;5;246m╭\u001b[0m\u001b[38;5;246m─\u001b[0m\u001b[38;5;246m[\u001b[0mcommand_30:1:1\u001b[38;5;246m]\u001b[0m",
      "   \u001b[38;5;246m│\u001b[0m",
      " \u001b[38;5;246m5 │\u001b[0m \u001b[38;5;249ml\u001b[0m\u001b[38;5;249mo\u001b[0m\u001b[38;5;249ma\u001b[0m\u001b[38;5;249md\u001b[0m\u001b[38;5;249m_\u001b[0m\u001b[38;5;249mv\u001b[0m\u001b[38;5;249ma\u001b[0m\u001b[38;5;249ml\u001b[0m\u001b[38;5;249mu\u001b[0m\u001b[38;5;249me\u001b[0m\u001b[38;5;249ms\u001b[0m\u001b[38;5;249m(\u001b[0m\u001b[38;5;54mm\u001b[0m\u001b[38;5;54my\u001b[0m\u001b[38;5;54m_\u001b[0m\u001b[38;5;54mn\u001b[0m\u001b[38;5;54me\u001b[0m\u001b[38;5;54mw\u001b[0m\u001b[38;5;54m_\u001b[0m\u001b[38;5;54mt\u001b[0m\u001b[38;5;54mu\u001b[0m\u001b[38;5;54mp\u001b[0m\u001b[38;5;54ml\u001b[0m\u001b[38;5;54me\u001b[0m\u001b[38;5;249m)\u001b[0m\u001b[38;5;249m;\u001b[0m",
      " \u001b[38;5;246m  ·\u001b[0m             \u001b[38;5;54m─\u001b[0m\u001b[38;5;54m─\u001b[0m\u001b[38;5;54m─\u001b[0m\u001b[38;5;54m─\u001b[0m\u001b[38;5;54m─\u001b[0m\u001b[38;5;54m─\u001b[0m\u001b[38;5;54m┬\u001b[0m\u001b[38;5;54m─\u001b[0m\u001b[38;5;54m─\u001b[0m\u001b[38;5;54m─\u001b[0m\u001b[38;5;54m─\u001b[0m\u001b[38;5;54m─\u001b[0m  ",
      " \u001b[38;5;246m  ·\u001b[0m                   \u001b[38;5;54m╰\u001b[0m\u001b[38;5;54m─\u001b[0m\u001b[38;5;54m─\u001b[0m\u001b[38;5;54m─\u001b[0m\u001b[38;5;54m─\u001b[0m\u001b[38;5;54m─\u001b[0m\u001b[38;5;54m─\u001b[0m\u001b[38;5;54m─\u001b[0m not found in this scope",
      "\u001b[38;5;246m───╯\u001b[0m"
     ]
    }
   ],
   "source": [
    "fn load_values(t: (u32, u32)) -> () { // RUN IT\n",
    "    // ... Do some things\n",
    "    dbg!(t);\n",
    "}\n",
    "load_values(my_new_tuple);"
   ]
  },
  {
   "cell_type": "code",
   "execution_count": 31,
   "id": "olympic-tobago",
   "metadata": {},
   "outputs": [],
   "source": [
    "let my_new_tuple: (u32, u32, u32) = (1, 4, 11); // FIX IT AND RUN IT"
   ]
  },
  {
   "cell_type": "markdown",
   "id": "textile-amsterdam",
   "metadata": {
    "deletable": false,
    "editable": false,
    "solution2": "hidden",
    "solution2_first": true
   },
   "source": [
    "**SOLUTION**"
   ]
  },
  {
   "cell_type": "markdown",
   "id": "geological-motion",
   "metadata": {
    "deletable": false,
    "editable": false,
    "hide_input": false,
    "solution2": "hidden"
   },
   "source": [
    "**La fonction load_values prends en argument un tuple de deux u32, c'est donc une erreur de lui envoyer un tuple de trois u32, cela ne ferait pas sens.**"
   ]
  }
 ],
 "metadata": {
  "kernelspec": {
   "display_name": "Rust",
   "language": "rust",
   "name": "rust"
  },
  "language_info": {
   "codemirror_mode": "rust",
   "file_extension": ".rs",
   "mimetype": "text/rust",
   "name": "Rust",
   "pygment_lexer": "rust",
   "version": ""
  },
  "toc": {
   "base_numbering": 1,
   "nav_menu": {
    "height": "349px",
    "width": "372.667px"
   },
   "number_sections": true,
   "sideBar": true,
   "skip_h1_title": false,
   "title_cell": "Table of Contents",
   "title_sidebar": "Contents",
   "toc_cell": false,
   "toc_position": {
    "height": "530.667px",
    "left": "38px",
    "top": "66.2667px",
    "width": "326.5px"
   },
   "toc_section_display": true,
   "toc_window_display": false
  }
 },
 "nbformat": 4,
 "nbformat_minor": 5
}
