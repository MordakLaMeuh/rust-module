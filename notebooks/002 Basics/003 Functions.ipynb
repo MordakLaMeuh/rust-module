{
 "cells": [
  {
   "cell_type": "markdown",
   "id": "stupid-wagner",
   "metadata": {
    "deletable": false,
    "editable": false
   },
   "source": [
    "# ___Les Fonctions en Rust___\n",
    "\n",
    "---"
   ]
  },
  {
   "cell_type": "markdown",
   "id": "premier-savage",
   "metadata": {
    "deletable": false,
    "editable": false
   },
   "source": [
    "## Forme la plus simple\n",
    "\n",
    "- Lors de la création d'un nouvel exécutable, **cargo new** génère la fonction **main()**, cette derniere elle est toujours préfixée par le mot-clef `fn` qui veut dire **fonction**. Ensuite viennent le **nom de la fonction**, ses **paramètres mis entre parenthèses** et enfin son **retour**. Le retour de la fonction est un **type** et s'écrit après le séparateur `->`."
   ]
  },
  {
   "cell_type": "code",
   "execution_count": 2,
   "id": "conservative-inspection",
   "metadata": {
    "deletable": false,
    "editable": false
   },
   "outputs": [],
   "source": [
    "fn main() {\n",
    "    println!(\"Hello World !\");\n",
    "}"
   ]
  },
  {
   "cell_type": "markdown",
   "id": "racial-framing",
   "metadata": {
    "deletable": false,
    "editable": false
   },
   "source": [
    "*Dans sa forme primitive, la fonction main() ne retourne rien, c'est comme une **void** en C, il n'y a donc pas besoin de mettre le séparateur `->`*  \n",
    "*Cependant, on pourrait l'écrire ainsi*:"
   ]
  },
  {
   "cell_type": "code",
   "execution_count": 3,
   "id": "parental-electric",
   "metadata": {
    "deletable": false,
    "editable": false
   },
   "outputs": [],
   "source": [
    "fn main() -> () {\n",
    "    println!(\"Hello World !\");\n",
    "    () // Je le met pour la forme mais il est inutile.\n",
    "}"
   ]
  },
  {
   "cell_type": "markdown",
   "id": "mobile-reynolds",
   "metadata": {
    "deletable": false,
    "editable": false
   },
   "source": [
    "*Les parenthèses vides sont souvent utilisées pour indiquer qu'une fonction ne retourne pas de valeur ou bien pour indiquer une expression vide.*"
   ]
  },
  {
   "cell_type": "markdown",
   "id": "cheap-making",
   "metadata": {
    "deletable": false,
    "editable": false
   },
   "source": [
    "## Retour de la fonction\n",
    "\n",
    "- Voyons maintenant une fonction qui retourne quelque chose"
   ]
  },
  {
   "cell_type": "code",
   "execution_count": 4,
   "id": "honey-workshop",
   "metadata": {
    "deletable": false,
    "editable": false
   },
   "outputs": [],
   "source": [
    "// Ici on retourne un entier positif sur 4 octets\n",
    "fn return_one() -> u32 {\n",
    "    1\n",
    "}"
   ]
  },
  {
   "cell_type": "markdown",
   "id": "surrounded-combat",
   "metadata": {
    "deletable": false,
    "editable": false
   },
   "source": [
    "*Le mot-clef return commun à d'autres langages est facultatif ici, rustc considère que l'absence du point-virgule (le point-virgule indique la fin d'une instruction) signifie que la fonction retourne quelque chose. Cependant l'utilisation du mot-clef return reste possible (le point-virgule sera alors nécessaire.)*"
   ]
  },
  {
   "cell_type": "code",
   "execution_count": 5,
   "id": "considerable-belle",
   "metadata": {
    "deletable": false,
    "editable": false
   },
   "outputs": [],
   "source": [
    "// Ici on retourne un entier positif sur 4 octets\n",
    "fn return_one() -> u32 {\n",
    "    return 1;\n",
    "}"
   ]
  },
  {
   "cell_type": "markdown",
   "id": "junior-spectacular",
   "metadata": {
    "deletable": false,
    "editable": false
   },
   "source": [
    "- Pour appeler la fonction, on ecrira simplement **return_one()**. On peut utiliser la macro **dbg!** (debug) pour voir le retour de la fonction:"
   ]
  },
  {
   "cell_type": "code",
   "execution_count": 6,
   "id": "operating-happening",
   "metadata": {
    "deletable": false,
    "editable": false
   },
   "outputs": [
    {
     "name": "stderr",
     "output_type": "stream",
     "text": [
      "[src/lib.rs:13] return_one() = 1\n"
     ]
    }
   ],
   "source": [
    "dbg!(return_one());"
   ]
  },
  {
   "cell_type": "markdown",
   "id": "accepting-replacement",
   "metadata": {
    "deletable": false,
    "editable": false
   },
   "source": [
    "*En rust, on utilise le point d'exclamation pour dire que c'est une macro et non une fonction*  \n",
    "\n",
    "Je peux aussi ecrire dans la macro dbg!"
   ]
  },
  {
   "cell_type": "code",
   "execution_count": 7,
   "id": "answering-chicago",
   "metadata": {
    "deletable": false,
    "editable": false
   },
   "outputs": [
    {
     "name": "stderr",
     "output_type": "stream",
     "text": [
      "[src/lib.rs:13] return_one() + 10 = 11\n"
     ]
    }
   ],
   "source": [
    "dbg!(return_one() + 10);"
   ]
  },
  {
   "cell_type": "markdown",
   "id": "genetic-comparative",
   "metadata": {
    "deletable": false,
    "editable": false
   },
   "source": [
    "- Une fonction peut retourner tout types de variable comme des tuples ou des structures par exemple"
   ]
  },
  {
   "cell_type": "code",
   "execution_count": 8,
   "id": "american-atlas",
   "metadata": {
    "deletable": false,
    "editable": false
   },
   "outputs": [],
   "source": [
    "fn get_tuple() -> (u32, u32, f64) {\n",
    "    (1, 2, 3.14)\n",
    "}"
   ]
  },
  {
   "cell_type": "markdown",
   "id": "polished-muscle",
   "metadata": {
    "deletable": false,
    "editable": false
   },
   "source": [
    "## Les paramètres\n",
    "\n",
    "- Enfin, faisons maintenant une nouvelle fonction nommée **add_one** qui prendra un entier positif en paramètre:"
   ]
  },
  {
   "cell_type": "code",
   "execution_count": 9,
   "id": "senior-decimal",
   "metadata": {
    "deletable": false,
    "editable": false
   },
   "outputs": [],
   "source": [
    "// Ici on retourne un entier positif sur 4 octets relatif au parametre en entree\n",
    "fn add_one(value: u32) -> u32 {\n",
    "    value + 1\n",
    "}"
   ]
  },
  {
   "cell_type": "markdown",
   "id": "corporate-difference",
   "metadata": {
    "deletable": false,
    "editable": false
   },
   "source": [
    "**IMPORTANT** Contrairement à beaucoup d'autres langages, le nom du paramètre **DOIT** toujours s'écrire avec son type séparés par deux points `:`. Ainsi l'on aura toujours `VARNAME: TYPE` et non TYPE: VARNAME. Ce sera au départ une source d'erreurs de syntaxe fréquentes."
   ]
  },
  {
   "cell_type": "code",
   "execution_count": 10,
   "id": "unlimited-problem",
   "metadata": {
    "deletable": false,
    "editable": false
   },
   "outputs": [],
   "source": [
    "fn multiple_parameters(value: u32, tuple: (u8, u8), c: char, s: &str) -> () {\n",
    "    dbg!(value);\n",
    "    dbg!(tuple);\n",
    "    dbg!(c);\n",
    "    dbg!(s);\n",
    "    ()\n",
    "}"
   ]
  },
  {
   "cell_type": "markdown",
   "id": "interested-wallace",
   "metadata": {
    "deletable": false,
    "editable": false
   },
   "source": [
    "*Les paramètres sont séparés par des virgules `,`*"
   ]
  },
  {
   "cell_type": "code",
   "execution_count": 11,
   "id": "psychological-silicon",
   "metadata": {
    "deletable": false,
    "editable": false
   },
   "outputs": [
    {
     "name": "stderr",
     "output_type": "stream",
     "text": [
      "[src/lib.rs:16] value = 42\n",
      "[src/lib.rs:17] tuple = (\n",
      "    0,\n",
      ")\n",
      "    90,\n",
      "[src/lib.rs:18] c = '錆'\n",
      "[src/lib.rs:19] s = \"こんにちは元気ですか？\"\n"
     ]
    }
   ],
   "source": [
    "multiple_parameters(42, (0, 90), '錆', \"こんにちは元気ですか？\");"
   ]
  },
  {
   "cell_type": "markdown",
   "id": "beautiful-shift",
   "metadata": {
    "deletable": false,
    "editable": false
   },
   "source": [
    "## Instructions et expressions\n",
    "\n",
    "- Comme nous l'avons vu un peu plus haut sur les retours des fonctions, il est important de faire la différence entre une instruction et une expression. Une instruction exécute du code, mais ne retourne rien, elle est terminée généralement par un point-virgule, tandis qu'une expression retourne son résultat, elle n'a pas de point-virgule à la fin."
   ]
  },
  {
   "cell_type": "markdown",
   "id": "frequent-burton",
   "metadata": {
    "deletable": false,
    "editable": false
   },
   "source": [
    "### Instructions"
   ]
  },
  {
   "cell_type": "code",
   "execution_count": 12,
   "id": "initial-albany",
   "metadata": {
    "deletable": false,
    "editable": false
   },
   "outputs": [],
   "source": [
    "fn instructions() { // Cette fonction peut etre consideree comme une instruction, elle ne retourne rien\n",
    "    println!(\"Hello World\");\n",
    "    let a: u32 = 42;\n",
    "    dbg!(a);\n",
    "    println!(\"Nouvelle instruction\");\n",
    "}"
   ]
  },
  {
   "cell_type": "markdown",
   "id": "vocational-fluid",
   "metadata": {
    "deletable": false,
    "editable": false
   },
   "source": [
    "- Les instructions ne retournent pas de valeur, ainsi, il est impossible d'écrire cela."
   ]
  },
  {
   "cell_type": "code",
   "execution_count": 13,
   "id": "verbal-volleyball",
   "metadata": {
    "deletable": false,
    "editable": false
   },
   "outputs": [
    {
     "ename": "Error",
     "evalue": "expected expression, found `let` statement",
     "output_type": "error",
     "traceback": [
      "\u001b[31mError:\u001b[0m expected expression, found `let` statement",
      "   \u001b[38;5;246m╭\u001b[0m\u001b[38;5;246m─\u001b[0m\u001b[38;5;246m[\u001b[0mcommand_13:1:1\u001b[38;5;246m]\u001b[0m",
      "   \u001b[38;5;246m│\u001b[0m",
      " \u001b[38;5;246m2 │\u001b[0m \u001b[38;5;249m \u001b[0m\u001b[38;5;249m \u001b[0m\u001b[38;5;249m \u001b[0m\u001b[38;5;249m \u001b[0m\u001b[38;5;249ml\u001b[0m\u001b[38;5;249me\u001b[0m\u001b[38;5;249mt\u001b[0m\u001b[38;5;249m \u001b[0m\u001b[38;5;249mx\u001b[0m\u001b[38;5;249m \u001b[0m\u001b[38;5;249m=\u001b[0m\u001b[38;5;249m \u001b[0m\u001b[38;5;249m(\u001b[0m\u001b[38;5;54ml\u001b[0m\u001b[38;5;54me\u001b[0m\u001b[38;5;54mt\u001b[0m\u001b[38;5;249m \u001b[0m\u001b[38;5;249my\u001b[0m\u001b[38;5;249m \u001b[0m\u001b[38;5;249m=\u001b[0m\u001b[38;5;249m \u001b[0m\u001b[38;5;249m6\u001b[0m\u001b[38;5;249m)\u001b[0m\u001b[38;5;249m;\u001b[0m",
      " \u001b[38;5;246m  ·\u001b[0m              \u001b[38;5;54m─\u001b[0m\u001b[38;5;54m┬\u001b[0m\u001b[38;5;54m─\u001b[0m  ",
      " \u001b[38;5;246m  ·\u001b[0m               \u001b[38;5;54m╰\u001b[0m\u001b[38;5;54m─\u001b[0m\u001b[38;5;54m─\u001b[0m\u001b[38;5;54m─\u001b[0m error: expected expression, found `let` statement",
      "\u001b[38;5;246m───╯\u001b[0m"
     ]
    },
    {
     "ename": "Error",
     "evalue": "expected expression, found statement (`let`)",
     "output_type": "error",
     "traceback": [
      "\u001b[31mError:\u001b[0m expected expression, found statement (`let`)",
      "   \u001b[38;5;246m╭\u001b[0m\u001b[38;5;246m─\u001b[0m\u001b[38;5;246m[\u001b[0mcommand_13:1:1\u001b[38;5;246m]\u001b[0m",
      "   \u001b[38;5;246m│\u001b[0m",
      " \u001b[38;5;246m2 │\u001b[0m \u001b[38;5;249m \u001b[0m\u001b[38;5;249m \u001b[0m\u001b[38;5;249m \u001b[0m\u001b[38;5;249m \u001b[0m\u001b[38;5;249ml\u001b[0m\u001b[38;5;249me\u001b[0m\u001b[38;5;249mt\u001b[0m\u001b[38;5;249m \u001b[0m\u001b[38;5;249mx\u001b[0m\u001b[38;5;249m \u001b[0m\u001b[38;5;249m=\u001b[0m\u001b[38;5;249m \u001b[0m\u001b[38;5;249m(\u001b[0m\u001b[38;5;54ml\u001b[0m\u001b[38;5;54me\u001b[0m\u001b[38;5;54mt\u001b[0m\u001b[38;5;54m \u001b[0m\u001b[38;5;54my\u001b[0m\u001b[38;5;54m \u001b[0m\u001b[38;5;54m=\u001b[0m\u001b[38;5;54m \u001b[0m\u001b[38;5;54m6\u001b[0m\u001b[38;5;249m)\u001b[0m\u001b[38;5;249m;\u001b[0m",
      " \u001b[38;5;246m  ·\u001b[0m              \u001b[38;5;54m─\u001b[0m\u001b[38;5;54m─\u001b[0m\u001b[38;5;54m─\u001b[0m\u001b[38;5;54m─\u001b[0m\u001b[38;5;54m┬\u001b[0m\u001b[38;5;54m─\u001b[0m\u001b[38;5;54m─\u001b[0m\u001b[38;5;54m─\u001b[0m\u001b[38;5;54m─\u001b[0m  ",
      " \u001b[38;5;246m  ·\u001b[0m                  \u001b[38;5;54m╰\u001b[0m\u001b[38;5;54m─\u001b[0m\u001b[38;5;54m─\u001b[0m\u001b[38;5;54m─\u001b[0m\u001b[38;5;54m─\u001b[0m\u001b[38;5;54m─\u001b[0m\u001b[38;5;54m─\u001b[0m error: expected expression, found statement (`let`)",
      "\u001b[38;5;246m───╯\u001b[0m"
     ]
    },
    {
     "ename": "Error",
     "evalue": "`let` expressions in this position are unstable",
     "output_type": "error",
     "traceback": [
      "\u001b[31m[E0658] Error:\u001b[0m `let` expressions in this position are unstable",
      "   \u001b[38;5;246m╭\u001b[0m\u001b[38;5;246m─\u001b[0m\u001b[38;5;246m[\u001b[0mcommand_13:1:1\u001b[38;5;246m]\u001b[0m",
      "   \u001b[38;5;246m│\u001b[0m",
      " \u001b[38;5;246m2 │\u001b[0m \u001b[38;5;249m \u001b[0m\u001b[38;5;249m \u001b[0m\u001b[38;5;249m \u001b[0m\u001b[38;5;249m \u001b[0m\u001b[38;5;249ml\u001b[0m\u001b[38;5;249me\u001b[0m\u001b[38;5;249mt\u001b[0m\u001b[38;5;249m \u001b[0m\u001b[38;5;249mx\u001b[0m\u001b[38;5;249m \u001b[0m\u001b[38;5;249m=\u001b[0m\u001b[38;5;249m \u001b[0m\u001b[38;5;249m(\u001b[0m\u001b[38;5;54ml\u001b[0m\u001b[38;5;54me\u001b[0m\u001b[38;5;54mt\u001b[0m\u001b[38;5;54m \u001b[0m\u001b[38;5;54my\u001b[0m\u001b[38;5;54m \u001b[0m\u001b[38;5;54m=\u001b[0m\u001b[38;5;54m \u001b[0m\u001b[38;5;54m6\u001b[0m\u001b[38;5;249m)\u001b[0m\u001b[38;5;249m;\u001b[0m",
      " \u001b[38;5;246m  ·\u001b[0m              \u001b[38;5;54m─\u001b[0m\u001b[38;5;54m─\u001b[0m\u001b[38;5;54m─\u001b[0m\u001b[38;5;54m─\u001b[0m\u001b[38;5;54m┬\u001b[0m\u001b[38;5;54m─\u001b[0m\u001b[38;5;54m─\u001b[0m\u001b[38;5;54m─\u001b[0m\u001b[38;5;54m─\u001b[0m  ",
      " \u001b[38;5;246m  ·\u001b[0m                  \u001b[38;5;54m╰\u001b[0m\u001b[38;5;54m─\u001b[0m\u001b[38;5;54m─\u001b[0m\u001b[38;5;54m─\u001b[0m\u001b[38;5;54m─\u001b[0m\u001b[38;5;54m─\u001b[0m\u001b[38;5;54m─\u001b[0m error: `let` expressions in this position are unstable",
      "\u001b[38;5;246m───╯\u001b[0m"
     ]
    },
    {
     "ename": "Error",
     "evalue": "unnecessary parentheses around assigned value",
     "output_type": "error",
     "traceback": [
      "\u001b[31m[unused_parens] Error:\u001b[0m unnecessary parentheses around assigned value"
     ]
    }
   ],
   "source": [
    "fn main() {\n",
    "    let x = (let y = 6);\n",
    "}"
   ]
  },
  {
   "cell_type": "markdown",
   "id": "prescription-portfolio",
   "metadata": {
    "deletable": false,
    "editable": false
   },
   "source": [
    "**`let x = 6` étant une instruction sans valeur retournée donc, on ne peut pas assigner x.**  \n",
    "\n",
    "Ainsi les écritures du style C telles `int a = b = 3;` ne fonctionnent pas en Rust."
   ]
  },
  {
   "cell_type": "markdown",
   "id": "outer-software",
   "metadata": {
    "deletable": false,
    "editable": false
   },
   "source": [
    "### Expressions\n",
    "\n",
    "- Contrairement aux instructions, une expression retourne une valeur, elle n'a jamais de point-virgule à la fin. Prenons ces exemples."
   ]
  },
  {
   "cell_type": "code",
   "execution_count": 14,
   "id": "incredible-consequence",
   "metadata": {
    "deletable": false,
    "editable": false
   },
   "outputs": [
    {
     "name": "stdout",
     "output_type": "stream",
     "text": [
      "La valeur de x est : 6\n"
     ]
    }
   ],
   "source": [
    "fn expr(s: &str) -> u32 { // Cette fonction peut etre consideree comme une expression\n",
    "    42\n",
    "}\n",
    "\n",
    "let x = {\n",
    "    let y = 6; // Instruction\n",
    "    y          // Expression\n",
    "};\n",
    "println!(\"La valeur de x est : {}\", x);"
   ]
  },
  {
   "cell_type": "markdown",
   "id": "developing-trace",
   "metadata": {
    "deletable": false,
    "editable": false
   },
   "source": [
    "*Ce bloc constitue une expression.*\n",
    "\n",
    "> ```\n",
    "> {\n",
    ">     let y = 6;\n",
    ">     y\n",
    "> }\n",
    "> ```\n",
    "\n",
    "**On donne comme valeur de x le retour du bloc d'expression.**"
   ]
  },
  {
   "cell_type": "markdown",
   "id": "incident-petersburg",
   "metadata": {
    "deletable": false,
    "editable": false
   },
   "source": [
    "## Exercice"
   ]
  },
  {
   "cell_type": "markdown",
   "id": "urban-planet",
   "metadata": {
    "deletable": false,
    "editable": false
   },
   "source": [
    "### Proposer un prototype et un corps pour la fonction called"
   ]
  },
  {
   "cell_type": "code",
   "execution_count": 4,
   "id": "rocky-minute",
   "metadata": {
    "deletable": false,
    "editable": false,
    "scrolled": true
   },
   "outputs": [
    {
     "ename": "Error",
     "evalue": "cannot find function `called` in this scope",
     "output_type": "error",
     "traceback": [
      "\u001b[31m[E0425] Error:\u001b[0m cannot find function `called` in this scope",
      "   \u001b[38;5;246m╭\u001b[0m\u001b[38;5;246m─\u001b[0m\u001b[38;5;246m[\u001b[0mcommand_4:1:1\u001b[38;5;246m]\u001b[0m",
      "   \u001b[38;5;246m│\u001b[0m",
      " \u001b[38;5;246m4 │\u001b[0m \u001b[38;5;249ml\u001b[0m\u001b[38;5;249me\u001b[0m\u001b[38;5;249mt\u001b[0m\u001b[38;5;249m \u001b[0m\u001b[38;5;249mo\u001b[0m\u001b[38;5;249mu\u001b[0m\u001b[38;5;249mt\u001b[0m\u001b[38;5;249mp\u001b[0m\u001b[38;5;249mu\u001b[0m\u001b[38;5;249mt\u001b[0m\u001b[38;5;249m:\u001b[0m\u001b[38;5;249m \u001b[0m\u001b[38;5;249mu\u001b[0m\u001b[38;5;249ms\u001b[0m\u001b[38;5;249mi\u001b[0m\u001b[38;5;249mz\u001b[0m\u001b[38;5;249me\u001b[0m\u001b[38;5;249m \u001b[0m\u001b[38;5;249m=\u001b[0m\u001b[38;5;249m \u001b[0m\u001b[38;5;54mc\u001b[0m\u001b[38;5;54ma\u001b[0m\u001b[38;5;54ml\u001b[0m\u001b[38;5;54ml\u001b[0m\u001b[38;5;54me\u001b[0m\u001b[38;5;54md\u001b[0m\u001b[38;5;249m(\u001b[0m\u001b[38;5;249mx\u001b[0m\u001b[38;5;249m,\u001b[0m\u001b[38;5;249m \u001b[0m\u001b[38;5;249my\u001b[0m\u001b[38;5;249m,\u001b[0m\u001b[38;5;249m \u001b[0m\u001b[38;5;249mz\u001b[0m\u001b[38;5;249m)\u001b[0m\u001b[38;5;249m;\u001b[0m",
      " \u001b[38;5;246m  ·\u001b[0m                     \u001b[38;5;54m─\u001b[0m\u001b[38;5;54m─\u001b[0m\u001b[38;5;54m─\u001b[0m\u001b[38;5;54m┬\u001b[0m\u001b[38;5;54m─\u001b[0m\u001b[38;5;54m─\u001b[0m  ",
      " \u001b[38;5;246m  ·\u001b[0m                        \u001b[38;5;54m╰\u001b[0m\u001b[38;5;54m─\u001b[0m\u001b[38;5;54m─\u001b[0m\u001b[38;5;54m─\u001b[0m\u001b[38;5;54m─\u001b[0m not found in this scope",
      "\u001b[38;5;246m───╯\u001b[0m"
     ]
    }
   ],
   "source": [
    "let x: u32 = 12;\n",
    "let y: f64 = 3.1;\n",
    "let z: (u8, u8) = (1, 2);\n",
    "let output: usize = called(x, y, z);\n",
    "dbg!(output);"
   ]
  },
  {
   "cell_type": "code",
   "execution_count": 25,
   "id": "satisfied-immunology",
   "metadata": {
    "solution2": "hidden",
    "solution2_first": true
   },
   "outputs": [],
   "source": [
    "fn called() -> () { } // FIX AND RUN IT"
   ]
  },
  {
   "cell_type": "markdown",
   "id": "small-founder",
   "metadata": {
    "deletable": false,
    "editable": false,
    "solution2": "hidden"
   },
   "source": [
    "> ```\n",
    "> fn called(x: u32, y: f64, z: (u8, u8)) -> usize {\n",
    ">     42\n",
    "> }\n",
    "> ```"
   ]
  }
 ],
 "metadata": {
  "kernelspec": {
   "display_name": "Rust",
   "language": "rust",
   "name": "rust"
  },
  "language_info": {
   "codemirror_mode": "rust",
   "file_extension": ".rs",
   "mimetype": "text/rust",
   "name": "Rust",
   "pygment_lexer": "rust",
   "version": ""
  },
  "toc": {
   "base_numbering": "3",
   "nav_menu": {
    "height": "208px",
    "width": "448.333px"
   },
   "number_sections": true,
   "sideBar": true,
   "skip_h1_title": false,
   "title_cell": "Table of Contents",
   "title_sidebar": "Contents",
   "toc_cell": false,
   "toc_position": {
    "height": "760.5px",
    "left": "31px",
    "top": "67.3333px",
    "width": "352px"
   },
   "toc_section_display": true,
   "toc_window_display": false
  }
 },
 "nbformat": 4,
 "nbformat_minor": 5
}
