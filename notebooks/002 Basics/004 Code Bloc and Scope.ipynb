{
 "cells": [
  {
   "cell_type": "markdown",
   "id": "formal-lemon",
   "metadata": {
    "deletable": false,
    "editable": false
   },
   "source": [
    "# Les blocs et le scope\n",
    "\n",
    "---\n",
    "\n",
    "> À l'instar de nombreux autres langages de programmation, Les `blocs` débutent par un bracket ouvrant `{` et terminent par un bracket fermant `}`, ils sont partie integrante de la syntaxe et de la logique de Rust.\n",
    "\n",
    "> L'existance des blocs induit la notion de `scope`. Le \"scope\" en Rust se réfère à la portée d'une variable, définissant ainsi les parties du code où la variable est valide et accessible, ce qui permet d'assurer une gestion précise de la durée de vie des objets."
   ]
  },
  {
   "cell_type": "markdown",
   "id": "headed-ridge",
   "metadata": {
    "deletable": false,
    "editable": false
   },
   "source": [
    "## Les blocs nécessaires\n",
    "\n",
    "### Le bloc des fonctions\n",
    "\n",
    "- Un des blocs les plus familiers aux programmeurs est celui des `fonctions`. Ils sont nécessaires pour chaque définition de fonction :"
   ]
  },
  {
   "cell_type": "code",
   "execution_count": 42,
   "id": "prescription-debut",
   "metadata": {
    "deletable": false,
    "editable": false
   },
   "outputs": [],
   "source": [
    "fn main() { // bracket ouvrant\n",
    "    println!(\"Hello World !\");\n",
    "} // bracket fermant"
   ]
  },
  {
   "cell_type": "markdown",
   "id": "incredible-conversation",
   "metadata": {
    "deletable": false,
    "editable": false
   },
   "source": [
    "> Toute définition d'une fonction sera contenue dans un bloc de code `fn ma_function(parameters...) -> return value { instructions... }`"
   ]
  },
  {
   "cell_type": "markdown",
   "id": "orange-feature",
   "metadata": {
    "deletable": false,
    "editable": false
   },
   "source": [
    "- Cependant, si l'on se contente de déclarer qu'une fonction existe (FFI par exemple), on ne doit pas les mettre :"
   ]
  },
  {
   "cell_type": "code",
   "execution_count": 2,
   "id": "rational-boutique",
   "metadata": {
    "deletable": false,
    "editable": false
   },
   "outputs": [
    {
     "data": {
      "text/plain": [
       "()"
      ]
     },
     "execution_count": 2,
     "metadata": {},
     "output_type": "execute_result"
    }
   ],
   "source": [
    "{\n",
    "    extern \"C\" {\n",
    "        // Le linker se chargera d'associer une adresse a cette fonction.\n",
    "        pub fn get_inner_len(t1: *mut ::std::os::raw::c_void) -> ::std::os::raw::c_int; // pas de bloc\n",
    "    }\n",
    "}"
   ]
  },
  {
   "cell_type": "markdown",
   "id": "extensive-advocate",
   "metadata": {
    "deletable": false,
    "editable": false
   },
   "source": [
    "### Le bloc des méthodes\n",
    "\n",
    "- Tout comme les fonctions, les `méthodes` de nos types seront implémentées dans un bloc :"
   ]
  },
  {
   "cell_type": "code",
   "execution_count": 16,
   "id": "covered-original",
   "metadata": {
    "deletable": false,
    "editable": false
   },
   "outputs": [
    {
     "data": {
      "text/plain": [
       "()"
      ]
     },
     "execution_count": 16,
     "metadata": {},
     "output_type": "execute_result"
    }
   ],
   "source": [
    "{\n",
    "    struct S {}\n",
    "    impl S {\n",
    "        fn do_nothing(&self) {\n",
    "            // bloc de la methode\n",
    "        }\n",
    "    }\n",
    "}"
   ]
  },
  {
   "cell_type": "markdown",
   "id": "indie-horror",
   "metadata": {},
   "source": [
    "### Le bloc des closures\n",
    "\n",
    "- Nous le verrons plus tard, mais pour les `closures`, un bloc est nécessaire seulement si la closure contient plus d'une seule instruction :"
   ]
  },
  {
   "cell_type": "code",
   "execution_count": 9,
   "id": "purple-mumbai",
   "metadata": {
    "deletable": false,
    "editable": false
   },
   "outputs": [
    {
     "data": {
      "text/plain": [
       "()"
      ]
     },
     "execution_count": 9,
     "metadata": {},
     "output_type": "execute_result"
    }
   ],
   "source": [
    "{\n",
    "    let closure_1 = |param: u32| {\n",
    "        println!(\"Do something\");\n",
    "        42\n",
    "    };\n",
    "    let closure_2 = |param: u32| 42; // bloc inutile\n",
    "}"
   ]
  },
  {
   "cell_type": "markdown",
   "id": "billion-surge",
   "metadata": {
    "deletable": false,
    "editable": false
   },
   "source": [
    "### Le bloc des implementations\n",
    "\n",
    "- Chaque implementation (avec le mot-clef `impl`) nécessitera un bloc ;"
   ]
  },
  {
   "cell_type": "code",
   "execution_count": 15,
   "id": "sufficient-score",
   "metadata": {
    "deletable": false,
    "editable": false
   },
   "outputs": [
    {
     "data": {
      "text/plain": [
       "()"
      ]
     },
     "execution_count": 15,
     "metadata": {},
     "output_type": "execute_result"
    }
   ],
   "source": [
    "{\n",
    "    struct S {}\n",
    "    impl S {\n",
    "        // bloc d'implementation\n",
    "    }\n",
    "    \n",
    "    impl Drop for S {\n",
    "        // bloc d'implementation\n",
    "        fn drop(&mut self) {\n",
    "            // bloc de methode ici\n",
    "        }\n",
    "    }\n",
    "    unsafe impl Send for S {}\n",
    "}"
   ]
  },
  {
   "cell_type": "markdown",
   "id": "swedish-brisbane",
   "metadata": {
    "deletable": false,
    "editable": false
   },
   "source": [
    "### Le bloc des définitions de type\n",
    "\n",
    "- La définition de type `structure` ou `enumeration` nécessitent aussi des blocs, sauf tuple struct et marqueur (qui necessitent un point virgule `;` a la fin en contrepartie) :"
   ]
  },
  {
   "cell_type": "code",
   "execution_count": 48,
   "id": "boring-malta",
   "metadata": {
    "deletable": false,
    "editable": false
   },
   "outputs": [
    {
     "data": {
      "text/plain": [
       "()"
      ]
     },
     "execution_count": 48,
     "metadata": {},
     "output_type": "execute_result"
    }
   ],
   "source": [
    "{\n",
    "    struct S {\n",
    "        // bloc d'implementation\n",
    "    }\n",
    "    enum E {\n",
    "        // bloc d'implementation\n",
    "    }\n",
    "    \n",
    "    struct T(u8, u8); // Pas de bloc mais necessite un point virgule a la fin en contrepartie\n",
    "    struct U; // pas de bloc mais necessite un point virgule a la fin en contrepartie\n",
    "}"
   ]
  },
  {
   "cell_type": "markdown",
   "id": "musical-portrait",
   "metadata": {
    "deletable": false,
    "editable": false
   },
   "source": [
    "### Le bloc des boucles\n",
    "\n",
    "- En rust, les blocs sont obligatoires pour les boucles que sont `while`, `loop`  et `for` :"
   ]
  },
  {
   "cell_type": "code",
   "execution_count": 41,
   "id": "specific-origin",
   "metadata": {
    "deletable": false,
    "editable": false
   },
   "outputs": [
    {
     "data": {
      "text/plain": [
       "()"
      ]
     },
     "execution_count": 41,
     "metadata": {},
     "output_type": "execute_result"
    }
   ],
   "source": [
    "{\n",
    "    let mut i = 42;\n",
    "    while i != 0 { // bloc\n",
    "        i -= 1;\n",
    "    }\n",
    "    loop { // bloc\n",
    "        break;\n",
    "    }\n",
    "    for i in 0..3 {\n",
    "        // bloc\n",
    "    }\n",
    "}"
   ]
  },
  {
   "cell_type": "markdown",
   "id": "transsexual-indie",
   "metadata": {
    "deletable": false,
    "editable": false
   },
   "source": [
    "### Le bloc des conditions\n",
    "\n",
    "- Tout comme les blocs des boucles, il ne peut y avoir en rust de `if`, `else` sans ouverture de bracket :"
   ]
  },
  {
   "cell_type": "code",
   "execution_count": 14,
   "id": "large-present",
   "metadata": {
    "deletable": false,
    "editable": false
   },
   "outputs": [
    {
     "data": {
      "text/plain": [
       "()"
      ]
     },
     "execution_count": 14,
     "metadata": {},
     "output_type": "execute_result"
    }
   ],
   "source": [
    "{\n",
    "    let i = 4;\n",
    "    if i == 3 {\n",
    "        // bloc\n",
    "    } else if i == 2 {\n",
    "        // bloc\n",
    "    } else {\n",
    "        // bloc\n",
    "    }\n",
    "    \n",
    "    // if i == true                  // Erreur de syntaxe\n",
    "    //    println!(\"Bananes\");\n",
    "}"
   ]
  },
  {
   "cell_type": "markdown",
   "id": "timely-payment",
   "metadata": {
    "deletable": false,
    "editable": false
   },
   "source": [
    "### Le bloc de `if let` et de `while let` \n",
    "\n",
    "- Comme il s'agit de condition et de boucles, les mêmes règles s'y appliqueront, l'obligation d'ouvrir un bloc :"
   ]
  },
  {
   "cell_type": "code",
   "execution_count": 19,
   "id": "sustainable-protest",
   "metadata": {
    "deletable": false,
    "editable": false
   },
   "outputs": [
    {
     "data": {
      "text/plain": [
       "()"
      ]
     },
     "execution_count": 19,
     "metadata": {},
     "output_type": "execute_result"
    }
   ],
   "source": [
    "{\n",
    "    let my_opt: Option<u32> = Some(42);\n",
    "    if let Some(value) = my_opt {\n",
    "        // bloc\n",
    "    }\n",
    "    let my_array = [1, 2, 3];\n",
    "    let mut my_array_iterator = my_array.iter();\n",
    "    while let Some(elem) = my_array_iterator.next() {\n",
    "        // bloc\n",
    "    }\n",
    "}"
   ]
  },
  {
   "cell_type": "markdown",
   "id": "sufficient-kuwait",
   "metadata": {
    "deletable": false,
    "editable": false
   },
   "source": [
    "### Le bloc du `match`\n",
    "\n",
    "- D'abord, un match ouvre obligatoirement un bloc. Ensuite, comme pour les closures, les sous-blocs ne sont obligatoires que pour les sections contenant plus d'une seule instruction :"
   ]
  },
  {
   "cell_type": "code",
   "execution_count": 44,
   "id": "coated-structure",
   "metadata": {
    "deletable": false,
    "editable": false
   },
   "outputs": [
    {
     "name": "stdout",
     "output_type": "stream",
     "text": [
      "je ne connais pas ce fruit ...\n",
      "... mais aimes-tu vraiment les bananes au moins ?\n"
     ]
    },
    {
     "data": {
      "text/plain": [
       "()"
      ]
     },
     "execution_count": 44,
     "metadata": {},
     "output_type": "execute_result"
    }
   ],
   "source": [
    "{\n",
    "    let fruit = \"bananes\";\n",
    "    let calorie = match fruit { // je dois ouvrir un bloc ici !\n",
    "        \"carotte\" => 300, // pas besoin de bloc\n",
    "        \"poire\" => 150, // pas besoin de bloc\n",
    "        \"tomate\" => {\n",
    "            println!(\"Tu aimes les tomates\");\n",
    "            400 // deux lignes donc le bloc est necessaire\n",
    "        }\n",
    "        _defaut => {\n",
    "            println!(\"je ne connais pas ce fruit ...\");\n",
    "            println!(\"... mais aimes-tu vraiment les {} au moins ?\", _defaut);\n",
    "            0  // retour du cas par defaut\n",
    "        }\n",
    "    };\n",
    "}"
   ]
  },
  {
   "cell_type": "markdown",
   "id": "impaired-sociology",
   "metadata": {
    "deletable": false,
    "editable": false
   },
   "source": [
    "### Le bloc des modules / namespaces\n",
    "\n",
    "- On ne peut **définir** un `module` sans ouvrir de bloc :"
   ]
  },
  {
   "cell_type": "code",
   "execution_count": 43,
   "id": "virtual-ordering",
   "metadata": {
    "deletable": false,
    "editable": false
   },
   "outputs": [
    {
     "data": {
      "text/plain": [
       "()"
      ]
     },
     "execution_count": 43,
     "metadata": {},
     "output_type": "execute_result"
    }
   ],
   "source": [
    "{\n",
    "    mod test {\n",
    "        // bloc du module\n",
    "    }\n",
    "}"
   ]
  },
  {
   "cell_type": "markdown",
   "id": "compact-classic",
   "metadata": {
    "deletable": false,
    "editable": false
   },
   "source": [
    "> *Il existe d'autres types de bloc dont je ne parlerai pas ici.*"
   ]
  },
  {
   "cell_type": "markdown",
   "id": "negative-cameroon",
   "metadata": {
    "deletable": false,
    "editable": false
   },
   "source": [
    "## Les blocs et durée de vie\n",
    "\n",
    "- Il arrive que l'on déclare un bloc afin d'être certain que les fonctions, les variables, etc .... définies à l'intérieur de ce dernier ne seront plus accessibles depuis l'extérieur de ce bloc. Ce bloc constitue un `scope` :"
   ]
  },
  {
   "cell_type": "code",
   "execution_count": 45,
   "id": "steady-matrix",
   "metadata": {
    "deletable": false,
    "editable": false
   },
   "outputs": [
    {
     "name": "stderr",
     "output_type": "stream",
     "text": [
      "[src/lib.rs:11] &s = \"ma_string\"\n"
     ]
    },
    {
     "name": "stdout",
     "output_type": "stream",
     "text": [
      "Hello world!\n"
     ]
    }
   ],
   "source": [
    "fn main() {\n",
    "    { // j'ouvre un bloc\n",
    "        let s: String = \"ma_string\".into();\n",
    "        dbg!(&s);\n",
    "    }\n",
    "    // ma variable s n'existe plus ici, elle est `out of scope`\n",
    "    println!(\"Hello world!\");\n",
    "}\n",
    "main();"
   ]
  },
  {
   "cell_type": "markdown",
   "id": "acute-toddler",
   "metadata": {
    "deletable": false,
    "editable": false
   },
   "source": [
    "> C'est d'ailleurs pour cette raison que je mets ici, sur Jupyter, les sections de code dans des blocs."
   ]
  },
  {
   "cell_type": "code",
   "execution_count": 47,
   "id": "accompanied-identity",
   "metadata": {
    "deletable": false,
    "editable": false
   },
   "outputs": [
    {
     "name": "stderr",
     "output_type": "stream",
     "text": [
      "[src/lib.rs:14] &s = \"banane\"\n",
      "[src/lib.rs:18] &i = 42\n",
      "[src/lib.rs:20] &i = 42\n",
      "[src/lib.rs:23] &s = \"banane\"\n"
     ]
    }
   ],
   "source": [
    "fn exemple() {\n",
    "    // ici debute le scope de la fonction exemple\n",
    "    let s: String = \"banane\".into(); // ma variable s vivra dans tout le bloc de la fonction ...\n",
    "                                     // ... sauf en cas de \"move\". (mais on en fera pas dans cet exemple) \n",
    "    {\n",
    "        // j'ai ouvert un nouveau bloc\n",
    "        dbg!(&s); // A l'interieur de mon sous-bloc, j'ai toujours acces a s qui vient du scope parent\n",
    "        let i = 42; // La variable i ici ne vivra que dans ce sous-bloc et ses enfants\n",
    "        {\n",
    "            // Encore un sous bloc\n",
    "            dbg!(&i); // i est accessible\n",
    "        }\n",
    "        dbg!(&i); // i est accessible ici aussi\n",
    "    }\n",
    "    // la variable i du sous-bloc precedent n'est plus dans le scope. je ne peux pas la lire ici.\n",
    "    dbg!(&s); // Par contre, ma string s est toujouts valide puisque declaree au debut de ce bloc.\n",
    "}\n",
    "exemple();\n",
    "// Sans surprise, je n'ai acces ici ni a la string s et encore moins a la variable i !\n",
    "// De plus, une fonction ne peut pas capturer son environnement."
   ]
  },
  {
   "cell_type": "markdown",
   "id": "failing-karma",
   "metadata": {
    "deletable": false,
    "editable": false
   },
   "source": [
    "## Le bloc d'assignation\n",
    "\n",
    "- Enfin. Il existe la possibilité d'ouvrir un bloc pour assigner des variables avec plusieurs instructions:"
   ]
  },
  {
   "cell_type": "code",
   "execution_count": 40,
   "id": "reasonable-desert",
   "metadata": {
    "deletable": false,
    "editable": false
   },
   "outputs": [
    {
     "name": "stdout",
     "output_type": "stream",
     "text": [
      "Woot ?\n"
     ]
    },
    {
     "name": "stderr",
     "output_type": "stream",
     "text": [
      "[src/lib.rs:142] ma_var = 42\n"
     ]
    },
    {
     "data": {
      "text/plain": [
       "()"
      ]
     },
     "execution_count": 40,
     "metadata": {},
     "output_type": "execute_result"
    }
   ],
   "source": [
    "{\n",
    "    let ma_var = { // Bloc d'assignation\n",
    "        println!(\"Woot ?\"); // une instruction\n",
    "        42 // le retour de mon bloc\n",
    "    };\n",
    "    dbg!(ma_var);\n",
    "}"
   ]
  },
  {
   "cell_type": "markdown",
   "id": "neural-participant",
   "metadata": {
    "deletable": false,
    "editable": false
   },
   "source": [
    "**NB : NOUS POUVONS CONSTATER AVEC LES EXEMPLES PRÉSENTES ICI QU'UN BLOC PEUT RETOURNER QUELQUE CHOSE, ON DIT QUE CE BLOC EST UNE EXPRESSION. NOUS VERRONS CELA PLUS EN DÉTAIL LORS DE LA PRÉSENTATION DES CONCEPTS CLEF DE RUST.**"
   ]
  }
 ],
 "metadata": {
  "kernelspec": {
   "display_name": "Rust",
   "language": "rust",
   "name": "rust"
  },
  "language_info": {
   "codemirror_mode": "rust",
   "file_extension": ".rs",
   "mimetype": "text/rust",
   "name": "Rust",
   "pygment_lexer": "rust",
   "version": ""
  },
  "toc": {
   "base_numbering": "4",
   "nav_menu": {},
   "number_sections": true,
   "sideBar": true,
   "skip_h1_title": false,
   "title_cell": "Table of Contents",
   "title_sidebar": "Contents",
   "toc_cell": false,
   "toc_position": {
    "height": "538.2px",
    "left": "55px",
    "top": "66.2667px",
    "width": "268.8px"
   },
   "toc_section_display": true,
   "toc_window_display": false
  }
 },
 "nbformat": 4,
 "nbformat_minor": 5
}
