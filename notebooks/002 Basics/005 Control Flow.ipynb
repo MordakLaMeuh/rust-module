{
 "cells": [
  {
   "cell_type": "markdown",
   "id": "suited-designation",
   "metadata": {
    "deletable": false,
    "editable": false
   },
   "source": [
    "# ___Les structures de contrôle___\n",
    "\n",
    "---"
   ]
  },
  {
   "cell_type": "markdown",
   "id": "saving-delivery",
   "metadata": {
    "deletable": false,
    "editable": false
   },
   "source": [
    "## `if`, `else` & `else if`\n",
    "\n",
    "- Par rapports aux autres langages, il n'y a rien de bien nouveau, si ce n'est que les **parenthèses autour de l'expression booleenne sont inutiles** et que les **brackets sont obligatoires** pour le bloc `{ ... }`. "
   ]
  },
  {
   "cell_type": "code",
   "execution_count": 2,
   "id": "coral-clarity",
   "metadata": {
    "deletable": false,
    "editable": false
   },
   "outputs": [
    {
     "name": "stdout",
     "output_type": "stream",
     "text": [
      "8\n",
      "8 et a: true\n"
     ]
    },
    {
     "data": {
      "text/plain": [
       "()"
      ]
     },
     "execution_count": 2,
     "metadata": {},
     "output_type": "execute_result"
    }
   ],
   "source": [
    "fn conditions() {\n",
    "    let n: u32 = 11 - 3;\n",
    "    if n == 8 {\n",
    "        println!(\"8\");    \n",
    "    } else if (n > 8) {\n",
    "        println!(\">8: {}\", n)\n",
    "    } else {\n",
    "        println!(\"<8: {}\", n)\n",
    "    }\n",
    "    let a = true;\n",
    "    if n == 8 && a == true {\n",
    "        println!(\"8 et a: true\");    \n",
    "    }\n",
    "}\n",
    "conditions()"
   ]
  },
  {
   "cell_type": "markdown",
   "id": "impaired-houston",
   "metadata": {
    "deletable": false,
    "editable": false
   },
   "source": [
    "*Ce code compile correctement, le compilateur va juste émettre un warning concernant les parenthèses inutiles ligne 5.*"
   ]
  },
  {
   "cell_type": "markdown",
   "id": "clinical-library",
   "metadata": {
    "deletable": false,
    "editable": false
   },
   "source": [
    "![WARN_USELESS](pictures/useless_parent.png)"
   ]
  },
  {
   "cell_type": "markdown",
   "id": "pointed-farmer",
   "metadata": {
    "deletable": false,
    "editable": false
   },
   "source": [
    "- Par contre, si j'omets les brackets, le compilateur ne donnera pas qu'un simple warning, mais une erreur. On évite ainsi un écueil existant dans bien d'autres langages, la creation de bugs lorsque l'on rajoute une ligne après une condition..."
   ]
  },
  {
   "cell_type": "code",
   "execution_count": 3,
   "id": "prescription-situation",
   "metadata": {
    "deletable": false,
    "editable": false
   },
   "outputs": [
    {
     "ename": "Error",
     "evalue": "expected `{`, found `println`",
     "output_type": "error",
     "traceback": [
      "\u001b[31mError:\u001b[0m expected `{`, found `println`",
      "   \u001b[38;5;246m╭\u001b[0m\u001b[38;5;246m─\u001b[0m\u001b[38;5;246m[\u001b[0mcommand_3:1:1\u001b[38;5;246m]\u001b[0m",
      "   \u001b[38;5;246m│\u001b[0m",
      " \u001b[38;5;246m8 │\u001b[0m \u001b[38;5;249m \u001b[0m\u001b[38;5;249m \u001b[0m\u001b[38;5;249m \u001b[0m\u001b[38;5;249m \u001b[0m\u001b[38;5;249m \u001b[0m\u001b[38;5;249m \u001b[0m\u001b[38;5;249m \u001b[0m\u001b[38;5;249m \u001b[0m\u001b[38;5;54mp\u001b[0m\u001b[38;5;54mr\u001b[0m\u001b[38;5;54mi\u001b[0m\u001b[38;5;54mn\u001b[0m\u001b[38;5;54mt\u001b[0m\u001b[38;5;54ml\u001b[0m\u001b[38;5;54mn\u001b[0m\u001b[38;5;249m!\u001b[0m\u001b[38;5;249m(\u001b[0m\u001b[38;5;249m\"\u001b[0m\u001b[38;5;249m<\u001b[0m\u001b[38;5;249m8\u001b[0m\u001b[38;5;249m:\u001b[0m\u001b[38;5;249m \u001b[0m\u001b[38;5;249m{\u001b[0m\u001b[38;5;249m}\u001b[0m\u001b[38;5;249m\"\u001b[0m\u001b[38;5;249m,\u001b[0m\u001b[38;5;249m \u001b[0m\u001b[38;5;249mn\u001b[0m\u001b[38;5;249m)\u001b[0m\u001b[38;5;249m \u001b[0m\u001b[38;5;249m/\u001b[0m\u001b[38;5;249m/\u001b[0m\u001b[38;5;249m \u001b[0m\u001b[38;5;249mO\u001b[0m\u001b[38;5;249mm\u001b[0m\u001b[38;5;249mi\u001b[0m\u001b[38;5;249ms\u001b[0m\u001b[38;5;249ms\u001b[0m\u001b[38;5;249mi\u001b[0m\u001b[38;5;249mo\u001b[0m\u001b[38;5;249mn\u001b[0m\u001b[38;5;249m \u001b[0m\u001b[38;5;249md\u001b[0m\u001b[38;5;249me\u001b[0m\u001b[38;5;249ms\u001b[0m\u001b[38;5;249m \u001b[0m\u001b[38;5;249mb\u001b[0m\u001b[38;5;249mr\u001b[0m\u001b[38;5;249ma\u001b[0m\u001b[38;5;249mc\u001b[0m\u001b[38;5;249mk\u001b[0m\u001b[38;5;249me\u001b[0m\u001b[38;5;249mt\u001b[0m\u001b[38;5;249ms\u001b[0m\u001b[38;5;249m \u001b[0m\u001b[38;5;249m!\u001b[0m",
      " \u001b[38;5;246m  ·\u001b[0m         \u001b[38;5;54m─\u001b[0m\u001b[38;5;54m─\u001b[0m\u001b[38;5;54m─\u001b[0m\u001b[38;5;54m┬\u001b[0m\u001b[38;5;54m─\u001b[0m\u001b[38;5;54m─\u001b[0m\u001b[38;5;54m─\u001b[0m  ",
      " \u001b[38;5;246m  ·\u001b[0m            \u001b[38;5;54m╰\u001b[0m\u001b[38;5;54m─\u001b[0m\u001b[38;5;54m─\u001b[0m\u001b[38;5;54m─\u001b[0m\u001b[38;5;54m─\u001b[0m\u001b[38;5;54m─\u001b[0m expected `{`",
      "\u001b[38;5;246m───╯\u001b[0m"
     ]
    },
    {
     "ename": "Error",
     "evalue": "unnecessary parentheses around `if` condition",
     "output_type": "error",
     "traceback": [
      "\u001b[31m[unused_parens] Error:\u001b[0m unnecessary parentheses around `if` condition"
     ]
    }
   ],
   "source": [
    "fn conditions_2() {\n",
    "    let n: u32 = 11 - 3;\n",
    "    if n == 8 {\n",
    "        println!(\"8\");    \n",
    "    } else if (n > 8) {\n",
    "        println!(\">8: {}\", n)\n",
    "    } else\n",
    "        println!(\"<8: {}\", n) // Omission des brackets !\n",
    "    let a = true;\n",
    "    if n == 8 && a == true {\n",
    "        println!(\"8 et a: true\");    \n",
    "    }\n",
    "}\n",
    "conditions_2()"
   ]
  },
  {
   "cell_type": "markdown",
   "id": "short-loading",
   "metadata": {
    "deletable": false,
    "editable": false
   },
   "source": [
    "*Notez qu'il n'y a pas de switch case en Rust, il est remplacé par quelque chose de beaucoup plus puissant, le pattern matching, nous l'aborderons un peu plus tard.*"
   ]
  },
  {
   "cell_type": "markdown",
   "id": "respective-uncle",
   "metadata": {
    "deletable": false,
    "editable": false
   },
   "source": [
    "## La boucle `loop`\n",
    "\n",
    "- Simple boucle infinie,  les directives de contrôle `continue` et `break` fonctionnent comme dans d'autres langages. `loop`, c'est toujours mieux que while(1) { ... } du C."
   ]
  },
  {
   "cell_type": "code",
   "execution_count": 4,
   "id": "accepted-graphics",
   "metadata": {
    "deletable": false,
    "editable": false
   },
   "outputs": [
    {
     "name": "stdout",
     "output_type": "stream",
     "text": [
      "Let's count until infinity!\n",
      "1\n",
      "2\n",
      "three\n",
      "4\n",
      "5\n",
      "OK, that's enough\n"
     ]
    },
    {
     "data": {
      "text/plain": [
       "()"
      ]
     },
     "execution_count": 4,
     "metadata": {},
     "output_type": "execute_result"
    }
   ],
   "source": [
    "fn boucle_loop() {\n",
    "    let mut count = 0u32;\n",
    "\n",
    "    println!(\"Let's count until infinity!\");\n",
    "    // Infinite loop\n",
    "    loop {\n",
    "        count += 1;\n",
    "        if count == 3 {\n",
    "            println!(\"three\");\n",
    "            // Skip the rest of this iteration\n",
    "            continue;\n",
    "        }\n",
    "        println!(\"{}\", count);\n",
    "        if count == 5 {\n",
    "            println!(\"OK, that's enough\");\n",
    "            // Exit this loop\n",
    "            break;\n",
    "        }\n",
    "    }\n",
    "}\n",
    "boucle_loop()"
   ]
  },
  {
   "cell_type": "markdown",
   "id": "perfect-polls",
   "metadata": {
    "deletable": false,
    "editable": false
   },
   "source": [
    "- Une boucle `loop` peut aussi etre evaluee comme une expression, `break` peut en effet retourner une valeur."
   ]
  },
  {
   "cell_type": "code",
   "execution_count": 2,
   "id": "comprehensive-closer",
   "metadata": {
    "deletable": false,
    "editable": false
   },
   "outputs": [
    {
     "name": "stderr",
     "output_type": "stream",
     "text": [
      "[src/lib.rs:127] x = 9\n"
     ]
    },
    {
     "data": {
      "text/plain": [
       "9"
      ]
     },
     "execution_count": 2,
     "metadata": {},
     "output_type": "execute_result"
    }
   ],
   "source": [
    "let x = {\n",
    "    let mut count = 0;\n",
    "    loop {\n",
    "        count += 1;\n",
    "        if count == 3 {\n",
    "            break count * 3;\n",
    "        }\n",
    "    }\n",
    "};\n",
    "dbg!(x)"
   ]
  },
  {
   "cell_type": "markdown",
   "id": "approved-feature",
   "metadata": {
    "deletable": false,
    "editable": false
   },
   "source": [
    "*`break` a un petit quelque chose en plus en Rust quand il est utilisé avec des labels, mais ce ne sera pas abordé ici. Pour en savoir plus, rendez-vous à la page [https://doc.rust-lang.org/rust-by-example/flow_control/loop/nested.html](https://doc.rust-lang.org/rust-by-example/flow_control/loop/nested.htm)*."
   ]
  },
  {
   "cell_type": "markdown",
   "id": "fitted-version",
   "metadata": {
    "deletable": false,
    "editable": false
   },
   "source": [
    "## La boucle `while`\n",
    "\n",
    "- Rien de bien nouveau non plus, l'on enlève juste les parenthèses qui ne servent a rien en Rust et le programme se comporte comme il le ferait en C.... Ce sera toujours le pattern `while [CONDITION] { ... }`. Et `break` et `continue` peuvent aussi fonctionner dans une boucle `while`."
   ]
  },
  {
   "cell_type": "code",
   "execution_count": 6,
   "id": "molecular-mainstream",
   "metadata": {
    "deletable": false,
    "editable": false
   },
   "outputs": [
    {
     "name": "stdout",
     "output_type": "stream",
     "text": [
      "La valeur est : 10\n",
      "La valeur est : 30\n",
      "La valeur est : 20\n",
      "La valeur est : 40\n",
      "La valeur est : 50\n"
     ]
    },
    {
     "data": {
      "text/plain": [
       "()"
      ]
     },
     "execution_count": 6,
     "metadata": {},
     "output_type": "execute_result"
    }
   ],
   "source": [
    "let a = [10, 20, 30, 40, 50];\n",
    "let mut indice = 0;\n",
    "\n",
    "while indice < 5 {\n",
    "    println!(\"La valeur est : {}\", a[indice]);\n",
    "    indice += 1;\n",
    "}"
   ]
  },
  {
   "cell_type": "markdown",
   "id": "spread-maker",
   "metadata": {
    "deletable": false,
    "editable": false
   },
   "source": [
    "## La boucle `for`\n",
    "\n",
    "- La boucle `for` est beaucoup plus intéressante puisqu'elle prend en paramètre un iterateur (aspect fonctionnel de Rust). Iterator est un **trait** de Rust, et plusieurs types l'implémentent dont le type **Range**. Nous verrons les traits plus en détail prochainement, souvenons nous pour l'instant de l'idée, ce type implémente tel trait.\n",
    "\n",
    "En Rust, la boucle `for` est conçue pour parcourir des collections et des itérateurs, et elle est basée sur le **trait Iterator**."
   ]
  },
  {
   "cell_type": "code",
   "execution_count": 7,
   "id": "interior-intervention",
   "metadata": {
    "deletable": false,
    "editable": false
   },
   "outputs": [
    {
     "name": "stdout",
     "output_type": "stream",
     "text": [
      "0\n",
      "1\n",
      "2\n",
      "-------\n",
      "0\n",
      "1\n",
      "2\n",
      "3\n"
     ]
    },
    {
     "data": {
      "text/plain": [
       "()"
      ]
     },
     "execution_count": 7,
     "metadata": {},
     "output_type": "execute_result"
    }
   ],
   "source": [
    "for i in 0..3 {\n",
    "    println!(\"{}\", i);\n",
    "}\n",
    "\n",
    "println!(\"-------\");\n",
    "\n",
    "for j in 0..=3 {\n",
    "    println!(\"{}\", j);\n",
    "}"
   ]
  },
  {
   "cell_type": "markdown",
   "id": "considerable-coordinate",
   "metadata": {
    "deletable": false,
    "editable": false
   },
   "source": [
    "> La syntaxe d'une Range ne presente rien de bien difficile:\n",
    ">\n",
    "> `0..3` est une Range dite **exclusive**, la valeur 3 en est exclue.  \n",
    "> `0..=3` est une Range dite **inclusive**, la valeur 3 y est presente.\n",
    "\n",
    "- Sans entrer trop dans les détails pour l'instant, il existe des méthodes pour les types qui implémentent le trait `Iterator` comme par exemple `step_by` qui \"saute\" des valeurs. **Implementer un trait pour un type lui permet d'hériter de nouvelles méthodes**."
   ]
  },
  {
   "cell_type": "code",
   "execution_count": 8,
   "id": "sitting-movie",
   "metadata": {
    "deletable": false,
    "editable": false
   },
   "outputs": [
    {
     "name": "stdout",
     "output_type": "stream",
     "text": [
      "0\n",
      "2\n",
      "6\n",
      "4\n",
      "8\n"
     ]
    },
    {
     "data": {
      "text/plain": [
       "()"
      ]
     },
     "execution_count": 8,
     "metadata": {},
     "output_type": "execute_result"
    }
   ],
   "source": [
    "for k in (0..10).step_by(2) {\n",
    "    println!(\"{}\", k);\n",
    "}"
   ]
  },
  {
   "cell_type": "markdown",
   "id": "unexpected-oracle",
   "metadata": {
    "deletable": false,
    "editable": false
   },
   "source": [
    "- Un 'array' implémente aussi le trait `Iterator`: ainsi, il est très facile de le parcourir avec une boucle `for`."
   ]
  },
  {
   "cell_type": "code",
   "execution_count": 9,
   "id": "ancient-professional",
   "metadata": {
    "deletable": false,
    "editable": false
   },
   "outputs": [
    {
     "name": "stdout",
     "output_type": "stream",
     "text": [
      "Fizz\n",
      "Buzz\n",
      "FizzBuzz\n"
     ]
    },
    {
     "data": {
      "text/plain": [
       "()"
      ]
     },
     "execution_count": 9,
     "metadata": {},
     "output_type": "execute_result"
    }
   ],
   "source": [
    "let fizzbuzz = [\"Fizz\", \"Buzz\", \"FizzBuzz\"];\n",
    "for word in fizzbuzz {\n",
    "    println!(\"{}\", word);\n",
    "}"
   ]
  },
  {
   "cell_type": "markdown",
   "id": "caroline-canadian",
   "metadata": {
    "deletable": false,
    "editable": false
   },
   "source": [
    "## Exercices"
   ]
  },
  {
   "cell_type": "markdown",
   "id": "typical-accommodation",
   "metadata": {
    "deletable": false,
    "editable": false
   },
   "source": [
    "### Modifier la première ligne de ce bout de code de façon à obtenir en sortie les nombres de 0 a 3 inclu dans l'ordre décroissant. Pour cela, aidez-vous de la documentation du trait Iterator.\n",
    "> ```\n",
    "> 3\n",
    "> 2\n",
    "> 1\n",
    "> 0\n",
    "> ```"
   ]
  },
  {
   "cell_type": "code",
   "execution_count": 12,
   "id": "manual-weekend",
   "metadata": {
    "solution2": "hidden",
    "solution2_first": true
   },
   "outputs": [
    {
     "name": "stdout",
     "output_type": "stream",
     "text": [
      "0\n",
      "1\n",
      "2\n"
     ]
    },
    {
     "data": {
      "text/plain": [
       "()"
      ]
     },
     "execution_count": 12,
     "metadata": {},
     "output_type": "execute_result"
    }
   ],
   "source": [
    "for i in (0..3) {\n",
    "    println!(\"{}\", i);\n",
    "}"
   ]
  },
  {
   "cell_type": "markdown",
   "id": "dying-professional",
   "metadata": {
    "deletable": false,
    "editable": false,
    "solution2": "hidden"
   },
   "source": [
    "**Selon la documentation du trait Iterator, une méthode nommée rev() permet d'inverser l'ordre. La range peut aussi etre rendue inclusive avec `=` afin de prendre le nombre 3 en compte.**\n",
    "\n",
    "> ```\n",
    "> for i in (0..=3).rev() {\n",
    ">     println!({}, i);\n",
    "> }\n",
    "> ```"
   ]
  },
  {
   "cell_type": "markdown",
   "id": "widespread-decimal",
   "metadata": {
    "deletable": false,
    "editable": false
   },
   "source": [
    "### À l'aide de la boucle `while` et des conditions, écrivez un fizz buzz qui respecte les règles suivantes:\n",
    "```\n",
    "On parcours les nombres entre 1 a 20 inclu:\n",
    "    si le nombre est divisible par 3 : on écrit Fizz\n",
    "    si le nombre est divisible par 5 : on écrit Buzz\n",
    "    si le nombre est divisible par 3 et par 5 : on écrit Fizzbuzz\n",
    "    sinon : on écrit le nombre  \n",
    "1\n",
    "2\n",
    "Fizz\n",
    "4\n",
    "Buzz\n",
    "6\n",
    "etc....\n",
    "```"
   ]
  },
  {
   "cell_type": "code",
   "execution_count": 11,
   "id": "dress-airfare",
   "metadata": {
    "solution2": "hidden",
    "solution2_first": true
   },
   "outputs": [
    {
     "data": {
      "text/plain": [
       "()"
      ]
     },
     "execution_count": 11,
     "metadata": {},
     "output_type": "execute_result"
    }
   ],
   "source": [
    "// A counter variable\n",
    "let n = 1;\n",
    "\n",
    "while false {\n",
    "    // Do Fizz Buzz\n",
    "}"
   ]
  },
  {
   "cell_type": "markdown",
   "id": "funded-array",
   "metadata": {
    "deletable": false,
    "editable": false,
    "solution2": "hidden"
   },
   "source": [
    "```\n",
    "// A counter variable\n",
    "let mut n = 1;\n",
    "\n",
    "// Loop while `n` is less than 21\n",
    "while n <= 20 {\n",
    "    if n % 15 == 0 {\n",
    "        println!(\"fizzbuzz\");\n",
    "    } else if n % 3 == 0 {\n",
    "        println!(\"fizz\");\n",
    "    } else if n % 5 == 0 {\n",
    "        println!(\"buzz\");\n",
    "    } else {\n",
    "        println!(\"{}\", n);\n",
    "    }\n",
    "\n",
    "    // Increment counter\n",
    "    n += 1;\n",
    "}\n",
    "```"
   ]
  }
 ],
 "metadata": {
  "kernelspec": {
   "display_name": "Rust",
   "language": "rust",
   "name": "rust"
  },
  "language_info": {
   "codemirror_mode": "rust",
   "file_extension": ".rs",
   "mimetype": "text/rust",
   "name": "Rust",
   "pygment_lexer": "rust",
   "version": ""
  },
  "toc": {
   "base_numbering": "5",
   "nav_menu": {
    "height": "195px",
    "width": "839px"
   },
   "number_sections": true,
   "sideBar": true,
   "skip_h1_title": false,
   "title_cell": "Table of Contents",
   "title_sidebar": "Contents",
   "toc_cell": false,
   "toc_position": {
    "height": "calc(100% - 180px)",
    "left": "10px",
    "top": "150px",
    "width": "352px"
   },
   "toc_section_display": true,
   "toc_window_display": false
  }
 },
 "nbformat": 4,
 "nbformat_minor": 5
}
