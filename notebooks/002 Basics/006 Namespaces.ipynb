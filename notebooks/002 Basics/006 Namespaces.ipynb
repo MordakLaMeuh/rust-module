{
 "cells": [
  {
   "cell_type": "markdown",
   "id": "altered-therapy",
   "metadata": {
    "deletable": false,
    "editable": false
   },
   "source": [
    "# Les espaces de noms\n",
    "\n",
    "---\n",
    "\n",
    "> Comme dans la plupart des langages \"modernes\", Rust utilise la notion de namespace. La syntaxe est empruntée de celle du C++ et ne présente guère de mauvaise surprise dès que l'on en a compris les principes généraux.\n",
    "\n",
    "> Le séparateur entre les différents noms est **`::`**."
   ]
  },
  {
   "cell_type": "markdown",
   "id": "behind-legislation",
   "metadata": {
    "deletable": false,
    "editable": false
   },
   "source": [
    "## La notion de crate\n",
    "\n",
    "**Votre programme** que vous gênerez avec la commande cargo new **est une crate**. Une crate est une unité de compilation en Rust qui peut être composée d'un ou de plusieurs fichiers. Si maintenant vous gênerez une librairie pour votre programme avec cargo new --lib, **cette librairie sera aussi une crate**. Et enfin, si vous importez la librairie colored depuis crates.io, votre projet aura **la crate colored** en plus ainsi que toutes ses dépendances, **qui sont aussi des crates**.\n",
    "\n",
    "> Pour résumer, une crate est soit un programme compose de la fonction main, soit une librairie."
   ]
  },
  {
   "cell_type": "markdown",
   "id": "virgin-germany",
   "metadata": {
    "deletable": false,
    "editable": false
   },
   "source": [
    "### Utiliser sa propre librairie\n",
    "\n",
    "Admettons que vous ayez compilé votre programme ainsi qu'une librairie de votre cru, le fichier **cargo.toml** de votre programme principal contiendra le chemin de cette librairie et le nom du namespace associé qui est le nom de la librairie avec la configuration par défaut.\n",
    "\n",
    "Supposons que votre librairie se nomme **ma_lib**, et qu'à l'intérieur vous ayez défini la fonction **ma_fonction** qui retourne un entier :\n",
    "\n",
    "Afin de pouvoir utiliser ma_fonction depuis votre programme principal, le chemin associe sera `ma_lib::ma_fonction`. Plusieurs possibilités s'offrent à vous pour utiliser cette fonction :\n",
    "- L'expression du chemin littéral.\n",
    "- L'utilisation de `use`.\n",
    "\n",
    ">```\n",
    "    // Chemin litteral.\n",
    "    let a = ma_lib::ma_fonction();\n",
    ">```\n",
    "\n",
    ">```\n",
    "    // Importation de la fonction dans le namespace du programme principal.\n",
    "    use ma_lib::ma_fonction;\n",
    "    // ma_fonction() est utilisable comme si la fonction etait definie ici.\n",
    "    let a = ma_fonction();\n",
    ">```\n",
    "\n",
    ">```\n",
    "    // Importation de tous les noms public de la librairie.\n",
    "    use ma_lib::*;\n",
    "    // ma_fonction() fait partie d'un se ces noms.\n",
    "    let a = ma_fonction();\n",
    ">```\n",
    "\n",
    "*ma_fonction sera déclarée dans la lib en tant que public via le préfixe `pub`.*"
   ]
  },
  {
   "cell_type": "markdown",
   "id": "charitable-cartridge",
   "metadata": {
    "deletable": false,
    "editable": false
   },
   "source": [
    "### Utiliser une crate de crates.io\n",
    "\n",
    "Supposons maintenant que vous voulez colorier en cyan les chaînes de sortie de votre programme, vous allez dans votre fichier cargo.toml ajouter aux dépendances la crate colored. À la première compilation du programme, cette crate ainsi que toutes ses dépendances sera telechargée puis compilée.\n",
    "\n",
    "Afin de pouvoir colorier votre texte en cyan, vous irez importer le trait Colorize de la crate colored (oui, un trait, nous verrons plus tard ce que c'est), un trait qui vous permettra d'utiliser une fonction cyan() sur vos chaînes de caractère :\n",
    "\n",
    ">```\n",
    "    use colored::Colorize;\n",
    "    println!(\"{}\", \"text colorized !\".cyan());\n",
    ">```\n",
    "\n",
    "Sachez que bien que très peu pratique dans ce cas précis, la forme littérale était aussi possible :\n",
    "\n",
    ">```\n",
    "    println!(\"{}\", colored::Colorize::cyan(\"Hello, world!\"));\n",
    ">```\n",
    "\n",
    "Ainsi que celle avec le wildcard :\n",
    "\n",
    ">```\n",
    "    use colored::*;\n",
    "    println!(\"{}\", \"text colorized !\".cyan());\n",
    ">```\n",
    "\n",
    "*Pour plus d'information sur comment installer la crate colored, voir le chapitre 13 - 001 Using Crates.* "
   ]
  },
  {
   "cell_type": "markdown",
   "id": "extensive-knowing",
   "metadata": {
    "deletable": false,
    "editable": false
   },
   "source": [
    "### Le `use crate`\n",
    "\n",
    "- Pour faire des tests unitaires, le code que vous écrirez ressemblera à cela :"
   ]
  },
  {
   "cell_type": "code",
   "execution_count": null,
   "id": "floating-angel",
   "metadata": {
    "deletable": false,
    "editable": false
   },
   "outputs": [],
   "source": [
    "#[cfg(test)]  // directive de precompilation, ne compile le bloc que par `cargo test`\n",
    "mod add_one_test { // sous-module de la crate principale\n",
    "    use crate::add_one; // importe la fonction add_one depuis le main.rs ou le lib.rs\n",
    "\n",
    "    #[test]\n",
    "    fn check_add_one() {\n",
    "        assert_eq!(add_one(1), 2)\n",
    "    }\n",
    "}"
   ]
  },
  {
   "cell_type": "markdown",
   "id": "horizontal-above",
   "metadata": {
    "deletable": false,
    "editable": false
   },
   "source": [
    "> Le mot-clef `mod` indique que nous sommes dans un sous-module. Dans ce module, les noms des items du fichier main.rs ne sont plus disponibles, alors il nous faut importer ce dont on a besoin grâce a l'instruction. `use crate::add_one`. crate ici fait référence à la racine du projet, le fichier main.rs ou lib.rs pour une librairie.\n",
    "\n",
    "> Si nous avions voulu importer plusieurs noms, nous aurions pu écrire :\n",
    "> - `use crate::*;` pour importer la totalité des noms du fichier main.rs.\n",
    "> - `use crate::{add_one, add_two, une_troisieme_fonction};` pour n'importer qu'une liste de noms grâce aux brackets `{...}`.\n",
    "> - Ne pas faire de `use` et écrire directement `assert_eq!(crate::add_one(1), 2)` !"
   ]
  },
  {
   "cell_type": "markdown",
   "id": "premier-concentrate",
   "metadata": {
    "deletable": false,
    "editable": false
   },
   "source": [
    "### Le mot clef `super`\n",
    "\n",
    "- Enfin, il existe le mot-clef `super` qui est une référence vers le namespace du parent :"
   ]
  },
  {
   "cell_type": "code",
   "execution_count": 4,
   "id": "isolated-reception",
   "metadata": {
    "deletable": false,
    "editable": false
   },
   "outputs": [
    {
     "name": "stdout",
     "output_type": "stream",
     "text": [
      "You know what ? I'm happy.\n"
     ]
    },
    {
     "data": {
      "text/plain": [
       "()"
      ]
     },
     "execution_count": 4,
     "metadata": {},
     "output_type": "execute_result"
    }
   ],
   "source": [
    "fn droopy() {\n",
    "    println!(\"You know what ? I'm happy.\");\n",
    "}\n",
    "\n",
    "fn main() {\n",
    "    song::droopy_speack();\n",
    "}\n",
    "\n",
    "mod song {\n",
    "    use super::droopy; // Importe la fonction du namespace parent (ici le namespace principal)\n",
    "    pub fn droopy_speack() { // rien a voir mais pub ici est obligatoire pour etre appele depuis d'autres namespaces.\n",
    "        droopy();\n",
    "    }\n",
    "}\n",
    "main()"
   ]
  },
  {
   "cell_type": "markdown",
   "id": "unsigned-sydney",
   "metadata": {
    "deletable": false,
    "editable": false
   },
   "source": [
    "**NB : Nous avons dans ces exemples importé une fonction, mais il est possible d'importer toutes sortes d'éléments telles des structures, des énumérations ou les traits.**"
   ]
  },
  {
   "cell_type": "markdown",
   "id": "rising-perry",
   "metadata": {
    "deletable": false,
    "editable": false
   },
   "source": [
    "## Les imports depuis la std\n",
    "\n",
    "- Pour ce qui est commun d'utiliser tels les Option, les Result ou quelques structures d'allocation dynamique, les développeurs de Rust ont fait ce que l'on appelle le `prelude`. Les éléments présents dans le prelude Rust sont directement importes dans tous nos fichiers et il n'est pas nécessaire d'utiliser des use ou de donner leurs chemins."
   ]
  },
  {
   "cell_type": "code",
   "execution_count": 8,
   "id": "consistent-spread",
   "metadata": {
    "deletable": false,
    "editable": false
   },
   "outputs": [],
   "source": [
    "// Option, Some et Box sont dans le prelude de Rust ...\n",
    "\n",
    "let opt: Option<usize> = Some(23); // Option n'a pas besoin d'etre importe\n",
    "let opt: std::option::Option<usize> = std::option::Option::Some(24); // Vraiment, ca ne sert a rien !\n",
    "\n",
    "let b: Box<usize> = Box::new(12); // Idem pour Box\n",
    "let b: std::boxed::Box<usize> = std::boxed::Box::new(12); // Woot ?"
   ]
  },
  {
   "cell_type": "markdown",
   "id": "settled-appliance",
   "metadata": {
    "deletable": false,
    "editable": false
   },
   "source": [
    "- Mais il arrive que ce ne soit pas toujours le cas :"
   ]
  },
  {
   "cell_type": "code",
   "execution_count": 9,
   "id": "portuguese-premium",
   "metadata": {
    "deletable": false,
    "editable": false
   },
   "outputs": [
    {
     "ename": "Error",
     "evalue": "cannot find function `size_of` in this scope",
     "output_type": "error",
     "traceback": [
      "\u001b[31m[E0425] Error:\u001b[0m cannot find function `size_of` in this scope",
      "   \u001b[38;5;246m╭\u001b[0m\u001b[38;5;246m─\u001b[0m\u001b[38;5;246m[\u001b[0mcommand_9:1:1\u001b[38;5;246m]\u001b[0m",
      "   \u001b[38;5;246m│\u001b[0m",
      " \u001b[38;5;246m2 │\u001b[0m \u001b[38;5;249m \u001b[0m\u001b[38;5;249m \u001b[0m\u001b[38;5;249m \u001b[0m\u001b[38;5;249m \u001b[0m\u001b[38;5;249ml\u001b[0m\u001b[38;5;249me\u001b[0m\u001b[38;5;249mt\u001b[0m\u001b[38;5;249m \u001b[0m\u001b[38;5;249ms\u001b[0m\u001b[38;5;249mi\u001b[0m\u001b[38;5;249mz\u001b[0m\u001b[38;5;249me\u001b[0m\u001b[38;5;249m \u001b[0m\u001b[38;5;249m=\u001b[0m\u001b[38;5;249m \u001b[0m\u001b[38;5;54ms\u001b[0m\u001b[38;5;54mi\u001b[0m\u001b[38;5;54mz\u001b[0m\u001b[38;5;54me\u001b[0m\u001b[38;5;54m_\u001b[0m\u001b[38;5;54mo\u001b[0m\u001b[38;5;54mf\u001b[0m\u001b[38;5;249m:\u001b[0m\u001b[38;5;249m:\u001b[0m\u001b[38;5;249m<\u001b[0m\u001b[38;5;249mu\u001b[0m\u001b[38;5;249ms\u001b[0m\u001b[38;5;249mi\u001b[0m\u001b[38;5;249mz\u001b[0m\u001b[38;5;249me\u001b[0m\u001b[38;5;249m>\u001b[0m\u001b[38;5;249m(\u001b[0m\u001b[38;5;249m)\u001b[0m\u001b[38;5;249m;\u001b[0m",
      " \u001b[38;5;246m  ·\u001b[0m                \u001b[38;5;54m─\u001b[0m\u001b[38;5;54m─\u001b[0m\u001b[38;5;54m─\u001b[0m\u001b[38;5;54m┬\u001b[0m\u001b[38;5;54m─\u001b[0m\u001b[38;5;54m─\u001b[0m\u001b[38;5;54m─\u001b[0m  ",
      " \u001b[38;5;246m  ·\u001b[0m                   \u001b[38;5;54m╰\u001b[0m\u001b[38;5;54m─\u001b[0m\u001b[38;5;54m─\u001b[0m\u001b[38;5;54m─\u001b[0m\u001b[38;5;54m─\u001b[0m\u001b[38;5;54m─\u001b[0m not found in this scope",
      "\u001b[38;5;246m───╯\u001b[0m"
     ]
    }
   ],
   "source": [
    "{\n",
    "    let size = size_of::<usize>();\n",
    "}"
   ]
  },
  {
   "cell_type": "markdown",
   "id": "about-seeking",
   "metadata": {
    "deletable": false,
    "editable": false
   },
   "source": [
    "- Le namespace doit donc être précisé ici :"
   ]
  },
  {
   "cell_type": "code",
   "execution_count": 10,
   "id": "timely-maria",
   "metadata": {
    "deletable": false,
    "editable": false
   },
   "outputs": [],
   "source": [
    "let size = std::mem::size_of::<usize>();"
   ]
  },
  {
   "cell_type": "markdown",
   "id": "photographic-stock",
   "metadata": {
    "deletable": false,
    "editable": false
   },
   "source": [
    "## Les alias\n",
    "\n",
    "- Il est possible de renommer grace au mot clef `as` les noms. Que ce soit pour éviter d'éventuels conflits ou bien parce que le nouveau nom inspire davantage le développeur, il a toujours la possibilité de le faire :"
   ]
  },
  {
   "cell_type": "code",
   "execution_count": 12,
   "id": "spare-bones",
   "metadata": {
    "deletable": false,
    "editable": false
   },
   "outputs": [],
   "source": [
    "use std::mem::size_of as get_the_type_size // name alias\n",
    "let size = get_the_type_size::<usize>();"
   ]
  }
 ],
 "metadata": {
  "kernelspec": {
   "display_name": "Rust",
   "language": "rust",
   "name": "rust"
  },
  "language_info": {
   "codemirror_mode": "rust",
   "file_extension": ".rs",
   "mimetype": "text/rust",
   "name": "Rust",
   "pygment_lexer": "rust",
   "version": ""
  },
  "toc": {
   "base_numbering": "6",
   "nav_menu": {},
   "number_sections": true,
   "sideBar": true,
   "skip_h1_title": false,
   "title_cell": "Table of Contents",
   "title_sidebar": "Contents",
   "toc_cell": false,
   "toc_position": {
    "height": "calc(100% - 180px)",
    "left": "10px",
    "top": "150px",
    "width": "268.8px"
   },
   "toc_section_display": true,
   "toc_window_display": false
  }
 },
 "nbformat": 4,
 "nbformat_minor": 5
}
