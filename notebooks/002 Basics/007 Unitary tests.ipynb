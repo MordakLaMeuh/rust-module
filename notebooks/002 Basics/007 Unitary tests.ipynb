{
 "cells": [
  {
   "cell_type": "markdown",
   "id": "timely-prairie",
   "metadata": {
    "deletable": false,
    "editable": false
   },
   "source": [
    "# ___Les tests unitaires: cargo test___\n",
    "\n",
    "---\n",
    "\n",
    "> Cargo fournit un excellent outil pour mener les tests unitaires. Cela permet de s'assurer facilement qu'un bout de code ne représente pas de régression lors de modifications futures.\n",
    "\n",
    "- Voici par exemple une fonction que vous voulez tester :"
   ]
  },
  {
   "cell_type": "code",
   "execution_count": 2,
   "id": "final-credit",
   "metadata": {
    "deletable": false,
    "editable": false
   },
   "outputs": [
    {
     "name": "stderr",
     "output_type": "stream",
     "text": [
      "[src/lib.rs:10] add_one(1) = 2\n"
     ]
    }
   ],
   "source": [
    "// Ici in retourne un entier positif sur 4 octets + 1\n",
    "fn add_one(value: u32) -> u32 {\n",
    "    value + 1\n",
    "}\n",
    "\n",
    "dbg!(add_one(1));"
   ]
  },
  {
   "cell_type": "markdown",
   "id": "minor-player",
   "metadata": {
    "deletable": false,
    "editable": false
   },
   "source": [
    "### Comment s'assurer du bon fonctionnement de cette fonction add_one ?\n",
    "\n",
    "- D'abord nous allons créer un nouveau programme nomme **add_one** avec `cargo new`\n",
    "\n",
    "```\n",
    "mordak@mordak-pc:~$ cargo new add_one\n",
    "     Created binary (application) `add_one` package\n",
    "```\n",
    "\n",
    "- Le fichier **main.rs** sera ainsi:\n",
    "\n",
    "```\n",
    "fn add_one(value: u32) -> u32 {\n",
    "    value + 1\n",
    "}\n",
    "\n",
    "fn main() {\n",
    "}\n",
    "\n",
    "#[cfg(test)]\n",
    "mod add_one_test {\n",
    "    use crate::add_one;\n",
    "\n",
    "    #[test]\n",
    "    fn check_add_one() {\n",
    "        assert_eq!(add_one(1), 2)\n",
    "    }\n",
    "}\n",
    "```\n",
    "\n",
    "- La commande `cargo test` donne ceci:\n",
    "\n",
    "```\n",
    "mordak@mordak-pc:~/Documents/add_one$ cargo test\n",
    "   Compiling add_one v0.1.0 (/home/mordak/Documents/add_one)\n",
    "    Finished test [unoptimized + debuginfo] target(s) in 0.27s\n",
    "     Running unittests src/main.rs (target/debug/deps/add_one-d72ba84568f68472)\n",
    "\n",
    "running 1 test\n",
    "test add_one_test::check_add_one ... ok\n",
    "\n",
    "test result: ok. 1 passed; 0 failed; 0 ignored; 0 measured; 0 filtered out; finished in 0.00s\n",
    "```\n",
    "\n",
    "**La fonction main est vide pourtant une partie du programme s'est bel et bien exécutée, c'est le test de la fonction add_one.**\n",
    "\n",
    "- Ci-dessous, le code de test:"
   ]
  },
  {
   "cell_type": "code",
   "execution_count": 10,
   "id": "internal-voltage",
   "metadata": {
    "deletable": false,
    "editable": false
   },
   "outputs": [],
   "source": [
    "#[cfg(test)]\n",
    "mod add_one_test {\n",
    "    use crate::add_one;\n",
    "\n",
    "    #[test]\n",
    "    fn check_add_one() {\n",
    "        assert_eq!(add_one(1), 2)\n",
    "    }\n",
    "}"
   ]
  },
  {
   "cell_type": "markdown",
   "id": "automatic-growth",
   "metadata": {
    "deletable": false,
    "editable": false
   },
   "source": [
    "**Ici, nous avons plusieurs elements importants:**\n",
    "\n",
    ">- **#[cfg(test)]** ne compile ce qui suit que lorsque l'ont appele **cargo test**, cfg est une directive préprocesseur."
   ]
  },
  {
   "cell_type": "code",
   "execution_count": 11,
   "id": "interesting-fellowship",
   "metadata": {
    "deletable": false,
    "editable": false
   },
   "outputs": [],
   "source": [
    "#[cfg(target_os = \"windows\")]\n",
    "fn main() {\n",
    "    println!(\"This code will only be compiled on Windows\");\n",
    "}"
   ]
  },
  {
   "cell_type": "markdown",
   "id": "optional-chile",
   "metadata": {
    "deletable": false,
    "editable": false
   },
   "source": [
    ">- **mod add_one_test** declare un module, ainsi tout ce qu'il contient ne sera compilé que pour les tests.  \n",
    ">\n",
    ">\n",
    ">- **use crate::add_one;** signifie que l'on utilise la fonction add_one() de la crate principale, c’est-à-dire du fichier main.rs. cette fonction n'est en effet pas declaree directement dans le bloc de test. \n",
    ">\n",
    ">\n",
    ">- **#[test]** signifie 'ceci est un test'. On aurait pu avoir d'autres fonctions auxiliaires sans ce tag, elles ne seraient pas considérées comme des tests à part entière.  \n",
    ">\n",
    ">\n",
    ">- **assert_eq!** est une macro Rust de la STD,  elle fonctionne comme une assertion en C, eq signifie équivalent et vérifie si l'expression de droite et de gauche sont égales. En outre, il existe aussi **assert_ne!** qui fait le contraire.\n",
    "\n",
    "- Ainsi dans la forme la plus simple, nous pouvons écrire:"
   ]
  },
  {
   "cell_type": "code",
   "execution_count": 12,
   "id": "ultimate-ribbon",
   "metadata": {
    "deletable": false,
    "editable": false
   },
   "outputs": [],
   "source": [
    "#[cfg(test)]\n",
    "#[test]\n",
    "fn check_add_one() {\n",
    "    assert_eq!(add_one(1), 2)\n",
    "}"
   ]
  },
  {
   "cell_type": "markdown",
   "id": "graduate-bulgaria",
   "metadata": {
    "deletable": false,
    "editable": false,
    "hide_input": true,
    "solution2": "hidden",
    "solution2_first": true
   },
   "source": [
    "**Cela fonctionne aussi, pourquoi ?**"
   ]
  },
  {
   "cell_type": "markdown",
   "id": "registered-crest",
   "metadata": {
    "deletable": false,
    "editable": false,
    "solution2": "hidden"
   },
   "source": [
    "> - Il n'y a pas besoin de module car il y a une seule fonction de test et rien d'autre, un module aurait été cependant nécessaire si nous étions passés par des fonctions auxiliaires du test ou des constantes etc...  \n",
    ">\n",
    ">\n",
    "> - Comme l'on se situe dans la crate principale, le use crate::add_one est dorénavant inutile."
   ]
  },
  {
   "cell_type": "markdown",
   "id": "plastic-status",
   "metadata": {
    "deletable": false,
    "editable": false
   },
   "source": [
    "- Dans le cas où l'assertion serait fausse, nous aurions:"
   ]
  },
  {
   "cell_type": "code",
   "execution_count": 13,
   "id": "sonic-brush",
   "metadata": {
    "deletable": false,
    "editable": false
   },
   "outputs": [],
   "source": [
    "#[test]\n",
    "fn check_add_one() {\n",
    "    assert_eq!(add_one(1), 3)\n",
    "}"
   ]
  },
  {
   "cell_type": "markdown",
   "id": "arranged-chocolate",
   "metadata": {
    "deletable": false,
    "editable": false
   },
   "source": [
    "```\n",
    "mordak@mordak-pc:~/Downloads/add_one$ cargo test\n",
    "   Compiling add_one v0.1.0 (/home/mordak/Downloads/add_one)\n",
    "    Finished test [unoptimized + debuginfo] target(s) in 0.25s\n",
    "     Running unittests src/main.rs (target/debug/deps/add_one-e13c01386e0c29ee)\n",
    "\n",
    "running 1 test\n",
    "test check_add_one ... FAILED\n",
    "\n",
    "failures:\n",
    "\n",
    "---- check_add_one stdout ----\n",
    "thread 'check_add_one' panicked at 'assertion failed: `(left == right)`\n",
    "  left: `2`,\n",
    " right: `3`', src/main.rs:14:9\n",
    "note: run with `RUST_BACKTRACE=1` environment variable to display a backtrace\n",
    "\n",
    "\n",
    "failures:\n",
    "    check_add_one\n",
    "\n",
    "test result: FAILED. 0 passed; 1 failed; 0 ignored; 0 measured; 0 filtered out; finished in 0.00s\n",
    "\n",
    "error: test failed, to rerun pass `--bin add_one`\n",
    "```"
   ]
  }
 ],
 "metadata": {
  "kernelspec": {
   "display_name": "Rust",
   "language": "rust",
   "name": "rust"
  },
  "language_info": {
   "codemirror_mode": "rust",
   "file_extension": ".rs",
   "mimetype": "text/rust",
   "name": "Rust",
   "pygment_lexer": "rust",
   "version": ""
  },
  "toc": {
   "base_numbering": "7",
   "nav_menu": {
    "height": "76px",
    "width": "521px"
   },
   "number_sections": true,
   "sideBar": true,
   "skip_h1_title": false,
   "title_cell": "Table of Contents",
   "title_sidebar": "Contents",
   "toc_cell": false,
   "toc_position": {
    "height": "calc(100% - 180px)",
    "left": "10px",
    "top": "150px",
    "width": "352px"
   },
   "toc_section_display": true,
   "toc_window_display": false
  }
 },
 "nbformat": 4,
 "nbformat_minor": 5
}
