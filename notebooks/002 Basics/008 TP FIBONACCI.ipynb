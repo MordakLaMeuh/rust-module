{
 "cells": [
  {
   "cell_type": "markdown",
   "id": "restricted-waters",
   "metadata": {
    "deletable": false,
    "editable": false
   },
   "source": [
    "#  ___TP Fibonacci___\n",
    "\n",
    "---\n",
    "\n",
    "Dans ce premier TP, vous devrez faire un petit programme qui ne contient qu'un seul fichier main.rs (Généré\n",
    "par Cargo). Ce programme ne prend pas d'argument et ne contient qu'en plus de la fonction main(), une fonction fibo() qui calcule la fibonacci d'un nombre et un test. Ainsi, lorsque l'on lancera `cargo test`, la fonction fibo() sera testée.\n",
    "\n",
    "- **NB** Si vous ne voulez pas installer Rust directement sur votre machine, vous pouvez ouvrir un terminal à partir de la page d'accueil de Jupyter. Une fois ouvert, faites `cd programs/fibonacci` pour vous rendre à la racine du projet fibonacci et testez. Aussi, le code peut se rédiger directement dans Jupyter en allant dans le dossier `programs` de la partie `002 Basics`. Vous pouvez aussi utiliser votre éditeur de code à partir de votre machine hôte, les sources du programme se trouvent dans le path `Desktop/programs/fibonacci`.\n",
    "\n",
    "![BOUILLE](pictures/fibo_1.jpeg)\n",
    "\n",
    "## La spirale de Fibonacci : une approximation de la spirale d'or créée en dessinant des arcs de cercle reliant les coins opposés des carrés dans le pavage de Fibonacci.\n",
    "\n",
    "![SUITE](pictures/fibo_2.png)\n",
    "\n",
    "*Exemple de fonction calculant la fibonacci en langage C*\n",
    "\n",
    "```\n",
    "// recursive function\n",
    "unsigned int fibo(unsigned int n) {\n",
    "    if (n == 0)\n",
    "        return 0;\n",
    "    else if (n == 1)\n",
    "        return 1;\n",
    "    else\n",
    "        return fibo(n - 1) + fibo(n - 2);\n",
    "}\n",
    "```\n",
    "\n",
    "*Version javascript*\n",
    "\n",
    "```\n",
    "function fibonacci(num) {\n",
    "    if(num < 2)\n",
    "        return num;\n",
    "    else\n",
    "        return fibonacci(num-1) + fibonacci(num - 2);\n",
    "}\n",
    "```\n",
    "\n",
    "*Voici le début de la séquence a tester*\n",
    "\n",
    "> [0, 1, 1, 2, 3, 5, 8, 13, 21, 34, 55, 89, 144]"
   ]
  }
 ],
 "metadata": {
  "kernelspec": {
   "display_name": "Rust",
   "language": "rust",
   "name": "rust"
  },
  "language_info": {
   "codemirror_mode": "rust",
   "file_extension": ".rs",
   "mimetype": "text/rust",
   "name": "Rust",
   "pygment_lexer": "rust",
   "version": ""
  },
  "toc": {
   "base_numbering": "8",
   "nav_menu": {
    "height": "63px",
    "width": "830px"
   },
   "number_sections": true,
   "sideBar": true,
   "skip_h1_title": false,
   "title_cell": "Table of Contents",
   "title_sidebar": "Contents",
   "toc_cell": false,
   "toc_position": {
    "height": "calc(100% - 180px)",
    "left": "10px",
    "top": "150px",
    "width": "352px"
   },
   "toc_section_display": true,
   "toc_window_display": false
  }
 },
 "nbformat": 4,
 "nbformat_minor": 5
}
