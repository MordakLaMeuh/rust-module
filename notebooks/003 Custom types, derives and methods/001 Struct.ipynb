{
 "cells": [
  {
   "cell_type": "markdown",
   "id": "south-failure",
   "metadata": {
    "deletable": false,
    "editable": false
   },
   "source": [
    "# Les structures\n",
    "\n",
    "---"
   ]
  },
  {
   "cell_type": "markdown",
   "id": "frank-logging",
   "metadata": {
    "deletable": false,
    "editable": false
   },
   "source": [
    "## Definition\n",
    "\n",
    "- Déclarer une structure n'est pas chose difficile. La declation se fait en commencant par le mot-clef `struct` suivi de `StructName` (en CamelCase si possible) puis des brackets `{ ........ }`. Chacun des champs est déclaré suivi de son type :"
   ]
  },
  {
   "cell_type": "code",
   "execution_count": 31,
   "id": "hairy-possible",
   "metadata": {
    "deletable": false,
    "editable": false
   },
   "outputs": [],
   "source": [
    "struct Remote {\n",
    "    ipv4: (u8, u8, u8, u8),\n",
    "    ipv6: [u16; 8], // Array de 8 variables de type u16\n",
    "    port: u32,\n",
    "    name: String,\n",
    "}"
   ]
  },
  {
   "cell_type": "markdown",
   "id": "raising-anniversary",
   "metadata": {
    "deletable": false,
    "editable": false
   },
   "source": [
    "*Dans un bloc structure, on retrouve la syntaxe `field_name` + `:` + `type`, chaque membre est separé par une virgule `,`.*"
   ]
  },
  {
   "cell_type": "markdown",
   "id": "asian-housing",
   "metadata": {
    "deletable": false,
    "editable": false
   },
   "source": [
    "## Assignation\n",
    "\n",
    "- Voici comment assigner une variable de ce type de structure :"
   ]
  },
  {
   "cell_type": "code",
   "execution_count": 32,
   "id": "technical-making",
   "metadata": {
    "deletable": false,
    "editable": false
   },
   "outputs": [],
   "source": [
    "let r: Remote = Remote { // L'inférence de type aurait naturellement fonctionné ici.\n",
    "    ipv4: (127, 0, 0, 1),\n",
    "    ipv6: [0, 0, 0, 0, 0, 0, 0, 0x0001],\n",
    "    port: 8080,\n",
    "    name: String::from(\"vbx\")\n",
    "};"
   ]
  },
  {
   "cell_type": "markdown",
   "id": "after-sullivan",
   "metadata": {
    "deletable": false,
    "editable": false
   },
   "source": [
    "`let` `ma_struct_var_name` `:` `StructName` `=` `StructName` `{ field_name: value, [...repeat for each field] }`\n",
    "\n",
    "ou\n",
    "\n",
    "`let ma_struct_var_name = StructName { field_name: value, [...repeat for each field] }`\n",
    "\n",
    "> Il n'est pas possible en Rust d'avoir des structures partiellement initialisées sauf si on travaille en `unsafe`. Le compilateur n'attribut pas non plus des valeurs par defaut implicitement pour les champs que l'on ne voudrait pas initialiser, il faudrait pour cela explicitement implémenter le trait `Default` pour notre type Structure. Nous verrons plus tard des exemples d'utilisation et des implementations de ce fameux trait `Default`.\n",
    "\n",
    "\n",
    "- Ainsi, l'on aura ne verra jamais cela :"
   ]
  },
  {
   "cell_type": "code",
   "execution_count": 33,
   "id": "small-progressive",
   "metadata": {
    "deletable": false,
    "editable": false
   },
   "outputs": [
    {
     "ename": "Error",
     "evalue": "missing fields `ipv6`, `name` and `port` in initializer of `Remote`",
     "output_type": "error",
     "traceback": [
      "\u001b[31m[E0063] Error:\u001b[0m missing fields `ipv6`, `name` and `port` in initializer of `Remote`",
      "   \u001b[38;5;246m╭\u001b[0m\u001b[38;5;246m─\u001b[0m\u001b[38;5;246m[\u001b[0mcommand_33:1:1\u001b[38;5;246m]\u001b[0m",
      "   \u001b[38;5;246m│\u001b[0m",
      " \u001b[38;5;246m1 │\u001b[0m \u001b[38;5;249ml\u001b[0m\u001b[38;5;249me\u001b[0m\u001b[38;5;249mt\u001b[0m\u001b[38;5;249m \u001b[0m\u001b[38;5;249mr\u001b[0m\u001b[38;5;249m \u001b[0m\u001b[38;5;249m=\u001b[0m\u001b[38;5;249m \u001b[0m\u001b[38;5;54mR\u001b[0m\u001b[38;5;54me\u001b[0m\u001b[38;5;54mm\u001b[0m\u001b[38;5;54mo\u001b[0m\u001b[38;5;54mt\u001b[0m\u001b[38;5;54me\u001b[0m\u001b[38;5;249m \u001b[0m\u001b[38;5;249m{\u001b[0m",
      " \u001b[38;5;246m  ·\u001b[0m         \u001b[38;5;54m─\u001b[0m\u001b[38;5;54m─\u001b[0m\u001b[38;5;54m─\u001b[0m\u001b[38;5;54m┬\u001b[0m\u001b[38;5;54m─\u001b[0m\u001b[38;5;54m─\u001b[0m  ",
      " \u001b[38;5;246m  ·\u001b[0m            \u001b[38;5;54m╰\u001b[0m\u001b[38;5;54m─\u001b[0m\u001b[38;5;54m─\u001b[0m\u001b[38;5;54m─\u001b[0m\u001b[38;5;54m─\u001b[0m missing `ipv6`, `name` and `port`",
      "\u001b[38;5;246m───╯\u001b[0m"
     ]
    }
   ],
   "source": [
    "let r = Remote {\n",
    "    ipv4: (127, 0, 0, 1),\n",
    "};"
   ]
  },
  {
   "cell_type": "markdown",
   "id": "norwegian-light",
   "metadata": {
    "deletable": false,
    "editable": false
   },
   "source": [
    "*Les champs 'ipv6' et 'port' DOIVENT être initialisés.* "
   ]
  },
  {
   "cell_type": "markdown",
   "id": "compound-petite",
   "metadata": {
    "deletable": false,
    "editable": false
   },
   "source": [
    "## Utilisation\n",
    "\n",
    " - Pour acceder aux champs de la structure, on utilise la syntaxe suivante `ma_struct_var_name` + `.` + `field_name` comme on ferait en C."
   ]
  },
  {
   "cell_type": "code",
   "execution_count": 34,
   "id": "through-philippines",
   "metadata": {
    "deletable": false,
    "editable": false
   },
   "outputs": [
    {
     "name": "stdout",
     "output_type": "stream",
     "text": [
      "abscisse v1 = 1\n",
      "abscisse v2 = 4\n",
      "ordonnee v1 = 3\n",
      "ordonnee v2 = -1\n"
     ]
    }
   ],
   "source": [
    "struct Vector {\n",
    "    i: i32,\n",
    "    j: i32,\n",
    "}\n",
    "let v1 = Vector {\n",
    "    i: 1,\n",
    "    j: 3,\n",
    "};\n",
    "let v2 = Vector {\n",
    "    i: 4,\n",
    "    j: -1,\n",
    "};\n",
    "println!(\"abscisse v1 = {}\", v1.i);\n",
    "println!(\"abscisse v2 = {}\", v2.i);\n",
    "println!(\"ordonnee v1 = {}\", v1.j);\n",
    "println!(\"ordonnee v2 = {}\", v2.j);"
   ]
  },
  {
   "cell_type": "markdown",
   "id": "previous-ebony",
   "metadata": {
    "deletable": false,
    "editable": false
   },
   "source": [
    "- Si je veux par exemple aditionner mes deux structures."
   ]
  },
  {
   "cell_type": "code",
   "execution_count": 35,
   "id": "amateur-outside",
   "metadata": {
    "deletable": false,
    "editable": false
   },
   "outputs": [
    {
     "name": "stdout",
     "output_type": "stream",
     "text": [
      "abscisse v3 = 5\n",
      "ordonnee v3 = 2\n"
     ]
    }
   ],
   "source": [
    "let v3 = Vector {\n",
    "    i: v1.i + v2.i,\n",
    "    j: v1.j + v2.j,\n",
    "};\n",
    "println!(\"abscisse v3 = {}\", v3.i);\n",
    "println!(\"ordonnee v3 = {}\", v3.j);"
   ]
  },
  {
   "cell_type": "markdown",
   "id": "established-violence",
   "metadata": {
    "deletable": false,
    "editable": false
   },
   "source": [
    "## Les structures dites Tuple \n",
    "\n",
    " - Les structures précédentes avaient des champs nommés, on les nomme des 'named struct' mais il est aussi possible de créer des structures contenant un tuple.\n",
    "\n",
    "Pour accéder aux champs de ces nouvelles structures, on utilisera la notation point `.` + `field_number`, comme pour les tuples."
   ]
  },
  {
   "cell_type": "code",
   "execution_count": 36,
   "id": "statutory-cradle",
   "metadata": {
    "deletable": false,
    "editable": false
   },
   "outputs": [
    {
     "name": "stderr",
     "output_type": "stream",
     "text": [
      "[src/lib.rs:135] ma_banane.0 = 12\n"
     ]
    }
   ],
   "source": [
    "struct Banane(usize);\n",
    "\n",
    "let ma_banane = Banane(12);\n",
    "dbg!(ma_banane.0);\n",
    "\n",
    "struct Ipv4(u8, u8, u8, u8);\n",
    "\n",
    "let mut mon_ip = Ipv4(192, 168, 0, 1);\n",
    "println!(\"Mon ip est: {}.{}.{}.{}\", mon_ip.0, mon_ip.1, mon_ip.2, mon_ip.3);\n",
    "\n",
    "mon_ip.3 = 40;\n",
    "println!(\"Ma nouvel ip est: {}.{}.{}.{}\", mon_ip.0, mon_ip.1, mon_ip.2, mon_ip.3);\n"
   ]
  },
  {
   "cell_type": "markdown",
   "id": "upset-weather",
   "metadata": {
    "deletable": false,
    "editable": false
   },
   "source": [
    "*Dans certains patterns de programmes en Rust, il est courant de croiser des structures tuple avec un seul élément qui est un type primitif, ainsi, par exemple, dans un système d'exploitation qui doit faire la différence entre la mémoire physique et la mémoire virtuelle, on pourrait avoir ces deux structures tuple:*\n",
    "\n",
    "```\n",
    "struct Phys(usize);\n",
    "\n",
    "struct Virt(usize);\n",
    "```"
   ]
  },
  {
   "cell_type": "markdown",
   "id": "manual-wright",
   "metadata": {
    "deletable": false,
    "editable": false
   },
   "source": [
    "## Les structures unitaires \n",
    "\n",
    " - Enfin, il existe un dernier type de structure qui ne contient rien et qui ne prennent aucune place en mémoire, elles sont nommées des 'unit struct'. Ce sont de simples marqueurs et servent principalement à l'implémentation de traits. Nous verrons plus tard ce que sont ces implémentations."
   ]
  },
  {
   "cell_type": "code",
   "execution_count": 37,
   "id": "burning-suite",
   "metadata": {
    "deletable": false,
    "editable": false
   },
   "outputs": [
    {
     "name": "stdout",
     "output_type": "stream",
     "text": [
      "Mon ip est: 192.168.0.1\n",
      "Ma nouvel ip est: 192.168.0.40\n"
     ]
    }
   ],
   "source": [
    "struct Unitstruct;\n",
    "\n",
    "let s = Unitstruct;"
   ]
  },
  {
   "cell_type": "markdown",
   "id": "elder-battery",
   "metadata": {
    "deletable": false,
    "editable": false
   },
   "source": [
    "*Dans la std, l'allocateur global est une unit struct.\n",
    "\n",
    "![GLOBAL_ALLOC](pictures/global_alloc.png)"
   ]
  },
  {
   "cell_type": "markdown",
   "id": "controversial-active",
   "metadata": {
    "deletable": false,
    "editable": false
   },
   "source": [
    "## Exercices "
   ]
  },
  {
   "cell_type": "markdown",
   "id": "dried-exchange",
   "metadata": {
    "deletable": false,
    "editable": false
   },
   "source": [
    "### Definir une structure **PanierDeFruits** qui contient une quantite de type usize de bananes, de poires et de fraises:\n"
   ]
  },
  {
   "cell_type": "code",
   "execution_count": 38,
   "id": "detected-marathon",
   "metadata": {
    "solution2": "hidden",
    "solution2_first": true
   },
   "outputs": [],
   "source": [
    "struct PanierDeFruits;"
   ]
  },
  {
   "cell_type": "markdown",
   "id": "tutorial-sport",
   "metadata": {
    "deletable": false,
    "editable": false,
    "solution2": "hidden"
   },
   "source": [
    "```\n",
    "struct PanierDeFruits {\n",
    "    banane: usize,\n",
    "    poire: usize,\n",
    "    fraise: usize\n",
    "}\n",
    "```"
   ]
  },
  {
   "cell_type": "markdown",
   "id": "animated-archives",
   "metadata": {
    "deletable": false,
    "editable": false
   },
   "source": [
    "### Declarer une variable nommee \"mon_panier\" qui contient 3 bananes, 2 poires et 1 fraise:"
   ]
  },
  {
   "cell_type": "code",
   "execution_count": 39,
   "id": "circular-continuity",
   "metadata": {
    "scrolled": true,
    "solution2": "hidden",
    "solution2_first": true
   },
   "outputs": [
    {
     "ename": "Error",
     "evalue": "no field `bananes` on type `PanierDeFruits`",
     "output_type": "error",
     "traceback": [
      "\u001b[31m[E0609] Error:\u001b[0m no field `bananes` on type `PanierDeFruits`",
      "   \u001b[38;5;246m╭\u001b[0m\u001b[38;5;246m─\u001b[0m\u001b[38;5;246m[\u001b[0mcommand_39:1:1\u001b[38;5;246m]\u001b[0m",
      "   \u001b[38;5;246m│\u001b[0m",
      " \u001b[38;5;246m3 │\u001b[0m \u001b[38;5;249md\u001b[0m\u001b[38;5;249mb\u001b[0m\u001b[38;5;249mg\u001b[0m\u001b[38;5;249m!\u001b[0m\u001b[38;5;249m(\u001b[0m\u001b[38;5;249mm\u001b[0m\u001b[38;5;249mo\u001b[0m\u001b[38;5;249mn\u001b[0m\u001b[38;5;249m_\u001b[0m\u001b[38;5;249mp\u001b[0m\u001b[38;5;249ma\u001b[0m\u001b[38;5;249mn\u001b[0m\u001b[38;5;249mi\u001b[0m\u001b[38;5;249me\u001b[0m\u001b[38;5;249mr\u001b[0m\u001b[38;5;249m.\u001b[0m\u001b[38;5;54mb\u001b[0m\u001b[38;5;54ma\u001b[0m\u001b[38;5;54mn\u001b[0m\u001b[38;5;54ma\u001b[0m\u001b[38;5;54mn\u001b[0m\u001b[38;5;54me\u001b[0m\u001b[38;5;54ms\u001b[0m\u001b[38;5;249m)\u001b[0m\u001b[38;5;249m;\u001b[0m",
      " \u001b[38;5;246m  ·\u001b[0m                 \u001b[38;5;54m─\u001b[0m\u001b[38;5;54m─\u001b[0m\u001b[38;5;54m─\u001b[0m\u001b[38;5;54m┬\u001b[0m\u001b[38;5;54m─\u001b[0m\u001b[38;5;54m─\u001b[0m\u001b[38;5;54m─\u001b[0m  ",
      " \u001b[38;5;246m  ·\u001b[0m                    \u001b[38;5;54m╰\u001b[0m\u001b[38;5;54m─\u001b[0m\u001b[38;5;54m─\u001b[0m\u001b[38;5;54m─\u001b[0m\u001b[38;5;54m─\u001b[0m\u001b[38;5;54m─\u001b[0m unknown field",
      "\u001b[38;5;246m───╯\u001b[0m"
     ]
    }
   ],
   "source": [
    "let mon_panier: PanierDeFruits;\n",
    "\n",
    "dbg!(mon_panier.bananes);"
   ]
  },
  {
   "cell_type": "markdown",
   "id": "moved-darwin",
   "metadata": {
    "deletable": false,
    "editable": false,
    "solution2": "hidden"
   },
   "source": [
    "```\n",
    "let mon_panier = PanierDeFruits {\n",
    "    bananes: 3,\n",
    "    poires: 2,\n",
    "    fraise: 1,\n",
    "};\n",
    "```"
   ]
  }
 ],
 "metadata": {
  "kernelspec": {
   "display_name": "Rust",
   "language": "rust",
   "name": "rust"
  },
  "language_info": {
   "codemirror_mode": "rust",
   "file_extension": ".rs",
   "mimetype": "text/rust",
   "name": "Rust",
   "pygment_lexer": "rust",
   "version": ""
  },
  "toc": {
   "base_numbering": 1,
   "nav_menu": {},
   "number_sections": true,
   "sideBar": true,
   "skip_h1_title": false,
   "title_cell": "Table of Contents",
   "title_sidebar": "Contents",
   "toc_cell": false,
   "toc_position": {
    "height": "calc(100% - 180px)",
    "left": "10px",
    "top": "150px",
    "width": "352px"
   },
   "toc_section_display": true,
   "toc_window_display": false
  }
 },
 "nbformat": 4,
 "nbformat_minor": 5
}
