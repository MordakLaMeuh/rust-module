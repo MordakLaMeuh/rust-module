{
 "cells": [
  {
   "cell_type": "markdown",
   "id": "fuzzy-progressive",
   "metadata": {
    "deletable": false,
    "editable": false
   },
   "source": [
    "# Les enumerations\n",
    "\n",
    "---"
   ]
  },
  {
   "cell_type": "markdown",
   "id": "approved-acting",
   "metadata": {
    "deletable": false,
    "editable": false
   },
   "source": [
    " ## Une forme commune a d'autres langages : \n",
    " \n",
    " \n",
    " - Une énumération en Rust est un type qui représente des données qui sont l'une des nombreuses variantes possibles.. \n",
    " \n",
    " `enum` `EnumName` `{ Variant1, Variant2, ...}`"
   ]
  },
  {
   "cell_type": "code",
   "execution_count": 2,
   "id": "dynamic-presentation",
   "metadata": {
    "deletable": false,
    "editable": false
   },
   "outputs": [],
   "source": [
    "#[derive(Debug, PartialEq)] // Ne faite pas attention pour l'instant a cette ligne !\n",
    "enum Error {\n",
    "    FileNotFound,\n",
    "    BadFormat,\n",
    "    Unexpected,\n",
    "}"
   ]
  },
  {
   "cell_type": "markdown",
   "id": "initial-viewer",
   "metadata": {
    "deletable": false,
    "editable": false
   },
   "source": [
    "- Ici Error sera soit assigner au premier variant, soit au second ou soit au troisième. La syntaxe des namespaces avec `::` sera utilisée pour nommer le variant comme si le type de l'enumeration est un namespace."
   ]
  },
  {
   "cell_type": "code",
   "execution_count": 44,
   "id": "dynamic-april",
   "metadata": {
    "deletable": false,
    "editable": false
   },
   "outputs": [
    {
     "name": "stderr",
     "output_type": "stream",
     "text": [
      "[src/lib.rs:53] e = Unexpected\n"
     ]
    }
   ],
   "source": [
    "let e: Error = Error::Unexpected;\n",
    "\n",
    "dbg!(e);"
   ]
  },
  {
   "cell_type": "markdown",
   "id": "decimal-trunk",
   "metadata": {
    "deletable": false,
    "editable": false
   },
   "source": [
    "`let` `mon_enum_var_name` `:` `EnumName` `=` `EnumName` `::` `VariantName`\n",
    "\n",
    "ou\n",
    "\n",
    "`let` `mon_enum_var_name` `=` `EnumName` `::` `VariantName`"
   ]
  },
  {
   "cell_type": "markdown",
   "id": "chicken-communication",
   "metadata": {
    "deletable": false,
    "editable": false
   },
   "source": [
    "*Ne vous souciez pas pour l'instant de ce **derive(Debug)**, il est nécessaire pour la compilation, nous le verrons en détail au chapitre suivant.*"
   ]
  },
  {
   "cell_type": "markdown",
   "id": "widespread-peoples",
   "metadata": {
    "deletable": false,
    "editable": false
   },
   "source": [
    "- Comme le type de l'enumeration est un namespace, la syntaxe suivante fonctionne aussi :"
   ]
  },
  {
   "cell_type": "code",
   "execution_count": 45,
   "id": "solid-rhythm",
   "metadata": {
    "deletable": false,
    "editable": false
   },
   "outputs": [
    {
     "name": "stderr",
     "output_type": "stream",
     "text": [
      "[src/lib.rs:54] e = Unexpected\n"
     ]
    }
   ],
   "source": [
    "// On importe ici les noms des variants dans le scope\n",
    "use Error::*;\n",
    "\n",
    "// Plus besoin d'utiliser Error::Unexpected puisque le compilateur sait deja ce qu'est Unexpected.\n",
    "let e: Error = Unexpected;\n",
    "\n",
    "dbg!(e);"
   ]
  },
  {
   "cell_type": "markdown",
   "id": "julian-thickness",
   "metadata": {
    "deletable": false,
    "editable": false
   },
   "source": [
    "- Enfin, il est possible de tester la valeur de Error. Ici le **derive(PartialEq)** est malheureusement nécessaire afin que le code compile, nous verrons ça aussi en détail au chapitre suivant."
   ]
  },
  {
   "cell_type": "code",
   "execution_count": 46,
   "id": "generic-catholic",
   "metadata": {
    "deletable": false,
    "editable": false
   },
   "outputs": [
    {
     "name": "stdout",
     "output_type": "stream",
     "text": [
      "Bad Format !\n"
     ]
    },
    {
     "data": {
      "text/plain": [
       "()"
      ]
     },
     "execution_count": 46,
     "metadata": {},
     "output_type": "execute_result"
    }
   ],
   "source": [
    "let e: Error = Error::BadFormat;\n",
    "\n",
    "if e == Error::Unexpected {\n",
    "    println!(\"Unexpected !\");\n",
    "} else if e == Error::BadFormat {\n",
    "    println!(\"Bad Format !\");\n",
    "} else {\n",
    "    println!(\"File not found !\");\n",
    "}\n"
   ]
  },
  {
   "cell_type": "markdown",
   "id": "challenging-carroll",
   "metadata": {
    "deletable": false,
    "editable": false
   },
   "source": [
    "- Pour des types numériques, on peut aussi forcer la représentation des valeurs d'une énumération par un type primitif tel u32 via la directive `#[repr(u32)]`, ceci peut avoir son importance si l'on veut interfacer le code Rust avec du C par exemple. cf. FFI"
   ]
  },
  {
   "cell_type": "code",
   "execution_count": 49,
   "id": "gorgeous-sister",
   "metadata": {
    "deletable": false,
    "editable": false
   },
   "outputs": [
    {
     "name": "stderr",
     "output_type": "stream",
     "text": [
      "[src/lib.rs:55] &err = BadFormat\n",
      "[src/lib.rs:56] err as u32 = 7\n"
     ]
    },
    {
     "name": "stdout",
     "output_type": "stream",
     "text": [
      "Bad Format !\n"
     ]
    },
    {
     "data": {
      "text/plain": [
       "()"
      ]
     },
     "execution_count": 49,
     "metadata": {},
     "output_type": "execute_result"
    }
   ],
   "source": [
    "#[derive(Debug, PartialEq)]\n",
    "#[repr(u32)]\n",
    "enum Error {\n",
    "    FileNotFound = 0,\n",
    "    BadFormat = 7,\n",
    "    Unexpected = 11,\n",
    "}\n",
    "\n",
    "let err = Error::BadFormat;\n",
    "dbg!(&err);\n",
    "dbg!(err as u32); // Ca permet le cast en u32 !\n",
    "\n",
    "let err = Error::BadFormat;\n",
    "if err as u32 == 7 {\n",
    "    println!(\"Bad Format !\");\n",
    "}"
   ]
  },
  {
   "cell_type": "markdown",
   "id": "handed-label",
   "metadata": {
    "deletable": false,
    "editable": false
   },
   "source": [
    "> Il est ainsi possible de caster l'enumeration en u32."
   ]
  },
  {
   "cell_type": "markdown",
   "id": "mechanical-manhattan",
   "metadata": {
    "deletable": false,
    "editable": false
   },
   "source": [
    "## L'association a des donnees:\n",
    "\n",
    " - Contrairement à beaucoup d'autres langages, Rust permet d'associer de véritables set de données aux variants des énumérations:"
   ]
  },
  {
   "cell_type": "code",
   "execution_count": 48,
   "id": "explicit-enclosure",
   "metadata": {
    "deletable": false,
    "editable": false
   },
   "outputs": [
    {
     "name": "stderr",
     "output_type": "stream",
     "text": [
      "[src/lib.rs:59] v = Wolkswagen(\n",
      "    Wolkswagen {\n",
      "        max_speed: 180,\n",
      "    },\n",
      "        model: \"BMW\",\n",
      ")\n",
      "[src/lib.rs:62] v = None\n",
      "[src/lib.rs:65] v = Unexpected(\n",
      "    126,\n",
      ")\n"
     ]
    }
   ],
   "source": [
    "#[derive(Debug)]\n",
    "struct Lada {\n",
    "    model: String,\n",
    "    max_speed: usize,\n",
    "    capacity: usize,\n",
    "}\n",
    "\n",
    "#[derive(Debug)]\n",
    "struct Wolkswagen {\n",
    "    model: String,\n",
    "    max_speed: usize,\n",
    "}\n",
    "\n",
    "#[derive(Debug)]\n",
    "struct Bike;\n",
    "\n",
    "#[derive(Debug)]\n",
    "enum Vehicle {\n",
    "    Lada(Lada),\n",
    "    Wolkswagen(Wolkswagen),\n",
    "    Bike(Bike),\n",
    "    Unknown,\n",
    "    Unexpected(usize),\n",
    "    None,\n",
    "}\n",
    "\n",
    "// v sera un vehicule de type Wolkswagen\n",
    "let mut v = Vehicle::Wolkswagen(Wolkswagen{\n",
    "    model: \"BMW\".to_string(),\n",
    "    max_speed: 180,\n",
    "});\n",
    "\n",
    "dbg!(v);\n",
    "\n",
    "v = Vehicle::None;\n",
    "dbg!(v);\n",
    "\n",
    "v = Vehicle::Unexpected(126);\n",
    "dbg!(v);"
   ]
  },
  {
   "cell_type": "markdown",
   "id": "mighty-budapest",
   "metadata": {
    "deletable": false,
    "editable": false
   },
   "source": [
    "*Bien que ce ne soit en rien une obligation, il est fréquent de rencontrer les mêmes noms pour les variants et les structures contenues.*"
   ]
  },
  {
   "cell_type": "markdown",
   "id": "multiple-product",
   "metadata": {
    "deletable": false,
    "editable": false
   },
   "source": [
    "## Exercices\n",
    "### Le type Link"
   ]
  },
  {
   "cell_type": "markdown",
   "id": "sunrise-receptor",
   "metadata": {
    "deletable": false,
    "editable": false
   },
   "source": [
    " - En C, une liste chaînée est composée de plusieurs maillons qui contiennent chacun une valeur et un pointeur sur le maillon suivant, le dernier maillon de la liste possède un pointeur nul.\n",
    " \n",
    "```\n",
    "#include <stddef.h>\n",
    "#include <stdio.h>\n",
    "\n",
    "struct Link {\n",
    "     struct Link *next;\n",
    "     unsigned int value;\n",
    " };\n",
    "\n",
    "int main(void) {\n",
    "    struct Link list1, list2;\n",
    "    list1.next = &list2;\n",
    "    list1.value = 11;\n",
    "    list2.next = NULL;\n",
    "    list2.value = 22;\n",
    "\n",
    "    printf(\"l1 val = %i, l2 val = %i next_ptr = %p\\n\", list1.value, list1.next->value, list1.next->next);\n",
    "}\n",
    "```\n",
    "**sortie du programme:** \n",
    "\n",
    "l1 val = 11, l2 val = 22 next_ptr = (nil)"
   ]
  },
  {
   "cell_type": "markdown",
   "id": "brilliant-insert",
   "metadata": {
    "deletable": false,
    "editable": false,
    "solution2": "hidden",
    "solution2_first": true
   },
   "source": [
    "**QUESTION:** \n",
    "Si on veut faire une liste chaînée en Rust sans utiliser de pointeur, quel pourrait être la définition du type Link ou d'autres éléments s'ils sont nécessaires ?"
   ]
  },
  {
   "cell_type": "markdown",
   "id": "spread-income",
   "metadata": {
    "deletable": false,
    "editable": false,
    "solution2": "hidden"
   },
   "source": [
    "L'idée pourrait être d'utiliser une structure qui contient deux champs, un champ valeur et un champ next comme on fait en C. Le champ next sera de type d'une énumération qui aurait comme variant soit une nouvelle structure de type Link, soit un variant que l'on peut nommer None.\n",
    "```\n",
    "    struct Link {\n",
    "        next: Next,\n",
    "        value: usize,\n",
    "    }\n",
    "\n",
    "    enum Next {\n",
    "        Link(Box<Link>),\n",
    "        None,\n",
    "    }\n",
    "```\n",
    "*Une autre spécificité du Rust concerne le fait que l'on ne peut avoir des structures de taille variables et non déterminées a la compilation, ainsi, je suis obligé à déclarer une **Box** qui est en fait une allocation dynamique, ainsi la taille de la Box est fixe, c'est celle d'un pointeur en mémoire. Le code ci-dessous est donc faux :\n",
    "```\n",
    "    struct Link {\n",
    "        next: Next,\n",
    "        value: usize,\n",
    "    }\n",
    "\n",
    "    enum Next {\n",
    "        Link(Link), // FAUX !\n",
    "        None,\n",
    "    }\n",
    "```\n",
    "**ERROR:** rustc: recursive types `Link` and `Next` have infinite size [E0072]\n",
    "\n",
    "- Rust implémente déjà dans la std une énumération qui contient un variant None, ce sont les **Options**. Nous les verrons plus tard. avec Option, le code final d'une liste chainee en rust serait ainsi:\n",
    "```\n",
    "    struct Link {\n",
    "        next: Option<Box<Link>>,\n",
    "        value: usize,\n",
    "    }\n",
    "```"
   ]
  }
 ],
 "metadata": {
  "kernelspec": {
   "display_name": "Rust",
   "language": "rust",
   "name": "rust"
  },
  "language_info": {
   "codemirror_mode": "rust",
   "file_extension": ".rs",
   "mimetype": "text/rust",
   "name": "Rust",
   "pygment_lexer": "rust",
   "version": ""
  },
  "toc": {
   "base_numbering": "2",
   "nav_menu": {},
   "number_sections": true,
   "sideBar": true,
   "skip_h1_title": false,
   "title_cell": "Table of Contents",
   "title_sidebar": "Contents",
   "toc_cell": false,
   "toc_position": {
    "height": "calc(100% - 180px)",
    "left": "10px",
    "top": "150px",
    "width": "384px"
   },
   "toc_section_display": true,
   "toc_window_display": false
  }
 },
 "nbformat": 4,
 "nbformat_minor": 5
}
