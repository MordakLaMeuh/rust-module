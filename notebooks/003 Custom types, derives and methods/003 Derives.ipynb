{
 "cells": [
  {
   "cell_type": "markdown",
   "id": "attached-bearing",
   "metadata": {
    "deletable": false,
    "editable": false
   },
   "source": [
    "# Les implementations de trait\n",
    "\n",
    "> Un trait définit une interface abstraite que les types peuvent implémenter. Cela permet aux types de partager des fonctionnalités communes sans avoir à partager une hiérarchie de classes commune. Nous avons précédemment croisé des traits utilises avec le mot-clef **derive** qui conféraient à nos structures ou a nos énumérations des capacités comme pouvoir debugger les valeurs en les affichant `Debug` ou bien un trait qui servait à la comparaison lors d'une condition `PartialEq`. Il existe aussi beaucoup d'autres traits qui ne sont pas dérivables et qui devraient être manuellement implémentés.\n",
    " \n",
    " ---"
   ]
  },
  {
   "cell_type": "markdown",
   "id": "italian-listing",
   "metadata": {
    "deletable": false,
    "editable": false
   },
   "source": [
    "## Les traits derivables"
   ]
  },
  {
   "cell_type": "markdown",
   "id": "electoral-public",
   "metadata": {
    "deletable": false,
    "editable": false
   },
   "source": [
    "### Le trait Debug\n",
    "\n",
    "- Tous les types basiques que nous avons vu au chapitre 2 implémentent **Debug** via la std. Par exemple, si je cherche dans la documentation de la std des informations sur le type u64, dans la partie *Trait Implementations* à gauche, je peux y trouver Debug. Concrètement si je désire afficher la valeur de mon u64 via la macro `dbg!` ou via la macro `println!` avec en parametre `{:?}`, je peux visualiser cette valeur."
   ]
  },
  {
   "cell_type": "code",
   "execution_count": 58,
   "id": "awful-technique",
   "metadata": {
    "deletable": false,
    "editable": false
   },
   "outputs": [
    {
     "name": "stderr",
     "output_type": "stream",
     "text": [
      "[src/lib.rs:129] j = 7\n"
     ]
    }
   ],
   "source": [
    "let j: u64 = 7;\n",
    "dbg!(j);\n",
    "println!(\"La valeur de j est {:?}\", j);"
   ]
  },
  {
   "cell_type": "markdown",
   "id": "serious-central",
   "metadata": {
    "deletable": false,
    "editable": false
   },
   "source": [
    "Le type u64 implémente aussi le trait `Display`, trait qui permet d'afficher la valeur de façon \"formatée\", ce n'est plus un simple debug. Pour utiliser l'implémentation du trait Display de mon u64, je peux utiliser la macro println! avec en paramètre `{}`."
   ]
  },
  {
   "cell_type": "code",
   "execution_count": 59,
   "id": "institutional-passage",
   "metadata": {
    "deletable": false,
    "editable": false
   },
   "outputs": [
    {
     "name": "stdout",
     "output_type": "stream",
     "text": [
      "La valeur de j est 7\n",
      "Valeur formatee de j: 11\n"
     ]
    }
   ],
   "source": [
    "let j: u64 = 11;\n",
    "println!(\"Valeur formatee de j: {}\", j);"
   ]
  },
  {
   "cell_type": "markdown",
   "id": "active-course",
   "metadata": {
    "deletable": false,
    "editable": false
   },
   "source": [
    "*Cependant, Display n'est pas un trait dérivable contrairement à Debug, car si par exemple, je veux afficher une structure de façon formatée pour l'affichage final de mon programme, le compilateur ne peut deviner de quel façon je voudrais qu'il s'affiche !*"
   ]
  },
  {
   "cell_type": "markdown",
   "id": "legitimate-retro",
   "metadata": {
    "deletable": false,
    "editable": false
   },
   "source": [
    "- Mais revenons au trait Debug, que se passe-t-il si je cherche à afficher les valeurs d'une structure Vector écrite pas mes soins ?"
   ]
  },
  {
   "cell_type": "code",
   "execution_count": 60,
   "id": "common-principal",
   "metadata": {
    "deletable": false,
    "editable": false
   },
   "outputs": [
    {
     "ename": "Error",
     "evalue": "`Vector` doesn't implement `Debug`",
     "output_type": "error",
     "traceback": [
      "\u001b[31m[E0277] Error:\u001b[0m `Vector` doesn't implement `Debug`",
      "   \u001b[38;5;246m╭\u001b[0m\u001b[38;5;246m─\u001b[0m\u001b[38;5;246m[\u001b[0mcommand_60:1:1\u001b[38;5;246m]\u001b[0m",
      "   \u001b[38;5;246m│\u001b[0m",
      " \u001b[38;5;246m1 │\u001b[0m \u001b[38;5;249ms\u001b[0m\u001b[38;5;249mt\u001b[0m\u001b[38;5;249mr\u001b[0m\u001b[38;5;249mu\u001b[0m\u001b[38;5;249mc\u001b[0m\u001b[38;5;249mt\u001b[0m\u001b[38;5;249m \u001b[0m\u001b[38;5;249mV\u001b[0m\u001b[38;5;249me\u001b[0m\u001b[38;5;249mc\u001b[0m\u001b[38;5;249mt\u001b[0m\u001b[38;5;249mo\u001b[0m\u001b[38;5;249mr\u001b[0m\u001b[38;5;249m \u001b[0m\u001b[38;5;249m{\u001b[0m",
      " \u001b[38;5;246m  ·\u001b[0m \u001b[38;5;54m│\u001b[0m ",
      " \u001b[38;5;246m  ·\u001b[0m \u001b[38;5;54m╰\u001b[0m\u001b[38;5;54m─\u001b[0m help: consider annotating `Vector` with `#[derive(Debug)]`: `#[derive(Debug)]",
      "`",
      " \u001b[38;5;246m  ·\u001b[0m ",
      " \u001b[38;5;246m  ·\u001b[0m \u001b[38;5;115mNote\u001b[0m: `Vector` cannot be formatted using `{:?}`",
      "\u001b[38;5;246m───╯\u001b[0m"
     ]
    },
    {
     "ename": "Error",
     "evalue": "`Vector` doesn't implement `Debug`",
     "output_type": "error",
     "traceback": [
      "\u001b[31m[E0277] Error:\u001b[0m `Vector` doesn't implement `Debug`",
      "   \u001b[38;5;246m╭\u001b[0m\u001b[38;5;246m─\u001b[0m\u001b[38;5;246m[\u001b[0mcommand_60:1:1\u001b[38;5;246m]\u001b[0m",
      "   \u001b[38;5;246m│\u001b[0m",
      " \u001b[38;5;246m1 │\u001b[0m \u001b[38;5;249ms\u001b[0m\u001b[38;5;249mt\u001b[0m\u001b[38;5;249mr\u001b[0m\u001b[38;5;249mu\u001b[0m\u001b[38;5;249mc\u001b[0m\u001b[38;5;249mt\u001b[0m\u001b[38;5;249m \u001b[0m\u001b[38;5;249mV\u001b[0m\u001b[38;5;249me\u001b[0m\u001b[38;5;249mc\u001b[0m\u001b[38;5;249mt\u001b[0m\u001b[38;5;249mo\u001b[0m\u001b[38;5;249mr\u001b[0m\u001b[38;5;249m \u001b[0m\u001b[38;5;249m{\u001b[0m",
      " \u001b[38;5;246m  ·\u001b[0m \u001b[38;5;100m│\u001b[0m ",
      " \u001b[38;5;246m  ·\u001b[0m \u001b[38;5;100m╰\u001b[0m\u001b[38;5;100m─\u001b[0m help: consider annotating `Vector` with `#[derive(Debug)]`: `#[derive(Debug)]",
      "`",
      " \u001b[38;5;246m  ·\u001b[0m ",
      " \u001b[38;5;246m9 │\u001b[0m \u001b[38;5;54md\u001b[0m\u001b[38;5;54mb\u001b[0m\u001b[38;5;54mg\u001b[0m\u001b[38;5;54m!\u001b[0m\u001b[38;5;54m(\u001b[0m\u001b[38;5;54mv\u001b[0m\u001b[38;5;54m1\u001b[0m\u001b[38;5;54m)\u001b[0m\u001b[38;5;249m;\u001b[0m",
      " \u001b[38;5;246m  ·\u001b[0m \u001b[38;5;54m─\u001b[0m\u001b[38;5;54m─\u001b[0m\u001b[38;5;54m─\u001b[0m\u001b[38;5;54m─\u001b[0m\u001b[38;5;54m┬\u001b[0m\u001b[38;5;54m─\u001b[0m\u001b[38;5;54m─\u001b[0m\u001b[38;5;54m─\u001b[0m  ",
      " \u001b[38;5;246m  ·\u001b[0m     \u001b[38;5;54m╰\u001b[0m\u001b[38;5;54m─\u001b[0m\u001b[38;5;54m─\u001b[0m\u001b[38;5;54m─\u001b[0m\u001b[38;5;54m─\u001b[0m\u001b[38;5;54m─\u001b[0m `Vector` cannot be formatted using `{:?}`",
      "\u001b[38;5;246m───╯\u001b[0m"
     ]
    }
   ],
   "source": [
    "struct Vector {\n",
    "    i: f64,\n",
    "    j: f64,\n",
    "}\n",
    "let v1: Vector = Vector{\n",
    "    i: 1.12,\n",
    "    j: -2.1\n",
    "};\n",
    "dbg!(v1);"
   ]
  },
  {
   "cell_type": "markdown",
   "id": "stone-benefit",
   "metadata": {
    "deletable": false,
    "editable": false
   },
   "source": [
    "> Le trait `Debug` nécessite d'être implémenté pour notre structure. Debug est un trait qui permet de debugger, les types primitifs que l'on a vu jusqu'à maintenant implémentaient déjà Debug, mais ce n'est pas le cas de notre structure.\n",
    ">\n",
    "> Le compilateur nous propose d'utiliser un dérive pour cela, derive est une macro-procédurale de la std qui permet d'implémenter automatiquement certains traits. Utilisons donc ce derive sur la définition de notre type structure.\n",
    "> \n",
    "> Notons enfin qu'**une structure ne peut dériver de Debug seulement si tous ses champs ont un type qui implémente Debug.**"
   ]
  },
  {
   "cell_type": "code",
   "execution_count": 61,
   "id": "frank-crawford",
   "metadata": {
    "deletable": false,
    "editable": false
   },
   "outputs": [
    {
     "name": "stderr",
     "output_type": "stream",
     "text": [
      "[src/lib.rs:132] v1 = Vector {\n",
      "    i: 1.12,\n",
      "    j: -2.1,\n",
      "}\n"
     ]
    }
   ],
   "source": [
    "#[derive(Debug)]\n",
    "struct Vector {\n",
    "    i: f64,\n",
    "    j: f64,\n",
    "}\n",
    "let v1: Vector = Vector{\n",
    "    i: 1.12,\n",
    "    j: -2.1\n",
    "};\n",
    "dbg!(v1);"
   ]
  },
  {
   "cell_type": "markdown",
   "id": "enormous-tsunami",
   "metadata": {
    "deletable": false,
    "editable": false
   },
   "source": [
    "### Les traits Copy et Clone\n",
    "\n",
    "- Tous les types basiques vus au chapitre 2 implémentent aussi les traits Copy et Clone, c'est-à-dire qu'il n'y a aucune restriction si je veux copier la valeur de ma variable a vers b, modifier celle de b puis pouvoir relire indépendamment a et b."
   ]
  },
  {
   "cell_type": "code",
   "execution_count": 62,
   "id": "manual-cattle",
   "metadata": {
    "deletable": false,
    "editable": false
   },
   "outputs": [
    {
     "name": "stderr",
     "output_type": "stream",
     "text": [
      "[src/lib.rs:132] arr = [\n",
      "    8,\n",
      "    3,\n",
      "    4,\n",
      "]\n",
      "[src/lib.rs:134] arr2 = [\n",
      "    1,\n",
      "    3,\n",
      "    4,\n",
      "]\n"
     ]
    }
   ],
   "source": [
    "    let mut arr = [1, 3, 4];\n",
    "    let arr2 = arr; // On copie les valeur de `arr` dans `arr2`\n",
    "    arr[0] = 8; // On modifie le premier element de `arr`\n",
    "    dbg!(arr);\n",
    "    dbg!(arr2);"
   ]
  },
  {
   "cell_type": "markdown",
   "id": "referenced-colors",
   "metadata": {
    "deletable": false,
    "editable": false
   },
   "source": [
    "- Que se passe-t-il si je cherche à copier ma structure Vector de la même façon ?"
   ]
  },
  {
   "cell_type": "code",
   "execution_count": 63,
   "id": "ultimate-lotus",
   "metadata": {
    "deletable": false,
    "editable": false
   },
   "outputs": [
    {
     "ename": "Error",
     "evalue": "assign to part of moved value: `v1`",
     "output_type": "error",
     "traceback": [
      "\u001b[31m[E0382] Error:\u001b[0m assign to part of moved value: `v1`",
      "    \u001b[38;5;246m╭\u001b[0m\u001b[38;5;246m─\u001b[0m\u001b[38;5;246m[\u001b[0mcommand_63:1:1\u001b[38;5;246m]\u001b[0m",
      "    \u001b[38;5;246m│\u001b[0m",
      " \u001b[38;5;246m 6 │\u001b[0m \u001b[38;5;249ml\u001b[0m\u001b[38;5;249me\u001b[0m\u001b[38;5;249mt\u001b[0m\u001b[38;5;249m \u001b[0m\u001b[38;5;68mm\u001b[0m\u001b[38;5;68mu\u001b[0m\u001b[38;5;68mt\u001b[0m\u001b[38;5;68m \u001b[0m\u001b[38;5;68mv\u001b[0m\u001b[38;5;68m1\u001b[0m\u001b[38;5;249m:\u001b[0m\u001b[38;5;249m \u001b[0m\u001b[38;5;249mV\u001b[0m\u001b[38;5;249me\u001b[0m\u001b[38;5;249mc\u001b[0m\u001b[38;5;249mt\u001b[0m\u001b[38;5;249mo\u001b[0m\u001b[38;5;249mr\u001b[0m\u001b[38;5;249m \u001b[0m\u001b[38;5;249m=\u001b[0m\u001b[38;5;249m \u001b[0m\u001b[38;5;249mV\u001b[0m\u001b[38;5;249me\u001b[0m\u001b[38;5;249mc\u001b[0m\u001b[38;5;249mt\u001b[0m\u001b[38;5;249mo\u001b[0m\u001b[38;5;249mr\u001b[0m\u001b[38;5;249m{\u001b[0m",
      " \u001b[38;5;246m   ·\u001b[0m     \u001b[38;5;68m─\u001b[0m\u001b[38;5;68m─\u001b[0m\u001b[38;5;68m─\u001b[0m\u001b[38;5;68m┬\u001b[0m\u001b[38;5;68m─\u001b[0m\u001b[38;5;68m─\u001b[0m  ",
      " \u001b[38;5;246m   ·\u001b[0m        \u001b[38;5;68m╰\u001b[0m\u001b[38;5;68m─\u001b[0m\u001b[38;5;68m─\u001b[0m\u001b[38;5;68m─\u001b[0m\u001b[38;5;68m─\u001b[0m move occurs because `v1` has type `Vector`, which does not implement the `Copy` trait",
      " \u001b[38;5;246m   ·\u001b[0m ",
      " \u001b[38;5;246m10 │\u001b[0m \u001b[38;5;249ml\u001b[0m\u001b[38;5;249me\u001b[0m\u001b[38;5;249mt\u001b[0m\u001b[38;5;249m \u001b[0m\u001b[38;5;249mv\u001b[0m\u001b[38;5;249m2\u001b[0m\u001b[38;5;249m \u001b[0m\u001b[38;5;249m=\u001b[0m\u001b[38;5;249m \u001b[0m\u001b[38;5;54mv\u001b[0m\u001b[38;5;54m1\u001b[0m\u001b[38;5;249m;\u001b[0m",
      " \u001b[38;5;246m   ·\u001b[0m          \u001b[38;5;54m─\u001b[0m\u001b[38;5;54m┬\u001b[0m  ",
      " \u001b[38;5;246m   ·\u001b[0m           \u001b[38;5;54m╰\u001b[0m\u001b[38;5;54m─\u001b[0m\u001b[38;5;54m─\u001b[0m value moved here",
      " \u001b[38;5;246m11 │\u001b[0m \u001b[38;5;100mv\u001b[0m\u001b[38;5;100m1\u001b[0m\u001b[38;5;100m.\u001b[0m\u001b[38;5;100mi\u001b[0m\u001b[38;5;100m \u001b[0m\u001b[38;5;100m=\u001b[0m\u001b[38;5;100m \u001b[0m\u001b[38;5;100m-\u001b[0m\u001b[38;5;100m5\u001b[0m\u001b[38;5;100m.\u001b[0m\u001b[38;5;100m5\u001b[0m\u001b[38;5;249m;\u001b[0m",
      " \u001b[38;5;246m   ·\u001b[0m \u001b[38;5;100m─\u001b[0m\u001b[38;5;100m─\u001b[0m\u001b[38;5;100m─\u001b[0m\u001b[38;5;100m─\u001b[0m\u001b[38;5;100m─\u001b[0m\u001b[38;5;100m┬\u001b[0m\u001b[38;5;100m─\u001b[0m\u001b[38;5;100m─\u001b[0m\u001b[38;5;100m─\u001b[0m\u001b[38;5;100m─\u001b[0m\u001b[38;5;100m─\u001b[0m  ",
      " \u001b[38;5;246m   ·\u001b[0m      \u001b[38;5;100m╰\u001b[0m\u001b[38;5;100m─\u001b[0m\u001b[38;5;100m─\u001b[0m\u001b[38;5;100m─\u001b[0m\u001b[38;5;100m─\u001b[0m\u001b[38;5;100m─\u001b[0m\u001b[38;5;100m─\u001b[0m\u001b[38;5;100m─\u001b[0m value partially assigned here after move",
      "\u001b[38;5;246m────╯\u001b[0m"
     ]
    }
   ],
   "source": [
    "#[derive(Debug)]\n",
    "struct Vector {\n",
    "    i: f64,\n",
    "    j: f64,\n",
    "}\n",
    "let mut v1: Vector = Vector{\n",
    "    i: 1.12,\n",
    "    j: -2.1\n",
    "};\n",
    "let v2 = v1;\n",
    "v1.i = -5.5;\n",
    "dbg!(v1);\n",
    "dbg!(v2);"
   ]
  },
  {
   "cell_type": "markdown",
   "id": "retained-nowhere",
   "metadata": {
    "deletable": false,
    "editable": false
   },
   "source": [
    "> Le trait `Copy` nécessite d'être implémenté pour notre structure ! Copy est un trait qui permet de copier la structure. Selon le compilateur la valeur de v1 a été 'move' dans v2 et n'est donc plus accessible lors de l'appel a dbg!. C'est le mécanisme d'ownership ou de possession que Rust a mis en place afin d'éviter des duplications mémoire de variables, si l'on veut qu'un type puisse être copie, il faudra obligatoirement implémenter Copy et Clone.\n",
    ">\n",
    "> Cela peut être aussi fait grâce à la directive dérive. Nous reviendrons plus tard sur Copy et Clone et ce sur ce mecanisme de move.\n",
    ">\n",
    "> Même règle que précédemment, **tous les champs doivent avoir un type qui soit Copy et Clone pour pouvoir deriver de Copy et de Clone**."
   ]
  },
  {
   "cell_type": "code",
   "execution_count": 64,
   "id": "ignored-ideal",
   "metadata": {
    "deletable": false,
    "editable": false
   },
   "outputs": [
    {
     "name": "stderr",
     "output_type": "stream",
     "text": [
      "[src/lib.rs:132] v1 = Vector {\n",
      "    i: 3.14,\n",
      "    j: 13.32,\n",
      "}\n",
      "[src/lib.rs:133] v2 = Vector {\n",
      "    i: 12.12,\n",
      "    j: 13.32,\n",
      "}\n"
     ]
    }
   ],
   "source": [
    "#[derive(Debug, Copy, Clone)]\n",
    "struct Vector {\n",
    "    i: f64,\n",
    "    j: f64,\n",
    "}\n",
    "let mut v1 = Vector {\n",
    "    i: 12.12,\n",
    "    j: 13.32,\n",
    "};\n",
    "let v2 = v1;\n",
    "v1.i = 3.14;\n",
    "dbg!(v1);\n",
    "dbg!(v2);"
   ]
  },
  {
   "cell_type": "markdown",
   "id": "normal-deployment",
   "metadata": {
    "deletable": false,
    "editable": false
   },
   "source": [
    "> **En résumé, pour l'instant, l'on fera précéder toutes nos structures par `#[derive(Debug, Copy, Clone)]`, nous reviendrons plus tard sur ces éléments.**"
   ]
  },
  {
   "cell_type": "markdown",
   "id": "solid-array",
   "metadata": {
    "deletable": false,
    "editable": false
   },
   "source": [
    "**Il existe d'autres traits dérivables:**\n",
    "- *PartialEq* et *Eq* pour les comparaisons d'égalité\n",
    "- *PartialOrd* et *Ord* pour les comparaisons\n",
    "- *Hash* pour mapper une valeur à une valeur de taille fixe\n",
    "- *Default* Valeur par défaut pour les valeurs par défaut\n",
    "\n",
    "Enfin, on peut aussi se servir d'une crate comme *derive_more* afin de pouvoir encore plus utiliser de derives tels Add ou Sub.\n",
    "\n",
    "- Exemple d'utilisation du trait Default :"
   ]
  },
  {
   "cell_type": "code",
   "execution_count": 65,
   "id": "sunrise-saturday",
   "metadata": {
    "deletable": false,
    "editable": false
   },
   "outputs": [
    {
     "name": "stderr",
     "output_type": "stream",
     "text": [
      "[src/lib.rs:128] Vector::default() = Vector {\n",
      "    i: 0.0,\n",
      "    j: 0.0,\n",
      "}\n"
     ]
    }
   ],
   "source": [
    "#[derive(Copy, Clone, Debug, Default)]\n",
    "struct Vector {\n",
    "    i: f64,\n",
    "    j: f64,\n",
    "}\n",
    "dbg!(Vector::default());"
   ]
  },
  {
   "cell_type": "markdown",
   "id": "sacred-enterprise",
   "metadata": {
    "deletable": false,
    "editable": false
   },
   "source": [
    "## Des implementations que l'on ne peut deriver"
   ]
  },
  {
   "cell_type": "markdown",
   "id": "alpine-cooper",
   "metadata": {
    "deletable": false,
    "editable": false
   },
   "source": [
    "### Le trait Drop\n",
    "\n",
    "* Le trait Drop est invoqué quand une instance d'un type donné est détruit, que ce soit de la pile ou du tas. Implémenter le trait Drop pour un type sert généralement a exécuter quelque chose d'important avant sa destruction.\n",
    "\n",
    "Si l'on implémente Drop pour une structure, ce n'est pas pour faire le boulot de nettoyage de la mémoire a la place du compilateur, mais seulement pour exécuter une action que l'on juge utile au moment de la destruction de la structure. On trouve quelques exemples dans des FFI bas niveau Rust / C. Mais Drop peut aussi aider parfois a débugger et à comprendre quand notre instance est supprimée de la mémoire, c'est utile pour les débutants qui testent Rust,\n",
    "\n",
    "> Selon la documentation de std::ops::Drop...\n",
    "> ```\n",
    "pub trait Drop {\n",
    "// Required method\n",
    "fn drop(&mut self);\n",
    "}\n",
    "> ```\n",
    "> ... pour implémenter le trait Drop, on doit définir une fonction nommée **drop** qui prend en paramètre une instance mutable de notre type note **self** en minuscule. Plus précisément une référence mutable de cette instance, nous ne verrons que plus tard ce qu'est une référence, ce n'est pas si important que ça pour l'instant.\n",
    "\n",
    "* Exemple d'implémentation pour Vector"
   ]
  },
  {
   "cell_type": "code",
   "execution_count": 66,
   "id": "offshore-twelve",
   "metadata": {
    "deletable": false,
    "editable": false
   },
   "outputs": [
    {
     "name": "stderr",
     "output_type": "stream",
     "text": [
      "[src/lib.rs:18] v = Vector {\n",
      "    i: 3.13,\n",
      "    j: 6.12,\n",
      "}\n"
     ]
    }
   ],
   "source": [
    "#[derive(Clone, Debug)]\n",
    "struct Vector {\n",
    "    i: f64,\n",
    "    j: f64,\n",
    "}\n",
    "// Mon implementation de Drop pour Vector\n",
    "impl std::ops::Drop for Vector {\n",
    "    fn drop(&mut self) {\n",
    "        println!(\"The vector is droped !\");\n",
    "    }\n",
    "}\n",
    "fn test() {\n",
    "    let v: Vector = Vector {\n",
    "        i: 3.13,\n",
    "        j: 6.12,\n",
    "    };\n",
    "    dbg!(v);\n",
    "    // A la fin du scope de ma fonction, le destructeur de la variable locale v est appele,\n",
    "    // l'implementation du trait Drop() sera executee.\n",
    "}\n",
    "test();\n",
    "println!(\"Fin de mon code\");"
   ]
  },
  {
   "cell_type": "markdown",
   "id": "lesser-savannah",
   "metadata": {
    "deletable": false,
    "editable": false
   },
   "source": [
    "### Additionner deux vecteurs\n",
    "\n",
    "- Sans surprise, si maintenant, on cherche à additionner deux structures Vector, le compilateur refusera. Il ne sait pas comment additionner nos vecteurs et donc il ne se risque pas non plus a proposer un dérive qui additionnerait les premiers champs ensemble et les seconds champs ensemble. (*La crate derive_mode le fait ça !*)  "
   ]
  },
  {
   "cell_type": "code",
   "execution_count": 67,
   "id": "exciting-keyboard",
   "metadata": {
    "deletable": false,
    "editable": false
   },
   "outputs": [
    {
     "name": "stdout",
     "output_type": "stream",
     "text": [
      "The vector is droped !\n",
      "Fin de mon code\n"
     ]
    },
    {
     "ename": "Error",
     "evalue": "cannot add `Vector` to `Vector`",
     "output_type": "error",
     "traceback": [
      "\u001b[31m[E0369] Error:\u001b[0m cannot add `Vector` to `Vector`",
      "    \u001b[38;5;246m╭\u001b[0m\u001b[38;5;246m─\u001b[0m\u001b[38;5;246m[\u001b[0mcommand_67:1:1\u001b[38;5;246m]\u001b[0m",
      "    \u001b[38;5;246m│\u001b[0m",
      " \u001b[38;5;246m 2 │\u001b[0m \u001b[38;5;37ms\u001b[0m\u001b[38;5;37mt\u001b[0m\u001b[38;5;37mr\u001b[0m\u001b[38;5;37mu\u001b[0m\u001b[38;5;37mc\u001b[0m\u001b[38;5;37mt\u001b[0m\u001b[38;5;37m \u001b[0m\u001b[38;5;37mV\u001b[0m\u001b[38;5;37me\u001b[0m\u001b[38;5;37mc\u001b[0m\u001b[38;5;37mt\u001b[0m\u001b[38;5;37mo\u001b[0m\u001b[38;5;37mr\u001b[0m\u001b[38;5;249m \u001b[0m\u001b[38;5;249m{\u001b[0m",
      " \u001b[38;5;246m   ·\u001b[0m \u001b[38;5;37m─\u001b[0m\u001b[38;5;37m─\u001b[0m\u001b[38;5;37m─\u001b[0m\u001b[38;5;37m─\u001b[0m\u001b[38;5;37m─\u001b[0m\u001b[38;5;37m─\u001b[0m\u001b[38;5;37m┬\u001b[0m\u001b[38;5;37m─\u001b[0m\u001b[38;5;37m─\u001b[0m\u001b[38;5;37m─\u001b[0m\u001b[38;5;37m─\u001b[0m\u001b[38;5;37m─\u001b[0m\u001b[38;5;37m─\u001b[0m  ",
      " \u001b[38;5;246m   ·\u001b[0m       \u001b[38;5;37m╰\u001b[0m\u001b[38;5;37m─\u001b[0m\u001b[38;5;37m─\u001b[0m\u001b[38;5;37m─\u001b[0m\u001b[38;5;37m─\u001b[0m\u001b[38;5;37m─\u001b[0m\u001b[38;5;37m─\u001b[0m\u001b[38;5;37m─\u001b[0m\u001b[38;5;37m─\u001b[0m must implement `Add<_>`",
      " \u001b[38;5;246m   ·\u001b[0m ",
      " \u001b[38;5;246m11 │\u001b[0m \u001b[38;5;249ml\u001b[0m\u001b[38;5;249me\u001b[0m\u001b[38;5;249mt\u001b[0m\u001b[38;5;249m \u001b[0m\u001b[38;5;249mv\u001b[0m\u001b[38;5;249m3\u001b[0m\u001b[38;5;249m \u001b[0m\u001b[38;5;249m=\u001b[0m\u001b[38;5;249m \u001b[0m\u001b[38;5;54mv\u001b[0m\u001b[38;5;54m1\u001b[0m\u001b[38;5;249m \u001b[0m\u001b[38;5;68m+\u001b[0m\u001b[38;5;249m \u001b[0m\u001b[38;5;100mv\u001b[0m\u001b[38;5;100m2\u001b[0m\u001b[38;5;249m;\u001b[0m",
      " \u001b[38;5;246m   ·\u001b[0m          \u001b[38;5;54m─\u001b[0m\u001b[38;5;54m┬\u001b[0m \u001b[38;5;68m┬\u001b[0m \u001b[38;5;100m─\u001b[0m\u001b[38;5;100m┬\u001b[0m  ",
      " \u001b[38;5;246m   ·\u001b[0m           \u001b[38;5;54m╰\u001b[0m\u001b[38;5;54m─\u001b[0m\u001b[38;5;54m─\u001b[0m\u001b[38;5;54m─\u001b[0m\u001b[38;5;54m─\u001b[0m\u001b[38;5;54m─\u001b[0m\u001b[38;5;54m─\u001b[0m\u001b[38;5;54m─\u001b[0m Vector",
      " \u001b[38;5;246m   ·\u001b[0m             \u001b[38;5;68m│\u001b[0m  \u001b[38;5;100m│\u001b[0m  ",
      " \u001b[38;5;246m   ·\u001b[0m             \u001b[38;5;68m╰\u001b[0m\u001b[38;5;68m─\u001b[0m\u001b[38;5;68m─\u001b[0m\u001b[38;5;68m─\u001b[0m\u001b[38;5;68m─\u001b[0m\u001b[38;5;68m─\u001b[0m error: cannot add `Vector` to `Vector`",
      " \u001b[38;5;246m   ·\u001b[0m                \u001b[38;5;100m│\u001b[0m  ",
      " \u001b[38;5;246m   ·\u001b[0m                \u001b[38;5;100m╰\u001b[0m\u001b[38;5;100m─\u001b[0m\u001b[38;5;100m─\u001b[0m Vector",
      " \u001b[38;5;246m   ·\u001b[0m ",
      " \u001b[38;5;246m   ·\u001b[0m \u001b[38;5;115mNote\u001b[0m: note: the trait `Add` must be implemented",
      "\u001b[38;5;246m────╯\u001b[0m"
     ]
    }
   ],
   "source": [
    "#[derive(Copy, Clone, Debug)]\n",
    "struct Vector {\n",
    "    i: f64,\n",
    "    j: f64,\n",
    "}\n",
    "let v1 = Vector {\n",
    "    i: 1.11,\n",
    "    j: 3.33,\n",
    "};\n",
    "let v2 = v1; // Ici, ce sera une copie\n",
    "let v3 = v1 + v2;"
   ]
  },
  {
   "cell_type": "markdown",
   "id": "hazardous-elizabeth",
   "metadata": {
    "deletable": false,
    "editable": false
   },
   "source": [
    "* Hum.... Essayons un Derive..."
   ]
  },
  {
   "cell_type": "code",
   "execution_count": 68,
   "id": "answering-expert",
   "metadata": {
    "deletable": false,
    "editable": false
   },
   "outputs": [
    {
     "ename": "Error",
     "evalue": "cannot find derive macro `Add` in this scope",
     "output_type": "error",
     "traceback": [
      "\u001b[31mError:\u001b[0m cannot find derive macro `Add` in this scope",
      "   \u001b[38;5;246m╭\u001b[0m\u001b[38;5;246m─\u001b[0m\u001b[38;5;246m[\u001b[0mcommand_68:1:1\u001b[38;5;246m]\u001b[0m",
      "   \u001b[38;5;246m│\u001b[0m",
      " \u001b[38;5;246m1 │\u001b[0m \u001b[38;5;249m#\u001b[0m\u001b[38;5;249m[\u001b[0m\u001b[38;5;249md\u001b[0m\u001b[38;5;249me\u001b[0m\u001b[38;5;249mr\u001b[0m\u001b[38;5;249mi\u001b[0m\u001b[38;5;249mv\u001b[0m\u001b[38;5;249me\u001b[0m\u001b[38;5;249m(\u001b[0m\u001b[38;5;54mA\u001b[0m\u001b[38;5;54md\u001b[0m\u001b[38;5;54md\u001b[0m\u001b[38;5;249m,\u001b[0m\u001b[38;5;249m \u001b[0m\u001b[38;5;249mD\u001b[0m\u001b[38;5;249me\u001b[0m\u001b[38;5;249mb\u001b[0m\u001b[38;5;249mu\u001b[0m\u001b[38;5;249mg\u001b[0m\u001b[38;5;249m,\u001b[0m\u001b[38;5;249m \u001b[0m\u001b[38;5;249mC\u001b[0m\u001b[38;5;249mo\u001b[0m\u001b[38;5;249mp\u001b[0m\u001b[38;5;249my\u001b[0m\u001b[38;5;249m,\u001b[0m\u001b[38;5;249m \u001b[0m\u001b[38;5;249mC\u001b[0m\u001b[38;5;249ml\u001b[0m\u001b[38;5;249mo\u001b[0m\u001b[38;5;249mn\u001b[0m\u001b[38;5;249me\u001b[0m\u001b[38;5;249m)\u001b[0m\u001b[38;5;249m]\u001b[0m",
      " \u001b[38;5;246m  ·\u001b[0m          \u001b[38;5;54m─\u001b[0m\u001b[38;5;54m┬\u001b[0m\u001b[38;5;54m─\u001b[0m  ",
      " \u001b[38;5;246m  ·\u001b[0m           \u001b[38;5;54m╰\u001b[0m\u001b[38;5;54m─\u001b[0m\u001b[38;5;54m─\u001b[0m\u001b[38;5;54m─\u001b[0m error: cannot find derive macro `Add` in this scope",
      "\u001b[38;5;246m───╯\u001b[0m"
     ]
    }
   ],
   "source": [
    "#[derive(Add, Debug, Copy, Clone)]\n",
    "struct Vector {\n",
    "    i: f64,\n",
    "    j: f64,\n",
    "}"
   ]
  },
  {
   "cell_type": "markdown",
   "id": "annual-germany",
   "metadata": {
    "deletable": false,
    "editable": false
   },
   "source": [
    "> **must implement `Add<_>`note: the trait `Add` must be implemented**"
   ]
  },
  {
   "cell_type": "markdown",
   "id": "packed-civilization",
   "metadata": {
    "deletable": false,
    "editable": false
   },
   "source": [
    "- Fonctionne pas ... On est donc dans l'obligation d'implementer le trait Add. Cela fera l'objet de l'exercice de fin de chapitre."
   ]
  },
  {
   "cell_type": "markdown",
   "id": "compliant-respect",
   "metadata": {
    "deletable": false,
    "editable": false
   },
   "source": [
    "## Exercice"
   ]
  },
  {
   "cell_type": "markdown",
   "id": "selected-ballot",
   "metadata": {
    "deletable": false,
    "editable": false
   },
   "source": [
    "### En vous aidant de la documentation du trait `Add`, tentez d'implementer ce trait pour la structure Vector."
   ]
  },
  {
   "cell_type": "code",
   "execution_count": 2,
   "id": "interesting-death",
   "metadata": {
    "scrolled": true,
    "solution2": "hidden",
    "solution2_first": true
   },
   "outputs": [
    {
     "ename": "Error",
     "evalue": "cannot find value `v1` in this scope",
     "output_type": "error",
     "traceback": [
      "\u001b[31m[E0425] Error:\u001b[0m cannot find value `v1` in this scope",
      "   \u001b[38;5;246m╭\u001b[0m\u001b[38;5;246m─\u001b[0m\u001b[38;5;246m[\u001b[0mcommand_2:1:1\u001b[38;5;246m]\u001b[0m",
      "   \u001b[38;5;246m│\u001b[0m",
      " \u001b[38;5;246m8 │\u001b[0m \u001b[38;5;249m \u001b[0m\u001b[38;5;249m \u001b[0m\u001b[38;5;249m \u001b[0m\u001b[38;5;249m \u001b[0m\u001b[38;5;249ml\u001b[0m\u001b[38;5;249me\u001b[0m\u001b[38;5;249mt\u001b[0m\u001b[38;5;249m \u001b[0m\u001b[38;5;249mv\u001b[0m\u001b[38;5;249m3\u001b[0m\u001b[38;5;249m \u001b[0m\u001b[38;5;249m=\u001b[0m\u001b[38;5;249m \u001b[0m\u001b[38;5;54mv\u001b[0m\u001b[38;5;54m1\u001b[0m\u001b[38;5;249m \u001b[0m\u001b[38;5;249m+\u001b[0m\u001b[38;5;249m \u001b[0m\u001b[38;5;249mv\u001b[0m\u001b[38;5;249m2\u001b[0m\u001b[38;5;249m;\u001b[0m",
      " \u001b[38;5;246m  ·\u001b[0m              \u001b[38;5;54m─\u001b[0m\u001b[38;5;54m┬\u001b[0m  ",
      " \u001b[38;5;246m  ·\u001b[0m               \u001b[38;5;54m╰\u001b[0m\u001b[38;5;54m─\u001b[0m\u001b[38;5;54m─\u001b[0m not found in this scope",
      "\u001b[38;5;246m───╯\u001b[0m"
     ]
    },
    {
     "ename": "Error",
     "evalue": "cannot find value `v2` in this scope",
     "output_type": "error",
     "traceback": [
      "\u001b[31m[E0425] Error:\u001b[0m cannot find value `v2` in this scope",
      "   \u001b[38;5;246m╭\u001b[0m\u001b[38;5;246m─\u001b[0m\u001b[38;5;246m[\u001b[0mcommand_2:1:1\u001b[38;5;246m]\u001b[0m",
      "   \u001b[38;5;246m│\u001b[0m",
      " \u001b[38;5;246m8 │\u001b[0m \u001b[38;5;249m \u001b[0m\u001b[38;5;249m \u001b[0m\u001b[38;5;249m \u001b[0m\u001b[38;5;249m \u001b[0m\u001b[38;5;249ml\u001b[0m\u001b[38;5;249me\u001b[0m\u001b[38;5;249mt\u001b[0m\u001b[38;5;249m \u001b[0m\u001b[38;5;249mv\u001b[0m\u001b[38;5;249m3\u001b[0m\u001b[38;5;249m \u001b[0m\u001b[38;5;249m=\u001b[0m\u001b[38;5;249m \u001b[0m\u001b[38;5;249mv\u001b[0m\u001b[38;5;249m1\u001b[0m\u001b[38;5;249m \u001b[0m\u001b[38;5;249m+\u001b[0m\u001b[38;5;249m \u001b[0m\u001b[38;5;54mv\u001b[0m\u001b[38;5;54m2\u001b[0m\u001b[38;5;249m;\u001b[0m",
      " \u001b[38;5;246m  ·\u001b[0m                   \u001b[38;5;54m─\u001b[0m\u001b[38;5;54m┬\u001b[0m  ",
      " \u001b[38;5;246m  ·\u001b[0m                    \u001b[38;5;54m╰\u001b[0m\u001b[38;5;54m─\u001b[0m\u001b[38;5;54m─\u001b[0m not found in this scope",
      "\u001b[38;5;246m───╯\u001b[0m"
     ]
    }
   ],
   "source": [
    "{\n",
    "    #[derive(Debug, Copy, Clone)]\n",
    "    struct Vector {\n",
    "        i: f64,\n",
    "        j: f64,\n",
    "    }\n",
    "    // Faire l'implementation ici\n",
    "    let v3 = v1 + v2;\n",
    "    dbg!(v3);\n",
    "}"
   ]
  },
  {
   "cell_type": "markdown",
   "id": "muslim-world",
   "metadata": {
    "deletable": false,
    "editable": false,
    "solution2": "hidden"
   },
   "source": [
    "* Si on regarde la documentation du trait Add dans std::ops::Add:\n",
    ">```\n",
    ">pub trait Add<Rhs = Self> {\n",
    ">    type Output;\n",
    ">\n",
    ">    // Required method\n",
    ">    fn add(self, rhs: Rhs) -> Self::Output;\n",
    ">}\n",
    ">```\n",
    "> - **Self** désigne le type de ce que l'on additionne. Self en majuscule désigne toujours un type.\n",
    "> - **Output** doit être défini lors de l'implémentation. Bien que généralement, le type que l'on additionne donne en résultat le même type en sortie (Vector + Vector = Vector), il est possible que le type de sortie désire soit différent dans quelques cas particuliers (A + A = B).\n",
    "> - **Rhs** veut dire Right Hand Side, c'est le terme de droite. Ici, le prototype du trait Add nous indique que l'on ne peut additionner que deux types identiques. (A + B) et jamais (A + B).\n",
    "> - **self** désigne quant à lui une instance d'une variable de type Self, c'est le terme de gauche.\n",
    "\n",
    "* En suivant l'exemple pour Point décrit dans la documentation. Il apparaît évident que ce sera quasiment la même chose que nous devrons écrire pour la structure Vector.\n",
    "\n",
    "```\n",
    "{\n",
    "    #[derive(Debug, Copy, Clone)]\n",
    "    struct Vector {\n",
    "        i: f64,\n",
    "        j: f64,\n",
    "    }\n",
    "    impl std::ops::Add for Vector {\n",
    "        type Output = Self;\n",
    "\n",
    "        fn add(self, other: Self) -> Self {\n",
    "            Self {\n",
    "                i: self.i + other.i,\n",
    "                j: self.j + other.j,\n",
    "            }\n",
    "        }\n",
    "    }\n",
    "    let v3 = v1 + v2;\n",
    "    dbg!(v3);\n",
    "}\n",
    "```"
   ]
  }
 ],
 "metadata": {
  "kernelspec": {
   "display_name": "Rust",
   "language": "rust",
   "name": "rust"
  },
  "language_info": {
   "codemirror_mode": "rust",
   "file_extension": ".rs",
   "mimetype": "text/rust",
   "name": "Rust",
   "pygment_lexer": "rust",
   "version": ""
  },
  "toc": {
   "base_numbering": "3",
   "nav_menu": {},
   "number_sections": true,
   "sideBar": false,
   "skip_h1_title": false,
   "title_cell": "Table of Contents",
   "title_sidebar": "Contents",
   "toc_cell": false,
   "toc_position": {
    "height": "846px",
    "left": "34px",
    "top": "67.1333px",
    "width": "352px"
   },
   "toc_section_display": true,
   "toc_window_display": false
  }
 },
 "nbformat": 4,
 "nbformat_minor": 5
}
