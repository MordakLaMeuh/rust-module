{
 "cells": [
  {
   "cell_type": "markdown",
   "id": "vertical-midwest",
   "metadata": {
    "deletable": false,
    "editable": false
   },
   "source": [
    "# Les Méthodes"
   ]
  },
  {
   "cell_type": "markdown",
   "id": "artificial-microwave",
   "metadata": {
    "deletable": false,
    "editable": false
   },
   "source": [
    "**Attention, bien que ce chapitre traite essentiellement des méthodes en Rust, il introduit aussi des notions du langage comme l'OWNERSHIP, le trait Copy et les RÉFÉRENCES. Ces différents aspects seront détaillés plus tard dans le cours.** \n",
    "\n",
    "---\n",
    "\n",
    "- Il est possible de définir des **fonctions propres aux structures et aux énumérations**, on les appelle communément des méthodes à cause de leur similitude avec celles des langages objet. Il existe 3 types de méthodes :\n",
    "> - Les méthodes **non-mutables** qui ne modifient pas les données.\n",
    "> - Les méthodes **mutables** qui modifient les données.\n",
    "> - Et les **constructeurs**, bien que non-indispensables, ils retourneront une instance de l'objet initialisé.\n",
    "\n",
    "**NB** *Il n'y a pas de Destructeur à proprement parler en Rust, les objets sont automatiquement détruits lorque ils ne sont plus dans le scope.*\n",
    "\n",
    "À partir des types suivant, nous construirons différentes méthodes:\n",
    "\n",
    "> ```\n",
    "struct Virt(usize);\n",
    "struct Phys(usize);\n",
    "enum Address {\n",
    "    Virt(Virt),\n",
    "    Phys(Phys)\n",
    "}\n",
    "> ```"
   ]
  },
  {
   "cell_type": "markdown",
   "id": "fewer-insert",
   "metadata": {
    "deletable": false,
    "editable": false
   },
   "source": [
    "## Les constructeurs\n",
    "\n",
    "* Un constructeur est une fonction qui retourne une instance initialisée d'un type donne. Voici un exemple de constructeur si l'on n'utilise pas la syntaxe des implémentations de méthodes :"
   ]
  },
  {
   "cell_type": "code",
   "execution_count": 3,
   "id": "every-blank",
   "metadata": {
    "deletable": false,
    "editable": false
   },
   "outputs": [
    {
     "name": "stderr",
     "output_type": "stream",
     "text": [
      "[src/lib.rs:34] v = Vector {\n",
      "    i: 0.0,\n",
      "    j: 0.0,\n",
      "}\n"
     ]
    },
    {
     "data": {
      "text/plain": [
       "()"
      ]
     },
     "execution_count": 3,
     "metadata": {},
     "output_type": "execute_result"
    }
   ],
   "source": [
    "{\n",
    "    #[derive(Copy, Clone, Debug, Default)]\n",
    "    struct Vector {\n",
    "        i: f64,\n",
    "        j: f64,\n",
    "    }\n",
    "    // Ceci n'est pas considere comme un vrai constructeur, c'est juste une fonction !\n",
    "    fn new_default_vector() -> Vector {\n",
    "        Vector::default() // Default trait used\n",
    "    }\n",
    "    let v = new_default_vector();\n",
    "    dbg!(v);\n",
    "}"
   ]
  },
  {
   "cell_type": "markdown",
   "id": "early-brand",
   "metadata": {
    "deletable": false,
    "editable": false
   },
   "source": [
    "> Dans le code ci-dessus, new_default_vector n'est pas a proprement parler un constructeur de Vector mais seulement une fonction qui retourne un Vector !\n",
    "\n",
    "### Creation d'un vrai constructeur\n",
    "\n",
    "- Afin de pouvoir preparer l'implementation de methodes pour un type, on utilisera la syntaxe `impl` `MonType` `{ methods list... }` soit **impl Vector { ... }** pour notre exemple précèdent:"
   ]
  },
  {
   "cell_type": "code",
   "execution_count": 2,
   "id": "victorian-summit",
   "metadata": {
    "deletable": false,
    "editable": false
   },
   "outputs": [
    {
     "data": {
      "text/plain": [
       "()"
      ]
     },
     "execution_count": 2,
     "metadata": {},
     "output_type": "execute_result"
    }
   ],
   "source": [
    "{\n",
    "    #[derive(Copy, Clone, Debug, Default)]\n",
    "    struct Vector {\n",
    "        i: f64,\n",
    "        j: f64,\n",
    "    }\n",
    "    // On implemente les methodes du type Vector.\n",
    "    // A l'interieur de l'implementation, Self sera equivalent a Vector.\n",
    "    impl Vector {}\n",
    "}"
   ]
  },
  {
   "cell_type": "markdown",
   "id": "golden-validity",
   "metadata": {
    "deletable": false,
    "editable": false
   },
   "source": [
    "- Ensuite, il suffit de mettre ce qui était auparavant une fonction à l'intérieur de l'implémentation de Vector :"
   ]
  },
  {
   "cell_type": "code",
   "execution_count": 5,
   "id": "violent-violence",
   "metadata": {
    "deletable": false,
    "editable": false
   },
   "outputs": [
    {
     "name": "stderr",
     "output_type": "stream",
     "text": [
      "[src/lib.rs:40] v = Vector {\n",
      "    i: 0.0,\n",
      "    j: 0.0,\n",
      "}\n"
     ]
    },
    {
     "data": {
      "text/plain": [
       "()"
      ]
     },
     "execution_count": 5,
     "metadata": {},
     "output_type": "execute_result"
    }
   ],
   "source": [
    "{\n",
    "    #[derive(Copy, Clone, Debug, Default)]\n",
    "    struct Vector {\n",
    "        i: f64,\n",
    "        j: f64,\n",
    "    }\n",
    "    // On implemente les methodes du type Vector.\n",
    "    // A l'interieur de l'implementation, Self sera equivalent a Vector.\n",
    "    impl Vector {\n",
    "        // Ici c'est un constructeur puisqu'il est dans l'implementation et retourne Self.\n",
    "        fn new_default_vector() -> Self {\n",
    "            // J'utilise l'implentation du trait Default ici, mais on pourrait aussi retourner Self { i: 0.0, j: 0.0}\n",
    "            Self::default()\n",
    "        }\n",
    "    }\n",
    "    // La fonction new_default_vector() est dorenavant une fonction associee a Vector.\n",
    "    // La syntaxe des Type::fn() fait reference a ces fonctions. \n",
    "    let v = Vector::new_default_vector();\n",
    "    dbg!(v);   \n",
    "}"
   ]
  },
  {
   "cell_type": "markdown",
   "id": "municipal-editing",
   "metadata": {
    "deletable": false,
    "editable": false
   },
   "source": [
    "> *NB* *A l'intérieur de l'implémentation, `Self` en majuscule fait référence au type qui est implémenté. Bien qu'il soit tout à fait possible d'écrire explicitement le nom du type, il est plus commode d'utiliser Self dans un souci d'uniformisation.*\n",
    "\n",
    "*Retenir la syntaxe avec les `::` de `Type::mon_constructeur()` pour appeler le constructeur ou tout autre méthodes.*"
   ]
  },
  {
   "cell_type": "markdown",
   "id": "afraid-tutorial",
   "metadata": {
    "deletable": false,
    "editable": false
   },
   "source": [
    "* Voici ce à quoi ressembleraient des constructeurs pour les 3 types donnes en introduction. On suit ces 3 règles:\n",
    "\n",
    "> - On commence toujours par `impl MonType`.\n",
    "> - Un constructeur devra retourner `Self` en majuscule, Self désigne le type de l'implémentation soit MonType ici.\n",
    "> - Il n'est pas oblige que le nom de la fonction constructeur soit `new`."
   ]
  },
  {
   "cell_type": "code",
   "execution_count": 7,
   "id": "fossil-quick",
   "metadata": {
    "deletable": false,
    "editable": false
   },
   "outputs": [],
   "source": [
    "#[derive(Debug)]\n",
    "struct Virt(usize);\n",
    "#[derive(Debug)]\n",
    "struct Phys(usize);\n",
    "#[derive(Debug)]\n",
    "enum Address {\n",
    "    Virt(Virt),\n",
    "    Phys(Phys)\n",
    "}\n",
    "\n",
    "impl Virt {\n",
    "    fn new(location: usize) -> Self {\n",
    "        Self(location)\n",
    "    }\n",
    "}\n",
    "impl Phys {\n",
    "    fn new(location: usize) -> Self {\n",
    "        Self(location)\n",
    "    }\n",
    "}\n",
    "// Cette implémentation possède 2 constructeurs différents.\n",
    "impl Address {\n",
    "    fn new_physical_address(location: usize) -> Self {\n",
    "        Self::Phys(Phys::new(location))\n",
    "    }\n",
    "    fn new_virtual_address(location: usize) -> Self {\n",
    "        Self::Virt(Virt::new(location))\n",
    "    }\n",
    "}"
   ]
  },
  {
   "cell_type": "markdown",
   "id": "bridal-contemporary",
   "metadata": {
    "deletable": false,
    "editable": false
   },
   "source": [
    "- Nous pouvons utiliser les constructeurs ainsi : le nom de la fonction du Constructeur est associé au type de l'objet, syntaxe `Type` `::` `mon_constructeur(paramètres...)`."
   ]
  },
  {
   "cell_type": "code",
   "execution_count": 8,
   "id": "cultural-absorption",
   "metadata": {
    "deletable": false,
    "editable": false
   },
   "outputs": [
    {
     "name": "stderr",
     "output_type": "stream",
     "text": [
      "[src/lib.rs:37] a = Phys(\n",
      "    Phys(\n",
      "        4096,\n",
      "    ),\n",
      ")\n"
     ]
    }
   ],
   "source": [
    "let a: Address = Address::new_physical_address(0x1000);\n",
    "\n",
    "dbg!(a);"
   ]
  },
  {
   "cell_type": "markdown",
   "id": "saved-smart",
   "metadata": {
    "deletable": false,
    "editable": false
   },
   "source": [
    "## Les méthodes non-mutables \n",
    "\n",
    "### Introduction\n",
    "\n",
    "- Une méthode dite non-mutable est une méthode qui **ne modifie pas les données** de l'objet passé en paramètre. Prenons par exemple une fonction qui affiche simplement les données contenues : "
   ]
  },
  {
   "cell_type": "code",
   "execution_count": 10,
   "id": "domestic-venezuela",
   "metadata": {
    "deletable": false,
    "editable": false
   },
   "outputs": [
    {
     "name": "stderr",
     "output_type": "stream",
     "text": [
      "[src/lib.rs:29] v = Complex {\n",
      "    r: 3.14,\n",
      "    i: 7.32,\n",
      "}\n"
     ]
    }
   ],
   "source": [
    "#[derive(Copy, Clone, Debug, Default)]\n",
    "struct Complex {\n",
    "    r: f64,\n",
    "    i: f64,\n",
    "}\n",
    "\n",
    "// Il n'est pas toujours utile d'utiliser un constructeur.\n",
    "let mon_nombre_complexe: Complex = Complex {\n",
    "    r: 3.14,\n",
    "    i: 7.32,\n",
    "};\n",
    "\n",
    "// Definition de la fonction dump_data.\n",
    "fn dump_data(v: Complex) {\n",
    "    dbg!(v);\n",
    "}\n",
    "\n",
    "dump_data(mon_nombre_complexe);"
   ]
  },
  {
   "cell_type": "markdown",
   "id": "precious-victor",
   "metadata": {
    "deletable": false,
    "editable": false
   },
   "source": [
    "- Maintenant, remplaçons la fonction dump_data par une méthode dump_data :"
   ]
  },
  {
   "cell_type": "code",
   "execution_count": 12,
   "id": "satisfactory-unknown",
   "metadata": {
    "deletable": false,
    "editable": false
   },
   "outputs": [
    {
     "name": "stderr",
     "output_type": "stream",
     "text": [
      "[src/lib.rs:47] self = Complex {\n",
      "    r: 3.14,\n",
      "    i: 7.32,\n",
      "}\n"
     ]
    }
   ],
   "source": [
    "#[derive(Copy, Clone, Debug, Default)]\n",
    "struct Complex {\n",
    "    r: f64,\n",
    "    i: f64,\n",
    "}\n",
    "\n",
    "// Il n'est pas toujours utile d'utiliser un constructeur.\n",
    "// Je construis ma variable a la main.\n",
    "let mon_nombre_complexe: Complex = Complex {\n",
    "    r: 3.14,\n",
    "    i: 7.32,\n",
    "};\n",
    "\n",
    "impl Complex {\n",
    "    // Definition de la methode dump_data\n",
    "    fn dump_data(self) {\n",
    "        dbg!(self);\n",
    "    }\n",
    "}\n",
    "\n",
    "Complex::dump_data(mon_nombre_complexe);"
   ]
  },
  {
   "cell_type": "markdown",
   "id": "supported-malaysia",
   "metadata": {
    "deletable": false,
    "editable": false
   },
   "source": [
    "> Ici `self` mais en minuscule cette fois fait référence non plus au type lui meme, mais a **une instance de ce type**.\n",
    "\n",
    "* **NB** Rust propose une syntaxe pratique (syntaxic sugar) pour appeler les méthodes. Plutôt que d'appeler `MonType` `::` `ma_methode(mon_instance)`, on peut a la place écrire `mon_instance` `.` `ma_methode()` avec un point entre mon instance et ma méthode."
   ]
  },
  {
   "cell_type": "code",
   "execution_count": 134,
   "id": "recreational-hobby",
   "metadata": {
    "deletable": false,
    "editable": false
   },
   "outputs": [
    {
     "name": "stderr",
     "output_type": "stream",
     "text": [
      "[src/lib.rs:45] self = Complex {\n",
      "    r: 1.98,\n",
      "    i: 3.11,\n",
      "}\n"
     ]
    }
   ],
   "source": [
    "// Il n'est pas toujours utile d'utiliser un constructeur.\n",
    "let mon_nombre_complexe: Complex = Complex {\n",
    "    r: 1.98,\n",
    "    i: 3.11,\n",
    "};\n",
    "\n",
    "// Tout simplement. \n",
    "mon_nombre_complexe.dump_data();"
   ]
  },
  {
   "cell_type": "markdown",
   "id": "antique-chicken",
   "metadata": {
    "deletable": false,
    "editable": false
   },
   "source": [
    "> Cette syntaxe est plus élégante.\n",
    "\n",
    "- Il parait tout aussi aisé d'appeler la méthode plusieurs fois de suite..."
   ]
  },
  {
   "cell_type": "code",
   "execution_count": 146,
   "id": "likely-contrary",
   "metadata": {
    "deletable": false,
    "editable": false
   },
   "outputs": [
    {
     "name": "stderr",
     "output_type": "stream",
     "text": [
      "[src/lib.rs:45] self = Complex {\n",
      "    r: 1.76,\n",
      "    i: 6.12,\n",
      "}\n",
      "[src/lib.rs:45] self = Complex {\n",
      "    r: 1.76,\n",
      "    i: 6.12,\n",
      "}\n"
     ]
    }
   ],
   "source": [
    "let mon_nombre_complexe_2: Complex = Complex {\n",
    "    r: 1.76,\n",
    "    i: 6.12,\n",
    "};\n",
    "\n",
    "mon_nombre_complexe_2.dump_data();\n",
    "mon_nombre_complexe_2.dump_data();"
   ]
  },
  {
   "cell_type": "markdown",
   "id": "illegal-destruction",
   "metadata": {
    "deletable": false,
    "editable": false
   },
   "source": [
    "- **ET POURTANT...** L'enchaînement de deux appels successifs a la méthode dump_data n'est possible avec **fn dump_data(self)** que si ma structure Complex est Copy ! Essayons avec une structure qui n'est pas Copy :"
   ]
  },
  {
   "cell_type": "code",
   "execution_count": 136,
   "id": "accomplished-revolution",
   "metadata": {
    "deletable": false,
    "editable": false
   },
   "outputs": [
    {
     "ename": "Error",
     "evalue": "use of moved value: `s`",
     "output_type": "error",
     "traceback": [
      "\u001b[31m[E0382] Error:\u001b[0m use of moved value: `s`",
      "    \u001b[38;5;246m╭\u001b[0m\u001b[38;5;246m─\u001b[0m\u001b[38;5;246m[\u001b[0mcommand_136:1:1\u001b[38;5;246m]\u001b[0m",
      "    \u001b[38;5;246m│\u001b[0m",
      " \u001b[38;5;246m 9 │\u001b[0m \u001b[38;5;249m \u001b[0m\u001b[38;5;249m \u001b[0m\u001b[38;5;249m \u001b[0m\u001b[38;5;249m \u001b[0m\u001b[38;5;249mf\u001b[0m\u001b[38;5;249mn\u001b[0m\u001b[38;5;249m \u001b[0m\u001b[38;5;249md\u001b[0m\u001b[38;5;249mu\u001b[0m\u001b[38;5;249mm\u001b[0m\u001b[38;5;249mp\u001b[0m\u001b[38;5;249m_\u001b[0m\u001b[38;5;249md\u001b[0m\u001b[38;5;249ma\u001b[0m\u001b[38;5;249mt\u001b[0m\u001b[38;5;249ma\u001b[0m\u001b[38;5;249m(\u001b[0m\u001b[38;5;37ms\u001b[0m\u001b[38;5;37me\u001b[0m\u001b[38;5;37ml\u001b[0m\u001b[38;5;37mf\u001b[0m\u001b[38;5;249m)\u001b[0m\u001b[38;5;249m \u001b[0m\u001b[38;5;249m{\u001b[0m",
      " \u001b[38;5;246m   ·\u001b[0m                  \u001b[38;5;37m─\u001b[0m\u001b[38;5;37m─\u001b[0m\u001b[38;5;37m┬\u001b[0m\u001b[38;5;37m─\u001b[0m  ",
      " \u001b[38;5;246m   ·\u001b[0m                    \u001b[38;5;37m╰\u001b[0m\u001b[38;5;37m─\u001b[0m\u001b[38;5;37m─\u001b[0m\u001b[38;5;37m─\u001b[0m note: `MyStruct::dump_data` takes ownership of the receiver `self`, which moves `s`",
      " \u001b[38;5;246m   ·\u001b[0m ",
      " \u001b[38;5;246m14 │\u001b[0m \u001b[38;5;249ml\u001b[0m\u001b[38;5;249me\u001b[0m\u001b[38;5;249mt\u001b[0m\u001b[38;5;249m \u001b[0m\u001b[38;5;68ms\u001b[0m\u001b[38;5;249m:\u001b[0m\u001b[38;5;249m \u001b[0m\u001b[38;5;249mM\u001b[0m\u001b[38;5;249my\u001b[0m\u001b[38;5;249mS\u001b[0m\u001b[38;5;249mt\u001b[0m\u001b[38;5;249mr\u001b[0m\u001b[38;5;249mu\u001b[0m\u001b[38;5;249mc\u001b[0m\u001b[38;5;249mt\u001b[0m\u001b[38;5;249m \u001b[0m\u001b[38;5;249m=\u001b[0m\u001b[38;5;249m \u001b[0m\u001b[38;5;249mM\u001b[0m\u001b[38;5;249my\u001b[0m\u001b[38;5;249mS\u001b[0m\u001b[38;5;249mt\u001b[0m\u001b[38;5;249mr\u001b[0m\u001b[38;5;249mu\u001b[0m\u001b[38;5;249mc\u001b[0m\u001b[38;5;249mt\u001b[0m\u001b[38;5;249m \u001b[0m\u001b[38;5;249m{\u001b[0m",
      " \u001b[38;5;246m   ·\u001b[0m     \u001b[38;5;68m┬\u001b[0m  ",
      " \u001b[38;5;246m   ·\u001b[0m     \u001b[38;5;68m╰\u001b[0m\u001b[38;5;68m─\u001b[0m\u001b[38;5;68m─\u001b[0m move occurs because `s` has type `MyStruct`, which does not implement the `Copy` trait",
      " \u001b[38;5;246m   ·\u001b[0m ",
      " \u001b[38;5;246m19 │\u001b[0m \u001b[38;5;249ms\u001b[0m\u001b[38;5;249m.\u001b[0m\u001b[38;5;54md\u001b[0m\u001b[38;5;54mu\u001b[0m\u001b[38;5;54mm\u001b[0m\u001b[38;5;54mp\u001b[0m\u001b[38;5;54m_\u001b[0m\u001b[38;5;54md\u001b[0m\u001b[38;5;54ma\u001b[0m\u001b[38;5;54mt\u001b[0m\u001b[38;5;54ma\u001b[0m\u001b[38;5;54m(\u001b[0m\u001b[38;5;54m)\u001b[0m\u001b[38;5;249m;\u001b[0m",
      " \u001b[38;5;246m   ·\u001b[0m   \u001b[38;5;97m┬\u001b[0m\u001b[38;5;54m─\u001b[0m\u001b[38;5;54m─\u001b[0m\u001b[38;5;54m─\u001b[0m\u001b[38;5;54m─\u001b[0m\u001b[38;5;54m┬\u001b[0m\u001b[38;5;54m─\u001b[0m\u001b[38;5;54m─\u001b[0m\u001b[38;5;54m─\u001b[0m\u001b[38;5;54m─\u001b[0m\u001b[38;5;54m─\u001b[0m  ",
      " \u001b[38;5;246m   ·\u001b[0m   \u001b[38;5;97m╰\u001b[0m\u001b[38;5;97m─\u001b[0m\u001b[38;5;97m─\u001b[0m\u001b[38;5;97m─\u001b[0m\u001b[38;5;97m─\u001b[0m\u001b[38;5;97m─\u001b[0m\u001b[38;5;97m─\u001b[0m\u001b[38;5;97m─\u001b[0m\u001b[38;5;97m─\u001b[0m\u001b[38;5;97m─\u001b[0m\u001b[38;5;97m─\u001b[0m\u001b[38;5;97m─\u001b[0m\u001b[38;5;97m─\u001b[0m help: you can `clone` the value and consume it, but this might not be your desired behavior: `clone().`",
      " \u001b[38;5;246m   ·\u001b[0m        \u001b[38;5;54m│\u001b[0m       ",
      " \u001b[38;5;246m   ·\u001b[0m        \u001b[38;5;54m╰\u001b[0m\u001b[38;5;54m─\u001b[0m\u001b[38;5;54m─\u001b[0m\u001b[38;5;54m─\u001b[0m\u001b[38;5;54m─\u001b[0m\u001b[38;5;54m─\u001b[0m\u001b[38;5;54m─\u001b[0m\u001b[38;5;54m─\u001b[0m `s` moved due to this method call",
      " \u001b[38;5;246m20 │\u001b[0m \u001b[38;5;100ms\u001b[0m\u001b[38;5;249m.\u001b[0m\u001b[38;5;249md\u001b[0m\u001b[38;5;249mu\u001b[0m\u001b[38;5;249mm\u001b[0m\u001b[38;5;249mp\u001b[0m\u001b[38;5;249m_\u001b[0m\u001b[38;5;249md\u001b[0m\u001b[38;5;249ma\u001b[0m\u001b[38;5;249mt\u001b[0m\u001b[38;5;249ma\u001b[0m\u001b[38;5;249m(\u001b[0m\u001b[38;5;249m)\u001b[0m\u001b[38;5;249m;\u001b[0m",
      " \u001b[38;5;246m   ·\u001b[0m \u001b[38;5;100m┬\u001b[0m  ",
      " \u001b[38;5;246m   ·\u001b[0m \u001b[38;5;100m╰\u001b[0m\u001b[38;5;100m─\u001b[0m\u001b[38;5;100m─\u001b[0m value used here after move",
      "\u001b[38;5;246m────╯\u001b[0m"
     ]
    }
   ],
   "source": [
    "// Ici il n'y a pas de derive Copy\n",
    "#[derive(Clone, Debug, Default)]\n",
    "struct MyStruct {\n",
    "    r: f64,\n",
    "    i: f64,\n",
    "}\n",
    "\n",
    "impl MyStruct {\n",
    "    fn dump_data(self) {\n",
    "        dbg!(self);\n",
    "    }\n",
    "}\n",
    "\n",
    "let s: MyStruct = MyStruct {\n",
    "    r: 1.98,\n",
    "    i: 3.11,\n",
    "};\n",
    "\n",
    "s.dump_data();\n",
    "s.dump_data();"
   ]
  },
  {
   "cell_type": "markdown",
   "id": "impressive-closure",
   "metadata": {
    "deletable": false,
    "editable": false
   },
   "source": [
    "*En effet, ça ne fonctionne plus...*\n",
    "\n",
    "> La raison n'est pas évidente à saisir pour les débutants en Rust puisqu'elle tient aux règles d'**ownership**.\n",
    "\n",
    "> Lors de mon premier appel a la méthode dump_data, je lui ai passé **self** (ici l'instance **s** de mon Type **MyStruct**). Seulement cette méthode n'a rien retourné, et j'ai donc perdu mon instance (les données contenues dans **s** ont été supprimées juste après l'exécution de la méthode !). Ainsi, lors du second appel à la méthode dump_data, ma variable **s** n'existait plus ! On dit que ma variable a été consumée ou \"moved\",\n",
    "\n",
    "> Dans l'exemple précèdent ce dernier, ma structure était Copy. Le compilateur faisait donc une copie implicite de la structure avant de l'envoyer a la méthode, ce n'est donc pas la structure que j'avais créer au début que j'affichais grâce a la méthode, mais sa copie !\n",
    "\n",
    "> Il existe une solution à ce problème :\n",
    ">> - Le passage a la méthode d'une **référence de self** plutôt que self lui-même.\n",
    "\n",
    "*Nous reviendrons sur les règles d'ownership du langage plus tard dans ce cours.*"
   ]
  },
  {
   "cell_type": "markdown",
   "id": "composed-topic",
   "metadata": {
    "deletable": false,
    "editable": false
   },
   "source": [
    "### Méthode avec référence de self\n",
    "\n",
    "- Dans cette partie, plutôt que de passer **self** en paramètre, on passera une référence de self soit `&self` avec le petit symbole AND devant `&`. À l'instar des pointeurs en C, une référence d'une variable est son adresse mémoire, ainsi si je passe une référence de self, ce ne sera plus self qui est passé a la méthode, mais son adresse mémoire.\n",
    "\n",
    "En langage C, utiliser les pointeurs et les références s'illustrerait par un code du genre :\n",
    "```\n",
    "int main(void)\n",
    "    struct MyVector {\n",
    "        float i;\n",
    "        float j;\n",
    "    };\n",
    "    struct MyVector v;\n",
    "    v.i = 3.2;\n",
    "    v.j = 6;\n",
    "    void dump_data(struct MyVector *v) {\n",
    "        printf(\"i: %f, j: %f\\n\", v->i, v->j);\n",
    "    }\n",
    "    dump_data(&v);\n",
    "}\n",
    "```\n",
    "\n",
    "**OUTPUT:**  \n",
    "i: 3.200000, j: 6.000000\n",
    "\n",
    "L'adresse mémoire de v est passée à la fonction dump_data via le symbole `&`.\n",
    "\n",
    "- L'équivalent en Rust en utilisant une méthode de MyVector et qui permet le chaînage de méthode serait :"
   ]
  },
  {
   "cell_type": "code",
   "execution_count": 148,
   "id": "addressed-assist",
   "metadata": {
    "deletable": false,
    "editable": false
   },
   "outputs": [
    {
     "name": "stderr",
     "output_type": "stream",
     "text": [
      "[src/lib.rs:92] self = MyVector {\n",
      "    i: 3.2,\n",
      "    j: 6.0,\n",
      "}\n",
      "[src/lib.rs:92] self = MyVector {\n",
      "    i: 3.2,\n",
      "    j: 6.0,\n",
      "}\n"
     ]
    }
   ],
   "source": [
    "#[derive(Clone, Debug)]\n",
    "struct MyVector {\n",
    "    i: f64,\n",
    "    j: f64,\n",
    "}\n",
    "\n",
    "let v: MyVector = MyVector {\n",
    "    i: 3.2,\n",
    "    j: 6.0,\n",
    "};\n",
    "\n",
    "impl MyVector {\n",
    "    fn dump_data(&self) {\n",
    "        dbg!(self);\n",
    "    }\n",
    "}\n",
    "\n",
    "v.dump_data();\n",
    "v.dump_data();"
   ]
  },
  {
   "cell_type": "markdown",
   "id": "modular-repeat",
   "metadata": {
    "deletable": false,
    "editable": false
   },
   "source": [
    "*Ce code fonctionne maintenant parfaitement, le passage par référence a réglé le problème !*\n",
    "\n",
    "> Dans la plupart des cas, lorsque l'on écrit des méthodes en Rust, on passera la référence de self plutôt que le self lui-même, pour rappel self avec un s minuscule désigne une \"variable\", que l'on peut aussi appeler \"objet\", ou une \"instance\" d'un Type.\n",
    "\n",
    "**NB** Bien qu'il n'y en pas eu dans les exemples précédents, tout comme les fonctions, les méthodes peuvent très bien retourner quelque chose ainsi que posséder d'autres paramètres en plus de **self**.\n",
    "```\n",
    "impl MyType {\n",
    "  fn non_mutable_method(&self, ...some_other_parameters) -> ...some_returning_values {\n",
    "      ...some code\n",
    "  }\n",
    "}\n",
    "```"
   ]
  },
  {
   "cell_type": "markdown",
   "id": "persistent-payroll",
   "metadata": {
    "deletable": false,
    "editable": false
   },
   "source": [
    "## Les méthodes mutables\n",
    "\n",
    "- Sans surprise, une méthode mutable utilisera le mot-clef `mut` pour self soit `&mut self` :\n",
    "```\n",
    "impl MyType {\n",
    "    fn mutable_method(&mut self, ...some_other_parameters) -> ...some_returning_values {\n",
    "        ...some code\n",
    "    }\n",
    "}\n",
    "```\n",
    "- Une méthode mutable modifie l'objet :"
   ]
  },
  {
   "cell_type": "code",
   "execution_count": 149,
   "id": "medical-papua",
   "metadata": {
    "deletable": false,
    "editable": false
   },
   "outputs": [
    {
     "name": "stderr",
     "output_type": "stream",
     "text": [
      "[src/lib.rs:282] &l = Length(\n",
      "    5,\n",
      ")\n",
      "[src/lib.rs:285] &l = Length(\n",
      "    16,\n",
      ")\n"
     ]
    }
   ],
   "source": [
    "#[derive(Debug)]\n",
    "struct Length(usize);\n",
    "\n",
    "impl Length {\n",
    "    fn add_quantity(&mut self, q: usize) {\n",
    "        self.0 += q;\n",
    "    }\n",
    "}\n",
    "let mut l = Length(5);\n",
    "dbg!(&l);\n",
    "l.add_quantity(3);\n",
    "l.add_quantity(8);\n",
    "dbg!(&l);"
   ]
  },
  {
   "cell_type": "markdown",
   "id": "sensitive-albany",
   "metadata": {
    "deletable": false,
    "editable": false
   },
   "source": [
    "**NB** La variable **l** doit ici être déclarée comme mutable puisqu'elle est envoyée à une méthode qui prend d'elle une référence mutable. La méthode ayant la possibilité de modifier la variable, ce serait un non-sens que cette dernière fut déclaré sans le mot-clef **mut**.\n",
    "\n",
    "On note aussi que la variable **l** est aussi passée par référence a la macro dbg! Afin qu'elle ne soit pas \"moved\" et que l'on puisse toujours y accéder dans la suite du code."
   ]
  },
  {
   "cell_type": "markdown",
   "id": "average-usage",
   "metadata": {
    "deletable": false,
    "editable": false
   },
   "source": [
    "## Exercices"
   ]
  },
  {
   "cell_type": "markdown",
   "id": "alternative-lucas",
   "metadata": {
    "deletable": false,
    "editable": false
   },
   "source": [
    "### Que contient la variable 'm' à la fin du code ? Ce code est-il correct ?"
   ]
  },
  {
   "cell_type": "code",
   "execution_count": 139,
   "id": "interior-richmond",
   "metadata": {
    "deletable": false,
    "editable": false,
    "solution2": "hidden",
    "solution2_first": true
   },
   "outputs": [
    {
     "name": "stderr",
     "output_type": "stream",
     "text": [
      "[src/lib.rs:282] &m = Mass(\n",
      "    5,\n",
      ")\n"
     ]
    }
   ],
   "source": [
    "#[derive(Copy, Clone, Debug)]\n",
    "struct Mass(usize);\n",
    "\n",
    "impl Mass {\n",
    "    fn add_quantity(mut self, q: usize) {\n",
    "        self.0 += q;\n",
    "    }\n",
    "}\n",
    "let mut m = Mass(5);\n",
    "dbg!(&m);\n",
    "m.add_quantity(3);\n",
    "m.add_quantity(8);\n",
    "// dbg!(&m);"
   ]
  },
  {
   "cell_type": "markdown",
   "id": "modular-pricing",
   "metadata": {
    "deletable": false,
    "editable": false,
    "solution2": "hidden"
   },
   "source": [
    "Hélas, ce ne sont que des copies de m qui ont été envoyées a la méthode add_quantity, m vaut donc toujours 5 à la fin. Le prototype de add_quantity aurait du être avec une référence de self:\n",
    "```\n",
    "fn add_quantity(&mut self, q: usize)\n",
    "```"
   ]
  },
  {
   "cell_type": "markdown",
   "id": "presidential-increase",
   "metadata": {
    "deletable": false,
    "editable": false
   },
   "source": [
    "### On cherche à chaîner les méthodes, quelle correction doit-on apporter au code de la méthode ?"
   ]
  },
  {
   "cell_type": "code",
   "execution_count": 13,
   "id": "mobile-discount",
   "metadata": {
    "deletable": false,
    "editable": false,
    "scrolled": true,
    "solution2": "hidden",
    "solution2_first": true
   },
   "outputs": [
    {
     "ename": "Error",
     "evalue": "no method named `add_quantity` found for unit type `()` in the current scope",
     "output_type": "error",
     "traceback": [
      "\u001b[31m[E0599] Error:\u001b[0m no method named `add_quantity` found for unit type `()` in the current scope",
      "    \u001b[38;5;246m╭\u001b[0m\u001b[38;5;246m─\u001b[0m\u001b[38;5;246m[\u001b[0mcommand_13:1:1\u001b[38;5;246m]\u001b[0m",
      "    \u001b[38;5;246m│\u001b[0m",
      " \u001b[38;5;246m11 │\u001b[0m \u001b[38;5;249ms\u001b[0m\u001b[38;5;249m.\u001b[0m\u001b[38;5;249ma\u001b[0m\u001b[38;5;249md\u001b[0m\u001b[38;5;249md\u001b[0m\u001b[38;5;249m_\u001b[0m\u001b[38;5;249mq\u001b[0m\u001b[38;5;249mu\u001b[0m\u001b[38;5;249ma\u001b[0m\u001b[38;5;249mn\u001b[0m\u001b[38;5;249mt\u001b[0m\u001b[38;5;249mi\u001b[0m\u001b[38;5;249mt\u001b[0m\u001b[38;5;249my\u001b[0m\u001b[38;5;249m(\u001b[0m\u001b[38;5;249m3\u001b[0m\u001b[38;5;249m)\u001b[0m\u001b[38;5;249m.\u001b[0m\u001b[38;5;54ma\u001b[0m\u001b[38;5;54md\u001b[0m\u001b[38;5;54md\u001b[0m\u001b[38;5;54m_\u001b[0m\u001b[38;5;54mq\u001b[0m\u001b[38;5;54mu\u001b[0m\u001b[38;5;54ma\u001b[0m\u001b[38;5;54mn\u001b[0m\u001b[38;5;54mt\u001b[0m\u001b[38;5;54mi\u001b[0m\u001b[38;5;54mt\u001b[0m\u001b[38;5;54my\u001b[0m\u001b[38;5;249m(\u001b[0m\u001b[38;5;249m8\u001b[0m\u001b[38;5;249m)\u001b[0m\u001b[38;5;249m;\u001b[0m\u001b[38;5;249m \u001b[0m\u001b[38;5;249m/\u001b[0m\u001b[38;5;249m/\u001b[0m\u001b[38;5;249m \u001b[0m\u001b[38;5;249mC\u001b[0m\u001b[38;5;249mh\u001b[0m\u001b[38;5;249ma\u001b[0m\u001b[38;5;249mi\u001b[0m\u001b[38;5;249mn\u001b[0m\u001b[38;5;249ma\u001b[0m\u001b[38;5;249mg\u001b[0m\u001b[38;5;249me\u001b[0m",
      " \u001b[38;5;246m   ·\u001b[0m                   \u001b[38;5;54m─\u001b[0m\u001b[38;5;54m─\u001b[0m\u001b[38;5;54m─\u001b[0m\u001b[38;5;54m─\u001b[0m\u001b[38;5;54m─\u001b[0m\u001b[38;5;54m─\u001b[0m\u001b[38;5;54m┬\u001b[0m\u001b[38;5;54m─\u001b[0m\u001b[38;5;54m─\u001b[0m\u001b[38;5;54m─\u001b[0m\u001b[38;5;54m─\u001b[0m\u001b[38;5;54m─\u001b[0m  ",
      " \u001b[38;5;246m   ·\u001b[0m                         \u001b[38;5;54m╰\u001b[0m\u001b[38;5;54m─\u001b[0m\u001b[38;5;54m─\u001b[0m\u001b[38;5;54m─\u001b[0m\u001b[38;5;54m─\u001b[0m\u001b[38;5;54m─\u001b[0m\u001b[38;5;54m─\u001b[0m\u001b[38;5;54m─\u001b[0m method not found in `()`",
      "\u001b[38;5;246m────╯\u001b[0m"
     ]
    }
   ],
   "source": [
    "#[derive(Copy, Clone, Debug)]\n",
    "struct Speed(usize);\n",
    "\n",
    "impl Speed {\n",
    "    fn add_quantity(&mut self, q: usize) {\n",
    "        self.0 += q;\n",
    "    }\n",
    "}\n",
    "let mut s = Speed(5);\n",
    "dbg!(&s);\n",
    "s.add_quantity(3).add_quantity(8); // Chainage\n",
    "dbg!(&s);"
   ]
  },
  {
   "cell_type": "markdown",
   "id": "juvenile-reverse",
   "metadata": {
    "deletable": false,
    "editable": false,
    "solution2": "hidden"
   },
   "source": [
    "Ici, le problème vient du fait que notre méthode ne retourne rien, aucun type, représenté par un tuple vide. Et la méthode add_quantity n'est pas associée a (), mais au type Speed. Afin que l'on puisse utiliser la syntaxe du chaînage dans le code, il faut que la méthode retourne une référence mutable de self, c'est-à-dire que la référence mutable de l'objet lui-même soit retournée.\n",
    "```\n",
    "fn add_quantity(&mut self, q: usize) -> &mut Self {\n",
    "        self.0 += q;\n",
    "        self\n",
    "    }\n",
    "```\n",
    "Contrairement aux types eux-mêmes qui ne sont pas forcément Copy, les références sur ces derniers pourront toujours être copies.\n",
    "```\n",
    "    #[derive(Debug)]\n",
    "    struct Test {\n",
    "        a: usize,\n",
    "        b: f64,\n",
    "    }\n",
    "    let test = Test { a: 43, b: 5.2 };\n",
    "    let ref_1 = &test;\n",
    "    let ref_2 = &test;\n",
    "    let ref_3 = ref_1;\n",
    "    dbg!(ref_1);\n",
    "    dbg!(ref_2);\n",
    "    dbg!(ref_3);\n",
    "```"
   ]
  }
 ],
 "metadata": {
  "kernelspec": {
   "display_name": "Rust",
   "language": "rust",
   "name": "rust"
  },
  "language_info": {
   "codemirror_mode": "rust",
   "file_extension": ".rs",
   "mimetype": "text/rust",
   "name": "Rust",
   "pygment_lexer": "rust",
   "version": ""
  },
  "toc": {
   "base_numbering": "4",
   "nav_menu": {},
   "number_sections": true,
   "sideBar": true,
   "skip_h1_title": false,
   "title_cell": "Table of Contents",
   "title_sidebar": "Contents",
   "toc_cell": false,
   "toc_position": {
    "height": "calc(100% - 180px)",
    "left": "10px",
    "top": "150px",
    "width": "288px"
   },
   "toc_section_display": true,
   "toc_window_display": false
  }
 },
 "nbformat": 4,
 "nbformat_minor": 5
}
