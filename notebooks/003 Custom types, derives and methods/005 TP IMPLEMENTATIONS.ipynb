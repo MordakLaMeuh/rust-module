{
 "cells": [
  {
   "cell_type": "markdown",
   "id": "advance-lounge",
   "metadata": {
    "deletable": false,
    "editable": false
   },
   "source": [
    "#  ___TP Implémentations___\n",
    "\n",
    "---\n",
    "\n",
    "Dans ce second TP, vous devrez faire un petit programme qui ne contient qu'un seul fichier main.rs (Généré\n",
    "par Cargo). Ce programme ne prend pas d'argument et contient, en plus de la fonction main(), la definition d'une structure **Vector** et plusieurs implémentations de traits et de méthodes. Vous devrez aussi écrire quelques tests unitaires.\n",
    "\n",
    "- **NB** Si vous ne voulez pas installer Rust directement sur votre machine, vous pouvez ouvrir un terminal à partir de la page d'accueil de Jupyter. Une fois ouvert, faites `cd programs/implementations` pour vous rendre à la racine du projet implémentations et testez. Aussi, le code peut se rédiger directement dans Jupyter en allant dans le dossier `programs` de la partie `003 Custom types, derives and methods`. Vous pouvez aussi utiliser votre éditeur de code à partir de votre machine hôte, les sources du programme se trouvent dans le path `Desktop/programs/implementations`.\n",
    "\n",
    "![VECTOR](pictures/vector.png)"
   ]
  },
  {
   "cell_type": "markdown",
   "id": "assured-priest",
   "metadata": {
    "deletable": false,
    "editable": false
   },
   "source": [
    "**CONSIGNES**\n",
    "\n",
    "- Créer une structure **Vector** qui contient les champs **i** et **j** qui sont tous les deux des **f64**.\n",
    "\n",
    "- Implémenter les traits **Add** et **AddAssign**.\n",
    "\n",
    "- Implémenter le trait **Display**.\n",
    "\n",
    "- Implémenter des **tests pour Display, Add et AddAssign**.\n",
    "\n",
    "- Créer un **constructeur** pour Vector qui prend **deux f64 en paramètre**, qui seront respectivement i et j.\n",
    "\n",
    "- Créer une **méthode** qui permet **d'afficher les champs de la structure**.\n",
    "\n",
    "- Créer une **méthode** qui permet **d'ajouter une valeur unique à i ainsi qu'a j**.\n",
    "\n",
    "- La structure doit pouvoir être initialisée avec des **valeurs par défaut**. (0)"
   ]
  },
  {
   "cell_type": "markdown",
   "id": "proper-teacher",
   "metadata": {
    "deletable": false,
    "editable": false
   },
   "source": [
    "> ```\n",
    "> #[derive(some_derives...)]\n",
    "> struct Vector {\n",
    ">     some_fields...\n",
    "> }\n",
    ">\n",
    "> impl Vector {\n",
    ">     some_methods...\n",
    "> }\n",
    ">\n",
    "> others_implementations...\n",
    ">\n",
    "> fn main() {\n",
    ">     code if you want...\n",
    "> }\n",
    ">\n",
    "> #[cfg(test)]\n",
    "> mod test {\n",
    ">     use crate::*;\n",
    ">\n",
    ">     #[test]\n",
    ">     fn implementations_test() {\n",
    ">         some_tests...\n",
    ">     }\n",
    ">\n",
    ">     ...other_tests...\n",
    "> }\n",
    "> ```\n"
   ]
  }
 ],
 "metadata": {
  "kernelspec": {
   "display_name": "Rust",
   "language": "rust",
   "name": "rust"
  },
  "language_info": {
   "codemirror_mode": "rust",
   "file_extension": ".rs",
   "mimetype": "text/rust",
   "name": "Rust",
   "pygment_lexer": "rust",
   "version": ""
  },
  "toc": {
   "base_numbering": "5",
   "nav_menu": {
    "height": "63px",
    "width": "830px"
   },
   "number_sections": true,
   "sideBar": true,
   "skip_h1_title": false,
   "title_cell": "Table of Contents",
   "title_sidebar": "Contents",
   "toc_cell": false,
   "toc_position": {
    "height": "calc(100% - 180px)",
    "left": "10px",
    "top": "150px",
    "width": "352px"
   },
   "toc_section_display": true,
   "toc_window_display": false
  }
 },
 "nbformat": 4,
 "nbformat_minor": 5
}
