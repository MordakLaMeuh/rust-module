{
 "cells": [
  {
   "cell_type": "markdown",
   "id": "unique-chester",
   "metadata": {
    "deletable": false,
    "editable": false
   },
   "source": [
    "# La syntaxe if let\n",
    "\n",
    "---"
   ]
  },
  {
   "cell_type": "markdown",
   "id": "roman-commerce",
   "metadata": {
    "deletable": false,
    "editable": false
   },
   "source": [
    "## Un exemple trivial\n",
    "\n",
    "- Dans le chapitre 2, nous avons croisé les conditions en Rust avec les mots-clefs `if` et `else`. Dans cette partie, nous allons decouvrir la syntaxe `if let` qui permet de tester si une variable correspond a un motif donné plutôt que de tester une condition. Considérons cet exemple simple :"
   ]
  },
  {
   "cell_type": "code",
   "execution_count": 5,
   "id": "settled-discussion",
   "metadata": {
    "deletable": false,
    "editable": false
   },
   "outputs": [
    {
     "name": "stdout",
     "output_type": "stream",
     "text": [
      "C'est le nombre 42\n"
     ]
    },
    {
     "data": {
      "text/plain": [
       "()"
      ]
     },
     "execution_count": 5,
     "metadata": {},
     "output_type": "execute_result"
    }
   ],
   "source": [
    "let u: usize = 42;                                                                                                                                                       \n",
    "if let 42 = u {                                                                                                                                                           \n",
    "    println!(\"C'est le nombre 42\");                                                                                                                                                   \n",
    "} else if let 21 = u {\n",
    "    println!(\"C'est le nombre 21\");\n",
    "} else {\n",
    "    println!(\"C'est quelque chose d'autre !\");\n",
    "} "
   ]
  },
  {
   "cell_type": "markdown",
   "id": "occupational-whole",
   "metadata": {
    "deletable": false,
    "editable": false
   },
   "source": [
    "> Ici, le motif de u est 42, on tombe dans le premier cas."
   ]
  },
  {
   "cell_type": "markdown",
   "id": "phantom-latin",
   "metadata": {
    "deletable": false,
    "editable": false
   },
   "source": [
    "- Mais quel est l'intérêt d'utiliser `if let` alors qu'une simple condition `if` aurait suffit ici ?"
   ]
  },
  {
   "cell_type": "code",
   "execution_count": 4,
   "id": "registered-scope",
   "metadata": {
    "deletable": false,
    "editable": false
   },
   "outputs": [
    {
     "name": "stdout",
     "output_type": "stream",
     "text": [
      "C'est le nombre 42\n"
     ]
    },
    {
     "data": {
      "text/plain": [
       "()"
      ]
     },
     "execution_count": 4,
     "metadata": {},
     "output_type": "execute_result"
    }
   ],
   "source": [
    "let u: usize = 42;                                                                                                                                                        \n",
    "if 42 == u {                                                                                                                                                           \n",
    "    println!(\"C'est le nombre 42\");                                                                                                                                                   \n",
    "} else if 21 == u {\n",
    "    println!(\"C'est le nombre 21\");\n",
    "} else {\n",
    "    println!(\"C'est quelque chose d'autre !\");\n",
    "} "
   ]
  },
  {
   "cell_type": "markdown",
   "id": "southwest-custom",
   "metadata": {
    "deletable": false,
    "editable": false
   },
   "source": [
    "> Dans ce cas, aucun ! Et on a même une limitation que l'on n'a pas avec un simple if, car avec if let, on ne peut pas par exemple écrire **if let 21 > u**, if let ne détermine que si 2 motifs sont identiques, il n'y a pas d'autres comparaisons tels supérieur a ou inférieur a possibles."
   ]
  },
  {
   "cell_type": "markdown",
   "id": "bronze-cause",
   "metadata": {
    "deletable": false,
    "editable": false
   },
   "source": [
    "## L'inutilité des traits PartialEq et de Eq pour if let\n",
    "\n",
    "### Test du motif d'une structure\n",
    "\n",
    "- Seulement, avec un simple if, il est impératif que notre type implémente le trait PartialEq, et bien qu'il soit implémenté pour tous les types primitifs, il ne le sera pas forcément pour nos structures ou nos énumérations. Ainsi, ce code ne peut pas compiler :"
   ]
  },
  {
   "cell_type": "code",
   "execution_count": 6,
   "id": "damaged-infection",
   "metadata": {
    "deletable": false,
    "editable": false
   },
   "outputs": [
    {
     "ename": "Error",
     "evalue": "an implementation of `PartialEq<_>` might be missing for `MyStruct`",
     "output_type": "error",
     "traceback": [
      "\u001b[31mError:\u001b[0m an implementation of `PartialEq<_>` might be missing for `MyStruct`",
      "   \u001b[38;5;246m╭\u001b[0m\u001b[38;5;246m─\u001b[0m\u001b[38;5;246m[\u001b[0mcommand_6:1:1\u001b[38;5;246m]\u001b[0m",
      "   \u001b[38;5;246m│\u001b[0m",
      " \u001b[38;5;246m1 │\u001b[0m \u001b[38;5;54ms\u001b[0m\u001b[38;5;54mt\u001b[0m\u001b[38;5;54mr\u001b[0m\u001b[38;5;54mu\u001b[0m\u001b[38;5;54mc\u001b[0m\u001b[38;5;54mt\u001b[0m\u001b[38;5;54m \u001b[0m\u001b[38;5;54mM\u001b[0m\u001b[38;5;54my\u001b[0m\u001b[38;5;54mS\u001b[0m\u001b[38;5;54mt\u001b[0m\u001b[38;5;54mr\u001b[0m\u001b[38;5;54mu\u001b[0m\u001b[38;5;54mc\u001b[0m\u001b[38;5;54mt\u001b[0m\u001b[38;5;249m \u001b[0m\u001b[38;5;249m{\u001b[0m",
      " \u001b[38;5;246m  ·\u001b[0m \u001b[38;5;54m─\u001b[0m\u001b[38;5;54m─\u001b[0m\u001b[38;5;54m─\u001b[0m\u001b[38;5;54m─\u001b[0m\u001b[38;5;54m─\u001b[0m\u001b[38;5;54m─\u001b[0m\u001b[38;5;54m─\u001b[0m\u001b[38;5;54m┬\u001b[0m\u001b[38;5;54m─\u001b[0m\u001b[38;5;54m─\u001b[0m\u001b[38;5;54m─\u001b[0m\u001b[38;5;54m─\u001b[0m\u001b[38;5;54m─\u001b[0m\u001b[38;5;54m─\u001b[0m\u001b[38;5;54m─\u001b[0m  ",
      " \u001b[38;5;246m  ·\u001b[0m        \u001b[38;5;54m╰\u001b[0m\u001b[38;5;54m─\u001b[0m\u001b[38;5;54m─\u001b[0m\u001b[38;5;54m─\u001b[0m\u001b[38;5;54m─\u001b[0m\u001b[38;5;54m─\u001b[0m\u001b[38;5;54m─\u001b[0m\u001b[38;5;54m─\u001b[0m\u001b[38;5;54m─\u001b[0m\u001b[38;5;54m─\u001b[0m must implement `PartialEq<_>`",
      "\u001b[38;5;246m───╯\u001b[0m"
     ]
    }
   ],
   "source": [
    "struct MyStruct {\n",
    "    u: usize,\n",
    "}\n",
    "let u: MyStruct = MyStruct {\n",
    "    u: 42\n",
    "};\n",
    "let v: MyStruct = MyStruct {\n",
    "    u: 42\n",
    "};\n",
    "if u == v {                                                                                                                                                           \n",
    "    println!(\"C'est le nombre 42\");                                                                                                                                                   \n",
    "} else {\n",
    "    println!(\"C'est quelque chose d'autre !\");\n",
    "} "
   ]
  },
  {
   "cell_type": "markdown",
   "id": "precise-radiation",
   "metadata": {
    "deletable": false,
    "editable": false
   },
   "source": [
    "- L'utilisation de if let a la place fonctionnerait bien ici :"
   ]
  },
  {
   "cell_type": "code",
   "execution_count": 7,
   "id": "intellectual-protection",
   "metadata": {
    "deletable": false,
    "editable": false
   },
   "outputs": [
    {
     "name": "stdout",
     "output_type": "stream",
     "text": [
      "C'est le nombre 42\n"
     ]
    },
    {
     "data": {
      "text/plain": [
       "()"
      ]
     },
     "execution_count": 7,
     "metadata": {},
     "output_type": "execute_result"
    }
   ],
   "source": [
    "// Pas de #[derive(PartialEq, Eq)]\n",
    "struct MyStruct {\n",
    "    u: usize,\n",
    "}\n",
    "let u: MyStruct = MyStruct {\n",
    "    u: 42\n",
    "};\n",
    "// Les deux motifs sont identiques ici\n",
    "if let MyStruct { u: 42 } = u {                                                                                                                                                           \n",
    "    println!(\"C'est le nombre 42\");                                                                                                                                                   \n",
    "} else {\n",
    "    println!(\"C'est quelque chose d'autre !\");\n",
    "} "
   ]
  },
  {
   "cell_type": "markdown",
   "id": "given-right",
   "metadata": {
    "deletable": false,
    "editable": false
   },
   "source": [
    "### Test d'un variant\n",
    "\n",
    "- Tester si un variant spécifique d'une énumération se fait de la même manière "
   ]
  },
  {
   "cell_type": "code",
   "execution_count": 19,
   "id": "chronic-steps",
   "metadata": {
    "deletable": false,
    "editable": false
   },
   "outputs": [
    {
     "name": "stdout",
     "output_type": "stream",
     "text": [
      "Button is UP\n"
     ]
    },
    {
     "data": {
      "text/plain": [
       "()"
      ]
     },
     "execution_count": 19,
     "metadata": {},
     "output_type": "execute_result"
    }
   ],
   "source": [
    "// Pas de #[derive(PartialEq, Eq)]\n",
    "enum Button {\n",
    "    Up,\n",
    "    Down,\n",
    "    Middle,\n",
    "}\n",
    "let button = Button::Up;\n",
    "if let Button::Up = button {\n",
    "    println!(\"Button is UP\");\n",
    "}"
   ]
  },
  {
   "cell_type": "markdown",
   "id": "august-distributor",
   "metadata": {
    "deletable": false,
    "editable": false
   },
   "source": [
    "### L'operateur OR et plusieurs motifs\n",
    "\n",
    "- Il aussi possible de tester en fonction d'un set de motif en utilisant l'operateur OR **|** :"
   ]
  },
  {
   "cell_type": "code",
   "execution_count": 2,
   "id": "dominican-activity",
   "metadata": {
    "deletable": false,
    "editable": false
   },
   "outputs": [
    {
     "name": "stdout",
     "output_type": "stream",
     "text": [
      "One of these\n"
     ]
    },
    {
     "name": "stderr",
     "output_type": "stream",
     "text": [
      "[src/lib.rs:109] u = 12\n"
     ]
    },
    {
     "data": {
      "text/plain": [
       "()"
      ]
     },
     "execution_count": 2,
     "metadata": {},
     "output_type": "execute_result"
    }
   ],
   "source": [
    "let u: usize = 12;\n",
    "// Test de plusieurs motifs.\n",
    "if let 3 | 12 = u {\n",
    "    dbg!(u);\n",
    "} else if let 4 | 13 | 1 = u {\n",
    "    dbg!(u);\n",
    "} else {\n",
    "    println!(\"Unknown !\");\n",
    "}\n",
    "\n",
    "struct S {\n",
    "    i: usize,\n",
    "    f: usize,\n",
    "}\n",
    "let s = S {i: 4, f: 6};\n",
    "// Deux motifs sont possibles ici,\n",
    "if let S{i: 4, f: 3} | S{i: 4, f: 6} = s {\n",
    "    println!(\"One of these\")\n",
    "}"
   ]
  },
  {
   "cell_type": "markdown",
   "id": "medieval-retail",
   "metadata": {
    "deletable": false,
    "editable": false
   },
   "source": [
    "### Test d'une range\n",
    "\n",
    "- Enfn on peut tester si un type primitif appartient a un certain interval :"
   ]
  },
  {
   "cell_type": "code",
   "execution_count": 21,
   "id": "nearby-deadline",
   "metadata": {
    "deletable": false,
    "editable": false
   },
   "outputs": [
    {
     "name": "stdout",
     "output_type": "stream",
     "text": [
      "Between 6 to 12\n"
     ]
    },
    {
     "data": {
      "text/plain": [
       "()"
      ]
     },
     "execution_count": 21,
     "metadata": {},
     "output_type": "execute_result"
    }
   ],
   "source": [
    "    let u: usize = 12;\n",
    "    // Inclusive ranges\n",
    "    if let 1..=5 = u {\n",
    "        println!(\"Between 1 to 5\");\n",
    "    } else if let 6..=12 = u {\n",
    "        println!(\"Between 6 to 12\");  \n",
    "    }"
   ]
  },
  {
   "cell_type": "markdown",
   "id": "integrated-roulette",
   "metadata": {
    "deletable": false,
    "editable": false
   },
   "source": [
    "## Les motifs incomplets."
   ]
  },
  {
   "cell_type": "markdown",
   "id": "approved-gates",
   "metadata": {
    "deletable": false,
    "editable": false
   },
   "source": [
    "- Imaginons une structure qui contient 2 champs et admettons que je souhaite tester si son premier champ et le troisième correspond à des valeurs données et récupérer la valeur de son second champs, je pourrais tout à fait écrire ce code :"
   ]
  },
  {
   "cell_type": "code",
   "execution_count": 9,
   "id": "fabulous-giant",
   "metadata": {
    "deletable": false,
    "editable": false
   },
   "outputs": [
    {
     "name": "stdout",
     "output_type": "stream",
     "text": [
      "la valeur de y vaut 6\n"
     ]
    },
    {
     "data": {
      "text/plain": [
       "()"
      ]
     },
     "execution_count": 9,
     "metadata": {},
     "output_type": "execute_result"
    }
   ],
   "source": [
    "struct Coord {\n",
    "    x: usize,\n",
    "    y: usize,\n",
    "    z: usize,\n",
    "}\n",
    "let p1 = Coord { x: 2, y: 6, z: 3 };\n",
    "// Tests successifs de x et de z\n",
    "if p1.x == 2 && p1.z == 3 {\n",
    "    println!(\"la valeur de y vaut {}\", p1.y);\n",
    "}"
   ]
  },
  {
   "cell_type": "markdown",
   "id": "casual-storm",
   "metadata": {
    "deletable": false,
    "editable": false
   },
   "source": [
    "- Cependant, if let me permet de tester facilement les champs x et z et de récupérer la valeur du champ y dans une autre variable."
   ]
  },
  {
   "cell_type": "code",
   "execution_count": 10,
   "id": "three-shopping",
   "metadata": {
    "deletable": false,
    "editable": false
   },
   "outputs": [
    {
     "name": "stdout",
     "output_type": "stream",
     "text": [
      "la valeur de y vaut 6\n"
     ]
    },
    {
     "data": {
      "text/plain": [
       "()"
      ]
     },
     "execution_count": 10,
     "metadata": {},
     "output_type": "execute_result"
    }
   ],
   "source": [
    "struct Coord {\n",
    "    x: usize,\n",
    "    y: usize,\n",
    "    z: usize,\n",
    "}\n",
    "let p1 = Coord { x: 2, y: 6, z: 3 };\n",
    "// Le motif donne correspond il a p1 ?\n",
    "if let Coord { x: 2, y: value, z: 3} = p1 {\n",
    "    println!(\"la valeur de y vaut {}\", value);\n",
    "}"
   ]
  },
  {
   "cell_type": "markdown",
   "id": "weekly-copper",
   "metadata": {
    "deletable": false,
    "editable": false
   },
   "source": [
    "- Et dans le cas d'une énumération :"
   ]
  },
  {
   "cell_type": "code",
   "execution_count": 11,
   "id": "accomplished-twenty",
   "metadata": {
    "deletable": false,
    "editable": false,
    "scrolled": true
   },
   "outputs": [
    {
     "name": "stdout",
     "output_type": "stream",
     "text": [
      "the voltage value is 230\n"
     ]
    },
    {
     "data": {
      "text/plain": [
       "()"
      ]
     },
     "execution_count": 11,
     "metadata": {},
     "output_type": "execute_result"
    }
   ],
   "source": [
    "struct Voltage(usize);\n",
    "\n",
    "// Pas de #[derive(PartialEq, Eq)]\n",
    "enum PowerState {\n",
    "    Up(Voltage),\n",
    "    Down,\n",
    "}\n",
    "\n",
    "let c = PowerState::Up(Voltage(230));\n",
    "// Le motif donne correspond a l'existance du variant Up, on recupere la valeur du voltage\n",
    "if let PowerState::Up(Voltage(voltage_value)) = c {\n",
    "    println!(\"the voltage value is {}\", voltage_value);\n",
    "} else {\n",
    "    println!(\"the system is down\");\n",
    "}"
   ]
  },
  {
   "cell_type": "markdown",
   "id": "equipped-robinson",
   "metadata": {
    "deletable": false,
    "editable": false
   },
   "source": [
    "## Exercices"
   ]
  },
  {
   "cell_type": "markdown",
   "id": "chemical-shuttle",
   "metadata": {
    "deletable": false,
    "editable": false
   },
   "source": [
    "### Écrire une séquence de code avec if let qui permet de récupérer la valeur associée au variant Some :"
   ]
  },
  {
   "cell_type": "code",
   "execution_count": 12,
   "id": "supposed-montreal",
   "metadata": {
    "deletable": false,
    "editable": false
   },
   "outputs": [],
   "source": [
    "enum MyOption {\n",
    "    Some(usize),\n",
    "    None,\n",
    "}\n",
    "let opt = MyOption::Some(11);"
   ]
  },
  {
   "cell_type": "code",
   "execution_count": null,
   "id": "accompanied-disease",
   "metadata": {
    "solution2": "hidden",
    "solution2_first": true
   },
   "outputs": [],
   "source": [
    "// Ecrire le code ici"
   ]
  },
  {
   "cell_type": "markdown",
   "id": "pursuant-stranger",
   "metadata": {
    "solution2": "hidden"
   },
   "source": [
    "```\n",
    "if let MyOption::Some(v) = opt {\n",
    "    dbg!(v);\n",
    "}\n",
    "```"
   ]
  },
  {
   "cell_type": "markdown",
   "id": "premier-condition",
   "metadata": {
    "deletable": false,
    "editable": false
   },
   "source": [
    "### Écrire une séquence de code avec if let qui permet de récupérer la valeur associée au variant Err :"
   ]
  },
  {
   "cell_type": "code",
   "execution_count": 13,
   "id": "sensitive-desire",
   "metadata": {
    "deletable": false,
    "editable": false
   },
   "outputs": [],
   "source": [
    "enum MyResult {\n",
    "    Ok(usize),\n",
    "    Err(&'static str),\n",
    "}\n",
    "let res = MyResult::Err(\"Unexpected error... Woot ?!?\");"
   ]
  },
  {
   "cell_type": "code",
   "execution_count": null,
   "id": "starting-baptist",
   "metadata": {
    "solution2": "hidden",
    "solution2_first": true
   },
   "outputs": [],
   "source": [
    "// Ecrire le code ici"
   ]
  },
  {
   "cell_type": "markdown",
   "id": "authentic-baltimore",
   "metadata": {
    "deletable": false,
    "editable": false,
    "solution2": "hidden"
   },
   "source": [
    "```\n",
    "if let MyResult::Err(s) = res {\n",
    "    dbg!(s);\n",
    "}\n",
    "```"
   ]
  }
 ],
 "metadata": {
  "kernelspec": {
   "display_name": "Rust",
   "language": "rust",
   "name": "rust"
  },
  "language_info": {
   "codemirror_mode": "rust",
   "file_extension": ".rs",
   "mimetype": "text/rust",
   "name": "Rust",
   "pygment_lexer": "rust",
   "version": ""
  },
  "toc": {
   "base_numbering": 1,
   "nav_menu": {},
   "number_sections": true,
   "sideBar": true,
   "skip_h1_title": false,
   "title_cell": "Table of Contents",
   "title_sidebar": "Contents",
   "toc_cell": false,
   "toc_position": {},
   "toc_section_display": true,
   "toc_window_display": false
  }
 },
 "nbformat": 4,
 "nbformat_minor": 5
}
