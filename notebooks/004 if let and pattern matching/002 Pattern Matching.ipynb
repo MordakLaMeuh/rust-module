{
 "cells": [
  {
   "cell_type": "markdown",
   "id": "through-freeware",
   "metadata": {
    "deletable": false,
    "editable": false
   },
   "source": [
    "# Le Pattern Matching\n",
    "\n",
    "---"
   ]
  },
  {
   "cell_type": "markdown",
   "id": "listed-history",
   "metadata": {
    "deletable": false,
    "editable": false
   },
   "source": [
    "> À l'instar du `if let` qui surpasse les simples conditions, le pattern matching est superieur au **switch case** du C/C++. Le pattern matching peut travailler avec n'importe quel type de donnée, ensuite, tout comme le if let, il peut déstructurer les tuples, les structs etc... Et enfin, **le compilateur s'assure que toutes les possibilités de valeur ont bien été prises en compte**, c'est à mon goût le point le plus fort du pattern matching, cela évite beaucoup d'erreurs. Dans la pratique, l'on va donc éviter de mettre un défaut à la fin du match contrairement à ce que l'on ferait dans un vulgaire switch case.\n",
    "\n",
    "## Introduction\n",
    "\n",
    "- Le compilateur s'assure que toutes les possibilités ont été couvertes. Voyons un exemple :"
   ]
  },
  {
   "cell_type": "code",
   "execution_count": 6,
   "id": "contained-characterization",
   "metadata": {
    "deletable": false,
    "editable": false
   },
   "outputs": [
    {
     "ename": "Error",
     "evalue": "non-exhaustive patterns: `Color::Black` not covered",
     "output_type": "error",
     "traceback": [
      "\u001b[31m[E0004] Error:\u001b[0m non-exhaustive patterns: `Color::Black` not covered",
      "   \u001b[38;5;246m╭\u001b[0m\u001b[38;5;246m─\u001b[0m\u001b[38;5;246m[\u001b[0mcommand_6:1:1\u001b[38;5;246m]\u001b[0m",
      "   \u001b[38;5;246m│\u001b[0m",
      " \u001b[38;5;246m6 │\u001b[0m \u001b[38;5;249mm\u001b[0m\u001b[38;5;249ma\u001b[0m\u001b[38;5;249mt\u001b[0m\u001b[38;5;249mc\u001b[0m\u001b[38;5;249mh\u001b[0m\u001b[38;5;249m \u001b[0m\u001b[38;5;54mc\u001b[0m\u001b[38;5;249m \u001b[0m\u001b[38;5;249m{\u001b[0m",
      " \u001b[38;5;246m  ·\u001b[0m       \u001b[38;5;54m┬\u001b[0m  ",
      " \u001b[38;5;246m  ·\u001b[0m       \u001b[38;5;54m╰\u001b[0m\u001b[38;5;54m─\u001b[0m\u001b[38;5;54m─\u001b[0m pattern `Color::Black` not covered",
      " \u001b[38;5;246m7 │\u001b[0m \u001b[38;5;249m \u001b[0m\u001b[38;5;249m \u001b[0m\u001b[38;5;249m \u001b[0m\u001b[38;5;249m \u001b[0m\u001b[38;5;249mC\u001b[0m\u001b[38;5;249mo\u001b[0m\u001b[38;5;249ml\u001b[0m\u001b[38;5;249mo\u001b[0m\u001b[38;5;249mr\u001b[0m\u001b[38;5;249m:\u001b[0m\u001b[38;5;249m:\u001b[0m\u001b[38;5;249mR\u001b[0m\u001b[38;5;249me\u001b[0m\u001b[38;5;249md\u001b[0m\u001b[38;5;249m \u001b[0m\u001b[38;5;249m=\u001b[0m\u001b[38;5;249m>\u001b[0m\u001b[38;5;249m \u001b[0m\u001b[38;5;249mp\u001b[0m\u001b[38;5;249mr\u001b[0m\u001b[38;5;249mi\u001b[0m\u001b[38;5;249mn\u001b[0m\u001b[38;5;249mt\u001b[0m\u001b[38;5;249ml\u001b[0m\u001b[38;5;249mn\u001b[0m\u001b[38;5;249m!\u001b[0m\u001b[38;5;249m(\u001b[0m\u001b[38;5;249m\"\u001b[0m\u001b[38;5;249mI\u001b[0m\u001b[38;5;249mt\u001b[0m\u001b[38;5;249m \u001b[0m\u001b[38;5;249mi\u001b[0m\u001b[38;5;249ms\u001b[0m\u001b[38;5;249m \u001b[0m\u001b[38;5;249mR\u001b[0m\u001b[38;5;249mE\u001b[0m\u001b[38;5;249mD\u001b[0m\u001b[38;5;249m\"\u001b[0m\u001b[38;5;249m)\u001b[0m\u001b[38;5;249m,\u001b[0m",
      " \u001b[38;5;246m  ·\u001b[0m                                        \u001b[38;5;100m│\u001b[0m ",
      " \u001b[38;5;246m  ·\u001b[0m                                        \u001b[38;5;100m╰\u001b[0m\u001b[38;5;100m─\u001b[0m help: ensure that all possible cases are being handled by adding a match arm with a wildcard pattern or an explicit pattern as shown: `,",
      "    Color::Black => todo!()`",
      "\u001b[38;5;246m───╯\u001b[0m"
     ]
    }
   ],
   "source": [
    "enum Color {\n",
    "    Red,\n",
    "    Black,\n",
    "}\n",
    "let c = Color::Red;\n",
    "match c {\n",
    "    Color::Red => println!(\"It is RED\"),\n",
    "}"
   ]
  },
  {
   "cell_type": "markdown",
   "id": "pressed-victim",
   "metadata": {
    "deletable": false,
    "editable": false
   },
   "source": [
    "> Le variant Black n'a pas été testé et le message d'erreur du compilateur nous en informe. Si a la place du match on aurait utilisé un switch case en C, le compilateur aurait laisse faire...\n",
    "\n",
    "> Il existe alors deux solutions :\n",
    ">> - Soit on code un **cas par défaut**\n",
    ">> - Ou bien l'on s'efforce de **couvrir tous les variants** de l'énumération"
   ]
  },
  {
   "cell_type": "markdown",
   "id": "aerial-arizona",
   "metadata": {
    "deletable": false,
    "editable": false
   },
   "source": [
    "### Un motif universel comme cas par défaut"
   ]
  },
  {
   "cell_type": "markdown",
   "id": "thirty-hazard",
   "metadata": {
    "deletable": false,
    "editable": false
   },
   "source": [
    "- Dans le chapitre précédent, nous avons vu que nous n'avions pas besoin de spécifier toutes les données d'un motif et nous récupérions ainsi certaines données dans des variables. Mais que ce serait-il passe si tout le motif entier aurait été ignoré ?"
   ]
  },
  {
   "cell_type": "code",
   "execution_count": 8,
   "id": "vocational-disaster",
   "metadata": {
    "deletable": false,
    "editable": false
   },
   "outputs": [
    {
     "name": "stdout",
     "output_type": "stream",
     "text": [
      "It is a button... sure...\n",
      "It is a button... sure...\n",
      "It is a button... sure...\n"
     ]
    }
   ],
   "source": [
    "// Pas de #[derive(PartialEq, Eq)]\n",
    "enum Button {\n",
    "    Up,\n",
    "    Down,\n",
    "    Middle,\n",
    "}\n",
    "// Tiens, un passage par reference ici\n",
    "fn test_button(button: &Button) {\n",
    "    if let b = button {\n",
    "        println!(\"It is a button... sure...\");\n",
    "    }   \n",
    "}\n",
    "test_button(&Button::Up);\n",
    "test_button(&Button::Down);\n",
    "test_button(&Button::Middle);"
   ]
  },
  {
   "cell_type": "markdown",
   "id": "statewide-scratch",
   "metadata": {
    "deletable": false,
    "editable": false
   },
   "source": [
    "> Il n'y a ici aucune contrainte de motif ! Dans tous les cas, le if let est valide !\n",
    "\n",
    "- On peut se servir de la même idée pour définir un cas par défaut dans le pattern matching"
   ]
  },
  {
   "cell_type": "code",
   "execution_count": 12,
   "id": "korean-punch",
   "metadata": {
    "deletable": false,
    "editable": false
   },
   "outputs": [
    {
     "name": "stdout",
     "output_type": "stream",
     "text": [
      "I know it is not RED !\n"
     ]
    },
    {
     "data": {
      "text/plain": [
       "()"
      ]
     },
     "execution_count": 12,
     "metadata": {},
     "output_type": "execute_result"
    }
   ],
   "source": [
    "enum Color {\n",
    "    Red,\n",
    "    Black,\n",
    "}\n",
    "let c = Color::Black;\n",
    "match c {\n",
    "    Color::Red => println!(\"It is RED\"),\n",
    "    other_color => println!(\"I know it is not RED !\"),\n",
    "}"
   ]
  },
  {
   "cell_type": "markdown",
   "id": "random-patrol",
   "metadata": {
    "deletable": false,
    "editable": false
   },
   "source": [
    "> **NB** Il est important de mettre le cas par défaut en dernier."
   ]
  },
  {
   "cell_type": "code",
   "execution_count": 15,
   "id": "french-employer",
   "metadata": {
    "deletable": false,
    "editable": false
   },
   "outputs": [
    {
     "name": "stdout",
     "output_type": "stream",
     "text": [
      "I know it is not RED !\n"
     ]
    },
    {
     "data": {
      "text/plain": [
       "()"
      ]
     },
     "execution_count": 15,
     "metadata": {},
     "output_type": "execute_result"
    }
   ],
   "source": [
    "enum Color {\n",
    "    Red,\n",
    "    Black,\n",
    "}\n",
    "let c = Color::Red;\n",
    "match c {\n",
    "    // Le cas par defaut est en premier. Meme si la couleur est rouge, on ne le saura pas !\n",
    "    other_color => println!(\"I know it is not RED !\"),\n",
    "    Color::Red => println!(\"It is RED\"),\n",
    "}"
   ]
  },
  {
   "cell_type": "markdown",
   "id": "fancy-street",
   "metadata": {
    "deletable": false,
    "editable": false
   },
   "source": [
    "> Pourtant, la couleur était bien le rouge !"
   ]
  },
  {
   "cell_type": "markdown",
   "id": "classified-recycling",
   "metadata": {
    "deletable": false,
    "editable": false
   },
   "source": [
    "* On préfixe généralement les noms des variables par défaut qui ne nous intéresse pas par un **underscore** `_` voire par un underscore seul, ainsi la forme la plus courante sera :"
   ]
  },
  {
   "cell_type": "code",
   "execution_count": 17,
   "id": "structured-induction",
   "metadata": {
    "deletable": false,
    "editable": false
   },
   "outputs": [
    {
     "name": "stdout",
     "output_type": "stream",
     "text": [
      "It is RED\n"
     ]
    },
    {
     "data": {
      "text/plain": [
       "()"
      ]
     },
     "execution_count": 17,
     "metadata": {},
     "output_type": "execute_result"
    }
   ],
   "source": [
    "enum Color {\n",
    "    Red,\n",
    "    Black,\n",
    "}\n",
    "let c = Color::Red;\n",
    "match c {\n",
    "    Color::Red => println!(\"It is RED\"),\n",
    "    _ => println!(\"I know it is not RED !\"),\n",
    "}"
   ]
  },
  {
   "cell_type": "markdown",
   "id": "dress-reform",
   "metadata": {
    "deletable": false,
    "editable": false
   },
   "source": [
    "- Tout comme avec if let, il est tout à fait possible d'utiliser **l'opérateur OR** et les **ranges** dans un match pattern :"
   ]
  },
  {
   "cell_type": "code",
   "execution_count": 2,
   "id": "hybrid-seating",
   "metadata": {
    "deletable": false,
    "editable": false
   },
   "outputs": [
    {
     "name": "stdout",
     "output_type": "stream",
     "text": [
      "Tell me about 13\n",
      "A teen\n"
     ]
    },
    {
     "data": {
      "text/plain": [
       "()"
      ]
     },
     "execution_count": 2,
     "metadata": {},
     "output_type": "execute_result"
    }
   ],
   "source": [
    "let number = 13;\n",
    "// TODO ^ Try different values for `number`\n",
    "\n",
    "println!(\"Tell me about {}\", number);\n",
    "match number {\n",
    "    // Match a single value\n",
    "    1 => println!(\"One!\"),\n",
    "    // Match several values\n",
    "    2 | 3 | 5 | 7 | 11 => println!(\"This is a prime\"),\n",
    "    // TODO ^ Try adding 13 to the list of prime values\n",
    "    // Match an inclusive range\n",
    "    13..=19 => println!(\"A teen\"),\n",
    "    // Handle the rest of cases\n",
    "    _ => println!(\"Ain't special\"),\n",
    "    // TODO ^ Try commenting out this catch-all arm\n",
    "}"
   ]
  },
  {
   "cell_type": "markdown",
   "id": "sweet-february",
   "metadata": {
    "deletable": false,
    "editable": false
   },
   "source": [
    "> **NB** On retrouvera souvent en Rust des variables préfixées par l'underscore ou bien des underscore seuls pour tout ce qui parait inutile de lire."
   ]
  },
  {
   "cell_type": "markdown",
   "id": "assigned-genre",
   "metadata": {
    "deletable": false,
    "editable": false
   },
   "source": [
    "### La couverture de tous les motifs possibles"
   ]
  },
  {
   "cell_type": "markdown",
   "id": "rocky-spain",
   "metadata": {
    "deletable": false,
    "editable": false
   },
   "source": [
    "* Pour l'énumération Color, couvrir tous les motifs semble être une bien meilleure solution :"
   ]
  },
  {
   "cell_type": "code",
   "execution_count": 19,
   "id": "perceived-moderator",
   "metadata": {
    "deletable": false,
    "editable": false
   },
   "outputs": [
    {
     "name": "stdout",
     "output_type": "stream",
     "text": [
      "It is BLACK\n"
     ]
    },
    {
     "data": {
      "text/plain": [
       "()"
      ]
     },
     "execution_count": 19,
     "metadata": {},
     "output_type": "execute_result"
    }
   ],
   "source": [
    "enum Color {\n",
    "    Red,\n",
    "    Black,\n",
    "}\n",
    "let c = Color::Black;\n",
    "match c {\n",
    "    Color::Red => println!(\"It is RED\"),\n",
    "    Color::Black => println!(\"It is BLACK\"),\n",
    "}"
   ]
  },
  {
   "cell_type": "markdown",
   "id": "missing-track",
   "metadata": {
    "deletable": false,
    "editable": false
   },
   "source": [
    "- Voici un autre exemple de couverture de tous les motifs. Notez la récupération de freq dans le premier motif ou l'utilisation de l'underscore solitaire dans le second :"
   ]
  },
  {
   "cell_type": "code",
   "execution_count": 20,
   "id": "rocky-joint",
   "metadata": {
    "deletable": false,
    "editable": false
   },
   "outputs": [
    {
     "name": "stdout",
     "output_type": "stream",
     "text": [
      "Ia32 but we dont worried about frequency\n"
     ]
    },
    {
     "data": {
      "text/plain": [
       "()"
      ]
     },
     "execution_count": 20,
     "metadata": {},
     "output_type": "execute_result"
    }
   ],
   "source": [
    "enum Target {\n",
    "    X86(u32),\n",
    "    Ia32(u32),\n",
    "    Mips,\n",
    "}\n",
    "use Target::*;\n",
    "let my_target = Ia32(25);\n",
    "match my_target {\n",
    "    X86(freq) => println!(\"X86 at frequency {} mhz\", freq),\n",
    "    Ia32(_) => println!(\"Ia32 but we dont worried about frequency\"), \n",
    "    Mips => println!(\"Just an other Mips again\"), \n",
    "}"
   ]
  },
  {
   "cell_type": "markdown",
   "id": "congressional-processing",
   "metadata": {
    "deletable": false,
    "editable": false
   },
   "source": [
    "## Les différentes déstructurations\n",
    "\n",
    "### Cas d'une structure\n",
    "\n",
    "- Nous avons déjà croise la déstructuration d'un motif d'une structure dans le chapitre traitant de if let, déstructurer consiste a remplacer une partie de cette structure par une variable que nous récupérerons ou pas ou bien même a ignorer certaines valeurs dans le motif :"
   ]
  },
  {
   "cell_type": "code",
   "execution_count": 14,
   "id": "mathematical-skill",
   "metadata": {
    "deletable": false,
    "editable": false
   },
   "outputs": [
    {
     "name": "stdout",
     "output_type": "stream",
     "text": [
      "1: A point with i = 2, j = 5 and k = 2\n",
      "2: j = 5 k = 10\n",
      "3: Others cases... i value is 8\n"
     ]
    }
   ],
   "source": [
    "struct Point3D {\n",
    "    i: usize,\n",
    "    j: usize,\n",
    "    k: usize,\n",
    "}\n",
    "fn test_3d_point(p: Point3D) {\n",
    "    match p {\n",
    "        // Pas de destructuration ici\n",
    "        Point3D { i: 2, j: 5, k: 2} => println!(\"1: A point with i = 2, j = 5 and k = 2\"),\n",
    "        // Recuperation de la variable j\n",
    "        Point3D { i: 2, j: second_value, k: third_value} => println!(\"2: j = {} k = {}\", second_value, third_value),\n",
    "        // La syntaxe .. implique que la suite du motif de la structure sera ignoree, ici j et k\n",
    "        Point3D { i, ..} => println!(\"3: Others cases... i value is {}\", i),\n",
    "    }\n",
    "}\n",
    "test_3d_point(Point3D { i: 2, j: 5, k: 2});\n",
    "test_3d_point(Point3D { i: 2, j: 5, k: 10});\n",
    "test_3d_point(Point3D { i: 8, j: 10, k: 10});"
   ]
  },
  {
   "cell_type": "markdown",
   "id": "independent-louis",
   "metadata": {
    "deletable": false,
    "editable": false
   },
   "source": [
    "> **NB** Il est très important de bien spécifier le nom des variables de la structure lors du match. Ainsi, je dois écrire `Point3D { i: 2, j: 5, k: 2} => ...` et non Point3D { 2, 5, 2} => ... ! L'ordre importe peu, lors du second test, j'aurai pu écrire `Point3D { j: second_value, k: third_value, i: 2} => ...` L'oubli du nom d'une variable pour une structure est une erreur que font fréquemment les débutants, car ils confondent avec un tuple."
   ]
  },
  {
   "cell_type": "markdown",
   "id": "original-accommodation",
   "metadata": {
    "deletable": false,
    "editable": false
   },
   "source": [
    "### Cas d'une énumération\n",
    "\n",
    "- La déstructuration d'une énumération consiste le plus souvent à tester la présence d'un variant et a récupérer les données associées a ce dernier :"
   ]
  },
  {
   "cell_type": "code",
   "execution_count": 30,
   "id": "comic-binary",
   "metadata": {
    "deletable": false,
    "editable": false
   },
   "outputs": [
    {
     "name": "stdout",
     "output_type": "stream",
     "text": [
      "5: Red: 122, green: 17, and blue: 40!\n",
      "4: Red must be 10, green: 17, and blue: 40!\n",
      "1: The color is Red!\n",
      "6: The first three values are ignored, key (black): 42!\n"
     ]
    }
   ],
   "source": [
    "enum MyColor {\n",
    "    // Ces 3 premieres couleurs sont des variants simples.\n",
    "    Red,\n",
    "    Blue,\n",
    "    Green,\n",
    "    // Ces modeles sont des tuples\n",
    "    RGB(u32, u32, u32),\n",
    "    CMYK(u32, u32, u32, u32),\n",
    "}\n",
    "\n",
    "fn test_my_color(color: MyColor) {\n",
    "    match color {\n",
    "        MyColor::Red   => println!(\"1: The color is Red!\"),\n",
    "        MyColor::Blue  => println!(\"2: The color is Blue!\"),\n",
    "        MyColor::Green => println!(\"3: The color is Green!\"),\n",
    "        // La premiere valeur doit etre egale a 10.\n",
    "        MyColor::RGB(10, g, b) =>\n",
    "            println!(\"4: Red must be 10, green: {}, and blue: {}!\", g, b),\n",
    "        MyColor::RGB(r, g, b) =>\n",
    "            println!(\"5: Red: {}, green: {}, and blue: {}!\", r, g, b),\n",
    "        //  Les 3 premiers chamos sont ignores.\n",
    "        MyColor::CMYK(.., k) =>\n",
    "            println!(\"6: The first three values are ignored, key (black): {}!\", k),\n",
    "        // Tous les cas ont ete couverts.\n",
    "    }\n",
    "}\n",
    "test_my_color(MyColor::RGB(122, 17, 40));\n",
    "test_my_color(MyColor::RGB(10, 17, 40));\n",
    "test_my_color(MyColor::Red);\n",
    "test_my_color(MyColor::CMYK(13, 20, 100, 42));"
   ]
  },
  {
   "cell_type": "markdown",
   "id": "extra-iraqi",
   "metadata": {
    "deletable": false,
    "editable": false
   },
   "source": [
    "### Cas d'un tableau\n",
    "\n",
    "- La déstructuration d'un tableau obéit aux mêmes principes."
   ]
  },
  {
   "cell_type": "code",
   "execution_count": 31,
   "id": "delayed-wisconsin",
   "metadata": {
    "deletable": false,
    "editable": false
   },
   "outputs": [
    {
     "name": "stdout",
     "output_type": "stream",
     "text": [
      "Tell me about [0, -2, 3]\n",
      "First is 0, y = -2, and z = 3\n"
     ]
    },
    {
     "data": {
      "text/plain": [
       "()"
      ]
     },
     "execution_count": 31,
     "metadata": {},
     "output_type": "execute_result"
    }
   ],
   "source": [
    "let triple = [0, -2, 3];\n",
    "println!(\"Tell me about {triple:?}\");\n",
    "match triple {\n",
    "    [0, y, z] => println!(\"First is 0, y = {y}, and z = {z}\"),\n",
    "    [1, ..]   => println!(\"First is 1 and the rest were ignored\"),\n",
    "    _         => println!(\"All elements were ignored\"),\n",
    "}"
   ]
  },
  {
   "cell_type": "markdown",
   "id": "stunning-dating",
   "metadata": {
    "deletable": false,
    "editable": false
   },
   "source": [
    "- Je le découvre en écrivant ce cours :) Mais il semble tout à fait possible de récupérer un sous-tableau d'un tableau lors d'un match grâce au symbole **@** :"
   ]
  },
  {
   "cell_type": "code",
   "execution_count": 38,
   "id": "sexual-absorption",
   "metadata": {
    "deletable": false,
    "editable": false
   },
   "outputs": [
    {
     "name": "stdout",
     "output_type": "stream",
     "text": [
      "1: Begin wih 2, tail subarray is [3, 5, 7, 11, 13]\n",
      "2: Begin with 3 ans end with 11, midle subarray is [4, 5, 6, 7]\n",
      "3: Terminate with 11, 12, begin subarray [0, 0, 0, 0]\n",
      "4: Default case: array is [0, 12, 0, 0, 11, 98]\n"
     ]
    }
   ],
   "source": [
    "fn check_array(arr: [usize; 6]) {\n",
    "    match arr {\n",
    "        [2, tail @ ..] => println!(\"1: Begin wih 2, tail subarray is {:?}\", tail),\n",
    "        [3, middle @ .., 11] => println!(\"2: Begin with 3 ans end with 11, midle subarray is {:?}\", middle),\n",
    "        [begin @ .., 11, 13] => println!(\"3: Terminate with 11, 12, begin subarray {:?}\", begin),\n",
    "        [default @ ..] => println!(\"4: Default case: array is {:?}\", default),\n",
    "    }\n",
    "}\n",
    "check_array([2, 3, 5, 7, 11, 13]);\n",
    "check_array([3, 4, 5, 6, 7, 11]);\n",
    "check_array([0, 0, 0, 0, 11, 13]);\n",
    "check_array([0, 12, 0, 0, 11, 98]);"
   ]
  },
  {
   "cell_type": "markdown",
   "id": "martial-surgery",
   "metadata": {
    "deletable": false,
    "editable": false
   },
   "source": [
    "### Cas d'un tuple\n",
    "\n",
    "- Rien de particulier, on suit les mêmes règles que précédemment :"
   ]
  },
  {
   "cell_type": "code",
   "execution_count": 21,
   "id": "practical-optimization",
   "metadata": {
    "deletable": false,
    "editable": false
   },
   "outputs": [
    {
     "name": "stdout",
     "output_type": "stream",
     "text": [
      "v5 = 3\n"
     ]
    },
    {
     "data": {
      "text/plain": [
       "()"
      ]
     },
     "execution_count": 21,
     "metadata": {},
     "output_type": "execute_result"
    }
   ],
   "source": [
    "let tuple: (u8, u8, u8, u8, u8) = (0, 1, 1, 2, 3);\n",
    "// destructured tuple\n",
    "match tuple {\n",
    "    (0..=5, .., v5) => println!(\"v5 = {}\", v5),\n",
    "    (6..=u8::MAX, .., v4, v5) => println!(\"v4 = {} v5 = {}\", v4, v5),\n",
    "}"
   ]
  },
  {
   "cell_type": "markdown",
   "id": "increasing-fundamental",
   "metadata": {
    "deletable": false,
    "editable": false
   },
   "source": [
    "## L'ajout d'expression booléennes\n",
    "\n",
    "- Il est aussi possible d'ajouter l'évaluation d'expressions avec `if` au pattern matching. Elles peuvent constituer un filtre supplémentaire bien que ce dernier ne sera pas évalué par le compilateur afin de savoir si tous les cas ont été couverts, c'est une limitation actuelle de Rust et j'ignore si cela est corrigé un jour. Regardons cet exemple :"
   ]
  },
  {
   "cell_type": "code",
   "execution_count": 39,
   "id": "bearing-harbor",
   "metadata": {
    "deletable": false,
    "editable": false
   },
   "outputs": [
    {
     "ename": "Error",
     "evalue": "non-exhaustive patterns: `_` not covered",
     "output_type": "error",
     "traceback": [
      "\u001b[31m[E0004] Error:\u001b[0m non-exhaustive patterns: `_` not covered",
      "   \u001b[38;5;246m╭\u001b[0m\u001b[38;5;246m─\u001b[0m\u001b[38;5;246m[\u001b[0mcommand_39:1:1\u001b[38;5;246m]\u001b[0m",
      "   \u001b[38;5;246m│\u001b[0m",
      " \u001b[38;5;246m2 │\u001b[0m \u001b[38;5;249mm\u001b[0m\u001b[38;5;249ma\u001b[0m\u001b[38;5;249mt\u001b[0m\u001b[38;5;249mc\u001b[0m\u001b[38;5;249mh\u001b[0m\u001b[38;5;249m \u001b[0m\u001b[38;5;54mv\u001b[0m\u001b[38;5;249m \u001b[0m\u001b[38;5;249m{\u001b[0m",
      " \u001b[38;5;246m  ·\u001b[0m       \u001b[38;5;54m┬\u001b[0m  ",
      " \u001b[38;5;246m  ·\u001b[0m       \u001b[38;5;54m╰\u001b[0m\u001b[38;5;54m─\u001b[0m\u001b[38;5;54m─\u001b[0m pattern `_` not covered",
      " \u001b[38;5;246m  ·\u001b[0m ",
      " \u001b[38;5;246m4 │\u001b[0m \u001b[38;5;249m \u001b[0m\u001b[38;5;249m \u001b[0m\u001b[38;5;249m \u001b[0m\u001b[38;5;249m \u001b[0m\u001b[38;5;249mi\u001b[0m\u001b[38;5;249m \u001b[0m\u001b[38;5;249mi\u001b[0m\u001b[38;5;249mf\u001b[0m\u001b[38;5;249m \u001b[0m\u001b[38;5;249mi\u001b[0m\u001b[38;5;249m \u001b[0m\u001b[38;5;249m>\u001b[0m\u001b[38;5;249m=\u001b[0m\u001b[38;5;249m \u001b[0m\u001b[38;5;249m1\u001b[0m\u001b[38;5;249m0\u001b[0m\u001b[38;5;249m0\u001b[0m\u001b[38;5;249m_\u001b[0m\u001b[38;5;249mu\u001b[0m\u001b[38;5;249m3\u001b[0m\u001b[38;5;249m2\u001b[0m\u001b[38;5;249m \u001b[0m\u001b[38;5;249m=\u001b[0m\u001b[38;5;249m>\u001b[0m\u001b[38;5;249m \u001b[0m\u001b[38;5;249mp\u001b[0m\u001b[38;5;249mr\u001b[0m\u001b[38;5;249mi\u001b[0m\u001b[38;5;249mn\u001b[0m\u001b[38;5;249mt\u001b[0m\u001b[38;5;249ml\u001b[0m\u001b[38;5;249mn\u001b[0m\u001b[38;5;249m!\u001b[0m\u001b[38;5;249m(\u001b[0m\u001b[38;5;249m\"\u001b[0m\u001b[38;5;249mA\u001b[0m\u001b[38;5;249mb\u001b[0m\u001b[38;5;249mo\u001b[0m\u001b[38;5;249mv\u001b[0m\u001b[38;5;249me\u001b[0m\u001b[38;5;249m \u001b[0m\u001b[38;5;249mo\u001b[0m\u001b[38;5;249mr\u001b[0m\u001b[38;5;249m \u001b[0m\u001b[38;5;249me\u001b[0m\u001b[38;5;249mq\u001b[0m\u001b[38;5;249mu\u001b[0m\u001b[38;5;249ma\u001b[0m\u001b[38;5;249ml\u001b[0m\u001b[38;5;249m \u001b[0m\u001b[38;5;249mt\u001b[0m\u001b[38;5;249mh\u001b[0m\u001b[38;5;249ma\u001b[0m\u001b[38;5;249mn\u001b[0m\u001b[38;5;249m \u001b[0m\u001b[38;5;249m1\u001b[0m\u001b[38;5;249m0\u001b[0m\u001b[38;5;249m0\u001b[0m\u001b[38;5;249m:\u001b[0m\u001b[38;5;249m \u001b[0m\u001b[38;5;249m{\u001b[0m\u001b[38;5;249m}\u001b[0m\u001b[38;5;249m\"\u001b[0m\u001b[38;5;249m,\u001b[0m\u001b[38;5;249m \u001b[0m\u001b[38;5;249mi\u001b[0m\u001b[38;5;249m)\u001b[0m\u001b[38;5;249m,\u001b[0m",
      " \u001b[38;5;246m  ·\u001b[0m                                                                    \u001b[38;5;100m│\u001b[0m ",
      " \u001b[38;5;246m  ·\u001b[0m                                                                    \u001b[38;5;100m╰\u001b[0m\u001b[38;5;100m─\u001b[0m help: ensure that all possible cases are being handled by adding a match arm with a wildcard pattern or an explicit pattern as shown: `,",
      "    _ => todo!()`",
      "\u001b[38;5;246m───╯\u001b[0m"
     ]
    }
   ],
   "source": [
    "let v: u32 = 142;\n",
    "match v {\n",
    "    i if i < 100_u32 => println!(\"Below than 100: {}\", i),\n",
    "    i if i >= 100_u32 => println!(\"Above or equal than 100: {}\", i),\n",
    "}"
   ]
  },
  {
   "cell_type": "markdown",
   "id": "maritime-tyler",
   "metadata": {
    "deletable": false,
    "editable": false
   },
   "source": [
    "> Ici la variable **v** est un u2, une variable dont les valeurs seront forcément comprises entre 0 et u32::MAX. Tous les cas semblent donc couverts puisque dans la première ligne du match on demande si i est inférieur ou égal a 100 et dans le second, on couvre toutes les valeurs supérieures à 100. Pourtant, le compilateur n'est pas d'accord et nous retourne une erreur..."
   ]
  },
  {
   "cell_type": "markdown",
   "id": "instrumental-norfolk",
   "metadata": {
    "deletable": false,
    "editable": false
   },
   "source": [
    "- Cela parait donc contre-intuitif et notre seul possibilité de résolution de l'erreur est d'ajouter un cas par défaut qui n'arrivera pourtant jamais :"
   ]
  },
  {
   "cell_type": "code",
   "execution_count": 45,
   "id": "linear-agent",
   "metadata": {
    "deletable": false,
    "editable": false
   },
   "outputs": [
    {
     "name": "stdout",
     "output_type": "stream",
     "text": [
      "All is okay\n"
     ]
    }
   ],
   "source": [
    "// Range inclusive.\n",
    "for v in 0..=u32::MAX {\n",
    "    match v {\n",
    "        i if i < 100_u32 => {},\n",
    "        i if i >= 100_u32 => {},\n",
    "        _default => panic!(\"Woot ?\"), // Le programme paniquera si on tombe dans le default.\n",
    "    }\n",
    "}\n",
    "println!(\"All is okay\");"
   ]
  },
  {
   "cell_type": "markdown",
   "id": "hispanic-south",
   "metadata": {
    "deletable": false,
    "editable": false
   },
   "source": [
    "- Pour terminer le chapitre, voici un exemple plus complet d'ajout d'expression booléenne :"
   ]
  },
  {
   "cell_type": "code",
   "execution_count": 50,
   "id": "adverse-kingdom",
   "metadata": {
    "deletable": false,
    "editable": false
   },
   "outputs": [
    {
     "name": "stdout",
     "output_type": "stream",
     "text": [
      "1: X86 at LOW frequency 15 mhz\n",
      "2: X86 at HIGH frequency 120 mhz\n",
      "3: Ia32 but we dont worried about frequency\n",
      "4: Just an other Mips again\n"
     ]
    }
   ],
   "source": [
    "enum Target {\n",
    "    X86(u32),\n",
    "    Ia32(u32),\n",
    "    Mips,\n",
    "}\n",
    "fn test_my_target(my_target: Target) {\n",
    "    use Target::*;\n",
    "    match my_target {\n",
    "        X86(freq) if freq < 30 => println!(\"1: X86 at LOW frequency {} mhz\", freq), // Condition < 30\n",
    "        X86(freq) if freq >= 30 => println!(\"2: X86 at HIGH frequency {} mhz\", freq), // Condition >= 30\n",
    "        Ia32(_) => println!(\"3: Ia32 but we dont worried about frequency\"), \n",
    "        Mips => println!(\"4: Just an other Mips again\"),\n",
    "        _ => panic!(\"Woot ?!?\"), // Dummy default case.\n",
    "    }\n",
    "}\n",
    "test_my_target(Target::X86(15));\n",
    "test_my_target(Target::X86(120));\n",
    "test_my_target(Ia32(65));\n",
    "test_my_target(Mips);"
   ]
  },
  {
   "cell_type": "markdown",
   "id": "upset-fusion",
   "metadata": {
    "deletable": false,
    "editable": false
   },
   "source": [
    "## Exercices"
   ]
  },
  {
   "cell_type": "markdown",
   "id": "integral-athens",
   "metadata": {
    "deletable": false,
    "editable": false
   },
   "source": [
    "### Écrire une séquence de code avec match pour tous les cas :"
   ]
  },
  {
   "cell_type": "code",
   "execution_count": 51,
   "id": "shaped-leeds",
   "metadata": {
    "deletable": false,
    "editable": false
   },
   "outputs": [],
   "source": [
    "enum MyOption {\n",
    "    Some(usize),\n",
    "    None,\n",
    "}\n",
    "let opt = MyOption::Some(11);"
   ]
  },
  {
   "cell_type": "code",
   "execution_count": 35,
   "id": "distinct-grounds",
   "metadata": {
    "solution2": "hidden",
    "solution2_first": true
   },
   "outputs": [],
   "source": [
    "// Ecrire le code ici"
   ]
  },
  {
   "cell_type": "markdown",
   "id": "written-flavor",
   "metadata": {
    "deletable": false,
    "editable": false,
    "solution2": "hidden"
   },
   "source": [
    "```\n",
    "match opt {\n",
    "    MyOption::Some(value) => println!(\"It is Some({})\", value),\n",
    "    MyOption::None => println!(\"MyOption is empty !\"),\n",
    "}\n",
    "```"
   ]
  },
  {
   "cell_type": "markdown",
   "id": "color-istanbul",
   "metadata": {
    "deletable": false,
    "editable": false
   },
   "source": [
    "### Écrire une séquence de code avec match pour tous les cas :"
   ]
  },
  {
   "cell_type": "code",
   "execution_count": 52,
   "id": "spanish-gnome",
   "metadata": {
    "deletable": false,
    "editable": false
   },
   "outputs": [],
   "source": [
    "enum MyResult {\n",
    "    Ok(usize),\n",
    "    Err(&'static str),\n",
    "}\n",
    "let res = MyResult::Err(\"Unexpected error... Woot ?!?\");"
   ]
  },
  {
   "cell_type": "code",
   "execution_count": 34,
   "id": "prerequisite-entrepreneur",
   "metadata": {
    "solution2": "hidden",
    "solution2_first": true
   },
   "outputs": [],
   "source": [
    "// Ecrire le code ici"
   ]
  },
  {
   "cell_type": "markdown",
   "id": "fatal-acrobat",
   "metadata": {
    "deletable": false,
    "editable": false,
    "solution2": "hidden"
   },
   "source": [
    "```\n",
    "match res {\n",
    "    MyResult::Ok(value) => println!(\"It is Ok({})\", value),\n",
    "    MyResult::Err(s) => println!(\"The error is {}\", s),\n",
    "}\n",
    "```"
   ]
  }
 ],
 "metadata": {
  "kernelspec": {
   "display_name": "Rust",
   "language": "rust",
   "name": "rust"
  },
  "language_info": {
   "codemirror_mode": "rust",
   "file_extension": ".rs",
   "mimetype": "text/rust",
   "name": "Rust",
   "pygment_lexer": "rust",
   "version": ""
  },
  "toc": {
   "base_numbering": "2",
   "nav_menu": {},
   "number_sections": true,
   "sideBar": true,
   "skip_h1_title": false,
   "title_cell": "Table of Contents",
   "title_sidebar": "Contents",
   "toc_cell": false,
   "toc_position": {
    "height": "calc(100% - 180px)",
    "left": "10px",
    "top": "150px",
    "width": "268.8px"
   },
   "toc_section_display": true,
   "toc_window_display": false
  }
 },
 "nbformat": 4,
 "nbformat_minor": 5
}
