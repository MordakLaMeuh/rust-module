{
 "cells": [
  {
   "cell_type": "markdown",
   "id": "advance-lounge",
   "metadata": {
    "deletable": false,
    "editable": false
   },
   "source": [
    "#  ___TP Match Or Match___\n",
    "\n",
    "---\n",
    "\n",
    "Dans ce troisième TP, vous devrez faire un petit programme qui ne contient qu'un seul fichier main.rs (Généré\n",
    "par Cargo). Ce programme ne prend pas d'argument et contient, en plus de la fonction main(), la définition d'une énumération, de structures ainsi que du code de débogage. Vous devez écrire une partie du code manquant et exécuter le programme afin de vous assurer que tout fonctionne correctement.\n",
    "\n",
    "- **NB** Si vous ne voulez pas installer Rust directement sur votre machine, vous pouvez ouvrir un terminal à partir de la page d'accueil de Jupyter. Une fois ouvert, faites `cd programs/matchormatch` pour vous rendre à la racine du projet matchormatch et testez. Aussi, le code peut se rédiger directement dans Jupyter en allant dans le dossier `programs` de la partie `004 if let and pattern matching`. Vous pouvez aussi utiliser votre éditeur de code à partir de votre machine hôte, les sources du programme se trouvent dans le path `Desktop/programs/matchormatch`."
   ]
  },
  {
   "cell_type": "markdown",
   "id": "assured-priest",
   "metadata": {
    "deletable": false,
    "editable": false
   },
   "source": [
    "**CONSIGNES**\n",
    "\n",
    "- Grace a **if let**, testez si la valeur de l'énumération est **None**, dans ce cas, faite **paniquer** le programme.\n",
    "\n",
    "- Faire ensuite un **match** afin de couvrir tous les cas ci-dessous :\n",
    "\n",
    "> - Premier variant (FirstVariant) de l'énumération : la variable **a** de la struct **A** doit être égale a **42**, afficher grâce a println! Le contenu du tableau nommé **c**.\n",
    "> - Premier variant (FirstVariant) de l'énumération : On match si le tableau **c** contient les données dans l'ordre **1 ou 11, 2, 3 et 4**.\n",
    "> - Premier variant (FirstVariant) de l'énumération : On match pour **toutes les autres donnees**.\n",
    "> - Second variant (SecondVariant) de l'énumération : On match si la première valeur du tuple **keys** est **inférieur a 10**, afficher le contenu de cette dernière.\n",
    "> - Second variant (SecondVariant) de l'énumération : On match si la première valeur du tuple **keys** est **supérieur ou egal a 10**, afficher le contenu de cette dernière.\n",
    "> - Gérer les **cas par defaut** si cela s'avère nécessaire..."
   ]
  },
  {
   "cell_type": "markdown",
   "id": "proper-teacher",
   "metadata": {
    "deletable": false,
    "editable": false
   },
   "source": [
    "```\n",
    "// #[allow(unused_variables)]\n",
    "// #[allow(dead_code)]\n",
    "fn main() {\n",
    "    enum MyEnum {\n",
    "        FirstVariant(A),\n",
    "        SecondVariant(B),\n",
    "        None,\n",
    "    }\n",
    "    struct A {\n",
    "        a: usize,\n",
    "        b: usize,\n",
    "        c: [usize; 4],\n",
    "    }\n",
    "    struct B {\n",
    "        n: usize,\n",
    "        keys: (u8, u8, u8, u8),\n",
    "    }\n",
    "    fn test(e: MyEnum) {\n",
    "        // Ecrire le code ici\n",
    "    }\n",
    "    test(MyEnum::FirstVariant(A {\n",
    "        a: 42,\n",
    "        b: 11,\n",
    "        c: [1, 2, 3, 4],\n",
    "    }));\n",
    "    test(MyEnum::FirstVariant(A {\n",
    "        a: 12,\n",
    "        b: 11,\n",
    "        c: [11, 2, 3, 4],\n",
    "    }));\n",
    "    test(MyEnum::FirstVariant(A {\n",
    "        a: 12,\n",
    "        b: 11,\n",
    "        c: [20, 2, 3, 4],\n",
    "    }));\n",
    "    test(MyEnum::SecondVariant(B {\n",
    "        n: 4,\n",
    "        keys: (8, 12, 10, 21),\n",
    "    }));\n",
    "    test(MyEnum::SecondVariant(B {\n",
    "        n: 4,\n",
    "        keys: (18, 12, 10, 21),\n",
    "    }));\n",
    "}\n",
    "```\n"
   ]
  }
 ],
 "metadata": {
  "kernelspec": {
   "display_name": "Rust",
   "language": "rust",
   "name": "rust"
  },
  "language_info": {
   "codemirror_mode": "rust",
   "file_extension": ".rs",
   "mimetype": "text/rust",
   "name": "Rust",
   "pygment_lexer": "rust",
   "version": ""
  },
  "toc": {
   "base_numbering": "3",
   "nav_menu": {
    "height": "63px",
    "width": "830px"
   },
   "number_sections": true,
   "sideBar": true,
   "skip_h1_title": false,
   "title_cell": "Table of Contents",
   "title_sidebar": "Contents",
   "toc_cell": false,
   "toc_position": {
    "height": "calc(100% - 180px)",
    "left": "10px",
    "top": "150px",
    "width": "352px"
   },
   "toc_section_display": true,
   "toc_window_display": false
  }
 },
 "nbformat": 4,
 "nbformat_minor": 5
}
