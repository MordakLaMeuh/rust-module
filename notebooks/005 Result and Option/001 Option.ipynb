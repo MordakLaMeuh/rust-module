{
 "cells": [
  {
   "cell_type": "markdown",
   "id": "analyzed-childhood",
   "metadata": {
    "deletable": false,
    "editable": false
   },
   "source": [
    "# ___Les Options___\n",
    "\n",
    "---"
   ]
  },
  {
   "cell_type": "markdown",
   "id": "fourth-fruit",
   "metadata": {
    "deletable": false,
    "editable": false
   },
   "source": [
    "**Attention, bien que ce chapitre traite essentiellement des Option et des Result, il introduit aussi la notion de type generique. Ce concept sera détaillé plus tard dans le cours.** "
   ]
  },
  {
   "cell_type": "markdown",
   "id": "central-fetish",
   "metadata": {
    "deletable": false,
    "editable": false
   },
   "source": [
    "> Dans nombre de langage informatique, il arrive que nous ayons à donner certaines valeurs à des variables pour exprimer des erreurs, qu'elles ne contiennent rien ou bien tout simplement qu'elles ne sont pas utilisables pour le moment. Généralement, on leur donnera comme valeur -1 ou 0 ou bien un pointeur nul en C. Or cette bidouille est source de nombreuses erreurs puisqu'il suffit d'oublier un test quelque part dans le code ou bien de se rendre compte que la valeur que l'on a donnée comme erreur est en fait valide dans certains cas pour que le programme plante ou ne semble pas logique.\n",
    "\n",
    "> En s'inspirant de ce qui se fait dans les langages fonctionnels, les développeurs de Rust ont décide de créer deux énumérations intégrées a la std afin de pouvoir gérer ce problème. La première énumération est l'`Option` et la seconde est le `Result`."
   ]
  },
  {
   "cell_type": "markdown",
   "id": "cardiac-learning",
   "metadata": {
    "deletable": false,
    "editable": false
   },
   "source": [
    "## Le prototype de Option"
   ]
  },
  {
   "cell_type": "markdown",
   "id": "expressed-creature",
   "metadata": {
    "deletable": false,
    "editable": false
   },
   "source": [
    "- Un Option est une énumération de la std qui possède deux variant :\n",
    "> - Un variant qui exprime qu'il y a quelque chose, le variant `Some`\n",
    "> - Un variant qui exprime qu'il n'y a rien du tout, le variant `None`\n",
    "\n",
    "Ce \"quelque chose\" peut être n'importe quel type, on pourrait ainsi tout autant vouloir une Option d'un usize ou bien une option d'une structure. Comme ll serait illogique et fastidieux d'avoir a créer une Option manuellement pour chacun des types de langages sans compter nos propres types, les Option utiliseront un type générique noté `T` . Ce type générique T sera défini par le programmeur lorsqu'il créera sa variable de type Option.\n",
    "\n",
    "![PROTO](pictures/proto_options.png)"
   ]
  },
  {
   "cell_type": "markdown",
   "id": "fitting-novel",
   "metadata": {
    "deletable": false,
    "editable": false
   },
   "source": [
    "> Par exemple si l'on veut une Option de usize, on remplacera T par usize soit `Option<usize>` et Some(T) sera remplace par le compilateur avec `Some(usize)`."
   ]
  },
  {
   "cell_type": "markdown",
   "id": "recorded-sunday",
   "metadata": {
    "deletable": false,
    "editable": false
   },
   "source": [
    "## Création et utilisation d'une Option\n",
    "\n",
    "- Commençons par un exemple très simple :"
   ]
  },
  {
   "cell_type": "code",
   "execution_count": 3,
   "id": "biological-violence",
   "metadata": {
    "deletable": false,
    "editable": false
   },
   "outputs": [
    {
     "name": "stderr",
     "output_type": "stream",
     "text": [
      "[src/lib.rs:105] opt = Some(\n",
      "    42,\n",
      ")\n"
     ]
    }
   ],
   "source": [
    "let opt: Option<usize> = Some(42);\n",
    "dbg!(opt);"
   ]
  },
  {
   "cell_type": "markdown",
   "id": "sonic-learning",
   "metadata": {
    "deletable": false,
    "editable": false
   },
   "source": [
    "> Il n'a rien d'étonnant au fait que nous avons fait la même chose que pour une énumération puisque Option est une énumération. L'unique différence avec ce qui a été vu au chapitre précédent, c'est le type générique que nous avons spécifie ici entre `<` et `>`."
   ]
  },
  {
   "cell_type": "markdown",
   "id": "ethical-consumption",
   "metadata": {
    "deletable": false,
    "editable": false
   },
   "source": [
    "- Il est donc aussi tout à fait possible de pouvoir utiliser un match sur l'Option."
   ]
  },
  {
   "cell_type": "code",
   "execution_count": 7,
   "id": "loaded-system",
   "metadata": {
    "deletable": false,
    "editable": false
   },
   "outputs": [
    {
     "name": "stdout",
     "output_type": "stream",
     "text": [
      "1: The Option contains an usize. The value is 42.\n",
      "2: The Option contains nothing !\n",
      "The contained value is 3.15\n"
     ]
    },
    {
     "data": {
      "text/plain": [
       "()"
      ]
     },
     "execution_count": 7,
     "metadata": {},
     "output_type": "execute_result"
    }
   ],
   "source": [
    "fn check_option(opt: Option<usize>) {\n",
    "    match opt {\n",
    "        Some(value) => println!(\"1: The Option contains an usize. The value is {}.\", value),\n",
    "        None => println!(\"2: The Option contains nothing !\"),\n",
    "    }\n",
    "}\n",
    "check_option(Some(42));\n",
    "check_option(None);\n",
    "\n",
    "let opt: Option<f64> = Some(3.15);\n",
    "if let Some(f) = opt {\n",
    "    println!(\"The contained value is {}\", f);\n",
    "}"
   ]
  },
  {
   "cell_type": "markdown",
   "id": "romantic-tunnel",
   "metadata": {
    "deletable": false,
    "editable": false
   },
   "source": [
    "> On remarquera aussi que contrairement à nos énumérations du chapitre précédent, nous n'avons pas à expliciter le type Option pour les variants. Car, afin d'éviter d'avoir a imposer au codeur d'écrire Option::Some(value), Option::None, ou encore use Option::\\*\\*, les développeurs de Rust ont décide d'intégrer les variants de Option au prélude, **le prélude désigne tout ce qui est importes par défaut.**"
   ]
  },
  {
   "cell_type": "markdown",
   "id": "extreme-studio",
   "metadata": {
    "deletable": false,
    "editable": false
   },
   "source": [
    "## Les méthodes de Option\n",
    "\n",
    "### Unwrap\n",
    "\n",
    "- Il existe une pléthore de méthodes pour Option, la plus connue est certainement unwrap() qui fera paniquer le programme si l'Option est égal a None ou bien qui retournera le contenu de Some s'il existe.\n",
    "\n",
    "![UNWRAP_OPT](pictures/unwrap_options.png)"
   ]
  },
  {
   "cell_type": "markdown",
   "id": "written-bibliography",
   "metadata": {
    "deletable": false,
    "editable": false
   },
   "source": [
    "- Bien que nous n'avons pas encore vu l'allocation dynamique, on peut imaginer cet exemple. Je possède une collection de 3 éléments et j'utilise une fonction qui me permet de récupérer un de ses éléments en le retirant de ma collection. Lors de mon 4e appel, ma collection étant vide, je recevrai None ! Voyons ce code :"
   ]
  },
  {
   "cell_type": "code",
   "execution_count": 21,
   "id": "minute-shopping",
   "metadata": {
    "deletable": false,
    "editable": false
   },
   "outputs": [
    {
     "name": "stderr",
     "output_type": "stream",
     "text": [
      "[src/lib.rs:118] elem1 = Some(\n",
      "    44,\n",
      ")\n",
      "[src/lib.rs:119] v.pop() = Some(\n",
      "    22,\n",
      ")\n",
      "[src/lib.rs:120] v.pop() = Some(\n",
      "    11,\n",
      ")\n",
      "[src/lib.rs:123] elemX = None\n"
     ]
    }
   ],
   "source": [
    "let mut v = vec![11, 22, 44]; // Creation d'une collection de 3 elements\n",
    "let elem1 = v.pop(); // Recuperation du troisieme element\n",
    "dbg!(elem1); // elem1 vaut Some(44)\n",
    "dbg!(v.pop()); // Recuperation du second...\n",
    "dbg!(v.pop()); // Recuperation du premier...\n",
    "// A ce point, ma collection est vide !\n",
    "let elemX = v.pop(); // On tente de recuperer un autre element !\n",
    "dbg!(elemX); // elemX vaut None"
   ]
  },
  {
   "cell_type": "markdown",
   "id": "funded-korea",
   "metadata": {
    "deletable": false,
    "editable": false
   },
   "source": [
    "- Il peut arriver que la présence d'aucun élément soit une chose qui n'est jamais censée arriver dans un programme et qui signifie que quelque chose en amont s'est mal passée... Dans ce cas de figure, unwrap() qui peut faire paniquer le programme est une méthode de choix :"
   ]
  },
  {
   "cell_type": "code",
   "execution_count": 14,
   "id": "furnished-truth",
   "metadata": {
    "deletable": false,
    "editable": false
   },
   "outputs": [
    {
     "name": "stderr",
     "output_type": "stream",
     "text": [
      "[src/lib.rs:117] unwrap_result = 12\n",
      "thread '<unnamed>' panicked at 'called `Option::unwrap()` on a `None` value', src/lib.rs:120:26\n",
      "stack backtrace:\n",
      "   0: rust_begin_unwind\n",
      "             at /rustc/8460ca823e8367a30dda430efda790588b8c84d3/library/std/src/panicking.rs:575:5\n",
      "   1: core::panicking::panic_fmt\n",
      "             at /rustc/8460ca823e8367a30dda430efda790588b8c84d3/library/core/src/panicking.rs:64:14\n",
      "             at /rustc/8460ca823e8367a30dda430efda790588b8c84d3/library/core/src/panicking.rs:114:5\n",
      "   2: core::panicking::panic\n",
      "   3: <unknown>\n",
      "   4: <unknown>\n",
      "   5: evcxr::runtime::Runtime::run_loop\n",
      "   6: evcxr::runtime::runtime_hook\n",
      "   7: evcxr_jupyter::main\n",
      "note: Some details are omitted, run with `RUST_BACKTRACE=full` for a verbose backtrace.\n"
     ]
    }
   ],
   "source": [
    "let mut v = vec![12]; // Creation d'une collection de 1 element\n",
    "let elem = v.pop(); // elem vaut Some(12)\n",
    "let unwrap_result = elem.unwrap(); // Unwrap retourne T si l'option vaut Some(T)\n",
    "dbg!(unwrap_result);\n",
    "\n",
    "let elem = v.pop(); // Recuperation d'un nouvel element. Ici ce sera donc None\n",
    "let unwrap_result = elem.unwrap(); // Comme elem vaut None, mon code paniquera !"
   ]
  },
  {
   "cell_type": "markdown",
   "id": "organizational-realtor",
   "metadata": {
    "deletable": false,
    "editable": false
   },
   "source": [
    "### Map"
   ]
  },
  {
   "cell_type": "markdown",
   "id": "listed-testament",
   "metadata": {
    "deletable": false,
    "editable": false
   },
   "source": [
    "- Bien que cette méthode soit assez complexe pour l'instant puisqu'elle utilise deux types génériques et une closure (cf: prog fonctionnelle), il est nécessaire de la présenter puisqu'on la croise tout le temps en Rust. Voici son prototype pour Option :\n",
    "    \n",
    "![MAP_OPT](pictures/map_options.png)\n",
    "    \n",
    "> Pour faire simple, map transforme une Option d'un type en une Option d'un autre type grâce a une fonction de conversion. Par contre, si l'Option était a None, la sortie de map sera toujours None."
   ]
  },
  {
   "cell_type": "markdown",
   "id": "classical-burst",
   "metadata": {
    "deletable": false,
    "editable": false
   },
   "source": [
    "- Voici un exemple plus simple avec des types explicites et connus et sans closure :"
   ]
  },
  {
   "cell_type": "code",
   "execution_count": 29,
   "id": "mature-customer",
   "metadata": {
    "deletable": false,
    "editable": false
   },
   "outputs": [
    {
     "name": "stderr",
     "output_type": "stream",
     "text": [
      "[src/lib.rs:128] opt_u64 = Some(\n",
      "    42,\n",
      ")\n"
     ]
    }
   ],
   "source": [
    "fn usize_to_u64(v: usize) -> u64 {\n",
    "    v as u64\n",
    "}\n",
    "let opt_usize: Option<usize> = Some(42);\n",
    "let opt_u64: Option<u64> = opt_usize.map(usize_to_u64);\n",
    "dbg!(opt_u64);"
   ]
  },
  {
   "cell_type": "markdown",
   "id": "familiar-henry",
   "metadata": {
    "deletable": false,
    "editable": false
   },
   "source": [
    "> Map a permis de transformer l'Option de usize en une Option de u64"
   ]
  },
  {
   "cell_type": "markdown",
   "id": "entitled-laptop",
   "metadata": {
    "deletable": false,
    "editable": false
   },
   "source": [
    "**Il existe encore beaucoup de méthodes pour Option\\<T\\>. Voir la documentation de la std :**\n",
    "\n",
    "**Enum std::option::Option**\n",
    "\n",
    "## Aller plus loin avec les Options\n",
    "\n",
    "* Les Options sont aussi utilises par les Iterateurs que nous avons déjà brièvement croise dans le **chapitre 004 Control Flow de 002 Basics**. Parcourir un Iterateur retourne Some(quelque chose) tant qu'il y a des éléments à parcourir puis None quand il n'y a plus d'élément."
   ]
  },
  {
   "cell_type": "code",
   "execution_count": 36,
   "id": "pediatric-ceramic",
   "metadata": {
    "deletable": false,
    "editable": false
   },
   "outputs": [
    {
     "name": "stdout",
     "output_type": "stream",
     "text": [
      "Fizz\n",
      "Buzz\n",
      "FizzBuzz\n"
     ]
    },
    {
     "data": {
      "text/plain": [
       "()"
      ]
     },
     "execution_count": 36,
     "metadata": {},
     "output_type": "execute_result"
    }
   ],
   "source": [
    "let fizzbuzz = [\"Fizz\", \"Buzz\", \"FizzBuzz\"];\n",
    "for word in fizzbuzz {\n",
    "    println!(\"{}\", word);\n",
    "}"
   ]
  },
  {
   "cell_type": "markdown",
   "id": "attractive-vampire",
   "metadata": {
    "deletable": false,
    "editable": false
   },
   "source": [
    "> Derrière la boucle **for** se cache des iterateurs et des Options. Le code ci-dessous se comporte de la même façon\n",
    " :\n",
    "> ```\n",
    "> let fizzbuzz = &[\"Fizz\", \"Buzz\", \"FizzBuzz\"];\n",
    "> let mut iter = fizzbuzz.iter(); // Creation d'un iterateur sur fizzbuzz\n",
    "> while let Some(word) = iter.next() {\n",
    ">     println!(\"{}\", word);\n",
    "> }\n",
    "> ```\n",
    "\n",
    "*Les Options constituent un des piliers centraux du langage Rust, on les retrouve partout dans la std et donc dans tous les programmes en Rust.*"
   ]
  },
  {
   "cell_type": "markdown",
   "id": "connected-switch",
   "metadata": {
    "deletable": false,
    "editable": false
   },
   "source": [
    "## Exercices"
   ]
  },
  {
   "cell_type": "markdown",
   "id": "turned-bradley",
   "metadata": {
    "deletable": false,
    "editable": false
   },
   "source": [
    "### Pourquoi le code ci-dessous ne peut pas compiler ? Quelle correction appliquer ?"
   ]
  },
  {
   "cell_type": "code",
   "execution_count": 37,
   "id": "furnished-animal",
   "metadata": {
    "solution2": "hidden",
    "solution2_first": true
   },
   "outputs": [
    {
     "ename": "Error",
     "evalue": "mismatched types",
     "output_type": "error",
     "traceback": [
      "\u001b[31m[E0308] Error:\u001b[0m mismatched types",
      "   \u001b[38;5;246m╭\u001b[0m\u001b[38;5;246m─\u001b[0m\u001b[38;5;246m[\u001b[0mcommand_37:1:1\u001b[38;5;246m]\u001b[0m",
      "   \u001b[38;5;246m│\u001b[0m",
      " \u001b[38;5;246m1 │\u001b[0m \u001b[38;5;249ml\u001b[0m\u001b[38;5;249me\u001b[0m\u001b[38;5;249mt\u001b[0m\u001b[38;5;249m \u001b[0m\u001b[38;5;249mv\u001b[0m\u001b[38;5;249m:\u001b[0m\u001b[38;5;249m \u001b[0m\u001b[38;5;100mO\u001b[0m\u001b[38;5;100mp\u001b[0m\u001b[38;5;100mt\u001b[0m\u001b[38;5;100mi\u001b[0m\u001b[38;5;100mo\u001b[0m\u001b[38;5;100mn\u001b[0m\u001b[38;5;100m<\u001b[0m\u001b[38;5;100mu\u001b[0m\u001b[38;5;100ms\u001b[0m\u001b[38;5;100mi\u001b[0m\u001b[38;5;100mz\u001b[0m\u001b[38;5;100me\u001b[0m\u001b[38;5;100m>\u001b[0m\u001b[38;5;249m \u001b[0m\u001b[38;5;249m=\u001b[0m\u001b[38;5;249m \u001b[0m\u001b[38;5;54m4\u001b[0m\u001b[38;5;54m2\u001b[0m\u001b[38;5;249m;\u001b[0m",
      " \u001b[38;5;246m  ·\u001b[0m        \u001b[38;5;100m─\u001b[0m\u001b[38;5;100m─\u001b[0m\u001b[38;5;100m─\u001b[0m\u001b[38;5;100m─\u001b[0m\u001b[38;5;100m─\u001b[0m\u001b[38;5;100m─\u001b[0m\u001b[38;5;100m┬\u001b[0m\u001b[38;5;100m─\u001b[0m\u001b[38;5;100m─\u001b[0m\u001b[38;5;100m─\u001b[0m\u001b[38;5;100m─\u001b[0m\u001b[38;5;100m─\u001b[0m\u001b[38;5;100m─\u001b[0m   \u001b[38;5;54m─\u001b[0m\u001b[38;5;54m┬\u001b[0m  ",
      " \u001b[38;5;246m  ·\u001b[0m              \u001b[38;5;100m╰\u001b[0m\u001b[38;5;100m─\u001b[0m\u001b[38;5;100m─\u001b[0m\u001b[38;5;100m─\u001b[0m\u001b[38;5;100m─\u001b[0m\u001b[38;5;100m─\u001b[0m\u001b[38;5;100m─\u001b[0m\u001b[38;5;100m─\u001b[0m\u001b[38;5;100m─\u001b[0m\u001b[38;5;100m─\u001b[0m\u001b[38;5;100m─\u001b[0m\u001b[38;5;100m─\u001b[0m\u001b[38;5;100m─\u001b[0m\u001b[38;5;100m─\u001b[0m expected due to this",
      " \u001b[38;5;246m  ·\u001b[0m                         \u001b[38;5;54m│\u001b[0m  ",
      " \u001b[38;5;246m  ·\u001b[0m                         \u001b[38;5;54m╰\u001b[0m\u001b[38;5;54m─\u001b[0m\u001b[38;5;54m─\u001b[0m expected enum `Option`, found integer",
      "\u001b[38;5;246m───╯\u001b[0m"
     ]
    },
    {
     "ename": "Error",
     "evalue": "mismatched types",
     "output_type": "error",
     "traceback": [
      "\u001b[31m[E0308] Error:\u001b[0m mismatched types",
      "   \u001b[38;5;246m╭\u001b[0m\u001b[38;5;246m─\u001b[0m\u001b[38;5;246m[\u001b[0mcommand_37:1:1\u001b[38;5;246m]\u001b[0m",
      "   \u001b[38;5;246m│\u001b[0m",
      " \u001b[38;5;246m2 │\u001b[0m \u001b[38;5;249mi\u001b[0m\u001b[38;5;249mf\u001b[0m\u001b[38;5;249m \u001b[0m\u001b[38;5;249ml\u001b[0m\u001b[38;5;249me\u001b[0m\u001b[38;5;249mt\u001b[0m\u001b[38;5;249m \u001b[0m\u001b[38;5;54m4\u001b[0m\u001b[38;5;54m2\u001b[0m\u001b[38;5;249m \u001b[0m\u001b[38;5;249m=\u001b[0m\u001b[38;5;249m \u001b[0m\u001b[38;5;100mv\u001b[0m\u001b[38;5;249m \u001b[0m\u001b[38;5;249m{\u001b[0m",
      " \u001b[38;5;246m  ·\u001b[0m        \u001b[38;5;54m─\u001b[0m\u001b[38;5;54m┬\u001b[0m   \u001b[38;5;100m┬\u001b[0m  ",
      " \u001b[38;5;246m  ·\u001b[0m         \u001b[38;5;54m╰\u001b[0m\u001b[38;5;54m─\u001b[0m\u001b[38;5;54m─\u001b[0m\u001b[38;5;54m─\u001b[0m\u001b[38;5;54m─\u001b[0m\u001b[38;5;54m─\u001b[0m\u001b[38;5;54m─\u001b[0m expected enum `Option`, found integer",
      " \u001b[38;5;246m  ·\u001b[0m             \u001b[38;5;100m│\u001b[0m  ",
      " \u001b[38;5;246m  ·\u001b[0m             \u001b[38;5;100m╰\u001b[0m\u001b[38;5;100m─\u001b[0m\u001b[38;5;100m─\u001b[0m this expression has type `Option<usize>`",
      "\u001b[38;5;246m───╯\u001b[0m"
     ]
    }
   ],
   "source": [
    "let v: Option<usize> = 42;\n",
    "if let 42 = v {\n",
    "    println!(\"OK\");\n",
    "}"
   ]
  },
  {
   "cell_type": "markdown",
   "id": "earned-balance",
   "metadata": {
    "deletable": false,
    "editable": false,
    "solution2": "hidden"
   },
   "source": [
    "Le contenu de l'Option n'est pas 42 mais Some(42), le compilateur ne comprend pas notre comparaison de motif entre un usize et une Option de usize.\n",
    "\n",
    "```\n",
    "let v: Option<usize> = 42;\n",
    "if let Some(42) = v {\n",
    "    println!(\"OK\");\n",
    "}\n",
    "```"
   ]
  },
  {
   "cell_type": "markdown",
   "id": "yellow-speaking",
   "metadata": {
    "deletable": false,
    "editable": false
   },
   "source": [
    "### En vous aidant de la documentation de take et de unwrap pour Option, l'exécution de ce code se passe-t-elle correctement ? Si oui, pourquoi ?"
   ]
  },
  {
   "cell_type": "markdown",
   "id": "sharp-depth",
   "metadata": {
    "deletable": false,
    "editable": false,
    "solution2": "hidden",
    "solution2_first": true
   },
   "source": [
    "```\n",
    "let mut v: Option<usize> = Some(42);\n",
    "let value = v.take().unwrap();\n",
    "dbg!(value);\n",
    "dbg!(v.unwrap());\n",
    "```"
   ]
  },
  {
   "cell_type": "markdown",
   "id": "exciting-survey",
   "metadata": {
    "deletable": false,
    "editable": false,
    "solution2": "hidden"
   },
   "source": [
    "Le déroulement du code était correct durant les 3 premières lignes. Seulement, en utilisant take(), j'ai récupéré 42 de mon Option qui est devenu None, ainsi lors de la 4e ligne, unwrap() fera paniquer le code."
   ]
  }
 ],
 "metadata": {
  "kernelspec": {
   "display_name": "Rust",
   "language": "rust",
   "name": "rust"
  },
  "language_info": {
   "codemirror_mode": "rust",
   "file_extension": ".rs",
   "mimetype": "text/rust",
   "name": "Rust",
   "pygment_lexer": "rust",
   "version": ""
  },
  "toc": {
   "base_numbering": 1,
   "nav_menu": {},
   "number_sections": true,
   "sideBar": true,
   "skip_h1_title": false,
   "title_cell": "Table of Contents",
   "title_sidebar": "Contents",
   "toc_cell": false,
   "toc_position": {},
   "toc_section_display": true,
   "toc_window_display": false
  }
 },
 "nbformat": 4,
 "nbformat_minor": 5
}
