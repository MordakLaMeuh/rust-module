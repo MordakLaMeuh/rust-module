{
 "cells": [
  {
   "cell_type": "markdown",
   "id": "prescribed-asthma",
   "metadata": {
    "deletable": false,
    "editable": false
   },
   "source": [
    "# ___Les Results___\n",
    "\n",
    "---\n",
    "\n",
    "## Le prototype de Result\n",
    "\n",
    "- Un Result ressemble beaucoup à une Option à la différence qu'au lieu d'avoir un variant None qui désigne l'absence de quelque chose, un Result possède un variant Err pour erreur ainsi qu'un type d'erreur associé. Le variant Some(T) devient un variant Ok(T), ce qui exprime que le résultat est okay. Donc un Result a deux types génériques, celui de la valeur \"correcte\" qu'il contient soit `Ok(T)` et le type de l'erreur soit `Err(E)`.\n",
    "\n",
    "![PROTO](pictures/proto_result.png)"
   ]
  },
  {
   "cell_type": "markdown",
   "id": "incredible-jordan",
   "metadata": {
    "deletable": false,
    "editable": false
   },
   "source": [
    "> Comme pour les Option, les variants Ok et Err sont dans le prélude de Rust et n'ont donc pas besoin d'être préfixés par **Result::**."
   ]
  },
  {
   "cell_type": "markdown",
   "id": "super-fisher",
   "metadata": {
    "deletable": false,
    "editable": false
   },
   "source": [
    "## Creation et utilisation d'un Result"
   ]
  },
  {
   "cell_type": "markdown",
   "id": "desirable-stadium",
   "metadata": {
    "deletable": false,
    "editable": false
   },
   "source": [
    "### Utilisation naive"
   ]
  },
  {
   "cell_type": "markdown",
   "id": "verified-license",
   "metadata": {
    "deletable": false,
    "editable": false
   },
   "source": [
    "- On serait tenté de faire un exemple simple pour Result mais l'on va se heurter à un problème de sens. Quel est le type de l'erreur ? Pourquoi construire une structure Result directement ?"
   ]
  },
  {
   "cell_type": "code",
   "execution_count": 12,
   "id": "increasing-literacy",
   "metadata": {
    "deletable": false,
    "editable": false
   },
   "outputs": [
    {
     "name": "stderr",
     "output_type": "stream",
     "text": [
      "[src/lib.rs:122] res = Ok(\n",
      "    42,\n",
      ")\n",
      "[src/lib.rs:125] res = Err(\n",
      "    \"Why am i coding this ?\",\n",
      ")\n"
     ]
    }
   ],
   "source": [
    "let res: Result<usize, &str> = Ok(42); // Je dois preciser les deux types generiques...\n",
    "dbg!(res);\n",
    "\n",
    "let res: Result<usize, &str> = Err(\"Why am i coding this ?\");\n",
    "dbg!(res);"
   ]
  },
  {
   "cell_type": "markdown",
   "id": "satisfactory-integrity",
   "metadata": {
    "deletable": false,
    "editable": false
   },
   "source": [
    "> Ce sont plutôt certaines fonctions de la std, des crates ou du programme principal qui retourneront des Result avec un type d'erreur détermine par le prototype de ces dernières. À part exception que je n'ai jamais croisé, l'on n'a pas a déclarer directement des variables de type Result avec leurs contenus..."
   ]
  },
  {
   "cell_type": "markdown",
   "id": "imposed-bosnia",
   "metadata": {
    "deletable": false,
    "editable": false
   },
   "source": [
    "### Fontion retournant un Result\n",
    "\n",
    "- L'exemple ci-dessous ressemble davantage à un cas d'utilisation commun de Result."
   ]
  },
  {
   "cell_type": "code",
   "execution_count": 19,
   "id": "opposed-composite",
   "metadata": {
    "deletable": false,
    "editable": false
   },
   "outputs": [
    {
     "name": "stderr",
     "output_type": "stream",
     "text": [
      "[src/lib.rs:126] check_if_lower_that_ten(4) = Ok(\n",
      "    (),\n",
      ")\n",
      "[src/lib.rs:127] check_if_lower_that_ten(15) = Err(\n",
      "    \"The value is too big !\",\n",
      ")\n"
     ]
    }
   ],
   "source": [
    "fn check_if_lower_that_ten(v: usize) -> Result<(), &'static str> {\n",
    "    if v < 10 {\n",
    "        Ok(()) // Si tout est OK, on retourne un Tuple vide dans Ok ...\n",
    "    } else {\n",
    "        Err(\"The value is too big !\") // ... sinon retourne une chaine de caractere dans Err\n",
    "    }\n",
    "}\n",
    "dbg!(check_if_lower_that_ten(4));\n",
    "dbg!(check_if_lower_that_ten(15));"
   ]
  },
  {
   "cell_type": "markdown",
   "id": "liberal-habitat",
   "metadata": {
    "deletable": false,
    "editable": false
   },
   "source": [
    "> Ne pas s'inquiéter du lifetime `static` utilise ici, les lifetimes seront abordes bien plus tard. Retenez pour l'instant qu'il est nécessaire à la compilation quand une fonction retourne une chaîne de caractère `&str` !\n",
    "\n",
    "**Ici le type de retour et d'erreur de mon Result est déterminé par la fonction que j'appelle.**"
   ]
  },
  {
   "cell_type": "markdown",
   "id": "increased-bikini",
   "metadata": {
    "deletable": false,
    "editable": false
   },
   "source": [
    "### Avec une fonction de la std"
   ]
  },
  {
   "cell_type": "markdown",
   "id": "announced-profit",
   "metadata": {
    "deletable": false,
    "editable": false
   },
   "source": [
    "- Essayons maintenant de parser des chaînes de caractère qui représentent des nombres entiers. D'après la documentation de Rust, la fonction parse() pour les chaînes de caractère ressemble a ceci :"
   ]
  },
  {
   "cell_type": "markdown",
   "id": "pacific-failure",
   "metadata": {
    "deletable": false,
    "editable": false
   },
   "source": [
    "![PARSE](pictures/parse_result.png)"
   ]
  },
  {
   "cell_type": "markdown",
   "id": "increased-topic",
   "metadata": {
    "deletable": false,
    "editable": false
   },
   "source": [
    "**Explications:**\n",
    "> - Ceci est d'abord la documentation du type primitif chaîne de caractère `str` donc self est une chaîne de caractère.\n",
    "> - `F` **est un type generique**, c'est le type numérique vers lequel je veux parser. Il peut très bien être **u32**.\n",
    "> - Seulement, je ne suis pas libre de prendre le type que je veux pour F, il y a une contrainte de trait exprimée par le `where`, en fait, le type de F DOIT IMPÉRATIVEMENT implémenter le trait `FromStr`, ce trait confère la capacité d'être parsee depuis une chaîne de caractère et il est en effet implémente pour u32.\n",
    "> - Le second générique, le type d'erreur est **le type Err associe a FromStr**\n",
    "\n",
    "**Bien que ce prototype soit plutôt complique à comprendre pour un débutant, il indique que le type d'erreur du Result sera FromStr::Err. Ainsi, lorsque l'on appelle la fonction parse, on me lui donne qu'un seul type, le type de l'erreur étant associe à ce dernier.**"
   ]
  },
  {
   "cell_type": "markdown",
   "id": "retained-queensland",
   "metadata": {
    "deletable": false,
    "editable": false
   },
   "source": [
    "#### **Utilisation d'un TURBOFISH pour donner le type :**\n",
    "\n",
    "- Le turbofish `::<>` est une syntaxe agréable qui permet de donner le type au compilateur. Le **turbofish** se place toujours entre le nom de la fonction qui prend un type générique et les parenthèses et sa syntaxe ressemble à un poisson d'où le nom turbofish !\n",
    "\n",
    "```\n",
    " o\n",
    "o      ______/~/~/~/__           /((\n",
    "  o  // __            ====__    /_((\n",
    "    //  @))       ))))      ===/__((\n",
    "    ))           )))))))        __((\n",
    "    \\\\     \\)     )))     __===\\ _((\n",
    "     \\\\_______________====      \\_((\n",
    "                                 \\((\n",
    "\n",
    "```"
   ]
  },
  {
   "cell_type": "code",
   "execution_count": 20,
   "id": "empirical-belle",
   "metadata": {
    "deletable": false,
    "editable": false
   },
   "outputs": [
    {
     "name": "stderr",
     "output_type": "stream",
     "text": [
      "[src/lib.rs:128] res = Ok(\n",
      "    1637,\n",
      ")\n",
      "[src/lib.rs:133] res = Err(\n",
      "    ParseIntError {\n",
      "        kind: InvalidDigit,\n",
      "    },\n",
      ")\n"
     ]
    }
   ],
   "source": [
    "// On declare une chaine de caractere\n",
    "// Elle ne contient que des chiffres\n",
    "let a = \"1637\";\n",
    "let res = a.parse::<u32>(); // On souhaite un u32.\n",
    "dbg!(res);\n",
    "\n",
    "// Ici, une chaine comppsee de chiffre et de lettre\n",
    "let b = \"16cents trente-sept\";\n",
    "let res = b.parse::<u32>();\n",
    "dbg!(res);"
   ]
  },
  {
   "cell_type": "markdown",
   "id": "portable-genesis",
   "metadata": {
    "deletable": false,
    "editable": false
   },
   "source": [
    "> Le type d'erreur étant un type associé, il n'est pas utile de le renseigner dans le turbofish. Ce sera toujours FromStr::Err."
   ]
  },
  {
   "cell_type": "markdown",
   "id": "caring-avatar",
   "metadata": {
    "deletable": false,
    "editable": false
   },
   "source": [
    "#### **Declaration du type :**\n",
    "\n",
    "- Les programmeurs Rust qui n'aiment pas utiliser le turbofish (et malheureusement, ils sont nombreux.) peuvent a la place donner le type de Result directement dans la déclaration de la variable de retour, le moteur d'inférence se chargera de remplacer T par ce type :"
   ]
  },
  {
   "cell_type": "code",
   "execution_count": 14,
   "id": "ordered-theme",
   "metadata": {
    "deletable": false,
    "editable": false
   },
   "outputs": [
    {
     "name": "stderr",
     "output_type": "stream",
     "text": [
      "[src/lib.rs:124] res = Ok(\n",
      "    1637,\n",
      ")\n",
      "[src/lib.rs:129] res = Err(\n",
      "    ParseIntError {\n",
      "        kind: InvalidDigit,\n",
      "    },\n",
      ")\n"
     ]
    }
   ],
   "source": [
    "// On declare une chaine de caractere\n",
    "// Elle ne contient que des chiffres\n",
    "let a = \"1637\";\n",
    "let res: Result<u32, _> = a.parse();\n",
    "dbg!(res);\n",
    "\n",
    "// Ici, une chaine comppsee de chiffre et de lettre\n",
    "let b = \"16cents trente-sept\";\n",
    "let res: Result<u32, _> = b.parse();\n",
    "dbg!(res);"
   ]
  },
  {
   "cell_type": "markdown",
   "id": "aggressive-strap",
   "metadata": {
    "deletable": false,
    "editable": false
   },
   "source": [
    "> **L'underscore** dans la seconde partie du type demande au compilateur de se charger de l'inférer. Comme c'est un type associé, il n'y aura pas de problème.\n",
    "\n",
    "> Cependant, il aurait pu être défini manuellement. C'est cependant complètement inutile !"
   ]
  },
  {
   "cell_type": "code",
   "execution_count": 21,
   "id": "appreciated-stroke",
   "metadata": {
    "deletable": false,
    "editable": false
   },
   "outputs": [
    {
     "name": "stderr",
     "output_type": "stream",
     "text": [
      "[src/lib.rs:128] res = Ok(\n",
      "    1637,\n",
      ")\n"
     ]
    }
   ],
   "source": [
    "let a = \"1637\";\n",
    "let res: Result<u32, <u32 as std::str::FromStr>::Err> = a.parse();\n",
    "dbg!(res);"
   ]
  },
  {
   "cell_type": "markdown",
   "id": "hindu-breathing",
   "metadata": {
    "deletable": false,
    "editable": false
   },
   "source": [
    "## La gestion des erreurs\n",
    "\n",
    "**Que doit-on faire face à une erreur ? Il existe en Rust grosso modo deux façons de gérer les erreurs :**\n",
    "> - **Paniquer**, le programme s'arrête brutalement, on utilise cela lorsque l'on écrit du code rapidement ou bien lorsque l'on considère que gérer l'erreur ne sert absolument à rien puisque le programme ne peut vraiment plus continuer après une telle erreur.\n",
    "> - **Gerer l'erreur**, on gère proprement l'erreur en expliquant peut être bien ce qui s'est passé, l'on tente de la rattraper si possible ou on quitte calmement le programme."
   ]
  },
  {
   "cell_type": "markdown",
   "id": "overhead-indonesia",
   "metadata": {
    "deletable": false,
    "editable": false
   },
   "source": [
    "### Le panic"
   ]
  },
  {
   "cell_type": "markdown",
   "id": "bored-belgium",
   "metadata": {
    "deletable": false,
    "editable": false
   },
   "source": [
    "- le programme, il cesse brutalement en laissant une trace qui peut nous enseigner ce qui s'est produit :"
   ]
  },
  {
   "cell_type": "code",
   "execution_count": 22,
   "id": "stretch-teacher",
   "metadata": {
    "deletable": false,
    "editable": false
   },
   "outputs": [
    {
     "name": "stderr",
     "output_type": "stream",
     "text": [
      "thread '<unnamed>' panicked at 'called `Result::unwrap()` on an `Err` value: ParseIntError { kind: InvalidDigit }', src/lib.rs:127:31\n",
      "stack backtrace:\n",
      "   0: rust_begin_unwind\n",
      "             at /rustc/8460ca823e8367a30dda430efda790588b8c84d3/library/std/src/panicking.rs:575:5\n",
      "   1: core::panicking::panic_fmt\n",
      "             at /rustc/8460ca823e8367a30dda430efda790588b8c84d3/library/core/src/panicking.rs:64:14\n",
      "   2: core::result::unwrap_failed\n",
      "             at /rustc/8460ca823e8367a30dda430efda790588b8c84d3/library/core/src/result.rs:1790:5\n",
      "   3: <core::panic::unwind_safe::AssertUnwindSafe<F> as core::ops::function::FnOnce<()>>::call_once\n",
      "   4: run_user_code_20\n",
      "   5: evcxr::runtime::Runtime::run_loop\n",
      "   6: evcxr::runtime::runtime_hook\n",
      "   7: evcxr_jupyter::main\n",
      "note: Some details are omitted, run with `RUST_BACKTRACE=full` for a verbose backtrace.\n"
     ]
    }
   ],
   "source": [
    "// Ici, une chaine comppsee de chiffre et de lettre\n",
    "let b = \"16cents trente-sept\";\n",
    "let number = b.parse::<u32>().unwrap();\n",
    "dbg!(number);"
   ]
  },
  {
   "cell_type": "markdown",
   "id": "verified-convenience",
   "metadata": {
    "deletable": false,
    "editable": false
   },
   "source": [
    "- Il existe aussi une méthode nommée **expect()** qui a le même comportement, mais qui permet d'afficher tout de même un message custom sur la sortie d'erreur :\n",
    ">```\n",
    "> pub fn expect(self, msg: &str) -> T\n",
    "> where\n",
    "> E: Debug,\n",
    ">```\n",
    "\n",
    "- Expect permet de paniquer, mais en affichant une chaîne de caractère en plus de la backtrace :"
   ]
  },
  {
   "cell_type": "code",
   "execution_count": 24,
   "id": "outstanding-teach",
   "metadata": {
    "deletable": false,
    "editable": false
   },
   "outputs": [
    {
     "name": "stderr",
     "output_type": "stream",
     "text": [
      "thread '<unnamed>' panicked at 'Conversion is failed !: ParseIntError { kind: InvalidDigit }', src/lib.rs:125:31\n",
      "stack backtrace:\n",
      "   0: rust_begin_unwind\n",
      "             at /rustc/8460ca823e8367a30dda430efda790588b8c84d3/library/std/src/panicking.rs:575:5\n",
      "   1: core::panicking::panic_fmt\n",
      "             at /rustc/8460ca823e8367a30dda430efda790588b8c84d3/library/core/src/panicking.rs:64:14\n",
      "   2: core::result::unwrap_failed\n",
      "             at /rustc/8460ca823e8367a30dda430efda790588b8c84d3/library/core/src/result.rs:1790:5\n",
      "   3: <unknown>\n",
      "   4: <unknown>\n",
      "   5: evcxr::runtime::Runtime::run_loop\n",
      "   6: evcxr::runtime::runtime_hook\n",
      "   7: evcxr_jupyter::main\n",
      "note: Some details are omitted, run with `RUST_BACKTRACE=full` for a verbose backtrace.\n"
     ]
    }
   ],
   "source": [
    "// Ici, une chaine comppsee de chiffre et de lettre\n",
    "let b = \"16cents trente-sept\";\n",
    "let number = b.parse::<u32>().expect(\"Conversion is failed !\");\n",
    "dbg!(number);"
   ]
  },
  {
   "cell_type": "markdown",
   "id": "tight-security",
   "metadata": {
    "deletable": false,
    "editable": false,
    "solution2": "hidden",
    "solution2_first": true
   },
   "source": [
    "Que veut dire ce **where E: Debug** dans le prototype d'expect et d'où vient-il ?"
   ]
  },
  {
   "cell_type": "markdown",
   "id": "trained-travel",
   "metadata": {
    "deletable": false,
    "editable": false,
    "solution2": "hidden"
   },
   "source": [
    "Déjà E fait référence au E de Result :\n",
    "```\n",
    "pub enum Result<T, E> {\n",
    "    Ok(T),\n",
    "    Err(E),\n",
    "}\n",
    "```\n",
    "\n",
    "C'est une contrainte de trait pour le type d'erreur E, il doit impérativement implémenter Debug. Cette implémentation permet a expect d'afficher le variant Err soit **ParseIntError { kind: InvalidDigit }** ici."
   ]
  },
  {
   "cell_type": "markdown",
   "id": "average-timber",
   "metadata": {
    "deletable": false,
    "editable": false
   },
   "source": [
    "### Traiter l'erreur\n",
    "\n",
    "- On peut par exemple dans un match, exécuter une routine spécifique de code en cas d'erreur :"
   ]
  },
  {
   "cell_type": "code",
   "execution_count": 25,
   "id": "rolled-booth",
   "metadata": {
    "deletable": false,
    "editable": false
   },
   "outputs": [
    {
     "name": "stdout",
     "output_type": "stream",
     "text": [
      "Parsed Result is 1637\n",
      "Sorry, but an error has occured: invalid digit found in string\n"
     ]
    }
   ],
   "source": [
    "fn evaluate(s: &str) {\n",
    "    let result = s.parse::<u32>();\n",
    "    match result {\n",
    "        Ok(value) => println!(\"Parsed Result is {}\", value),\n",
    "        Err(error) => println!(\"Sorry, but an error has occured: {}\", error),\n",
    "    }\n",
    "}\n",
    "evaluate(\"1637\");\n",
    "evaluate(\"16cents trente-sept\");"
   ]
  }
 ],
 "metadata": {
  "kernelspec": {
   "display_name": "Rust",
   "language": "rust",
   "name": "rust"
  },
  "language_info": {
   "codemirror_mode": "rust",
   "file_extension": ".rs",
   "mimetype": "text/rust",
   "name": "Rust",
   "pygment_lexer": "rust",
   "version": ""
  },
  "toc": {
   "base_numbering": "2",
   "nav_menu": {},
   "number_sections": true,
   "sideBar": true,
   "skip_h1_title": false,
   "title_cell": "Table of Contents",
   "title_sidebar": "Contents",
   "toc_cell": false,
   "toc_position": {
    "height": "calc(100% - 180px)",
    "left": "10px",
    "top": "150px",
    "width": "268.8px"
   },
   "toc_section_display": true,
   "toc_window_display": false
  }
 },
 "nbformat": 4,
 "nbformat_minor": 5
}
