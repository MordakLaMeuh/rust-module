{
 "cells": [
  {
   "cell_type": "markdown",
   "id": "voluntary-installation",
   "metadata": {
    "deletable": false,
    "editable": false
   },
   "source": [
    "# Les expressions\n",
    "\n",
    "---"
   ]
  },
  {
   "cell_type": "markdown",
   "id": "employed-kitty",
   "metadata": {
    "deletable": false,
    "editable": false
   },
   "source": [
    "> Nous avons déjà croise lors du chapitre sur les fonctions qu'il y avait deux moyens de retourner un résultat :\n",
    "> - Le mot clef **return**.\n",
    "> - **L'ommision volontaire du point-virgule sur la dernière ligne**."
   ]
  },
  {
   "cell_type": "code",
   "execution_count": 2,
   "id": "clear-spring",
   "metadata": {
    "deletable": false,
    "editable": false
   },
   "outputs": [],
   "source": [
    "fn ma_function() -> usize {\n",
    "   return 42; \n",
    "}\n",
    "fn ma_function() -> usize {\n",
    "    42\n",
    "}"
   ]
  },
  {
   "cell_type": "markdown",
   "id": "foster-munich",
   "metadata": {
    "deletable": false,
    "editable": false
   },
   "source": [
    "> **L'absence du point-virgule signifie retourner le résultat d'une expression.**"
   ]
  },
  {
   "cell_type": "markdown",
   "id": "blank-commodity",
   "metadata": {
    "deletable": false,
    "editable": false
   },
   "source": [
    "## Initialisation conditionnelle d'une variable\n",
    "\n",
    "- Il est tout à fait possible en Rust d'utiliser une condition lors de l'initialisation d'une variable :"
   ]
  },
  {
   "cell_type": "code",
   "execution_count": 14,
   "id": "descending-technique",
   "metadata": {
    "deletable": false,
    "editable": false
   },
   "outputs": [
    {
     "name": "stderr",
     "output_type": "stream",
     "text": [
      "[src/lib.rs:9] i = true\n",
      "[src/lib.rs:12] i = true\n"
     ]
    },
    {
     "data": {
      "text/plain": [
       "()"
      ]
     },
     "execution_count": 14,
     "metadata": {},
     "output_type": "execute_result"
    }
   ],
   "source": [
    "fn mon_test() {\n",
    "    let j: usize = 8;\n",
    "    let i = if j < 10 {\n",
    "        true                // Pas de point virgule (expression)\n",
    "    } else {\n",
    "        false               // Pas de point virgule (expression)\n",
    "    }; // Point virgule (instruction / assignation de variable)\n",
    "    dbg!(i);\n",
    "    let i = j < 10; // Forme concise (ne fonctionne que si l'on veut un boolean pour i)\n",
    "    dbg!(i);\n",
    "}\n",
    "mon_test()"
   ]
  },
  {
   "cell_type": "markdown",
   "id": "careful-spray",
   "metadata": {
    "deletable": false,
    "editable": false
   },
   "source": [
    "- Mais ce même code ne fonctionnerait pas si à la place, nous avions utilisé le mot-clef return :"
   ]
  },
  {
   "cell_type": "code",
   "execution_count": 11,
   "id": "promising-leeds",
   "metadata": {
    "deletable": false,
    "editable": false
   },
   "outputs": [
    {
     "ename": "Error",
     "evalue": "mismatched types",
     "output_type": "error",
     "traceback": [
      "\u001b[31m[E0308] Error:\u001b[0m mismatched types",
      "   \u001b[38;5;246m╭\u001b[0m\u001b[38;5;246m─\u001b[0m\u001b[38;5;246m[\u001b[0mcommand_11:1:1\u001b[38;5;246m]\u001b[0m",
      "   \u001b[38;5;246m│\u001b[0m",
      " \u001b[38;5;246m4 │\u001b[0m \u001b[38;5;249m \u001b[0m\u001b[38;5;249m \u001b[0m\u001b[38;5;249m \u001b[0m\u001b[38;5;249m \u001b[0m\u001b[38;5;249m \u001b[0m\u001b[38;5;249m \u001b[0m\u001b[38;5;249m \u001b[0m\u001b[38;5;249m \u001b[0m\u001b[38;5;249mr\u001b[0m\u001b[38;5;249me\u001b[0m\u001b[38;5;249mt\u001b[0m\u001b[38;5;249mu\u001b[0m\u001b[38;5;249mr\u001b[0m\u001b[38;5;249mn\u001b[0m\u001b[38;5;249m \u001b[0m\u001b[38;5;54mt\u001b[0m\u001b[38;5;54mr\u001b[0m\u001b[38;5;54mu\u001b[0m\u001b[38;5;54me\u001b[0m\u001b[38;5;249m;\u001b[0m",
      " \u001b[38;5;246m  ·\u001b[0m                \u001b[38;5;54m─\u001b[0m\u001b[38;5;54m─\u001b[0m\u001b[38;5;54m┬\u001b[0m\u001b[38;5;54m─\u001b[0m  ",
      " \u001b[38;5;246m  ·\u001b[0m                  \u001b[38;5;54m╰\u001b[0m\u001b[38;5;54m─\u001b[0m\u001b[38;5;54m─\u001b[0m\u001b[38;5;54m─\u001b[0m expected `()`, found `bool`",
      "\u001b[38;5;246m───╯\u001b[0m"
     ]
    },
    {
     "ename": "Error",
     "evalue": "unreachable statement",
     "output_type": "error",
     "traceback": [
      "\u001b[31m[unreachable_code] Error:\u001b[0m unreachable statement"
     ]
    }
   ],
   "source": [
    "fn mon_test() {\n",
    "    let j: usize = 8;\n",
    "    let i = if j < 10 {\n",
    "        return true;\n",
    "    } else {\n",
    "        return false;\n",
    "    };\n",
    "    dbg!(i);\n",
    "}"
   ]
  },
  {
   "cell_type": "markdown",
   "id": "impressed-mineral",
   "metadata": {
    "deletable": false,
    "editable": false
   },
   "source": [
    "> En effet, le sens de return est de retourner de la fonction avec un type de resultat, or ici, ce n'est pas ce que nous désirions lors de l'initialisation de la variable i."
   ]
  },
  {
   "cell_type": "markdown",
   "id": "copyrighted-winter",
   "metadata": {
    "deletable": false,
    "editable": false
   },
   "source": [
    "## Utilisation du pattern matching et expressions\n",
    "\n",
    "- Un match peut aussi constituer une expression, qu'on le trouve dans une fonction ou bien lors d'une initialisation d'une variable. L'important, c'est que tous les résultats possibles soient exactement du même type :"
   ]
  },
  {
   "cell_type": "code",
   "execution_count": 18,
   "id": "based-credits",
   "metadata": {
    "deletable": false,
    "editable": false
   },
   "outputs": [
    {
     "name": "stdout",
     "output_type": "stream",
     "text": [
      "nombre de calories: 300\n"
     ]
    },
    {
     "data": {
      "text/plain": [
       "()"
      ]
     },
     "execution_count": 18,
     "metadata": {},
     "output_type": "execute_result"
    }
   ],
   "source": [
    "{\n",
    "    let fruit = \"fraise\";\n",
    "    let calories: usize = match fruit { // Le match retourne ici un usize\n",
    "        \"banane\" => 100,\n",
    "        \"poire\" => 150,\n",
    "        \"fraise\" => 300,\n",
    "        _ => 0,\n",
    "    }; // A l'exterieur de l'expression du match, pour l'assignation de la variable, il faut le point virgule.\n",
    "    println!(\"nombre de calories: {}\", calories);\n",
    "}"
   ]
  },
  {
   "cell_type": "code",
   "execution_count": 20,
   "id": "whole-timothy",
   "metadata": {
    "deletable": false,
    "editable": false
   },
   "outputs": [
    {
     "name": "stdout",
     "output_type": "stream",
     "text": [
      "nombre de calories: 150\n"
     ]
    },
    {
     "data": {
      "text/plain": [
       "()"
      ]
     },
     "execution_count": 20,
     "metadata": {},
     "output_type": "execute_result"
    }
   ],
   "source": [
    "{\n",
    "    fn get_calories(fruit: &str) -> usize { // Le match retourne ici un usize\n",
    "        match fruit {\n",
    "            \"banane\" => 100,\n",
    "            \"poire\" => 150,\n",
    "            \"fraise\" => 300,\n",
    "            _ => 0,\n",
    "        } // Pas de point virgule ici non plus puisque l'on veut retourner le resultat du match\n",
    "    }\n",
    "    println!(\"nombre de calories: {}\", get_calories(\"poire\"));\n",
    "}"
   ]
  },
  {
   "cell_type": "markdown",
   "id": "timely-invalid",
   "metadata": {
    "deletable": false,
    "editable": false
   },
   "source": [
    "- Dans l'exemple suivant, je choisis de ne rien retourner si je suis dans le cas de défaut du match. Pour ne rien retourner, il suffit que la dernière ligne soit terminée par un point-virgule. Rust considérera quant à lui que je retourne un tuple vide plutôt que rien du tout. Un tuple vide, c'est rien, c'est l'absence de type :"
   ]
  },
  {
   "cell_type": "code",
   "execution_count": 2,
   "id": "alike-strength",
   "metadata": {
    "deletable": false,
    "editable": false
   },
   "outputs": [
    {
     "ename": "Error",
     "evalue": "mismatched types",
     "output_type": "error",
     "traceback": [
      "\u001b[31m[E0308] Error:\u001b[0m mismatched types",
      "   \u001b[38;5;246m╭\u001b[0m\u001b[38;5;246m─\u001b[0m\u001b[38;5;246m[\u001b[0mcommand_2:1:1\u001b[38;5;246m]\u001b[0m",
      "   \u001b[38;5;246m│\u001b[0m",
      " \u001b[38;5;246m6 │\u001b[0m \u001b[38;5;54m╭\u001b[0m\u001b[38;5;54m─\u001b[0m\u001b[38;5;54m▶\u001b[0m\u001b[38;5;54m \u001b[0m\u001b[38;5;249m \u001b[0m\u001b[38;5;249m \u001b[0m\u001b[38;5;249m \u001b[0m\u001b[38;5;249m \u001b[0m\u001b[38;5;249m \u001b[0m\u001b[38;5;249m \u001b[0m\u001b[38;5;249m \u001b[0m\u001b[38;5;249m \u001b[0m\u001b[38;5;249m \u001b[0m\u001b[38;5;249m \u001b[0m\u001b[38;5;249m \u001b[0m\u001b[38;5;249m \u001b[0m\u001b[38;5;249m_\u001b[0m\u001b[38;5;249m \u001b[0m\u001b[38;5;249m=\u001b[0m\u001b[38;5;249m>\u001b[0m\u001b[38;5;249m \u001b[0m\u001b[38;5;54m{\u001b[0m",
      " \u001b[38;5;246m  ⋮\u001b[0m \u001b[38;5;54m⋮\u001b[0m   ",
      " \u001b[38;5;246m8 │\u001b[0m \u001b[38;5;54m├\u001b[0m\u001b[38;5;54m─\u001b[0m\u001b[38;5;54m▶\u001b[0m\u001b[38;5;54m \u001b[0m\u001b[38;5;54m \u001b[0m\u001b[38;5;54m \u001b[0m\u001b[38;5;54m \u001b[0m\u001b[38;5;54m \u001b[0m\u001b[38;5;54m \u001b[0m\u001b[38;5;54m \u001b[0m\u001b[38;5;54m \u001b[0m\u001b[38;5;54m \u001b[0m\u001b[38;5;54m \u001b[0m\u001b[38;5;54m \u001b[0m\u001b[38;5;54m \u001b[0m\u001b[38;5;54m \u001b[0m\u001b[38;5;54m}\u001b[0m",
      " \u001b[38;5;246m  ·\u001b[0m \u001b[38;5;54m│\u001b[0m                   ",
      " \u001b[38;5;246m  ·\u001b[0m \u001b[38;5;54m╰\u001b[0m\u001b[38;5;54m─\u001b[0m\u001b[38;5;54m─\u001b[0m\u001b[38;5;54m─\u001b[0m\u001b[38;5;54m─\u001b[0m\u001b[38;5;54m─\u001b[0m\u001b[38;5;54m─\u001b[0m\u001b[38;5;54m─\u001b[0m\u001b[38;5;54m─\u001b[0m\u001b[38;5;54m─\u001b[0m\u001b[38;5;54m─\u001b[0m\u001b[38;5;54m─\u001b[0m\u001b[38;5;54m─\u001b[0m\u001b[38;5;54m─\u001b[0m\u001b[38;5;54m─\u001b[0m\u001b[38;5;54m─\u001b[0m\u001b[38;5;54m─\u001b[0m\u001b[38;5;54m─\u001b[0m\u001b[38;5;54m─\u001b[0m\u001b[38;5;54m─\u001b[0m expected `usize`, found `()`",
      "\u001b[38;5;246m───╯\u001b[0m"
     ]
    }
   ],
   "source": [
    "    fn get_calories(fruit: &str) -> usize { // Le match retourne ici un usize\n",
    "        match fruit {\n",
    "            \"banane\" => 100,\n",
    "            \"poire\" => 150,\n",
    "            \"fraise\" => 300,\n",
    "            _ => {\n",
    "                println!(\"je ne veux rien retourner\");\n",
    "            }\n",
    "        }  \n",
    "    }\n",
    "    println!(\"nombre de calories: {}\", get_calories(\"poire\"));"
   ]
  },
  {
   "cell_type": "markdown",
   "id": "threatened-speech",
   "metadata": {
    "deletable": false,
    "editable": false
   },
   "source": [
    "> Ce code ne peut pas être compilé puisque je retourne un usize dans les trois premiers cas du match et un autre type, ici () dans le dernier du défaut !"
   ]
  },
  {
   "cell_type": "markdown",
   "id": "arbitrary-gossip",
   "metadata": {
    "deletable": false,
    "editable": false
   },
   "source": [
    "- Autre chose, le compilateur ne comprendrait pas s'il manque un point-virgule à une instruction au milieu d'un bloc de code. La ligne sans point-virgule doit vraiment être à la toute fin du bloc :"
   ]
  },
  {
   "cell_type": "code",
   "execution_count": 24,
   "id": "paperback-vinyl",
   "metadata": {
    "deletable": false,
    "editable": false
   },
   "outputs": [
    {
     "ename": "Error",
     "evalue": "expected `;`, found `println`",
     "output_type": "error",
     "traceback": [
      "\u001b[31mError:\u001b[0m expected `;`, found `println`",
      "   \u001b[38;5;246m╭\u001b[0m\u001b[38;5;246m─\u001b[0m\u001b[38;5;246m[\u001b[0mcommand_24:1:1\u001b[38;5;246m]\u001b[0m",
      "   \u001b[38;5;246m│\u001b[0m",
      " \u001b[38;5;246m8 │\u001b[0m \u001b[38;5;249m \u001b[0m\u001b[38;5;249m \u001b[0m\u001b[38;5;249m \u001b[0m\u001b[38;5;249m \u001b[0m\u001b[38;5;249m \u001b[0m\u001b[38;5;249m \u001b[0m\u001b[38;5;249m \u001b[0m\u001b[38;5;249m \u001b[0m\u001b[38;5;249m \u001b[0m\u001b[38;5;249m \u001b[0m\u001b[38;5;249m \u001b[0m\u001b[38;5;249m \u001b[0m\u001b[38;5;249m \u001b[0m\u001b[38;5;249m \u001b[0m\u001b[38;5;249m \u001b[0m\u001b[38;5;249m \u001b[0m\u001b[38;5;249m0\u001b[0m\u001b[38;5;249m \u001b[0m\u001b[38;5;249m \u001b[0m\u001b[38;5;249m \u001b[0m\u001b[38;5;249m \u001b[0m\u001b[38;5;249m \u001b[0m\u001b[38;5;249m \u001b[0m\u001b[38;5;249m \u001b[0m\u001b[38;5;249m \u001b[0m\u001b[38;5;249m \u001b[0m\u001b[38;5;249m \u001b[0m\u001b[38;5;249m \u001b[0m\u001b[38;5;249m \u001b[0m\u001b[38;5;249m \u001b[0m\u001b[38;5;249m \u001b[0m\u001b[38;5;249m \u001b[0m\u001b[38;5;249m \u001b[0m\u001b[38;5;249m \u001b[0m\u001b[38;5;249m \u001b[0m\u001b[38;5;249m \u001b[0m\u001b[38;5;249m \u001b[0m\u001b[38;5;249m \u001b[0m\u001b[38;5;249m \u001b[0m\u001b[38;5;249m \u001b[0m\u001b[38;5;249m \u001b[0m\u001b[38;5;249m \u001b[0m\u001b[38;5;249m \u001b[0m\u001b[38;5;249m \u001b[0m\u001b[38;5;249m \u001b[0m\u001b[38;5;249m/\u001b[0m\u001b[38;5;249m/\u001b[0m\u001b[38;5;249m \u001b[0m\u001b[38;5;249mI\u001b[0m\u001b[38;5;249ml\u001b[0m\u001b[38;5;249m \u001b[0m\u001b[38;5;249mm\u001b[0m\u001b[38;5;249ma\u001b[0m\u001b[38;5;249mn\u001b[0m\u001b[38;5;249mq\u001b[0m\u001b[38;5;249mu\u001b[0m\u001b[38;5;249me\u001b[0m\u001b[38;5;249m \u001b[0m\u001b[38;5;249ml\u001b[0m\u001b[38;5;249me\u001b[0m\u001b[38;5;249m \u001b[0m\u001b[38;5;249mp\u001b[0m\u001b[38;5;249mo\u001b[0m\u001b[38;5;249mi\u001b[0m\u001b[38;5;249mn\u001b[0m\u001b[38;5;249mt\u001b[0m\u001b[38;5;249m \u001b[0m\u001b[38;5;249mv\u001b[0m\u001b[38;5;249mi\u001b[0m\u001b[38;5;249mr\u001b[0m\u001b[38;5;249mg\u001b[0m\u001b[38;5;249mu\u001b[0m\u001b[38;5;249ml\u001b[0m\u001b[38;5;249me\u001b[0m\u001b[38;5;249m \u001b[0m\u001b[38;5;249mi\u001b[0m\u001b[38;5;249mc\u001b[0m\u001b[38;5;249mi\u001b[0m",
      " \u001b[38;5;246m  ·\u001b[0m                  \u001b[38;5;100m│\u001b[0m ",
      " \u001b[38;5;246m  ·\u001b[0m                  \u001b[38;5;100m╰\u001b[0m\u001b[38;5;100m─\u001b[0m error: expected `;`, found `println`",
      " \u001b[38;5;246m  ·\u001b[0m                  \u001b[38;5;68m│\u001b[0m ",
      " \u001b[38;5;246m  ·\u001b[0m                  \u001b[38;5;68m╰\u001b[0m\u001b[38;5;68m─\u001b[0m help: add `;` here: `;`",
      " \u001b[38;5;246m9 │\u001b[0m \u001b[38;5;249m \u001b[0m\u001b[38;5;249m \u001b[0m\u001b[38;5;249m \u001b[0m\u001b[38;5;249m \u001b[0m\u001b[38;5;249m \u001b[0m\u001b[38;5;249m \u001b[0m\u001b[38;5;249m \u001b[0m\u001b[38;5;249m \u001b[0m\u001b[38;5;249m \u001b[0m\u001b[38;5;249m \u001b[0m\u001b[38;5;249m \u001b[0m\u001b[38;5;249m \u001b[0m\u001b[38;5;249m \u001b[0m\u001b[38;5;249m \u001b[0m\u001b[38;5;249m \u001b[0m\u001b[38;5;249m \u001b[0m\u001b[38;5;54mp\u001b[0m\u001b[38;5;54mr\u001b[0m\u001b[38;5;54mi\u001b[0m\u001b[38;5;54mn\u001b[0m\u001b[38;5;54mt\u001b[0m\u001b[38;5;54ml\u001b[0m\u001b[38;5;54mn\u001b[0m\u001b[38;5;249m!\u001b[0m\u001b[38;5;249m(\u001b[0m\u001b[38;5;249m\"\u001b[0m\u001b[38;5;249mq\u001b[0m\u001b[38;5;249mu\u001b[0m\u001b[38;5;249me\u001b[0m\u001b[38;5;249ml\u001b[0m\u001b[38;5;249mq\u001b[0m\u001b[38;5;249mu\u001b[0m\u001b[38;5;249me\u001b[0m\u001b[38;5;249m \u001b[0m\u001b[38;5;249mc\u001b[0m\u001b[38;5;249mh\u001b[0m\u001b[38;5;249mo\u001b[0m\u001b[38;5;249ms\u001b[0m\u001b[38;5;249me\u001b[0m\u001b[38;5;249m \u001b[0m\u001b[38;5;249md\u001b[0m\u001b[38;5;249me\u001b[0m\u001b[38;5;249m \u001b[0m\u001b[38;5;249md\u001b[0m\u001b[38;5;249mi\u001b[0m\u001b[38;5;249mf\u001b[0m\u001b[38;5;249mf\u001b[0m\u001b[38;5;249me\u001b[0m\u001b[38;5;249mr\u001b[0m\u001b[38;5;249me\u001b[0m\u001b[38;5;249mn\u001b[0m\u001b[38;5;249mt\u001b[0m\u001b[38;5;249m\"\u001b[0m\u001b[38;5;249m)\u001b[0m\u001b[38;5;249m;\u001b[0m",
      " \u001b[38;5;246m  ·\u001b[0m                 \u001b[38;5;54m─\u001b[0m\u001b[38;5;54m─\u001b[0m\u001b[38;5;54m─\u001b[0m\u001b[38;5;54m┬\u001b[0m\u001b[38;5;54m─\u001b[0m\u001b[38;5;54m─\u001b[0m\u001b[38;5;54m─\u001b[0m  ",
      " \u001b[38;5;246m  ·\u001b[0m                    \u001b[38;5;54m╰\u001b[0m\u001b[38;5;54m─\u001b[0m\u001b[38;5;54m─\u001b[0m\u001b[38;5;54m─\u001b[0m\u001b[38;5;54m─\u001b[0m\u001b[38;5;54m─\u001b[0m unexpected token",
      "\u001b[38;5;246m───╯\u001b[0m"
     ]
    }
   ],
   "source": [
    "    fn get_calories(fruit: &str) -> usize { // Le match retourne ici un usize\n",
    "        match fruit {\n",
    "            \"banane\" => 100,\n",
    "            \"poire\" => 150,\n",
    "            \"fraise\" => 300,\n",
    "            _ => {\n",
    "                println!(\"je vais tenter de retourner quelque chose\");\n",
    "                0                            // Il manque le point virgule ici\n",
    "                println!(\"quelque chose de different\");\n",
    "                0\n",
    "            }\n",
    "        }  \n",
    "    }\n",
    "    println!(\"nombre de calories: {}\", get_calories(\"poire\"));"
   ]
  },
  {
   "cell_type": "markdown",
   "id": "related-cameroon",
   "metadata": {
    "deletable": false,
    "editable": false
   },
   "source": [
    "## L'expression du bloc"
   ]
  },
  {
   "cell_type": "markdown",
   "id": "national-block",
   "metadata": {
    "deletable": false,
    "editable": false
   },
   "source": [
    "- Chaque bloc de code peut être considéré comme une expression et retourner quelque chose :"
   ]
  },
  {
   "cell_type": "code",
   "execution_count": 26,
   "id": "genuine-laser",
   "metadata": {
    "deletable": false,
    "editable": false
   },
   "outputs": [
    {
     "name": "stderr",
     "output_type": "stream",
     "text": [
      "[src/lib.rs:129] i = 43\n"
     ]
    },
    {
     "name": "stdout",
     "output_type": "stream",
     "text": [
      "Oui, ceci est un bloc\n",
      "Je suis toujours dans le bloc\n",
      "Bon, je retourne la variable a\n"
     ]
    }
   ],
   "source": [
    "let i = {\n",
    "    println!(\"Oui, ceci est un bloc\");\n",
    "    let mut a: usize = 42;\n",
    "    a += 1;\n",
    "    println!(\"Je suis toujours dans le bloc\");\n",
    "    println!(\"Bon, je retourne la variable a\");\n",
    "    a // je retourne la variable locale a ici\n",
    "};\n",
    "dbg!(i);"
   ]
  },
  {
   "cell_type": "markdown",
   "id": "established-sigma",
   "metadata": {
    "deletable": false,
    "editable": false
   },
   "source": [
    "> **NB** Il suffit que la dernière ligne de ce bloc ne contienne pas de point-virgule à la fin."
   ]
  },
  {
   "cell_type": "markdown",
   "id": "novel-stamp",
   "metadata": {
    "deletable": false,
    "editable": false
   },
   "source": [
    "## Exercices"
   ]
  },
  {
   "cell_type": "markdown",
   "id": "removable-geometry",
   "metadata": {
    "deletable": false,
    "editable": false
   },
   "source": [
    "### Corriger ce bout de code :"
   ]
  },
  {
   "cell_type": "code",
   "execution_count": 3,
   "id": "major-group",
   "metadata": {
    "deletable": false,
    "editable": false,
    "solution2": "hidden",
    "solution2_first": true
   },
   "outputs": [
    {
     "name": "stdout",
     "output_type": "stream",
     "text": [
      "Choosen animal: ()\n"
     ]
    },
    {
     "data": {
      "text/plain": [
       "()"
      ]
     },
     "execution_count": 3,
     "metadata": {},
     "output_type": "execute_result"
    }
   ],
   "source": [
    "{\n",
    "    fn get_favourite_animal(n: usize) {\n",
    "        match n {\n",
    "            1 | 2 | 3 => \"You need a pig\",\n",
    "            4 | 5 | 6 => \"An elephant\",\n",
    "            7..=9 => \"A cow\",\n",
    "            _ => \"Choose between 0 to 8\",\n",
    "        };\n",
    "    }\n",
    "    let my_favourite_number = 2;\n",
    "    println!(\"Choosen animal: {:?}\", get_favourite_animal(my_favourite_number));\n",
    "}"
   ]
  },
  {
   "cell_type": "markdown",
   "id": "abroad-score",
   "metadata": {
    "deletable": false,
    "editable": false,
    "solution2": "hidden"
   },
   "source": [
    "> Ici, il faut d'abord enlever le point-virgule à la fin du bloc du match et ensuite modifier le type de retour de la fonction get_favourite_animal. Mais le compilateur retournera une erreur :\n",
    "```\n",
    "[E0308] Error: mismatched types\n",
    "   ╭─[command_38:1:1]\n",
    "   │\n",
    " 2 │         fn get_favourite_animal(n: usize) {\n",
    "   ·                                           │ \n",
    "   ·                                           ╰─ help: try adding a return type: `-> &str `\n",
    " 3 │ ╭─▶         match n {\n",
    "   ⋮ ⋮   \n",
    " 8 │ ├─▶         }\n",
    "   · │            │  \n",
    "   · ╰─────────────── expected `()`, found `&str`\n",
    "   ·              │  \n",
    "   ·              ╰── help: consider using a semicolon here: `;`\n",
    "───╯\n",
    "\n",
    "\n",
    "```\n",
    "> Si on applique la correction du compilateur en écrivant ...\n",
    "```\n",
    "    fn get_favourite_animal(n: usize) -> &str {\n",
    "    \n",
    "```\n",
    "> ... le compilateur retournera une autre erreur :\n",
    "```\n",
    "[E0106] Error: missing lifetime specifier\n",
    "   ╭─[command_37:1:1]\n",
    "   │\n",
    " 2 │     fn get_favourite_animal(n: usize) -> &str {\n",
    "   ·                                          ┬│ \n",
    "   ·                                          ╰── expected named lifetime parameter\n",
    "   ·                                           │ \n",
    "   ·                                           ╰─ help: consider using the `'static` lifetime: `'static `\n",
    "───╯\n",
    "```\n",
    "> Bien que pour l'instant, vous ignorez tout du lifetime '`static`, le compilateur à travers son message d'erreur nous indique la nécessité de la placer. Ainsi, le prototype final de la fonction sera :\n",
    "```\n",
    "fn get_favourite_animal(n: usize) -> &'static str {\n",
    "```\n",
    "> **NB** Il suffit bien souvent à bien lire les messages d'erreur et d'appliquer ce que nous dit le compilateur. !"
   ]
  }
 ],
 "metadata": {
  "kernelspec": {
   "display_name": "Rust",
   "language": "rust",
   "name": "rust"
  },
  "language_info": {
   "codemirror_mode": "rust",
   "file_extension": ".rs",
   "mimetype": "text/rust",
   "name": "Rust",
   "pygment_lexer": "rust",
   "version": ""
  },
  "toc": {
   "base_numbering": 1,
   "nav_menu": {},
   "number_sections": true,
   "sideBar": true,
   "skip_h1_title": false,
   "title_cell": "Table of Contents",
   "title_sidebar": "Contents",
   "toc_cell": false,
   "toc_position": {},
   "toc_section_display": true,
   "toc_window_display": false
  }
 },
 "nbformat": 4,
 "nbformat_minor": 5
}
