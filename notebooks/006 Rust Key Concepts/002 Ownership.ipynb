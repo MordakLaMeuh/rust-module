{
 "cells": [
  {
   "cell_type": "markdown",
   "id": "native-teaching",
   "metadata": {
    "deletable": false,
    "editable": false
   },
   "source": [
    "# La Possession\n",
    "\n",
    "---\n",
    "\n",
    "> L'ownership ou la possession en français est un concept du langage de programmation Rust qui définit à qui appartient telle ou telle variable, ou dans quel bloc elle existe ou n'existe plus."
   ]
  },
  {
   "cell_type": "markdown",
   "id": "threatened-dallas",
   "metadata": {
    "deletable": false,
    "editable": false
   },
   "source": [
    "## Le transfert de possession et la copie"
   ]
  },
  {
   "cell_type": "markdown",
   "id": "burning-cursor",
   "metadata": {
    "deletable": false,
    "editable": false
   },
   "source": [
    "### Transfert de possession ou move"
   ]
  },
  {
   "cell_type": "markdown",
   "id": "announced-digest",
   "metadata": {
    "deletable": false,
    "editable": false
   },
   "source": [
    "- Voici un exemple illustrant le transfert de possession à une fonction :"
   ]
  },
  {
   "cell_type": "code",
   "execution_count": 30,
   "id": "based-avatar",
   "metadata": {
    "deletable": false,
    "editable": false
   },
   "outputs": [
    {
     "name": "stderr",
     "output_type": "stream",
     "text": [
      "[src/lib.rs:10] p.i = 0\n",
      "[src/lib.rs:11] p.j = 0\n",
      "[src/lib.rs:42] p = Point {\n",
      "    i: 0,\n",
      "    j: 0,\n",
      "}\n"
     ]
    },
    {
     "data": {
      "text/plain": [
       "()"
      ]
     },
     "execution_count": 30,
     "metadata": {},
     "output_type": "execute_result"
    }
   ],
   "source": [
    "#[derive(Debug, Default)] // La structure n'est pas Copy !\n",
    "struct Point {\n",
    "    i: usize,\n",
    "    j: usize,\n",
    "}\n",
    "\n",
    "fn debug_point(p: Point) {\n",
    "    dbg!(p);\n",
    "}\n",
    "\n",
    "fn exemple() {\n",
    "    let p: Point = Point::default();\n",
    "    dbg!(p.i);\n",
    "    dbg!(p.j);\n",
    "    // Ici la variable p appartient toujours au bloc ...\n",
    "    debug_point(p); // Transfert de l'ownership de la variable p a la fonction debug_point.\n",
    "    // dbg!(p.i); // La variable p n'existe plus ici ! \n",
    "}\n",
    "exemple()"
   ]
  },
  {
   "cell_type": "markdown",
   "id": "available-winner",
   "metadata": {
    "deletable": false,
    "editable": false
   },
   "source": [
    "> Pour que la variable de type X soit transférée (ou moved) à la fonction, le type de doit pas implémenter le trait Copy. L'implémentation du trait Copy aurait pour effet que seulement une copie de la variable est passée a la fonction tandis que le bloc appelant garderait la possession de l'original."
   ]
  },
  {
   "cell_type": "markdown",
   "id": "utility-international",
   "metadata": {
    "deletable": false,
    "editable": false
   },
   "source": [
    "### Les types implicitement copiés"
   ]
  },
  {
   "cell_type": "markdown",
   "id": "occupational-malaysia",
   "metadata": {
    "deletable": false,
    "editable": false
   },
   "source": [
    "- Tous les types numériques présentés au début de ce cours implémentent le trait Copy (dont usize donc) :"
   ]
  },
  {
   "cell_type": "code",
   "execution_count": 16,
   "id": "allied-gilbert",
   "metadata": {
    "deletable": false,
    "editable": false
   },
   "outputs": [
    {
     "name": "stderr",
     "output_type": "stream",
     "text": [
      "[src/lib.rs:10] i = 42\n",
      "[src/lib.rs:32] i = 42\n",
      "[src/lib.rs:13] i = 42\n"
     ]
    },
    {
     "data": {
      "text/plain": [
       "()"
      ]
     },
     "execution_count": 16,
     "metadata": {},
     "output_type": "execute_result"
    }
   ],
   "source": [
    "fn debug_usize(i: usize) {\n",
    "    dbg!(i);\n",
    "}\n",
    "\n",
    "fn exemple() {\n",
    "    let i: usize = 42;\n",
    "    dbg!(i);\n",
    "    // Ici la variable i appartient toujours au bloc ...\n",
    "    debug_usize(i); // Une copie de i est passee a la fonction debug_usize\n",
    "    dbg!(i); // La variable i existe toujours ici !\n",
    "}\n",
    "exemple()"
   ]
  },
  {
   "cell_type": "markdown",
   "id": "three-business",
   "metadata": {
    "deletable": false,
    "editable": false
   },
   "source": [
    "> Si j'implémentais le trait Copy pour une structure ou une énumération (via Derive par exemple), elle serait aussi implicitement copiée.\n",
    "\n",
    "**NB : POUR LES TYPES QUI NE SONT PAS COPY, LE TRANSFERT DE POSSESSION NE PEUT SE FAIRE QUE VIA LES FONCTIONS, LES MÉTHODES ET LES CLOSURES (DANS LE CAS D'UTILISATION DU MOT-CLEF MOVE)**"
   ]
  },
  {
   "cell_type": "markdown",
   "id": "suspected-purse",
   "metadata": {
    "deletable": false,
    "editable": false
   },
   "source": [
    "## Reprendre la possession\n",
    "\n",
    "> Il existe deux moyens de garder ou de reprendre la possession d'une variable qui a été transférée :\n",
    "> - L'emprunt d'une référence (borrowing).\n",
    "> - Le retour de la fonction.\n",
    "\n",
    "- Nous traiterons longuement de la première solution, qui fonctionne avec les références, un peu plus tard dans ce cours, alors voyons la seconde solution :"
   ]
  },
  {
   "cell_type": "code",
   "execution_count": 23,
   "id": "standing-dublin",
   "metadata": {
    "deletable": false,
    "editable": false
   },
   "outputs": [
    {
     "name": "stderr",
     "output_type": "stream",
     "text": [
      "[src/lib.rs:10] p.i = 0\n",
      "[src/lib.rs:36] p.i = 0\n",
      "[src/lib.rs:13] p.i = 0\n"
     ]
    },
    {
     "data": {
      "text/plain": [
       "()"
      ]
     },
     "execution_count": 23,
     "metadata": {},
     "output_type": "execute_result"
    }
   ],
   "source": [
    "#[derive(Debug, Default)] // La structure n'est pas Copy !\n",
    "struct Point {\n",
    "    i: usize,\n",
    "    j: usize,\n",
    "}\n",
    "\n",
    "fn debug_point(p: Point) -> Point {\n",
    "    dbg!(p.i);\n",
    "    Point {\n",
    "        i: p.i,\n",
    "        j: p.j,\n",
    "    }\n",
    "}\n",
    "\n",
    "fn exemple() {\n",
    "    let p: Point = Point::default();\n",
    "    dbg!(p.i);\n",
    "    // Ici la variable p appartient toujours au bloc ...\n",
    "    let p = debug_point(p); // Ce n'est plus tout a fait le meme p, mais la copie de la copie.\n",
    "    dbg!(p.i); // On peut acceder a ce nouveau p\n",
    "}\n",
    "exemple()"
   ]
  },
  {
   "cell_type": "markdown",
   "id": "manufactured-fantasy",
   "metadata": {
    "deletable": false,
    "editable": false
   },
   "source": [
    "> Cette solution n'est pas l'idéal en termes d'utilisation de la pile, mais elle a ses adeptes, et au moins, elle a le mérite de fonctionner. Seulement, on aurait aimé avoir la garantie que la variable retournée contienne des données identiques à l'original, or, cette solution ne peut la garantir puisque la variable de type Point retournée est nouvelle ! On aurait très bien pu écrire cela dans la fonction :\n",
    "```\n",
    "fn debug_point(p: Point) -> Point {\n",
    "    dbg!(p.i);\n",
    "    Point {\n",
    "        i: p.i + 3,\n",
    "        j: p.j + 333,\n",
    "    }\n",
    "}\n",
    "```\n",
    "> Et c'est un peu pour cette raison que le passage par référence (borrowing) est une bien meilleure solution (enfin, a mon gout)."
   ]
  },
  {
   "cell_type": "markdown",
   "id": "future-indiana",
   "metadata": {
    "deletable": false,
    "editable": false
   },
   "source": [
    "## La fausse modification\n",
    "\n",
    "> Un autre problème peut se poser, mais cette fois-ci pour les types qui implémentent le trait Copy. Puisque la valeur n'est que copiée, toutes les modifications locales dans la fonction appelée n'auront aucun impact sur l'original.\n",
    "\n",
    "- En voici une illustration :"
   ]
  },
  {
   "cell_type": "code",
   "execution_count": 25,
   "id": "durable-norman",
   "metadata": {
    "deletable": false,
    "editable": false
   },
   "outputs": [
    {
     "name": "stderr",
     "output_type": "stream",
     "text": [
      "[src/lib.rs:10] i = 42\n",
      "[src/lib.rs:13] i = 42\n"
     ]
    },
    {
     "data": {
      "text/plain": [
       "()"
      ]
     },
     "execution_count": 25,
     "metadata": {},
     "output_type": "execute_result"
    }
   ],
   "source": [
    "fn increment_usize(mut i: usize) {\n",
    "    i += 1;\n",
    "}\n",
    "\n",
    "fn exemple() {\n",
    "    let i: usize = 42;\n",
    "    dbg!(i);\n",
    "    // Ici la variable i appartient toujours au bloc ...\n",
    "    increment_usize(i); // Une copie de i est passee a la fonction debug_usize\n",
    "    dbg!(i); // La variable i existe toujours ici et n'a pas change !\n",
    "}\n",
    "exemple()"
   ]
  },
  {
   "cell_type": "markdown",
   "id": "environmental-lambda",
   "metadata": {
    "deletable": false,
    "editable": false
   },
   "source": [
    "- Sans utiliser de références mutables, la seule solution à ce problème consiste à se servir de ce qui a été vue dans la partie précédente, la valeur de retour de la fonction :"
   ]
  },
  {
   "cell_type": "code",
   "execution_count": 27,
   "id": "forty-plumbing",
   "metadata": {
    "deletable": false,
    "editable": false
   },
   "outputs": [
    {
     "name": "stderr",
     "output_type": "stream",
     "text": [
      "[src/lib.rs:10] i = 42\n",
      "[src/lib.rs:13] i = 43\n"
     ]
    },
    {
     "data": {
      "text/plain": [
       "()"
      ]
     },
     "execution_count": 27,
     "metadata": {},
     "output_type": "execute_result"
    }
   ],
   "source": [
    "fn increment_usize(i: usize) -> usize {\n",
    "    i + 1\n",
    "}\n",
    "\n",
    "fn exemple() {\n",
    "    let i: usize = 42;\n",
    "    dbg!(i);\n",
    "    // Ici la variable i appartient toujours au bloc ...\n",
    "    let i = increment_usize(i); // Nouveau i\n",
    "    dbg!(i); // La variable a changee ce coup-ci\n",
    "}\n",
    "exemple()"
   ]
  },
  {
   "cell_type": "markdown",
   "id": "spatial-purpose",
   "metadata": {
    "deletable": false,
    "editable": false
   },
   "source": [
    "## Conclusions"
   ]
  },
  {
   "cell_type": "markdown",
   "id": "dependent-grain",
   "metadata": {
    "deletable": false,
    "editable": false
   },
   "source": [
    "> Nous avons vu dans ce chapitre les bases de l'ownership et différentes difficultés que vous pouvez rencontrer. Sachez que tous les problèmes évoqués dans cette partie trouveront une solution satisfaisante avec les références et l'emprunt."
   ]
  },
  {
   "cell_type": "markdown",
   "id": "impossible-heath",
   "metadata": {
    "deletable": false,
    "editable": false
   },
   "source": [
    "## Exercices"
   ]
  },
  {
   "cell_type": "markdown",
   "id": "lucky-hammer",
   "metadata": {
    "deletable": false,
    "editable": false,
    "solution2": "hidden",
    "solution2_first": true
   },
   "source": [
    "### Je viens de définir une fonction drop() pour un type alloue dynamiquement qui n'implémente donc pas le trait Copy, quelle est la conséquence de l'appel à cette fonction ?\n",
    "\n",
    "```\n",
    "fn drop(s: String) {}\n",
    "```"
   ]
  },
  {
   "cell_type": "markdown",
   "id": "integral-discretion",
   "metadata": {
    "deletable": false,
    "editable": false,
    "solution2": "hidden"
   },
   "source": [
    "> Si j'utilise cette fonction et que donc je lui envoie une String, je la perdrai définitivement ! Comme elle est allouée dynamiquement, j'imagine que je restituerai la mémoire utilisée par cette String au système."
   ]
  }
 ],
 "metadata": {
  "kernelspec": {
   "display_name": "Rust",
   "language": "rust",
   "name": "rust"
  },
  "language_info": {
   "codemirror_mode": "rust",
   "file_extension": ".rs",
   "mimetype": "text/rust",
   "name": "Rust",
   "pygment_lexer": "rust",
   "version": ""
  },
  "toc": {
   "base_numbering": "2",
   "nav_menu": {},
   "number_sections": true,
   "sideBar": true,
   "skip_h1_title": false,
   "title_cell": "Table of Contents",
   "title_sidebar": "Contents",
   "toc_cell": false,
   "toc_position": {
    "height": "calc(100% - 180px)",
    "left": "10px",
    "top": "150px",
    "width": "268.8px"
   },
   "toc_section_display": true,
   "toc_window_display": false
  }
 },
 "nbformat": 4,
 "nbformat_minor": 5
}
