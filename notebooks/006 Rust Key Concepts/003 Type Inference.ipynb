{
 "cells": [
  {
   "cell_type": "markdown",
   "id": "copyrighted-linux",
   "metadata": {
    "deletable": false,
    "editable": false
   },
   "source": [
    "# L'inférence de type\n",
    "\n",
    "---\n",
    "\n",
    "> Le compilateur de rust est doué de la capacité d'inférer les types des variables. C'est-à-dire qu'il tente de deviner par lui-même de quel type sont les variables que nous utilisons. Ainsi, cela permet au programmeur de ne pas avoir à systématiquement déclarer ses types.\n",
    "\n",
    "> Pour déterminer automatiquement les types de nos variables, Rust se sert des prototypes des fonctions, des méthodes, des closures et des autres variables avec lesquelles elles interagissent.\n",
    "\n",
    "> Enfin, s'il n'y a aucune indication de type, Rust peut procéder à une inférence par défaut."
   ]
  },
  {
   "cell_type": "markdown",
   "id": "above-pakistan",
   "metadata": {
    "deletable": false,
    "editable": false
   },
   "source": [
    "## Les cas d'inférence\n",
    "\n",
    "### l'Inférence grâce aux fonctions\n",
    "\n",
    "- Dans l'exemple ci-dessous, il ne sera pas bien difficile à Rust de deviner les types de nos variables d'entrée et de sortie :"
   ]
  },
  {
   "cell_type": "code",
   "execution_count": 9,
   "id": "marked-commission",
   "metadata": {
    "deletable": false,
    "editable": false
   },
   "outputs": [
    {
     "name": "stderr",
     "output_type": "stream",
     "text": [
      "[src/lib.rs:40] c = 3\n"
     ]
    },
    {
     "data": {
      "text/plain": [
       "()"
      ]
     },
     "execution_count": 9,
     "metadata": {},
     "output_type": "execute_result"
    }
   ],
   "source": [
    "{\n",
    "    fn add_usize(a: usize, b: usize) -> usize {\n",
    "        a + b\n",
    "    }\n",
    "    let a = 1;\n",
    "    let b = 2;\n",
    "    let c  = add_usize(a, b);\n",
    "    dbg!(c);\n",
    "}"
   ]
  },
  {
   "cell_type": "markdown",
   "id": "sought-edwards",
   "metadata": {
    "deletable": false,
    "editable": false
   },
   "source": [
    "> C'est trivial, a, b et c sont tous les trois des usize."
   ]
  },
  {
   "cell_type": "markdown",
   "id": "identical-employee",
   "metadata": {
    "deletable": false,
    "editable": false
   },
   "source": [
    "### l'Inférence grâce aux méthodes\n",
    "\n",
    "- Une méthode étant seulement une fonction avec self, il n'y a pas de raison que ce soit plus compliqué pour le moteur d'inférence :"
   ]
  },
  {
   "cell_type": "code",
   "execution_count": 8,
   "id": "automatic-belle",
   "metadata": {
    "deletable": false,
    "editable": false
   },
   "outputs": [
    {
     "name": "stderr",
     "output_type": "stream",
     "text": [
      "[src/lib.rs:42] tuple = (\n",
      "    1,\n",
      "    4,\n",
      "    2,\n",
      ")\n"
     ]
    },
    {
     "data": {
      "text/plain": [
       "()"
      ]
     },
     "execution_count": 8,
     "metadata": {},
     "output_type": "execute_result"
    }
   ],
   "source": [
    "{\n",
    "    struct Tuple(u8, u8, u8);\n",
    "    impl Tuple {\n",
    "        fn get_inner(&self) -> (u8, u8, u8) {\n",
    "            (self.0, self.1, self.2)\n",
    "        }\n",
    "    }\n",
    "    let tuple_struct = Tuple(1, 2, 4);\n",
    "    let tuple = tuple_struct.get_inner();\n",
    "    dbg!(tuple);\n",
    "}"
   ]
  },
  {
   "cell_type": "markdown",
   "id": "allied-undergraduate",
   "metadata": {
    "deletable": false,
    "editable": false
   },
   "source": [
    "> La variable tuple sera de type (u8, u8, u8)"
   ]
  },
  {
   "cell_type": "markdown",
   "id": "perceived-brunswick",
   "metadata": {
    "deletable": false,
    "editable": false
   },
   "source": [
    "### L'inférence par l'interaction\n",
    "\n",
    "- Si j'additionne un usize avec un type non déclaré, quelle déduction fera donc le moteur d'inférence ?"
   ]
  },
  {
   "cell_type": "code",
   "execution_count": 13,
   "id": "enabling-victim",
   "metadata": {
    "deletable": false,
    "editable": false
   },
   "outputs": [
    {
     "name": "stderr",
     "output_type": "stream",
     "text": [
      "[src/lib.rs:148] z = 1\n"
     ]
    },
    {
     "data": {
      "text/plain": [
       "()"
      ]
     },
     "execution_count": 13,
     "metadata": {},
     "output_type": "execute_result"
    }
   ],
   "source": [
    "{\n",
    "    let u: usize = 12;\n",
    "    let v = u * 2;\n",
    "    let w = v * v;\n",
    "    let x = v + 2;\n",
    "    let y = v - v + 1;\n",
    "    let z = y * y;\n",
    "    dbg!(z);\n",
    "}"
   ]
  },
  {
   "cell_type": "markdown",
   "id": "bibliographic-insider",
   "metadata": {
    "deletable": false,
    "editable": false
   },
   "source": [
    "> Simple, basique, toutes les variables relatives ici seront des usize.\n",
    "\n",
    "*Nous verrons les closures plus tard dans le cours, inutile d'en parler ici, de toutes façons, c'est la meme chose que pour les fonctions.*"
   ]
  },
  {
   "cell_type": "markdown",
   "id": "caroline-tribe",
   "metadata": {
    "deletable": false,
    "editable": false
   },
   "source": [
    "### L'inférence par défaut\n",
    "\n",
    "- Quand on ne donne aucune indication quant au type de notre variable ou d'un groupe de variables, Rust procédera, s'il peut, a une inférence par défaut en fonction des valeurs données à nos types :"
   ]
  },
  {
   "cell_type": "code",
   "execution_count": 5,
   "id": "contemporary-archives",
   "metadata": {
    "deletable": false,
    "editable": false
   },
   "outputs": [
    {
     "name": "stderr",
     "output_type": "stream",
     "text": [
      "[src/lib.rs:29] z = 1\n"
     ]
    },
    {
     "data": {
      "text/plain": [
       "()"
      ]
     },
     "execution_count": 5,
     "metadata": {},
     "output_type": "execute_result"
    }
   ],
   "source": [
    "{\n",
    "    let u = 12;\n",
    "    let v = u * 2;\n",
    "    let w = v * v;\n",
    "    let x = v + 2;\n",
    "    let y = v - v + 1;\n",
    "    let z = y * y;\n",
    "    dbg!(z); // z est un entier, peut etre isize...\n",
    "}"
   ]
  },
  {
   "cell_type": "markdown",
   "id": "unsigned-address",
   "metadata": {
    "deletable": false,
    "editable": false
   },
   "source": [
    "*Je ne connais pas de moyen parfait pour connaître le nom exact du type, le compilateur Rust me donne **Integer** qui n'est pas vraiment un type. Si vous trouvez la solution, envoyez-moi un mail, merci.*"
   ]
  },
  {
   "cell_type": "markdown",
   "id": "experimental-karen",
   "metadata": {
    "deletable": false,
    "editable": false
   },
   "source": [
    "## Les conflits de type"
   ]
  },
  {
   "cell_type": "markdown",
   "id": "invalid-finance",
   "metadata": {
    "deletable": false,
    "editable": false
   },
   "source": [
    "- Évidemment, si le développeur fait n'importe quoi avec ses types, certains messages d'erreurs pourront le surprendre :"
   ]
  },
  {
   "cell_type": "code",
   "execution_count": 16,
   "id": "jewish-greek",
   "metadata": {
    "deletable": false,
    "editable": false,
    "scrolled": true
   },
   "outputs": [
    {
     "ename": "Error",
     "evalue": "mismatched types",
     "output_type": "error",
     "traceback": [
      "\u001b[31m[E0308] Error:\u001b[0m mismatched types",
      "    \u001b[38;5;246m╭\u001b[0m\u001b[38;5;246m─\u001b[0m\u001b[38;5;246m[\u001b[0mcommand_16:1:1\u001b[38;5;246m]\u001b[0m",
      "    \u001b[38;5;246m│\u001b[0m",
      " \u001b[38;5;246m10 │\u001b[0m \u001b[38;5;249m \u001b[0m\u001b[38;5;249m \u001b[0m\u001b[38;5;249m \u001b[0m\u001b[38;5;249m \u001b[0m\u001b[38;5;249ml\u001b[0m\u001b[38;5;249me\u001b[0m\u001b[38;5;249mt\u001b[0m\u001b[38;5;249m \u001b[0m\u001b[38;5;249mc\u001b[0m\u001b[38;5;249m \u001b[0m\u001b[38;5;249m=\u001b[0m\u001b[38;5;249m \u001b[0m\u001b[38;5;249ma\u001b[0m\u001b[38;5;249m \u001b[0m\u001b[38;5;249m*\u001b[0m\u001b[38;5;249m \u001b[0m\u001b[38;5;54mb\u001b[0m\u001b[38;5;249m;\u001b[0m",
      " \u001b[38;5;246m   ·\u001b[0m                 \u001b[38;5;54m┬\u001b[0m  ",
      " \u001b[38;5;246m   ·\u001b[0m                 \u001b[38;5;54m╰\u001b[0m\u001b[38;5;54m─\u001b[0m\u001b[38;5;54m─\u001b[0m expected `u8`, found `u16`",
      "\u001b[38;5;246m────╯\u001b[0m"
     ]
    },
    {
     "ename": "Error",
     "evalue": "cannot multiply `u8` by `u16`",
     "output_type": "error",
     "traceback": [
      "\u001b[31m[E0277] Error:\u001b[0m cannot multiply `u8` by `u16`",
      "    \u001b[38;5;246m╭\u001b[0m\u001b[38;5;246m─\u001b[0m\u001b[38;5;246m[\u001b[0mcommand_16:1:1\u001b[38;5;246m]\u001b[0m",
      "    \u001b[38;5;246m│\u001b[0m",
      " \u001b[38;5;246m10 │\u001b[0m \u001b[38;5;249m \u001b[0m\u001b[38;5;249m \u001b[0m\u001b[38;5;249m \u001b[0m\u001b[38;5;249m \u001b[0m\u001b[38;5;249ml\u001b[0m\u001b[38;5;249me\u001b[0m\u001b[38;5;249mt\u001b[0m\u001b[38;5;249m \u001b[0m\u001b[38;5;249mc\u001b[0m\u001b[38;5;249m \u001b[0m\u001b[38;5;249m=\u001b[0m\u001b[38;5;249m \u001b[0m\u001b[38;5;249ma\u001b[0m\u001b[38;5;249m \u001b[0m\u001b[38;5;54m*\u001b[0m\u001b[38;5;249m \u001b[0m\u001b[38;5;249mb\u001b[0m\u001b[38;5;249m;\u001b[0m",
      " \u001b[38;5;246m   ·\u001b[0m               \u001b[38;5;54m┬\u001b[0m  ",
      " \u001b[38;5;246m   ·\u001b[0m               \u001b[38;5;54m╰\u001b[0m\u001b[38;5;54m─\u001b[0m\u001b[38;5;54m─\u001b[0m no implementation for `u8 * u16`",
      "\u001b[38;5;246m────╯\u001b[0m"
     ]
    }
   ],
   "source": [
    "{\n",
    "    fn get_u8() -> u8 {\n",
    "        255\n",
    "    }\n",
    "    fn get_u16() -> u16 {\n",
    "        0\n",
    "    }\n",
    "    let a = get_u8();  // type u8\n",
    "    let b = get_u16(); // type u16\n",
    "    let c = a * b;\n",
    " }"
   ]
  },
  {
   "cell_type": "markdown",
   "id": "incredible-thousand",
   "metadata": {
    "deletable": false,
    "editable": false
   },
   "source": [
    "> Ce n'est pas forcément intuitif puisque comme les types ont été tous inférés, le programmeur ne sait peut être pas trop que son premier type était un u16 et son second un u8. Donc, parfois, c'est le moteur d'inférence qui lui indique une certaine incohérence de son code."
   ]
  },
  {
   "cell_type": "markdown",
   "id": "corporate-helen",
   "metadata": {
    "deletable": false,
    "editable": false
   },
   "source": [
    "**NB** Rust étant un langage fortement typé, il interdit les opérations algébriques entre deux types différents. Caster l'un deux peut être une solution quoique pas forcément toujours idéale."
   ]
  },
  {
   "cell_type": "markdown",
   "id": "colonial-google",
   "metadata": {
    "deletable": false,
    "editable": false
   },
   "source": [
    "## Les limitations de l'inférence de type\n",
    "\n",
    "> Nous avons déjà remarqué dans le chapitre sur les Option et les Result qu'il existait des types génériques, généralement annotés par des lettres majuscules telles T ou E écrits entre `< >`. Un type générique étant justement un type dont la particularité est de ne pas avoir de type défini à l'avance, le moteur d'inférence de Rust insistera pour que l'on spécifie un type.\n",
    "\n",
    "- La méthode parse de &str a besoin que l'on définisse F :\n",
    "```\n",
    "pub fn parse<F>(&self) -> Result<F, <F as FromStr>::Err>\n",
    "where\n",
    "    F: FromStr,\n",
    "```"
   ]
  },
  {
   "cell_type": "code",
   "execution_count": 6,
   "id": "utility-complaint",
   "metadata": {
    "deletable": false,
    "editable": false
   },
   "outputs": [
    {
     "ename": "Error",
     "evalue": "type annotations needed",
     "output_type": "error",
     "traceback": [
      "\u001b[31m[E0282] Error:\u001b[0m type annotations needed",
      "   \u001b[38;5;246m╭\u001b[0m\u001b[38;5;246m─\u001b[0m\u001b[38;5;246m[\u001b[0mcommand_6:1:1\u001b[38;5;246m]\u001b[0m",
      "   \u001b[38;5;246m│\u001b[0m",
      " \u001b[38;5;246m3 │\u001b[0m \u001b[38;5;249m \u001b[0m\u001b[38;5;249m \u001b[0m\u001b[38;5;249m \u001b[0m\u001b[38;5;249m \u001b[0m\u001b[38;5;249ml\u001b[0m\u001b[38;5;249me\u001b[0m\u001b[38;5;249mt\u001b[0m\u001b[38;5;249m \u001b[0m\u001b[38;5;54me\u001b[0m\u001b[38;5;54mn\u001b[0m\u001b[38;5;54mt\u001b[0m\u001b[38;5;54mi\u001b[0m\u001b[38;5;54me\u001b[0m\u001b[38;5;54mr\u001b[0m\u001b[38;5;249m \u001b[0m\u001b[38;5;249m=\u001b[0m\u001b[38;5;249m \u001b[0m\u001b[38;5;249mc\u001b[0m\u001b[38;5;249mh\u001b[0m\u001b[38;5;249ma\u001b[0m\u001b[38;5;249mi\u001b[0m\u001b[38;5;249mn\u001b[0m\u001b[38;5;249me\u001b[0m\u001b[38;5;249m.\u001b[0m\u001b[38;5;249mp\u001b[0m\u001b[38;5;249ma\u001b[0m\u001b[38;5;249mr\u001b[0m\u001b[38;5;249ms\u001b[0m\u001b[38;5;249me\u001b[0m\u001b[38;5;249m(\u001b[0m\u001b[38;5;249m)\u001b[0m\u001b[38;5;249m.\u001b[0m\u001b[38;5;249mu\u001b[0m\u001b[38;5;249mn\u001b[0m\u001b[38;5;249mw\u001b[0m\u001b[38;5;249mr\u001b[0m\u001b[38;5;249ma\u001b[0m\u001b[38;5;249mp\u001b[0m\u001b[38;5;249m(\u001b[0m\u001b[38;5;249m)\u001b[0m\u001b[38;5;249m;\u001b[0m",
      " \u001b[38;5;246m  ·\u001b[0m         \u001b[38;5;54m─\u001b[0m\u001b[38;5;54m─\u001b[0m\u001b[38;5;54m─\u001b[0m\u001b[38;5;54m┬\u001b[0m\u001b[38;5;54m─\u001b[0m\u001b[38;5;54m─\u001b[0m\u001b[38;5;100m│\u001b[0m ",
      " \u001b[38;5;246m  ·\u001b[0m            \u001b[38;5;54m╰\u001b[0m\u001b[38;5;54m─\u001b[0m\u001b[38;5;54m─\u001b[0m\u001b[38;5;54m─\u001b[0m\u001b[38;5;54m─\u001b[0m error: type annotations needed",
      " \u001b[38;5;246m  ·\u001b[0m               \u001b[38;5;100m│\u001b[0m ",
      " \u001b[38;5;246m  ·\u001b[0m               \u001b[38;5;100m╰\u001b[0m\u001b[38;5;100m─\u001b[0m help: consider giving `entier` an explicit type: `: /* Type */`",
      "\u001b[38;5;246m───╯\u001b[0m"
     ]
    }
   ],
   "source": [
    "{\n",
    "    // Exemple avec aucun type defini\n",
    "    let chaine = \"1664\";\n",
    "    let entier = chaine.parse().unwrap();\n",
    "    dbg!(entier);\n",
    "}"
   ]
  },
  {
   "cell_type": "markdown",
   "id": "colored-trinidad",
   "metadata": {
    "deletable": false,
    "editable": false
   },
   "source": [
    "- Il est nécessaire de donner le type F au compilateur :"
   ]
  },
  {
   "cell_type": "code",
   "execution_count": 9,
   "id": "smart-above",
   "metadata": {
    "deletable": false,
    "editable": false
   },
   "outputs": [
    {
     "name": "stderr",
     "output_type": "stream",
     "text": [
      "[src/lib.rs:25] entier = 1664\n"
     ]
    },
    {
     "data": {
      "text/plain": [
       "()"
      ]
     },
     "execution_count": 9,
     "metadata": {},
     "output_type": "execute_result"
    }
   ],
   "source": [
    "{\n",
    "    let chaine = \"1664\";\n",
    "    let entier: u32 = chaine.parse().unwrap(); // entier sera un u32\n",
    "    dbg!(entier);\n",
    "}"
   ]
  },
  {
   "cell_type": "markdown",
   "id": "altered-constant",
   "metadata": {
    "deletable": false,
    "editable": false
   },
   "source": [
    "> La lettre F a été remplacée par u32."
   ]
  },
  {
   "cell_type": "markdown",
   "id": "severe-surprise",
   "metadata": {
    "deletable": false,
    "editable": false
   },
   "source": [
    "**NB prenez comme bonne habitude d'utiliser l'inférence de type, cela ne sert à rien d'avoir dans le code, 50 définitions de type de variable, surtout si le type est identique et que tout semble logique.**"
   ]
  }
 ],
 "metadata": {
  "kernelspec": {
   "display_name": "Rust",
   "language": "rust",
   "name": "rust"
  },
  "language_info": {
   "codemirror_mode": "rust",
   "file_extension": ".rs",
   "mimetype": "text/rust",
   "name": "Rust",
   "pygment_lexer": "rust",
   "version": ""
  },
  "toc": {
   "base_numbering": "3",
   "nav_menu": {},
   "number_sections": true,
   "sideBar": true,
   "skip_h1_title": false,
   "title_cell": "Table of Contents",
   "title_sidebar": "Contents",
   "toc_cell": false,
   "toc_position": {
    "height": "calc(100% - 180px)",
    "left": "10px",
    "top": "150px",
    "width": "268.8px"
   },
   "toc_section_display": true,
   "toc_window_display": false
  }
 },
 "nbformat": 4,
 "nbformat_minor": 5
}
