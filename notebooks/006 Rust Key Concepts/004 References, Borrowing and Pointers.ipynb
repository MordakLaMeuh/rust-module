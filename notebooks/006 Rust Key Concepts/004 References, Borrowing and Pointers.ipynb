{
 "cells": [
  {
   "cell_type": "markdown",
   "id": "physical-trinity",
   "metadata": {
    "deletable": false,
    "editable": false
   },
   "source": [
    "# Les références, l'emprunt et les pointeurs\n",
    "\n",
    "---\n",
    "\n",
    "> Tout comme en C / C++, il existe en Rust les notions de pointeurs et de références. Cependant, Rust diffère quelque peu de ces langages quant à leur gestion. En effet, grave aux mécanismes de durée de vie et d'initialisation des variables, **il est impossible d'avoir des références nulles**. Les références et les pointeurs sont toujours en rapport avec les adresses mémoire, mais leur gestion, et disons le, bien plus transparente que dans des langages plus bas niveau.\n",
    "\n",
    "> Afin de pouvoir coder une FFI efficace, Rust permet aussi l'utilisation des pointeurs façon C, ils sont appelés **raw pointers** ou pointeurs bruts, et font partie du monde de l'unsafe Rust."
   ]
  },
  {
   "cell_type": "markdown",
   "id": "double-estimate",
   "metadata": {
    "deletable": false,
    "editable": false
   },
   "source": [
    "## Les références\n",
    "\n",
    "> Les références servent avant tout a **ne pas transférer l'ownership des variables aux fonctions** que nous appelons. Lors de l'appel à la macro dbg! par exemple, les programmeurs mettent souvent, comme paramètre, le symbole `&` avant le nom de la variable, ceci évite tout simplement de « perdre » cette variable pour un vulgaire debug.\n",
    "```\n",
    "let mut a: usize = 42;\n",
    "dbg!(&a); // Utilisation du référencement, l'adresse de `a` est envoyée a dbg! et non la variable `a` elle-même.\n",
    "a += 1; // La variable `a` est toujours accessible ici.\n",
    "```\n",
    "\n",
    "> Nous avons déjà croisé des références comme `&self` ou `&mut self` lors de l'écriture des méthodes des structures."
   ]
  },
  {
   "cell_type": "markdown",
   "id": "processed-experience",
   "metadata": {
    "deletable": false,
    "editable": false
   },
   "source": [
    "### Le référencement\n",
    "\n",
    "> Bien que le terme **référencement** n'est pas trop d'usage dans la communauté Rust, je trouve qu'il a du sens pour les débutants puisqu'il est le contraire du **deréférencement**.\n",
    "\n",
    "> Le référencement est tout simplement la création d'une référence."
   ]
  },
  {
   "cell_type": "markdown",
   "id": "optimum-tenant",
   "metadata": {
    "deletable": false,
    "editable": false
   },
   "source": [
    "- Voici un exemple d'utilisation des références en C :\n",
    "```\n",
    "void ma_fonction(int *x)   // Utilisation du symbole *\n",
    "{\n",
    "    printf(\"La valeur de x est %i\\n\", *x);\n",
    "    *x += 1;\n",
    "    printf(\"La nouvelle valeur de x est %i\\n\", *x);\n",
    "}\n",
    "int main()\n",
    "{\n",
    "    int x = 10;\n",
    "    ma_fonction(&x);         // Utilisation du symbole &\n",
    "    printf(\"Apres le retour de la fonction, la valeur de x est %i\\n\", x);\n",
    "}\n",
    "```\n",
    "> En C, on utilise les pointeurs et les références non pas pour éviter le transfert d'ownership, notion qui n'existe pas dans ce langage, mais principalement pour que les fonctions appelées puissent modifier les variables passées en paramètre et/ou éviter une trop grosse surcharge de la pile ou pour d'autres raisons encore..."
   ]
  },
  {
   "cell_type": "markdown",
   "id": "automated-input",
   "metadata": {
    "deletable": false,
    "editable": false
   },
   "source": [
    "- Ce qui change en Rust c'est que sur le prototype de la fonction appelée, on n'utilisera pas le symbole `*` mais le symbole de référence `&` : "
   ]
  },
  {
   "cell_type": "code",
   "execution_count": 18,
   "id": "religious-belize",
   "metadata": {
    "deletable": false,
    "editable": false
   },
   "outputs": [
    {
     "name": "stdout",
     "output_type": "stream",
     "text": [
      "La valeur de x est 10\n",
      "La nouvelle valeur de x est 11\n",
      "Apres le retour de la fonction, la valeur de x est 11\n"
     ]
    },
    {
     "data": {
      "text/plain": [
       "()"
      ]
     },
     "execution_count": 18,
     "metadata": {},
     "output_type": "execute_result"
    }
   ],
   "source": [
    "fn ma_fonction(x: &mut usize) {           // Utilisation du symbole & en Rust\n",
    "    println!(\"La valeur de x est {}\", x); // x ou *x ne fait pas de difference pour println!\n",
    "    *x += 1; // Comme en C, la modification de x passe par l'emploi de l'operateur de dereferencement *\n",
    "    println!(\"La nouvelle valeur de x est {}\", *x);\n",
    "}\n",
    "fn main() {\n",
    "    let mut x: usize = 10;\n",
    "    ma_fonction(&mut x); // Passage d'une reference mutable puisque la fonction va modifier x\n",
    "    println!(\"Apres le retour de la fonction, la valeur de x est {}\", x);\n",
    "}\n",
    "main()"
   ]
  },
  {
   "cell_type": "markdown",
   "id": "incorrect-skill",
   "metadata": {
    "deletable": false,
    "editable": false
   },
   "source": [
    "> Ce code en Rust est strictement équivalent au code C plus haut."
   ]
  },
  {
   "cell_type": "markdown",
   "id": "fundamental-carolina",
   "metadata": {
    "deletable": false,
    "editable": false
   },
   "source": [
    "### Le dereferencement\n",
    "\n",
    "> Dereferencer une variable consiste a accéder à sa valeur derrière la référence. On utilisera le symbole de dereferencement `*`.\n",
    "\n",
    "- L'opérateur de derefencement va s'utiliser par exemple lors d'opérations entres les références d'un type et le type lui-même. À quelques exceptions près, Rust ne peut pas comparer deux types différents : *ref mon_type n'est pas la même que mon_type tout court* :"
   ]
  },
  {
   "cell_type": "code",
   "execution_count": 20,
   "id": "suited-divide",
   "metadata": {
    "deletable": false,
    "editable": false
   },
   "outputs": [
    {
     "ename": "Error",
     "evalue": "can't compare `&S` with `S`",
     "output_type": "error",
     "traceback": [
      "\u001b[31m[E0277] Error:\u001b[0m can't compare `&S` with `S`",
      "   \u001b[38;5;246m╭\u001b[0m\u001b[38;5;246m─\u001b[0m\u001b[38;5;246m[\u001b[0mcommand_20:1:1\u001b[38;5;246m]\u001b[0m",
      "   \u001b[38;5;246m│\u001b[0m",
      " \u001b[38;5;246m7 │\u001b[0m \u001b[38;5;249m \u001b[0m\u001b[38;5;249m \u001b[0m\u001b[38;5;249m \u001b[0m\u001b[38;5;249m \u001b[0m\u001b[38;5;249ms\u001b[0m\u001b[38;5;249m1\u001b[0m\u001b[38;5;249m \u001b[0m\u001b[38;5;54m=\u001b[0m\u001b[38;5;54m=\u001b[0m\u001b[38;5;249m \u001b[0m\u001b[38;5;249mS\u001b[0m\u001b[38;5;249m \u001b[0m\u001b[38;5;249m{\u001b[0m",
      " \u001b[38;5;246m  ·\u001b[0m        \u001b[38;5;54m─\u001b[0m\u001b[38;5;54m┬\u001b[0m  ",
      " \u001b[38;5;246m  ·\u001b[0m         \u001b[38;5;54m╰\u001b[0m\u001b[38;5;54m─\u001b[0m\u001b[38;5;54m─\u001b[0m no implementation for `&S == S`",
      "\u001b[38;5;246m───╯\u001b[0m"
     ]
    }
   ],
   "source": [
    "#[derive(Debug, Eq, PartialEq)]\n",
    "struct S {\n",
    "    i: usize,\n",
    "    j: usize,\n",
    "}\n",
    "fn check_struct(s1: &S) -> bool { // Cette fonction retourne un bool apres comparaison de la structure en param\n",
    "    s1 == S {\n",
    "        i: 12,\n",
    "        j: 42,\n",
    "    }\n",
    "}\n",
    "dbg!(check_struct(&S {\n",
    "    i: 12,\n",
    "    j: 42,\n",
    "}))"
   ]
  },
  {
   "cell_type": "markdown",
   "id": "final-cancellation",
   "metadata": {
    "deletable": false,
    "editable": false
   },
   "source": [
    "- La code deviendra valide si l'on accepte de dereferencer s1 dans la fonction check_struct :"
   ]
  },
  {
   "cell_type": "code",
   "execution_count": 24,
   "id": "infectious-bottle",
   "metadata": {
    "deletable": false,
    "editable": false
   },
   "outputs": [
    {
     "name": "stderr",
     "output_type": "stream",
     "text": [
      "[src/lib.rs:43] check_struct(&S { i: 12, j: 42 }) = true\n"
     ]
    },
    {
     "data": {
      "text/plain": [
       "true"
      ]
     },
     "execution_count": 24,
     "metadata": {},
     "output_type": "execute_result"
    }
   ],
   "source": [
    "#[derive(Debug, Eq, PartialEq)]\n",
    "struct S {\n",
    "    i: usize,\n",
    "    j: usize,\n",
    "}\n",
    "fn check_struct(s1: &S) -> bool { // Cette fonction retourne un bool apres comparaison de la structure en param\n",
    "    *s1 == S { // Utilisation de l'operateur de dereferencement pour retrouver le type S et non &S sur s1.\n",
    "        i: 12,\n",
    "        j: 42,\n",
    "    }\n",
    "}\n",
    "dbg!(check_struct(&S {\n",
    "    i: 12,\n",
    "    j: 42,\n",
    "}))"
   ]
  },
  {
   "cell_type": "markdown",
   "id": "domestic-motion",
   "metadata": {
    "deletable": false,
    "editable": false
   },
   "source": [
    "> Il est possible aussi de faire le contraire, et de référencer le second terme sois S ici. **s1 == &S** fonctionne très bien !\n",
    "\n",
    "- On peut tres bien comparer des références de référence de référence etc... :"
   ]
  },
  {
   "cell_type": "code",
   "execution_count": 25,
   "id": "synthetic-outdoors",
   "metadata": {
    "deletable": false,
    "editable": false
   },
   "outputs": [
    {
     "data": {
      "text/plain": [
       "()"
      ]
     },
     "execution_count": 25,
     "metadata": {},
     "output_type": "execute_result"
    }
   ],
   "source": [
    "{    \n",
    "    let a = 16;\n",
    "    let b = 16;\n",
    "    let ra = &a;\n",
    "    let rb = &b;\n",
    "    assert_eq!(ra, rb);\n",
    "    assert_eq!(*ra, *rb);\n",
    "    assert_eq!(&ra, &rb);\n",
    "    assert_eq!(&&ra, &&rb);\n",
    "\n",
    "    // Ne compile pas: comparaison entre &integer et integer\n",
    "    // assert_eq!(*ra, rb);\n",
    "}"
   ]
  },
  {
   "cell_type": "markdown",
   "id": "disciplinary-philip",
   "metadata": {
    "deletable": false,
    "editable": false
   },
   "source": [
    "## Les références implicites\n",
    "\n",
    "- Prenons l'exemple suivant :"
   ]
  },
  {
   "cell_type": "code",
   "execution_count": 28,
   "id": "square-peace",
   "metadata": {
    "deletable": false,
    "editable": false
   },
   "outputs": [
    {
     "name": "stderr",
     "output_type": "stream",
     "text": [
      "[src/lib.rs:170] v = Vector {\n",
      "    i: 10,\n",
      "    j: -3,\n",
      "}\n",
      "[src/lib.rs:172] v = Vector {\n",
      "    i: 12,\n",
      "    j: 1,\n",
      "}\n"
     ]
    },
    {
     "data": {
      "text/plain": [
       "()"
      ]
     },
     "execution_count": 28,
     "metadata": {},
     "output_type": "execute_result"
    }
   ],
   "source": [
    "{\n",
    "    #[derive(Debug, Copy, Clone)]\n",
    "    struct Vector {\n",
    "        i: i32,\n",
    "        j: i32,\n",
    "    }\n",
    "\n",
    "    impl Vector {\n",
    "        fn add_assign(&mut self, other: Self) {\n",
    "            self.i += other.i;\n",
    "            self.j += other.j;\n",
    "        }\n",
    "    }\n",
    "\n",
    "    let mut v = Vector{i: 10, j: -3};\n",
    "    dbg!(v);\n",
    "    v.add_assign(Vector{i: 2, j: 4});\n",
    "    dbg!(v);\n",
    "}"
   ]
  },
  {
   "cell_type": "markdown",
   "id": "guilty-defense",
   "metadata": {
    "deletable": false,
    "editable": false
   },
   "source": [
    "> La méthode add_assign prend une référence mutable de Vector pour self, pourtant, on a envoyé un type Vector et non une référence de Vector. **L’opérateur `.` retourne implicitement la référence (mutable ici) de v**.\n",
    "```\n",
    "v.add_assign(Vector{i: 2, j: 4})\n",
    "```\n",
    "> est strictement equivalent a :\n",
    "```\n",
    "(&mut v).add_assign(Vector{i: 2, j: 4});\n",
    "```\n",
    "**On dit que l’opérateur `.` emprunte (borrowing) ici une référence mutable de v.**"
   ]
  },
  {
   "cell_type": "markdown",
   "id": "variable-macro",
   "metadata": {
    "deletable": false,
    "editable": false
   },
   "source": [
    "## Les références : mutabilité et exclusivité\n",
    "\n",
    "> Il ne peut pas y avoir de référence Null en Rust. Le compilateur s'engage à vérifier si la donnée référencée est toujours 'en vie' cf. notion de lifetime et qui sont ceux qui l'ont emprunté cf. notions d'ownership et de borrowing.\n",
    "\n",
    "> **VOICI LES REGLES :**\n",
    "\n",
    "> - **Si j'ai une référence mutable sur une variable, l'accés à cette derniere ne peut se faire que par cette meme référence, et cela tant que la référence est en vie** (cf: lifetime). Cela permet surtout d'éviter des bugs si la variable ainsi référencée venait à etre changee au nez et à la barbe de la référence. \n",
    "\n",
    ">  - **Si j'ai une référence non mutable sur une variable qui peut être mutée, que ce soit directement ou par une référence mutable, je ne peux pas modifier les données de cette variable tant que ma référence non mutable est en vie.**\n",
    "\n",
    "> *Par contre, si j'ai un type non mutable, je peux avoir des dizaines de références dessus sans que cela pose un problème puisque les données resteront dans tous les cas constantes.*"
   ]
  },
  {
   "cell_type": "code",
   "execution_count": 29,
   "id": "scenic-writer",
   "metadata": {
    "deletable": false,
    "editable": false
   },
   "outputs": [
    {
     "data": {
      "text/plain": [
       "()"
      ]
     },
     "execution_count": 29,
     "metadata": {},
     "output_type": "execute_result"
    }
   ],
   "source": [
    "{\n",
    "    let mut num = 5;\n",
    "    let _num_ref = &mut num;\n",
    "}"
   ]
  },
  {
   "cell_type": "markdown",
   "id": "confirmed-preliminary",
   "metadata": {
    "deletable": false,
    "editable": false
   },
   "source": [
    "> En langue Rustienne, on dit que l'espace mémoire de num a été emprunté de façon mutable par _num_ref. **mutably borrowed**\n",
    "\n",
    "> **NB** C'est sans doute, parmi les aspects de Rust, un des plus difficiles à vraiment saisir..."
   ]
  },
  {
   "cell_type": "markdown",
   "id": "referenced-citation",
   "metadata": {
    "deletable": false,
    "editable": false
   },
   "source": [
    "### L'application de la première règle\n",
    "\n",
    "- Prenons par exemple ce bout de code :"
   ]
  },
  {
   "cell_type": "code",
   "execution_count": 2,
   "id": "catholic-minimum",
   "metadata": {
    "deletable": false,
    "editable": false
   },
   "outputs": [
    {
     "ename": "Error",
     "evalue": "cannot use `num` because it was mutably borrowed",
     "output_type": "error",
     "traceback": [
      "\u001b[31m[E0503] Error:\u001b[0m cannot use `num` because it was mutably borrowed",
      "   \u001b[38;5;246m╭\u001b[0m\u001b[38;5;246m─\u001b[0m\u001b[38;5;246m[\u001b[0mcommand_2:1:1\u001b[38;5;246m]\u001b[0m",
      "   \u001b[38;5;246m│\u001b[0m",
      " \u001b[38;5;246m3 │\u001b[0m \u001b[38;5;249m \u001b[0m\u001b[38;5;249m \u001b[0m\u001b[38;5;249m \u001b[0m\u001b[38;5;249m \u001b[0m\u001b[38;5;249ml\u001b[0m\u001b[38;5;249me\u001b[0m\u001b[38;5;249mt\u001b[0m\u001b[38;5;249m \u001b[0m\u001b[38;5;249mn\u001b[0m\u001b[38;5;249mu\u001b[0m\u001b[38;5;249mm\u001b[0m\u001b[38;5;249m_\u001b[0m\u001b[38;5;249mr\u001b[0m\u001b[38;5;249me\u001b[0m\u001b[38;5;249mf\u001b[0m\u001b[38;5;249m \u001b[0m\u001b[38;5;249m=\u001b[0m\u001b[38;5;249m \u001b[0m\u001b[38;5;54m&\u001b[0m\u001b[38;5;54mm\u001b[0m\u001b[38;5;54mu\u001b[0m\u001b[38;5;54mt\u001b[0m\u001b[38;5;54m \u001b[0m\u001b[38;5;54mn\u001b[0m\u001b[38;5;54mu\u001b[0m\u001b[38;5;54mm\u001b[0m\u001b[38;5;249m;\u001b[0m",
      " \u001b[38;5;246m  ·\u001b[0m                   \u001b[38;5;54m─\u001b[0m\u001b[38;5;54m─\u001b[0m\u001b[38;5;54m─\u001b[0m\u001b[38;5;54m─\u001b[0m\u001b[38;5;54m┬\u001b[0m\u001b[38;5;54m─\u001b[0m\u001b[38;5;54m─\u001b[0m\u001b[38;5;54m─\u001b[0m  ",
      " \u001b[38;5;246m  ·\u001b[0m                       \u001b[38;5;54m╰\u001b[0m\u001b[38;5;54m─\u001b[0m\u001b[38;5;54m─\u001b[0m\u001b[38;5;54m─\u001b[0m\u001b[38;5;54m─\u001b[0m\u001b[38;5;54m─\u001b[0m borrow of `num` occurs here",
      " \u001b[38;5;246m4 │\u001b[0m \u001b[38;5;249m \u001b[0m\u001b[38;5;249m \u001b[0m\u001b[38;5;249m \u001b[0m\u001b[38;5;249m \u001b[0m\u001b[38;5;100md\u001b[0m\u001b[38;5;100mb\u001b[0m\u001b[38;5;100mg\u001b[0m\u001b[38;5;100m!\u001b[0m\u001b[38;5;100m(\u001b[0m\u001b[38;5;100mn\u001b[0m\u001b[38;5;100mu\u001b[0m\u001b[38;5;100mm\u001b[0m\u001b[38;5;100m)\u001b[0m\u001b[38;5;249m;\u001b[0m",
      " \u001b[38;5;246m  ·\u001b[0m     \u001b[38;5;100m─\u001b[0m\u001b[38;5;100m─\u001b[0m\u001b[38;5;100m─\u001b[0m\u001b[38;5;100m─\u001b[0m\u001b[38;5;100m┬\u001b[0m\u001b[38;5;100m─\u001b[0m\u001b[38;5;100m─\u001b[0m\u001b[38;5;100m─\u001b[0m\u001b[38;5;100m─\u001b[0m  ",
      " \u001b[38;5;246m  ·\u001b[0m         \u001b[38;5;100m╰\u001b[0m\u001b[38;5;100m─\u001b[0m\u001b[38;5;100m─\u001b[0m\u001b[38;5;100m─\u001b[0m\u001b[38;5;100m─\u001b[0m\u001b[38;5;100m─\u001b[0m\u001b[38;5;100m─\u001b[0m use of borrowed `num`",
      " \u001b[38;5;246m5 │\u001b[0m \u001b[38;5;249m \u001b[0m\u001b[38;5;249m \u001b[0m\u001b[38;5;249m \u001b[0m\u001b[38;5;249m \u001b[0m\u001b[38;5;68m*\u001b[0m\u001b[38;5;68mn\u001b[0m\u001b[38;5;68mu\u001b[0m\u001b[38;5;68mm\u001b[0m\u001b[38;5;68m_\u001b[0m\u001b[38;5;68mr\u001b[0m\u001b[38;5;68me\u001b[0m\u001b[38;5;68mf\u001b[0m\u001b[38;5;68m \u001b[0m\u001b[38;5;68m=\u001b[0m\u001b[38;5;68m \u001b[0m\u001b[38;5;68m6\u001b[0m\u001b[38;5;249m;\u001b[0m\u001b[38;5;249m \u001b[0m\u001b[38;5;249m/\u001b[0m\u001b[38;5;249m/\u001b[0m\u001b[38;5;249m \u001b[0m\u001b[38;5;249ml\u001b[0m\u001b[38;5;249ma\u001b[0m\u001b[38;5;249m \u001b[0m\u001b[38;5;249mr\u001b[0m\u001b[38;5;249me\u001b[0m\u001b[38;5;249mf\u001b[0m\u001b[38;5;249m \u001b[0m\u001b[38;5;249mm\u001b[0m\u001b[38;5;249mu\u001b[0m\u001b[38;5;249mt\u001b[0m\u001b[38;5;249ma\u001b[0m\u001b[38;5;249mb\u001b[0m\u001b[38;5;249ml\u001b[0m\u001b[38;5;249me\u001b[0m\u001b[38;5;249m \u001b[0m\u001b[38;5;249mn\u001b[0m\u001b[38;5;249mu\u001b[0m\u001b[38;5;249mm\u001b[0m\u001b[38;5;249m_\u001b[0m\u001b[38;5;249mr\u001b[0m\u001b[38;5;249me\u001b[0m\u001b[38;5;249mf\u001b[0m\u001b[38;5;249m \u001b[0m\u001b[38;5;249me\u001b[0m\u001b[38;5;249mt\u001b[0m\u001b[38;5;249ma\u001b[0m\u001b[38;5;249mi\u001b[0m\u001b[38;5;249mt\u001b[0m\u001b[38;5;249m \u001b[0m\u001b[38;5;249mt\u001b[0m\u001b[38;5;249mo\u001b[0m\u001b[38;5;249mu\u001b[0m\u001b[38;5;249mj\u001b[0m\u001b[38;5;249mo\u001b[0m\u001b[38;5;249mu\u001b[0m\u001b[38;5;249mr\u001b[0m\u001b[38;5;249ms\u001b[0m\u001b[38;5;249m \u001b[0m\u001b[38;5;249me\u001b[0m\u001b[38;5;249mn\u001b[0m\u001b[38;5;249m \u001b[0m\u001b[38;5;249mv\u001b[0m\u001b[38;5;249mi\u001b[0m\u001b[38;5;249me\u001b[0m\u001b[38;5;249m \u001b[0m\u001b[38;5;249mp\u001b[0m\u001b[38;5;249mu\u001b[0m\u001b[38;5;249mi\u001b[0m\u001b[38;5;249ms\u001b[0m\u001b[38;5;249mq\u001b[0m\u001b[38;5;249mu\u001b[0m\u001b[38;5;249me\u001b[0m\u001b[38;5;249m \u001b[0m\u001b[38;5;249mj\u001b[0m\u001b[38;5;249me\u001b[0m\u001b[38;5;249m \u001b[0m\u001b[38;5;249ml\u001b[0m\u001b[38;5;249m'\u001b[0m\u001b[38;5;249mu\u001b[0m\u001b[38;5;249mt\u001b[0m\u001b[38;5;249mi\u001b[0m\u001b[38;5;249ml\u001b[0m\u001b[38;5;249mi\u001b[0m\u001b[38;5;249ms\u001b[0m\u001b[38;5;249me\u001b[0m\u001b[38;5;249m \u001b[0m\u001b[38;5;249mi\u001b[0m\u001b[38;5;249mc\u001b[0m\u001b[38;5;249mi\u001b[0m\u001b[38;5;249m.\u001b[0m",
      " \u001b[38;5;246m  ·\u001b[0m     \u001b[38;5;68m─\u001b[0m\u001b[38;5;68m─\u001b[0m\u001b[38;5;68m─\u001b[0m\u001b[38;5;68m─\u001b[0m\u001b[38;5;68m─\u001b[0m\u001b[38;5;68m─\u001b[0m\u001b[38;5;68m┬\u001b[0m\u001b[38;5;68m─\u001b[0m\u001b[38;5;68m─\u001b[0m\u001b[38;5;68m─\u001b[0m\u001b[38;5;68m─\u001b[0m\u001b[38;5;68m─\u001b[0m  ",
      " \u001b[38;5;246m  ·\u001b[0m           \u001b[38;5;68m╰\u001b[0m\u001b[38;5;68m─\u001b[0m\u001b[38;5;68m─\u001b[0m\u001b[38;5;68m─\u001b[0m\u001b[38;5;68m─\u001b[0m\u001b[38;5;68m─\u001b[0m\u001b[38;5;68m─\u001b[0m\u001b[38;5;68m─\u001b[0m borrow later used here",
      "\u001b[38;5;246m───╯\u001b[0m"
     ]
    }
   ],
   "source": [
    "{\n",
    "    let mut num = 5;\n",
    "    let num_ref = &mut num;\n",
    "    dbg!(num);\n",
    "    *num_ref = 6; // la ref mutable `num_ref` etait toujours en vie puisque je l'utilise ici.\n",
    "}"
   ]
  },
  {
   "cell_type": "markdown",
   "id": "domestic-franchise",
   "metadata": {
    "deletable": false,
    "editable": false
   },
   "source": [
    "- Ici, après avoir déclaré l'entier num, on donne la garantie de l’exclusivité sur l'espace mémoire de num a la référence mutable num_ref :\n",
    "```\n",
    "    let mut num = 5;\n",
    "    let num_ref = &mut num;\n",
    "```\n",
    "- Puis on tente d’accéder (pourtant seulement en lecture) a num....\n",
    "```\n",
    "dbg!(num);\n",
    "```\n",
    "- ... alors que la référence mutable num_ref vit toujours ici, à la fin du code.\n",
    "```\n",
    "    *num_ref = 6;\n",
    "```\n",
    "\n",
    "- J'ai deux facons de corriger ce code :"
   ]
  },
  {
   "cell_type": "markdown",
   "id": "weighted-audience",
   "metadata": {
    "deletable": false,
    "editable": false
   },
   "source": [
    "#### L'acces exclusif via ma référence mutable\n",
    "\n",
    "- Je respecte la règle et je n'accède a la variable seulement via la référence mutable num_ref :"
   ]
  },
  {
   "cell_type": "code",
   "execution_count": 40,
   "id": "younger-trainer",
   "metadata": {
    "deletable": false,
    "editable": false
   },
   "outputs": [
    {
     "name": "stderr",
     "output_type": "stream",
     "text": [
      "[src/lib.rs:162] *num_ref = 5\n"
     ]
    },
    {
     "data": {
      "text/plain": [
       "()"
      ]
     },
     "execution_count": 40,
     "metadata": {},
     "output_type": "execute_result"
    }
   ],
   "source": [
    "{\n",
    "    let mut num = 5;\n",
    "    let num_ref = &mut num;\n",
    "    dbg!(*num_ref); // J'utilise ma reference mutable pour acceder a la variable. \n",
    "    *num_ref = 6;\n",
    "}"
   ]
  },
  {
   "cell_type": "markdown",
   "id": "thrown-holly",
   "metadata": {
    "deletable": false,
    "editable": false
   },
   "source": [
    "> On peut généraliser cela à tous les cas de figure, dès que l'on a une référence mutable sur quelque chose, l’exclusivité doit être garantie. Que ce soit vis-à-vis d'autres références mutables ou même non-mutables !"
   ]
  },
  {
   "cell_type": "markdown",
   "id": "crazy-mount",
   "metadata": {
    "deletable": false,
    "editable": false
   },
   "source": [
    "- Le code n'aurait pas fonctionné non plus si j'avais tenté un accès via une autre référence, non mutable cette fois:"
   ]
  },
  {
   "cell_type": "code",
   "execution_count": 3,
   "id": "dietary-frame",
   "metadata": {
    "deletable": false,
    "editable": false
   },
   "outputs": [
    {
     "ename": "Error",
     "evalue": "cannot borrow `num` as mutable because it is also borrowed as immutable",
     "output_type": "error",
     "traceback": [
      "\u001b[31m[E0502] Error:\u001b[0m cannot borrow `num` as mutable because it is also borrowed as immutable",
      "   \u001b[38;5;246m╭\u001b[0m\u001b[38;5;246m─\u001b[0m\u001b[38;5;246m[\u001b[0mcommand_3:1:1\u001b[38;5;246m]\u001b[0m",
      "   \u001b[38;5;246m│\u001b[0m",
      " \u001b[38;5;246m3 │\u001b[0m \u001b[38;5;249m \u001b[0m\u001b[38;5;249m \u001b[0m\u001b[38;5;249m \u001b[0m\u001b[38;5;249m \u001b[0m\u001b[38;5;249ml\u001b[0m\u001b[38;5;249me\u001b[0m\u001b[38;5;249mt\u001b[0m\u001b[38;5;249m \u001b[0m\u001b[38;5;249mi\u001b[0m\u001b[38;5;249mm\u001b[0m\u001b[38;5;249mu\u001b[0m\u001b[38;5;249mt\u001b[0m\u001b[38;5;249ma\u001b[0m\u001b[38;5;249mb\u001b[0m\u001b[38;5;249ml\u001b[0m\u001b[38;5;249me\u001b[0m\u001b[38;5;249m_\u001b[0m\u001b[38;5;249mr\u001b[0m\u001b[38;5;249me\u001b[0m\u001b[38;5;249mf\u001b[0m\u001b[38;5;249m \u001b[0m\u001b[38;5;249m=\u001b[0m\u001b[38;5;249m \u001b[0m\u001b[38;5;100m&\u001b[0m\u001b[38;5;100mn\u001b[0m\u001b[38;5;100mu\u001b[0m\u001b[38;5;100mm\u001b[0m\u001b[38;5;249m;\u001b[0m",
      " \u001b[38;5;246m  ·\u001b[0m                        \u001b[38;5;100m─\u001b[0m\u001b[38;5;100m─\u001b[0m\u001b[38;5;100m┬\u001b[0m\u001b[38;5;100m─\u001b[0m  ",
      " \u001b[38;5;246m  ·\u001b[0m                          \u001b[38;5;100m╰\u001b[0m\u001b[38;5;100m─\u001b[0m\u001b[38;5;100m─\u001b[0m\u001b[38;5;100m─\u001b[0m immutable borrow occurs here",
      " \u001b[38;5;246m4 │\u001b[0m \u001b[38;5;249m \u001b[0m\u001b[38;5;249m \u001b[0m\u001b[38;5;249m \u001b[0m\u001b[38;5;249m \u001b[0m\u001b[38;5;249ml\u001b[0m\u001b[38;5;249me\u001b[0m\u001b[38;5;249mt\u001b[0m\u001b[38;5;249m \u001b[0m\u001b[38;5;249mn\u001b[0m\u001b[38;5;249mu\u001b[0m\u001b[38;5;249mm\u001b[0m\u001b[38;5;249m_\u001b[0m\u001b[38;5;249mr\u001b[0m\u001b[38;5;249me\u001b[0m\u001b[38;5;249mf\u001b[0m\u001b[38;5;249m \u001b[0m\u001b[38;5;249m=\u001b[0m\u001b[38;5;249m \u001b[0m\u001b[38;5;54m&\u001b[0m\u001b[38;5;54mm\u001b[0m\u001b[38;5;54mu\u001b[0m\u001b[38;5;54mt\u001b[0m\u001b[38;5;54m \u001b[0m\u001b[38;5;54mn\u001b[0m\u001b[38;5;54mu\u001b[0m\u001b[38;5;54mm\u001b[0m\u001b[38;5;249m;\u001b[0m",
      " \u001b[38;5;246m  ·\u001b[0m                   \u001b[38;5;54m─\u001b[0m\u001b[38;5;54m─\u001b[0m\u001b[38;5;54m─\u001b[0m\u001b[38;5;54m─\u001b[0m\u001b[38;5;54m┬\u001b[0m\u001b[38;5;54m─\u001b[0m\u001b[38;5;54m─\u001b[0m\u001b[38;5;54m─\u001b[0m  ",
      " \u001b[38;5;246m  ·\u001b[0m                       \u001b[38;5;54m╰\u001b[0m\u001b[38;5;54m─\u001b[0m\u001b[38;5;54m─\u001b[0m\u001b[38;5;54m─\u001b[0m\u001b[38;5;54m─\u001b[0m\u001b[38;5;54m─\u001b[0m mutable borrow occurs here",
      " \u001b[38;5;246m5 │\u001b[0m \u001b[38;5;249m \u001b[0m\u001b[38;5;249m \u001b[0m\u001b[38;5;249m \u001b[0m\u001b[38;5;249m \u001b[0m\u001b[38;5;249md\u001b[0m\u001b[38;5;249mb\u001b[0m\u001b[38;5;249mg\u001b[0m\u001b[38;5;249m!\u001b[0m\u001b[38;5;249m(\u001b[0m\u001b[38;5;68m*\u001b[0m\u001b[38;5;68mi\u001b[0m\u001b[38;5;68mm\u001b[0m\u001b[38;5;68mu\u001b[0m\u001b[38;5;68mt\u001b[0m\u001b[38;5;68ma\u001b[0m\u001b[38;5;68mb\u001b[0m\u001b[38;5;68ml\u001b[0m\u001b[38;5;68me\u001b[0m\u001b[38;5;68m_\u001b[0m\u001b[38;5;68mr\u001b[0m\u001b[38;5;68me\u001b[0m\u001b[38;5;68mf\u001b[0m\u001b[38;5;249m)\u001b[0m\u001b[38;5;249m;\u001b[0m\u001b[38;5;249m \u001b[0m\u001b[38;5;249m/\u001b[0m\u001b[38;5;249m/\u001b[0m\u001b[38;5;249m \u001b[0m\u001b[38;5;249mJ\u001b[0m\u001b[38;5;249m'\u001b[0m\u001b[38;5;249mu\u001b[0m\u001b[38;5;249mt\u001b[0m\u001b[38;5;249mi\u001b[0m\u001b[38;5;249ml\u001b[0m\u001b[38;5;249mi\u001b[0m\u001b[38;5;249ms\u001b[0m\u001b[38;5;249me\u001b[0m\u001b[38;5;249m \u001b[0m\u001b[38;5;249mm\u001b[0m\u001b[38;5;249ma\u001b[0m\u001b[38;5;249m \u001b[0m\u001b[38;5;249mr\u001b[0m\u001b[38;5;249me\u001b[0m\u001b[38;5;249mf\u001b[0m\u001b[38;5;249me\u001b[0m\u001b[38;5;249mr\u001b[0m\u001b[38;5;249me\u001b[0m\u001b[38;5;249mn\u001b[0m\u001b[38;5;249mc\u001b[0m\u001b[38;5;249me\u001b[0m\u001b[38;5;249m \u001b[0m\u001b[38;5;249mm\u001b[0m\u001b[38;5;249mu\u001b[0m\u001b[38;5;249mt\u001b[0m\u001b[38;5;249ma\u001b[0m\u001b[38;5;249mb\u001b[0m\u001b[38;5;249ml\u001b[0m\u001b[38;5;249me\u001b[0m\u001b[38;5;249m \u001b[0m\u001b[38;5;249mp\u001b[0m\u001b[38;5;249mo\u001b[0m\u001b[38;5;249mu\u001b[0m\u001b[38;5;249mr\u001b[0m\u001b[38;5;249m \u001b[0m\u001b[38;5;249ma\u001b[0m\u001b[38;5;249mc\u001b[0m\u001b[38;5;249mc\u001b[0m\u001b[38;5;249me\u001b[0m\u001b[38;5;249md\u001b[0m\u001b[38;5;249me\u001b[0m\u001b[38;5;249mr\u001b[0m\u001b[38;5;249m \u001b[0m\u001b[38;5;249ma\u001b[0m\u001b[38;5;249m \u001b[0m\u001b[38;5;249ml\u001b[0m\u001b[38;5;249ma\u001b[0m\u001b[38;5;249m \u001b[0m\u001b[38;5;249mv\u001b[0m\u001b[38;5;249ma\u001b[0m\u001b[38;5;249mr\u001b[0m\u001b[38;5;249mi\u001b[0m\u001b[38;5;249ma\u001b[0m\u001b[38;5;249mb\u001b[0m\u001b[38;5;249ml\u001b[0m\u001b[38;5;249me\u001b[0m\u001b[38;5;249m.\u001b[0m",
      " \u001b[38;5;246m  ·\u001b[0m          \u001b[38;5;68m─\u001b[0m\u001b[38;5;68m─\u001b[0m\u001b[38;5;68m─\u001b[0m\u001b[38;5;68m─\u001b[0m\u001b[38;5;68m─\u001b[0m\u001b[38;5;68m─\u001b[0m\u001b[38;5;68m┬\u001b[0m\u001b[38;5;68m─\u001b[0m\u001b[38;5;68m─\u001b[0m\u001b[38;5;68m─\u001b[0m\u001b[38;5;68m─\u001b[0m\u001b[38;5;68m─\u001b[0m\u001b[38;5;68m─\u001b[0m  ",
      " \u001b[38;5;246m  ·\u001b[0m                \u001b[38;5;68m╰\u001b[0m\u001b[38;5;68m─\u001b[0m\u001b[38;5;68m─\u001b[0m\u001b[38;5;68m─\u001b[0m\u001b[38;5;68m─\u001b[0m\u001b[38;5;68m─\u001b[0m\u001b[38;5;68m─\u001b[0m\u001b[38;5;68m─\u001b[0m\u001b[38;5;68m─\u001b[0m immutable borrow later used here",
      "\u001b[38;5;246m───╯\u001b[0m"
     ]
    }
   ],
   "source": [
    "{\n",
    "    let mut num = 5;\n",
    "    let imutable_ref = &num;\n",
    "    let num_ref = &mut num;\n",
    "    dbg!(*imutable_ref); // J'utilise ma reference mutable pour acceder a la variable. \n",
    "    *num_ref = 6; // num_ref est toujours en vie !\n",
    "}"
   ]
  },
  {
   "cell_type": "markdown",
   "id": "coordinated-starter",
   "metadata": {
    "deletable": false,
    "editable": false
   },
   "source": [
    "#### Laisser mourir ma référence mutable"
   ]
  },
  {
   "cell_type": "markdown",
   "id": "outside-fabric",
   "metadata": {
    "deletable": false,
    "editable": false
   },
   "source": [
    "- Le comportement ne serait pas le même si l'on avait plus tenté d’accéder a num_ref à la fin du code. Pour le compilateur, la référence mutable serait oubliée ou morte."
   ]
  },
  {
   "cell_type": "code",
   "execution_count": 4,
   "id": "initial-magnitude",
   "metadata": {
    "deletable": false,
    "editable": false
   },
   "outputs": [
    {
     "name": "stderr",
     "output_type": "stream",
     "text": [
      "[src/lib.rs:25] num = 5\n"
     ]
    },
    {
     "data": {
      "text/plain": [
       "()"
      ]
     },
     "execution_count": 4,
     "metadata": {},
     "output_type": "execute_result"
    }
   ],
   "source": [
    "{\n",
    "    let mut num = 5;\n",
    "    let num_ref = &mut num;\n",
    "    dbg!(num); // la reference num_ref n'etant pas utilisee dans la suite du code, elle n'existe deja plus ! \n",
    "    // *num_ref = 6;\n",
    "}"
   ]
  },
  {
   "cell_type": "markdown",
   "id": "compressed-brain",
   "metadata": {
    "deletable": false,
    "editable": false
   },
   "source": [
    "### L'application de la seconde règle\n",
    "\n",
    "- J'ai une variable mutable et une référence non mutable dessus :"
   ]
  },
  {
   "cell_type": "code",
   "execution_count": 6,
   "id": "soviet-convention",
   "metadata": {
    "deletable": false,
    "editable": false
   },
   "outputs": [
    {
     "ename": "Error",
     "evalue": "cannot assign to `num` because it is borrowed",
     "output_type": "error",
     "traceback": [
      "\u001b[31m[E0506] Error:\u001b[0m cannot assign to `num` because it is borrowed",
      "   \u001b[38;5;246m╭\u001b[0m\u001b[38;5;246m─\u001b[0m\u001b[38;5;246m[\u001b[0mcommand_6:1:1\u001b[38;5;246m]\u001b[0m",
      "   \u001b[38;5;246m│\u001b[0m",
      " \u001b[38;5;246m3 │\u001b[0m \u001b[38;5;249m \u001b[0m\u001b[38;5;249m \u001b[0m\u001b[38;5;249m \u001b[0m\u001b[38;5;249m \u001b[0m\u001b[38;5;249ml\u001b[0m\u001b[38;5;249me\u001b[0m\u001b[38;5;249mt\u001b[0m\u001b[38;5;249m \u001b[0m\u001b[38;5;249mn\u001b[0m\u001b[38;5;249mu\u001b[0m\u001b[38;5;249mm\u001b[0m\u001b[38;5;249m_\u001b[0m\u001b[38;5;249mr\u001b[0m\u001b[38;5;249me\u001b[0m\u001b[38;5;249mf\u001b[0m\u001b[38;5;249m \u001b[0m\u001b[38;5;249m=\u001b[0m\u001b[38;5;249m \u001b[0m\u001b[38;5;54m&\u001b[0m\u001b[38;5;54mn\u001b[0m\u001b[38;5;54mu\u001b[0m\u001b[38;5;54mm\u001b[0m\u001b[38;5;249m;\u001b[0m\u001b[38;5;249m \u001b[0m\u001b[38;5;249m/\u001b[0m\u001b[38;5;249m/\u001b[0m\u001b[38;5;249m \u001b[0m\u001b[38;5;249mr\u001b[0m\u001b[38;5;249me\u001b[0m\u001b[38;5;249mf\u001b[0m\u001b[38;5;249me\u001b[0m\u001b[38;5;249mr\u001b[0m\u001b[38;5;249me\u001b[0m\u001b[38;5;249mn\u001b[0m\u001b[38;5;249mc\u001b[0m\u001b[38;5;249me\u001b[0m\u001b[38;5;249m \u001b[0m\u001b[38;5;249mn\u001b[0m\u001b[38;5;249mo\u001b[0m\u001b[38;5;249mn\u001b[0m\u001b[38;5;249m \u001b[0m\u001b[38;5;249mm\u001b[0m\u001b[38;5;249mu\u001b[0m\u001b[38;5;249mt\u001b[0m\u001b[38;5;249ma\u001b[0m\u001b[38;5;249mb\u001b[0m\u001b[38;5;249ml\u001b[0m\u001b[38;5;249me\u001b[0m",
      " \u001b[38;5;246m  ·\u001b[0m                   \u001b[38;5;54m─\u001b[0m\u001b[38;5;54m─\u001b[0m\u001b[38;5;54m┬\u001b[0m\u001b[38;5;54m─\u001b[0m  ",
      " \u001b[38;5;246m  ·\u001b[0m                     \u001b[38;5;54m╰\u001b[0m\u001b[38;5;54m─\u001b[0m\u001b[38;5;54m─\u001b[0m\u001b[38;5;54m─\u001b[0m borrow of `num` occurs here",
      " \u001b[38;5;246m4 │\u001b[0m \u001b[38;5;249m \u001b[0m\u001b[38;5;249m \u001b[0m\u001b[38;5;249m \u001b[0m\u001b[38;5;249m \u001b[0m\u001b[38;5;100mn\u001b[0m\u001b[38;5;100mu\u001b[0m\u001b[38;5;100mm\u001b[0m\u001b[38;5;100m \u001b[0m\u001b[38;5;100m+\u001b[0m\u001b[38;5;100m=\u001b[0m\u001b[38;5;100m \u001b[0m\u001b[38;5;100m1\u001b[0m\u001b[38;5;249m;\u001b[0m\u001b[38;5;249m \u001b[0m\u001b[38;5;249m/\u001b[0m\u001b[38;5;249m/\u001b[0m\u001b[38;5;249m \u001b[0m\u001b[38;5;249mM\u001b[0m\u001b[38;5;249mo\u001b[0m\u001b[38;5;249md\u001b[0m\u001b[38;5;249mi\u001b[0m\u001b[38;5;249mf\u001b[0m\u001b[38;5;249mi\u001b[0m\u001b[38;5;249mc\u001b[0m\u001b[38;5;249ma\u001b[0m\u001b[38;5;249mt\u001b[0m\u001b[38;5;249mi\u001b[0m\u001b[38;5;249mo\u001b[0m\u001b[38;5;249mn\u001b[0m\u001b[38;5;249m \u001b[0m\u001b[38;5;249md\u001b[0m\u001b[38;5;249me\u001b[0m\u001b[38;5;249m \u001b[0m\u001b[38;5;249ml\u001b[0m\u001b[38;5;249ma\u001b[0m\u001b[38;5;249m \u001b[0m\u001b[38;5;249mv\u001b[0m\u001b[38;5;249ma\u001b[0m\u001b[38;5;249mr\u001b[0m\u001b[38;5;249mi\u001b[0m\u001b[38;5;249ma\u001b[0m\u001b[38;5;249mb\u001b[0m\u001b[38;5;249ml\u001b[0m\u001b[38;5;249me\u001b[0m\u001b[38;5;249m \u001b[0m\u001b[38;5;249ma\u001b[0m\u001b[38;5;249mu\u001b[0m\u001b[38;5;249m \u001b[0m\u001b[38;5;249mn\u001b[0m\u001b[38;5;249me\u001b[0m\u001b[38;5;249mz\u001b[0m\u001b[38;5;249m \u001b[0m\u001b[38;5;249me\u001b[0m\u001b[38;5;249mt\u001b[0m\u001b[38;5;249m \u001b[0m\u001b[38;5;249ma\u001b[0m\u001b[38;5;249m \u001b[0m\u001b[38;5;249ml\u001b[0m\u001b[38;5;249ma\u001b[0m\u001b[38;5;249m \u001b[0m\u001b[38;5;249mb\u001b[0m\u001b[38;5;249ma\u001b[0m\u001b[38;5;249mr\u001b[0m\u001b[38;5;249mb\u001b[0m\u001b[38;5;249me\u001b[0m\u001b[38;5;249m \u001b[0m\u001b[38;5;249md\u001b[0m\u001b[38;5;249me\u001b[0m\u001b[38;5;249m \u001b[0m\u001b[38;5;249ml\u001b[0m\u001b[38;5;249ma\u001b[0m\u001b[38;5;249m \u001b[0m\u001b[38;5;249mr\u001b[0m\u001b[38;5;249me\u001b[0m\u001b[38;5;249mf\u001b[0m\u001b[38;5;249me\u001b[0m\u001b[38;5;249mr\u001b[0m\u001b[38;5;249me\u001b[0m\u001b[38;5;249mn\u001b[0m\u001b[38;5;249mc\u001b[0m\u001b[38;5;249me\u001b[0m\u001b[38;5;249m \u001b[0m\u001b[38;5;249mn\u001b[0m\u001b[38;5;249mo\u001b[0m\u001b[38;5;249mn\u001b[0m\u001b[38;5;249m \u001b[0m\u001b[38;5;249mm\u001b[0m\u001b[38;5;249mu\u001b[0m\u001b[38;5;249mt\u001b[0m\u001b[38;5;249ma\u001b[0m\u001b[38;5;249mb\u001b[0m\u001b[38;5;249ml\u001b[0m\u001b[38;5;249me\u001b[0m\u001b[38;5;249m \u001b[0m\u001b[38;5;249mn\u001b[0m\u001b[38;5;249mu\u001b[0m\u001b[38;5;249mm\u001b[0m\u001b[38;5;249m_\u001b[0m\u001b[38;5;249mr\u001b[0m\u001b[38;5;249me\u001b[0m\u001b[38;5;249mf\u001b[0m\u001b[38;5;249m \u001b[0m\u001b[38;5;249m.\u001b[0m\u001b[38;5;249m.\u001b[0m\u001b[38;5;249m.\u001b[0m",
      " \u001b[38;5;246m  ·\u001b[0m     \u001b[38;5;100m─\u001b[0m\u001b[38;5;100m─\u001b[0m\u001b[38;5;100m─\u001b[0m\u001b[38;5;100m─\u001b[0m\u001b[38;5;100m┬\u001b[0m\u001b[38;5;100m─\u001b[0m\u001b[38;5;100m─\u001b[0m\u001b[38;5;100m─\u001b[0m  ",
      " \u001b[38;5;246m  ·\u001b[0m         \u001b[38;5;100m╰\u001b[0m\u001b[38;5;100m─\u001b[0m\u001b[38;5;100m─\u001b[0m\u001b[38;5;100m─\u001b[0m\u001b[38;5;100m─\u001b[0m\u001b[38;5;100m─\u001b[0m assignment to borrowed `num` occurs here",
      " \u001b[38;5;246m5 │\u001b[0m \u001b[38;5;249m \u001b[0m\u001b[38;5;249m \u001b[0m\u001b[38;5;249m \u001b[0m\u001b[38;5;249m \u001b[0m\u001b[38;5;249md\u001b[0m\u001b[38;5;249mb\u001b[0m\u001b[38;5;249mg\u001b[0m\u001b[38;5;249m!\u001b[0m\u001b[38;5;249m(\u001b[0m\u001b[38;5;68mn\u001b[0m\u001b[38;5;68mu\u001b[0m\u001b[38;5;68mm\u001b[0m\u001b[38;5;68m_\u001b[0m\u001b[38;5;68mr\u001b[0m\u001b[38;5;68me\u001b[0m\u001b[38;5;68mf\u001b[0m\u001b[38;5;249m)\u001b[0m\u001b[38;5;249m;\u001b[0m\u001b[38;5;249m \u001b[0m\u001b[38;5;249m/\u001b[0m\u001b[38;5;249m/\u001b[0m\u001b[38;5;249m \u001b[0m\u001b[38;5;249mL\u001b[0m\u001b[38;5;249ma\u001b[0m\u001b[38;5;249m \u001b[0m\u001b[38;5;249mr\u001b[0m\u001b[38;5;249me\u001b[0m\u001b[38;5;249mf\u001b[0m\u001b[38;5;249me\u001b[0m\u001b[38;5;249mr\u001b[0m\u001b[38;5;249me\u001b[0m\u001b[38;5;249mn\u001b[0m\u001b[38;5;249mc\u001b[0m\u001b[38;5;249me\u001b[0m\u001b[38;5;249m \u001b[0m\u001b[38;5;249mn\u001b[0m\u001b[38;5;249mo\u001b[0m\u001b[38;5;249mn\u001b[0m\u001b[38;5;249m-\u001b[0m\u001b[38;5;249mm\u001b[0m\u001b[38;5;249mu\u001b[0m\u001b[38;5;249mt\u001b[0m\u001b[38;5;249ma\u001b[0m\u001b[38;5;249mb\u001b[0m\u001b[38;5;249ml\u001b[0m\u001b[38;5;249me\u001b[0m\u001b[38;5;249m \u001b[0m\u001b[38;5;249me\u001b[0m\u001b[38;5;249ms\u001b[0m\u001b[38;5;249mt\u001b[0m\u001b[38;5;249m \u001b[0m\u001b[38;5;249mt\u001b[0m\u001b[38;5;249mo\u001b[0m\u001b[38;5;249mu\u001b[0m\u001b[38;5;249mj\u001b[0m\u001b[38;5;249mo\u001b[0m\u001b[38;5;249mu\u001b[0m\u001b[38;5;249mr\u001b[0m\u001b[38;5;249ms\u001b[0m\u001b[38;5;249m \u001b[0m\u001b[38;5;249me\u001b[0m\u001b[38;5;249mn\u001b[0m\u001b[38;5;249m \u001b[0m\u001b[38;5;249mv\u001b[0m\u001b[38;5;249mi\u001b[0m\u001b[38;5;249me\u001b[0m\u001b[38;5;249m \u001b[0m\u001b[38;5;249m!\u001b[0m",
      " \u001b[38;5;246m  ·\u001b[0m          \u001b[38;5;68m─\u001b[0m\u001b[38;5;68m─\u001b[0m\u001b[38;5;68m─\u001b[0m\u001b[38;5;68m┬\u001b[0m\u001b[38;5;68m─\u001b[0m\u001b[38;5;68m─\u001b[0m\u001b[38;5;68m─\u001b[0m  ",
      " \u001b[38;5;246m  ·\u001b[0m             \u001b[38;5;68m╰\u001b[0m\u001b[38;5;68m─\u001b[0m\u001b[38;5;68m─\u001b[0m\u001b[38;5;68m─\u001b[0m\u001b[38;5;68m─\u001b[0m\u001b[38;5;68m─\u001b[0m borrow later used here",
      "\u001b[38;5;246m───╯\u001b[0m"
     ]
    }
   ],
   "source": [
    "{\n",
    "    let mut num = 5;\n",
    "    let num_ref = &num; // reference non mutable\n",
    "    num += 1; // Modification de la variable au nez et a la barbe de la reference non mutable num_ref ...\n",
    "    dbg!(num_ref); // La reference non-mutable est toujours en vie !\n",
    "    dbg!(num);\n",
    "}"
   ]
  },
  {
   "cell_type": "markdown",
   "id": "complete-netherlands",
   "metadata": {
    "deletable": false,
    "editable": false
   },
   "source": [
    "- La solution consiste à ne pas modifier ma variable tant que la référence non mutable vit :"
   ]
  },
  {
   "cell_type": "code",
   "execution_count": 10,
   "id": "greater-headline",
   "metadata": {
    "deletable": false,
    "editable": false
   },
   "outputs": [
    {
     "name": "stderr",
     "output_type": "stream",
     "text": [
      "[src/lib.rs:25] num_ref = 5\n",
      "[src/lib.rs:27] num = 6\n"
     ]
    },
    {
     "data": {
      "text/plain": [
       "()"
      ]
     },
     "execution_count": 10,
     "metadata": {},
     "output_type": "execute_result"
    }
   ],
   "source": [
    "{\n",
    "    let mut num = 5;\n",
    "    let num_ref = &num; // reference non mutable\n",
    "    dbg!(num_ref);\n",
    "    num += 1; // la reference num_ref n'existe plus parce que non utilisee dans le code qui suit. je peux donc.\n",
    "    dbg!(num);\n",
    "}"
   ]
  },
  {
   "cell_type": "markdown",
   "id": "armed-barbados",
   "metadata": {
    "deletable": false,
    "editable": false
   },
   "source": [
    "> Tant qu'une référence non mutable est vivante, l'objet ne peut être modifié par aucun moyen (sauf code unsafe)"
   ]
  },
  {
   "cell_type": "markdown",
   "id": "private-liquid",
   "metadata": {
    "deletable": false,
    "editable": false
   },
   "source": [
    "### Et si rien n'est mutable\n",
    "\n",
    "- Cependant si je n'ai que des références non-mutables sur un type non mutable, la règle ne s'applique pas, et je peux en avoir plusieurs :"
   ]
  },
  {
   "cell_type": "code",
   "execution_count": 38,
   "id": "dressed-matthew",
   "metadata": {
    "deletable": false,
    "editable": false
   },
   "outputs": [
    {
     "name": "stderr",
     "output_type": "stream",
     "text": [
      "[src/lib.rs:164] imutable_ref_1 = 5\n",
      "[src/lib.rs:165] imutable_ref_2 = 5\n",
      "[src/lib.rs:166] imutable_ref_3 = 5\n",
      "[src/lib.rs:167] num = 5\n"
     ]
    },
    {
     "data": {
      "text/plain": [
       "()"
      ]
     },
     "execution_count": 38,
     "metadata": {},
     "output_type": "execute_result"
    }
   ],
   "source": [
    "{\n",
    "    let num = 5;\n",
    "    let imutable_ref_1 = &num;\n",
    "    let imutable_ref_2 = &num;\n",
    "    let imutable_ref_3 = imutable_ref_2;\n",
    "    dbg!(imutable_ref_1);\n",
    "    dbg!(imutable_ref_2);\n",
    "    dbg!(imutable_ref_3);\n",
    "    dbg!(num);\n",
    "}"
   ]
  },
  {
   "cell_type": "markdown",
   "id": "blocked-antarctica",
   "metadata": {
    "deletable": false,
    "editable": false
   },
   "source": [
    "### Les structures et leurs membres\n",
    "\n",
    "- Enfin, il est important de souligner que dans le cas d'une structure, on peut avoir des références mutables sur chacun de ses membres, du moins tant qu'il n'y a pas de référence sur la structure elle-même :"
   ]
  },
  {
   "cell_type": "code",
   "execution_count": 44,
   "id": "colonial-mambo",
   "metadata": {
    "deletable": false,
    "editable": false
   },
   "outputs": [
    {
     "name": "stderr",
     "output_type": "stream",
     "text": [
      "[src/lib.rs:176] s = S {\n",
      "    i: -21,\n",
      "    j: -22,\n",
      "}\n"
     ]
    },
    {
     "data": {
      "text/plain": [
       "()"
      ]
     },
     "execution_count": 44,
     "metadata": {},
     "output_type": "execute_result"
    }
   ],
   "source": [
    "{\n",
    "    #[derive(Debug)]\n",
    "    struct S {\n",
    "        i: isize,\n",
    "        j: isize,\n",
    "    }\n",
    "    let mut s = S {\n",
    "        i: 3,\n",
    "        j: 4,\n",
    "    };\n",
    "    let ref_i = &mut s.i; // Une reference mutable sur le membre i\n",
    "    let ref_j = &mut s.j; // Une reference mutable sur le membre j\n",
    "    *ref_i = -11;\n",
    "    *ref_j = -12;\n",
    "    // dbg!(s);           // Il y a encore des references mutables, donc ca je ne peux pas faire...\n",
    "    *ref_i = -21;\n",
    "    *ref_j = -22;\n",
    "    dbg!(s);              // Plus de reference mutable ici ne vit, je peux acceder a ma structure.\n",
    "}"
   ]
  },
  {
   "cell_type": "markdown",
   "id": "sixth-webmaster",
   "metadata": {
    "deletable": false,
    "editable": false
   },
   "source": [
    "- Par contre, si je cherche à emprunter une référence mutable sur ma structure entière après avoir déjà emprunté un de ses membres, les règles d'exclusivité s'appliqueront et mon programme ne pourra pas compiler :"
   ]
  },
  {
   "cell_type": "code",
   "execution_count": 45,
   "id": "flying-slave",
   "metadata": {
    "deletable": false,
    "editable": false
   },
   "outputs": [
    {
     "ename": "Error",
     "evalue": "unused variable: `ref_s`",
     "output_type": "error",
     "traceback": [
      "\u001b[31m[unused_variables] Error:\u001b[0m unused variable: `ref_s`",
      "    \u001b[38;5;246m╭\u001b[0m\u001b[38;5;246m─\u001b[0m\u001b[38;5;246m[\u001b[0mcommand_45:1:1\u001b[38;5;246m]\u001b[0m",
      "    \u001b[38;5;246m│\u001b[0m",
      " \u001b[38;5;246m12 │\u001b[0m \u001b[38;5;249m \u001b[0m\u001b[38;5;249m \u001b[0m\u001b[38;5;249m \u001b[0m\u001b[38;5;249m \u001b[0m\u001b[38;5;249ml\u001b[0m\u001b[38;5;249me\u001b[0m\u001b[38;5;249mt\u001b[0m\u001b[38;5;249m \u001b[0m\u001b[38;5;54mr\u001b[0m\u001b[38;5;54me\u001b[0m\u001b[38;5;54mf\u001b[0m\u001b[38;5;54m_\u001b[0m\u001b[38;5;54ms\u001b[0m\u001b[38;5;249m \u001b[0m\u001b[38;5;249m=\u001b[0m\u001b[38;5;249m \u001b[0m\u001b[38;5;249m&\u001b[0m\u001b[38;5;249mm\u001b[0m\u001b[38;5;249mu\u001b[0m\u001b[38;5;249mt\u001b[0m\u001b[38;5;249m \u001b[0m\u001b[38;5;249ms\u001b[0m\u001b[38;5;249m;\u001b[0m",
      " \u001b[38;5;246m   ·\u001b[0m         \u001b[38;5;54m─\u001b[0m\u001b[38;5;54m─\u001b[0m\u001b[38;5;54m┬\u001b[0m\u001b[38;5;54m─\u001b[0m\u001b[38;5;54m─\u001b[0m  ",
      " \u001b[38;5;246m   ·\u001b[0m           \u001b[38;5;54m╰\u001b[0m\u001b[38;5;54m─\u001b[0m\u001b[38;5;54m─\u001b[0m\u001b[38;5;54m─\u001b[0m\u001b[38;5;54m─\u001b[0m warning: unused variable: `ref_s`",
      " \u001b[38;5;246m   ·\u001b[0m           \u001b[38;5;100m│\u001b[0m    ",
      " \u001b[38;5;246m   ·\u001b[0m           \u001b[38;5;100m╰\u001b[0m\u001b[38;5;100m─\u001b[0m\u001b[38;5;100m─\u001b[0m\u001b[38;5;100m─\u001b[0m\u001b[38;5;100m─\u001b[0m help: if this is intentional, prefix it with an underscore: `_ref_s`",
      "\u001b[38;5;246m────╯\u001b[0m"
     ]
    },
    {
     "ename": "Error",
     "evalue": "cannot borrow `s` as mutable more than once at a time",
     "output_type": "error",
     "traceback": [
      "\u001b[31m[E0499] Error:\u001b[0m cannot borrow `s` as mutable more than once at a time",
      "    \u001b[38;5;246m╭\u001b[0m\u001b[38;5;246m─\u001b[0m\u001b[38;5;246m[\u001b[0mcommand_45:1:1\u001b[38;5;246m]\u001b[0m",
      "    \u001b[38;5;246m│\u001b[0m",
      " \u001b[38;5;246m11 │\u001b[0m \u001b[38;5;249m \u001b[0m\u001b[38;5;249m \u001b[0m\u001b[38;5;249m \u001b[0m\u001b[38;5;249m \u001b[0m\u001b[38;5;249ml\u001b[0m\u001b[38;5;249me\u001b[0m\u001b[38;5;249mt\u001b[0m\u001b[38;5;249m \u001b[0m\u001b[38;5;249mr\u001b[0m\u001b[38;5;249me\u001b[0m\u001b[38;5;249mf\u001b[0m\u001b[38;5;249m_\u001b[0m\u001b[38;5;249mi\u001b[0m\u001b[38;5;249m \u001b[0m\u001b[38;5;249m=\u001b[0m\u001b[38;5;249m \u001b[0m\u001b[38;5;54m&\u001b[0m\u001b[38;5;54mm\u001b[0m\u001b[38;5;54mu\u001b[0m\u001b[38;5;54mt\u001b[0m\u001b[38;5;54m \u001b[0m\u001b[38;5;54ms\u001b[0m\u001b[38;5;54m.\u001b[0m\u001b[38;5;54mi\u001b[0m\u001b[38;5;249m;\u001b[0m\u001b[38;5;249m \u001b[0m\u001b[38;5;249m/\u001b[0m\u001b[38;5;249m/\u001b[0m\u001b[38;5;249m \u001b[0m\u001b[38;5;249mU\u001b[0m\u001b[38;5;249mn\u001b[0m\u001b[38;5;249me\u001b[0m\u001b[38;5;249m \u001b[0m\u001b[38;5;249mr\u001b[0m\u001b[38;5;249me\u001b[0m\u001b[38;5;249mf\u001b[0m\u001b[38;5;249me\u001b[0m\u001b[38;5;249mr\u001b[0m\u001b[38;5;249me\u001b[0m\u001b[38;5;249mn\u001b[0m\u001b[38;5;249mc\u001b[0m\u001b[38;5;249me\u001b[0m\u001b[38;5;249m \u001b[0m\u001b[38;5;249mm\u001b[0m\u001b[38;5;249mu\u001b[0m\u001b[38;5;249mt\u001b[0m\u001b[38;5;249ma\u001b[0m\u001b[38;5;249mb\u001b[0m\u001b[38;5;249ml\u001b[0m\u001b[38;5;249me\u001b[0m\u001b[38;5;249m \u001b[0m\u001b[38;5;249ms\u001b[0m\u001b[38;5;249mu\u001b[0m\u001b[38;5;249mr\u001b[0m\u001b[38;5;249m \u001b[0m\u001b[38;5;249ml\u001b[0m\u001b[38;5;249me\u001b[0m\u001b[38;5;249m \u001b[0m\u001b[38;5;249mm\u001b[0m\u001b[38;5;249me\u001b[0m\u001b[38;5;249mm\u001b[0m\u001b[38;5;249mb\u001b[0m\u001b[38;5;249mr\u001b[0m\u001b[38;5;249me\u001b[0m\u001b[38;5;249m \u001b[0m\u001b[38;5;249mi\u001b[0m",
      " \u001b[38;5;246m   ·\u001b[0m                 \u001b[38;5;54m─\u001b[0m\u001b[38;5;54m─\u001b[0m\u001b[38;5;54m─\u001b[0m\u001b[38;5;54m─\u001b[0m\u001b[38;5;54m┬\u001b[0m\u001b[38;5;54m─\u001b[0m\u001b[38;5;54m─\u001b[0m\u001b[38;5;54m─\u001b[0m  ",
      " \u001b[38;5;246m   ·\u001b[0m                     \u001b[38;5;54m╰\u001b[0m\u001b[38;5;54m─\u001b[0m\u001b[38;5;54m─\u001b[0m\u001b[38;5;54m─\u001b[0m\u001b[38;5;54m─\u001b[0m\u001b[38;5;54m─\u001b[0m first mutable borrow occurs here",
      " \u001b[38;5;246m12 │\u001b[0m \u001b[38;5;249m \u001b[0m\u001b[38;5;249m \u001b[0m\u001b[38;5;249m \u001b[0m\u001b[38;5;249m \u001b[0m\u001b[38;5;249ml\u001b[0m\u001b[38;5;249me\u001b[0m\u001b[38;5;249mt\u001b[0m\u001b[38;5;249m \u001b[0m\u001b[38;5;249mr\u001b[0m\u001b[38;5;249me\u001b[0m\u001b[38;5;249mf\u001b[0m\u001b[38;5;249m_\u001b[0m\u001b[38;5;249ms\u001b[0m\u001b[38;5;249m \u001b[0m\u001b[38;5;249m=\u001b[0m\u001b[38;5;249m \u001b[0m\u001b[38;5;100m&\u001b[0m\u001b[38;5;100mm\u001b[0m\u001b[38;5;100mu\u001b[0m\u001b[38;5;100mt\u001b[0m\u001b[38;5;100m \u001b[0m\u001b[38;5;100ms\u001b[0m\u001b[38;5;249m;\u001b[0m",
      " \u001b[38;5;246m   ·\u001b[0m                 \u001b[38;5;100m─\u001b[0m\u001b[38;5;100m─\u001b[0m\u001b[38;5;100m─\u001b[0m\u001b[38;5;100m┬\u001b[0m\u001b[38;5;100m─\u001b[0m\u001b[38;5;100m─\u001b[0m  ",
      " \u001b[38;5;246m   ·\u001b[0m                    \u001b[38;5;100m╰\u001b[0m\u001b[38;5;100m─\u001b[0m\u001b[38;5;100m─\u001b[0m\u001b[38;5;100m─\u001b[0m\u001b[38;5;100m─\u001b[0m second mutable borrow occurs here",
      " \u001b[38;5;246m13 │\u001b[0m \u001b[38;5;249m \u001b[0m\u001b[38;5;249m \u001b[0m\u001b[38;5;249m \u001b[0m\u001b[38;5;249m \u001b[0m\u001b[38;5;68m*\u001b[0m\u001b[38;5;68mr\u001b[0m\u001b[38;5;68me\u001b[0m\u001b[38;5;68mf\u001b[0m\u001b[38;5;68m_\u001b[0m\u001b[38;5;68mi\u001b[0m\u001b[38;5;68m \u001b[0m\u001b[38;5;68m=\u001b[0m\u001b[38;5;68m \u001b[0m\u001b[38;5;68m-\u001b[0m\u001b[38;5;68m1\u001b[0m\u001b[38;5;68m1\u001b[0m\u001b[38;5;249m;\u001b[0m",
      " \u001b[38;5;246m   ·\u001b[0m     \u001b[38;5;68m─\u001b[0m\u001b[38;5;68m─\u001b[0m\u001b[38;5;68m─\u001b[0m\u001b[38;5;68m─\u001b[0m\u001b[38;5;68m─\u001b[0m\u001b[38;5;68m─\u001b[0m\u001b[38;5;68m┬\u001b[0m\u001b[38;5;68m─\u001b[0m\u001b[38;5;68m─\u001b[0m\u001b[38;5;68m─\u001b[0m\u001b[38;5;68m─\u001b[0m\u001b[38;5;68m─\u001b[0m  ",
      " \u001b[38;5;246m   ·\u001b[0m           \u001b[38;5;68m╰\u001b[0m\u001b[38;5;68m─\u001b[0m\u001b[38;5;68m─\u001b[0m\u001b[38;5;68m─\u001b[0m\u001b[38;5;68m─\u001b[0m\u001b[38;5;68m─\u001b[0m\u001b[38;5;68m─\u001b[0m\u001b[38;5;68m─\u001b[0m first borrow later used here",
      "\u001b[38;5;246m────╯\u001b[0m"
     ]
    }
   ],
   "source": [
    "{\n",
    "    #[derive(Debug)]\n",
    "    struct S {\n",
    "        i: isize,\n",
    "        j: isize,\n",
    "    }\n",
    "    let mut s = S {\n",
    "        i: 3,\n",
    "        j: 4,\n",
    "    };\n",
    "    let ref_i = &mut s.i; // Une reference mutable sur le membre i\n",
    "    let ref_s = &mut s;\n",
    "    *ref_i = -11;\n",
    "}"
   ]
  },
  {
   "cell_type": "markdown",
   "id": "smooth-undergraduate",
   "metadata": {
    "deletable": false,
    "editable": false
   },
   "source": [
    "**NB** *Il est possible de tricher un peu avec ces règles en utilisant le type `RefCell`, nous en parlerons dans un prochain chapitre.*\n",
    "\n",
    "> **N'hesitez pas si vous avez des questions, l'exclusivité des références mutables est un des points des plus délicats à saisir.**"
   ]
  },
  {
   "cell_type": "markdown",
   "id": "suited-swiss",
   "metadata": {
    "deletable": false,
    "editable": false
   },
   "source": [
    "## Les raw pointers\n",
    "\n",
    "- Pour ceux qui voudront faire un peu de FFI avec du code C ou C++, voici un exemple d'utilisation des raw pointeurs en Rust :"
   ]
  },
  {
   "cell_type": "code",
   "execution_count": 58,
   "id": "integral-passing",
   "metadata": {
    "deletable": false,
    "editable": false
   },
   "outputs": [
    {
     "name": "stderr",
     "output_type": "stream",
     "text": [
      "[src/lib.rs:150] ptr = 0x00007fff71b55104\n",
      "[src/lib.rs:154] *ptr = 42\n",
      "[src/lib.rs:163] *ptr = 2\n",
      "[src/lib.rs:164] *ptr.offset(1) = 3\n",
      "[src/lib.rs:165] *ptr.offset(2) = 5\n",
      "[src/lib.rs:167] *ptr.offset(4) = 11\n",
      "[src/lib.rs:166] *ptr.offset(3) = 7\n",
      "[src/lib.rs:168] *ptr.offset(5) = 13\n",
      "Segmentation fault.\n",
      "   0: evcxr::runtime::Runtime::install_crash_handlers::segfault_handler\n",
      "   1: <unknown>\n",
      "   2: <core::panic::unwind_safe::AssertUnwindSafe<F> as core::ops::function::FnOnce<()>>::call_once\n",
      "   3: run_user_code_34\n",
      "   4: evcxr::runtime::Runtime::run_loop\n",
      "   5: evcxr::runtime::runtime_hook\n",
      "   6: evcxr_jupyter::main\n",
      "   7: std::sys_common::backtrace::__rust_begin_short_backtrace\n",
      "   8: std::rt::lang_start::{{closure}}\n",
      "   9: core::ops::function::impls::<impl core::ops::function::FnOnce<A> for &F>::call_once\n",
      "             at /rustc/8460ca823e8367a30dda430efda790588b8c84d3/library/core/src/ops/function.rs:287:13\n",
      "      std::panicking::try::do_call\n",
      "             at /rustc/8460ca823e8367a30dda430efda790588b8c84d3/library/std/src/panicking.rs:483:40\n",
      "      std::panicking::try\n",
      "             at /rustc/8460ca823e8367a30dda430efda790588b8c84d3/library/std/src/panicking.rs:447:19\n",
      "      std::panic::catch_unwind\n",
      "             at /rustc/8460ca823e8367a30dda430efda790588b8c84d3/library/std/src/panic.rs:140:14\n",
      "      std::rt::lang_start_internal::{{closure}}\n",
      "             at /rustc/8460ca823e8367a30dda430efda790588b8c84d3/library/std/src/rt.rs:148:48\n",
      "      std::panicking::try::do_call\n",
      "             at /rustc/8460ca823e8367a30dda430efda790588b8c84d3/library/std/src/panicking.rs:483:40\n",
      "      std::panicking::try\n",
      "             at /rustc/8460ca823e8367a30dda430efda790588b8c84d3/library/std/src/panicking.rs:447:19\n",
      "      std::panic::catch_unwind\n",
      "             at /rustc/8460ca823e8367a30dda430efda790588b8c84d3/library/std/src/panic.rs:140:14\n",
      "      std::rt::lang_start_internal\n",
      "             at /rustc/8460ca823e8367a30dda430efda790588b8c84d3/library/std/src/rt.rs:148:20\n",
      "  10: main\n",
      "  11: __libc_start_main\n",
      "  12: _start\n",
      "\n"
     ]
    },
    {
     "ename": "Error",
     "evalue": "Subprocess terminated with status: signal: 6 (SIGABRT) (core dumped)",
     "output_type": "error",
     "traceback": [
      "Subprocess terminated with status: signal: 6 (SIGABRT) (core dumped)"
     ]
    }
   ],
   "source": [
    "    let mut a: u32 = 42;\n",
    "    let ptr: *const u32 = &mut a;                // Creation d'un raw pointer sur a : Contient l'adresse de a\n",
    "    dbg!(ptr);            // Addresse memoire de a\n",
    "    // Simple, Basique\n",
    "    unsafe {\n",
    "        dbg!(*ptr);       // Contenu de a : unsafe est necessaire ici\n",
    "    }\n",
    "    let prim: [u32; 6] = [2, 3, 5, 7, 11, 13];\n",
    "    let ptr: *const u32 = prim.as_ptr();          // Creation d'un raw pointer sur le tableau\n",
    "    // Le programmeur sait ce qu'il fait ici ...\n",
    "    unsafe {\n",
    "        dbg!(*ptr);\n",
    "        dbg!(*ptr.offset(1));                  // La methode offset modifie l'addresse relativement au pointeur\n",
    "        dbg!(*ptr.offset(2));\n",
    "        dbg!(*ptr.offset(3));\n",
    "        dbg!(*ptr.offset(4));\n",
    "        dbg!(*ptr.offset(5));\n",
    "    }\n",
    "    // ... Ah... Il vient de craquer !\n",
    "    unsafe {\n",
    "        dbg!(*ptr.offset(66224411));\n",
    "    }"
   ]
  },
  {
   "cell_type": "markdown",
   "id": "suitable-electronics",
   "metadata": {
    "deletable": false,
    "editable": false
   },
   "source": [
    "> En effet, la dernière instruction n'est pas ouf :p\n",
    "\n",
    "> **NB** En cas de crash d'un programme, les parties de code notées **unsafe** doivent être regardées en premier, les erreurs viennent de là."
   ]
  },
  {
   "cell_type": "markdown",
   "id": "played-bundle",
   "metadata": {
    "deletable": false,
    "editable": false,
    "solution2": "hidden",
    "solution2_first": true
   },
   "source": [
    "## Exercices\n",
    "\n",
    "### Quel est le problème dans ce bout de code ?\n",
    "\n",
    "```\n",
    "fn example() -> () {\n",
    "    #[derive(Debug)]\n",
    "    struct MyStruct {\n",
    "        i: usize,\n",
    "        j: usize,\n",
    "    }\n",
    "    let s = MyStruct {\n",
    "        i: 0,\n",
    "        j: 1,\n",
    "    };\n",
    "    dbg!(s);\n",
    "    dbg!(s.i);\n",
    "}\n",
    "```"
   ]
  },
  {
   "cell_type": "markdown",
   "id": "polyphonic-software",
   "metadata": {
    "deletable": false,
    "editable": false,
    "solution2": "hidden"
   },
   "source": [
    "> Lors de l'appel a l'avant-dernier dbg! Il aurait fallu passer une référence de la struct s plutôt que s lui-même. En effet, la structure n'étant pas Copy, elle a été \"moved\" lors de l'appel de la macro dbg!. On y a donc plus accès lors du dernier appel a dbg!.\n",
    "```\n",
    "        j: 1,\n",
    "    };\n",
    "    dbg!(&s);\n",
    "    dbg!(s.i);\n",
    "}\n",
    "```"
   ]
  },
  {
   "cell_type": "markdown",
   "id": "compliant-thumb",
   "metadata": {
    "deletable": false,
    "editable": false,
    "solution2": "hidden",
    "solution2_first": true
   },
   "source": [
    "### Ce code compile-t-il ? Son comportement, est-il logique ?\n",
    "\n",
    "\n",
    "```\n",
    "fn increment_number(mut i: usize) {\n",
    "    i += 1;\n",
    "}\n",
    "fn example() -> () {\n",
    "    let mut i: usize = 42;\n",
    "    increment_number(i);\n",
    "    println!(\"La nouvelle valeur de i est {}\", i);\n",
    "}\n",
    "example();\n",
    "```"
   ]
  },
  {
   "cell_type": "markdown",
   "id": "compatible-place",
   "metadata": {
    "deletable": false,
    "editable": false,
    "solution2": "hidden"
   },
   "source": [
    "> Oui, ce code compile correctement. Cependant, lors de l'appel à la fonction increment_number, la variable i de type usage est copiée implicitement (le type implémente le trait Copy), ainsi la variable i de la fonction exemple n'est jamais incrémentée, c'est sa copie qui l'a été !\n",
    "\n",
    "> à la place, il aurait fallu un code du genre :\n",
    "```\n",
    "fn increment_number(i: &mut usize) { // Reference mutable de usize\n",
    "    *i += 1;\n",
    "}\n",
    "fn example() -> () {\n",
    "    let mut i: usize = 42;\n",
    "    increment_number(&mut i);        // On passe une reference mutable\n",
    "    println!(\"La nouvelle valeur de i est {}\", i);\n",
    "}\n",
    "example();\n",
    "```"
   ]
  },
  {
   "cell_type": "markdown",
   "id": "latter-cooking",
   "metadata": {
    "deletable": false,
    "editable": false,
    "solution2": "hidden",
    "solution2_first": true
   },
   "source": [
    "### Ai-je bien respecter toutes les règles de Rust dans le code suivant ?\n",
    "\n",
    "```\n",
    "{\n",
    "    #[derive(Debug)]\n",
    "    struct MyStruct(u8);\n",
    "    impl MyStruct {\n",
    "        fn increment_inner(&mut self) {\n",
    "            self.0 += 1;\n",
    "        }\n",
    "    }\n",
    "    fn example() {\n",
    "        let mut s = MyStruct(41);\n",
    "        let ref_s = &s;\n",
    "        s.increment_inner();\n",
    "        dbg!(ref_s);\n",
    "    }\n",
    "    example();\n",
    "}\n",
    "```"
   ]
  },
  {
   "cell_type": "markdown",
   "id": "coastal-kazakhstan",
   "metadata": {
    "deletable": false,
    "editable": false,
    "solution2": "hidden"
   },
   "source": [
    "> La méthode increment_inner de l'implémentation de MyStruct prend une référence mutable de self. Or, je viens déjà de récupérer une référence immuable de la structure juste avant de l'appeler. Le compilateur ne veut pas que j'emprunte ma structure de façon mutable puisque je l'ai déjà empruntée comme immuable.\n",
    "```\n",
    "[E0502] Error: cannot borrow `s` as mutable because it is also borrowed as immutable\n",
    "    ╭─[command_59:1:1]\n",
    "    │\n",
    " 11 │         let ref_s = &s;\n",
    "    ·                     ─┬  \n",
    "    ·                      ╰── immutable borrow occurs here\n",
    " 12 │         s.increment_inner();\n",
    "    ·         ─────────┬─────────  \n",
    "    ·                  ╰─────────── mutable borrow occurs here\n",
    " 13 │         dbg!(ref_s);\n",
    "    ·              ──┬──  \n",
    "    ·                ╰──── immutable borrow later used here\n",
    "────╯\n",
    "```"
   ]
  },
  {
   "cell_type": "markdown",
   "id": "combined-ladder",
   "metadata": {
    "deletable": false,
    "editable": false,
    "solution2": "hidden",
    "solution2_first": true
   },
   "source": [
    "### Que peut-on dire de ce code-là ?\n",
    "\n",
    "```\n",
    "let ptr: *const u8 = std::ptr::null();\n",
    "unsafe {\n",
    "    dbg!(*ptr);\n",
    "}\n",
    "```"
   ]
  },
  {
   "cell_type": "markdown",
   "id": "electrical-reggae",
   "metadata": {
    "deletable": false,
    "editable": false,
    "solution2": "hidden"
   },
   "source": [
    "> C'est unsafe et ça segfault. Pointeur nul ! Code nul ! Zéro !"
   ]
  }
 ],
 "metadata": {
  "kernelspec": {
   "display_name": "Rust",
   "language": "rust",
   "name": "rust"
  },
  "language_info": {
   "codemirror_mode": "rust",
   "file_extension": ".rs",
   "mimetype": "text/rust",
   "name": "Rust",
   "pygment_lexer": "rust",
   "version": ""
  },
  "toc": {
   "base_numbering": "4",
   "nav_menu": {},
   "number_sections": true,
   "sideBar": true,
   "skip_h1_title": false,
   "title_cell": "Table of Contents",
   "title_sidebar": "Contents",
   "toc_cell": false,
   "toc_position": {
    "height": "calc(100% - 180px)",
    "left": "10px",
    "top": "150px",
    "width": "268.8px"
   },
   "toc_section_display": true,
   "toc_window_display": false
  }
 },
 "nbformat": 4,
 "nbformat_minor": 5
}
