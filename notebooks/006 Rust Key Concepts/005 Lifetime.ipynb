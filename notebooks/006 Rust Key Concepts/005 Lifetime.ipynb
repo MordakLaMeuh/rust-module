{
 "cells": [
  {
   "cell_type": "markdown",
   "id": "living-accused",
   "metadata": {
    "deletable": false,
    "editable": false
   },
   "source": [
    "# Introduction à la La durée de vie\n",
    "\n",
    "---\n",
    "\n",
    "> Le concept de durée de vie ou lifetime en anglais définit le temps que vivra une variable dans le programme. Nous avons déjà constaté qu'une variable n'existait plus si on sortait du bloc dans lequel elle était déclarée et si elle n'est pas retournée par ce dernier :"
   ]
  },
  {
   "cell_type": "code",
   "execution_count": 3,
   "id": "going-toolbox",
   "metadata": {
    "deletable": false,
    "editable": false
   },
   "outputs": [
    {
     "name": "stderr",
     "output_type": "stream",
     "text": [
      "[src/lib.rs:8] &c = 11\n",
      "[src/lib.rs:10] &b = 21\n",
      "[src/lib.rs:13] a = 42\n"
     ]
    },
    {
     "data": {
      "text/plain": [
       "()"
      ]
     },
     "execution_count": 3,
     "metadata": {},
     "output_type": "execute_result"
    }
   ],
   "source": [
    "fn main() {\n",
    "    let a: usize = 42; // Si elle n'est pas shadowed, la variable a vivra durant toute la fonction main()\n",
    "    {\n",
    "        let b: usize = 21; // la variable b existera dans tout son sous-bloc\n",
    "        {\n",
    "            let c: usize = 11;\n",
    "            dbg!(&c);\n",
    "        }\n",
    "        dbg!(&b); // J'ai encore acces a la variable b ici\n",
    "    }\n",
    "    // dbg(b) // ERREUR ! b n'existe plus en point du code\n",
    "    dbg!(a); // A la fin du main(), j'ai toujours acces a la variable a\n",
    "}\n",
    "main()"
   ]
  },
  {
   "cell_type": "code",
   "execution_count": 4,
   "id": "abandoned-array",
   "metadata": {
    "deletable": false,
    "editable": false
   },
   "outputs": [
    {
     "name": "stderr",
     "output_type": "stream",
     "text": [
      "[src/lib.rs:7] a = 42\n"
     ]
    },
    {
     "data": {
      "text/plain": [
       "()"
      ]
     },
     "execution_count": 4,
     "metadata": {},
     "output_type": "execute_result"
    }
   ],
   "source": [
    "fn main() {\n",
    "    let a: usize = { // Ce bloc est une expresion et retourne la variable b\n",
    "        let b: usize = 42;\n",
    "        b\n",
    "    };\n",
    "    dbg!(a); // Ce qui etait la variable b vit toujours ici\n",
    "}\n",
    "main()"
   ]
  },
  {
   "cell_type": "markdown",
   "id": "dramatic-charter",
   "metadata": {
    "deletable": false,
    "editable": false
   },
   "source": [
    "> Nous avons aussi entrevu dans le chapitre précédent qu'une référence n'existait plus à partir de sa dernière utilisation..."
   ]
  },
  {
   "cell_type": "code",
   "execution_count": 2,
   "id": "hearing-letter",
   "metadata": {
    "deletable": false,
    "editable": false
   },
   "outputs": [
    {
     "name": "stderr",
     "output_type": "stream",
     "text": [
      "[src/lib.rs:7] ref_num = 6\n",
      "[src/lib.rs:10] num = 7\n"
     ]
    }
   ],
   "source": [
    "fn main() {\n",
    "    let mut num = 4;\n",
    "    let ref_num = &mut num;\n",
    "    *ref_num += 1;\n",
    "    *ref_num += 1;\n",
    "    dbg!(ref_num); // ref_num ne vit plus apres cette instruction\n",
    "    \n",
    "    num += 1;\n",
    "    dbg!(num);\n",
    "}\n",
    "main();"
   ]
  },
  {
   "cell_type": "markdown",
   "id": "compatible-vocabulary",
   "metadata": {
    "deletable": false,
    "editable": false
   },
   "source": [
    "> Il existe en Rust une notation spécifique aux durée de vie, elle peut être utilisée dans les fonctions, les méthodes ou les structures."
   ]
  },
  {
   "cell_type": "markdown",
   "id": "negative-discussion",
   "metadata": {
    "deletable": false,
    "editable": false
   },
   "source": [
    "## Les durées de vie implicites :"
   ]
  },
  {
   "cell_type": "markdown",
   "id": "polish-exchange",
   "metadata": {
    "deletable": false,
    "editable": false
   },
   "source": [
    "**Les annotations de durées de vie concernent les références.**\n",
    "\n",
    "> La plupart du temps, rust inférera les durées de vie sans que l'utilisateur n'ait à s'en soucier. Rappelons que la règle principale des durées de vie dit qu'un objet référencé DOIT vivre au moins aussi longtemps que les références sur celui-ci. C'est la garantie qu'il n'y aura jamais de référence Null ou invalides.\n",
    "\n",
    "### Exemple avec une fonction\n",
    "\n",
    "- Prenons par exemple ce bout de code :"
   ]
  },
  {
   "cell_type": "code",
   "execution_count": 13,
   "id": "celtic-compiler",
   "metadata": {
    "deletable": false,
    "editable": false
   },
   "outputs": [
    {
     "name": "stderr",
     "output_type": "stream",
     "text": [
      "[src/lib.rs:115] first_element(&v) = 1\n"
     ]
    }
   ],
   "source": [
    "fn first_element(array: &[u8; 3]) -> &u8 { // Cette fonction retourne une reference sur le premier element\n",
    "    &array[0]\n",
    "}\n",
    "let v = [1, 2, 3];\n",
    "dbg!(first_element(&v));"
   ]
  },
  {
   "cell_type": "markdown",
   "id": "incoming-venezuela",
   "metadata": {
    "deletable": false,
    "editable": false
   },
   "source": [
    "- Cette fonction retourne une référence sur le premier élément du tableau. Sachez que Rust, en interne, va la réécrire comme ci-dessous :"
   ]
  },
  {
   "cell_type": "code",
   "execution_count": 12,
   "id": "colonial-eclipse",
   "metadata": {
    "deletable": false,
    "editable": false
   },
   "outputs": [
    {
     "name": "stderr",
     "output_type": "stream",
     "text": [
      "[src/lib.rs:115] first_element(&v) = 1\n"
     ]
    }
   ],
   "source": [
    "fn first_element<'a>(array: &'a [u8; 3]) -> &'a u8 { // Ajout de 'a par le compilateur\n",
    "    &array[0]\n",
    "}\n",
    "let v = [1, 2, 3];\n",
    "dbg!(first_element(&v));"
   ]
  },
  {
   "cell_type": "markdown",
   "id": "median-rugby",
   "metadata": {
    "deletable": false,
    "editable": false
   },
   "source": [
    "> Une annotation de la durée de vie `'a` est ajoutée à l'entrée et a la sortie de la fonction. Le choix de la lettre a est parfaitement arbitraire, b irait aussi bien.\n",
    "\n",
    "> L'annotation de durée de vie doit toujours être déclarée avant d'être utilisée `<'a>`.\n",
    "\n",
    "> L'emploi de ce lifetime signifie que **L’entrée doit vivre au moins aussi longtemps que la sortie**. Et ceci est logique, car, après tout, la fonction first_element retourne une référence sur un élément déjà passé par référence, donc **la référence sur l'élément du tableau NE SERAIT PLUS VALIDE si le tableau entier venait à disparaître !**. D'où le fait que l'entrée doit vivre au moins aussi longtemps que la sortie.\n",
    "\n",
    "> **En Rust, il n'est pas possible d'avoir des références qui pointent sur quelque chose qui n'existe plus !**"
   ]
  },
  {
   "cell_type": "markdown",
   "id": "public-bottle",
   "metadata": {
    "deletable": false,
    "editable": false
   },
   "source": [
    "### Exemple avec une structure\n",
    "\n",
    "- Si on prend l'exemple d'une structure :"
   ]
  },
  {
   "cell_type": "code",
   "execution_count": 7,
   "id": "extreme-staff",
   "metadata": {
    "deletable": false,
    "editable": false
   },
   "outputs": [
    {
     "data": {
      "text/plain": [
       "()"
      ]
     },
     "execution_count": 7,
     "metadata": {},
     "output_type": "execute_result"
    }
   ],
   "source": [
    "{\n",
    "    struct MaStruct {\n",
    "        inner_a: u32,\n",
    "        inner_b: u32,\n",
    "    }\n",
    "    fn get_inner_a(t: &MaStruct) -> &u32 {\n",
    "        &t.inner_a\n",
    "    }\n",
    "    fn get_inner_a_by_rust<'a>(t: &'a MaStruct) -> &'a u32 { // Infered lifetime\n",
    "        &t.inner_a\n",
    "    }\n",
    "}"
   ]
  },
  {
   "cell_type": "markdown",
   "id": "figured-significance",
   "metadata": {
    "deletable": false,
    "editable": false
   },
   "source": [
    "> Les fonctions get_inner_a et get_inner_a_by_rust sont strictement les mêmes."
   ]
  },
  {
   "cell_type": "markdown",
   "id": "supported-contrary",
   "metadata": {
    "deletable": false,
    "editable": false
   },
   "source": [
    " - Les mêmes règles s'appliqueront dans le cas d'une méthode d'une structure (&self ou μt self) retournant une référence sur un champ de cette dernière. La structure en entrée doit vivre au moins aussi longtemps que la référence en sortie :"
   ]
  },
  {
   "cell_type": "code",
   "execution_count": 8,
   "id": "removable-artwork",
   "metadata": {
    "deletable": false,
    "editable": false
   },
   "outputs": [
    {
     "data": {
      "text/plain": [
       "()"
      ]
     },
     "execution_count": 8,
     "metadata": {},
     "output_type": "execute_result"
    }
   ],
   "source": [
    "{\n",
    "    struct MaStruct {\n",
    "        inner_a: u32,\n",
    "        inner_b: u32,\n",
    "    }\n",
    "    impl MaStruct {\n",
    "        fn get_inner_a(&self) -> &u32 {\n",
    "            &self.inner_a\n",
    "        }\n",
    "    }\n",
    "}"
   ]
  },
  {
   "cell_type": "markdown",
   "id": "precise-charter",
   "metadata": {
    "deletable": false,
    "editable": false
   },
   "source": [
    "... sera remplacée par :\n",
    "```\n",
    "impl MaStruct {\n",
    "    fn get_inner_a<'a>(&'a self) -> &'a u32 {\n",
    "        &self.inner_a\n",
    "    }\n",
    "}\n",
    "```"
   ]
  },
  {
   "cell_type": "markdown",
   "id": "returning-serial",
   "metadata": {
    "deletable": false,
    "editable": false
   },
   "source": [
    "> **NB** Les annotations de durée de vie telles `'a` doivent toujours être déclarées après le nom de la fonction et avant les parenthèses d'où le `<'a>`."
   ]
  },
  {
   "cell_type": "markdown",
   "id": "stunning-colonial",
   "metadata": {
    "deletable": false,
    "editable": false
   },
   "source": [
    "## Quand il faut être explicite\n",
    "\n",
    "### Les structures et les énumérations\n",
    "\n",
    "- Quand une structure ou une énumération contient une référence sur quelque chose, l'annotation du lifetime y est obligatoire :"
   ]
  },
  {
   "cell_type": "code",
   "execution_count": 15,
   "id": "surprising-marijuana",
   "metadata": {
    "deletable": false,
    "editable": false
   },
   "outputs": [
    {
     "name": "stderr",
     "output_type": "stream",
     "text": [
      "[src/lib.rs:68] poire = Aliment {\n",
      "    calories: 100,\n",
      "    toxicity: false,\n",
      "    famille: Fruit,\n",
      "}\n"
     ]
    },
    {
     "data": {
      "text/plain": [
       "()"
      ]
     },
     "execution_count": 15,
     "metadata": {},
     "output_type": "execute_result"
    }
   ],
   "source": [
    "{\n",
    "    #[derive(Debug)]\n",
    "    enum Famille {\n",
    "        Fruit,\n",
    "        Cereale,\n",
    "    }\n",
    "\n",
    "    #[derive(Debug)]\n",
    "    struct Aliment<'a> { // Puisqu'il y a une reference, je met une annotation de lifetime\n",
    "        calories: usize,\n",
    "        toxicity: bool,\n",
    "        famille: &'a Famille, // La variable de type Famille referencee ici doit vivre au moins aussi longtemps \n",
    "                              // que la structure Aliment.\n",
    "    }\n",
    "\n",
    "    let fruit = Famille::Fruit;\n",
    "    let poire = Aliment {\n",
    "        calories: 100,\n",
    "        toxicity: false,\n",
    "        famille: &fruit,\n",
    "    };\n",
    "    dbg!(poire);\n",
    "}"
   ]
  },
  {
   "cell_type": "markdown",
   "id": "hollywood-marshall",
   "metadata": {
    "deletable": false,
    "editable": false
   },
   "source": [
    "### Les problèmes de Lifetime\n",
    "\n",
    "- Dans certains cas de figure, il est obligatoire de spécifier les durées de vie. C'est par exemple le cas d'une fonction qui prend 2 références en entrée, et une en sortie, Rust ne saura pas comment déterminer quelles durées de vie doivent être liées et exigera que l'on annote manuellement les durées de vie :"
   ]
  },
  {
   "cell_type": "code",
   "execution_count": 12,
   "id": "exterior-juice",
   "metadata": {
    "deletable": false,
    "editable": false
   },
   "outputs": [
    {
     "ename": "Error",
     "evalue": "missing lifetime specifier",
     "output_type": "error",
     "traceback": [
      "\u001b[31m[E0106] Error:\u001b[0m missing lifetime specifier",
      "    \u001b[38;5;246m╭\u001b[0m\u001b[38;5;246m─\u001b[0m\u001b[38;5;246m[\u001b[0mcommand_12:1:1\u001b[38;5;246m]\u001b[0m",
      "    \u001b[38;5;246m│\u001b[0m",
      " \u001b[38;5;246m11 │\u001b[0m \u001b[38;5;249m \u001b[0m\u001b[38;5;249m \u001b[0m\u001b[38;5;249m \u001b[0m\u001b[38;5;249m \u001b[0m\u001b[38;5;249mf\u001b[0m\u001b[38;5;249mn\u001b[0m\u001b[38;5;249m \u001b[0m\u001b[38;5;249md\u001b[0m\u001b[38;5;249mu\u001b[0m\u001b[38;5;249mm\u001b[0m\u001b[38;5;249mp\u001b[0m\u001b[38;5;249m_\u001b[0m\u001b[38;5;249ma\u001b[0m\u001b[38;5;249m_\u001b[0m\u001b[38;5;249ms\u001b[0m\u001b[38;5;249mt\u001b[0m\u001b[38;5;249mr\u001b[0m\u001b[38;5;249mi\u001b[0m\u001b[38;5;249mn\u001b[0m\u001b[38;5;249mg\u001b[0m\u001b[38;5;249m_\u001b[0m\u001b[38;5;249ma\u001b[0m\u001b[38;5;249mn\u001b[0m\u001b[38;5;249md\u001b[0m\u001b[38;5;249m_\u001b[0m\u001b[38;5;249mg\u001b[0m\u001b[38;5;249me\u001b[0m\u001b[38;5;249mt\u001b[0m\u001b[38;5;249m_\u001b[0m\u001b[38;5;249mi\u001b[0m\u001b[38;5;249mn\u001b[0m\u001b[38;5;249mn\u001b[0m\u001b[38;5;249me\u001b[0m\u001b[38;5;249mr\u001b[0m\u001b[38;5;249m_\u001b[0m\u001b[38;5;249ma\u001b[0m\u001b[38;5;249m(\u001b[0m\u001b[38;5;249mt\u001b[0m\u001b[38;5;249m:\u001b[0m\u001b[38;5;249m \u001b[0m\u001b[38;5;249m&\u001b[0m\u001b[38;5;249mM\u001b[0m\u001b[38;5;249ma\u001b[0m\u001b[38;5;249mS\u001b[0m\u001b[38;5;249mt\u001b[0m\u001b[38;5;249mr\u001b[0m\u001b[38;5;249mu\u001b[0m\u001b[38;5;249mc\u001b[0m\u001b[38;5;249mt\u001b[0m\u001b[38;5;249m,\u001b[0m\u001b[38;5;249m \u001b[0m\u001b[38;5;249ms\u001b[0m\u001b[38;5;249m:\u001b[0m\u001b[38;5;249m \u001b[0m\u001b[38;5;249m&\u001b[0m\u001b[38;5;249ms\u001b[0m\u001b[38;5;249mt\u001b[0m\u001b[38;5;249mr\u001b[0m\u001b[38;5;249m)\u001b[0m\u001b[38;5;249m \u001b[0m\u001b[38;5;249m-\u001b[0m\u001b[38;5;249m>\u001b[0m\u001b[38;5;249m \u001b[0m\u001b[38;5;54m&\u001b[0m\u001b[38;5;249mu\u001b[0m\u001b[38;5;249m3\u001b[0m\u001b[38;5;249m2\u001b[0m\u001b[38;5;249m \u001b[0m\u001b[38;5;249m{\u001b[0m",
      " \u001b[38;5;246m   ·\u001b[0m                                                                \u001b[38;5;54m┬\u001b[0m  ",
      " \u001b[38;5;246m   ·\u001b[0m                                                                \u001b[38;5;54m╰\u001b[0m\u001b[38;5;54m─\u001b[0m\u001b[38;5;54m─\u001b[0m expected named lifetime parameter",
      "\u001b[38;5;246m────╯\u001b[0m"
     ]
    }
   ],
   "source": [
    "{\n",
    "    struct MaStruct {\n",
    "        inner_a: u32,\n",
    "        inner_b: u32,\n",
    "    }\n",
    "    impl MaStruct {\n",
    "        fn get_inner_a(&self) -> &u32 {\n",
    "            &self.inner_a\n",
    "        }\n",
    "    }\n",
    "    fn dump_a_string_and_get_inner_a(t: &MaStruct, s: &str) -> &u32 {\n",
    "        println!(\"{}\", s);\n",
    "        &t.inner_a\n",
    "    }\n",
    "}"
   ]
  },
  {
   "cell_type": "markdown",
   "id": "pointed-spoke",
   "metadata": {
    "deletable": false,
    "editable": false
   },
   "source": [
    "- Le compilateur suggère de définir la fonction ainsi : **dump_a_string_and_get_inner_a\\<'a>(t: &'a MaStruct, s: &'a str) -> &'a u32**. Appliquons la modification :"
   ]
  },
  {
   "cell_type": "code",
   "execution_count": 11,
   "id": "recent-avenue",
   "metadata": {
    "deletable": false,
    "editable": false
   },
   "outputs": [],
   "source": [
    "{\n",
    "    struct MaStruct {\n",
    "        inner_a: u32,\n",
    "        inner_b: u32,\n",
    "    }\n",
    "    impl MaStruct {\n",
    "        fn get_inner_a(&self) -> &u32 {\n",
    "            &self.inner_a\n",
    "        }\n",
    "    }\n",
    "    fn dump_a_string_and_get_inner_a<'a>(t: &'a MaStruct, s: &'a str) -> &'a u32 {\n",
    "        println!(\"{}\", s);\n",
    "        &t.inner_a\n",
    "    }\n",
    "}\n",
    "// Ce code compile"
   ]
  },
  {
   "cell_type": "markdown",
   "id": "promotional-singer",
   "metadata": {
    "deletable": false,
    "editable": false
   },
   "source": [
    "- Maintenant, utilisons la fonction dans ce bout de code :"
   ]
  },
  {
   "cell_type": "code",
   "execution_count": 16,
   "id": "normal-custom",
   "metadata": {
    "deletable": false,
    "editable": false
   },
   "outputs": [
    {
     "ename": "Error",
     "evalue": "cannot return value referencing local variable `s`",
     "output_type": "error",
     "traceback": [
      "\u001b[31m[E0515] Error:\u001b[0m cannot return value referencing local variable `s`",
      "    \u001b[38;5;246m╭\u001b[0m\u001b[38;5;246m─\u001b[0m\u001b[38;5;246m[\u001b[0mcommand_16:1:1\u001b[38;5;246m]\u001b[0m",
      "    \u001b[38;5;246m│\u001b[0m",
      " \u001b[38;5;246m18 │\u001b[0m \u001b[38;5;249m \u001b[0m\u001b[38;5;249m \u001b[0m\u001b[38;5;249m \u001b[0m\u001b[38;5;249m \u001b[0m\u001b[38;5;249m \u001b[0m\u001b[38;5;249m \u001b[0m\u001b[38;5;249m \u001b[0m\u001b[38;5;249m \u001b[0m\u001b[38;5;249ml\u001b[0m\u001b[38;5;249me\u001b[0m\u001b[38;5;249mt\u001b[0m\u001b[38;5;249m \u001b[0m\u001b[38;5;249mo\u001b[0m\u001b[38;5;249mu\u001b[0m\u001b[38;5;249mt\u001b[0m\u001b[38;5;249mp\u001b[0m\u001b[38;5;249mu\u001b[0m\u001b[38;5;249mt\u001b[0m\u001b[38;5;249m \u001b[0m\u001b[38;5;249m=\u001b[0m\u001b[38;5;249m \u001b[0m\u001b[38;5;249md\u001b[0m\u001b[38;5;249mu\u001b[0m\u001b[38;5;249mm\u001b[0m\u001b[38;5;249mp\u001b[0m\u001b[38;5;249m_\u001b[0m\u001b[38;5;249ma\u001b[0m\u001b[38;5;249m_\u001b[0m\u001b[38;5;249ms\u001b[0m\u001b[38;5;249mt\u001b[0m\u001b[38;5;249mr\u001b[0m\u001b[38;5;249mi\u001b[0m\u001b[38;5;249mn\u001b[0m\u001b[38;5;249mg\u001b[0m\u001b[38;5;249m_\u001b[0m\u001b[38;5;249ma\u001b[0m\u001b[38;5;249mn\u001b[0m\u001b[38;5;249md\u001b[0m\u001b[38;5;249m_\u001b[0m\u001b[38;5;249mg\u001b[0m\u001b[38;5;249me\u001b[0m\u001b[38;5;249mt\u001b[0m\u001b[38;5;249m_\u001b[0m\u001b[38;5;249mi\u001b[0m\u001b[38;5;249mn\u001b[0m\u001b[38;5;249mn\u001b[0m\u001b[38;5;249me\u001b[0m\u001b[38;5;249mr\u001b[0m\u001b[38;5;249m_\u001b[0m\u001b[38;5;249ma\u001b[0m\u001b[38;5;249m(\u001b[0m\u001b[38;5;249m&\u001b[0m\u001b[38;5;249mt\u001b[0m\u001b[38;5;249m,\u001b[0m\u001b[38;5;249m \u001b[0m\u001b[38;5;100m&\u001b[0m\u001b[38;5;100ms\u001b[0m\u001b[38;5;249m)\u001b[0m\u001b[38;5;249m;\u001b[0m",
      " \u001b[38;5;246m   ·\u001b[0m                                                        \u001b[38;5;100m─\u001b[0m\u001b[38;5;100m┬\u001b[0m  ",
      " \u001b[38;5;246m   ·\u001b[0m                                                         \u001b[38;5;100m╰\u001b[0m\u001b[38;5;100m─\u001b[0m\u001b[38;5;100m─\u001b[0m `s` is borrowed here",
      " \u001b[38;5;246m19 │\u001b[0m \u001b[38;5;249m \u001b[0m\u001b[38;5;249m \u001b[0m\u001b[38;5;249m \u001b[0m\u001b[38;5;249m \u001b[0m\u001b[38;5;249m \u001b[0m\u001b[38;5;249m \u001b[0m\u001b[38;5;249m \u001b[0m\u001b[38;5;249m \u001b[0m\u001b[38;5;54mo\u001b[0m\u001b[38;5;54mu\u001b[0m\u001b[38;5;54mt\u001b[0m\u001b[38;5;54mp\u001b[0m\u001b[38;5;54mu\u001b[0m\u001b[38;5;54mt\u001b[0m",
      " \u001b[38;5;246m   ·\u001b[0m         \u001b[38;5;54m─\u001b[0m\u001b[38;5;54m─\u001b[0m\u001b[38;5;54m─\u001b[0m\u001b[38;5;54m┬\u001b[0m\u001b[38;5;54m─\u001b[0m\u001b[38;5;54m─\u001b[0m  ",
      " \u001b[38;5;246m   ·\u001b[0m            \u001b[38;5;54m╰\u001b[0m\u001b[38;5;54m─\u001b[0m\u001b[38;5;54m─\u001b[0m\u001b[38;5;54m─\u001b[0m\u001b[38;5;54m─\u001b[0m returns a value referencing data owned by the current function",
      "\u001b[38;5;246m────╯\u001b[0m"
     ]
    }
   ],
   "source": [
    "{\n",
    "    struct MaStruct {\n",
    "        inner_a: u32,\n",
    "        inner_b: u32,\n",
    "    }\n",
    "    impl MaStruct {\n",
    "        fn get_inner_a(&self) -> &u32 {\n",
    "            &self.inner_a\n",
    "        }\n",
    "    }\n",
    "    fn dump_a_string_and_get_inner_a<'a>(t: &'a MaStruct, s: &'a str) -> &'a u32 {\n",
    "        println!(\"{}\", s);\n",
    "        &t.inner_a\n",
    "    }\n",
    "\n",
    "    fn get_output(t: &MaStruct) -> &u32 {\n",
    "        let s = String::from(\"Toto\");\n",
    "        let output = dump_a_string_and_get_inner_a(&t, &s);\n",
    "        output\n",
    "    }\n",
    "    let t = MaStruct {\n",
    "        inner_a: 1,\n",
    "        inner_b: 2,\n",
    "    };\n",
    "    dbg!(get_output(&t));\n",
    "}"
   ]
  },
  {
   "cell_type": "markdown",
   "id": "approved-contest",
   "metadata": {
    "deletable": false,
    "editable": false
   },
   "source": [
    "> Ce code ne compile hélas pas. Le compilateur nous indique qu'une référence de la chaîne de caractère s a été empruntée par la fonction dump_a_string_and_get_inner_a() et qu'elle est liée a son retour, ici output... Hors la variable s est déjà détruite au moment où l'on tente de lire le retour de la fonction get_output() via la macro dbg! a la fin.\n",
    "\n",
    "> Le problème vient de notre écriture du prototype de la fonction dump_a_string_and_get_inner_a. `dump_a_string_and_get_inner_a<'a>(t: &'a MaStruct, s: &'a str) -> &'a u32`. On mettant la même annotation de lifetime sur les deux entrées et la sortie comme le suggérait le compilateur, nous indiquons que les deux références en entrée doivent vivre au moins aussi longtemps que la sortie. Or, ce n'est pas le cas dans notre exemple, puisque **la chaîne s vit moins longtemps !**"
   ]
  },
  {
   "cell_type": "markdown",
   "id": "confidential-soldier",
   "metadata": {
    "deletable": false,
    "editable": false
   },
   "source": [
    "- Afin de régler le problème de compilation, nous devons rajouter une autre annotation de lifetime, ici notée `'b` pour notre référence sur la chaîne de caractère. On indique ainsi au compilateur que la durée de vie du paramètre d'entrée s, notre chaîne de caractère, n'est pas liée à la durée de vie de la sortie de la fonction :"
   ]
  },
  {
   "cell_type": "code",
   "execution_count": 17,
   "id": "interracial-routine",
   "metadata": {
    "deletable": false,
    "editable": false
   },
   "outputs": [
    {
     "name": "stdout",
     "output_type": "stream",
     "text": [
      "Toto\n"
     ]
    },
    {
     "name": "stderr",
     "output_type": "stream",
     "text": [
      "[src/lib.rs:71] get_output(&t) = 1\n"
     ]
    },
    {
     "data": {
      "text/plain": [
       "()"
      ]
     },
     "execution_count": 17,
     "metadata": {},
     "output_type": "execute_result"
    }
   ],
   "source": [
    "{\n",
    "    struct MaStruct {\n",
    "        inner_a: u32,\n",
    "        inner_b: u32,\n",
    "    }\n",
    "    impl MaStruct {\n",
    "        fn get_inner_a(&self) -> &u32 {\n",
    "            &self.inner_a\n",
    "        }\n",
    "    }\n",
    "    fn dump_a_string_and_get_inner_a<'a, 'b>(t: &'a MaStruct, s: &'b str) -> &'a u32 { // Ajout du lifetime 'b\n",
    "        println!(\"{}\", s);\n",
    "        &t.inner_a\n",
    "    }\n",
    "\n",
    "    fn get_output(t: &MaStruct) -> &u32 {\n",
    "        let s = String::from(\"Toto\");\n",
    "        let output = dump_a_string_and_get_inner_a(&t, &s);\n",
    "        output\n",
    "    }\n",
    "    let t = MaStruct {\n",
    "        inner_a: 1,\n",
    "        inner_b: 2,\n",
    "    };\n",
    "    dbg!(get_output(&t));\n",
    "}"
   ]
  },
  {
   "cell_type": "markdown",
   "id": "manual-render",
   "metadata": {
    "deletable": false,
    "editable": false
   },
   "source": [
    "> **NB** Ici deux lifetimes doivent être déclarés. `<'a, 'b>`\n",
    "\n",
    "> Le prototype final sera `dump_a_string_and_get_inner_a<'a, 'b>(t: &'a MaStruct, s: &'b str) -> &'a u32`"
   ]
  },
  {
   "cell_type": "markdown",
   "id": "representative-volleyball",
   "metadata": {
    "deletable": false,
    "editable": false
   },
   "source": [
    "### Des contraintes supplementaires"
   ]
  },
  {
   "cell_type": "markdown",
   "id": "sacred-watershed",
   "metadata": {
    "deletable": false,
    "editable": false
   },
   "source": [
    "> Enfin. Il est aussi possible de spécifier une hiérarchie entre la durée de vie des annotations de lifetime.\n",
    "\n",
    "- Ici, 'a doit vivre plus longtemps que 'b :"
   ]
  },
  {
   "cell_type": "markdown",
   "id": "polish-experiment",
   "metadata": {
    "deletable": false,
    "editable": false
   },
   "source": [
    "```\n",
    "fn test<'a: 'b, 'a>(t: &'a str, s: &'b str) -> &'a str\n",
    "```"
   ]
  },
  {
   "cell_type": "markdown",
   "id": "specific-allen",
   "metadata": {
    "deletable": false,
    "editable": false
   },
   "source": [
    "- Ici, 'b doit vivre plus longtemps que 'a :"
   ]
  },
  {
   "cell_type": "markdown",
   "id": "prepared-bowling",
   "metadata": {
    "deletable": false,
    "editable": false
   },
   "source": [
    "```\n",
    "fn test<'a, 'b: 'a>(t: &'a str, s: &'b str) -> &'a str\n",
    "```"
   ]
  },
  {
   "cell_type": "markdown",
   "id": "competitive-athens",
   "metadata": {
    "deletable": false,
    "editable": false
   },
   "source": [
    "## Le lifetime static"
   ]
  },
  {
   "cell_type": "markdown",
   "id": "heated-juice",
   "metadata": {
    "deletable": false,
    "editable": false
   },
   "source": [
    "- Il existe un lifetime spécial dont la particularité est d'indiquer au compilateur que la variable référencée vit pendant toute la durée du programme. On le nomme le lifetime **'static**. Il est fréquemment utilisé avec les chaînes de caractère :"
   ]
  },
  {
   "cell_type": "code",
   "execution_count": 30,
   "id": "polished-genius",
   "metadata": {
    "deletable": false,
    "editable": false
   },
   "outputs": [
    {
     "name": "stderr",
     "output_type": "stream",
     "text": [
      "[src/lib.rs:9] get_book() = \"Les fleurs bleues\"\n"
     ]
    },
    {
     "data": {
      "text/plain": [
       "()"
      ]
     },
     "execution_count": 30,
     "metadata": {},
     "output_type": "execute_result"
    }
   ],
   "source": [
    "const LIVRE: &str = \"Les fleurs bleues\";\n",
    "\n",
    "fn main() {\n",
    "    fn get_book() -> &'static str {\n",
    "        &LIVRE\n",
    "    }\n",
    "    dbg!(get_book());\n",
    "}\n",
    "main()"
   ]
  },
  {
   "cell_type": "markdown",
   "id": "secret-opinion",
   "metadata": {
    "deletable": false,
    "editable": false
   },
   "source": [
    "- La compilation s'avérera impossible si la variable referencee ne vit pas durant tout le programme :"
   ]
  },
  {
   "cell_type": "code",
   "execution_count": 32,
   "id": "polished-hazard",
   "metadata": {
    "deletable": false,
    "editable": false,
    "scrolled": true
   },
   "outputs": [
    {
     "ename": "Error",
     "evalue": "lifetime may not live long enough",
     "output_type": "error",
     "traceback": [
      "\u001b[31mError:\u001b[0m lifetime may not live long enough",
      "   \u001b[38;5;246m╭\u001b[0m\u001b[38;5;246m─\u001b[0m\u001b[38;5;246m[\u001b[0mcommand_32:1:1\u001b[38;5;246m]\u001b[0m",
      "   \u001b[38;5;246m│\u001b[0m",
      " \u001b[38;5;246m3 │\u001b[0m \u001b[38;5;249m \u001b[0m\u001b[38;5;249m \u001b[0m\u001b[38;5;249m \u001b[0m\u001b[38;5;249m \u001b[0m\u001b[38;5;249mf\u001b[0m\u001b[38;5;249mn\u001b[0m\u001b[38;5;249m \u001b[0m\u001b[38;5;249mg\u001b[0m\u001b[38;5;249me\u001b[0m\u001b[38;5;249mt\u001b[0m\u001b[38;5;249m_\u001b[0m\u001b[38;5;249mb\u001b[0m\u001b[38;5;249mo\u001b[0m\u001b[38;5;249mo\u001b[0m\u001b[38;5;249mk\u001b[0m\u001b[38;5;249m<\u001b[0m\u001b[38;5;54m'\u001b[0m\u001b[38;5;54ma\u001b[0m\u001b[38;5;249m>\u001b[0m\u001b[38;5;249m(\u001b[0m\u001b[38;5;249ml\u001b[0m\u001b[38;5;249mi\u001b[0m\u001b[38;5;249mv\u001b[0m\u001b[38;5;249mr\u001b[0m\u001b[38;5;249me\u001b[0m\u001b[38;5;249m:\u001b[0m\u001b[38;5;249m \u001b[0m\u001b[38;5;249m&\u001b[0m\u001b[38;5;249m'\u001b[0m\u001b[38;5;249ma\u001b[0m\u001b[38;5;249m \u001b[0m\u001b[38;5;249ms\u001b[0m\u001b[38;5;249mt\u001b[0m\u001b[38;5;249mr\u001b[0m\u001b[38;5;249m)\u001b[0m\u001b[38;5;249m \u001b[0m\u001b[38;5;249m-\u001b[0m\u001b[38;5;249m>\u001b[0m\u001b[38;5;249m \u001b[0m\u001b[38;5;249m&\u001b[0m\u001b[38;5;249m'\u001b[0m\u001b[38;5;249ms\u001b[0m\u001b[38;5;249mt\u001b[0m\u001b[38;5;249ma\u001b[0m\u001b[38;5;249mt\u001b[0m\u001b[38;5;249mi\u001b[0m\u001b[38;5;249mc\u001b[0m\u001b[38;5;249m \u001b[0m\u001b[38;5;249ms\u001b[0m\u001b[38;5;249mt\u001b[0m\u001b[38;5;249mr\u001b[0m\u001b[38;5;249m \u001b[0m\u001b[38;5;249m{\u001b[0m",
      " \u001b[38;5;246m  ·\u001b[0m                 \u001b[38;5;54m─\u001b[0m\u001b[38;5;54m┬\u001b[0m  ",
      " \u001b[38;5;246m  ·\u001b[0m                  \u001b[38;5;54m╰\u001b[0m\u001b[38;5;54m─\u001b[0m\u001b[38;5;54m─\u001b[0m lifetime `'a` defined here",
      " \u001b[38;5;246m4 │\u001b[0m \u001b[38;5;249m \u001b[0m\u001b[38;5;249m \u001b[0m\u001b[38;5;249m \u001b[0m\u001b[38;5;249m \u001b[0m\u001b[38;5;249m \u001b[0m\u001b[38;5;249m \u001b[0m\u001b[38;5;249m \u001b[0m\u001b[38;5;249m \u001b[0m\u001b[38;5;100m&\u001b[0m\u001b[38;5;100ml\u001b[0m\u001b[38;5;100mi\u001b[0m\u001b[38;5;100mv\u001b[0m\u001b[38;5;100mr\u001b[0m\u001b[38;5;100me\u001b[0m",
      " \u001b[38;5;246m  ·\u001b[0m         \u001b[38;5;100m─\u001b[0m\u001b[38;5;100m─\u001b[0m\u001b[38;5;100m─\u001b[0m\u001b[38;5;100m┬\u001b[0m\u001b[38;5;100m─\u001b[0m\u001b[38;5;100m─\u001b[0m  ",
      " \u001b[38;5;246m  ·\u001b[0m            \u001b[38;5;100m╰\u001b[0m\u001b[38;5;100m─\u001b[0m\u001b[38;5;100m─\u001b[0m\u001b[38;5;100m─\u001b[0m\u001b[38;5;100m─\u001b[0m returning this value requires that `'a` must outlive `'static`",
      "\u001b[38;5;246m───╯\u001b[0m"
     ]
    }
   ],
   "source": [
    "fn main() {\n",
    "    let livre: &str = \"Les fleurs bleues\";\n",
    "    fn get_book<'a>(livre: &'a str) -> &'static str {\n",
    "        &livre\n",
    "    }\n",
    "    dbg!(get_book(&livre));\n",
    "}\n",
    "main()"
   ]
  },
  {
   "cell_type": "markdown",
   "id": "handed-julian",
   "metadata": {
    "deletable": false,
    "editable": false
   },
   "source": [
    "## Exercice\n",
    "\n",
    "### Corriger les annotations de lifetime de la fonction generate_struct()"
   ]
  },
  {
   "cell_type": "code",
   "execution_count": 44,
   "id": "surgical-pointer",
   "metadata": {
    "deletable": false,
    "editable": false,
    "scrolled": true,
    "solution2": "hidden",
    "solution2_first": true
   },
   "outputs": [
    {
     "ename": "Error",
     "evalue": "lifetime may not live long enough",
     "output_type": "error",
     "traceback": [
      "\u001b[31mError:\u001b[0m lifetime may not live long enough",
      "    \u001b[38;5;246m╭\u001b[0m\u001b[38;5;246m─\u001b[0m\u001b[38;5;246m[\u001b[0mcommand_44:1:1\u001b[38;5;246m]\u001b[0m",
      "    \u001b[38;5;246m│\u001b[0m",
      " \u001b[38;5;246m 7 │\u001b[0m     \u001b[38;5;249m \u001b[0m\u001b[38;5;249m \u001b[0m\u001b[38;5;249m \u001b[0m\u001b[38;5;249m \u001b[0m\u001b[38;5;249mf\u001b[0m\u001b[38;5;249mn\u001b[0m\u001b[38;5;249m \u001b[0m\u001b[38;5;249mg\u001b[0m\u001b[38;5;249me\u001b[0m\u001b[38;5;249mn\u001b[0m\u001b[38;5;249me\u001b[0m\u001b[38;5;249mr\u001b[0m\u001b[38;5;249ma\u001b[0m\u001b[38;5;249mt\u001b[0m\u001b[38;5;249me\u001b[0m\u001b[38;5;249m_\u001b[0m\u001b[38;5;249ms\u001b[0m\u001b[38;5;249mt\u001b[0m\u001b[38;5;249mr\u001b[0m\u001b[38;5;249mu\u001b[0m\u001b[38;5;249mc\u001b[0m\u001b[38;5;249mt\u001b[0m\u001b[38;5;249m<\u001b[0m\u001b[38;5;54m'\u001b[0m\u001b[38;5;54ma\u001b[0m\u001b[38;5;249m,\u001b[0m\u001b[38;5;249m \u001b[0m\u001b[38;5;100m'\u001b[0m\u001b[38;5;100mb\u001b[0m\u001b[38;5;249m>\u001b[0m\u001b[38;5;249m(\u001b[0m\u001b[38;5;249mc\u001b[0m\u001b[38;5;249mh\u001b[0m\u001b[38;5;249ma\u001b[0m\u001b[38;5;249mi\u001b[0m\u001b[38;5;249mn\u001b[0m\u001b[38;5;249me\u001b[0m\u001b[38;5;249m_\u001b[0m\u001b[38;5;249m1\u001b[0m\u001b[38;5;249m:\u001b[0m\u001b[38;5;249m \u001b[0m\u001b[38;5;249m&\u001b[0m\u001b[38;5;249m'\u001b[0m\u001b[38;5;249ma\u001b[0m\u001b[38;5;249m \u001b[0m\u001b[38;5;249ms\u001b[0m\u001b[38;5;249mt\u001b[0m\u001b[38;5;249mr\u001b[0m\u001b[38;5;249m,\u001b[0m\u001b[38;5;249m \u001b[0m\u001b[38;5;249mc\u001b[0m\u001b[38;5;249mh\u001b[0m\u001b[38;5;249ma\u001b[0m\u001b[38;5;249mi\u001b[0m\u001b[38;5;249mn\u001b[0m\u001b[38;5;249me\u001b[0m\u001b[38;5;249m_\u001b[0m\u001b[38;5;249m2\u001b[0m\u001b[38;5;249m:\u001b[0m\u001b[38;5;249m \u001b[0m\u001b[38;5;249m&\u001b[0m\u001b[38;5;249m'\u001b[0m\u001b[38;5;249mb\u001b[0m\u001b[38;5;249m \u001b[0m\u001b[38;5;249ms\u001b[0m\u001b[38;5;249mt\u001b[0m\u001b[38;5;249mr\u001b[0m\u001b[38;5;249m,\u001b[0m\u001b[38;5;249m \u001b[0m\u001b[38;5;249mc\u001b[0m\u001b[38;5;249mh\u001b[0m\u001b[38;5;249ma\u001b[0m\u001b[38;5;249mi\u001b[0m\u001b[38;5;249mn\u001b[0m\u001b[38;5;249me\u001b[0m\u001b[38;5;249m_\u001b[0m\u001b[38;5;249m3\u001b[0m\u001b[38;5;249m:\u001b[0m\u001b[38;5;249m \u001b[0m\u001b[38;5;249m&\u001b[0m\u001b[38;5;249m'\u001b[0m\u001b[38;5;249ma\u001b[0m\u001b[38;5;249m \u001b[0m\u001b[38;5;249ms\u001b[0m\u001b[38;5;249mt\u001b[0m\u001b[38;5;249mr\u001b[0m\u001b[38;5;249m)\u001b[0m\u001b[38;5;249m \u001b[0m\u001b[38;5;249m-\u001b[0m\u001b[38;5;249m>\u001b[0m\u001b[38;5;249m \u001b[0m\u001b[38;5;249mS\u001b[0m\u001b[38;5;249m<\u001b[0m\u001b[38;5;249m'\u001b[0m\u001b[38;5;249mb\u001b[0m\u001b[38;5;249m>\u001b[0m\u001b[38;5;249m \u001b[0m\u001b[38;5;249m{\u001b[0m",
      " \u001b[38;5;246m   ·\u001b[0m                            \u001b[38;5;54m─\u001b[0m\u001b[38;5;54m┬\u001b[0m  \u001b[38;5;100m─\u001b[0m\u001b[38;5;100m┬\u001b[0m  ",
      " \u001b[38;5;246m   ·\u001b[0m                             \u001b[38;5;54m╰\u001b[0m\u001b[38;5;54m─\u001b[0m\u001b[38;5;54m─\u001b[0m\u001b[38;5;54m─\u001b[0m\u001b[38;5;54m─\u001b[0m\u001b[38;5;54m─\u001b[0m\u001b[38;5;54m─\u001b[0m lifetime `'a` defined here",
      " \u001b[38;5;246m   ·\u001b[0m                                 \u001b[38;5;100m│\u001b[0m  ",
      " \u001b[38;5;246m   ·\u001b[0m                                 \u001b[38;5;100m╰\u001b[0m\u001b[38;5;100m─\u001b[0m\u001b[38;5;100m─\u001b[0m lifetime `'b` defined here",
      " \u001b[38;5;246m   ·\u001b[0m ",
      " \u001b[38;5;246m 9 │\u001b[0m \u001b[38;5;68m╭\u001b[0m\u001b[38;5;68m─\u001b[0m\u001b[38;5;68m▶\u001b[0m\u001b[38;5;68m \u001b[0m\u001b[38;5;249m \u001b[0m\u001b[38;5;249m \u001b[0m\u001b[38;5;249m \u001b[0m\u001b[38;5;249m \u001b[0m\u001b[38;5;249m \u001b[0m\u001b[38;5;249m \u001b[0m\u001b[38;5;249m \u001b[0m\u001b[38;5;249m \u001b[0m\u001b[38;5;68mS\u001b[0m\u001b[38;5;68m \u001b[0m\u001b[38;5;68m{\u001b[0m",
      " \u001b[38;5;246m   ⋮\u001b[0m \u001b[38;5;68m⋮\u001b[0m   ",
      " \u001b[38;5;246m12 │\u001b[0m \u001b[38;5;68m├\u001b[0m\u001b[38;5;68m─\u001b[0m\u001b[38;5;68m▶\u001b[0m\u001b[38;5;68m \u001b[0m\u001b[38;5;68m \u001b[0m\u001b[38;5;68m \u001b[0m\u001b[38;5;68m \u001b[0m\u001b[38;5;68m \u001b[0m\u001b[38;5;68m \u001b[0m\u001b[38;5;68m \u001b[0m\u001b[38;5;68m \u001b[0m\u001b[38;5;68m \u001b[0m\u001b[38;5;68m}\u001b[0m",
      " \u001b[38;5;246m   ·\u001b[0m \u001b[38;5;68m│\u001b[0m               ",
      " \u001b[38;5;246m   ·\u001b[0m \u001b[38;5;68m╰\u001b[0m\u001b[38;5;68m─\u001b[0m\u001b[38;5;68m─\u001b[0m\u001b[38;5;68m─\u001b[0m\u001b[38;5;68m─\u001b[0m\u001b[38;5;68m─\u001b[0m\u001b[38;5;68m─\u001b[0m\u001b[38;5;68m─\u001b[0m\u001b[38;5;68m─\u001b[0m\u001b[38;5;68m─\u001b[0m\u001b[38;5;68m─\u001b[0m\u001b[38;5;68m─\u001b[0m\u001b[38;5;68m─\u001b[0m\u001b[38;5;68m─\u001b[0m\u001b[38;5;68m─\u001b[0m\u001b[38;5;68m─\u001b[0m function was supposed to return data with lifetime `'b` but it is returning data with lifetime `'a`",
      "\u001b[38;5;246m────╯\u001b[0m"
     ]
    }
   ],
   "source": [
    "fn main() {\n",
    "    #[derive(Debug)]\n",
    "    struct S<'a> {\n",
    "        s1: &'a str,\n",
    "        s2: &'a str,\n",
    "    }\n",
    "    fn generate_struct<'a, 'b>(chaine_1: &'a str, chaine_2: &'b str, chaine_3: &'a str) -> S<'b> {\n",
    "        println!(\"{}\", chaine_2);\n",
    "        S {\n",
    "            s1: chaine_1,\n",
    "            s2: chaine_3,\n",
    "        }\n",
    "    }\n",
    "    fn intermediate_fn<'a>(chaine_1: &'a str, chaine_3: &'a str) -> S<'a> {\n",
    "        let chaine_2 = \"La chaine numero 2\";\n",
    "        generate_struct(chaine_1, chaine_2, chaine_3)\n",
    "    }\n",
    "    let chaine_3 = \"La chaine numero 3\";\n",
    "    let chaine_1 = \"La chaine numero 1\";\n",
    "    \n",
    "    let s = intermediate_fn(chaine_1, chaine_3);\n",
    "    println!(\"{:?}\", s);\n",
    "}\n",
    "main()"
   ]
  },
  {
   "cell_type": "markdown",
   "id": "monthly-capacity",
   "metadata": {
    "deletable": false,
    "editable": false,
    "solution2": "hidden"
   },
   "source": [
    "Il y a deux solutions à ce problème :\n",
    "> ```\n",
    "> fn generate_struct<'a, 'b>(chaine_1: &'a str, chaine_2: &'b str, chaine_3: &'a str) -> S<'a>\n",
    "> ```\n",
    "> **Il semblait évident de relier le retour de la fonction au lifetime 'a plutôt que 'b. Cette solution fonctionne ...**\n",
    "\n",
    "ou\n",
    "\n",
    "> ```\n",
    "> fn generate_struct<'a>(chaine_1: &'a str, chaine_2: &'a str, chaine_3: &'a str) -> S<'a>\n",
    "> ```\n",
    "> **... pourtant cet exemple n'est pas tout à fait le même que celui que nous avons vu plus haut, la fonction ne retourne pas de référence de type structure S mais une instance réelle d'une structure S, ainsi avec l'utilisation unique d'un seul lifetime pour toutes les références, les règles de Rust sont respectees. Cette solution fonctionne donc aussi.**\n",
    "\n",
    "*Notons enfin que le compilateur nous force à donner une annotation de lifetime pour le type structure S.*"
   ]
  },
  {
   "cell_type": "markdown",
   "id": "circular-fruit",
   "metadata": {
    "deletable": false,
    "editable": false,
    "solution2": "hidden",
    "solution2_first": true
   },
   "source": [
    "### Quelqu'un m'a dit que ce code est juste, pourquoi a-t-il raison ?\n",
    "\n",
    "```\n",
    "{\n",
    "    #[derive(Debug)]\n",
    "    struct A<'a> {\n",
    "        i: &'a i32,\n",
    "    }\n",
    "    \n",
    "\n",
    "    fn main() {\n",
    "        let r: A;\n",
    "        {\n",
    "            let local: i32 = 42;\n",
    "            r = A{\n",
    "                i: &local\n",
    "            };\n",
    "        }\n",
    "        dbg!(r);\n",
    "    }\n",
    "}\n",
    "```"
   ]
  },
  {
   "cell_type": "markdown",
   "id": "designed-circulation",
   "metadata": {
    "deletable": false,
    "editable": false,
    "solution2": "hidden"
   },
   "source": [
    "> Et pourtant... Ici, on voit que la variable \"local\" qui est referencee par la structure \"r\" ne vit pas assez longtemps ! Au moment du dbg! final, la variable \"local\" ne serait plus sur la pile, on est sorti de son scope... Bref, ça ne compile pas.\n",
    "```\n",
    "[E0597] Error: `local` does not live long enough\n",
    "    ╭─[command_45:1:1]\n",
    "    │\n",
    " 13 │                 i: &local\n",
    "    ·                    ─┬  \n",
    "    ·                     ╰── borrowed value does not live long enough\n",
    "    · \n",
    " 15 │         }\n",
    "    ·         ┬  \n",
    "    ·         ╰── `local` dropped here while still borrowed\n",
    " 16 │         dbg!(r);\n",
    "    ·              ┬  \n",
    "    ·              ╰── borrow later used here\n",
    "────╯\n",
    "\n",
    "\n",
    "```"
   ]
  }
 ],
 "metadata": {
  "kernelspec": {
   "display_name": "Rust",
   "language": "rust",
   "name": "rust"
  },
  "language_info": {
   "codemirror_mode": "rust",
   "file_extension": ".rs",
   "mimetype": "text/rust",
   "name": "Rust",
   "pygment_lexer": "rust",
   "version": ""
  },
  "toc": {
   "base_numbering": "5",
   "nav_menu": {},
   "number_sections": true,
   "sideBar": true,
   "skip_h1_title": false,
   "title_cell": "Table of Contents",
   "title_sidebar": "Contents",
   "toc_cell": false,
   "toc_position": {
    "height": "538.2px",
    "left": "42px",
    "top": "144px",
    "width": "268.8px"
   },
   "toc_section_display": true,
   "toc_window_display": false
  }
 },
 "nbformat": 4,
 "nbformat_minor": 5
}
