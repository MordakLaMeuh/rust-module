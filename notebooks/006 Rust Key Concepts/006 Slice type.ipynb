{
 "cells": [
  {
   "cell_type": "markdown",
   "id": "resident-austin",
   "metadata": {
    "deletable": false,
    "editable": false
   },
   "source": [
    "# Le type slice\n",
    "\n",
    "---\n",
    "\n",
    "*Peut être que certains d'entre vous trouvent étrange de rencontrer les slices aussi tard dans le programme. Elles sont en général enseignées bien en amont de beaucoup de parties que nous avons déjà vu, mais je trouve pour ma part que la compréhension des pointeurs et des références aide à mieux comprendre ce qu'est une slice.*"
   ]
  },
  {
   "cell_type": "markdown",
   "id": "enhanced-involvement",
   "metadata": {
    "deletable": false,
    "editable": false
   },
   "source": [
    "## Définition\n",
    "\n",
    "> Une slice en Rust est **une référence sur un ensemble d'element**, on les considère comme des `fat pointers` ou pointeurs gras en français puisqu'elles possèdent dans leur définition, en plus d'une adresse mémoire, une taille.\n",
    "\n",
    "- La syntaxe du type slice est composée du symbole de référencement `&` suivi du type entre crochets `[]` soit `&[type]` :"
   ]
  },
  {
   "cell_type": "code",
   "execution_count": 5,
   "id": "assumed-warehouse",
   "metadata": {
    "deletable": false,
    "editable": false
   },
   "outputs": [
    {
     "name": "stderr",
     "output_type": "stream",
     "text": [
      "[src/lib.rs:25] std::mem::size_of::<&usize>() = 8\n",
      "[src/lib.rs:30] std::mem::size_of::<&[u8]>() = 16\n"
     ]
    },
    {
     "data": {
      "text/plain": [
       "()"
      ]
     },
     "execution_count": 5,
     "metadata": {},
     "output_type": "execute_result"
    }
   ],
   "source": [
    "{\n",
    "    let i: usize = 42;\n",
    "    let reference_usize = &i;\n",
    "    dbg!(std::mem::size_of::<&usize>()); // Une reference basique est une adresse memoire ...\n",
    "                                         // ... et tient donc sur 8 octets sur un systeme 64 bits.\n",
    "    \n",
    "    let arr = [1, 2, 3, 4];\n",
    "    let slice: &[u8] = &arr;\n",
    "    dbg!(std::mem::size_of::<&[u8]>());  // En plus d'une adresse memoire, une slice possede ...\n",
    "                                         // ... une indication sur sa taille qui tient aussi sur 8 octets.\n",
    "                                         // La slice fait donc 16 octets sur un systeme 64 bits.\n",
    "}"
   ]
  },
  {
   "cell_type": "markdown",
   "id": "typical-robinson",
   "metadata": {
    "deletable": false,
    "editable": false
   },
   "source": [
    "> Les slices vous permettent de référencer une séquence contiguë d'éléments dans une collection plutôt que la collection entière.\n",
    "\n",
    "## Utilisation\n",
    "\n",
    "### Les sous-slices\n",
    "\n",
    "> La syntaxe à utiliser pour la création d'une slice repose sur l'utilisation du symbole de référencement `&` sur la variable dont on veut une slice. On peut y adjoindre des crochets apres le nom de la variable `[...SomeRange...]` afin de ne récupérer qu'une partie des éléments.\n",
    "\n",
    "- Il est ainsi possible de ne \"retenir\" qu'une partie des éléments d'un tableau :"
   ]
  },
  {
   "cell_type": "code",
   "execution_count": 6,
   "id": "minimal-species",
   "metadata": {
    "deletable": false,
    "editable": false
   },
   "outputs": [
    {
     "name": "stderr",
     "output_type": "stream",
     "text": [
      "[src/lib.rs:25] slice1 = [\n",
      "    1,\n",
      "    3,\n",
      "    2,\n",
      "    4,\n",
      "]\n",
      "[src/lib.rs:28] slice2 = [\n",
      "    2,\n",
      "    3,\n",
      "    4,\n",
      "]\n"
     ]
    },
    {
     "data": {
      "text/plain": [
       "()"
      ]
     },
     "execution_count": 6,
     "metadata": {},
     "output_type": "execute_result"
    }
   ],
   "source": [
    "{\n",
    "    let arr = [1, 2, 3, 4];\n",
    "    let slice1: &[u8] = &arr; // Cette slice reference TOUT le tableau.\n",
    "    dbg!(slice1);\n",
    "    \n",
    "    let slice2: &[u8] = &arr[1..=3]; // Seuls les 3 derniers elements du tableau sont references ici. \n",
    "    dbg!(slice2);\n",
    "}"
   ]
  },
  {
   "cell_type": "markdown",
   "id": "juvenile-enzyme",
   "metadata": {
    "deletable": false,
    "editable": false
   },
   "source": [
    "> Les possibilités syntaxiques sont :\n",
    "```\n",
    "- rien            -> Toute la collection est référencée.\n",
    "- [..y], [..=y]   -> Référencement depuis le début jusqu'à l'index y, exclu ou inclu.\n",
    "- [x..]           -> Référencement à partir de l'index x jusqu'à la fin.\n",
    "- [x..y], [x..=y] -> Reférencement entre les index x et y, y est exclu ou inclu.\n",
    "```"
   ]
  },
  {
   "cell_type": "markdown",
   "id": "blind-intensity",
   "metadata": {
    "deletable": false,
    "editable": false
   },
   "source": [
    "- Le code paniquera si la slice référence un index invalide :"
   ]
  },
  {
   "cell_type": "code",
   "execution_count": 15,
   "id": "artificial-spouse",
   "metadata": {
    "deletable": false,
    "editable": false
   },
   "outputs": [
    {
     "name": "stderr",
     "output_type": "stream",
     "text": [
      "thread '<unnamed>' panicked at 'range end index 512 out of range for slice of length 256', src/lib.rs:24:18\n",
      "stack backtrace:\n",
      "   0: rust_begin_unwind\n",
      "   1: core::panicking::panic_fmt\n",
      "             at /rustc/8460ca823e8367a30dda430efda790588b8c84d3/library/core/src/panicking.rs:64:14\n",
      "             at /rustc/8460ca823e8367a30dda430efda790588b8c84d3/library/std/src/panicking.rs:575:5\n",
      "             at /rustc/8460ca823e8367a30dda430efda790588b8c84d3/library/core/src/slice/index.rs:77:5\n",
      "   2: core::slice::index::slice_end_index_len_fail_rt\n",
      "   3: core::slice::index::slice_end_index_len_fail\n",
      "             at /rustc/8460ca823e8367a30dda430efda790588b8c84d3/library/core/src/slice/index.rs:69:9\n",
      "   4: <unknown>\n",
      "   5: evcxr::runtime::Runtime::run_loop\n",
      "   6: evcxr::runtime::runtime_hook\n",
      "   7: evcxr_jupyter::main\n",
      "note: Some details are omitted, run with `RUST_BACKTRACE=full` for a verbose backtrace.\n"
     ]
    }
   ],
   "source": [
    "{\n",
    "    let arr = [0xff; 256];\n",
    "    let slice = &arr[..512];\n",
    "}"
   ]
  },
  {
   "cell_type": "markdown",
   "id": "continental-postcard",
   "metadata": {
    "deletable": false,
    "editable": false
   },
   "source": [
    "- Une slice peut référencer pleinement ou en partie une autre slice :"
   ]
  },
  {
   "cell_type": "code",
   "execution_count": 20,
   "id": "adapted-description",
   "metadata": {
    "deletable": false,
    "editable": false
   },
   "outputs": [
    {
     "name": "stdout",
     "output_type": "stream",
     "text": [
      "array len = 4\n",
      "slice len = 3\n",
      "sub_slice len = 2\n"
     ]
    },
    {
     "name": "stderr",
     "output_type": "stream",
     "text": [
      "[src/lib.rs:29] sub_slice = [\n",
      "    2,\n",
      "    3,\n",
      "]\n"
     ]
    },
    {
     "data": {
      "text/plain": [
       "()"
      ]
     },
     "execution_count": 20,
     "metadata": {},
     "output_type": "execute_result"
    }
   ],
   "source": [
    "{\n",
    "    let arr = [1, 2, 3, 4];\n",
    "    println!(\"array len = {}\", arr.len());\n",
    "    let slice = &arr[1..];\n",
    "    println!(\"slice len = {}\", slice.len());\n",
    "    let sub_slice = &slice[..2];\n",
    "    println!(\"sub_slice len = {}\", sub_slice.len());\n",
    "    dbg!(sub_slice);\n",
    "}"
   ]
  },
  {
   "cell_type": "markdown",
   "id": "corporate-married",
   "metadata": {
    "deletable": false,
    "editable": false
   },
   "source": [
    "### L'emprunt et le non-transfert de possession\n",
    "\n",
    "- Enfin comme les slices sont des références, il n'y aura pas de transfert de possession (ownership) des types réfèrés aux fonctions, méthodes ou closures. Voici un exemple qui utilise une allocation dynamique d'un tableau via la macro vec!, *je choisis cet exemple parce que les Vector ne sont pas Copy* :"
   ]
  },
  {
   "cell_type": "code",
   "execution_count": 13,
   "id": "textile-venue",
   "metadata": {
    "deletable": false,
    "editable": false
   },
   "outputs": [
    {
     "name": "stderr",
     "output_type": "stream",
     "text": [
      "[src/lib.rs:24] slice = [\n",
      "    1.2,\n",
      "    1.6,\n",
      "    1.4,\n",
      "    1.8,\n",
      "]\n",
      "[src/lib.rs:24] slice = [\n",
      "    1.2,\n",
      "]\n",
      "[src/lib.rs:24] slice = [\n",
      "    1.6,\n",
      "    1.8,\n",
      "]\n"
     ]
    },
    {
     "data": {
      "text/plain": [
       "()"
      ]
     },
     "execution_count": 13,
     "metadata": {},
     "output_type": "execute_result"
    }
   ],
   "source": [
    "{\n",
    "    fn read_my_slice(slice: &[f64]) {\n",
    "        dbg!(slice);\n",
    "    }\n",
    "    let arr_vec: Vec<f64> = vec!(1.2, 1.4, 1.6, 1.8); // Allocation dynamique d'une collection qui n'est pas Copy\n",
    "    read_my_slice(&arr_vec);\n",
    "    read_my_slice(&arr_vec[..1]);\n",
    "    read_my_slice(&arr_vec[2..]);\n",
    "    \n",
    "    // j'ai toujours l'ownership de mon vecteur ici ...\n",
    "\n",
    "    fn take_ownership(arr_vec: Vec<f64>) {} // Cette fonction prend l'ownership de ma collection\n",
    "    take_ownership(arr_vec);\n",
    "\n",
    "    // dbg!(arr_vec); // Cette ligne ne compile pas, puisque je viens de perdre l'ownership...\n",
    "}"
   ]
  },
  {
   "cell_type": "markdown",
   "id": "moved-beijing",
   "metadata": {
    "deletable": false,
    "editable": false
   },
   "source": [
    "## Itération\n",
    "\n",
    "- Il est possible de parcourir les éléments d'une slice dans une boucle for :"
   ]
  },
  {
   "cell_type": "code",
   "execution_count": 16,
   "id": "single-boards",
   "metadata": {
    "deletable": false,
    "editable": false
   },
   "outputs": [
    {
     "name": "stderr",
     "output_type": "stream",
     "text": [
      "[src/lib.rs:26] elem = 2\n",
      "[src/lib.rs:26] elem = 3\n",
      "[src/lib.rs:26] elem = 4\n"
     ]
    },
    {
     "data": {
      "text/plain": [
       "()"
      ]
     },
     "execution_count": 16,
     "metadata": {},
     "output_type": "execute_result"
    }
   ],
   "source": [
    "{\n",
    "    let arr = [1, 2, 3, 4];\n",
    "    let slice = &arr[1..];\n",
    "    for elem in slice {\n",
    "        dbg!(elem);\n",
    "    }\n",
    "}"
   ]
  },
  {
   "cell_type": "code",
   "execution_count": 17,
   "id": "wooden-minister",
   "metadata": {
    "deletable": false,
    "editable": false
   },
   "outputs": [
    {
     "name": "stderr",
     "output_type": "stream",
     "text": [
      "[src/lib.rs:27] elem = 3\n",
      "[src/lib.rs:27] elem = 4\n"
     ]
    },
    {
     "data": {
      "text/plain": [
       "()"
      ]
     },
     "execution_count": 17,
     "metadata": {},
     "output_type": "execute_result"
    }
   ],
   "source": [
    "{\n",
    "    let arr = [1, 2, 3, 4];\n",
    "    let slice = &arr[1..];\n",
    "    let sub_slice = &slice[1..];\n",
    "    for elem in sub_slice {\n",
    "        dbg!(elem);\n",
    "    }\n",
    "}"
   ]
  },
  {
   "cell_type": "markdown",
   "id": "earned-mongolia",
   "metadata": {
    "deletable": false,
    "editable": false
   },
   "source": [
    "## Les méthodes\n",
    "\n",
    "> Il y a près d'une centaine de méthodes pour les slices, les plus utilisées son len(), iter() et to_vec()."
   ]
  },
  {
   "cell_type": "code",
   "execution_count": 33,
   "id": "referenced-cheat",
   "metadata": {
    "deletable": false,
    "editable": false
   },
   "outputs": [
    {
     "name": "stderr",
     "output_type": "stream",
     "text": [
      "[src/lib.rs:28] slice.len() = 4\n",
      "[src/lib.rs:32] &augmented_slice_iterator = Map {\n",
      "    iter: Iter(\n",
      "        [\n",
      "            1,\n",
      "            2,\n",
      "            3,\n",
      "            4,\n",
      "        ],\n",
      "    ),\n",
      "}\n",
      "[src/lib.rs:35] v = [\n",
      "    2,\n",
      "    4,\n",
      "    6,\n",
      "    8,\n",
      "]\n",
      "[src/lib.rs:37] slice.to_vec() = [\n",
      "    1,\n",
      "    2,\n",
      "    3,\n",
      "    4,\n",
      "]\n"
     ]
    },
    {
     "name": "stdout",
     "output_type": "stream",
     "text": [
      "Vector form augmented slice\n",
      "Vector from original slice\n"
     ]
    },
    {
     "data": {
      "text/plain": [
       "()"
      ]
     },
     "execution_count": 33,
     "metadata": {},
     "output_type": "execute_result"
    }
   ],
   "source": [
    "{\n",
    "    let arr = [1, 2, 3, 4];\n",
    "    let slice = &arr;\n",
    "    dbg!(slice.len());\n",
    "    let augmented_slice_iterator = slice.iter().map(|elem|\n",
    "        elem * 2\n",
    "    );\n",
    "    dbg!(&augmented_slice_iterator);\n",
    "    let v: Vec<usize> = augmented_slice_iterator.collect();\n",
    "    println!(\"Vector form augmented slice\");\n",
    "    dbg!(v);\n",
    "    println!(\"Vector from original slice\");\n",
    "    dbg!(slice.to_vec());\n",
    "}"
   ]
  },
  {
   "cell_type": "markdown",
   "id": "stuck-sentence",
   "metadata": {
    "deletable": false,
    "editable": false
   },
   "source": [
    "## Les accès mutables\n",
    "\n",
    "- En utilisant `&mut` plutôt que `&` lors de sa création, un slice peut accéder en écriture à la variable référencée, les règles d'exclusivité des références mutables s'appliquent de la même façon pour les slices, pas d'accès autrement que par le slice mutable :"
   ]
  },
  {
   "cell_type": "code",
   "execution_count": 37,
   "id": "written-master",
   "metadata": {
    "deletable": false,
    "editable": false,
    "scrolled": true
   },
   "outputs": [
    {
     "name": "stderr",
     "output_type": "stream",
     "text": [
      "[src/lib.rs:31] arr = [\n",
      "    42,\n",
      "    42,\n",
      "    2,\n",
      "    3,\n",
      "]\n"
     ]
    },
    {
     "data": {
      "text/plain": [
       "()"
      ]
     },
     "execution_count": 37,
     "metadata": {},
     "output_type": "execute_result"
    }
   ],
   "source": [
    "{\n",
    "    let mut arr = [0, 1, 2, 3];\n",
    "    let mutable_slice = &mut arr[..=1]; // La slice contient les deux premiers elements\n",
    "    mutable_slice[0] = 42;\n",
    "    // dbg!(arr); // La slice mutable vit encore, donc on ne peut pas acceder a l'array ainsi !!!\n",
    "    mutable_slice[1] = 42;\n",
    "    dbg!(arr);\n",
    "}"
   ]
  }
 ],
 "metadata": {
  "kernelspec": {
   "display_name": "Rust",
   "language": "rust",
   "name": "rust"
  },
  "language_info": {
   "codemirror_mode": "rust",
   "file_extension": ".rs",
   "mimetype": "text/rust",
   "name": "Rust",
   "pygment_lexer": "rust",
   "version": ""
  },
  "toc": {
   "base_numbering": "6",
   "nav_menu": {},
   "number_sections": true,
   "sideBar": true,
   "skip_h1_title": false,
   "title_cell": "Table of Contents",
   "title_sidebar": "Contents",
   "toc_cell": false,
   "toc_position": {
    "height": "calc(100% - 180px)",
    "left": "10px",
    "top": "150px",
    "width": "268.8px"
   },
   "toc_section_display": true,
   "toc_window_display": false
  }
 },
 "nbformat": 4,
 "nbformat_minor": 5
}
