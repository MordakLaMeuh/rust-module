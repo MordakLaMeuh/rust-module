{
 "cells": [
  {
   "cell_type": "markdown",
   "id": "christian-width",
   "metadata": {
    "deletable": false,
    "editable": false
   },
   "source": [
    "# La Types génériques\n",
    "\n",
    "---\n",
    "\n",
    "> Les types génériques sont une des composantes fondamentales du langage Rust, ils permettent d'utiliser les mêmes traits, méthodes ou fonction pour plusieurs types différents sans avoir à définir des implémentations pour chacun de ces types. On utilise une lettre majuscule pour nommer un type générique, la plus fréquemment utilisée est la lettre `T`."
   ]
  },
  {
   "cell_type": "markdown",
   "id": "simplified-mouth",
   "metadata": {
    "deletable": false,
    "editable": false
   },
   "source": [
    "## La STD et les génériques\n",
    "\n",
    "> La standard librairy de Rust définit énormément de structures, d'énumérations ou de traits qui prennent en paramètre des types génériques. Nous avons déjà croisé les énumérations `Option<T>` ou les `Result<T, E>`. Il y a aussi les structures dynamiquement allouées tel que les `Box<T, A = Global>` ou les `Vec<T, A = Global>`, ou des traits comme `From<T>` et `Into<T>` ou encore des fonctions comme `parse<F>`...\n",
    "\n",
    "> Toutes ces lettres en majuscule expriment des types génériques, que le moteur d'inférence tachera d'inférer correctement ou bien que nous devrons spécifier à la main.\n",
    "\n",
    "### Utilisation transparente des types génériques\n",
    "\n",
    "- Souvent, le moteur d'inférence vient en aide au développeur afin de lui épargner la tache de complexifier la syntaxe de son code, en voici des exemples :"
   ]
  },
  {
   "cell_type": "code",
   "execution_count": 48,
   "id": "prompt-destiny",
   "metadata": {
    "deletable": false,
    "editable": false
   },
   "outputs": [],
   "source": [
    "let u: usize = 12;\n",
    "let opt = Some(u); // Ici le type implicite de opt est Option<usize>\n",
    "    \n",
    "let my_box = Box::new(u); // Le type implicite est Box<usize>\n",
    "    \n",
    "let my_integer: isize = \"1664\".parse().unwrap(); // Le T de la fonction parse() est infere en usize ...\n",
    "                                                 // ... determine par le type de sortie"
   ]
  },
  {
   "cell_type": "markdown",
   "id": "directed-joint",
   "metadata": {
    "deletable": false,
    "editable": false
   },
   "source": [
    "### L'annotation du type"
   ]
  },
  {
   "cell_type": "markdown",
   "id": "administrative-spanish",
   "metadata": {
    "deletable": false,
    "editable": false
   },
   "source": [
    "- Mais il arrive que nous ayons à renseigner Rust sur le type à utiliser :"
   ]
  },
  {
   "cell_type": "code",
   "execution_count": 47,
   "id": "biological-stephen",
   "metadata": {
    "deletable": false,
    "editable": false
   },
   "outputs": [
    {
     "ename": "Error",
     "evalue": "type annotations needed",
     "output_type": "error",
     "traceback": [
      "\u001b[31m[E0282] Error:\u001b[0m type annotations needed",
      "   \u001b[38;5;246m╭\u001b[0m\u001b[38;5;246m─\u001b[0m\u001b[38;5;246m[\u001b[0mcommand_47:1:1\u001b[38;5;246m]\u001b[0m",
      "   \u001b[38;5;246m│\u001b[0m",
      " \u001b[38;5;246m2 │\u001b[0m \u001b[38;5;249m \u001b[0m\u001b[38;5;249m \u001b[0m\u001b[38;5;249m \u001b[0m\u001b[38;5;249m \u001b[0m\u001b[38;5;249ml\u001b[0m\u001b[38;5;249me\u001b[0m\u001b[38;5;249mt\u001b[0m\u001b[38;5;249m \u001b[0m\u001b[38;5;54mr\u001b[0m\u001b[38;5;54me\u001b[0m\u001b[38;5;54ms\u001b[0m\u001b[38;5;54mu\u001b[0m\u001b[38;5;54ml\u001b[0m\u001b[38;5;54mt\u001b[0m\u001b[38;5;249m \u001b[0m\u001b[38;5;249m=\u001b[0m\u001b[38;5;249m \u001b[0m\u001b[38;5;249m\"\u001b[0m\u001b[38;5;249m1\u001b[0m\u001b[38;5;249m6\u001b[0m\u001b[38;5;249m6\u001b[0m\u001b[38;5;249m4\u001b[0m\u001b[38;5;249m\"\u001b[0m\u001b[38;5;249m.\u001b[0m\u001b[38;5;249mp\u001b[0m\u001b[38;5;249ma\u001b[0m\u001b[38;5;249mr\u001b[0m\u001b[38;5;249ms\u001b[0m\u001b[38;5;249me\u001b[0m\u001b[38;5;249m(\u001b[0m\u001b[38;5;249m)\u001b[0m\u001b[38;5;249m.\u001b[0m\u001b[38;5;249mu\u001b[0m\u001b[38;5;249mn\u001b[0m\u001b[38;5;249mw\u001b[0m\u001b[38;5;249mr\u001b[0m\u001b[38;5;249ma\u001b[0m\u001b[38;5;249mp\u001b[0m\u001b[38;5;249m(\u001b[0m\u001b[38;5;249m)\u001b[0m\u001b[38;5;249m;\u001b[0m",
      " \u001b[38;5;246m  ·\u001b[0m         \u001b[38;5;54m─\u001b[0m\u001b[38;5;54m─\u001b[0m\u001b[38;5;54m─\u001b[0m\u001b[38;5;54m┬\u001b[0m\u001b[38;5;54m─\u001b[0m\u001b[38;5;54m─\u001b[0m\u001b[38;5;100m│\u001b[0m ",
      " \u001b[38;5;246m  ·\u001b[0m            \u001b[38;5;54m╰\u001b[0m\u001b[38;5;54m─\u001b[0m\u001b[38;5;54m─\u001b[0m\u001b[38;5;54m─\u001b[0m\u001b[38;5;54m─\u001b[0m error: type annotations needed",
      " \u001b[38;5;246m  ·\u001b[0m               \u001b[38;5;100m│\u001b[0m ",
      " \u001b[38;5;246m  ·\u001b[0m               \u001b[38;5;100m╰\u001b[0m\u001b[38;5;100m─\u001b[0m help: consider giving `result` an explicit type: `: /* Type */`",
      "\u001b[38;5;246m───╯\u001b[0m"
     ]
    }
   ],
   "source": [
    "{\n",
    "    let my_integer = \"1664\".parse().unwrap();\n",
    "}"
   ]
  },
  {
   "cell_type": "markdown",
   "id": "liked-penny",
   "metadata": {
    "deletable": false,
    "editable": false
   },
   "source": [
    "> Dans ce cas, nous avons deux solutions :\n",
    "> - **Donner le type de la variable result comme dans l'exemple précèdent et compter sur l'inférence.**\n",
    "> - Utiliser un **turbofish** pour expliciter l'annotation du type.\n",
    "\n",
    "Un turbofish ressemble à un petit poisson et sa syntaxe est de la forme `::<__type__>` soit `::<isize>` ici. Il ne faut pas oublier les deux petits `::` avant le symbole `<`.\n",
    "\n",
    "**Mais ou mettre le turbofish ?** (cf: Where to put the turbofish ?)\n",
    "\n",
    "Regardons le prototype de la fonction parse :\n",
    "```\n",
    "pub fn parse<F>(&self) -> Result<F, <F as FromStr>::Err>\n",
    "where\n",
    "    F: FromStr,\n",
    "```\n",
    "- Ici, la lettre F est placée entre le nom de la fonction et la parenthèse ouvrante des paramètres. C'est donc à cet endroit que doit se placer le turbofish `::<isize>`:"
   ]
  },
  {
   "cell_type": "code",
   "execution_count": 49,
   "id": "confidential-indianapolis",
   "metadata": {
    "deletable": false,
    "editable": false
   },
   "outputs": [
    {
     "name": "stderr",
     "output_type": "stream",
     "text": [
      "[src/lib.rs:134] my_integer = 1664\n"
     ]
    },
    {
     "data": {
      "text/plain": [
       "()"
      ]
     },
     "execution_count": 49,
     "metadata": {},
     "output_type": "execute_result"
    }
   ],
   "source": [
    "{\n",
    "    let my_integer = \"1664\".parse::<isize>().unwrap(); // Le turbofish est a sa place !\n",
    "    dbg!(my_integer);\n",
    "}"
   ]
  },
  {
   "cell_type": "markdown",
   "id": "harmful-baker",
   "metadata": {
    "deletable": false,
    "editable": false
   },
   "source": [
    "> parse() est une méthode ou une fonction.\n",
    "\n",
    "- Le placement du turbofish sur un trait est un peu différent, prenons l'exemple du trait Into :\n",
    "```\n",
    "pub trait Into<T>: Sized {\n",
    "    // Required method\n",
    "    fn into(self) -> T;\n",
    "}\n",
    "```\n",
    "- La déclaration du type générique T est juste après le nom du Trait `Into` + `<T>`, Le turbofish apparaîtra donc a cet endroit :"
   ]
  },
  {
   "cell_type": "code",
   "execution_count": 3,
   "id": "forbidden-honolulu",
   "metadata": {
    "deletable": false,
    "editable": false
   },
   "outputs": [
    {
     "name": "stderr",
     "output_type": "stream",
     "text": [
      "[src/lib.rs:105] s = \"Banane\"\n"
     ]
    }
   ],
   "source": [
    "// let s = \"Banane\".into(); // Ne compile pas sans declaration du type ni turbofish\n",
    "let s = Into::<String>::into(\"Banane\"); // Ici, le turbofish renseigne correctement le compilateur\n",
    "dbg!(s);"
   ]
  },
  {
   "cell_type": "markdown",
   "id": "nominated-state",
   "metadata": {
    "deletable": false,
    "editable": false
   },
   "source": [
    "**IMPORTANT**\n",
    "\n",
    "> Pour Into ici, on utilise la syntaxe `Trait::methode` avec les `::` entre le trait et la méthode. Avec l'ajout du turbofish pour le trait on a donc `Trait::<type>::methode`. Cette syntaxe avec les `::` est équivalente à celle que l'on aurait pour un constructeur de structure `Structure::new`. `Trait` ou `Structure` ici constituent un namespace.\n",
    "\n",
    "> Pour une instruction comme `let a: usize = 42 + 42;`, on aurait pu écrire `let a = std::ops::Add::<usize>::add(42, 42);` qui est sa version sans aucun sucre syntaxique."
   ]
  },
  {
   "cell_type": "markdown",
   "id": "practical-peeing",
   "metadata": {
    "deletable": false,
    "editable": false
   },
   "source": [
    "## Type générique dans une structure ou une énumération\n",
    "\n",
    "> Dans cette partie, nous allons écrire la définition d'une structure utilisant un type générique et créer une méthode générique pour cette dernière. Cet exemple, je l'espère, permettra déjà de se faire une bonne idée de ce que sont les types génériques.\n",
    "\n",
    "### Ce que l'on avait déjà\n",
    "\n",
    "- Reprenons la structure Vector qui a déjà été croisée plusieurs fois dans le cours :"
   ]
  },
  {
   "cell_type": "code",
   "execution_count": 5,
   "id": "champion-reality",
   "metadata": {
    "deletable": false,
    "editable": false
   },
   "outputs": [],
   "source": [
    "{\n",
    "    struct Vector {\n",
    "        i: usize,\n",
    "        j: usize,\n",
    "    }\n",
    "}"
   ]
  },
  {
   "cell_type": "markdown",
   "id": "particular-attitude",
   "metadata": {
    "deletable": false,
    "editable": false
   },
   "source": [
    "    L'inconvénient de cette structure, c'est qu'elle ne peut s'utiliser qu'avec le type usize, or on aimerait bien pouvoir utiliser des valeurs négatives ou des valeurs flottantes sans avoir à définir 3 types de structure !"
   ]
  },
  {
   "cell_type": "markdown",
   "id": "standing-broadcasting",
   "metadata": {
    "deletable": false,
    "editable": false
   },
   "source": [
    "### Écriture générique de la structure Vector\n",
    "\n",
    "- Afin de rendre les types de ma structure génériques, je dois remplacer `usize` par `T`. Attention, comme T n'est pas déclaré pour ma structure, je dois mettre en suffixe du nom de ma structure la lettre `T` enveloppée de `<` et de `>`."
   ]
  },
  {
   "cell_type": "code",
   "execution_count": 6,
   "id": "sustained-prefix",
   "metadata": {
    "deletable": false,
    "editable": false
   },
   "outputs": [],
   "source": [
    "{\n",
    "    struct Vector<T> {\n",
    "        i: T,\n",
    "        j: T,\n",
    "    }\n",
    "}"
   ]
  },
  {
   "cell_type": "markdown",
   "id": "united-match",
   "metadata": {
    "deletable": false,
    "editable": false
   },
   "source": [
    "> Omettre `<T>` provoque une erreur de compilation."
   ]
  },
  {
   "cell_type": "markdown",
   "id": "german-newman",
   "metadata": {
    "deletable": false,
    "editable": false
   },
   "source": [
    "### Déclaration d'une variable de type Vector\n",
    "\n",
    "- Essayons de déclarer plusieurs Vector avec des valeurs aux allures différentes :"
   ]
  },
  {
   "cell_type": "code",
   "execution_count": null,
   "id": "personalized-kingdom",
   "metadata": {
    "deletable": false,
    "editable": false
   },
   "outputs": [],
   "source": [
    "{\n",
    "    struct Vector<T> { i: T, j: T }\n",
    "    let v1 = Vector { i: 32, j: 64 };\n",
    "    let v2 = Vector { i: 3.14, j: 6.78 };\n",
    "    let v3 = Vector { i: -2, j: -87};\n",
    "}"
   ]
  },
  {
   "cell_type": "markdown",
   "id": "normal-necessity",
   "metadata": {
    "deletable": false,
    "editable": false
   },
   "source": [
    "- Les types génériques semblent fonctionner. Mais le moteur d'inférence de type vient de nous filer un sacre coup de main pour la syntaxe. En réalité, si nous avions eu à définir le type exact de Vector pour v1, v2 et v3, la syntaxe aurait été comme cela :"
   ]
  },
  {
   "cell_type": "code",
   "execution_count": 15,
   "id": "continuing-limitation",
   "metadata": {
    "deletable": false,
    "editable": false
   },
   "outputs": [
    {
     "data": {
      "text/plain": [
       "()"
      ]
     },
     "execution_count": 15,
     "metadata": {},
     "output_type": "execute_result"
    }
   ],
   "source": [
    "{\n",
    "    struct Vector<T> { i: T, j: T }\n",
    "    let v1: Vector<usize> = Vector { i: 32, j: 64 };\n",
    "    let v2: Vector<f64> = Vector { i: 3.14, j: 6.78 };\n",
    "    let v3: Vector<isize> = Vector { i: -2, j: -87};\n",
    "}"
   ]
  },
  {
   "cell_type": "markdown",
   "id": "chinese-business",
   "metadata": {
    "deletable": false,
    "editable": false
   },
   "source": [
    "> Après le nom du type de structure, la définition du type générique doit figurer entre `< >`\n",
    "\n",
    "- Nous remarquons que c'est aussi possible de mettre un booléen en type, pourtant ça ne parait pas logique... pour un vecteur."
   ]
  },
  {
   "cell_type": "code",
   "execution_count": 19,
   "id": "basic-halifax",
   "metadata": {
    "deletable": false,
    "editable": false
   },
   "outputs": [
    {
     "data": {
      "text/plain": [
       "()"
      ]
     },
     "execution_count": 19,
     "metadata": {},
     "output_type": "execute_result"
    }
   ],
   "source": [
    "{\n",
    "    struct Vector<T> { i: T, j: T }\n",
    "    let v4: Vector<bool> = Vector { i: false, j: true };\n",
    "}"
   ]
  },
  {
   "cell_type": "markdown",
   "id": "given-leisure",
   "metadata": {
    "deletable": false,
    "editable": false
   },
   "source": [
    "    Il n'y a aucune contrainte à ce que ce soit tel ou tel type. Ils peuvent tous y passer !"
   ]
  },
  {
   "cell_type": "markdown",
   "id": "cordless-manner",
   "metadata": {
    "deletable": false,
    "editable": false
   },
   "source": [
    "### Les contraintes de trait\n",
    "\n",
    "- Certains types ne peuvent pas s'additionner, ainsi, nous préférerions éviter de pouvoir renseigner ces types-là. Pour cela, nous allons contraindre la définition de la structure Vector en exigeant que le type `T` DOIT implémenter le trait Add :"
   ]
  },
  {
   "cell_type": "code",
   "execution_count": 21,
   "id": "lovely-layer",
   "metadata": {
    "deletable": false,
    "editable": false
   },
   "outputs": [
    {
     "data": {
      "text/plain": [
       "()"
      ]
     },
     "execution_count": 21,
     "metadata": {},
     "output_type": "execute_result"
    }
   ],
   "source": [
    "{\n",
    "    struct Vector<T: std::ops::Add> {\n",
    "        i: T,\n",
    "        j: T,\n",
    "    }\n",
    "}"
   ]
  },
  {
   "cell_type": "markdown",
   "id": "differential-emission",
   "metadata": {
    "deletable": false,
    "editable": false
   },
   "source": [
    "La syntaxe correcte consiste à l'ajout du symbole `:` après la déclaration du type générique suivi d'un ou de plusieurs traits (utiliser `+` pour ca).\n",
    "\n",
    "On pourrait avoir `struct Vector<T: std::ops::Add + std::ops::AddAssign + std::fmt::Debug>` si l'on veut que le type implémente Add, AddAssign et Debug."
   ]
  },
  {
   "cell_type": "code",
   "execution_count": 31,
   "id": "occupational-spelling",
   "metadata": {
    "deletable": false,
    "editable": false
   },
   "outputs": [
    {
     "name": "stderr",
     "output_type": "stream",
     "text": [
      "[src/lib.rs:33] v4 = Vector {\n",
      "    i: 3.13,\n",
      "    j: -1.3,\n",
      "}\n"
     ]
    },
    {
     "data": {
      "text/plain": [
       "()"
      ]
     },
     "execution_count": 31,
     "metadata": {},
     "output_type": "execute_result"
    }
   ],
   "source": [
    "{\n",
    "    #[derive(Debug)]\n",
    "    struct Vector<T: std::ops::Add + std::fmt::Debug> {\n",
    "        i: T,\n",
    "        j: T,\n",
    "    }\n",
    "    let v4: Vector<f64> = Vector { i: 3.13, j: -1.3 };\n",
    "    dbg!(v4);\n",
    "}"
   ]
  },
  {
   "cell_type": "markdown",
   "id": "ongoing-massachusetts",
   "metadata": {
    "deletable": false,
    "editable": false
   },
   "source": [
    "- Ça ne fonctionne plus avec le type bool puisque bool n'implémente pas Add :"
   ]
  },
  {
   "cell_type": "code",
   "execution_count": 30,
   "id": "revised-sender",
   "metadata": {
    "deletable": false,
    "editable": false
   },
   "outputs": [
    {
     "ename": "Error",
     "evalue": "cannot add `bool` to `bool`",
     "output_type": "error",
     "traceback": [
      "\u001b[31m[E0277] Error:\u001b[0m cannot add `bool` to `bool`",
      "   \u001b[38;5;246m╭\u001b[0m\u001b[38;5;246m─\u001b[0m\u001b[38;5;246m[\u001b[0mcommand_30:1:1\u001b[38;5;246m]\u001b[0m",
      "   \u001b[38;5;246m│\u001b[0m",
      " \u001b[38;5;246m2 │\u001b[0m \u001b[38;5;249m \u001b[0m\u001b[38;5;249m \u001b[0m\u001b[38;5;249m \u001b[0m\u001b[38;5;249m \u001b[0m\u001b[38;5;249ms\u001b[0m\u001b[38;5;249mt\u001b[0m\u001b[38;5;249mr\u001b[0m\u001b[38;5;249mu\u001b[0m\u001b[38;5;249mc\u001b[0m\u001b[38;5;249mt\u001b[0m\u001b[38;5;249m \u001b[0m\u001b[38;5;249mV\u001b[0m\u001b[38;5;249me\u001b[0m\u001b[38;5;249mc\u001b[0m\u001b[38;5;249mt\u001b[0m\u001b[38;5;249mo\u001b[0m\u001b[38;5;249mr\u001b[0m\u001b[38;5;249m<\u001b[0m\u001b[38;5;249mT\u001b[0m\u001b[38;5;249m:\u001b[0m\u001b[38;5;249m \u001b[0m\u001b[38;5;100ms\u001b[0m\u001b[38;5;100mt\u001b[0m\u001b[38;5;100md\u001b[0m\u001b[38;5;100m:\u001b[0m\u001b[38;5;100m:\u001b[0m\u001b[38;5;100mo\u001b[0m\u001b[38;5;100mp\u001b[0m\u001b[38;5;100ms\u001b[0m\u001b[38;5;100m:\u001b[0m\u001b[38;5;100m:\u001b[0m\u001b[38;5;100mA\u001b[0m\u001b[38;5;100md\u001b[0m\u001b[38;5;100md\u001b[0m\u001b[38;5;249m \u001b[0m\u001b[38;5;249m+\u001b[0m\u001b[38;5;249m \u001b[0m\u001b[38;5;249ms\u001b[0m\u001b[38;5;249mt\u001b[0m\u001b[38;5;249md\u001b[0m\u001b[38;5;249m:\u001b[0m\u001b[38;5;249m:\u001b[0m\u001b[38;5;249mf\u001b[0m\u001b[38;5;249mm\u001b[0m\u001b[38;5;249mt\u001b[0m\u001b[38;5;249m:\u001b[0m\u001b[38;5;249m:\u001b[0m\u001b[38;5;249mD\u001b[0m\u001b[38;5;249me\u001b[0m\u001b[38;5;249mb\u001b[0m\u001b[38;5;249mu\u001b[0m\u001b[38;5;249mg\u001b[0m\u001b[38;5;249m>\u001b[0m\u001b[38;5;249m \u001b[0m\u001b[38;5;249m{\u001b[0m",
      " \u001b[38;5;246m  ·\u001b[0m                      \u001b[38;5;100m─\u001b[0m\u001b[38;5;100m─\u001b[0m\u001b[38;5;100m─\u001b[0m\u001b[38;5;100m─\u001b[0m\u001b[38;5;100m─\u001b[0m\u001b[38;5;100m─\u001b[0m\u001b[38;5;100m┬\u001b[0m\u001b[38;5;100m─\u001b[0m\u001b[38;5;100m─\u001b[0m\u001b[38;5;100m─\u001b[0m\u001b[38;5;100m─\u001b[0m\u001b[38;5;100m─\u001b[0m\u001b[38;5;100m─\u001b[0m  ",
      " \u001b[38;5;246m  ·\u001b[0m                            \u001b[38;5;100m╰\u001b[0m\u001b[38;5;100m─\u001b[0m\u001b[38;5;100m─\u001b[0m\u001b[38;5;100m─\u001b[0m\u001b[38;5;100m─\u001b[0m\u001b[38;5;100m─\u001b[0m\u001b[38;5;100m─\u001b[0m\u001b[38;5;100m─\u001b[0m\u001b[38;5;100m─\u001b[0m required by this bound in `Vector`",
      " \u001b[38;5;246m  ·\u001b[0m ",
      " \u001b[38;5;246m6 │\u001b[0m \u001b[38;5;249m \u001b[0m\u001b[38;5;249m \u001b[0m\u001b[38;5;249m \u001b[0m\u001b[38;5;249m \u001b[0m\u001b[38;5;249ml\u001b[0m\u001b[38;5;249me\u001b[0m\u001b[38;5;249mt\u001b[0m\u001b[38;5;249m \u001b[0m\u001b[38;5;249mv\u001b[0m\u001b[38;5;249m4\u001b[0m\u001b[38;5;249m:\u001b[0m\u001b[38;5;249m \u001b[0m\u001b[38;5;54mV\u001b[0m\u001b[38;5;54me\u001b[0m\u001b[38;5;54mc\u001b[0m\u001b[38;5;54mt\u001b[0m\u001b[38;5;54mo\u001b[0m\u001b[38;5;54mr\u001b[0m\u001b[38;5;54m<\u001b[0m\u001b[38;5;54mb\u001b[0m\u001b[38;5;54mo\u001b[0m\u001b[38;5;54mo\u001b[0m\u001b[38;5;54ml\u001b[0m\u001b[38;5;54m>\u001b[0m\u001b[38;5;249m \u001b[0m\u001b[38;5;249m=\u001b[0m\u001b[38;5;249m \u001b[0m\u001b[38;5;249mV\u001b[0m\u001b[38;5;249me\u001b[0m\u001b[38;5;249mc\u001b[0m\u001b[38;5;249mt\u001b[0m\u001b[38;5;249mo\u001b[0m\u001b[38;5;249mr\u001b[0m\u001b[38;5;249m \u001b[0m\u001b[38;5;249m{\u001b[0m\u001b[38;5;249m \u001b[0m\u001b[38;5;249mi\u001b[0m\u001b[38;5;249m:\u001b[0m\u001b[38;5;249m \u001b[0m\u001b[38;5;249mf\u001b[0m\u001b[38;5;249ma\u001b[0m\u001b[38;5;249ml\u001b[0m\u001b[38;5;249ms\u001b[0m\u001b[38;5;249me\u001b[0m\u001b[38;5;249m,\u001b[0m\u001b[38;5;249m \u001b[0m\u001b[38;5;249mj\u001b[0m\u001b[38;5;249m:\u001b[0m\u001b[38;5;249m \u001b[0m\u001b[38;5;249mt\u001b[0m\u001b[38;5;249mr\u001b[0m\u001b[38;5;249mu\u001b[0m\u001b[38;5;249me\u001b[0m\u001b[38;5;249m \u001b[0m\u001b[38;5;249m}\u001b[0m\u001b[38;5;249m;\u001b[0m",
      " \u001b[38;5;246m  ·\u001b[0m             \u001b[38;5;54m─\u001b[0m\u001b[38;5;54m─\u001b[0m\u001b[38;5;54m─\u001b[0m\u001b[38;5;54m─\u001b[0m\u001b[38;5;54m─\u001b[0m\u001b[38;5;54m─\u001b[0m\u001b[38;5;54m┬\u001b[0m\u001b[38;5;54m─\u001b[0m\u001b[38;5;54m─\u001b[0m\u001b[38;5;54m─\u001b[0m\u001b[38;5;54m─\u001b[0m\u001b[38;5;54m─\u001b[0m  ",
      " \u001b[38;5;246m  ·\u001b[0m                   \u001b[38;5;54m╰\u001b[0m\u001b[38;5;54m─\u001b[0m\u001b[38;5;54m─\u001b[0m\u001b[38;5;54m─\u001b[0m\u001b[38;5;54m─\u001b[0m\u001b[38;5;54m─\u001b[0m\u001b[38;5;54m─\u001b[0m\u001b[38;5;54m─\u001b[0m no implementation for `bool + bool`",
      "\u001b[38;5;246m───╯\u001b[0m"
     ]
    },
    {
     "ename": "Error",
     "evalue": "cannot add `bool` to `bool`",
     "output_type": "error",
     "traceback": [
      "\u001b[31m[E0277] Error:\u001b[0m cannot add `bool` to `bool`",
      "   \u001b[38;5;246m╭\u001b[0m\u001b[38;5;246m─\u001b[0m\u001b[38;5;246m[\u001b[0mcommand_30:1:1\u001b[38;5;246m]\u001b[0m",
      "   \u001b[38;5;246m│\u001b[0m",
      " \u001b[38;5;246m2 │\u001b[0m \u001b[38;5;249m \u001b[0m\u001b[38;5;249m \u001b[0m\u001b[38;5;249m \u001b[0m\u001b[38;5;249m \u001b[0m\u001b[38;5;249ms\u001b[0m\u001b[38;5;249mt\u001b[0m\u001b[38;5;249mr\u001b[0m\u001b[38;5;249mu\u001b[0m\u001b[38;5;249mc\u001b[0m\u001b[38;5;249mt\u001b[0m\u001b[38;5;249m \u001b[0m\u001b[38;5;249mV\u001b[0m\u001b[38;5;249me\u001b[0m\u001b[38;5;249mc\u001b[0m\u001b[38;5;249mt\u001b[0m\u001b[38;5;249mo\u001b[0m\u001b[38;5;249mr\u001b[0m\u001b[38;5;249m<\u001b[0m\u001b[38;5;249mT\u001b[0m\u001b[38;5;249m:\u001b[0m\u001b[38;5;249m \u001b[0m\u001b[38;5;100ms\u001b[0m\u001b[38;5;100mt\u001b[0m\u001b[38;5;100md\u001b[0m\u001b[38;5;100m:\u001b[0m\u001b[38;5;100m:\u001b[0m\u001b[38;5;100mo\u001b[0m\u001b[38;5;100mp\u001b[0m\u001b[38;5;100ms\u001b[0m\u001b[38;5;100m:\u001b[0m\u001b[38;5;100m:\u001b[0m\u001b[38;5;100mA\u001b[0m\u001b[38;5;100md\u001b[0m\u001b[38;5;100md\u001b[0m\u001b[38;5;249m \u001b[0m\u001b[38;5;249m+\u001b[0m\u001b[38;5;249m \u001b[0m\u001b[38;5;249ms\u001b[0m\u001b[38;5;249mt\u001b[0m\u001b[38;5;249md\u001b[0m\u001b[38;5;249m:\u001b[0m\u001b[38;5;249m:\u001b[0m\u001b[38;5;249mf\u001b[0m\u001b[38;5;249mm\u001b[0m\u001b[38;5;249mt\u001b[0m\u001b[38;5;249m:\u001b[0m\u001b[38;5;249m:\u001b[0m\u001b[38;5;249mD\u001b[0m\u001b[38;5;249me\u001b[0m\u001b[38;5;249mb\u001b[0m\u001b[38;5;249mu\u001b[0m\u001b[38;5;249mg\u001b[0m\u001b[38;5;249m>\u001b[0m\u001b[38;5;249m \u001b[0m\u001b[38;5;249m{\u001b[0m",
      " \u001b[38;5;246m  ·\u001b[0m                      \u001b[38;5;100m─\u001b[0m\u001b[38;5;100m─\u001b[0m\u001b[38;5;100m─\u001b[0m\u001b[38;5;100m─\u001b[0m\u001b[38;5;100m─\u001b[0m\u001b[38;5;100m─\u001b[0m\u001b[38;5;100m┬\u001b[0m\u001b[38;5;100m─\u001b[0m\u001b[38;5;100m─\u001b[0m\u001b[38;5;100m─\u001b[0m\u001b[38;5;100m─\u001b[0m\u001b[38;5;100m─\u001b[0m\u001b[38;5;100m─\u001b[0m  ",
      " \u001b[38;5;246m  ·\u001b[0m                            \u001b[38;5;100m╰\u001b[0m\u001b[38;5;100m─\u001b[0m\u001b[38;5;100m─\u001b[0m\u001b[38;5;100m─\u001b[0m\u001b[38;5;100m─\u001b[0m\u001b[38;5;100m─\u001b[0m\u001b[38;5;100m─\u001b[0m\u001b[38;5;100m─\u001b[0m\u001b[38;5;100m─\u001b[0m required by this bound in `Vector`",
      " \u001b[38;5;246m  ·\u001b[0m ",
      " \u001b[38;5;246m6 │\u001b[0m \u001b[38;5;249m \u001b[0m\u001b[38;5;249m \u001b[0m\u001b[38;5;249m \u001b[0m\u001b[38;5;249m \u001b[0m\u001b[38;5;249ml\u001b[0m\u001b[38;5;249me\u001b[0m\u001b[38;5;249mt\u001b[0m\u001b[38;5;249m \u001b[0m\u001b[38;5;249mv\u001b[0m\u001b[38;5;249m4\u001b[0m\u001b[38;5;249m:\u001b[0m\u001b[38;5;249m \u001b[0m\u001b[38;5;249mV\u001b[0m\u001b[38;5;249me\u001b[0m\u001b[38;5;249mc\u001b[0m\u001b[38;5;249mt\u001b[0m\u001b[38;5;249mo\u001b[0m\u001b[38;5;249mr\u001b[0m\u001b[38;5;249m<\u001b[0m\u001b[38;5;249mb\u001b[0m\u001b[38;5;249mo\u001b[0m\u001b[38;5;249mo\u001b[0m\u001b[38;5;249ml\u001b[0m\u001b[38;5;249m>\u001b[0m\u001b[38;5;249m \u001b[0m\u001b[38;5;249m=\u001b[0m\u001b[38;5;249m \u001b[0m\u001b[38;5;54mV\u001b[0m\u001b[38;5;54me\u001b[0m\u001b[38;5;54mc\u001b[0m\u001b[38;5;54mt\u001b[0m\u001b[38;5;54mo\u001b[0m\u001b[38;5;54mr\u001b[0m\u001b[38;5;249m \u001b[0m\u001b[38;5;249m{\u001b[0m\u001b[38;5;249m \u001b[0m\u001b[38;5;249mi\u001b[0m\u001b[38;5;249m:\u001b[0m\u001b[38;5;249m \u001b[0m\u001b[38;5;249mf\u001b[0m\u001b[38;5;249ma\u001b[0m\u001b[38;5;249ml\u001b[0m\u001b[38;5;249ms\u001b[0m\u001b[38;5;249me\u001b[0m\u001b[38;5;249m,\u001b[0m\u001b[38;5;249m \u001b[0m\u001b[38;5;249mj\u001b[0m\u001b[38;5;249m:\u001b[0m\u001b[38;5;249m \u001b[0m\u001b[38;5;249mt\u001b[0m\u001b[38;5;249mr\u001b[0m\u001b[38;5;249mu\u001b[0m\u001b[38;5;249me\u001b[0m\u001b[38;5;249m \u001b[0m\u001b[38;5;249m}\u001b[0m\u001b[38;5;249m;\u001b[0m",
      " \u001b[38;5;246m  ·\u001b[0m                            \u001b[38;5;54m─\u001b[0m\u001b[38;5;54m─\u001b[0m\u001b[38;5;54m─\u001b[0m\u001b[38;5;54m┬\u001b[0m\u001b[38;5;54m─\u001b[0m\u001b[38;5;54m─\u001b[0m  ",
      " \u001b[38;5;246m  ·\u001b[0m                               \u001b[38;5;54m╰\u001b[0m\u001b[38;5;54m─\u001b[0m\u001b[38;5;54m─\u001b[0m\u001b[38;5;54m─\u001b[0m\u001b[38;5;54m─\u001b[0m no implementation for `bool + bool`",
      "\u001b[38;5;246m───╯\u001b[0m"
     ]
    }
   ],
   "source": [
    "{\n",
    "    struct Vector<T: std::ops::Add + std::fmt::Debug> {\n",
    "        i: T,\n",
    "        j: T,\n",
    "    }\n",
    "    let v4: Vector<bool> = Vector { i: false, j: true };\n",
    "}"
   ]
  },
  {
   "cell_type": "markdown",
   "id": "above-equipment",
   "metadata": {
    "deletable": false,
    "editable": false
   },
   "source": [
    "### Implémentation de Vector\\<T>\n",
    "\n",
    "- Implémenter des méthodes pour la structure ne sera plus pour Vector, mais pour `Vector<T>`. Le type Vector tout court n'existe pas pour le compilateur. Dans la syntaxe de mon implémentation, je dois rappeler les différentes contraintes de trait pour Vector\\<T> soit `std::ops::Add + std::fmt::Debug` pour notre exemple :"
   ]
  },
  {
   "cell_type": "code",
   "execution_count": 33,
   "id": "initial-orbit",
   "metadata": {
    "deletable": false,
    "editable": false
   },
   "outputs": [
    {
     "data": {
      "text/plain": [
       "()"
      ]
     },
     "execution_count": 33,
     "metadata": {},
     "output_type": "execute_result"
    }
   ],
   "source": [
    "{\n",
    "    #[derive(Debug)]\n",
    "    struct Vector<T> { i: T, j: T}\n",
    "    fn take_vector<T: std::ops::Add + std::fmt::Debug>(vector: Vector<T>) {}\n",
    "    impl<T: std::ops::Add + std::fmt::Debug> Vector<T> { // Bien respected la syntaxe !\n",
    "        // Implementation des methodes ici\n",
    "    }\n",
    "}"
   ]
  },
  {
   "cell_type": "markdown",
   "id": "immediate-brook",
   "metadata": {
    "deletable": false,
    "editable": false
   },
   "source": [
    "- Définissons une méthode debug(), cela se fait sans difficulté particuliere, la syntaxe `&self` des méthodes reste la même :"
   ]
  },
  {
   "cell_type": "code",
   "execution_count": 35,
   "id": "controlling-document",
   "metadata": {
    "deletable": false,
    "editable": false
   },
   "outputs": [
    {
     "name": "stderr",
     "output_type": "stream",
     "text": [
      "[src/lib.rs:32] self = Vector {\n",
      "    i: 3.12,\n",
      "    j: 9.1,\n",
      "}\n"
     ]
    },
    {
     "data": {
      "text/plain": [
       "()"
      ]
     },
     "execution_count": 35,
     "metadata": {},
     "output_type": "execute_result"
    }
   ],
   "source": [
    "{\n",
    "    #[derive(Debug)]\n",
    "    struct Vector<T> { i: T, j: T}\n",
    "    impl<T: std::ops::Add + std::fmt::Debug> Vector<T> { // Bien respecter la syntaxe !\n",
    "        fn debug(&self) {\n",
    "            dbg!(self); \n",
    "        }\n",
    "    }\n",
    "    let s = Vector { i: 3.12, j: 9.1 };\n",
    "    s.debug();\n",
    "}"
   ]
  },
  {
   "cell_type": "markdown",
   "id": "social-flesh",
   "metadata": {
    "deletable": false,
    "editable": false
   },
   "source": [
    "### Fonctions prenant Vector\\<T>"
   ]
  },
  {
   "cell_type": "markdown",
   "id": "increased-diving",
   "metadata": {
    "deletable": false,
    "editable": false
   },
   "source": [
    "- Les fonctions prenant en paramètre Vector\\<T> ou retournant Vector\\<T> auront grosso modo la même syntaxe que l'implémentation. Exemple de fonction prenant Vector\\<T> :"
   ]
  },
  {
   "cell_type": "code",
   "execution_count": 40,
   "id": "flexible-preparation",
   "metadata": {
    "deletable": false,
    "editable": false
   },
   "outputs": [
    {
     "name": "stderr",
     "output_type": "stream",
     "text": [
      "[src/lib.rs:36] vector = Vector {\n",
      "    i: 3.12,\n",
      "    j: 9.1,\n",
      "}\n"
     ]
    },
    {
     "data": {
      "text/plain": [
       "()"
      ]
     },
     "execution_count": 40,
     "metadata": {},
     "output_type": "execute_result"
    }
   ],
   "source": [
    "{\n",
    "    #[derive(Debug)]\n",
    "    struct Vector<T> { i: T, j: T}\n",
    "    fn create_vector<T: std::ops::Add + std::fmt::Debug>(i: T, j: T) -> Vector<T> {\n",
    "        Vector {\n",
    "            i,\n",
    "            j,\n",
    "        }\n",
    "    }\n",
    "    fn take_vector<T: std::ops::Add + std::fmt::Debug>(vector: Vector<T>) { // Bien respecter la syntaxe !\n",
    "        dbg!(vector);\n",
    "    }\n",
    "    let v = create_vector(3.12, 9.1);\n",
    "    take_vector(v);\n",
    "}"
   ]
  },
  {
   "cell_type": "markdown",
   "id": "equivalent-kentucky",
   "metadata": {
    "deletable": false,
    "editable": false
   },
   "source": [
    "### Implémentation du trait Add pour Vector\\<T>\n",
    "\n",
    "- Écrivons donc le boilerplate du trait Add pour notre vecteur générique :"
   ]
  },
  {
   "cell_type": "code",
   "execution_count": 7,
   "id": "official-durham",
   "metadata": {
    "deletable": false,
    "editable": false
   },
   "outputs": [
    {
     "name": "stderr",
     "output_type": "stream",
     "text": [
      "[src/lib.rs:132] Vector { i: 3.14, j: 6.5 } + Vector { i: 6.9, j: -1.12 } = Vector {\n",
      "    i: 10.040000000000001,\n",
      "    j: 5.38,\n",
      "}\n",
      "[src/lib.rs:133] Vector { i: 3, j: 6 } + Vector { i: 6, j: 1 } = Vector {\n",
      "    i: 9,\n",
      "    j: 7,\n",
      "}\n",
      "[src/lib.rs:134] Vector { i: -3, j: 6 } + Vector { i: -6, j: -2 } = Vector {\n",
      "    i: -9,\n",
      "    j: 4,\n",
      "}\n"
     ]
    },
    {
     "data": {
      "text/plain": [
       "()"
      ]
     },
     "execution_count": 7,
     "metadata": {},
     "output_type": "execute_result"
    }
   ],
   "source": [
    "{\n",
    "    #[derive(Debug)]\n",
    "    struct Vector<T: std::ops::Add + std::fmt::Debug> { i: T, j: T}\n",
    "    impl <T: std::ops::Add<Output = T> + std::fmt::Debug>std::ops::Add for Vector<T> {\n",
    "        type Output = Self;\n",
    "        fn add(self, other: Self) -> Self {\n",
    "            Vector {\n",
    "                i: self.i + other.i,\n",
    "                j: self.j + other.j,\n",
    "            }\n",
    "        }\n",
    "    }\n",
    "    dbg!(Vector { i: 3.14, j: 6.5} + Vector { i: 6.9, j: -1.12}); // Addition de vecteurs float\n",
    "    dbg!(Vector { i: 3, j: 6} + Vector { i: 6, j: 1}); // Addition de vecteurs entiers positifs\n",
    "    dbg!(Vector { i: -3, j: 6} + Vector { i: -6, j: -2}); // Addition de vecteurs entiers relatifs\n",
    "}"
   ]
  },
  {
   "cell_type": "markdown",
   "id": "daily-blast",
   "metadata": {
    "deletable": false,
    "editable": false
   },
   "source": [
    "> Ce code est velu pour un débutant ! On peut reconnaître le groupe `<T: std::ops::Add<Output = T> + std::fmt::Debug>` juste après le mot `impl` comme pour l'implémentation de Vector\\<T> mais avec le sous groupe `<Output = T>` en plus pour Add...\n",
    "\n",
    "```\n",
    "Trait std::ops::Add\n",
    "\n",
    "pub trait Add<Rhs = Self> {\n",
    "    type Output;\n",
    "\n",
    "    // Required method\n",
    "    fn add(self, rhs: Rhs) -> Self::Output;\n",
    "}\n",
    "```\n",
    "> En fait, lorsque l'on implémente le trait Add a la main, on doit définir Output (qui ne sera donc pas forcément du type de ce que l'on additionne). Ici, Add est une contrainte pour T, puisque que l'on utilise l'addition de deux types T avec en résultat un type T `self.i + other.i` et `self.j + other.j`, le compilateur a besoin de connaître le type que l'on attend en résultat...\n",
    "\n",
    "**NB il est aussi possible d'implémenter un trait pour un type générique, il y a un exemple dans le chapitre 12.**"
   ]
  }
 ],
 "metadata": {
  "kernelspec": {
   "display_name": "Rust",
   "language": "rust",
   "name": "rust"
  },
  "language_info": {
   "codemirror_mode": "rust",
   "file_extension": ".rs",
   "mimetype": "text/rust",
   "name": "Rust",
   "pygment_lexer": "rust",
   "version": ""
  },
  "toc": {
   "base_numbering": "7",
   "nav_menu": {},
   "number_sections": true,
   "sideBar": true,
   "skip_h1_title": false,
   "title_cell": "Table of Contents",
   "title_sidebar": "Contents",
   "toc_cell": false,
   "toc_position": {
    "height": "538.2px",
    "left": "21px",
    "top": "102px",
    "width": "268.8px"
   },
   "toc_section_display": true,
   "toc_window_display": false
  }
 },
 "nbformat": 4,
 "nbformat_minor": 5
}
