{
 "cells": [
  {
   "cell_type": "markdown",
   "id": "sudden-concern",
   "metadata": {
    "deletable": false,
    "editable": false
   },
   "source": [
    "# Les traits\n",
    "\n",
    "---\n",
    "\n",
    "> A ce point du cours, vous avez déjà entendu parler de traits quelques dizaines de fois et la définition de ce qu'est un trait vous est déjà normalement familière. Pour résumer, **un trait offre des méthodes et des propriétés aux types**. et il y en a une myriade déjà présents dans la librairie standard ainsi que des milliers d'implémentations de ces derniers pour tous les types confondus.\n",
    "\n",
    "> Nous avons aussi la possibilité **d'implementer les traits de la std pour nos propres types** et aussi la possibilité de **creer nos propres traits**.\n",
    "\n",
    "> La création de trait sera détaillée dans le chapitre 12, pour le moment, je vous invite à comprendre l'implémentation du trait From et de trait Into pour un de nos propres types, c'est en général les premiers trait qu'un nouveau développeur Rust doit implémenter (Le prochain est souvent le trait Iterator)."
   ]
  },
  {
   "cell_type": "markdown",
   "id": "superior-emperor",
   "metadata": {
    "deletable": false,
    "editable": false
   },
   "source": [
    "## Le trait From\n",
    "\n",
    "### Documentation\n",
    "\n",
    "- La documentation de Rust donne cette définition pour le trait From :\n",
    "\n",
    "```\n",
    "Trait std::convert::From\n",
    "\n",
    "pub trait From<T>: Sized {\n",
    "    // Required method\n",
    "    fn from(value: T) -> Self;\n",
    "}\n",
    "```\n",
    "\n",
    "**Used to do value-to-value conversions while consuming the input value. It is the reciprocal of Into.**\n",
    "\n",
    "```\n",
    "Generic Implementations\n",
    "\n",
    "    From<T> for U implies Into<U> for T\n",
    "    From is reflexive, which means that From<T> for T is implemented\n",
    "\n",
    "```\n",
    "> Le trait From permet donc la conversion d'un type `T` en un autre `Self`. Et implémenter From pour un type offre au développeur l'implémentation gratuite de son contraire, le trait Into.\n",
    "\n",
    "### Exemple d'implémentation de la std\n",
    "\n",
    "> Regardons par exemple l'implémentation de From<&str> for String de la std :\n",
    "```\n",
    "impl From<&str> for String {\n",
    "    /// Converts a `&str` into a [`String`].\n",
    "    ///\n",
    "    /// The result is allocated on the heap.\n",
    "    #[inline]\n",
    "    fn from(s: &str) -> String {\n",
    "        s.to_owned()\n",
    "    }\n",
    "}\n",
    "```\n",
    "- On utilisera cette implémentation ainsi :"
   ]
  },
  {
   "cell_type": "code",
   "execution_count": null,
   "id": "falling-domain",
   "metadata": {
    "deletable": false,
    "editable": false
   },
   "outputs": [],
   "source": [
    "let s: String = From::<&str>::from(\"Bananes volantes\"); // forme non inferee\n",
    "let s: String = From::from(\"Bananes volantes\"); // forme inferee\n",
    "\n",
    "let s = Into::<String>::into(\"Bananes volantes\"); // Implementation reciproque via Into\n",
    "let s: String = \"Bananes volantes\".into(); // Implementation inferee de Into"
   ]
  },
  {
   "cell_type": "markdown",
   "id": "superior-killer",
   "metadata": {
    "deletable": false,
    "editable": false
   },
   "source": [
    "## Implémentation de From pour une énumération"
   ]
  },
  {
   "cell_type": "markdown",
   "id": "informative-batch",
   "metadata": {
    "deletable": false,
    "editable": false
   },
   "source": [
    "- Imaginons une énumération avec les trois variants suivant :"
   ]
  },
  {
   "cell_type": "code",
   "execution_count": 7,
   "id": "level-evanescence",
   "metadata": {
    "deletable": false,
    "editable": false
   },
   "outputs": [
    {
     "data": {
      "text/plain": [
       "()"
      ]
     },
     "execution_count": 7,
     "metadata": {},
     "output_type": "execute_result"
    }
   ],
   "source": [
    "{\n",
    "    #[derive(Debug, Copy, Clone)]\n",
    "    enum RelativeStatus {\n",
    "        Positive,\n",
    "        Null,\n",
    "        Negative,\n",
    "    }\n",
    "}"
   ]
  },
  {
   "cell_type": "markdown",
   "id": "variable-exemption",
   "metadata": {
    "deletable": false,
    "editable": false
   },
   "source": [
    "> Le but de l'implémentation que nous allons faire, c'est de classer les nombres entiers relatifs en 3 catégories, supérieur a zéro, nul ou inférieur a 0.\n",
    "\n",
    "> Nous allons donc faire une implémentation de `From<isize> for RelativeStatus`.\n",
    "\n",
    "- Le mieux pour commencer est d'écrire une fonction pour se faire une idée :"
   ]
  },
  {
   "cell_type": "code",
   "execution_count": 11,
   "id": "tribal-halifax",
   "metadata": {
    "deletable": false,
    "editable": false
   },
   "outputs": [
    {
     "name": "stderr",
     "output_type": "stream",
     "text": [
      "[src/lib.rs:54] get_relative_status(0) = Null\n",
      "[src/lib.rs:55] get_relative_status(7) = Positive\n",
      "[src/lib.rs:56] get_relative_status(-7) = Negative\n"
     ]
    },
    {
     "data": {
      "text/plain": [
       "()"
      ]
     },
     "execution_count": 11,
     "metadata": {},
     "output_type": "execute_result"
    }
   ],
   "source": [
    "{\n",
    "    #[derive(Debug, Copy, Clone)]\n",
    "    enum RelativeStatus {\n",
    "        Positive,\n",
    "        Null,\n",
    "        Negative,\n",
    "    }\n",
    "    fn get_relative_status(r: isize) -> RelativeStatus {\n",
    "        if r > 0 {\n",
    "            RelativeStatus::Positive\n",
    "        } else if r < 0 {\n",
    "            RelativeStatus::Negative\n",
    "        } else {\n",
    "            RelativeStatus::Null\n",
    "        }\n",
    "    }\n",
    "    dbg!(get_relative_status(0));\n",
    "    dbg!(get_relative_status(7));\n",
    "    dbg!(get_relative_status(-7));\n",
    "}"
   ]
  },
  {
   "cell_type": "markdown",
   "id": "parental-malta",
   "metadata": {
    "deletable": false,
    "editable": false
   },
   "source": [
    "> Le code de cette fonction ne devrait poser aucun problème."
   ]
  },
  {
   "cell_type": "markdown",
   "id": "therapeutic-advancement",
   "metadata": {
    "deletable": false,
    "editable": false
   },
   "source": [
    "- Intégrons maintenant le corps de cette fonction dans une implémentation de From :"
   ]
  },
  {
   "cell_type": "code",
   "execution_count": 9,
   "id": "artificial-theorem",
   "metadata": {
    "deletable": false,
    "editable": false
   },
   "outputs": [
    {
     "name": "stderr",
     "output_type": "stream",
     "text": [
      "[src/lib.rs:56] Into::<RelativeStatus>::into(0) = Null\n",
      "[src/lib.rs:57] Into::<RelativeStatus>::into(7) = Positive\n",
      "[src/lib.rs:58] Into::<RelativeStatus>::into(-7) = Negative\n"
     ]
    },
    {
     "data": {
      "text/plain": [
       "()"
      ]
     },
     "execution_count": 9,
     "metadata": {},
     "output_type": "execute_result"
    }
   ],
   "source": [
    "{\n",
    "    #[derive(Debug, Copy, Clone)]\n",
    "    enum RelativeStatus {\n",
    "        Positive,\n",
    "        Null,\n",
    "        Negative,\n",
    "    }\n",
    "    impl From<isize> for RelativeStatus {\n",
    "        fn from(r: isize) -> Self {\n",
    "            if r > 0 {\n",
    "                RelativeStatus::Positive\n",
    "            } else if r < 0 {\n",
    "                RelativeStatus::Negative\n",
    "            } else {\n",
    "                RelativeStatus::Null\n",
    "            }\n",
    "        }\n",
    "    }\n",
    "    dbg!(Into::<RelativeStatus>::into(0)); // Je profite de l'implementation gratuite du trait Into !\n",
    "    dbg!(Into::<RelativeStatus>::into(7));\n",
    "    dbg!(Into::<RelativeStatus>::into(-7));\n",
    "}"
   ]
  },
  {
   "cell_type": "markdown",
   "id": "american-bradley",
   "metadata": {
    "deletable": false,
    "editable": false
   },
   "source": [
    "> **Pour implémenter les traits de la std, on remplace les types génériques par nos types et on suit la documentation. Il n'y a pas de réelle difficulté.**"
   ]
  },
  {
   "cell_type": "markdown",
   "id": "conventional-contents",
   "metadata": {
    "deletable": false,
    "editable": false
   },
   "source": [
    "## Exercices\n",
    "\n",
    "### Reprenez l'exemple précèdent et implémentez From\\<RelativeStatus> for  isize :\n",
    "\n",
    "- disons que le résultat sera le isize minimal pour Negative, 0 pour Null, et le isize maximal pour Positive :"
   ]
  },
  {
   "cell_type": "code",
   "execution_count": null,
   "id": "objective-rescue",
   "metadata": {
    "solution2": "hidden",
    "solution2_first": true
   },
   "outputs": [],
   "source": [
    "{\n",
    "    #[derive(Debug, Copy, Clone)]\n",
    "    enum RelativeStatus {\n",
    "        Positive,\n",
    "        Null,\n",
    "        Negative,\n",
    "    }\n",
    "\n",
    "    // IMPLEMENTATION DU FROM ICI\n",
    "\n",
    "    dbg!(Into::<isize>::into(RelativeStatus::Null));\n",
    "    dbg!(Into::<isize>::into(RelativeStatus::Positive));\n",
    "    dbg!(Into::<isize>::into(RelativeStatus::Negative));\n",
    "}"
   ]
  },
  {
   "cell_type": "code",
   "execution_count": 15,
   "id": "psychological-realtor",
   "metadata": {
    "deletable": false,
    "editable": false,
    "solution2": "hidden"
   },
   "outputs": [
    {
     "name": "stderr",
     "output_type": "stream",
     "text": [
      "[src/lib.rs:54] Into::<isize>::into(RelativeStatus::Null) = 0\n",
      "[src/lib.rs:55] Into::<isize>::into(RelativeStatus::Positive) = 9223372036854775807\n",
      "[src/lib.rs:56] Into::<isize>::into(RelativeStatus::Negative) = -9223372036854775808\n"
     ]
    },
    {
     "data": {
      "text/plain": [
       "()"
      ]
     },
     "execution_count": 15,
     "metadata": {},
     "output_type": "execute_result"
    }
   ],
   "source": [
    " {\n",
    "    #[derive(Debug, Copy, Clone)]\n",
    "    enum RelativeStatus {\n",
    "        Positive,\n",
    "        Null,\n",
    "        Negative,\n",
    "    }\n",
    "    impl From<RelativeStatus> for isize {\n",
    "        fn from(r: RelativeStatus) -> Self {\n",
    "            match r {\n",
    "                RelativeStatus::Positive => isize::MAX,\n",
    "                RelativeStatus::Negative => isize::MIN,\n",
    "                RelativeStatus::Null => 0,\n",
    "            }\n",
    "        }\n",
    "    }    \n",
    "    dbg!(Into::<isize>::into(RelativeStatus::Null));\n",
    "    dbg!(Into::<isize>::into(RelativeStatus::Positive));\n",
    "    dbg!(Into::<isize>::into(RelativeStatus::Negative));\n",
    "}"
   ]
  }
 ],
 "metadata": {
  "kernelspec": {
   "display_name": "Rust",
   "language": "rust",
   "name": "rust"
  },
  "language_info": {
   "codemirror_mode": "rust",
   "file_extension": ".rs",
   "mimetype": "text/rust",
   "name": "Rust",
   "pygment_lexer": "rust",
   "version": ""
  },
  "toc": {
   "base_numbering": "8",
   "nav_menu": {},
   "number_sections": true,
   "sideBar": true,
   "skip_h1_title": false,
   "title_cell": "Table of Contents",
   "title_sidebar": "Contents",
   "toc_cell": false,
   "toc_position": {
    "height": "calc(100% - 180px)",
    "left": "10px",
    "top": "150px",
    "width": "268.8px"
   },
   "toc_section_display": true,
   "toc_window_display": false
  }
 },
 "nbformat": 4,
 "nbformat_minor": 5
}
