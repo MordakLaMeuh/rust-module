{
 "cells": [
  {
   "cell_type": "markdown",
   "id": "proof-right",
   "metadata": {
    "deletable": false,
    "editable": false
   },
   "source": [
    "# Panic, Safe et Unsafe Rust\n",
    "\n",
    "---\n",
    "\n",
    "> Le langage de programmation Rust a été fait avec l'objectif premier de garantir une sécurité maximale du code. Le pari fut réussi et dans la pratique, un programme qui ne contient pas de code unsafe ne crashera jamais. Si le compilateur est souvent si difficile avec les programmeurs en refusant quasi systématiquement le code qu'ils essaient de faire, c'est justement pour garantir que tout le programme est safe.\n",
    "\n",
    "> Le mechanisme de panique n'est pas un crash, quand le code panique, c'est justement que s'il ne l'avait pas fait, l'exécution du programme se serait soldée par une erreur système des familles telle une faute de segmentation au autre."
   ]
  },
  {
   "cell_type": "markdown",
   "id": "worthy-porcelain",
   "metadata": {
    "deletable": false,
    "editable": false
   },
   "source": [
    "## Le code unsafe\n",
    "\n",
    "Cependant, il peut arriver que le compilateur empêche le développeur au point que celui-ci ouvre un bloc unsafe, parfois, c'est injustifié et le développeur aurait très bien pu réaliser son code sans unsafe, il a donc fait une erreur de design ou a voulu prendre un raccourci. Mais d'autres fois, comme pour la creation de FFI, il est obligatoire d'utiliser du code unsafe.\n",
    "\n",
    "Quant aux dev qui pensent que faire du code unsafe en jouant par exemple avec des raw pointeurs comme ils le feraient en C, ils risquent d'être déçu du maigre gain de performance qu'ils obtiendront. Rust étant extrêmement optimisé par défaut si le code est compile en mode release.\n",
    "\n",
    "- Quelques patterns `unsafe` possibles :\n",
    "\n",
    "```\n",
    "    unsafe {\n",
    "        // bloc unsafe\n",
    "    }\n",
    "```\n",
    "\n",
    "```\n",
    "    let i = unsafe {\n",
    "        // Fait quelque chose d'unsafe dans cette expression\n",
    "    };\n",
    "```\n",
    "\n",
    "```\n",
    "    unsafe fn do_critical_code() {\n",
    "        // Code critique\n",
    "    }\n",
    "```\n",
    "\n",
    "```\n",
    "    unsafe impl Send for NeverSendMe {}\n",
    "```"
   ]
  },
  {
   "cell_type": "markdown",
   "id": "transsexual-booth",
   "metadata": {
    "deletable": false,
    "editable": false
   },
   "source": [
    "## Le prototype de panic\n",
    "\n",
    "> Dans la std, la macro `panic!` appelle la fonction `panic_any`. Sa signature a un petit quelque chose de particulier :\n",
    "\n",
    "```\n",
    "Function std::panic::panic_any\n",
    "\n",
    "pub fn panic_any<M: 'static + Any + Send>(msg: M) -> !\n",
    "```\n",
    "\n",
    "Remarquez-vous le retour de la fonction `!` ?\n",
    "\n",
    "Sachez que ce n'est pas l'équivalent de tuple vide `()` que nous avons déjà croisé. le tuple vide indique que la fonction ne retourne rien, qu'elle retourne un *type vide* mais qu'elle retourne quand même !\n",
    "\n",
    "Par contre, le token `!` signifie **NE RETOURNE PAS**. Cette fonction sera donc la dernière à s'exécuter dans notre programme sans que la pile d'appel ne soit re-executee jusqu'au main (il n'y a plus de *ret*). La pile d'appel sera tout de même parcourue, mais pour être analysée, relativement aux symboles du fichier executable, ce qui permet de dumper une jolie backtrace."
   ]
  }
 ],
 "metadata": {
  "kernelspec": {
   "display_name": "Rust",
   "language": "rust",
   "name": "rust"
  },
  "language_info": {
   "codemirror_mode": "rust",
   "file_extension": ".rs",
   "mimetype": "text/rust",
   "name": "Rust",
   "pygment_lexer": "rust",
   "version": ""
  },
  "toc": {
   "base_numbering": "9",
   "nav_menu": {},
   "number_sections": true,
   "sideBar": true,
   "skip_h1_title": false,
   "title_cell": "Table of Contents",
   "title_sidebar": "Contents",
   "toc_cell": false,
   "toc_position": {
    "height": "calc(100% - 180px)",
    "left": "10px",
    "top": "150px",
    "width": "268.8px"
   },
   "toc_section_display": true,
   "toc_window_display": false
  }
 },
 "nbformat": 4,
 "nbformat_minor": 5
}
