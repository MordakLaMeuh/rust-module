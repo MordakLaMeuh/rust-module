{
 "cells": [
  {
   "cell_type": "markdown",
   "id": "muslim-catering",
   "metadata": {
    "deletable": false,
    "editable": false
   },
   "source": [
    "# Les Box\n",
    "\n",
    "---\n",
    "\n",
    "Dans ce chapitre, je présenterai rapidement l'allocation dynamique ainsi que différentes structures qui l'utilisent. Contrairement à certains langages haut niveau tel JavaScript, la communauté Rust a pris soin à ce qu'aucune allocation dynamique de mémoire ne soit faite derrière le dos des programmeurs, ainsi **aucune des structures présentes dans ce chapitre n'implémentent le trait Copy**, car une copie implicite de la part du compilateur serait une allocation mémoire et pourrait nuire aux performances du programme.\n",
    "\n",
    "Cependant, tous ces types implémentent **le trait Clone** et peuvent être donc EXPLICITEMENT copiées via la méthode clone()."
   ]
  },
  {
   "cell_type": "code",
   "execution_count": 13,
   "id": "appreciated-circular",
   "metadata": {
    "deletable": false,
    "editable": false
   },
   "outputs": [
    {
     "name": "stderr",
     "output_type": "stream",
     "text": [
      "[src/lib.rs:150] s1 = \"Bananes\"\n",
      "[src/lib.rs:151] s2 = \"Bananes\"\n"
     ]
    }
   ],
   "source": [
    "let s1 = \"Bananes\".to_string(); // Creation d'une chaine de caractere allouee dynamiquement\n",
    "// let s2 = s1;                 // Ceci n'est pas possible si je veux conserver un acces a s1\n",
    "\n",
    "let s2 = s1.clone();            // Copie explicite donc allocation et creation d'une nouvelle chaine s2\n",
    "dbg!(s1);\n",
    "dbg!(s2);"
   ]
  },
  {
   "cell_type": "markdown",
   "id": "virtual-speech",
   "metadata": {
    "deletable": false,
    "editable": false
   },
   "source": [
    "> La mémoire occupée par les types alloués dynamiquement est automatiquement libérée dès que l'on perd l'ownership des variables. Il n'y a pas de fuite mémoire possible (sauf code unsafe)."
   ]
  },
  {
   "cell_type": "markdown",
   "id": "about-likelihood",
   "metadata": {
    "deletable": false,
    "editable": false
   },
   "source": [
    "\n",
    "## Introduction\n",
    "\n",
    "> Une Box fait partie de la famille des pointeurs intelligents, c'est la structure allouée sur la heap la plus simple en Rust :\n",
    "```\n",
    "pub struct Box<T, A = Global>(_, _) \n",
    "where\n",
    "    A: Allocator,\n",
    "    T: ?Sized;\n",
    "```\n",
    "- À la différence de malloc en C qui prend une taille en octets, on donne a **Box::new()** le type de donnée qui sera allouée."
   ]
  },
  {
   "cell_type": "code",
   "execution_count": 12,
   "id": "little-bookmark",
   "metadata": {
    "deletable": false,
    "editable": false
   },
   "outputs": [
    {
     "name": "stderr",
     "output_type": "stream",
     "text": [
      "[src/lib.rs:147] vec = Vector {\n",
      "    i: 10,\n",
      "    j: -5,\n",
      "}\n"
     ]
    }
   ],
   "source": [
    "#[derive(Debug)]\n",
    "struct Vector {\n",
    "    i: i32,\n",
    "    j: i32,\n",
    "}\n",
    "\n",
    "let vec = Box::new(Vector{ i: 10, j: -5});\n",
    "dbg!(vec);"
   ]
  },
  {
   "cell_type": "markdown",
   "id": "blind-circus",
   "metadata": {
    "deletable": false,
    "editable": false
   },
   "source": [
    "> Ici, une structure de type Vector sera allouée sur le tas et non plus sur la pile.\n",
    "\n",
    "- Il n'y a pas de garbage collector en Rust, ni besoin de libérer manuellement la mémoire. À la fin du bloc dans lequel elle est déclarée, la Box sera automatiquement détruite et la mémoire prudemment allouée, rendue au système. Si l'on veut faire vivre plus longtemps la Box, il est nécessaire qu'une fonction la retourne :"
   ]
  },
  {
   "cell_type": "code",
   "execution_count": 11,
   "id": "entertaining-filter",
   "metadata": {
    "deletable": false,
    "editable": false
   },
   "outputs": [
    {
     "name": "stderr",
     "output_type": "stream",
     "text": [
      "[src/lib.rs:148] &b = MyBox {\n",
      "    b: 42,\n",
      "}\n"
     ]
    },
    {
     "name": "stdout",
     "output_type": "stream",
     "text": [
      "The box will be destroyed now !\n",
      "END ?\n"
     ]
    }
   ],
   "source": [
    "#[derive(Debug)]\n",
    "struct MyBox {\n",
    "    b: Box<u32>,\n",
    "}\n",
    "impl Drop for MyBox {\n",
    "    fn drop(&mut self) {\n",
    "        println!(\"The box will be destroyed now !\");\n",
    "    }\n",
    "}\n",
    "\n",
    "fn make_my_box(inner: u32) -> MyBox {\n",
    "    MyBox {\n",
    "        b: Box::new(inner),\n",
    "    }\n",
    "}\n",
    "\n",
    "fn take_my_box(_my_box: MyBox) {\n",
    "    // La box ne vivra plus a la fin du cette fonction\n",
    "}\n",
    "\n",
    "let b = make_my_box(42);\n",
    "dbg!(&b);\n",
    "take_my_box(b); // Transfert l'ownership de la structure contenant la box a la fonction take_my_box\n",
    " // A ce point du code, la box a deja ete liberee\n",
    "println!(\"END ?\");"
   ]
  },
  {
   "cell_type": "code",
   "execution_count": 10,
   "id": "comic-organization",
   "metadata": {
    "deletable": false,
    "editable": false
   },
   "outputs": [
    {
     "name": "stderr",
     "output_type": "stream",
     "text": [
      "[src/lib.rs:131] v.i = 87\n"
     ]
    }
   ],
   "source": [
    "#[derive(Debug)]\n",
    "struct Vector {\n",
    "    i: isize,\n",
    "    j: isize,\n",
    "}\n",
    "let mut v = Vector{i: 9, j: -3};\n",
    "v.i = 87;\n",
    "v.j = -12;\n",
    "let mut b = Box::new(Vector{i: 10, j: -20});\n",
    "b.i = 12;\n",
    "b.j = -11;\n",
    "dbg!(v.i);"
   ]
  },
  {
   "cell_type": "markdown",
   "id": "chronic-nicaragua",
   "metadata": {
    "deletable": false,
    "editable": false
   },
   "source": [
    "## le trait Deref"
   ]
  },
  {
   "cell_type": "markdown",
   "id": "suspended-portugal",
   "metadata": {
    "deletable": false,
    "editable": false
   },
   "source": [
    "- La Box implémente le trait **Deref** qui permet d'accéder au type contenu. Dans l'exemple ci-dessous, il n'est pas possible d'additionner a et b à cause d'une incompatibilité de type :"
   ]
  },
  {
   "cell_type": "code",
   "execution_count": 9,
   "id": "nominated-judges",
   "metadata": {
    "deletable": false,
    "editable": false
   },
   "outputs": [
    {
     "ename": "Error",
     "evalue": "mismatched types",
     "output_type": "error",
     "traceback": [
      "\u001b[31m[E0308] Error:\u001b[0m mismatched types",
      "   \u001b[38;5;246m╭\u001b[0m\u001b[38;5;246m─\u001b[0m\u001b[38;5;246m[\u001b[0mcommand_9:1:1\u001b[38;5;246m]\u001b[0m",
      "   \u001b[38;5;246m│\u001b[0m",
      " \u001b[38;5;246m3 │\u001b[0m \u001b[38;5;249ml\u001b[0m\u001b[38;5;249me\u001b[0m\u001b[38;5;249mt\u001b[0m\u001b[38;5;249m \u001b[0m\u001b[38;5;249mc\u001b[0m\u001b[38;5;249mm\u001b[0m\u001b[38;5;249mp\u001b[0m\u001b[38;5;249m \u001b[0m\u001b[38;5;249m=\u001b[0m\u001b[38;5;249m \u001b[0m\u001b[38;5;100mm\u001b[0m\u001b[38;5;100my\u001b[0m\u001b[38;5;100m_\u001b[0m\u001b[38;5;100mb\u001b[0m\u001b[38;5;100mo\u001b[0m\u001b[38;5;100mx\u001b[0m\u001b[38;5;249m \u001b[0m\u001b[38;5;249m=\u001b[0m\u001b[38;5;249m=\u001b[0m\u001b[38;5;249m \u001b[0m\u001b[38;5;54ma\u001b[0m\u001b[38;5;249m;\u001b[0m",
      " \u001b[38;5;246m  ·\u001b[0m           \u001b[38;5;100m─\u001b[0m\u001b[38;5;100m─\u001b[0m\u001b[38;5;100m─\u001b[0m\u001b[38;5;100m┬\u001b[0m\u001b[38;5;100m─\u001b[0m\u001b[38;5;100m─\u001b[0m    \u001b[38;5;54m┬\u001b[0m  ",
      " \u001b[38;5;246m  ·\u001b[0m              \u001b[38;5;100m╰\u001b[0m\u001b[38;5;100m─\u001b[0m\u001b[38;5;100m─\u001b[0m\u001b[38;5;100m─\u001b[0m\u001b[38;5;100m─\u001b[0m\u001b[38;5;100m─\u001b[0m\u001b[38;5;100m─\u001b[0m\u001b[38;5;100m─\u001b[0m\u001b[38;5;100m─\u001b[0m\u001b[38;5;100m─\u001b[0m expected because this is `Box<usize>`",
      " \u001b[38;5;246m  ·\u001b[0m                     \u001b[38;5;54m│\u001b[0m  ",
      " \u001b[38;5;246m  ·\u001b[0m                     \u001b[38;5;54m╰\u001b[0m\u001b[38;5;54m─\u001b[0m\u001b[38;5;54m─\u001b[0m expected struct `Box`, found `usize`",
      "\u001b[38;5;246m───╯\u001b[0m"
     ]
    }
   ],
   "source": [
    "let mut my_box: Box<usize> = Box::new(12);\n",
    "let a: usize = 13;\n",
    "let cmp = my_box == a;\n",
    "dbg!(cmp);"
   ]
  },
  {
   "cell_type": "markdown",
   "id": "stopped-functionality",
   "metadata": {
    "deletable": false,
    "editable": false
   },
   "source": [
    "- Ce problème se résout en dereferencant la Box : (Grace a la petite étoile)"
   ]
  },
  {
   "cell_type": "code",
   "execution_count": 8,
   "id": "fabulous-consent",
   "metadata": {
    "deletable": false,
    "editable": false
   },
   "outputs": [
    {
     "name": "stderr",
     "output_type": "stream",
     "text": [
      "[src/lib.rs:121] cmp = false\n",
      "[src/lib.rs:126] cmp = true\n"
     ]
    }
   ],
   "source": [
    "let my_box: Box<usize> = Box::new(12);\n",
    "let a: usize = 13;\n",
    "let cmp = *my_box == a; // Dereferencement de my_box\n",
    "dbg!(cmp);\n",
    "\n",
    "#[derive(Eq, PartialEq)]\n",
    "struct S { i: usize, j: usize}\n",
    "let my_box = Box::new(S{ i: 4, j: 4});\n",
    "let b = S{ i: 4, j: 4};\n",
    "let cmp = *my_box == b; // Dereferencement de my_box\n",
    "dbg!(cmp);"
   ]
  },
  {
   "cell_type": "markdown",
   "id": "rural-overview",
   "metadata": {
    "deletable": false,
    "editable": false
   },
   "source": [
    "- Notez que dans les cas d'accès a un membre d'une structure ou d'un tuple, le dereferencement est automatique et ne nécessite pas la présence de l'opérateur associe :"
   ]
  },
  {
   "cell_type": "code",
   "execution_count": 7,
   "id": "sized-hepatitis",
   "metadata": {
    "deletable": false,
    "editable": false
   },
   "outputs": [
    {
     "name": "stderr",
     "output_type": "stream",
     "text": [
      "[src/lib.rs:115] cmp = true\n",
      "[src/lib.rs:117] cmp = true\n"
     ]
    }
   ],
   "source": [
    "#[derive(Eq, PartialEq)]\n",
    "struct S { i: usize, j: usize}\n",
    "let my_box = Box::new(S{ i: 4, j: 4});\n",
    "let b = S{ i: 4, j: 4};\n",
    "let cmp = (*my_box).i == b.i; // Dereferencement de my_box\n",
    "dbg!(cmp);\n",
    "let cmp = my_box.i == b.i; // Strictement equivalent (*my_box.i) == my_box.i == usize\n",
    "dbg!(cmp);"
   ]
  },
  {
   "cell_type": "markdown",
   "id": "cultural-certification",
   "metadata": {
    "deletable": false,
    "editable": false
   },
   "source": [
    "## Cas d'utilisation d'une Box\n",
    "\n",
    "> Souvent, l'on utilise une Box pour stocker des objets trop volumineux, ou que l'on ne veut pas placer sur la pile pour certaines raisons, parfois bonnes, parfois moins bonnes. Mais il existe au moins deux cas de figure dans lesquels leur utilisation est nécessaire, l'allocation d'un type de taille indéfini et les traits dynamiques (Bon c'est aussi à cause de la taille indéfinie là)."
   ]
  },
  {
   "cell_type": "markdown",
   "id": "northern-client",
   "metadata": {
    "deletable": false,
    "editable": false
   },
   "source": [
    "### Taille inconnue a la compilation\n",
    "\n",
    "- Par exemple, Le compilateur ne peut connaitre à l'avance la taille de la structure a cause de la slice qui constitue un de ses champs :"
   ]
  },
  {
   "cell_type": "code",
   "execution_count": 6,
   "id": "exposed-candy",
   "metadata": {
    "deletable": false,
    "editable": false
   },
   "outputs": [
    {
     "ename": "Error",
     "evalue": "the size for values of type `[u8]` cannot be known at compilation time",
     "output_type": "error",
     "traceback": [
      "\u001b[31m[E0277] Error:\u001b[0m the size for values of type `[u8]` cannot be known at compilation time",
      "   \u001b[38;5;246m╭\u001b[0m\u001b[38;5;246m─\u001b[0m\u001b[38;5;246m[\u001b[0mcommand_6:1:1\u001b[38;5;246m]\u001b[0m",
      "   \u001b[38;5;246m│\u001b[0m",
      " \u001b[38;5;246m2 │\u001b[0m \u001b[38;5;249m \u001b[0m\u001b[38;5;249m \u001b[0m\u001b[38;5;249m \u001b[0m\u001b[38;5;249m \u001b[0m\u001b[38;5;249ma\u001b[0m\u001b[38;5;249m:\u001b[0m\u001b[38;5;249m \u001b[0m\u001b[38;5;54m[\u001b[0m\u001b[38;5;54mu\u001b[0m\u001b[38;5;54m8\u001b[0m\u001b[38;5;54m]\u001b[0m\u001b[38;5;249m,\u001b[0m",
      " \u001b[38;5;246m  ·\u001b[0m        \u001b[38;5;100m┬\u001b[0m\u001b[38;5;54m─\u001b[0m\u001b[38;5;54m┬\u001b[0m\u001b[38;5;54m─\u001b[0m  ",
      " \u001b[38;5;246m  ·\u001b[0m        \u001b[38;5;100m╰\u001b[0m\u001b[38;5;100m─\u001b[0m\u001b[38;5;100m─\u001b[0m\u001b[38;5;100m─\u001b[0m\u001b[38;5;100m─\u001b[0m\u001b[38;5;100m─\u001b[0m help: borrowed types always have a statically known size: `&`",
      " \u001b[38;5;246m  ·\u001b[0m          \u001b[38;5;54m│\u001b[0m   ",
      " \u001b[38;5;246m  ·\u001b[0m          \u001b[38;5;54m╰\u001b[0m\u001b[38;5;54m─\u001b[0m\u001b[38;5;54m─\u001b[0m\u001b[38;5;54m─\u001b[0m doesn't have a size known at compile-time",
      "\u001b[38;5;246m───╯\u001b[0m"
     ]
    }
   ],
   "source": [
    "struct UndefinedSize {\n",
    "    a: [u8],\n",
    "    b: usize,\n",
    "}"
   ]
  },
  {
   "cell_type": "markdown",
   "id": "widespread-prime",
   "metadata": {
    "deletable": false,
    "editable": false
   },
   "source": [
    "- Utiliser une Box règle le problème. Ici, la taille de la structure sera de 24 octets, la Box en prend 16 sur un système 64bits (8 pour l'adresse mémoire + 8 pour la taille de l'objet (respectivement 8 et 16)) :"
   ]
  },
  {
   "cell_type": "code",
   "execution_count": 5,
   "id": "atomic-cheat",
   "metadata": {
    "deletable": false,
    "editable": false
   },
   "outputs": [
    {
     "name": "stderr",
     "output_type": "stream",
     "text": [
      "[src/lib.rs:114] std::mem::size_of::<UndefinedSize>() = 24\n",
      "[src/lib.rs:115] u1.a.len() = 8\n",
      "[src/lib.rs:116] u2.a.len() = 16\n"
     ]
    }
   ],
   "source": [
    "struct UndefinedSize {\n",
    "    a: Box<[u8]>,\n",
    "    b: usize,\n",
    "}\n",
    "let u1 = UndefinedSize{\n",
    "    a: Box::new([0; 8]),\n",
    "    b: 42,\n",
    "};\n",
    "let u2 = UndefinedSize{\n",
    "    a: Box::new([255; 16]),\n",
    "    b: 42,\n",
    "};\n",
    "dbg!(std::mem::size_of::<UndefinedSize>());\n",
    "dbg!(u1.a.len());\n",
    "dbg!(u2.a.len());"
   ]
  },
  {
   "cell_type": "markdown",
   "id": "careful-certification",
   "metadata": {
    "deletable": false,
    "editable": false
   },
   "source": [
    "### Trait dynamique\n",
    "\n",
    "Comme on l'a vu tout à l'heure, L'utilisation d'une Box peut être utile lorsque le compilateur ignore la taille du type de retour, c'est ce qui arrive quand on veut que le retour d'une fonction soit un type qui implémente un trait particulier plutôt qu'un type donne. On appelle aussi ce pattern le \"dynamic dispatch\" ou \"trait object\"."
   ]
  },
  {
   "cell_type": "markdown",
   "id": "exceptional-beads",
   "metadata": {
    "deletable": false,
    "editable": false
   },
   "source": [
    "- L'exemple donné par RustByExemple illustre bien l'utilisation de traits dynamiques avec Box :"
   ]
  },
  {
   "cell_type": "code",
   "execution_count": 14,
   "id": "attended-pottery",
   "metadata": {
    "deletable": false,
    "editable": false
   },
   "outputs": [
    {
     "name": "stdout",
     "output_type": "stream",
     "text": [
      "You've randomly chosen an animal, and it says beeeeeeh!\n",
      "You've randomly chosen an animal, and it says meuuuuuh!\n"
     ]
    },
    {
     "data": {
      "text/plain": [
       "()"
      ]
     },
     "execution_count": 14,
     "metadata": {},
     "output_type": "execute_result"
    }
   ],
   "source": [
    "{\n",
    "    struct Sheep {}\n",
    "    struct Cow {}\n",
    "\n",
    "    trait Animal {\n",
    "        // Instance method signature\n",
    "        fn noise(&self) -> &'static str;\n",
    "    }\n",
    "\n",
    "    // Implement the `Animal` trait for `Sheep`.\n",
    "    impl Animal for Sheep {\n",
    "        fn noise(&self) -> &'static str {\n",
    "            \"beeeeeeh!\"\n",
    "        }\n",
    "    }\n",
    "\n",
    "    // Implement the `Animal` trait for `Cow`.\n",
    "    impl Animal for Cow {\n",
    "        fn noise(&self) -> &'static str {\n",
    "            \"meuuuuuh!\"\n",
    "        }\n",
    "    }\n",
    "\n",
    "    // Returns some struct that implements Animal, but we don't know which one at compile time.\n",
    "    fn random_animal(random_number: f64) -> Box<dyn Animal> {\n",
    "        if random_number < 0.5 {\n",
    "            Box::new(Sheep {})\n",
    "        } else {\n",
    "            Box::new(Cow {})\n",
    "        }\n",
    "    }\n",
    "\n",
    "    fn main(random_number: f64) {\n",
    "        let animal = random_animal(random_number);\n",
    "        println!(\"You've randomly chosen an animal, and it says {}\", animal.noise());\n",
    "    }\n",
    "    main(0.334);\n",
    "    main(0.9);\n",
    "}"
   ]
  },
  {
   "cell_type": "markdown",
   "id": "human-hacker",
   "metadata": {
    "deletable": false,
    "editable": false
   },
   "source": [
    "#### Exercice \n",
    "\n",
    "- Proposez une solution alternative au trait dynamique tout en conservant le debut et la fin du code :"
   ]
  },
  {
   "cell_type": "code",
   "execution_count": 3,
   "id": "structural-scotland",
   "metadata": {
    "solution2": "hidden",
    "solution2_first": true
   },
   "outputs": [
    {
     "ename": "Error",
     "evalue": "cannot find function `random_animal` in this scope",
     "output_type": "error",
     "traceback": [
      "\u001b[31m[E0425] Error:\u001b[0m cannot find function `random_animal` in this scope",
      "    \u001b[38;5;246m╭\u001b[0m\u001b[38;5;246m─\u001b[0m\u001b[38;5;246m[\u001b[0mcommand_3:1:1\u001b[38;5;246m]\u001b[0m",
      "    \u001b[38;5;246m│\u001b[0m",
      " \u001b[38;5;246m27 │\u001b[0m \u001b[38;5;249m \u001b[0m\u001b[38;5;249m \u001b[0m\u001b[38;5;249m \u001b[0m\u001b[38;5;249m \u001b[0m\u001b[38;5;249m \u001b[0m\u001b[38;5;249m \u001b[0m\u001b[38;5;249m \u001b[0m\u001b[38;5;249m \u001b[0m\u001b[38;5;249ml\u001b[0m\u001b[38;5;249me\u001b[0m\u001b[38;5;249mt\u001b[0m\u001b[38;5;249m \u001b[0m\u001b[38;5;249ma\u001b[0m\u001b[38;5;249mn\u001b[0m\u001b[38;5;249mi\u001b[0m\u001b[38;5;249mm\u001b[0m\u001b[38;5;249ma\u001b[0m\u001b[38;5;249ml\u001b[0m\u001b[38;5;249m \u001b[0m\u001b[38;5;249m=\u001b[0m\u001b[38;5;249m \u001b[0m\u001b[38;5;54mr\u001b[0m\u001b[38;5;54ma\u001b[0m\u001b[38;5;54mn\u001b[0m\u001b[38;5;54md\u001b[0m\u001b[38;5;54mo\u001b[0m\u001b[38;5;54mm\u001b[0m\u001b[38;5;54m_\u001b[0m\u001b[38;5;54ma\u001b[0m\u001b[38;5;54mn\u001b[0m\u001b[38;5;54mi\u001b[0m\u001b[38;5;54mm\u001b[0m\u001b[38;5;54ma\u001b[0m\u001b[38;5;54ml\u001b[0m\u001b[38;5;249m(\u001b[0m\u001b[38;5;249mr\u001b[0m\u001b[38;5;249ma\u001b[0m\u001b[38;5;249mn\u001b[0m\u001b[38;5;249md\u001b[0m\u001b[38;5;249mo\u001b[0m\u001b[38;5;249mm\u001b[0m\u001b[38;5;249m_\u001b[0m\u001b[38;5;249mn\u001b[0m\u001b[38;5;249mu\u001b[0m\u001b[38;5;249mm\u001b[0m\u001b[38;5;249mb\u001b[0m\u001b[38;5;249me\u001b[0m\u001b[38;5;249mr\u001b[0m\u001b[38;5;249m)\u001b[0m\u001b[38;5;249m;\u001b[0m",
      " \u001b[38;5;246m   ·\u001b[0m                      \u001b[38;5;54m─\u001b[0m\u001b[38;5;54m─\u001b[0m\u001b[38;5;54m─\u001b[0m\u001b[38;5;54m─\u001b[0m\u001b[38;5;54m─\u001b[0m\u001b[38;5;54m─\u001b[0m\u001b[38;5;54m┬\u001b[0m\u001b[38;5;54m─\u001b[0m\u001b[38;5;54m─\u001b[0m\u001b[38;5;54m─\u001b[0m\u001b[38;5;54m─\u001b[0m\u001b[38;5;54m─\u001b[0m\u001b[38;5;54m─\u001b[0m  ",
      " \u001b[38;5;246m   ·\u001b[0m                            \u001b[38;5;54m╰\u001b[0m\u001b[38;5;54m─\u001b[0m\u001b[38;5;54m─\u001b[0m\u001b[38;5;54m─\u001b[0m\u001b[38;5;54m─\u001b[0m\u001b[38;5;54m─\u001b[0m\u001b[38;5;54m─\u001b[0m\u001b[38;5;54m─\u001b[0m\u001b[38;5;54m─\u001b[0m not found in this scope",
      "\u001b[38;5;246m────╯\u001b[0m"
     ]
    }
   ],
   "source": [
    "{\n",
    "    struct Sheep {}\n",
    "    struct Cow {}\n",
    "\n",
    "    trait Animal {\n",
    "        // Instance method signature\n",
    "        fn noise(&self) -> &'static str;\n",
    "    }\n",
    "\n",
    "    // Implement the `Animal` trait for `Sheep`.\n",
    "    impl Animal for Sheep {\n",
    "        fn noise(&self) -> &'static str {\n",
    "            \"beeeeeeh!\"\n",
    "        }\n",
    "    }\n",
    "\n",
    "    // Implement the `Animal` trait for `Cow`.\n",
    "    impl Animal for Cow {\n",
    "        fn noise(&self) -> &'static str {\n",
    "            \"meuuuuuh!\"\n",
    "        }\n",
    "    }\n",
    "\n",
    "    // Ajoutez ce qui est necessaire ici.\n",
    "\n",
    "    fn main(random_number: f64) {\n",
    "        let animal = random_animal(random_number);\n",
    "        println!(\"You've randomly chosen an animal, and it says {}\", animal.noise());\n",
    "    }\n",
    "    main(0.334);\n",
    "    main(0.9);\n",
    "}"
   ]
  },
  {
   "cell_type": "markdown",
   "id": "dense-contest",
   "metadata": {
    "deletable": false,
    "editable": false,
    "solution2": "hidden"
   },
   "source": [
    "> Il est possible de creer une nouvelle Enumeration qui contient les deux animaux au choix.\n",
    "\n",
    "    Cet exemple d'implementation, bien qu'ajoutant beaucoup au compteur du nombre de lignes de code, fonctionne :\n",
    "\n",
    "\n",
    "\n",
    "\n",
    "```\n",
    "{\n",
    "    struct Sheep {}\n",
    "    struct Cow {}\n",
    "\n",
    "    trait Animal {\n",
    "        // Instance method signature\n",
    "        fn noise(&self) -> &'static str;\n",
    "    }\n",
    "\n",
    "    // Implement the `Animal` trait for `Sheep`.\n",
    "    impl Animal for Sheep {\n",
    "        fn noise(&self) -> &'static str {\n",
    "            \"beeeeeeh!\"\n",
    "        }\n",
    "    }\n",
    "\n",
    "    // Implement the `Animal` trait for `Cow`.\n",
    "    impl Animal for Cow {\n",
    "        fn noise(&self) -> &'static str {\n",
    "            \"meuuuuuh!\"\n",
    "        }\n",
    "    }\n",
    "\n",
    "    enum AnimalType {\n",
    "        Sheep(Sheep),\n",
    "        Cow(Cow),\n",
    "    }\n",
    "\n",
    "    impl Animal for AnimalType {\n",
    "        fn noise(&self) ->  &'static str {\n",
    "            match self {\n",
    "                AnimalType::Sheep(sheep) => sheep.noise(),\n",
    "                AnimalType::Cow(cow) => cow.noise(),\n",
    "            }\n",
    "        }\n",
    "    }\n",
    "\n",
    "    fn random_animal(random_number: f64) -> AnimalType {\n",
    "        if random_number < 0.5 {\n",
    "            AnimalType::Sheep(Sheep {})\n",
    "        } else {\n",
    "            AnimalType::Cow(Cow {})\n",
    "        }\n",
    "    }\n",
    "\n",
    "    fn main(random_number: f64) {\n",
    "        let animal = random_animal(random_number);\n",
    "        println!(\"You've randomly chosen an animal, and it says {}\", animal.noise());\n",
    "    }\n",
    "    main(0.334);\n",
    "    main(0.9);\n",
    "}\n",
    "```"
   ]
  }
 ],
 "metadata": {
  "kernelspec": {
   "display_name": "Rust",
   "language": "rust",
   "name": "rust"
  },
  "language_info": {
   "codemirror_mode": "rust",
   "file_extension": ".rs",
   "mimetype": "text/rust",
   "name": "Rust",
   "pygment_lexer": "rust",
   "version": ""
  },
  "toc": {
   "base_numbering": 1,
   "nav_menu": {},
   "number_sections": true,
   "sideBar": true,
   "skip_h1_title": false,
   "title_cell": "Table of Contents",
   "title_sidebar": "Contents",
   "toc_cell": false,
   "toc_position": {},
   "toc_section_display": true,
   "toc_window_display": false
  }
 },
 "nbformat": 4,
 "nbformat_minor": 5
}
