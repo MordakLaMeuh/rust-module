{
 "cells": [
  {
   "cell_type": "markdown",
   "id": "documented-christian",
   "metadata": {
    "deletable": false,
    "editable": false
   },
   "source": [
    "# Les collections - Vector et HashMap\n",
    "\n",
    "---\n",
    "\n",
    "Une collection est un ensemble d'éléments de même type alloue dynamiquement. Les collections sont classées en 4 grandes familles :\n",
    "\n",
    "> - **Sequences**: Vec, VecDeque, LinkedList\n",
    "> - **Maps**: HashMap, BTreeMap\n",
    "> - **Sets**: HashSet, BTreeSet\n",
    "> - **Misc**: BinaryHeap\n",
    "\n",
    "*Il est bien plus courant d'utiliser les Vecteurs et les HashMap que tous les autres types. Ainsi, nous n'allons ici traiter que d'eux.*"
   ]
  },
  {
   "cell_type": "markdown",
   "id": "pediatric-willow",
   "metadata": {
    "deletable": false,
    "editable": false
   },
   "source": [
    "## Les Vectors\n",
    "\n",
    "> Les vectors ou Vec sont utiles lorsque l'on a besoin de tableau redimensionable, ou que les données soient stockées sur le tas. Cependant, dans le cas d'ajout d'éléments au début du tableau, il est conseillé de passer par un autre type de collection, le vecteur est bien plus performant pour les allocations en fin de tableau que le contraire (Toutes les données nécessiteraient d'être déplacées.).\n",
    "\n",
    "```\n",
    "pub struct Vec<T, A = Global>\n",
    "where\n",
    "    A: Allocator,{\n",
    "/* private fields */ }\n",
    "```"
   ]
  },
  {
   "cell_type": "markdown",
   "id": "written-grave",
   "metadata": {
    "deletable": false,
    "editable": false
   },
   "source": [
    "### Creation de Vec"
   ]
  },
  {
   "cell_type": "markdown",
   "id": "under-little",
   "metadata": {
    "deletable": false,
    "editable": false
   },
   "source": [
    "- Voici 3 façons de créer un nouveau Vec :\n",
    "> - Avec **Vec::new()**\n",
    "> - avec **to_vec()** qui est une méthode des tableaux\n",
    "> - Avec la macro **vec!**"
   ]
  },
  {
   "cell_type": "code",
   "execution_count": 29,
   "id": "careful-brother",
   "metadata": {
    "deletable": false,
    "editable": false
   },
   "outputs": [],
   "source": [
    "// A partir d'un vecteur vide\n",
    "let mut v1 = Vec::new();\n",
    "v1.push(1);\n",
    "v1.push(2);\n",
    "v1.push(3);\n",
    "    \n",
    "// A partir d'un tableau\n",
    "let mut v2 = [1, 2, 3].to_vec();\n",
    "    \n",
    "// A partir de la macro vec!\n",
    "let mut v3 = vec!(1, 2, 3);"
   ]
  },
  {
   "cell_type": "markdown",
   "id": "impressive-collapse",
   "metadata": {
    "deletable": false,
    "editable": false
   },
   "source": [
    "*Ce ne sont pas les seuls moyens, on peut par exemple aussi utiliser **collect()** sur un iterateur*"
   ]
  },
  {
   "cell_type": "markdown",
   "id": "occupational-annex",
   "metadata": {
    "deletable": false,
    "editable": false
   },
   "source": [
    "### Utilisation de Vec\n",
    "\n",
    "- Pour accéder aux éléments du Vecteur, l'on utilisera la **notation crochet** de la même façon que si l'on tentait d'accéder aux éléments d'un tableau. Cependant, le programme paniquera si l'on veut accéder à un index d'élément qui dépasse la taille de la collection. Il existe la méthode get() sur les vecteurs qui permet d'accéder aux éléments et qui retourne une Option, donc None si l'index était invalide :"
   ]
  },
  {
   "cell_type": "code",
   "execution_count": 8,
   "id": "returning-chemistry",
   "metadata": {
    "deletable": false,
    "editable": false
   },
   "outputs": [
    {
     "name": "stderr",
     "output_type": "stream",
     "text": [
      "[src/lib.rs:126] v1[0] = 1\n",
      "[src/lib.rs:127] v1[1] = 2\n",
      "[src/lib.rs:128] v1[2] = 3\n",
      "[src/lib.rs:133] r = Some(\n",
      "    3,\n",
      ")\n",
      "[src/lib.rs:134] s = None\n"
     ]
    },
    {
     "data": {
      "text/plain": [
       "()"
      ]
     },
     "execution_count": 8,
     "metadata": {},
     "output_type": "execute_result"
    }
   ],
   "source": [
    "{\n",
    "    let v1 = vec!(1, 2, 3_u64);\n",
    "    dbg!(v1[0]); // notation crochet\n",
    "    dbg!(v1[1]); // notation crochet\n",
    "    dbg!(v1[2]); // notation crochet\n",
    "\n",
    "    // dbg!(v1[3]); // CETTE LIGNE PROVOQUERAIT UN PANIC\n",
    "    let r = v1.get(2); // Une Option est retournee selon si l'element est present ou non\n",
    "    let s = v1.get(3); // Une Option est retournee selon si l'element est present ou non\n",
    "    dbg!(r);\n",
    "    dbg!(s);\n",
    "}"
   ]
  },
  {
   "cell_type": "markdown",
   "id": "christian-statement",
   "metadata": {
    "deletable": false,
    "editable": false
   },
   "source": [
    "```\n",
    "pub fn get<I>(&self, index: I) -> Option<&<I as SliceIndex<[T]>>::Output>\n",
    "where\n",
    "    I: SliceIndex<[T]>,\n",
    "```\n",
    "- D'après son prototype, get() ne se contente pas seulement de retourner un élément ou une référence sur ce dernier, mais il retourne une slice. Ceci peut permettre de retourner une liste d'éléments avec get() :"
   ]
  },
  {
   "cell_type": "code",
   "execution_count": 13,
   "id": "apart-great",
   "metadata": {
    "deletable": false,
    "editable": false
   },
   "outputs": [
    {
     "name": "stderr",
     "output_type": "stream",
     "text": [
      "[src/lib.rs:127] slice = Some(\n",
      "    [\n",
      "        3,\n",
      "        4,\n",
      "        5,\n",
      "    ],\n",
      ")\n"
     ]
    },
    {
     "data": {
      "text/plain": [
       "()"
      ]
     },
     "execution_count": 13,
     "metadata": {},
     "output_type": "execute_result"
    }
   ],
   "source": [
    "{\n",
    "    let v1: Vec<u32> = (1..=10).collect(); // Creation d'un Vector contenant les nombres de 1 a 10\n",
    "    let slice = v1.get(2..5);\n",
    "    dbg!(slice);\n",
    "}"
   ]
  },
  {
   "cell_type": "markdown",
   "id": "prescribed-firewall",
   "metadata": {
    "deletable": false,
    "editable": false
   },
   "source": [
    "- Il existe différentes méthodes pour Vec, en voici quelques exemples :"
   ]
  },
  {
   "cell_type": "code",
   "execution_count": 2,
   "id": "scenic-brooks",
   "metadata": {
    "deletable": false,
    "editable": false
   },
   "outputs": [
    {
     "name": "stderr",
     "output_type": "stream",
     "text": [
      "[src/lib.rs:104] v.pop() = Some(\n",
      "    10,\n",
      ")\n",
      "[src/lib.rs:110] v = 11\n",
      "[src/lib.rs:115] v = [\n",
      "    22,\n",
      "]\n"
     ]
    }
   ],
   "source": [
    "let mut v = Vec::<u64>::new();\n",
    "v.push(10); // Ajoute 10 a la fin de la colletion\n",
    "dbg!(v.pop()); // Retire le dernier element de la collection et retoune une Option de celui-ci\n",
    "let mut v2: Vec<u64> = vec![4, 5, 6];\n",
    "v.append(&mut v2); // Copie les valeurs de v2 dans v1, vide v2\n",
    "v.clear(); // Vide la collection\n",
    "v.push(11);\n",
    "v.iter().for_each(|v| { // Itere sur le vecteur et dump les valeurs contenues\n",
    "    dbg!(v);\n",
    "});\n",
    "v.iter_mut().for_each(|value| { // Itere de facon mutable sur le vecteur, modifie ses valeurs\n",
    "    *value *= 2;\n",
    "});\n",
    "dbg!(v);"
   ]
  },
  {
   "cell_type": "markdown",
   "id": "olympic-portland",
   "metadata": {
    "deletable": false,
    "editable": false
   },
   "source": [
    "### Les slices à partir d'un Vector\n",
    "\n",
    "\n",
    "- Enfin, il est possible d'obtenir directement une slice de type elem à partir d'un Vec de type elem en le préfixant de l'opérateur de référencement & :"
   ]
  },
  {
   "cell_type": "code",
   "execution_count": 3,
   "id": "quarterly-senate",
   "metadata": {
    "deletable": false,
    "editable": false
   },
   "outputs": [
    {
     "name": "stdout",
     "output_type": "stream",
     "text": [
      "ma slice est : [1, 2, 4, 8, 16]\n",
      "sa taille est de : 5\n",
      "ma slice est : [1, 2, 4, 8, 16]\n",
      "sa taille est de : 5\n",
      "ma slice est : [2, 4]\n",
      "sa taille est de : 2\n"
     ]
    },
    {
     "data": {
      "text/plain": [
       "()"
      ]
     },
     "execution_count": 3,
     "metadata": {},
     "output_type": "execute_result"
    }
   ],
   "source": [
    "fn i_take_a_slice(slice: &[u8]) { // Cette fonction prend une slice en parametre\n",
    "    println!(\"ma slice est : {:?}\", slice);\n",
    "    println!(\"sa taille est de : {}\", slice.len());\n",
    "}\n",
    "fn now_a_u32_slice(slice: &[u32]) {\n",
    "    println!(\"ma slice est : {:?}\", slice);\n",
    "    println!(\"sa taille est de : {}\", slice.len());\n",
    "}\n",
    "{\n",
    "    let v = vec!(1, 2, 4, 8, 16);  // Inference de Vec<u8>\n",
    "    i_take_a_slice(&v);\n",
    "    \n",
    "    let v2 = vec!(1, 2, 4, 8, 16); // Inference de Vec<u32>\n",
    "    now_a_u32_slice(&v2);\n",
    "    \n",
    "    let v2 = vec!(1, 2, 4, 8, 16);\n",
    "    now_a_u32_slice(&v2[1..3]); // Sous slice ici !\n",
    "}"
   ]
  },
  {
   "cell_type": "markdown",
   "id": "reserved-watch",
   "metadata": {
    "deletable": false,
    "editable": false
   },
   "source": [
    " - Naturellement, il est normal de pouvoir obtenir des sous-slices aussi :"
   ]
  },
  {
   "cell_type": "code",
   "execution_count": 17,
   "id": "floppy-venice",
   "metadata": {
    "deletable": false,
    "editable": false
   },
   "outputs": [
    {
     "name": "stdout",
     "output_type": "stream",
     "text": [
      "ma slice est : [1, 2]\n",
      "sa taille est de : 2\n",
      "ma slice est : [1, 2, 4, 8, 16]\n",
      "sa taille est de : 5\n",
      "ma slice est : [2, 4, 8, 16]\n",
      "sa taille est de : 4\n",
      "ma slice est : [8, 16]\n",
      "sa taille est de : 2\n",
      "ma slice est : [8, 16]\n",
      "sa taille est de : 2\n"
     ]
    },
    {
     "data": {
      "text/plain": [
       "()"
      ]
     },
     "execution_count": 17,
     "metadata": {},
     "output_type": "execute_result"
    }
   ],
   "source": [
    "{\n",
    "    let v = vec!(1, 2, 4, 8, 16);\n",
    "    let slice1 = &v[..2];\n",
    "    i_take_a_slice(slice1);\n",
    "    let slice2 = &v[0..5];\n",
    "    i_take_a_slice(slice2);\n",
    "    let slice3 = &v[1..v.len()];\n",
    "    i_take_a_slice(slice3);\n",
    "    let slice4 = &v[3..];\n",
    "    i_take_a_slice(slice4);\n",
    "\n",
    "    let v2 = vec!(1, 2, 4, 8, 16); // Inference de Vec<u32>\n",
    "    let slice_u32 = &v2[3..];\n",
    "    now_a_u32_slice(slice_u32);\n",
    "}"
   ]
  },
  {
   "cell_type": "markdown",
   "id": "municipal-chicken",
   "metadata": {
    "deletable": false,
    "editable": false
   },
   "source": [
    "- Grâce aux mécanismes de safety, un panic! se déclenche si l'on sort de la Range :"
   ]
  },
  {
   "cell_type": "code",
   "execution_count": 10,
   "id": "oriented-viewer",
   "metadata": {
    "deletable": false,
    "editable": false,
    "scrolled": true
   },
   "outputs": [
    {
     "name": "stderr",
     "output_type": "stream",
     "text": [
      "thread '<unnamed>' panicked at 'range end index 6 out of range for slice of length 5', src/lib.rs:28:18\n",
      "stack backtrace:\n",
      "   0: rust_begin_unwind\n",
      "             at /rustc/8460ca823e8367a30dda430efda790588b8c84d3/library/std/src/panicking.rs:575:5\n",
      "   1: core::panicking::panic_fmt\n",
      "             at /rustc/8460ca823e8367a30dda430efda790588b8c84d3/library/core/src/panicking.rs:64:14\n",
      "   2: core::slice::index::slice_end_index_len_fail_rt\n",
      "             at /rustc/8460ca823e8367a30dda430efda790588b8c84d3/library/core/src/slice/index.rs:77:5\n",
      "   3: core::slice::index::slice_end_index_len_fail\n",
      "   4: <unknown>\n",
      "             at /rustc/8460ca823e8367a30dda430efda790588b8c84d3/library/core/src/slice/index.rs:69:9\n",
      "   5: <unknown>\n",
      "   6: evcxr::runtime::Runtime::run_loop\n",
      "   7: evcxr::runtime::runtime_hook\n",
      "   8: evcxr_jupyter::main\n",
      "note: Some details are omitted, run with `RUST_BACKTRACE=full` for a verbose backtrace.\n"
     ]
    }
   ],
   "source": [
    "{\n",
    "    let v = vec!(1, 2, 4, 8, 16);\n",
    "    let slice = &v[..6]; // Slice trop large pour le Vector !\n",
    "    i_take_a_slice(slice);\n",
    "}"
   ]
  },
  {
   "cell_type": "markdown",
   "id": "automotive-massage",
   "metadata": {
    "deletable": false,
    "editable": false
   },
   "source": [
    "## Les HashMap"
   ]
  },
  {
   "cell_type": "markdown",
   "id": "virgin-estimate",
   "metadata": {
    "deletable": false,
    "editable": false
   },
   "source": [
    "- Alors que les Vecteurs seraient de la forme INDEX/VALUE, les HashMap sont plutôt de la forme KEY/VALUE. À chaque élément, est associée une clef, n'importe quel type d'élément peut être insérée tant que sa taille est connue à la compilation, mais la clef doit implémenter les traits Hash et Eq pour être utilisable :"
   ]
  },
  {
   "cell_type": "code",
   "execution_count": 20,
   "id": "quiet-willow",
   "metadata": {
    "deletable": false,
    "editable": false
   },
   "outputs": [
    {
     "name": "stderr",
     "output_type": "stream",
     "text": [
      "[src/lib.rs:112] hashmap = {}\n"
     ]
    }
   ],
   "source": [
    "use std::collections::HashMap;\n",
    "\n",
    "#[derive(Debug)]\n",
    "struct Dummy { a: usize, b: usize }\n",
    "let hashmap: HashMap<usize, Dummy> = std::collections::HashMap::new(); // Creation de hashmap\n",
    "dbg!(hashmap);"
   ]
  },
  {
   "cell_type": "markdown",
   "id": "impaired-juvenile",
   "metadata": {
    "deletable": false,
    "editable": false
   },
   "source": [
    "> *HashMap ne fait pas partie du prélude Rust, ainsi, il est obligatoire de l'importer via* **use std::collections::HashMap;**"
   ]
  },
  {
   "cell_type": "markdown",
   "id": "short-market",
   "metadata": {
    "deletable": false,
    "editable": false
   },
   "source": [
    "Contrairement aux vecteurs qui sont des collections linéaires, les hashmap permettent de pouvoir retrouver rapidement un élément, de le supprimer ou d'en insérer un nouveau.\n",
    "\n",
    "- Il existe beaucoup de méthodes sur le HashMap, les plus utilisées sont insert() et get() :"
   ]
  },
  {
   "cell_type": "code",
   "execution_count": 28,
   "id": "exact-delicious",
   "metadata": {
    "deletable": false,
    "editable": false
   },
   "outputs": [
    {
     "name": "stderr",
     "output_type": "stream",
     "text": [
      "[src/lib.rs:114] &hashmap = {}\n",
      "[src/lib.rs:119] &hashmap.get(&7) = Some(\n",
      "    Dummy {\n",
      "        a: 255,\n",
      "        s: \"Blanche neige et les septs nains\",\n",
      "    },\n",
      ")\n",
      "[src/lib.rs:120] &hashmap.get(&1) = None\n"
     ]
    }
   ],
   "source": [
    "use std::collections::HashMap;\n",
    "\n",
    "#[derive(Debug)]\n",
    "struct Dummy { a: usize, s: &'static str }\n",
    "let mut hashmap: HashMap<usize, Dummy> = std::collections::HashMap::new(); // Creation de hashmap\n",
    "dbg!(&hashmap);\n",
    "hashmap.insert(3, Dummy{a: 254, s: \"Les trois petits cochons\"});\n",
    "hashmap.insert(7, Dummy{a: 255, s: \"Blanche neige et les septs nains\"});\n",
    "// dbg!(&hashmap);\n",
    "\n",
    "dbg!(&hashmap.get(&7)); // 7 est une clef valide\n",
    "dbg!(&hashmap.get(&1)); // 1 n'est pas une clef valide"
   ]
  },
  {
   "cell_type": "markdown",
   "id": "verified-pacific",
   "metadata": {
    "deletable": false,
    "editable": false
   },
   "source": [
    "> **N'hesitez pas a tester d'autres méthodes, certaines sont vraiment sympas.**"
   ]
  }
 ],
 "metadata": {
  "kernelspec": {
   "display_name": "Rust",
   "language": "rust",
   "name": "rust"
  },
  "language_info": {
   "codemirror_mode": "rust",
   "file_extension": ".rs",
   "mimetype": "text/rust",
   "name": "Rust",
   "pygment_lexer": "rust",
   "version": ""
  },
  "toc": {
   "base_numbering": "2",
   "nav_menu": {},
   "number_sections": true,
   "sideBar": true,
   "skip_h1_title": false,
   "title_cell": "Table of Contents",
   "title_sidebar": "Contents",
   "toc_cell": false,
   "toc_position": {
    "height": "calc(100% - 180px)",
    "left": "10px",
    "top": "150px",
    "width": "268.8px"
   },
   "toc_section_display": true,
   "toc_window_display": false
  }
 },
 "nbformat": 4,
 "nbformat_minor": 5
}
