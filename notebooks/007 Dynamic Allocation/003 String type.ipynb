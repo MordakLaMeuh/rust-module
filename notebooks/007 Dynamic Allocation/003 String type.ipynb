{
 "cells": [
  {
   "cell_type": "markdown",
   "id": "offensive-charleston",
   "metadata": {
    "deletable": false,
    "editable": false
   },
   "source": [
    "# Le type String\n",
    "\n",
    "---"
   ]
  },
  {
   "cell_type": "markdown",
   "id": "million-zambia",
   "metadata": {
    "deletable": false,
    "editable": false
   },
   "source": [
    "## Présentation\n",
    "\n",
    "- Une String est un autre type alloue, spécialise dans les chaînes de caractères. Contrairement aux Box qui ont une taille fixe, la String est plutôt comme un Vecteur et change de taille selon ce qu'elle contient.\n",
    "\n",
    "![STRING](pictures/string_proto.png)"
   ]
  },
  {
   "cell_type": "code",
   "execution_count": 2,
   "id": "czech-administration",
   "metadata": {
    "deletable": false,
    "editable": false
   },
   "outputs": [
    {
     "name": "stderr",
     "output_type": "stream",
     "text": [
      "[src/lib.rs:104] &s = \"Hello\"\n",
      "[src/lib.rs:107] &s = \"Hello World\"\n",
      "[src/lib.rs:109] &s = \"\"\n"
     ]
    }
   ],
   "source": [
    "let mut s: String = String::new();\n",
    "s.push_str(\"Hello\");\n",
    "dbg!(&s);\n",
    "s.push(' ');\n",
    "s.push_str(\"World\");\n",
    "dbg!(&s);\n",
    "s.clear();\n",
    "dbg!(&s);"
   ]
  },
  {
   "cell_type": "markdown",
   "id": "working-tribute",
   "metadata": {
    "deletable": false,
    "editable": false
   },
   "source": [
    "**Contrairement aux chaînes de caractères des langages bas niveau, une String en Rust contient toujours des caractères UTF8 valides qui peuvent tenir sur n octets (allant de 1 à 4). Ce n'est pas une simple chaîne ASCII.**"
   ]
  },
  {
   "cell_type": "markdown",
   "id": "physical-canvas",
   "metadata": {
    "deletable": false,
    "editable": false
   },
   "source": [
    "## Création de String\n",
    "\n",
    "### 4 façons utilisées de façon courante\n",
    "\n",
    "- Il existe plusieurs moyens de créer une chaîne de caractère allouée dynamiquement, en voici une liste non-exhaustive :\n",
    "> - Utilisation de **String::new()**\n",
    "> - Les traits **From** et **Into** à partir du type **&str**\n",
    "> - La méthode **to_string()** du type **&str**\n",
    "> - Emploi de la **macro format!**"
   ]
  },
  {
   "cell_type": "code",
   "execution_count": 9,
   "id": "demonstrated-musical",
   "metadata": {
    "deletable": false,
    "editable": false
   },
   "outputs": [
    {
     "name": "stderr",
     "output_type": "stream",
     "text": [
      "[src/lib.rs:106] s = \"Hello World !\"\n",
      "[src/lib.rs:109] s = \"Ce sont des choses qui arrivent.\"\n",
      "[src/lib.rs:111] s = \"Ce sont des choses qui arrivent.\"\n",
      "[src/lib.rs:113] s = \"Ce sont des choses qui arrivent\"\n",
      "[src/lib.rs:116] s = \"Encore un autre moyen...\"\n",
      "[src/lib.rs:120] s = \"Et voila un dernier moyen, celui ci est plus classe car je peux mettre 42 dedans.\"\n"
     ]
    }
   ],
   "source": [
    "let mut s = String::new(); // String::new()\n",
    "s.push_str(\"Hello World !\");\n",
    "dbg!(s);\n",
    "\n",
    "let s: String = \"Ce sont des choses qui arrivent.\".into(); // Trait Into\n",
    "dbg!(s);\n",
    "let s = String::from(\"Ce sont des choses qui arrivent.\"); // Trait From\n",
    "dbg!(s);\n",
    "let s = String::from(\"Ce sont des choses \") + \"qui arrivent\".into(); // Combo !\n",
    "dbg!(s);\n",
    "\n",
    "let s = \"Encore un autre moyen...\".to_string(); // Methode to_string()\n",
    "dbg!(s);\n",
    "\n",
    "let i: usize = 42; // Utilisation de la macro format!\n",
    "let s = format!(\"Et voila un dernier moyen, celui ci est plus classe car je peux mettre {} dedans.\", 42);\n",
    "dbg!(s);"
   ]
  },
  {
   "cell_type": "markdown",
   "id": "thick-medication",
   "metadata": {
    "deletable": false,
    "editable": false
   },
   "source": [
    "## Les méthodes pour String\n",
    "\n",
    "> Il existe beaucoup de méthodes pour String, la meilleure chose à faire est de les essayer. Elles sont toutes plus ou moins spécialisées dans la gestion des chaînes de caractère contrairement à ce que serait un Vec\\<char\\>.\n",
    "\n",
    "- Il est important de noter aussi que le type String implémente les traits Add & AddAssign ce qui permet d'utiliser l'opérateur *+* :"
   ]
  },
  {
   "cell_type": "code",
   "execution_count": 12,
   "id": "cubic-trigger",
   "metadata": {
    "deletable": false,
    "editable": false
   },
   "outputs": [
    {
     "name": "stderr",
     "output_type": "stream",
     "text": [
      "[src/lib.rs:107] s = \"Hello World!\"\n"
     ]
    }
   ],
   "source": [
    "let mut s = format!(\"Hello\");\n",
    "s += \" \";                         // Utilisation de AddAssign\n",
    "s += \"World!\";                    // Utilisation de AddAssign\n",
    "dbg!(s);"
   ]
  },
  {
   "cell_type": "markdown",
   "id": "forward-puzzle",
   "metadata": {
    "deletable": false,
    "editable": false
   },
   "source": [
    "- Par exemple, la méthode replace permet de remplacer une partie de la chaîne de caractères :"
   ]
  },
  {
   "cell_type": "code",
   "execution_count": 16,
   "id": "passive-acquisition",
   "metadata": {
    "deletable": false,
    "editable": false
   },
   "outputs": [
    {
     "name": "stdout",
     "output_type": "stream",
     "text": [
      "The new string is 这是一头很老的猪\n"
     ]
    }
   ],
   "source": [
    "let s = \"这是一只非常古老的猴子\";\n",
    "let new_string = s.replace(\"只非常古老的猴子\", \"头很老的猪\");\n",
    "println!(\"The new string is {}\", new_string);"
   ]
  },
  {
   "cell_type": "markdown",
   "id": "danish-scanning",
   "metadata": {
    "deletable": false,
    "editable": false
   },
   "source": [
    "## Le type &str à partir d'une String\n",
    "\n",
    "> Tout comme pour les Vector avec les slices, une variable de type &str peut être obtenue à partir d'un type String. Grace a l'opérateur de référencement, on obtient ainsi une &str (ou une slice de type str). Mais cependant, souvenez-vous que le type String peut contenir des éléments de taille différente puisque ce sont des caractères UTF8, et que la notation crochet qui permet de ne récupérer qu'une sous-séquence fonctionne à sur des elements de taille identique.\n",
    "\n",
    "- Il y a donc des risques de couper des séquences UTF8 en plein milieu d'un caractère :"
   ]
  },
  {
   "cell_type": "code",
   "execution_count": 21,
   "id": "willing-humor",
   "metadata": {
    "deletable": false,
    "editable": false
   },
   "outputs": [
    {
     "name": "stderr",
     "output_type": "stream",
     "text": [
      "[src/lib.rs:25] str = \"这是一只非常古老的猴子\"\n",
      "[src/lib.rs:27] str1 = \"这\"\n",
      "[src/lib.rs:29] str2 = \"这是\"\n",
      "thread '<unnamed>' panicked at 'byte index 1 is not a char boundary; it is inside '这' (bytes 0..3) of `这是一只非常古老的猴子`', src/lib.rs:30:17\n",
      "stack backtrace:\n",
      "   0: rust_begin_unwind\n",
      "             at /rustc/8460ca823e8367a30dda430efda790588b8c84d3/library/std/src/panicking.rs:575:5\n",
      "   1: core::panicking::panic_fmt\n",
      "             at /rustc/8460ca823e8367a30dda430efda790588b8c84d3/library/core/src/panicking.rs:64:14\n",
      "   2: core::str::slice_error_fail_rt\n",
      "   3: core::str::slice_error_fail\n",
      "             at /rustc/8460ca823e8367a30dda430efda790588b8c84d3/library/core/src/str/mod.rs:86:9\n",
      "   4: <unknown>\n",
      "   5: <unknown>\n",
      "   6: evcxr::runtime::Runtime::run_loop\n",
      "   7: evcxr::runtime::runtime_hook\n",
      "   8: evcxr_jupyter::main\n",
      "note: Some details are omitted, run with `RUST_BACKTRACE=full` for a verbose backtrace.\n"
     ]
    }
   ],
   "source": [
    "{\n",
    "    let s: String = \"这是一只非常古老的猴子\".into();\n",
    "    let str = &s;\n",
    "    dbg!(str);\n",
    "    let str1 = &s[..3]; // Ca passe\n",
    "    dbg!(str1);\n",
    "    let str2 = &s[0..6]; // Ca passe aussi, je connais bien le format UTF8 :)\n",
    "    dbg!(str2);\n",
    "    let str3 = &s[1..s.len()]; // Le premier caractere est coupe ici !\n",
    "    dbg!(str3);\n",
    "}"
   ]
  },
  {
   "cell_type": "markdown",
   "id": "loved-footwear",
   "metadata": {
    "deletable": false,
    "editable": false
   },
   "source": [
    "> Ce code n'aurait pas paniqué si ma Sring n'avait contenu que de vulgaires caractères ASCII."
   ]
  },
  {
   "cell_type": "markdown",
   "id": "recognized-washer",
   "metadata": {
    "deletable": false,
    "editable": false
   },
   "source": [
    "## A propos de From et de Into"
   ]
  },
  {
   "cell_type": "markdown",
   "id": "alive-covering",
   "metadata": {
    "deletable": false,
    "editable": false
   },
   "source": [
    "**Implémentation du trait From<&str> pour String**\n",
    "```\n",
    "impl From<&str> for String\n",
    "```"
   ]
  },
  {
   "cell_type": "markdown",
   "id": "periodic-invalid",
   "metadata": {
    "deletable": false,
    "editable": false
   },
   "source": [
    "**Description du trait From ...**\n",
    "```\n",
    "Trait std::convert::From\n",
    "\n",
    "pub trait From<T>: Sized {\n",
    "    // Required method\n",
    "    fn from(value: T) -> Self;\n",
    "}\n",
    "```"
   ]
  },
  {
   "cell_type": "markdown",
   "id": "homeless-symbol",
   "metadata": {
    "deletable": false,
    "editable": false
   },
   "source": [
    "**... Dans la même description, il est écrit un peu plus loin**\n",
    "```\n",
    "Generic Implementations\n",
    "\n",
    "    From<T> for U implies Into<U> for T\n",
    "    From is reflexive, which means that From<T> for T is implemented\n",
    "```"
   ]
  },
  {
   "cell_type": "markdown",
   "id": "present-congress",
   "metadata": {
    "deletable": false,
    "editable": false
   },
   "source": [
    "**Et enfin, la description du trait Into.**\n",
    "```\n",
    "Trait std::convert::Into\n",
    "\n",
    "pub trait Into<T>: Sized {\n",
    "    // Required method\n",
    "    fn into(self) -> T;\n",
    "}\n",
    "```"
   ]
  },
  {
   "cell_type": "markdown",
   "id": "opponent-conducting",
   "metadata": {
    "deletable": false,
    "editable": false,
    "solution2": "hidden",
    "solution2_first": true
   },
   "source": [
    "> Que peut-on dire des traits From et de Into ?"
   ]
  },
  {
   "cell_type": "markdown",
   "id": "champion-association",
   "metadata": {
    "deletable": false,
    "editable": false,
    "solution2": "hidden"
   },
   "source": [
    "From et Into permettent la conversion entres différents types. Implémenter From\\<T\\> pour un type en définissant la méthode from() permet aussi d'utiliser la méthode into() pour mon type sans avoir à définir une méthode into().\n",
    "\n",
    "Enfin, From\\<&str\\> for String est implémenté ce qui me permet de créer une chaîne de caractère allouée en mémoire à partir de chaînes statiques."
   ]
  }
 ],
 "metadata": {
  "kernelspec": {
   "display_name": "Rust",
   "language": "rust",
   "name": "rust"
  },
  "language_info": {
   "codemirror_mode": "rust",
   "file_extension": ".rs",
   "mimetype": "text/rust",
   "name": "Rust",
   "pygment_lexer": "rust",
   "version": ""
  },
  "toc": {
   "base_numbering": "3",
   "nav_menu": {},
   "number_sections": true,
   "sideBar": true,
   "skip_h1_title": false,
   "title_cell": "Table of Contents",
   "title_sidebar": "Contents",
   "toc_cell": false,
   "toc_position": {
    "height": "calc(100% - 180px)",
    "left": "10px",
    "top": "150px",
    "width": "268.8px"
   },
   "toc_section_display": true,
   "toc_window_display": false
  }
 },
 "nbformat": 4,
 "nbformat_minor": 5
}
