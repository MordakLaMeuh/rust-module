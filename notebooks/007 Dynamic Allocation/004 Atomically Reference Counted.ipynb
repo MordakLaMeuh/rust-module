{
 "cells": [
  {
   "cell_type": "markdown",
   "id": "vanilla-tooth",
   "metadata": {
    "deletable": false,
    "editable": false
   },
   "source": [
    "# Les Arc ou compteurs atomiques de référence\n",
    "\n",
    "---\n",
    "\n",
    "Il existe encore beaucoup d'autres structures en Rust qui sont allouées dynamiquement, faire la description de toutes ces structures serait une perte de temps dans le cadre de ce cours, c'est votre pratique future du Rust qui vous les enseignera petit à petit.\n",
    "\n",
    "Pour clore ce chapitre, je vais brièvement présenter une structure un peu plus atypique, que vous croiserez peut être moins souvent, l'Arc ou Atomically Reference Counter.\n",
    "\n",
    "C'est une structure allouée sur le tas et qui est destinée à être partagée entres différents threads. Elle n'est donc a utiliser que dans le cadre des programmes à fils multiples.\n",
    "\n",
    "```\n",
    "Struct std::sync::Arc\n",
    "\n",
    "pub struct Arc<T>\n",
    "where\n",
    "    T: ?Sized,\n",
    "{ /* private fields */ }\n",
    "\n",
    "A thread-safe reference-counting pointer. ‘Arc’ stands for ‘Atomically Reference Counted’.\n",
    "```"
   ]
  },
  {
   "cell_type": "markdown",
   "id": "binary-reynolds",
   "metadata": {
    "deletable": false,
    "editable": false
   },
   "source": [
    "## Caractéristiques des Arc"
   ]
  },
  {
   "cell_type": "markdown",
   "id": "level-reserve",
   "metadata": {
    "deletable": false,
    "editable": false
   },
   "source": [
    "> - Arc implémente le trait clone, chaque thread peut accéder indépendamment à son clone de l'Arc, chaque clone pointe sur le même endroit mémoire, le type contenu par l'Arc.\n",
    "\n",
    "> - Un compteur de référence interne fonctionne ainsi : pour chaque clone qui est fabriqué, il est incrémenté de 1, pour chaque clone détruit (par la fin d'un bloc d'instruction, d'un appel à Drop ou par une fonction qui ne le retourne pas), il est soustrait de 1.\n",
    "\n",
    "> - Quand le compteur tombe a 0, l'Arc et le type contenu sont libérés de la mémoire.\n",
    "\n",
    "> - Le compteur étant dit Atomic, il ne peut pas y avoir de problème de concurrence lors de l’incrémentation ou de la décrémentation de ce dernier.\n",
    "\n",
    "> - Enfin, un Arc n'est pas un mutex et ne peut à lui tout seul permettre un accès mutable au type contenu. Afin de pouvoir partager des donnees mutables, on utilise l'Arc en conjonction avec un Mutex : **Arc\\<Mutex\\<T>>** "
   ]
  },
  {
   "cell_type": "markdown",
   "id": "electoral-powder",
   "metadata": {
    "deletable": false,
    "editable": false
   },
   "source": [
    "## Proof of concept"
   ]
  },
  {
   "cell_type": "markdown",
   "id": "precise-sailing",
   "metadata": {
    "deletable": false,
    "editable": false
   },
   "source": [
    "- Tout comme les HashMap, Arc ne fait pas partie du prélude, il faut donc l'importer. Voici un exemple très simple qui illustre les changements du compteur de référence, mais dans un environnement mono-thread. Le multithreading sera aborde chapitre 9 :"
   ]
  },
  {
   "cell_type": "code",
   "execution_count": 12,
   "id": "different-vehicle",
   "metadata": {
    "deletable": false,
    "editable": false
   },
   "outputs": [
    {
     "name": "stdout",
     "output_type": "stream",
     "text": [
      "Compteur de reference juste apres la creation: 1\n",
      "Compteur de reference apres le clonage: 2\n",
      "Compteur de reference avant la fin du sous-bloc: 2\n",
      "Compteur de reference a la fin de la fonction principale: 1\n"
     ]
    },
    {
     "name": "stderr",
     "output_type": "stream",
     "text": [
      "[src/lib.rs:20] &b = Vector {\n",
      "    i: 12,\n",
      "    j: 42,\n",
      "}\n",
      "[src/lib.rs:29] a = Vector {\n",
      "    i: 12,\n",
      "    j: 42,\n",
      "}\n"
     ]
    }
   ],
   "source": [
    "use std::sync::Arc;\n",
    "\n",
    "#[derive(Debug)]\n",
    "struct Vector {\n",
    "    i: u32,\n",
    "    j: u32,\n",
    "}\n",
    "// Creation de l'Arc, le reference Counter passe a 1\n",
    "let a = Arc::<Vector>::new(Vector {i: 12, j: 42});\n",
    "println!(\"Compteur de reference juste apres la creation: {}\", Arc::strong_count(&a));\n",
    "{\n",
    "    // Creation du clone, le reference Counter passe a 2\n",
    "    let b = a.clone();\n",
    "    println!(\"Compteur de reference apres le clonage: {}\", Arc::strong_count(&b));\n",
    "    // Passage par reference, le clone n'est pas detruit lors de l'appel\n",
    "    dbg!(&b);\n",
    "        \n",
    "    println!(\"Compteur de reference avant la fin du sous-bloc: {}\", Arc::strong_count(&b));\n",
    "    // Ici le clone est detruit -> Fin du bloc d'instruction\n",
    "    // Le reference Counter repasse a 1\n",
    "}\n",
    "// L'arc est envoye a la fonction dbg!, il est ainsi detruit apres le retour\n",
    "// de la fonction dbg! puisque son reference Counter passe a 0.\n",
    "println!(\"Compteur de reference a la fin de la fonction principale: {}\", Arc::strong_count(&a));\n",
    "dbg!(a);"
   ]
  },
  {
   "cell_type": "markdown",
   "id": "headed-mumbai",
   "metadata": {
    "deletable": false,
    "editable": false
   },
   "source": [
    "> **N'hésitez pas à lire la documentation de Rust pour des illustrations dans le cadre du multi-threading.**"
   ]
  }
 ],
 "metadata": {
  "kernelspec": {
   "display_name": "Rust",
   "language": "rust",
   "name": "rust"
  },
  "language_info": {
   "codemirror_mode": "rust",
   "file_extension": ".rs",
   "mimetype": "text/rust",
   "name": "Rust",
   "pygment_lexer": "rust",
   "version": ""
  },
  "toc": {
   "base_numbering": "4",
   "nav_menu": {},
   "number_sections": true,
   "sideBar": true,
   "skip_h1_title": false,
   "title_cell": "Table of Contents",
   "title_sidebar": "Contents",
   "toc_cell": false,
   "toc_position": {
    "height": "calc(100% - 180px)",
    "left": "10px",
    "top": "150px",
    "width": "268.8px"
   },
   "toc_section_display": true,
   "toc_window_display": false
  }
 },
 "nbformat": 4,
 "nbformat_minor": 5
}
