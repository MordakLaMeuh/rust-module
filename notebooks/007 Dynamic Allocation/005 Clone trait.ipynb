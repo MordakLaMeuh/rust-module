{
 "cells": [
  {
   "cell_type": "markdown",
   "id": "thrown-passenger",
   "metadata": {
    "deletable": false,
    "editable": false
   },
   "source": [
    "# A propos du trait Clone\n",
    "\n",
    "---\n",
    "\n",
    "> Nous avons vu dans ce chapitre que les types alloués dynamiquement n'implémentent jamais le trait Copy et ne peuvent donc pas être copiées au nez et a la barbe du développeur. Afin de pouvoir être dupliqués, il est nécessaire d'utiliser la méthode clone() du trait Clone.\n",
    "```\n",
    "pub trait Clone: Sized {\n",
    "    // Required method\n",
    "    fn clone(&self) -> Self;\n",
    "\n",
    "    // Provided method\n",
    "    fn clone_from(&mut self, source: &Self) { ... }\n",
    "}\n",
    "```\n",
    "> Les nouvelles allocation de memoire se font donc uniquement **explicitement**."
   ]
  },
  {
   "cell_type": "markdown",
   "id": "acknowledged-harvey",
   "metadata": {
    "deletable": false,
    "editable": false
   },
   "source": [
    "## Dérivation de Clone\n",
    "\n",
    "- Si une structure ou une énumération contient des items alloués dynamiquement, elle ne pourra en aucun cas dériver Copy, car rappelez-vous, un Dérive d'un trait pour un type contenant des sous-types ne fonctionne que si tous les sous-types implémentent ce même trait :"
   ]
  },
  {
   "cell_type": "code",
   "execution_count": 4,
   "id": "proprietary-soviet",
   "metadata": {
    "deletable": false,
    "editable": false
   },
   "outputs": [
    {
     "name": "stderr",
     "output_type": "stream",
     "text": [
      "[src/lib.rs:35] r1 = Remote {\n",
      "    ipv4: (\n",
      "        192,\n",
      "        168,\n",
      "        41,\n",
      "        1,\n",
      "    ),\n",
      "    port: 8080,\n",
      "    server_name: \"xp6\",\n",
      "}\n",
      "[src/lib.rs:36] r2 = Remote {\n",
      "    ipv4: (\n",
      "        192,\n",
      "        168,\n",
      "        41,\n",
      "        1,\n",
      "    ),\n",
      "    port: 8080,\n",
      "}\n",
      "    server_name: \"xp6\",\n"
     ]
    },
    {
     "data": {
      "text/plain": [
       "()"
      ]
     },
     "execution_count": 4,
     "metadata": {},
     "output_type": "execute_result"
    }
   ],
   "source": [
    "{\n",
    "    #[derive(Clone, Debug)]  // Clone Derive\n",
    "    struct Remote {\n",
    "        ipv4: (u8, u8, u8, u8),\n",
    "        port: u32,\n",
    "        server_name: String,\n",
    "    }\n",
    "    let r1 = Remote {\n",
    "        ipv4: (192, 168, 41, 1),\n",
    "        port: 8080,\n",
    "        server_name: \"xp6\".into(),\n",
    "    };\n",
    "    let r2 = r1.clone();\n",
    "    dbg!(r1);\n",
    "    dbg!(r2);\n",
    "}"
   ]
  },
  {
   "cell_type": "markdown",
   "id": "ruled-grocery",
   "metadata": {
    "deletable": false,
    "editable": false
   },
   "source": [
    "## Dérive récursif\n",
    "\n",
    "- Si une structure contient une structure qui contient une structure qui contient un type Clonable, pour pouvoir cloner ma structure de départ, il faudra que toutes les sous-structures implémentent Clone aussi :"
   ]
  },
  {
   "cell_type": "code",
   "execution_count": 12,
   "id": "dedicated-hurricane",
   "metadata": {
    "deletable": false,
    "editable": false
   },
   "outputs": [
    {
     "name": "stdout",
     "output_type": "stream",
     "text": [
      "banane\n",
      "banane\n"
     ]
    },
    {
     "data": {
      "text/plain": [
       "()"
      ]
     },
     "execution_count": 12,
     "metadata": {},
     "output_type": "execute_result"
    }
   ],
   "source": [
    "{\n",
    "    #[derive(Clone)]\n",
    "    struct A(String);\n",
    "    #[derive(Clone)]\n",
    "    struct B(A);\n",
    "    #[derive(Clone)]\n",
    "    struct C(B);\n",
    "    #[derive(Clone)]\n",
    "    struct D(C);\n",
    "    let d1 = D(C(B(A(\"banane\".into()))));\n",
    "    println!(\"{}\", d1.0.0.0.0);\n",
    "    \n",
    "    let d2 = d1.clone(); // Possible seulement parce chaque structure derive le trait Clone\n",
    "    println!(\"{}\", d2.0.0.0.0);\n",
    "}\n"
   ]
  },
  {
   "cell_type": "markdown",
   "id": "fleet-robinson",
   "metadata": {
    "deletable": false,
    "editable": false
   },
   "source": [
    "## Implémentation obligatoire de Clone pour Copy\n",
    "\n",
    "> Dans le cas où tous mes types sont Copy, je ne peux pas dériver seulement le trait Copy à cause d'une contrainte de trait dans l'implémentation de Copy :\n",
    "```\n",
    "Trait std::marker::Copy\n",
    "\n",
    "pub trait Copy: Clone { }\n",
    "```\n",
    "\n",
    "- C'est pour cette raison que l'on croise un Dérive de Copy, il y a toujours avec lui un Dérive de Clone :"
   ]
  },
  {
   "cell_type": "code",
   "execution_count": 17,
   "id": "better-hospital",
   "metadata": {
    "deletable": false,
    "editable": false
   },
   "outputs": [
    {
     "ename": "Error",
     "evalue": "the trait bound `A: Clone` is not satisfied",
     "output_type": "error",
     "traceback": [
      "\u001b[31m[E0277] Error:\u001b[0m the trait bound `A: Clone` is not satisfied",
      "   \u001b[38;5;246m╭\u001b[0m\u001b[38;5;246m─\u001b[0m\u001b[38;5;246m[\u001b[0mcommand_17:1:1\u001b[38;5;246m]\u001b[0m",
      "   \u001b[38;5;246m│\u001b[0m",
      " \u001b[38;5;246m2 │\u001b[0m \u001b[38;5;249m \u001b[0m\u001b[38;5;249m \u001b[0m\u001b[38;5;249m \u001b[0m\u001b[38;5;249m \u001b[0m\u001b[38;5;249m#\u001b[0m\u001b[38;5;249m[\u001b[0m\u001b[38;5;249md\u001b[0m\u001b[38;5;249me\u001b[0m\u001b[38;5;249mr\u001b[0m\u001b[38;5;249mi\u001b[0m\u001b[38;5;249mv\u001b[0m\u001b[38;5;249me\u001b[0m\u001b[38;5;249m(\u001b[0m\u001b[38;5;54mC\u001b[0m\u001b[38;5;54mo\u001b[0m\u001b[38;5;54mp\u001b[0m\u001b[38;5;54my\u001b[0m\u001b[38;5;249m)\u001b[0m\u001b[38;5;249m]\u001b[0m",
      " \u001b[38;5;246m  ·\u001b[0m              \u001b[38;5;54m─\u001b[0m\u001b[38;5;54m─\u001b[0m\u001b[38;5;54m┬\u001b[0m\u001b[38;5;54m─\u001b[0m  ",
      " \u001b[38;5;246m  ·\u001b[0m                \u001b[38;5;54m╰\u001b[0m\u001b[38;5;54m─\u001b[0m\u001b[38;5;54m─\u001b[0m\u001b[38;5;54m─\u001b[0m the trait `Clone` is not implemented for `A`",
      " \u001b[38;5;246m3 │\u001b[0m \u001b[38;5;249m \u001b[0m\u001b[38;5;249m \u001b[0m\u001b[38;5;249m \u001b[0m\u001b[38;5;249m \u001b[0m\u001b[38;5;249ms\u001b[0m\u001b[38;5;249mt\u001b[0m\u001b[38;5;249mr\u001b[0m\u001b[38;5;249mu\u001b[0m\u001b[38;5;249mc\u001b[0m\u001b[38;5;249mt\u001b[0m\u001b[38;5;249m \u001b[0m\u001b[38;5;249mA\u001b[0m\u001b[38;5;249m(\u001b[0m\u001b[38;5;249mu\u001b[0m\u001b[38;5;249m3\u001b[0m\u001b[38;5;249m2\u001b[0m\u001b[38;5;249m)\u001b[0m\u001b[38;5;249m;\u001b[0m",
      " \u001b[38;5;246m  ·\u001b[0m     \u001b[38;5;100m│\u001b[0m ",
      " \u001b[38;5;246m  ·\u001b[0m     \u001b[38;5;100m╰\u001b[0m\u001b[38;5;100m─\u001b[0m help: consider annotating `A` with `#[derive(Clone)]`: `#[derive(Clone)]",
      "`",
      " \u001b[38;5;246m  ·\u001b[0m ",
      " \u001b[38;5;246m  ·\u001b[0m \u001b[38;5;115mNote\u001b[0m: required by this bound in `Copy`",
      "\u001b[38;5;246m───╯\u001b[0m"
     ]
    }
   ],
   "source": [
    "{\n",
    "    #[derive(Copy)] // Le trait bound n'est pas satisfait !\n",
    "    struct A(u32);\n",
    "    dbg!(A(42).0);\n",
    "}"
   ]
  },
  {
   "cell_type": "code",
   "execution_count": 16,
   "id": "characteristic-telescope",
   "metadata": {
    "deletable": false,
    "editable": false
   },
   "outputs": [
    {
     "name": "stderr",
     "output_type": "stream",
     "text": [
      "[src/lib.rs:25] A(42).0 = 42\n"
     ]
    },
    {
     "data": {
      "text/plain": [
       "()"
      ]
     },
     "execution_count": 16,
     "metadata": {},
     "output_type": "execute_result"
    }
   ],
   "source": [
    "{\n",
    "    #[derive(Copy, Clone)]\n",
    "    struct A(u32);\n",
    "    dbg!(A(42).0);\n",
    "}"
   ]
  }
 ],
 "metadata": {
  "kernelspec": {
   "display_name": "Rust",
   "language": "rust",
   "name": "rust"
  },
  "language_info": {
   "codemirror_mode": "rust",
   "file_extension": ".rs",
   "mimetype": "text/rust",
   "name": "Rust",
   "pygment_lexer": "rust",
   "version": ""
  },
  "toc": {
   "base_numbering": "5",
   "nav_menu": {},
   "number_sections": true,
   "sideBar": true,
   "skip_h1_title": false,
   "title_cell": "Table of Contents",
   "title_sidebar": "Contents",
   "toc_cell": false,
   "toc_position": {
    "height": "538.2px",
    "left": "43px",
    "top": "0px",
    "width": "268.8px"
   },
   "toc_section_display": true,
   "toc_window_display": false
  }
 },
 "nbformat": 4,
 "nbformat_minor": 5
}
