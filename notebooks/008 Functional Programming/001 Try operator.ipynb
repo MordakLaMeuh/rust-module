{
 "cells": [
  {
   "cell_type": "markdown",
   "id": "australian-wages",
   "metadata": {
    "deletable": false,
    "editable": false
   },
   "source": [
    "# L'Opérateur Try\n",
    "\n",
    "---\n",
    "\n",
    "## Introduction\n",
    "\n",
    "- Lorsque nous avons vu les Result<T, E> au chapitre 5, je n'ai pas abordee la notation `?` du trait `Try`. Pourtant elle est extrêmement fréquente en Rust parce que pratique. Voyons-en un exemple :"
   ]
  },
  {
   "cell_type": "code",
   "execution_count": 2,
   "id": "interesting-bhutan",
   "metadata": {
    "deletable": false,
    "editable": false
   },
   "outputs": [
    {
     "name": "stdout",
     "output_type": "stream",
     "text": [
      "Erreur: invalid digit found in string\n"
     ]
    },
    {
     "name": "stderr",
     "output_type": "stream",
     "text": [
      "[src/lib.rs:5] r1 = 1637\n",
      "[src/lib.rs:7] r2 = 42\n"
     ]
    },
    {
     "data": {
      "text/plain": [
       "()"
      ]
     },
     "execution_count": 2,
     "metadata": {},
     "output_type": "execute_result"
    }
   ],
   "source": [
    "use std::num::ParseIntError;\n",
    "\n",
    "fn parse_all(a: &str, b: &str, c: &str) -> Result<u32, ParseIntError> {\n",
    "    let r1: u32 = a.parse::<u32>()?;\n",
    "    dbg!(r1);\n",
    "    let r2: u32 = b.parse::<u32>()?;    \n",
    "    dbg!(r2);\n",
    "    let r3: u32 = c.parse::<u32>()?;    \n",
    "    dbg!(r3);\n",
    "    Ok(r1 + r2 + r3)\n",
    "}\n",
    "\n",
    "match parse_all(\"1637\", \"42\", \"toto21\") {\n",
    "    Ok(res) => println!(\"La somme vaut {}\", res),\n",
    "    Err(err) => println!(\"Erreur: {}\", err),\n",
    "}"
   ]
  },
  {
   "cell_type": "markdown",
   "id": "pursuant-directory",
   "metadata": {
    "deletable": false,
    "editable": false,
    "solution2": "hidden",
    "solution2_first": true
   },
   "source": [
    "> A quoi sert la fonction parse_all ?"
   ]
  },
  {
   "cell_type": "markdown",
   "id": "robust-daily",
   "metadata": {
    "deletable": false,
    "editable": false,
    "solution2": "hidden"
   },
   "source": [
    "Additionner 3 nombres ou bien échouer."
   ]
  },
  {
   "cell_type": "markdown",
   "id": "received-shoot",
   "metadata": {
    "deletable": false,
    "editable": false
   },
   "source": [
    "## Explications et généralisation"
   ]
  },
  {
   "cell_type": "markdown",
   "id": "confused-beatles",
   "metadata": {
    "deletable": false,
    "editable": false
   },
   "source": [
    "La fonction vue précédemment parse donc 3 chaînes de caractères pour en extraire des u32, et enfin, si tout s'est bien passé, nous les additionnons et renvoyons le résultat. Dans le cas où une erreur se produirait, la fonction retourne prématurément Err(ParseIntError) soit \"invalid digit\" dans notre cas.\n",
    "\n",
    "> la fonction parse retourne un Result, le point d’interrogation signifie que si le résultat est Ok(_), on met le résultat dans les variables r1, r2 ou r3, sous forme de u32 et non de Result. On appelle cela l'opérateur Try.\n",
    "\n",
    "> Cependant, si au contraire, nous avons Err(quelque chose), on quitte la fonction directement et l'erreur est retournée, elle sera gérée par l'appelant de la fonction\n",
    "\n",
    "- Cela a pour effet une certaine simplification du code, en effet, sans l'opérateur Try, nous aurions eu à écrire cela :"
   ]
  },
  {
   "cell_type": "markdown",
   "id": "blocked-leader",
   "metadata": {
    "deletable": false,
    "editable": false
   },
   "source": [
    "```\n",
    "let r3 = match c.parse::<u32>() {\n",
    "    Ok(res) => res,\n",
    "    Err(e) => return Err(e),\n",
    "};\n",
    "```"
   ]
  },
  {
   "cell_type": "markdown",
   "id": "adolescent-superintendent",
   "metadata": {
    "deletable": false,
    "editable": false
   },
   "source": [
    "- A la place de :\n",
    "```\n",
    "let r3 = c.parse::<u32>()?;\n",
    "```"
   ]
  },
  {
   "cell_type": "markdown",
   "id": "cheap-receptor",
   "metadata": {
    "deletable": false,
    "editable": false
   },
   "source": [
    "- Bien que moins utilisée, la même syntaxe fonctionne aussi pour les Option :"
   ]
  },
  {
   "cell_type": "code",
   "execution_count": 9,
   "id": "printable-simpson",
   "metadata": {
    "deletable": false,
    "editable": false
   },
   "outputs": [
    {
     "name": "stdout",
     "output_type": "stream",
     "text": [
      "continue ?\n"
     ]
    },
    {
     "name": "stderr",
     "output_type": "stream",
     "text": [
      "[src/lib.rs:24] test() = None\n"
     ]
    }
   ],
   "source": [
    "fn test() -> Option<u32> {\n",
    "    let mut b: u32 = Some(12)?;\n",
    "    println!(\"continue ?\");\n",
    "    b = None?;\n",
    "    println!(\"continue again ?\");\n",
    "    Some(42)\n",
    "}\n",
    "dbg!(test());"
   ]
  },
  {
   "cell_type": "markdown",
   "id": "cloudy-xerox",
   "metadata": {
    "deletable": false,
    "editable": false
   },
   "source": [
    "**L'operateur Try permet donc :**\n",
    ">- Soit de sortir de la fonction en retournant une erreur.\n",
    ">- Ou bien il retourne à la déclaration le type T contenu dans Some(T) ou Ok(T)\n",
    ">> ```\n",
    ">> let u: u32 = Some(42)?; // u est un u32 et non une Option de u32 !\n",
    ">> ```\n",
    ">- Ceci implique que les fonctions utilisant l'opérateur Try doivent retourner Option\\<type> ou Result\\<type, error_type>.\n",
    "\n",
    "\n",
    "**Les patterns avec ce point d'interrogation vienment des langages fonctionnels, intéressant non ?**"
   ]
  },
  {
   "cell_type": "markdown",
   "id": "offshore-thomas",
   "metadata": {
    "deletable": false,
    "editable": false
   },
   "source": [
    "## Exercices"
   ]
  },
  {
   "cell_type": "markdown",
   "id": "running-horse",
   "metadata": {
    "deletable": false,
    "editable": false,
    "solution2": "hidden",
    "solution2_first": true
   },
   "source": [
    "### Dans la ligne suivante (que l'on imagine placée à l'intérieur d'une fonction), quel sera le type de \"variable_final\" ?\n",
    ">```\n",
    "> let variable_final = Some(Some(Some(Some((11))))??;\n",
    ">```"
   ]
  },
  {
   "cell_type": "code",
   "execution_count": 2,
   "id": "remarkable-assurance",
   "metadata": {
    "deletable": false,
    "editable": false,
    "solution2": "hidden"
   },
   "outputs": [
    {
     "name": "stderr",
     "output_type": "stream",
     "text": [
      "[src/lib.rs:10] returning_opt() = Some(\n",
      "    Some(\n",
      "        11,\n",
      "    ),\n",
      ")\n"
     ]
    }
   ],
   "source": [
    "// variable_final est de type Option<Option<u32>>\n",
    "\n",
    "fn returning_opt() -> Option<Option<u32>> {\n",
    "    let variable_final = Some(Some(Some(Some((11)))))??;\n",
    "    variable_final\n",
    "}\n",
    "dbg!(returning_opt());"
   ]
  }
 ],
 "metadata": {
  "kernelspec": {
   "display_name": "Rust",
   "language": "rust",
   "name": "rust"
  },
  "language_info": {
   "codemirror_mode": "rust",
   "file_extension": ".rs",
   "mimetype": "text/rust",
   "name": "Rust",
   "pygment_lexer": "rust",
   "version": ""
  },
  "toc": {
   "base_numbering": 1,
   "nav_menu": {},
   "number_sections": true,
   "sideBar": true,
   "skip_h1_title": false,
   "title_cell": "Table of Contents",
   "title_sidebar": "Contents",
   "toc_cell": false,
   "toc_position": {},
   "toc_section_display": true,
   "toc_window_display": false
  }
 },
 "nbformat": 4,
 "nbformat_minor": 5
}
