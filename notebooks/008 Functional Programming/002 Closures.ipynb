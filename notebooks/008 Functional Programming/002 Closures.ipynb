{
 "cells": [
  {
   "cell_type": "markdown",
   "id": "frozen-spotlight",
   "metadata": {
    "deletable": false,
    "editable": false
   },
   "source": [
    "# Les closures\n",
    "\n",
    "---\n",
    "\n",
    "- Il existe en Rust un type de fonction un peu spécial, qui se nomme closure. Contrairement aux fonctions, elles peuvent être `anonymes`, les paramètres sont notes entre `| |` plutôt qu'entre parenthèses `( )` et elles ont surtout la capacité de capturer les variables de leur environnement (contrairement aux fonctions). La capture se fait soit par `référence &`, soit par `référence mutable &mut` soit par `transfert d'ownnership`, nous allons voir ces différents cas de figure.\n",
    "\n",
    "> Les closures Rust se nomment `lambda` dans d'autres langages de programmation."
   ]
  },
  {
   "cell_type": "markdown",
   "id": "understood-playback",
   "metadata": {
    "deletable": false,
    "editable": false
   },
   "source": [
    "## Introduction"
   ]
  },
  {
   "cell_type": "markdown",
   "id": "alpine-watson",
   "metadata": {
    "deletable": false,
    "editable": false
   },
   "source": [
    "- Prenons le prototype de la methode for_each() du trait Iterator :\n",
    "\n",
    "![FOREACH](pictures/for_each.png)"
   ]
  },
  {
   "cell_type": "markdown",
   "id": "functional-brother",
   "metadata": {
    "deletable": false,
    "editable": false
   },
   "source": [
    "### Utilisation d'une fonction\n",
    "\n",
    "- D'après son prototype, il est possible de donner une fonction à la méthode for_each (meme si dans la documentation ils disent \"Calls a closure\" ...). Le trait `fnMut` signifie que la fonction prend une référence mutable de Self::Item soit le type élément de notre Iterateur :"
   ]
  },
  {
   "cell_type": "code",
   "execution_count": 3,
   "id": "round-battery",
   "metadata": {
    "deletable": false,
    "editable": false
   },
   "outputs": [
    {
     "name": "stderr",
     "output_type": "stream",
     "text": [
      "[src/lib.rs:110] &v = [\n",
      "    2,\n",
      "    4,\n",
      "    8,\n",
      "    16,\n",
      "]\n"
     ]
    }
   ],
   "source": [
    "fn mul_by_2(inner: &mut u8) {\n",
    "    *inner *= 2;\n",
    "}\n",
    "\n",
    "let mut v: Vec<u8> = vec!(1, 2, 4, 8);\n",
    "v.iter_mut().for_each(mul_by_2);\n",
    "dbg!(&v);"
   ]
  },
  {
   "cell_type": "markdown",
   "id": "seasonal-disclaimer",
   "metadata": {
    "deletable": false,
    "editable": false
   },
   "source": [
    "### Utilisation d'une closure\n",
    "\n",
    "- Cependant, à l'usage, les développeurs Rust utiliseront a la place une closure ici : "
   ]
  },
  {
   "cell_type": "code",
   "execution_count": 43,
   "id": "military-excellence",
   "metadata": {
    "deletable": false,
    "editable": false
   },
   "outputs": [
    {
     "name": "stderr",
     "output_type": "stream",
     "text": [
      "[src/lib.rs:148] &v = [\n",
      "    2,\n",
      "    4,\n",
      "    8,\n",
      "    16,\n",
      "]\n"
     ]
    },
    {
     "data": {
      "text/plain": [
       "()"
      ]
     },
     "execution_count": 43,
     "metadata": {},
     "output_type": "execute_result"
    }
   ],
   "source": [
    "{\n",
    "    let mul_by_2 = |inner: &mut u8| { // CECI EST UNE CLOSURE\n",
    "        *inner *= 2;\n",
    "    };\n",
    "    let mut v: Vec<u8> = vec!(1, 2, 4, 8);\n",
    "    v.iter_mut().for_each(mul_by_2);\n",
    "    dbg!(&v);\n",
    "}"
   ]
  },
  {
   "cell_type": "markdown",
   "id": "handy-setting",
   "metadata": {
    "deletable": false,
    "editable": false
   },
   "source": [
    "> Mais quel avantage par rapport à la fonction précédente ?"
   ]
  },
  {
   "cell_type": "markdown",
   "id": "activated-nickname",
   "metadata": {
    "deletable": false,
    "editable": false
   },
   "source": [
    "- Dans ce cas précis, pas grand-chose. Mais la closure peut devenir intéressante si on cherche a **capturer une variable depuis l'extérieur de la closure**. En voici un exemple :"
   ]
  },
  {
   "cell_type": "code",
   "execution_count": 25,
   "id": "desirable-tulsa",
   "metadata": {
    "deletable": false,
    "editable": false
   },
   "outputs": [
    {
     "name": "stderr",
     "output_type": "stream",
     "text": [
      "[src/lib.rs:133] &v = [\n",
      "    3,\n",
      "    6,\n",
      "    12,\n",
      "    24,\n",
      "]\n",
      "[src/lib.rs:134] number = 3\n"
     ]
    },
    {
     "data": {
      "text/plain": [
       "()"
      ]
     },
     "execution_count": 25,
     "metadata": {},
     "output_type": "execute_result"
    }
   ],
   "source": [
    "{\n",
    "    let number = 3; // number sera capture\n",
    "    let mul_by_number = |inner: &mut u8| { // CECI EST UNE CLOSURE\n",
    "        *inner *= number;\n",
    "    };\n",
    "    let mut v: Vec<u8> = vec!(1, 2, 4, 8);\n",
    "    v.iter_mut().for_each(mul_by_number);\n",
    "    dbg!(&v);\n",
    "    dbg!(number);\n",
    "}"
   ]
  },
  {
   "cell_type": "markdown",
   "id": "daily-milton",
   "metadata": {
    "deletable": false,
    "editable": false
   },
   "source": [
    "- Avec une fonction, cela aurait été impossible :"
   ]
  },
  {
   "cell_type": "code",
   "execution_count": 26,
   "id": "continent-grace",
   "metadata": {
    "deletable": false,
    "editable": false
   },
   "outputs": [
    {
     "ename": "Error",
     "evalue": "cannot find value `number` in this scope",
     "output_type": "error",
     "traceback": [
      "\u001b[31m[E0425] Error:\u001b[0m cannot find value `number` in this scope",
      "   \u001b[38;5;246m╭\u001b[0m\u001b[38;5;246m─\u001b[0m\u001b[38;5;246m[\u001b[0mcommand_26:1:1\u001b[38;5;246m]\u001b[0m",
      "   \u001b[38;5;246m│\u001b[0m",
      " \u001b[38;5;246m3 │\u001b[0m \u001b[38;5;249m \u001b[0m\u001b[38;5;249m \u001b[0m\u001b[38;5;249m \u001b[0m\u001b[38;5;249m \u001b[0m\u001b[38;5;249m*\u001b[0m\u001b[38;5;249mi\u001b[0m\u001b[38;5;249mn\u001b[0m\u001b[38;5;249mn\u001b[0m\u001b[38;5;249me\u001b[0m\u001b[38;5;249mr\u001b[0m\u001b[38;5;249m \u001b[0m\u001b[38;5;249m*\u001b[0m\u001b[38;5;249m=\u001b[0m\u001b[38;5;249m \u001b[0m\u001b[38;5;54mn\u001b[0m\u001b[38;5;54mu\u001b[0m\u001b[38;5;54mm\u001b[0m\u001b[38;5;54mb\u001b[0m\u001b[38;5;54me\u001b[0m\u001b[38;5;54mr\u001b[0m\u001b[38;5;249m;\u001b[0m",
      " \u001b[38;5;246m  ·\u001b[0m               \u001b[38;5;54m─\u001b[0m\u001b[38;5;54m─\u001b[0m\u001b[38;5;54m─\u001b[0m\u001b[38;5;54m┬\u001b[0m\u001b[38;5;54m─\u001b[0m\u001b[38;5;54m─\u001b[0m  ",
      " \u001b[38;5;246m  ·\u001b[0m                  \u001b[38;5;54m╰\u001b[0m\u001b[38;5;54m─\u001b[0m\u001b[38;5;54m─\u001b[0m\u001b[38;5;54m─\u001b[0m\u001b[38;5;54m─\u001b[0m not found in this scope",
      "\u001b[38;5;246m───╯\u001b[0m"
     ]
    }
   ],
   "source": [
    "let number = 3;\n",
    "fn mul_by_number(inner: &mut u8) {\n",
    "    *inner *= number;\n",
    "}\n",
    "\n",
    "let mut v: Vec<u8> = vec!(1, 2, 4, 8);\n",
    "v.iter_mut().for_each(mul_by_number);\n",
    "dbg!(&v);"
   ]
  },
  {
   "cell_type": "markdown",
   "id": "driven-pottery",
   "metadata": {
    "deletable": false,
    "editable": false
   },
   "source": [
    "- La plupart du temps, les closures sont directement définies là où elles sont utilisées :"
   ]
  },
  {
   "cell_type": "code",
   "execution_count": 24,
   "id": "wicked-proof",
   "metadata": {
    "deletable": false,
    "editable": false
   },
   "outputs": [
    {
     "name": "stderr",
     "output_type": "stream",
     "text": [
      "[src/lib.rs:112] &v = [\n",
      "    2,\n",
      "    4,\n",
      "    8,\n",
      "    16,\n",
      "]\n",
      "[src/lib.rs:117] &v = [\n",
      "    3,\n",
      "    6,\n",
      "    12,\n",
      "    24,\n",
      "]\n"
     ]
    }
   ],
   "source": [
    "let mut v: Vec<u8> = vec!(1, 2, 4, 8);\n",
    "v.iter_mut().for_each(|inner| *inner *= 2);\n",
    "dbg!(&v);\n",
    "\n",
    "let number = 3;\n",
    "let mut v: Vec<u8> = vec!(1, 2, 4, 8);\n",
    "v.iter_mut().for_each(|inner| *inner *= number);\n",
    "dbg!(&v);"
   ]
  },
  {
   "cell_type": "markdown",
   "id": "subtle-attraction",
   "metadata": {
    "deletable": false,
    "editable": false
   },
   "source": [
    "## Capture par référence\n",
    "\n",
    "- Dans l'exemple suivant, la string s est passée a la closure par référence :"
   ]
  },
  {
   "cell_type": "code",
   "execution_count": 27,
   "id": "marked-society",
   "metadata": {
    "deletable": false,
    "editable": false
   },
   "outputs": [
    {
     "name": "stdout",
     "output_type": "stream",
     "text": [
      "One other iteration: MaString\n",
      "One other iteration: MaString\n",
      "One other iteration: MaString\n",
      "One other iteration: MaString\n",
      "One other iteration: MaString\n",
      "One other iteration: MaString\n",
      "One other iteration: MaString\n",
      "One other iteration: MaString\n"
     ]
    },
    {
     "name": "stderr",
     "output_type": "stream",
     "text": [
      "[src/lib.rs:18] &s = \"MaString\"\n",
      "[src/lib.rs:27] &s = \"MaString\"\n"
     ]
    }
   ],
   "source": [
    "fn main() {\n",
    "    // Declaration de la variable s en dehors de la closure\n",
    "    let s = \"MaString\".to_string();\n",
    "    // Ici on definit la closure avant de l'utiliser\n",
    "    let closure = |inner: &mut u8| {\n",
    "        *inner *= 2;\n",
    "        // Ici la variable s est capturee par reference &s\n",
    "        println!(\"One other iteration: {}\", s);\n",
    "    };\n",
    "    let mut v: Vec<u8> = vec!(1, 2, 4, 8);\n",
    "    v.iter_mut().for_each(closure);\n",
    "    // s est toujours accessible ici\n",
    "    dbg!(&s);\n",
    "\n",
    "    // Ici la closure est anonyme\n",
    "    v.iter_mut().for_each(|inner| {\n",
    "        *inner *= 2;\n",
    "        // Ici la variable s est capturee par reference &s\n",
    "        println!(\"One other iteration: {}\", s);\n",
    "    });\n",
    "    // s est toujours accessible ici\n",
    "    dbg!(&s);\n",
    "}\n",
    "main();"
   ]
  },
  {
   "cell_type": "markdown",
   "id": "marked-freight",
   "metadata": {
    "deletable": false,
    "editable": false
   },
   "source": [
    "> L'ownership de la String n'a pas été transféré a la closure puisque s est toujours accessible à la fin de la fonction. On dit que la closure a emprunte une référence de s.\n",
    "\n",
    "**Ici, une référence non-mutable de s est passée implicitement a la closure, `il n'y a guère de différence de code si cela avait été une référence mutable`.**"
   ]
  },
  {
   "cell_type": "markdown",
   "id": "bigger-trademark",
   "metadata": {
    "deletable": false,
    "editable": false
   },
   "source": [
    "## Transfert d'ownership\n",
    "\n",
    "- Il existe un moyen de forcer le transfert de la Sting s a la closure :"
   ]
  },
  {
   "cell_type": "code",
   "execution_count": 28,
   "id": "incredible-summit",
   "metadata": {
    "deletable": false,
    "editable": false
   },
   "outputs": [
    {
     "name": "stdout",
     "output_type": "stream",
     "text": [
      "One other iteration: MaString\n",
      "One other iteration: MaString\n",
      "One other iteration: MaString\n",
      "One other iteration: MaString\n"
     ]
    },
    {
     "data": {
      "text/plain": [
       "()"
      ]
     },
     "execution_count": 28,
     "metadata": {},
     "output_type": "execute_result"
    }
   ],
   "source": [
    "fn main() {\n",
    "    // Declaration de la variable s en dehors de la closure\n",
    "    let s = \"MaString\".to_string();\n",
    "    // Ici on definit la closure avec MOVE avant de l'utiliser\n",
    "    let closure = move |inner: &mut u8| {\n",
    "        *inner *= 2;\n",
    "        // Ici, l'ownership de la variable s est passe au thread\n",
    "        println!(\"One other iteration: {}\", s);\n",
    "    };\n",
    "    let mut v: Vec<u8> = vec!(1, 2, 4, 8);\n",
    "    v.iter_mut().for_each(closure);\n",
    "    // s n'est plus accessible ici, le programme ne compile donc pas !\n",
    "    // dbg!(s);\n",
    "}\n",
    "main()"
   ]
  },
  {
   "cell_type": "markdown",
   "id": "acknowledged-arcade",
   "metadata": {
    "deletable": false,
    "editable": false
   },
   "source": [
    "> Le mot clef **move** force les variables a être capturees par la closure.\n",
    "\n",
    "*C'est le cas de **thread**. Il serait, en effet, assez illogique étant donné les garanties de sécurité du langage que prodigue Rust qu'un thread puisse recevoir une référence d'une variable extérieure a celui-ci, si cette dernière réfère sur une variable présente sur la pile du thread appelant et non sur le tas, il est possible qu'au moment où le nouveau thread tente d'y accéder, la pile de la fonction appelante soit modifiée.*\n",
    "\n",
    "![THREAD](pictures/thread.png)"
   ]
  },
  {
   "cell_type": "code",
   "execution_count": 38,
   "id": "abstract-internship",
   "metadata": {
    "deletable": false,
    "editable": false
   },
   "outputs": [
    {
     "ename": "Error",
     "evalue": "closure may outlive the current function, but it borrows `a`, which is owned by the current function",
     "output_type": "error",
     "traceback": [
      "\u001b[31m[E0373] Error:\u001b[0m closure may outlive the current function, but it borrows `a`, which is owned by the current function",
      "   \u001b[38;5;246m╭\u001b[0m\u001b[38;5;246m─\u001b[0m\u001b[38;5;246m[\u001b[0mcommand_38:1:1\u001b[38;5;246m]\u001b[0m",
      "   \u001b[38;5;246m│\u001b[0m",
      " \u001b[38;5;246m2 │\u001b[0m \u001b[38;5;68m╭\u001b[0m\u001b[38;5;68m─\u001b[0m\u001b[38;5;68m▶\u001b[0m\u001b[38;5;68m \u001b[0m\u001b[38;5;68ms\u001b[0m\u001b[38;5;68mt\u001b[0m\u001b[38;5;68md\u001b[0m\u001b[38;5;68m:\u001b[0m\u001b[38;5;68m:\u001b[0m\u001b[38;5;68mt\u001b[0m\u001b[38;5;68mh\u001b[0m\u001b[38;5;68mr\u001b[0m\u001b[38;5;68me\u001b[0m\u001b[38;5;68ma\u001b[0m\u001b[38;5;68md\u001b[0m\u001b[38;5;68m:\u001b[0m\u001b[38;5;68m:\u001b[0m\u001b[38;5;68ms\u001b[0m\u001b[38;5;68mp\u001b[0m\u001b[38;5;68ma\u001b[0m\u001b[38;5;68mw\u001b[0m\u001b[38;5;68mn\u001b[0m\u001b[38;5;68m(\u001b[0m\u001b[38;5;100m|\u001b[0m\u001b[38;5;100m|\u001b[0m\u001b[38;5;68m \u001b[0m\u001b[38;5;68m{\u001b[0m\u001b[38;5;68m \u001b[0m\u001b[38;5;68m/\u001b[0m\u001b[38;5;68m/\u001b[0m\u001b[38;5;68m \u001b[0m\u001b[38;5;68mL\u001b[0m\u001b[38;5;68mE\u001b[0m\u001b[38;5;68m \u001b[0m\u001b[38;5;68mC\u001b[0m\u001b[38;5;68mO\u001b[0m\u001b[38;5;68mM\u001b[0m\u001b[38;5;68mP\u001b[0m\u001b[38;5;68mI\u001b[0m\u001b[38;5;68mL\u001b[0m\u001b[38;5;68mA\u001b[0m\u001b[38;5;68mT\u001b[0m\u001b[38;5;68mE\u001b[0m\u001b[38;5;68mU\u001b[0m\u001b[38;5;68mR\u001b[0m\u001b[38;5;68m \u001b[0m\u001b[38;5;68mP\u001b[0m\u001b[38;5;68mE\u001b[0m\u001b[38;5;68mN\u001b[0m\u001b[38;5;68mS\u001b[0m\u001b[38;5;68mE\u001b[0m\u001b[38;5;68m \u001b[0m\u001b[38;5;68mP\u001b[0m\u001b[38;5;68mO\u001b[0m\u001b[38;5;68mU\u001b[0m\u001b[38;5;68mV\u001b[0m\u001b[38;5;68mO\u001b[0m\u001b[38;5;68mI\u001b[0m\u001b[38;5;68mR\u001b[0m\u001b[38;5;68m \u001b[0m\u001b[38;5;68mP\u001b[0m\u001b[38;5;68mA\u001b[0m\u001b[38;5;68mS\u001b[0m\u001b[38;5;68mS\u001b[0m\u001b[38;5;68mE\u001b[0m\u001b[38;5;68mR\u001b[0m\u001b[38;5;68m \u001b[0m\u001b[38;5;68mL\u001b[0m\u001b[38;5;68mA\u001b[0m\u001b[38;5;68m \u001b[0m\u001b[38;5;68mV\u001b[0m\u001b[38;5;68mA\u001b[0m\u001b[38;5;68mR\u001b[0m\u001b[38;5;68mI\u001b[0m\u001b[38;5;68mA\u001b[0m\u001b[38;5;68mB\u001b[0m\u001b[38;5;68mL\u001b[0m\u001b[38;5;68mE\u001b[0m\u001b[38;5;68m \u001b[0m\u001b[38;5;68mP\u001b[0m\u001b[38;5;68mA\u001b[0m\u001b[38;5;68mR\u001b[0m\u001b[38;5;68m \u001b[0m\u001b[38;5;68mR\u001b[0m\u001b[38;5;68mE\u001b[0m\u001b[38;5;68mF\u001b[0m\u001b[38;5;68mE\u001b[0m\u001b[38;5;68mR\u001b[0m\u001b[38;5;68mE\u001b[0m\u001b[38;5;68mN\u001b[0m\u001b[38;5;68mC\u001b[0m\u001b[38;5;68mE\u001b[0m",
      " \u001b[38;5;246m  ·\u001b[0m \u001b[38;5;68m│\u001b[0m                      \u001b[38;5;37m┬\u001b[0m\u001b[38;5;100m┬\u001b[0m  ",
      " \u001b[38;5;246m  ·\u001b[0m \u001b[38;5;68m│\u001b[0m                      \u001b[38;5;37m╰\u001b[0m\u001b[38;5;37m─\u001b[0m\u001b[38;5;37m─\u001b[0m\u001b[38;5;37m─\u001b[0m help: to force the closure to take ownership of `a` (and any other referenced variables), use the `move` keyword: `move `",
      " \u001b[38;5;246m  ·\u001b[0m \u001b[38;5;68m│\u001b[0m                       \u001b[38;5;100m│\u001b[0m  ",
      " \u001b[38;5;246m  ·\u001b[0m \u001b[38;5;68m│\u001b[0m                       \u001b[38;5;100m╰\u001b[0m\u001b[38;5;100m─\u001b[0m\u001b[38;5;100m─\u001b[0m may outlive borrowed value `a`",
      " \u001b[38;5;246m3 │\u001b[0m \u001b[38;5;68m│\u001b[0m   \u001b[38;5;68m \u001b[0m\u001b[38;5;68m \u001b[0m\u001b[38;5;68m \u001b[0m\u001b[38;5;68m \u001b[0m\u001b[38;5;68md\u001b[0m\u001b[38;5;68mb\u001b[0m\u001b[38;5;68mg\u001b[0m\u001b[38;5;68m!\u001b[0m\u001b[38;5;68m(\u001b[0m\u001b[38;5;54ma\u001b[0m\u001b[38;5;68m)\u001b[0m\u001b[38;5;68m;\u001b[0m\u001b[38;5;68m \u001b[0m\u001b[38;5;68m/\u001b[0m\u001b[38;5;68m/\u001b[0m\u001b[38;5;68m \u001b[0m\u001b[38;5;68mJ\u001b[0m\u001b[38;5;68m'\u001b[0m\u001b[38;5;68ma\u001b[0m\u001b[38;5;68mc\u001b[0m\u001b[38;5;68mc\u001b[0m\u001b[38;5;68me\u001b[0m\u001b[38;5;68md\u001b[0m\u001b[38;5;68me\u001b[0m\u001b[38;5;68m \u001b[0m\u001b[38;5;68ma\u001b[0m\u001b[38;5;68m \u001b[0m\u001b[38;5;68ml\u001b[0m\u001b[38;5;68ma\u001b[0m\u001b[38;5;68m \u001b[0m\u001b[38;5;68mv\u001b[0m\u001b[38;5;68ma\u001b[0m\u001b[38;5;68ml\u001b[0m\u001b[38;5;68me\u001b[0m\u001b[38;5;68mu\u001b[0m\u001b[38;5;68mr\u001b[0m\u001b[38;5;68m \u001b[0m\u001b[38;5;68md\u001b[0m\u001b[38;5;68me\u001b[0m\u001b[38;5;68m \u001b[0m\u001b[38;5;68ma\u001b[0m\u001b[38;5;68m \u001b[0m\u001b[38;5;68md\u001b[0m\u001b[38;5;68me\u001b[0m\u001b[38;5;68mp\u001b[0m\u001b[38;5;68mu\u001b[0m\u001b[38;5;68mi\u001b[0m\u001b[38;5;68ms\u001b[0m\u001b[38;5;68m \u001b[0m\u001b[38;5;68mm\u001b[0m\u001b[38;5;68mo\u001b[0m\u001b[38;5;68mn\u001b[0m\u001b[38;5;68m \u001b[0m\u001b[38;5;68mt\u001b[0m\u001b[38;5;68mh\u001b[0m\u001b[38;5;68mr\u001b[0m\u001b[38;5;68me\u001b[0m\u001b[38;5;68ma\u001b[0m\u001b[38;5;68md\u001b[0m\u001b[38;5;68m.\u001b[0m",
      " \u001b[38;5;246m  ·\u001b[0m \u001b[38;5;68m│\u001b[0m            \u001b[38;5;54m┬\u001b[0m  ",
      " \u001b[38;5;246m  ·\u001b[0m \u001b[38;5;68m│\u001b[0m            \u001b[38;5;54m╰\u001b[0m\u001b[38;5;54m─\u001b[0m\u001b[38;5;54m─\u001b[0m `a` is borrowed here",
      " \u001b[38;5;246m4 │\u001b[0m \u001b[38;5;68m├\u001b[0m\u001b[38;5;68m─\u001b[0m\u001b[38;5;68m▶\u001b[0m\u001b[38;5;68m \u001b[0m\u001b[38;5;68m}\u001b[0m\u001b[38;5;68m)\u001b[0m\u001b[38;5;249m;\u001b[0m",
      " \u001b[38;5;246m  ·\u001b[0m \u001b[38;5;68m│\u001b[0m         ",
      " \u001b[38;5;246m  ·\u001b[0m \u001b[38;5;68m╰\u001b[0m\u001b[38;5;68m─\u001b[0m\u001b[38;5;68m─\u001b[0m\u001b[38;5;68m─\u001b[0m\u001b[38;5;68m─\u001b[0m\u001b[38;5;68m─\u001b[0m\u001b[38;5;68m─\u001b[0m\u001b[38;5;68m─\u001b[0m\u001b[38;5;68m─\u001b[0m\u001b[38;5;68m─\u001b[0m note: function requires argument type to outlive `'static`",
      "\u001b[38;5;246m───╯\u001b[0m"
     ]
    }
   ],
   "source": [
    "let a: u32 = 12;\n",
    "std::thread::spawn(|| { // LE COMPILATEUR PENSE POUVOIR PASSER LA VARIABLE PAR REFERENCE \n",
    "    dbg!(a); // J'accede a la valeur de a depuis mon thread.\n",
    "});\n",
    "dbg!(a); // Je veux continuer de pouvoir lire ma variable dans le thread principal."
   ]
  },
  {
   "cell_type": "markdown",
   "id": "quarterly-mainland",
   "metadata": {
    "deletable": false,
    "editable": false
   },
   "source": [
    "- Apres correction :"
   ]
  },
  {
   "cell_type": "code",
   "execution_count": 39,
   "id": "boolean-quarter",
   "metadata": {
    "deletable": false,
    "editable": false
   },
   "outputs": [
    {
     "name": "stderr",
     "output_type": "stream",
     "text": [
      "[src/lib.rs:128] a = 12\n"
     ]
    }
   ],
   "source": [
    "let a: u32 = 12;\n",
    "std::thread::spawn(move || { // FORCE LE TRANSFERT DE L'OWNERSHIP DE MA VARIABLE VERS LE THREAD\n",
    "    dbg!(a); // J'accede a la valeur de a depuis mon thread.\n",
    "});"
   ]
  },
  {
   "cell_type": "markdown",
   "id": "equipped-judge",
   "metadata": {
    "deletable": false,
    "editable": false
   },
   "source": [
    "## Exercices"
   ]
  },
  {
   "cell_type": "markdown",
   "id": "comparative-direction",
   "metadata": {
    "deletable": false,
    "editable": false
   },
   "source": [
    "### Le code suivant ne compile pas, quelle explication donner ? Comment peut-on le corriger ?"
   ]
  },
  {
   "cell_type": "code",
   "execution_count": 57,
   "id": "nearby-exclusive",
   "metadata": {
    "scrolled": false,
    "solution2": "hidden",
    "solution2_first": true
   },
   "outputs": [
    {
     "ename": "Error",
     "evalue": "cannot use `number` because it was mutably borrowed",
     "output_type": "error",
     "traceback": [
      "\u001b[31m[E0503] Error:\u001b[0m cannot use `number` because it was mutably borrowed",
      "   \u001b[38;5;246m╭\u001b[0m\u001b[38;5;246m─\u001b[0m\u001b[38;5;246m[\u001b[0mcommand_57:1:1\u001b[38;5;246m]\u001b[0m",
      "   \u001b[38;5;246m│\u001b[0m",
      " \u001b[38;5;246m4 │\u001b[0m \u001b[38;5;249m \u001b[0m\u001b[38;5;249m \u001b[0m\u001b[38;5;249m \u001b[0m\u001b[38;5;249m \u001b[0m\u001b[38;5;249ml\u001b[0m\u001b[38;5;249me\u001b[0m\u001b[38;5;249mt\u001b[0m\u001b[38;5;249m \u001b[0m\u001b[38;5;249mm\u001b[0m\u001b[38;5;249ma\u001b[0m\u001b[38;5;249m_\u001b[0m\u001b[38;5;249mc\u001b[0m\u001b[38;5;249ml\u001b[0m\u001b[38;5;249mo\u001b[0m\u001b[38;5;249ms\u001b[0m\u001b[38;5;249mu\u001b[0m\u001b[38;5;249mr\u001b[0m\u001b[38;5;249me\u001b[0m\u001b[38;5;249m \u001b[0m\u001b[38;5;249m=\u001b[0m\u001b[38;5;249m \u001b[0m\u001b[38;5;54m|\u001b[0m\u001b[38;5;54mi\u001b[0m\u001b[38;5;54mn\u001b[0m\u001b[38;5;54mn\u001b[0m\u001b[38;5;54me\u001b[0m\u001b[38;5;54mr\u001b[0m\u001b[38;5;54m:\u001b[0m\u001b[38;5;54m \u001b[0m\u001b[38;5;54m&\u001b[0m\u001b[38;5;54mm\u001b[0m\u001b[38;5;54mu\u001b[0m\u001b[38;5;54mt\u001b[0m\u001b[38;5;54m \u001b[0m\u001b[38;5;54mu\u001b[0m\u001b[38;5;54m8\u001b[0m\u001b[38;5;54m|\u001b[0m\u001b[38;5;249m \u001b[0m\u001b[38;5;249m{\u001b[0m",
      " \u001b[38;5;246m  ·\u001b[0m                      \u001b[38;5;54m─\u001b[0m\u001b[38;5;54m─\u001b[0m\u001b[38;5;54m─\u001b[0m\u001b[38;5;54m─\u001b[0m\u001b[38;5;54m─\u001b[0m\u001b[38;5;54m─\u001b[0m\u001b[38;5;54m─\u001b[0m\u001b[38;5;54m─\u001b[0m\u001b[38;5;54m┬\u001b[0m\u001b[38;5;54m─\u001b[0m\u001b[38;5;54m─\u001b[0m\u001b[38;5;54m─\u001b[0m\u001b[38;5;54m─\u001b[0m\u001b[38;5;54m─\u001b[0m\u001b[38;5;54m─\u001b[0m\u001b[38;5;54m─\u001b[0m  ",
      " \u001b[38;5;246m  ·\u001b[0m                              \u001b[38;5;54m╰\u001b[0m\u001b[38;5;54m─\u001b[0m\u001b[38;5;54m─\u001b[0m\u001b[38;5;54m─\u001b[0m\u001b[38;5;54m─\u001b[0m\u001b[38;5;54m─\u001b[0m\u001b[38;5;54m─\u001b[0m\u001b[38;5;54m─\u001b[0m\u001b[38;5;54m─\u001b[0m\u001b[38;5;54m─\u001b[0m borrow of `number` occurs here",
      " \u001b[38;5;246m5 │\u001b[0m \u001b[38;5;249m \u001b[0m\u001b[38;5;249m \u001b[0m\u001b[38;5;249m \u001b[0m\u001b[38;5;249m \u001b[0m\u001b[38;5;249m \u001b[0m\u001b[38;5;249m \u001b[0m\u001b[38;5;249m \u001b[0m\u001b[38;5;249m \u001b[0m\u001b[38;5;68mn\u001b[0m\u001b[38;5;68mu\u001b[0m\u001b[38;5;68mm\u001b[0m\u001b[38;5;68mb\u001b[0m\u001b[38;5;68me\u001b[0m\u001b[38;5;68mr\u001b[0m\u001b[38;5;249m \u001b[0m\u001b[38;5;249m*\u001b[0m\u001b[38;5;249m=\u001b[0m\u001b[38;5;249m \u001b[0m\u001b[38;5;249m2\u001b[0m\u001b[38;5;249m;\u001b[0m",
      " \u001b[38;5;246m  ·\u001b[0m         \u001b[38;5;68m─\u001b[0m\u001b[38;5;68m─\u001b[0m\u001b[38;5;68m─\u001b[0m\u001b[38;5;68m┬\u001b[0m\u001b[38;5;68m─\u001b[0m\u001b[38;5;68m─\u001b[0m  ",
      " \u001b[38;5;246m  ·\u001b[0m            \u001b[38;5;68m╰\u001b[0m\u001b[38;5;68m─\u001b[0m\u001b[38;5;68m─\u001b[0m\u001b[38;5;68m─\u001b[0m\u001b[38;5;68m─\u001b[0m borrow occurs due to use of `number` in closure",
      " \u001b[38;5;246m  ·\u001b[0m ",
      " \u001b[38;5;246m8 │\u001b[0m \u001b[38;5;249m \u001b[0m\u001b[38;5;249m \u001b[0m\u001b[38;5;249m \u001b[0m\u001b[38;5;249m \u001b[0m\u001b[38;5;100md\u001b[0m\u001b[38;5;100mb\u001b[0m\u001b[38;5;100mg\u001b[0m\u001b[38;5;100m!\u001b[0m\u001b[38;5;100m(\u001b[0m\u001b[38;5;100mn\u001b[0m\u001b[38;5;100mu\u001b[0m\u001b[38;5;100mm\u001b[0m\u001b[38;5;100mb\u001b[0m\u001b[38;5;100me\u001b[0m\u001b[38;5;100mr\u001b[0m\u001b[38;5;100m)\u001b[0m\u001b[38;5;249m;\u001b[0m",
      " \u001b[38;5;246m  ·\u001b[0m     \u001b[38;5;100m─\u001b[0m\u001b[38;5;100m─\u001b[0m\u001b[38;5;100m─\u001b[0m\u001b[38;5;100m─\u001b[0m\u001b[38;5;100m─\u001b[0m\u001b[38;5;100m─\u001b[0m\u001b[38;5;100m┬\u001b[0m\u001b[38;5;100m─\u001b[0m\u001b[38;5;100m─\u001b[0m\u001b[38;5;100m─\u001b[0m\u001b[38;5;100m─\u001b[0m\u001b[38;5;100m─\u001b[0m  ",
      " \u001b[38;5;246m  ·\u001b[0m           \u001b[38;5;100m╰\u001b[0m\u001b[38;5;100m─\u001b[0m\u001b[38;5;100m─\u001b[0m\u001b[38;5;100m─\u001b[0m\u001b[38;5;100m─\u001b[0m\u001b[38;5;100m─\u001b[0m\u001b[38;5;100m─\u001b[0m\u001b[38;5;100m─\u001b[0m use of borrowed `number`",
      " \u001b[38;5;246m9 │\u001b[0m \u001b[38;5;249m \u001b[0m\u001b[38;5;249m \u001b[0m\u001b[38;5;249m \u001b[0m\u001b[38;5;249m \u001b[0m\u001b[38;5;249mv\u001b[0m\u001b[38;5;249m.\u001b[0m\u001b[38;5;249mi\u001b[0m\u001b[38;5;249mt\u001b[0m\u001b[38;5;249me\u001b[0m\u001b[38;5;249mr\u001b[0m\u001b[38;5;249m_\u001b[0m\u001b[38;5;249mm\u001b[0m\u001b[38;5;249mu\u001b[0m\u001b[38;5;249mt\u001b[0m\u001b[38;5;249m(\u001b[0m\u001b[38;5;249m)\u001b[0m\u001b[38;5;249m.\u001b[0m\u001b[38;5;249mf\u001b[0m\u001b[38;5;249mo\u001b[0m\u001b[38;5;249mr\u001b[0m\u001b[38;5;249m_\u001b[0m\u001b[38;5;249me\u001b[0m\u001b[38;5;249ma\u001b[0m\u001b[38;5;249mc\u001b[0m\u001b[38;5;249mh\u001b[0m\u001b[38;5;249m(\u001b[0m\u001b[38;5;37mm\u001b[0m\u001b[38;5;37ma\u001b[0m\u001b[38;5;37m_\u001b[0m\u001b[38;5;37mc\u001b[0m\u001b[38;5;37ml\u001b[0m\u001b[38;5;37mo\u001b[0m\u001b[38;5;37ms\u001b[0m\u001b[38;5;37mu\u001b[0m\u001b[38;5;37mr\u001b[0m\u001b[38;5;37me\u001b[0m\u001b[38;5;249m)\u001b[0m\u001b[38;5;249m;\u001b[0m",
      " \u001b[38;5;246m  ·\u001b[0m                           \u001b[38;5;37m─\u001b[0m\u001b[38;5;37m─\u001b[0m\u001b[38;5;37m─\u001b[0m\u001b[38;5;37m─\u001b[0m\u001b[38;5;37m─\u001b[0m\u001b[38;5;37m┬\u001b[0m\u001b[38;5;37m─\u001b[0m\u001b[38;5;37m─\u001b[0m\u001b[38;5;37m─\u001b[0m\u001b[38;5;37m─\u001b[0m  ",
      " \u001b[38;5;246m  ·\u001b[0m                                \u001b[38;5;37m╰\u001b[0m\u001b[38;5;37m─\u001b[0m\u001b[38;5;37m─\u001b[0m\u001b[38;5;37m─\u001b[0m\u001b[38;5;37m─\u001b[0m\u001b[38;5;37m─\u001b[0m\u001b[38;5;37m─\u001b[0m borrow later used here",
      "\u001b[38;5;246m───╯\u001b[0m"
     ]
    }
   ],
   "source": [
    "{\n",
    "    let mut number = 1;\n",
    "    let mut v: Vec<u8> = vec!(1, 2, 4, 8);\n",
    "    let ma_closure = |inner: &mut u8| {\n",
    "        number *= 2;\n",
    "        *inner *= number\n",
    "    };\n",
    "    dbg!(number);\n",
    "    v.iter_mut().for_each(ma_closure);\n",
    "    dbg!(&v);\n",
    "    dbg!(number);\n",
    "    number *= 2;\n",
    "    dbg!(number);\n",
    "}"
   ]
  },
  {
   "cell_type": "markdown",
   "id": "dimensional-mortality",
   "metadata": {
    "deletable": false,
    "editable": false,
    "solution2": "hidden"
   },
   "source": [
    "> Ici la variable number est passe a la closure par **reference mutable** puisque dans la closure, la variable number est modifiée. Déjà, si l'on n'avait pas modifié number dans la closure, le passage par référence aurait ete non-mutable et le programme compilerait, mais ce n'est pas la correction qu'il faut appliquer puisque l'on désire que number soit modifie une fois dans la closure...\n",
    "\n",
    "> Le problème avec l'emprunt d'une référence mutable par la closure tient aux mécanismes que nous avons étudié plus tôt quant au comportement des références. La règle est : si j'emprunte une référence mutable, **je ne peux accéder à la variable autrement par cette meme reference**.\n",
    "\n",
    "> Hors ligne 8, l'instruction dbg!(number) tente d'accéder à cette variable. Ce qui est interdit. Pour corriger le code, il suffit de supprimer la ligne 8."
   ]
  }
 ],
 "metadata": {
  "kernelspec": {
   "display_name": "Rust",
   "language": "rust",
   "name": "rust"
  },
  "language_info": {
   "codemirror_mode": "rust",
   "file_extension": ".rs",
   "mimetype": "text/rust",
   "name": "Rust",
   "pygment_lexer": "rust",
   "version": ""
  },
  "toc": {
   "base_numbering": "2",
   "nav_menu": {},
   "number_sections": true,
   "sideBar": true,
   "skip_h1_title": false,
   "title_cell": "Table of Contents",
   "title_sidebar": "Contents",
   "toc_cell": false,
   "toc_position": {
    "height": "calc(100% - 180px)",
    "left": "10px",
    "top": "150px",
    "width": "268.8px"
   },
   "toc_section_display": true,
   "toc_window_display": false
  }
 },
 "nbformat": 4,
 "nbformat_minor": 5
}
