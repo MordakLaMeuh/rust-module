{
 "cells": [
  {
   "cell_type": "markdown",
   "id": "tender-stanford",
   "metadata": {
    "deletable": false,
    "editable": false
   },
   "source": [
    "# L'approche fonctionnelle\n",
    "\n",
    "---\n",
    "\n",
    "- De l'avis des puristes du monde d'Haskell ou du Lisp, Rust n'est pas à proprement parler un langage fonctionnel, mais pourtant, il s'inspire largement de ces deux langages précédents dans nombre d'aspects. Nous ne débattrons pas ici de savoir si Rust est vraiment un langage fonctionnel ou pas, car tout dépend de la définition que nous donnerions à un langage fonctionnel. Voici un extrait de la page Wikipédia de la programmation fonctionnel :\n",
    "> La programmation fonctionnelle est un paradigme de programmation de type déclaratif qui considère le calcul en tant qu'évaluation de fonctions mathématiques.  \n",
    "> Comme le changement d'état et la mutation des données ne peuvent pas être représentés par des évaluations de fonctions, la programmation fonctionnelle ne les admet pas, au contraire elle met en avant l'application des fonctions, contrairement au modèle de programmation impérative qui met en avant les changements d'état.\n",
    "\n",
    "*Sachez que pour les puristes de tout à l'heure, Rust n'est pas un langage à proprement parler fonctionnel, puisqu'il n'est pas encore tout à fait optimisé pour la récursivité terminale...*\n",
    "\n",
    "Nous avons déjà croisé plusieurs aspects de la programmation fonctionnelle dans ce cours :\n",
    "\n",
    "- If let et le pattern matching\n",
    "- L'opérateur Try, les Option et les Result\n",
    "- Les iterateurs\n",
    "- Les closures\n",
    "\n",
    "**Ici, nous allons revenir plus en profondeur sur la notion d'iterateur et ce qu'ils permettent.**"
   ]
  },
  {
   "cell_type": "markdown",
   "id": "dutch-immunology",
   "metadata": {
    "deletable": false,
    "editable": false
   },
   "source": [
    "## Présentation des Iterateurs\n",
    "\n",
    "- Les itérateurs permettent d'effectuer une tâche sur une séquence d'éléments à tour de rôle. En Rust, un itérateur est une **évaluation paresseuse** (lazy evaluation en anglais), ce qui signifie qu'il n'a aucun effet jusqu'à ce que nous appelions des méthodes qui consomment l'itérateur pour l'utiliser.\n",
    "\n",
    "On peut considérer un Iterateur comme un `distributeur d'éléments` :"
   ]
  },
  {
   "cell_type": "code",
   "execution_count": 3,
   "id": "alien-breakdown",
   "metadata": {
    "deletable": false,
    "editable": false
   },
   "outputs": [
    {
     "name": "stderr",
     "output_type": "stream",
     "text": [
      "[src/lib.rs:125] prime_number = 2\n",
      "[src/lib.rs:125] prime_number = 3\n",
      "[src/lib.rs:125] prime_number = 5\n",
      "[src/lib.rs:125] prime_number = 7\n",
      "[src/lib.rs:125] prime_number = 11\n",
      "[src/lib.rs:125] prime_number = 13\n"
     ]
    },
    {
     "data": {
      "text/plain": [
       "()"
      ]
     },
     "execution_count": 3,
     "metadata": {},
     "output_type": "execute_result"
    }
   ],
   "source": [
    "{\n",
    "    let prime_number_list = [2, 3, 5, 7, 11, 13];     // Tableau de 6 nombres premiers\n",
    "\n",
    "    let my_prime_iterator = prime_number_list.iter(); // Creation d'un iterateur sur le tableau via la methode iter()\n",
    "    for prime_number in my_prime_iterator {           // On parcours l'iterateur\n",
    "        dbg!(prime_number);                           // Affiche l'element courant\n",
    "    }\n",
    "}"
   ]
  },
  {
   "cell_type": "markdown",
   "id": "featured-david",
   "metadata": {
    "deletable": false,
    "editable": false
   },
   "source": [
    "- Il n'est pas obligatoire de créer explicitement l'iterateur via la méthode iter() dans le cas d'un parcours avec la boucle for pour une slice :"
   ]
  },
  {
   "cell_type": "code",
   "execution_count": 2,
   "id": "inclusive-keyboard",
   "metadata": {
    "deletable": false,
    "editable": false
   },
   "outputs": [
    {
     "name": "stdout",
     "output_type": "stream",
     "text": [
      "\"Fizz\"\n",
      "\"Buzz\"\n",
      "\"FizzBuzz\"\n"
     ]
    },
    {
     "data": {
      "text/plain": [
       "()"
      ]
     },
     "execution_count": 2,
     "metadata": {},
     "output_type": "execute_result"
    }
   ],
   "source": [
    "let fizzbuzz = [\"Fizz\", \"Buzz\", \"FizzBuzz\"];\n",
    "for word in fizzbuzz {\n",
    "    println!(\"{:?}\", word);\n",
    "}"
   ]
  },
  {
   "cell_type": "markdown",
   "id": "divided-perry",
   "metadata": {
    "deletable": false,
    "editable": false
   },
   "source": [
    "## Principe interne de l'iterateur\n",
    "\n",
    "- Bien que ce ne soit pas visible avec la boucle for, a chaque itération, la **methode next()** du trait Iterator est appelée. Cette méthode retourne une Option qui vaudra soit Some(mon_type) pour un élément ou bien None quand il n'y a plus d'élément dans l'iterateur. Cet exemple l'illustre bien :"
   ]
  },
  {
   "cell_type": "code",
   "execution_count": 4,
   "id": "convenient-perfume",
   "metadata": {
    "deletable": false,
    "editable": false
   },
   "outputs": [
    {
     "name": "stdout",
     "output_type": "stream",
     "text": [
      "Some(\"Fizz\")\n",
      "Some(\"Buzz\")\n",
      "Some(\"FizzBuzz\")\n",
      "None\n"
     ]
    },
    {
     "data": {
      "text/plain": [
       "()"
      ]
     },
     "execution_count": 4,
     "metadata": {},
     "output_type": "execute_result"
    }
   ],
   "source": [
    "{\n",
    "    let fizzbuzz = [\"Fizz\", \"Buzz\", \"FizzBuzz\"];\n",
    "    let mut iter = fizzbuzz.iter(); // Creation d'un iterateur sur fizzbuzz. La structure Iter implement Iterator\n",
    "    println!(\"{:?}\", iter.next()); // Premier element\n",
    "    println!(\"{:?}\", iter.next()); // Second element\n",
    "    println!(\"{:?}\", iter.next()); // Troisieme element\n",
    "    println!(\"{:?}\", iter.next()); // L'iterateur est vide\n",
    "}"
   ]
  },
  {
   "cell_type": "markdown",
   "id": "under-richardson",
   "metadata": {
    "deletable": false,
    "editable": false
   },
   "source": [
    "- On peut ainsi obtenir le même comportement qu'avec la boucle for avec while let :"
   ]
  },
  {
   "cell_type": "code",
   "execution_count": 5,
   "id": "documented-registrar",
   "metadata": {
    "deletable": false,
    "editable": false
   },
   "outputs": [
    {
     "name": "stdout",
     "output_type": "stream",
     "text": [
      "Fizz\n",
      "FizzBuzz\n",
      "Buzz\n"
     ]
    },
    {
     "data": {
      "text/plain": [
       "()"
      ]
     },
     "execution_count": 5,
     "metadata": {},
     "output_type": "execute_result"
    }
   ],
   "source": [
    "{\n",
    "    let fizzbuzz = [\"Fizz\", \"Buzz\", \"FizzBuzz\"];\n",
    "    let mut iter = fizzbuzz.iter(); // Creation d'un iterateur sur fizzbuzz\n",
    "    while let Some(word) = iter.next() {\n",
    "        println!(\"{}\", word);\n",
    "    }\n",
    "}"
   ]
  },
  {
   "cell_type": "markdown",
   "id": "engaging-construction",
   "metadata": {
    "deletable": false,
    "editable": false
   },
   "source": [
    "> Nous remarquons que la boucle **for in** n'est qu'un simple sucre syntaxique qui fonctionne en réalité via une boucle while, les iterateurs et les Options."
   ]
  },
  {
   "cell_type": "markdown",
   "id": "rubber-scholar",
   "metadata": {
    "deletable": false,
    "editable": false
   },
   "source": [
    "- On trouve dans le document du Trait std::iter::Iterator cette méthode next() en **Required Methods** :"
   ]
  },
  {
   "cell_type": "markdown",
   "id": "incorporate-affairs",
   "metadata": {
    "deletable": false,
    "editable": false
   },
   "source": [
    "![ITER](pictures/iter_prototype.png)"
   ]
  },
  {
   "cell_type": "markdown",
   "id": "infectious-jefferson",
   "metadata": {
    "deletable": false,
    "editable": false
   },
   "source": [
    "## Exemple d'implémentation d'un Iterateur \"custom\""
   ]
  },
  {
   "cell_type": "markdown",
   "id": "desperate-flexibility",
   "metadata": {
    "deletable": false,
    "editable": false
   },
   "source": [
    "> Si je veux créer un Iterateur à partir d'un de mes propres types telle une structure ou une énumération, je devrais :\n",
    "> - Créer un nouveau type de structure qui contient une référence (mutable ou non) sur mon type, dans ce cas, on a besoin de spécifier les lifetime.\n",
    "> - Implémenter le trait Iterator pour cette structure en définissant la méthode next()\n",
    "> - Implémenter une méthode iter() pour ma structure de départ qui génère ma seconde structure qui est l'iterateur. "
   ]
  },
  {
   "cell_type": "code",
   "execution_count": 6,
   "id": "secret-delaware",
   "metadata": {
    "deletable": false,
    "editable": false
   },
   "outputs": [
    {
     "name": "stderr",
     "output_type": "stream",
     "text": [
      "[src/lib.rs:156] value = 2\n",
      "[src/lib.rs:156] value = 3\n",
      "[src/lib.rs:156] value = 4\n"
     ]
    },
    {
     "data": {
      "text/plain": [
       "()"
      ]
     },
     "execution_count": 6,
     "metadata": {},
     "output_type": "execute_result"
    }
   ],
   "source": [
    "struct MyStruct { // Ma structure de base\n",
    "    i: usize,\n",
    "    j: usize,\n",
    "    k: usize,\n",
    "}\n",
    "struct MyIterator<'a> { // La structure de mon iterateur\n",
    "    r: &'a MyStruct,    // Reference sur ma structure de base\n",
    "    count: usize,       // Compteur pour savoir ou j'en suis durant l'iteration\n",
    "}\n",
    "impl Iterator for MyIterator<'_> {                 // Implementation du trait Iterator pour la structure de l'iterateur\n",
    "    type Item = usize;                             // Mon type d'element\n",
    "    fn next(&mut self) -> Option<Self::Item> {     // Implementation obligatoire de la methode next()\n",
    "        let output = match self.count {\n",
    "            0 => Some(self.r.i),\n",
    "            1 => Some(self.r.j),\n",
    "            2 => Some(self.r.k),\n",
    "            _ => None                               // Quand il n'y a plus rien, on retourne None\n",
    "        };\n",
    "        self.count += 1;                            // Je ne dois pas oublier ca !\n",
    "        output\n",
    "    }\n",
    "}\n",
    "impl MyStruct {\n",
    "    fn iter(&self) -> MyIterator { // La methode iter() fait retourne une structure qui me permet d'iterer\n",
    "        MyIterator {\n",
    "            r: self,               // Reference sur self\n",
    "            count: 0,              // Le compteur doit bien etre init a 0 !\n",
    "        }\n",
    "    }\n",
    "}\n",
    "let my_struct = MyStruct {\n",
    "    i: 2,\n",
    "    j: 3,\n",
    "    k: 4\n",
    "};\n",
    "for value in my_struct.iter() {\n",
    "    dbg!(value);\n",
    "}"
   ]
  },
  {
   "cell_type": "markdown",
   "id": "systematic-burst",
   "metadata": {
    "deletable": false,
    "editable": false
   },
   "source": [
    "*Cet exemple n'a pas vocation à être entièrement compris durant ce cours.*"
   ]
  },
  {
   "cell_type": "markdown",
   "id": "genuine-desert",
   "metadata": {
    "deletable": false,
    "editable": false
   },
   "source": [
    "## Les méthodes sur les Iterateurs\n",
    "\n",
    "> La documentation Rust du Trait std::iter::Iterator nous indique qu'il existe une myriade de méthodes qui fonctionnent sur les iterateurs et c'est la tout leur intérêt. Il est possible d'appliquer des fonctions mathématiques sur les éléments, de modifier l'iterateur ou de créer de nouveaux iterateurs à partir d'iterateurs.\n",
    "\n",
    "### Comparaison du code impératif et du code fonctionnel\n",
    "\n",
    "- Prenons cet exemple de code impératif :"
   ]
  },
  {
   "cell_type": "code",
   "execution_count": 7,
   "id": "naked-television",
   "metadata": {
    "deletable": false,
    "editable": false
   },
   "outputs": [
    {
     "name": "stderr",
     "output_type": "stream",
     "text": [
      "[src/lib.rs:143] total = 6\n"
     ]
    }
   ],
   "source": [
    "let v = vec![1, 2, 3];\n",
    "let mut total = 0;\n",
    "for i in 0..v.len() {\n",
    "    total += v[i]; // On additionne tous les elements de la collection v\n",
    "}\n",
    "dbg!(total);"
   ]
  },
  {
   "cell_type": "markdown",
   "id": "breeding-disabled",
   "metadata": {
    "deletable": false,
    "editable": false
   },
   "source": [
    "- Cet exemple peut se réécrire ainsi avec les iterateurs :"
   ]
  },
  {
   "cell_type": "code",
   "execution_count": 8,
   "id": "accessory-disco",
   "metadata": {
    "deletable": false,
    "editable": false
   },
   "outputs": [
    {
     "name": "stderr",
     "output_type": "stream",
     "text": [
      "[src/lib.rs:140] total = 6\n"
     ]
    }
   ],
   "source": [
    "let v = vec![1, 2, 3];\n",
    "let total = v.iter().fold(0, |total, next| total + next);\n",
    "dbg!(total);"
   ]
  },
  {
   "cell_type": "markdown",
   "id": "nominated-investigator",
   "metadata": {
    "deletable": false,
    "editable": false
   },
   "source": [
    "> On notera qu'il n'y a plus de variable mutable total. On dit qu' `il n'y a pas d'effet de bord` avec les iterateurs. L'incrémentation de la variable total du premier exemple est un effet de bord.\n",
    "> Ainsi, nombre de programmeurs trouvent l'expression sous forme fonctionnelle bien plus élégante et sure."
   ]
  },
  {
   "cell_type": "markdown",
   "id": "welsh-fraction",
   "metadata": {
    "deletable": false,
    "editable": false
   },
   "source": [
    "### Un mot sur l'évaluation paresseuse"
   ]
  },
  {
   "cell_type": "markdown",
   "id": "shaped-edwards",
   "metadata": {
    "deletable": false,
    "editable": false
   },
   "source": [
    "- Ici, l'iterateur ne sera \"consomme\" que lors de l'utilisation de la méthode collect()... Collect genere une nouvelle collection à partir d'un iterateur :"
   ]
  },
  {
   "cell_type": "code",
   "execution_count": 23,
   "id": "stainless-paraguay",
   "metadata": {
    "deletable": false,
    "editable": false
   },
   "outputs": [
    {
     "name": "stdout",
     "output_type": "stream",
     "text": [
      "Start\n",
      "After iterator definition and before collect\n",
      "One more loop...\n",
      "One more loop...\n",
      "One more loop...\n",
      "End\n"
     ]
    },
    {
     "name": "stderr",
     "output_type": "stream",
     "text": [
      "[src/lib.rs:164] v = [\n",
      "    1,\n",
      "    4,\n",
      "]\n",
      "    9,\n"
     ]
    },
    {
     "data": {
      "text/plain": [
       "()"
      ]
     },
     "execution_count": 23,
     "metadata": {},
     "output_type": "execute_result"
    }
   ],
   "source": [
    "{\n",
    "    println!(\"Start\");\n",
    "    let squared: std::iter::Map<_, _> = (1..=3).map(|x| { // Creation d'un nouvel Iterateur a partir de Range\n",
    "        println!(\"One more loop...\");\n",
    "        x * x\n",
    "    });\n",
    "    println!(\"After iterator definition and before collect\");\n",
    "    let v: Vec<u32> = squared.collect();                   // Evaluation de l'iterateur ici\n",
    "    dbg!(v);\n",
    "    println!(\"End\");\n",
    "}"
   ]
  },
  {
   "cell_type": "markdown",
   "id": "black-better",
   "metadata": {
    "deletable": false,
    "editable": false
   },
   "source": [
    "## Quelques exemples d'utilisation des iterateurs"
   ]
  },
  {
   "cell_type": "markdown",
   "id": "enclosed-making",
   "metadata": {
    "deletable": false,
    "editable": false
   },
   "source": [
    "### Les filtres\n",
    "\n",
    "* Il est possible de ne retenir que certaines valeurs sur les iterateurs :"
   ]
  },
  {
   "cell_type": "code",
   "execution_count": 25,
   "id": "brutal-citizen",
   "metadata": {
    "deletable": false,
    "editable": false
   },
   "outputs": [
    {
     "name": "stderr",
     "output_type": "stream",
     "text": [
      "[src/lib.rs:161] elem = 2\n",
      "[src/lib.rs:161] elem = 12\n"
     ]
    },
    {
     "data": {
      "text/plain": [
       "()"
      ]
     },
     "execution_count": 25,
     "metadata": {},
     "output_type": "execute_result"
    }
   ],
   "source": [
    "{\n",
    "    let v: Vec<u32> = vec![1, 2, 7, 11, 12];\n",
    "    let my_new_iterator = v.iter().filter(|elem| *elem % 2 == 0); // Ne retient que les nombres pairs\n",
    "    \n",
    "    for elem in my_new_iterator {\n",
    "        dbg!(elem);\n",
    "    }\n",
    "}"
   ]
  },
  {
   "cell_type": "markdown",
   "id": "beautiful-sustainability",
   "metadata": {
    "deletable": false,
    "editable": false
   },
   "source": [
    "> La méthode filter du trait Iterator prend en paramètre une fonction retournant true ou false, le prédicat. La sortie de la méthode filter est une structure de type Filter qui implémente à son tour le trait Iterator :\n",
    "```\n",
    "fn filter<P>(self, predicate: P) -> Filter<Self, P> \n",
    "where\n",
    "    Self: Sized,\n",
    "    P: FnMut(&Self::Item) -> bool,\n",
    "```"
   ]
  },
  {
   "cell_type": "markdown",
   "id": "geological-saint",
   "metadata": {
    "deletable": false,
    "editable": false
   },
   "source": [
    "### Le mapping\n",
    "\n",
    "- Map permet, entre autres, d'appliquer une fonction mathématique sur chaque élément de l'iterateur et/ou de transmuter le type des elements :"
   ]
  },
  {
   "cell_type": "code",
   "execution_count": 7,
   "id": "royal-electronics",
   "metadata": {
    "deletable": false,
    "editable": false
   },
   "outputs": [
    {
     "name": "stderr",
     "output_type": "stream",
     "text": [
      "[src/lib.rs:156] elem = 2\n",
      "[src/lib.rs:156] elem = 4\n",
      "[src/lib.rs:156] elem = 6\n"
     ]
    },
    {
     "data": {
      "text/plain": [
       "()"
      ]
     },
     "execution_count": 7,
     "metadata": {},
     "output_type": "execute_result"
    }
   ],
   "source": [
    "{\n",
    "    let v: Vec<u32> = vec![1, 2, 3];\n",
    "    let my_new_iterator = v.iter().map(|elem| *elem * 2);\n",
    "    for elem in my_new_iterator {\n",
    "        dbg!(elem);\n",
    "    }\n",
    "}"
   ]
  },
  {
   "cell_type": "markdown",
   "id": "regulation-touch",
   "metadata": {
    "deletable": false,
    "editable": false
   },
   "source": [
    "> La méthode map du trait Iterator prend en paramètre une fonction retournant un nouvel élément qui peut être de type diffèrent de celui en entrée. La sortie de la méthode map est une structure de type Map qui implémente à son tour le trait Iterator :\n",
    "```\n",
    "fn map<B, F>(self, f: F) -> Map<Self, F>\n",
    "where\n",
    "    Self: Sized,\n",
    "    F: FnMut(Self::Item) -> B,\n",
    "```"
   ]
  },
  {
   "cell_type": "code",
   "execution_count": 9,
   "id": "competent-walnut",
   "metadata": {
    "deletable": false,
    "editable": false
   },
   "outputs": [
    {
     "name": "stderr",
     "output_type": "stream",
     "text": [
      "[src/lib.rs:157] v2 = [\n",
      "    1,\n",
      "    2,\n",
      "    3,\n",
      "]\n"
     ]
    },
    {
     "data": {
      "text/plain": [
       "()"
      ]
     },
     "execution_count": 9,
     "metadata": {},
     "output_type": "execute_result"
    }
   ],
   "source": [
    "{\n",
    "    // Exemple de casting de type de tous les elements pour v2 depuis v1\n",
    "    let v1: Vec<u32> = vec![1, 2, 3];\n",
    "    let v2: Vec<u64> = v1.iter().map(|value| *value as u64).collect();\n",
    "    // assert_eq!(v1, v2); // Ne peut comparer des u32 et u64\n",
    "    dbg!(v2);\n",
    "}"
   ]
  },
  {
   "cell_type": "markdown",
   "id": "conservative-senator",
   "metadata": {
    "deletable": false,
    "editable": false
   },
   "source": [
    "> **NB** N'oubliez pas que le paramètre d'input de la closure ici value est une référence (parce que FnMut) et qu'il est fréquent de devoir la déréférencer via `*` pour l'utiliser."
   ]
  },
  {
   "cell_type": "markdown",
   "id": "small-flower",
   "metadata": {
    "deletable": false,
    "editable": false
   },
   "source": [
    "### Fusionner deux iterateurs :\n",
    "\n",
    "- zip permet de fusionner deux iterateurs. L'iterateur résultant contiendra des tuples :"
   ]
  },
  {
   "cell_type": "code",
   "execution_count": 32,
   "id": "linear-booking",
   "metadata": {
    "deletable": false,
    "editable": false
   },
   "outputs": [
    {
     "name": "stderr",
     "output_type": "stream",
     "text": [
      "[src/lib.rs:161] elem = (\n",
      "    0,\n",
      "    10,\n",
      ")\n",
      "[src/lib.rs:161] elem = (\n",
      "    1,\n",
      "    11,\n",
      ")\n"
     ]
    },
    {
     "data": {
      "text/plain": [
       "()"
      ]
     },
     "execution_count": 32,
     "metadata": {},
     "output_type": "execute_result"
    }
   ],
   "source": [
    "{\n",
    "    let iter_1 = (0..2);                        // Iterateur a partir d'une Range\n",
    "    let iter_2 = (10..12);                      // Iterateur a partir d'une Range\n",
    "    let my_new_iterator = iter_1.zip(iter_2);\n",
    "    for elem in my_new_iterator {\n",
    "        dbg!(elem);\n",
    "    }\n",
    "}"
   ]
  },
  {
   "cell_type": "markdown",
   "id": "literary-jefferson",
   "metadata": {
    "deletable": false,
    "editable": false
   },
   "source": [
    "### Les Iterateurs mutables\n",
    "\n",
    "- Enfin, il n'est pas toujours nécessaire de générer de nouveaux iterateurs. Les éléments à l'intérieur d'un iterateur peuvent être directement modifies. Ceci peut être réalisé par l'utilisation conjointe de iter_mut() et de la méthode for_each() :"
   ]
  },
  {
   "cell_type": "code",
   "execution_count": 34,
   "id": "independent-weekend",
   "metadata": {
    "deletable": false,
    "editable": false
   },
   "outputs": [
    {
     "name": "stderr",
     "output_type": "stream",
     "text": [
      "[src/lib.rs:159] v = [\n",
      "    0,\n",
      "    2,\n",
      "    4,\n",
      "]\n"
     ]
    },
    {
     "data": {
      "text/plain": [
       "()"
      ]
     },
     "execution_count": 34,
     "metadata": {},
     "output_type": "execute_result"
    }
   ],
   "source": [
    "{\n",
    "    let mut v = vec![0, 1, 2];\n",
    "    v.iter_mut().for_each(|mut elem| *elem *= 2);\n",
    "    dbg!(v);\n",
    "}"
   ]
  },
  {
   "cell_type": "markdown",
   "id": "purple-lunch",
   "metadata": {
    "deletable": false,
    "editable": false
   },
   "source": [
    "> Contrairement à map ou a filter, for_each ne retourne pas de nouvel iterateur, il se contente d'exécuter une procédure pour chaque élément de l'iterateur et peut éventuellement modifier les données référencées par l'iterateur s'il est utilisé avec iter_mut() (iterateur mutable).\n",
    "```\n",
    "fn for_each<F>(self, f: F)\n",
    "where\n",
    "    Self: Sized,\n",
    "    F: FnMut(Self::Item),\n",
    "```"
   ]
  },
  {
   "cell_type": "markdown",
   "id": "completed-hormone",
   "metadata": {
    "deletable": false,
    "editable": false
   },
   "source": [
    "> **N'hésitez pas à consulter la documentation du trait Iterator afin d'entrevoir toutes les possibilités qu'offrent les itérateurs. Notez aussi que certaines des méthodes présentées ici telles `map` peuvent aussi s'utiliser pour les `Option<T>` et les `Result<T, E>`, tout est dans la documentation `rustup doc`.**"
   ]
  }
 ],
 "metadata": {
  "kernelspec": {
   "display_name": "Rust",
   "language": "rust",
   "name": "rust"
  },
  "language_info": {
   "codemirror_mode": "rust",
   "file_extension": ".rs",
   "mimetype": "text/rust",
   "name": "Rust",
   "pygment_lexer": "rust",
   "version": ""
  },
  "toc": {
   "base_numbering": "3",
   "nav_menu": {},
   "number_sections": true,
   "sideBar": true,
   "skip_h1_title": false,
   "title_cell": "Table of Contents",
   "title_sidebar": "Contents",
   "toc_cell": false,
   "toc_position": {
    "height": "calc(100% - 180px)",
    "left": "10px",
    "top": "150px",
    "width": "268.8px"
   },
   "toc_section_display": true,
   "toc_window_display": false
  }
 },
 "nbformat": 4,
 "nbformat_minor": 5
}
