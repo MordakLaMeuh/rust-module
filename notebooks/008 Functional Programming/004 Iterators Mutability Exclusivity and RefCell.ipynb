{
 "cells": [
  {
   "cell_type": "markdown",
   "id": "assured-buffalo",
   "metadata": {
    "deletable": false,
    "editable": false
   },
   "source": [
    "# Les Itérateurs, mutabilité, exclusivité et RefCell\n",
    "\n",
    "---\n",
    "\n",
    "## Description du problème\n",
    "\n",
    "- Souvenons-nous de la règle concernant les références mutables qui dit qu'on ne peut accéder à l'objet référence EXCLUSIVEMENT qu'au travers de cette unique référence mutable. Dans le cas de la fonction iter_mut sur `Vec<T>`, qui créer un itérateur mutable, elle prend en paramètre une référence mutable de self, soit de Vec ici."
   ]
  },
  {
   "cell_type": "code",
   "execution_count": 2,
   "id": "dressed-lease",
   "metadata": {
    "deletable": false,
    "editable": false
   },
   "outputs": [
    {
     "name": "stderr",
     "output_type": "stream",
     "text": [
      "[src/lib.rs:104] &v = [\n",
      "    2,\n",
      "    4,\n",
      "    8,\n",
      "    16,\n",
      "]\n"
     ]
    }
   ],
   "source": [
    "let mut v: Vec<u8> = vec!(1, 2, 4, 8);\n",
    "v.iter_mut().for_each(|inner| *inner *= 2);\n",
    "dbg!(&v);"
   ]
  },
  {
   "cell_type": "markdown",
   "id": "correct-ferry",
   "metadata": {
    "deletable": false,
    "editable": false
   },
   "source": [
    "![ITERMUT](pictures/iter_mut.png)"
   ]
  },
  {
   "cell_type": "markdown",
   "id": "radio-permit",
   "metadata": {
    "deletable": false,
    "editable": false
   },
   "source": [
    "- Admettons que je tente d'ajouter un élément à mon Vecteur lorsque je suis à l’intérieur du bloc d’itération, **Quel problème pourrait poser ce genre de code ?**"
   ]
  },
  {
   "cell_type": "code",
   "execution_count": 3,
   "id": "textile-outdoors",
   "metadata": {
    "deletable": false,
    "editable": false
   },
   "outputs": [
    {
     "ename": "Error",
     "evalue": "cannot borrow `v` as mutable more than once at a time",
     "output_type": "error",
     "traceback": [
      "\u001b[31m[E0499] Error:\u001b[0m cannot borrow `v` as mutable more than once at a time",
      "   \u001b[38;5;246m╭\u001b[0m\u001b[38;5;246m─\u001b[0m\u001b[38;5;246m[\u001b[0mcommand_3:1:1\u001b[38;5;246m]\u001b[0m",
      "   \u001b[38;5;246m│\u001b[0m",
      " \u001b[38;5;246m2 │\u001b[0m \u001b[38;5;54mv\u001b[0m\u001b[38;5;54m.\u001b[0m\u001b[38;5;54mi\u001b[0m\u001b[38;5;54mt\u001b[0m\u001b[38;5;54me\u001b[0m\u001b[38;5;54mr\u001b[0m\u001b[38;5;54m_\u001b[0m\u001b[38;5;54mm\u001b[0m\u001b[38;5;54mu\u001b[0m\u001b[38;5;54mt\u001b[0m\u001b[38;5;54m(\u001b[0m\u001b[38;5;54m)\u001b[0m\u001b[38;5;249m.\u001b[0m\u001b[38;5;249me\u001b[0m\u001b[38;5;249mn\u001b[0m\u001b[38;5;249mu\u001b[0m\u001b[38;5;249mm\u001b[0m\u001b[38;5;249me\u001b[0m\u001b[38;5;249mr\u001b[0m\u001b[38;5;249ma\u001b[0m\u001b[38;5;249mt\u001b[0m\u001b[38;5;249me\u001b[0m\u001b[38;5;249m(\u001b[0m\u001b[38;5;249m)\u001b[0m\u001b[38;5;249m.\u001b[0m\u001b[38;5;37mf\u001b[0m\u001b[38;5;37mo\u001b[0m\u001b[38;5;37mr\u001b[0m\u001b[38;5;37m_\u001b[0m\u001b[38;5;37me\u001b[0m\u001b[38;5;37ma\u001b[0m\u001b[38;5;37mc\u001b[0m\u001b[38;5;37mh\u001b[0m\u001b[38;5;249m(\u001b[0m\u001b[38;5;100m|\u001b[0m\u001b[38;5;100m(\u001b[0m\u001b[38;5;100mi\u001b[0m\u001b[38;5;100mn\u001b[0m\u001b[38;5;100md\u001b[0m\u001b[38;5;100me\u001b[0m\u001b[38;5;100mx\u001b[0m\u001b[38;5;100m,\u001b[0m\u001b[38;5;100m \u001b[0m\u001b[38;5;100mi\u001b[0m\u001b[38;5;100mn\u001b[0m\u001b[38;5;100mn\u001b[0m\u001b[38;5;100me\u001b[0m\u001b[38;5;100mr\u001b[0m\u001b[38;5;100m)\u001b[0m\u001b[38;5;100m|\u001b[0m\u001b[38;5;249m \u001b[0m\u001b[38;5;249m{\u001b[0m",
      " \u001b[38;5;246m  ·\u001b[0m \u001b[38;5;54m─\u001b[0m\u001b[38;5;54m─\u001b[0m\u001b[38;5;54m─\u001b[0m\u001b[38;5;54m─\u001b[0m\u001b[38;5;54m─\u001b[0m\u001b[38;5;54m─\u001b[0m\u001b[38;5;54m┬\u001b[0m\u001b[38;5;54m─\u001b[0m\u001b[38;5;54m─\u001b[0m\u001b[38;5;54m─\u001b[0m\u001b[38;5;54m─\u001b[0m\u001b[38;5;54m─\u001b[0m             \u001b[38;5;37m─\u001b[0m\u001b[38;5;37m─\u001b[0m\u001b[38;5;37m─\u001b[0m\u001b[38;5;37m─\u001b[0m\u001b[38;5;37m┬\u001b[0m\u001b[38;5;37m─\u001b[0m\u001b[38;5;37m─\u001b[0m\u001b[38;5;37m─\u001b[0m \u001b[38;5;100m─\u001b[0m\u001b[38;5;100m─\u001b[0m\u001b[38;5;100m─\u001b[0m\u001b[38;5;100m─\u001b[0m\u001b[38;5;100m─\u001b[0m\u001b[38;5;100m─\u001b[0m\u001b[38;5;100m─\u001b[0m\u001b[38;5;100m─\u001b[0m\u001b[38;5;100m┬\u001b[0m\u001b[38;5;100m─\u001b[0m\u001b[38;5;100m─\u001b[0m\u001b[38;5;100m─\u001b[0m\u001b[38;5;100m─\u001b[0m\u001b[38;5;100m─\u001b[0m\u001b[38;5;100m─\u001b[0m\u001b[38;5;100m─\u001b[0m  ",
      " \u001b[38;5;246m  ·\u001b[0m       \u001b[38;5;54m╰\u001b[0m\u001b[38;5;54m─\u001b[0m\u001b[38;5;54m─\u001b[0m\u001b[38;5;54m─\u001b[0m\u001b[38;5;54m─\u001b[0m\u001b[38;5;54m─\u001b[0m\u001b[38;5;54m─\u001b[0m\u001b[38;5;54m─\u001b[0m\u001b[38;5;54m─\u001b[0m\u001b[38;5;54m─\u001b[0m\u001b[38;5;54m─\u001b[0m\u001b[38;5;54m─\u001b[0m\u001b[38;5;54m─\u001b[0m\u001b[38;5;54m─\u001b[0m\u001b[38;5;54m─\u001b[0m\u001b[38;5;54m─\u001b[0m\u001b[38;5;54m─\u001b[0m\u001b[38;5;54m─\u001b[0m\u001b[38;5;54m─\u001b[0m\u001b[38;5;54m─\u001b[0m\u001b[38;5;54m─\u001b[0m\u001b[38;5;54m─\u001b[0m\u001b[38;5;54m─\u001b[0m\u001b[38;5;54m─\u001b[0m\u001b[38;5;54m─\u001b[0m\u001b[38;5;54m─\u001b[0m\u001b[38;5;54m─\u001b[0m\u001b[38;5;54m─\u001b[0m\u001b[38;5;54m─\u001b[0m\u001b[38;5;54m─\u001b[0m\u001b[38;5;54m─\u001b[0m\u001b[38;5;54m─\u001b[0m\u001b[38;5;54m─\u001b[0m\u001b[38;5;54m─\u001b[0m\u001b[38;5;54m─\u001b[0m\u001b[38;5;54m─\u001b[0m\u001b[38;5;54m─\u001b[0m\u001b[38;5;54m─\u001b[0m\u001b[38;5;54m─\u001b[0m\u001b[38;5;54m─\u001b[0m\u001b[38;5;54m─\u001b[0m\u001b[38;5;54m─\u001b[0m\u001b[38;5;54m─\u001b[0m\u001b[38;5;54m─\u001b[0m\u001b[38;5;54m─\u001b[0m\u001b[38;5;54m─\u001b[0m first mutable borrow occurs here",
      " \u001b[38;5;246m  ·\u001b[0m                              \u001b[38;5;37m│\u001b[0m            \u001b[38;5;100m│\u001b[0m         ",
      " \u001b[38;5;246m  ·\u001b[0m                              \u001b[38;5;37m╰\u001b[0m\u001b[38;5;37m─\u001b[0m\u001b[38;5;37m─\u001b[0m\u001b[38;5;37m─\u001b[0m\u001b[38;5;37m─\u001b[0m\u001b[38;5;37m─\u001b[0m\u001b[38;5;37m─\u001b[0m\u001b[38;5;37m─\u001b[0m\u001b[38;5;37m─\u001b[0m\u001b[38;5;37m─\u001b[0m\u001b[38;5;37m─\u001b[0m\u001b[38;5;37m─\u001b[0m\u001b[38;5;37m─\u001b[0m\u001b[38;5;37m─\u001b[0m\u001b[38;5;37m─\u001b[0m\u001b[38;5;37m─\u001b[0m\u001b[38;5;37m─\u001b[0m\u001b[38;5;37m─\u001b[0m\u001b[38;5;37m─\u001b[0m\u001b[38;5;37m─\u001b[0m\u001b[38;5;37m─\u001b[0m\u001b[38;5;37m─\u001b[0m\u001b[38;5;37m─\u001b[0m first borrow later used by call",
      " \u001b[38;5;246m  ·\u001b[0m                                           \u001b[38;5;100m│\u001b[0m         ",
      " \u001b[38;5;246m  ·\u001b[0m                                           \u001b[38;5;100m╰\u001b[0m\u001b[38;5;100m─\u001b[0m\u001b[38;5;100m─\u001b[0m\u001b[38;5;100m─\u001b[0m\u001b[38;5;100m─\u001b[0m\u001b[38;5;100m─\u001b[0m\u001b[38;5;100m─\u001b[0m\u001b[38;5;100m─\u001b[0m\u001b[38;5;100m─\u001b[0m\u001b[38;5;100m─\u001b[0m second mutable borrow occurs here",
      " \u001b[38;5;246m  ·\u001b[0m ",
      " \u001b[38;5;246m4 │\u001b[0m \u001b[38;5;249m \u001b[0m\u001b[38;5;249m \u001b[0m\u001b[38;5;249m \u001b[0m\u001b[38;5;249m \u001b[0m\u001b[38;5;249m \u001b[0m\u001b[38;5;249m \u001b[0m\u001b[38;5;249m \u001b[0m\u001b[38;5;249m \u001b[0m\u001b[38;5;68mv\u001b[0m\u001b[38;5;249m.\u001b[0m\u001b[38;5;249mp\u001b[0m\u001b[38;5;249mu\u001b[0m\u001b[38;5;249ms\u001b[0m\u001b[38;5;249mh\u001b[0m\u001b[38;5;249m(\u001b[0m\u001b[38;5;249m1\u001b[0m\u001b[38;5;249m6\u001b[0m\u001b[38;5;249m)\u001b[0m\u001b[38;5;249m;\u001b[0m",
      " \u001b[38;5;246m  ·\u001b[0m         \u001b[38;5;68m┬\u001b[0m  ",
      " \u001b[38;5;246m  ·\u001b[0m         \u001b[38;5;68m╰\u001b[0m\u001b[38;5;68m─\u001b[0m\u001b[38;5;68m─\u001b[0m second borrow occurs due to use of `v` in closure",
      "\u001b[38;5;246m───╯\u001b[0m"
     ]
    }
   ],
   "source": [
    "let mut v: Vec<u8> = vec!(1, 2, 4, 8);\n",
    "v.iter_mut().enumerate().for_each(|(index, inner)| {\n",
    "    if index == 0 {\n",
    "        v.push(16);\n",
    "    }\n",
    "    *inner *= 2;\n",
    "});\n",
    "dbg!(&v);"
   ]
  },
  {
   "cell_type": "markdown",
   "id": "relative-performer",
   "metadata": {
    "deletable": false,
    "editable": false
   },
   "source": [
    "## Solution"
   ]
  },
  {
   "cell_type": "markdown",
   "id": "intensive-amino",
   "metadata": {
    "deletable": false,
    "editable": false
   },
   "source": [
    "### Les raisons du problème"
   ]
  },
  {
   "cell_type": "markdown",
   "id": "ethical-junior",
   "metadata": {
    "deletable": false,
    "editable": false
   },
   "source": [
    "> La création d'un itérateur mutable sur la collection emprunte déjà une référence mutable de cette dernière. Or, à l'intérieur de la closure appeler Vec::push() tente d'emprunter une seconde fois une référence mutable de la collection. Ce qui est interdit.\n",
    "\n",
    "> Le compilateur ne veut pas, car des effets de bords de tout genre pourraient apparaître, par exemple si j'étends à chaque itération mon vecteur tout en itérant dessus, on aurait ainsi une belle boucle infinie ! Le tout se terminera par un crash du programme dû au fait qu'il n'y ait plus de mémoire disponible !\n",
    "\n",
    "*Via l'application des règles sur les références, le compilateur protège le code d'erreurs qui sont, pas expériences, extrêmement vicieuses !*\n",
    "\n",
    "*Il est aussi intéressant de noter qu'en Rust que si j'ai une référence mutable sur un champ d'une structure, je peux avoir une référence mutable sur un autre champ de cette même structure, mais plus sur la structure entière.*"
   ]
  },
  {
   "cell_type": "markdown",
   "id": "expected-flush",
   "metadata": {
    "deletable": false,
    "editable": false
   },
   "source": [
    "### Un Hack possible avec RefCell ?\n",
    "\n",
    "- En Rust, il existe un moyen de bypass les règles d'exclusivité des références du compilateur. C'est la création d'une RefCell. Avec frites pates, les règles d'emprunts ne sont plus vérifiées à la compilation, mais durant l'exécution du programme, ainsi si le programmeur sait ce qu'il fait, il peut exécuter un code correctement alors qu'il semblait problématique du point de vue du compilateur.\n",
    "\n",
    "**RefCell ne fait pas partie de l'unsafe Rust puisque les règles d'emprunt sont toujours vérifiées, mais a l'execution.**\n",
    "\n",
    "- Reprenons l'exemple au chapitre 3 qui ne compilait pas avec les closures à cause des références mutables, nous utiliserons `RefCell<u8>` au lieu de u8 pour la variable number :"
   ]
  },
  {
   "cell_type": "code",
   "execution_count": 14,
   "id": "reported-italy",
   "metadata": {
    "deletable": false,
    "editable": false
   },
   "outputs": [
    {
     "name": "stderr",
     "output_type": "stream",
     "text": [
      "[src/lib.rs:31] number.borrow_mut() = 1\n",
      "[src/lib.rs:33] &v = [\n",
      "    2,\n",
      "    8,\n",
      "    32,\n",
      "    128,\n",
      "]\n",
      "[src/lib.rs:34] number.borrow() = 16\n",
      "[src/lib.rs:36] number = RefCell {\n",
      "    value: 32,\n",
      "}\n"
     ]
    },
    {
     "data": {
      "text/plain": [
       "()"
      ]
     },
     "execution_count": 14,
     "metadata": {},
     "output_type": "execute_result"
    }
   ],
   "source": [
    "{\n",
    "    use std::cell::RefCell;                  // RefCell n'est pas dans le prelude, il faut l'importer.\n",
    "    let number = RefCell::new(1);            // number a pour type RefCell<u8> au lieu de u8 et n'est plus 'mut'\n",
    "    let mut v: Vec<u8> = vec!(1, 2, 4, 8);\n",
    "    let ma_closure = |inner: &mut u8| {\n",
    "        *number.borrow_mut() *= 2;           // borrow_mut() retourne une reference mutable de l'u8 contenu\n",
    "        *inner *= *number.borrow();          // borrow() retourne une reference non-mutable de l'u8 contenu\n",
    "    };                                       // On dereference avec * afin de proceder aux operations\n",
    "    dbg!(number.borrow_mut());               // ICI, IL Y A L'EMPRUNT MUTABLE QUI POSE PROBLEME\n",
    "    v.iter_mut().for_each(ma_closure);\n",
    "    dbg!(&v);\n",
    "    dbg!(number.borrow());\n",
    "    *number.borrow_mut() *= 2;\n",
    "    dbg!(number);\n",
    "}"
   ]
  },
  {
   "cell_type": "markdown",
   "id": "welcome-soldier",
   "metadata": {
    "deletable": false,
    "editable": false
   },
   "source": [
    "> Le code de cet exemple ne semblait donc pas poser de problème puisqu'il vient de s'exécuter correctement. Sans RefCell, le compilateur n'avait pas été en mesure de déterminer que le programme était correct, l'application stricte des règles d'emprunt ne lui a pas permis."
   ]
  },
  {
   "cell_type": "markdown",
   "id": "characteristic-military",
   "metadata": {
    "deletable": false,
    "editable": false
   },
   "source": [
    "- Mais voici le résultat si on essaie d'utiliser RefCell sur le code qui pose problème dans ce chapitre :"
   ]
  },
  {
   "cell_type": "code",
   "execution_count": 5,
   "id": "eleven-andrew",
   "metadata": {
    "deletable": false,
    "editable": false
   },
   "outputs": [
    {
     "name": "stderr",
     "output_type": "stream",
     "text": [
      "thread '<unnamed>' panicked at 'already borrowed: BorrowMutError', src/lib.rs:106:11\n",
      "stack backtrace:\n",
      "   0: rust_begin_unwind\n",
      "             at /rustc/8460ca823e8367a30dda430efda790588b8c84d3/library/std/src/panicking.rs:575:5\n",
      "   1: core::panicking::panic_fmt\n",
      "             at /rustc/8460ca823e8367a30dda430efda790588b8c84d3/library/core/src/panicking.rs:64:14\n",
      "   2: core::result::unwrap_failed\n",
      "             at /rustc/8460ca823e8367a30dda430efda790588b8c84d3/library/core/src/result.rs:1790:5\n",
      "   3: <unknown>\n",
      "   4: <unknown>\n",
      "   5: evcxr::runtime::Runtime::run_loop\n",
      "   6: evcxr::runtime::runtime_hook\n",
      "   7: evcxr_jupyter::main\n",
      "note: Some details are omitted, run with `RUST_BACKTRACE=full` for a verbose backtrace.\n"
     ]
    }
   ],
   "source": [
    "use std::cell::RefCell;\n",
    "let v: RefCell<Vec<u8>> = RefCell::new(vec!(1, 2, 4, 8));\n",
    "v.borrow_mut().iter_mut().enumerate().for_each(|(index, inner)| {\n",
    "    if index == 0 {\n",
    "        v.borrow_mut().push(16);\n",
    "    }\n",
    "    *inner *= 2;\n",
    "});\n",
    "dbg!(&v);"
   ]
  },
  {
   "cell_type": "markdown",
   "id": "thermal-circumstances",
   "metadata": {
    "deletable": false,
    "editable": false
   },
   "source": [
    "> OUCH... Le code panique... Cette fois-ci, le compilateur avait raison. Comprenez-vous pourquoi ? :)\n",
    "\n",
    "*Je vous laisse cela en sujet de réflexion...*"
   ]
  }
 ],
 "metadata": {
  "kernelspec": {
   "display_name": "Rust",
   "language": "rust",
   "name": "rust"
  },
  "language_info": {
   "codemirror_mode": "rust",
   "file_extension": ".rs",
   "mimetype": "text/rust",
   "name": "Rust",
   "pygment_lexer": "rust",
   "version": ""
  },
  "toc": {
   "base_numbering": "4",
   "nav_menu": {},
   "number_sections": true,
   "sideBar": true,
   "skip_h1_title": false,
   "title_cell": "Table of Contents",
   "title_sidebar": "Contents",
   "toc_cell": false,
   "toc_position": {
    "height": "calc(100% - 180px)",
    "left": "10px",
    "top": "150px",
    "width": "268.8px"
   },
   "toc_section_display": true,
   "toc_window_display": false
  }
 },
 "nbformat": 4,
 "nbformat_minor": 5
}
