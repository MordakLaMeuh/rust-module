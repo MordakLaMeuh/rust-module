{
 "cells": [
  {
   "cell_type": "markdown",
   "id": "advance-lounge",
   "metadata": {
    "deletable": false,
    "editable": false
   },
   "source": [
    "#  ___TP Iterators___\n",
    "\n",
    "---\n",
    "\n",
    "Dans ce TP, vous devrez faire un petit programme qui ne contient qu'un seul fichier main.rs (Généré\n",
    "par Cargo). Ce programme ne prend pas d'argument et contient, en plus de la fonction main(), un code respectant la consigne ci-dessous.\n",
    "\n",
    "- **NB** Si vous ne voulez pas installer Rust directement sur votre machine, vous pouvez ouvrir un terminal à partir de la page d'accueil de Jupyter. Une fois ouvert, faites `cd programs/iterator` pour vous rendre à la racine du projet iterator et testez. Aussi, le code peut se rédiger directement dans Jupyter en allant dans le dossier `programs` de la partie `008 Functional Programming`. Vous pouvez aussi utiliser votre éditeur de code à partir de votre machine hôte, les sources du programme se trouvent dans le path `Desktop/programs/iterator`."
   ]
  },
  {
   "cell_type": "markdown",
   "id": "assured-priest",
   "metadata": {
    "deletable": false,
    "editable": false
   },
   "source": [
    "**CONSIGNE**\n",
    "\n",
    "> - Créer une **range de 0 a 30 ou 30 est inclu**. Elle constituera l'iterateur de départ.\n",
    "> - Appliquer un filtre de façon à ne retenir que les nombres pairs.\n",
    "> - Récupérer l'index de l'itération a ce point (c'est-à-dire après passage du filtre). *cf enumerate()*\n",
    "> - Multiplier par 2 chacun des nombres et ajouter l'index au résultat.\n",
    "> - Générer une collection de type Vector de usize à partir de l'iterateur.\n",
    "> - Le tout ne doit tenir que sur une seule instruction.\n",
    "> - **Faire la même chose, mais avec un code impératif sans utiliser d'iterateur.**"
   ]
  },
  {
   "cell_type": "markdown",
   "id": "important-bracket",
   "metadata": {
    "deletable": false,
    "editable": false
   },
   "source": [
    "Le contenu de la collection générée devrait ressembler à cela :\n",
    "```\n",
    "[src/main.rs:19] v = [\n",
    "    0,\n",
    "    5,\n",
    "    10,\n",
    "    15,\n",
    "    20,\n",
    "    25,\n",
    "    30,\n",
    "    35,\n",
    "    40,\n",
    "    45,\n",
    "    50,\n",
    "    55,\n",
    "    60,\n",
    "    65,\n",
    "    70,\n",
    "    75,\n",
    "]\n",
    "\n",
    "```"
   ]
  }
 ],
 "metadata": {
  "kernelspec": {
   "display_name": "Rust",
   "language": "rust",
   "name": "rust"
  },
  "language_info": {
   "codemirror_mode": "rust",
   "file_extension": ".rs",
   "mimetype": "text/rust",
   "name": "Rust",
   "pygment_lexer": "rust",
   "version": ""
  },
  "toc": {
   "base_numbering": "5",
   "nav_menu": {
    "height": "63px",
    "width": "830px"
   },
   "number_sections": true,
   "sideBar": true,
   "skip_h1_title": false,
   "title_cell": "Table of Contents",
   "title_sidebar": "Contents",
   "toc_cell": false,
   "toc_position": {
    "height": "calc(100% - 180px)",
    "left": "10px",
    "top": "150px",
    "width": "352px"
   },
   "toc_section_display": true,
   "toc_window_display": false
  }
 },
 "nbformat": 4,
 "nbformat_minor": 5
}
