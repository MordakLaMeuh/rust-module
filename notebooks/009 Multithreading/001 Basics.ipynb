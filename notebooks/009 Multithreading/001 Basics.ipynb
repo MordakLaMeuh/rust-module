{
 "cells": [
  {
   "cell_type": "markdown",
   "id": "yellow-block",
   "metadata": {
    "deletable": false,
    "editable": false
   },
   "source": [
    "# Les bases du multithreading\n",
    "\n",
    "## La programmation concurrente\n",
    "\n",
    "- Trouver ce qui ne va pas dans ce programme :"
   ]
  },
  {
   "cell_type": "code",
   "execution_count": 14,
   "id": "graduate-header",
   "metadata": {
    "deletable": false,
    "editable": false,
    "solution2": "hidden",
    "solution2_first": true
   },
   "outputs": [
    {
     "ename": "Error",
     "evalue": "borrow of moved value: `s`",
     "output_type": "error",
     "traceback": [
      "\u001b[31m[E0382] Error:\u001b[0m borrow of moved value: `s`",
      "    \u001b[38;5;246m╭\u001b[0m\u001b[38;5;246m─\u001b[0m\u001b[38;5;246m[\u001b[0mcommand_14:1:1\u001b[38;5;246m]\u001b[0m",
      "    \u001b[38;5;246m│\u001b[0m",
      " \u001b[38;5;246m11 │\u001b[0m \u001b[38;5;249m \u001b[0m\u001b[38;5;249m \u001b[0m\u001b[38;5;249m \u001b[0m\u001b[38;5;249m \u001b[0m\u001b[38;5;249ml\u001b[0m\u001b[38;5;249me\u001b[0m\u001b[38;5;249mt\u001b[0m\u001b[38;5;249m \u001b[0m\u001b[38;5;37mm\u001b[0m\u001b[38;5;37mu\u001b[0m\u001b[38;5;37mt\u001b[0m\u001b[38;5;37m \u001b[0m\u001b[38;5;37ms\u001b[0m\u001b[38;5;249m:\u001b[0m\u001b[38;5;249m \u001b[0m\u001b[38;5;249mS\u001b[0m\u001b[38;5;249mt\u001b[0m\u001b[38;5;249mr\u001b[0m\u001b[38;5;249mi\u001b[0m\u001b[38;5;249mn\u001b[0m\u001b[38;5;249mg\u001b[0m\u001b[38;5;249m \u001b[0m\u001b[38;5;249m=\u001b[0m\u001b[38;5;249m \u001b[0m\u001b[38;5;249m\"\u001b[0m\u001b[38;5;249m4\u001b[0m\u001b[38;5;249m2\u001b[0m\u001b[38;5;249m\"\u001b[0m\u001b[38;5;249m.\u001b[0m\u001b[38;5;249mt\u001b[0m\u001b[38;5;249mo\u001b[0m\u001b[38;5;249m_\u001b[0m\u001b[38;5;249mo\u001b[0m\u001b[38;5;249mw\u001b[0m\u001b[38;5;249mn\u001b[0m\u001b[38;5;249me\u001b[0m\u001b[38;5;249md\u001b[0m\u001b[38;5;249m(\u001b[0m\u001b[38;5;249m)\u001b[0m\u001b[38;5;249m;\u001b[0m",
      " \u001b[38;5;246m   ·\u001b[0m         \u001b[38;5;37m─\u001b[0m\u001b[38;5;37m─\u001b[0m\u001b[38;5;37m┬\u001b[0m\u001b[38;5;37m─\u001b[0m\u001b[38;5;37m─\u001b[0m  ",
      " \u001b[38;5;246m   ·\u001b[0m           \u001b[38;5;37m╰\u001b[0m\u001b[38;5;37m─\u001b[0m\u001b[38;5;37m─\u001b[0m\u001b[38;5;37m─\u001b[0m\u001b[38;5;37m─\u001b[0m move occurs because `s` has type `String`, which does not implement the `Copy` trait",
      " \u001b[38;5;246m12 │\u001b[0m \u001b[38;5;249m \u001b[0m\u001b[38;5;249m \u001b[0m\u001b[38;5;249m \u001b[0m\u001b[38;5;249m \u001b[0m\u001b[38;5;249ml\u001b[0m\u001b[38;5;249me\u001b[0m\u001b[38;5;249mt\u001b[0m\u001b[38;5;249m \u001b[0m\u001b[38;5;249m_\u001b[0m\u001b[38;5;249mt\u001b[0m\u001b[38;5;249m \u001b[0m\u001b[38;5;249m=\u001b[0m\u001b[38;5;249m \u001b[0m\u001b[38;5;249ms\u001b[0m\u001b[38;5;249mt\u001b[0m\u001b[38;5;249md\u001b[0m\u001b[38;5;249m:\u001b[0m\u001b[38;5;249m:\u001b[0m\u001b[38;5;249mt\u001b[0m\u001b[38;5;249mh\u001b[0m\u001b[38;5;249mr\u001b[0m\u001b[38;5;249me\u001b[0m\u001b[38;5;249ma\u001b[0m\u001b[38;5;249md\u001b[0m\u001b[38;5;249m:\u001b[0m\u001b[38;5;249m:\u001b[0m\u001b[38;5;249ms\u001b[0m\u001b[38;5;249mp\u001b[0m\u001b[38;5;249ma\u001b[0m\u001b[38;5;249mw\u001b[0m\u001b[38;5;249mn\u001b[0m\u001b[38;5;249m(\u001b[0m\u001b[38;5;54mm\u001b[0m\u001b[38;5;54mo\u001b[0m\u001b[38;5;54mv\u001b[0m\u001b[38;5;54me\u001b[0m\u001b[38;5;54m \u001b[0m\u001b[38;5;54m|\u001b[0m\u001b[38;5;54m|\u001b[0m\u001b[38;5;249m \u001b[0m\u001b[38;5;249m{\u001b[0m",
      " \u001b[38;5;246m   ·\u001b[0m                                 \u001b[38;5;54m─\u001b[0m\u001b[38;5;54m─\u001b[0m\u001b[38;5;54m─\u001b[0m\u001b[38;5;54m┬\u001b[0m\u001b[38;5;54m─\u001b[0m\u001b[38;5;54m─\u001b[0m\u001b[38;5;54m─\u001b[0m  ",
      " \u001b[38;5;246m   ·\u001b[0m                                    \u001b[38;5;54m╰\u001b[0m\u001b[38;5;54m─\u001b[0m\u001b[38;5;54m─\u001b[0m\u001b[38;5;54m─\u001b[0m\u001b[38;5;54m─\u001b[0m\u001b[38;5;54m─\u001b[0m value moved into closure here",
      " \u001b[38;5;246m13 │\u001b[0m \u001b[38;5;249m \u001b[0m\u001b[38;5;249m \u001b[0m\u001b[38;5;249m \u001b[0m\u001b[38;5;249m \u001b[0m\u001b[38;5;249m \u001b[0m\u001b[38;5;249m \u001b[0m\u001b[38;5;249m \u001b[0m\u001b[38;5;249m \u001b[0m\u001b[38;5;249md\u001b[0m\u001b[38;5;249mb\u001b[0m\u001b[38;5;249mg\u001b[0m\u001b[38;5;249m!\u001b[0m\u001b[38;5;249m(\u001b[0m\u001b[38;5;249m&\u001b[0m\u001b[38;5;100ms\u001b[0m\u001b[38;5;249m)\u001b[0m\u001b[38;5;249m;\u001b[0m",
      " \u001b[38;5;246m   ·\u001b[0m               \u001b[38;5;100m┬\u001b[0m  ",
      " \u001b[38;5;246m   ·\u001b[0m               \u001b[38;5;100m╰\u001b[0m\u001b[38;5;100m─\u001b[0m\u001b[38;5;100m─\u001b[0m variable moved due to use in closure",
      " \u001b[38;5;246m   ·\u001b[0m ",
      " \u001b[38;5;246m17 │\u001b[0m \u001b[38;5;249m \u001b[0m\u001b[38;5;249m \u001b[0m\u001b[38;5;249m \u001b[0m\u001b[38;5;249m \u001b[0m\u001b[38;5;68ms\u001b[0m\u001b[38;5;68m.\u001b[0m\u001b[38;5;68mp\u001b[0m\u001b[38;5;68mu\u001b[0m\u001b[38;5;68ms\u001b[0m\u001b[38;5;68mh\u001b[0m\u001b[38;5;68m_\u001b[0m\u001b[38;5;68ms\u001b[0m\u001b[38;5;68mt\u001b[0m\u001b[38;5;68mr\u001b[0m\u001b[38;5;68m(\u001b[0m\u001b[38;5;68m\"\u001b[0m\u001b[38;5;68m2\u001b[0m\u001b[38;5;68m2\u001b[0m\u001b[38;5;68m\"\u001b[0m\u001b[38;5;68m)\u001b[0m\u001b[38;5;249m;\u001b[0m",
      " \u001b[38;5;246m   ·\u001b[0m     \u001b[38;5;68m─\u001b[0m\u001b[38;5;68m─\u001b[0m\u001b[38;5;68m─\u001b[0m\u001b[38;5;68m─\u001b[0m\u001b[38;5;68m─\u001b[0m\u001b[38;5;68m─\u001b[0m\u001b[38;5;68m─\u001b[0m\u001b[38;5;68m─\u001b[0m\u001b[38;5;68m┬\u001b[0m\u001b[38;5;68m─\u001b[0m\u001b[38;5;68m─\u001b[0m\u001b[38;5;68m─\u001b[0m\u001b[38;5;68m─\u001b[0m\u001b[38;5;68m─\u001b[0m\u001b[38;5;68m─\u001b[0m\u001b[38;5;68m─\u001b[0m  ",
      " \u001b[38;5;246m   ·\u001b[0m             \u001b[38;5;68m╰\u001b[0m\u001b[38;5;68m─\u001b[0m\u001b[38;5;68m─\u001b[0m\u001b[38;5;68m─\u001b[0m\u001b[38;5;68m─\u001b[0m\u001b[38;5;68m─\u001b[0m\u001b[38;5;68m─\u001b[0m\u001b[38;5;68m─\u001b[0m\u001b[38;5;68m─\u001b[0m\u001b[38;5;68m─\u001b[0m value borrowed here after move",
      "\u001b[38;5;246m────╯\u001b[0m"
     ]
    }
   ],
   "source": [
    "fn main() {\n",
    "    let mut data: i32 = 42;\n",
    "    let _t = std::thread::spawn(move || {\n",
    "        dbg!(data);\n",
    "        data = 11;\n",
    "        dbg!(data);\n",
    "    });\n",
    "    data = 22;\n",
    "    dbg!(data);\n",
    "\n",
    "    let mut s: String = \"42\".to_owned();\n",
    "    let _t = std::thread::spawn(move || {\n",
    "        dbg!(&s);\n",
    "        s.push_str(\"11\");\n",
    "        dbg!(&s);\n",
    "    });\n",
    "    s.push_str(\"22\");\n",
    "    dbg!(&s);   \n",
    "}"
   ]
  },
  {
   "cell_type": "markdown",
   "id": "distinct-treaty",
   "metadata": {
    "deletable": false,
    "editable": false,
    "solution2": "hidden"
   },
   "source": [
    "Puisqu'une String n'est pas Copy, ma String s a été déplacée dans le thread qui a été crée. J'ai deux possibilités :\n",
    "\n",
    "- Soit je renonce a utiliser la string s dans mon main() après avoir lancé le thread.\n",
    "- Soit je fais un clone de s et j'envoie le clone à mon thread (ou le contraire)."
   ]
  },
  {
   "cell_type": "markdown",
   "id": "positive-investigator",
   "metadata": {
    "deletable": false,
    "editable": false
   },
   "source": [
    "## Le MPSC"
   ]
  },
  {
   "cell_type": "markdown",
   "id": "western-laser",
   "metadata": {
    "deletable": false,
    "editable": false
   },
   "source": [
    "- Dans cette partie, nous allons voir comment monter un programme multi thread en Rust. En plus du thread main, nous allons créer deux threads, un content et un pas content qui panic. Et plutôt que d'utiliser un bête mutex que vous avez déjà rencontré mille fois dans votre expérience de programmeur, nous allons utiliser un MPSC. Multiple Producer, Single Consumer. Nous ne chercherons pas non plus à joindre les threads, c'est trop banal aussi."
   ]
  },
  {
   "cell_type": "markdown",
   "id": "plastic-vocabulary",
   "metadata": {
    "deletable": false,
    "editable": false
   },
   "source": [
    "### Description"
   ]
  },
  {
   "cell_type": "markdown",
   "id": "certified-scene",
   "metadata": {
    "deletable": false,
    "editable": false
   },
   "source": [
    "![MPSC](pictures/mpsc.png)"
   ]
  },
  {
   "cell_type": "markdown",
   "id": "narrative-suggestion",
   "metadata": {
    "deletable": false,
    "editable": false
   },
   "source": [
    "> Un MPSC est déjà thread safe, il est protégé en interne par un Mutex ou un sémaphore ou autre...Il faut regarder dans le code de la STD pour savoir ça ! Mais il est thread safe en tout cas.\n",
    "\n",
    "> C'est un canal de communication, le pattern habituel consiste a donner un SENDER à chaque thread crées en plus du main() et d'utiliser le RECEIVER dans le thread principal. RECEIVER qui lui est unique. Single Receiver...\n",
    "\n",
    ">```\n",
    ">pub fn channel<T>() -> (Sender<T>, Receiver<T>)\n",
    ">```"
   ]
  },
  {
   "cell_type": "markdown",
   "id": "nutritional-college",
   "metadata": {
    "deletable": false,
    "editable": false
   },
   "source": [
    "La fonction channel() retourne un Sender et un Receiver. Notez le generic T. Cela implique que l'on peut envoyer ou recevoir le type de donnée que l'on veut. Ici, nous allons renvoyer un tuple (enum + threadId) afin de passer un message ainsi que de connaître son producteur.\n",
    "\n",
    "Il existe peut être déjà une méthode sur le Receiver pour voir le threadID..."
   ]
  },
  {
   "cell_type": "markdown",
   "id": "wired-missouri",
   "metadata": {
    "deletable": false,
    "editable": false
   },
   "source": [
    "### Initialisation"
   ]
  },
  {
   "cell_type": "markdown",
   "id": "passive-patch",
   "metadata": {
    "deletable": false,
    "editable": false
   },
   "source": [
    "- Pour obtenir le Receiver et le Sender, on procède donc ainsi en précisant bien le type de donnée que l'on va transmettre. Notez que l'on clone déjà le sender car on sait qu'on va l'envoyer à deux threads. Autant cloner tant que le fer est chaud :"
   ]
  },
  {
   "cell_type": "code",
   "execution_count": 13,
   "id": "portuguese-perth",
   "metadata": {
    "deletable": false,
    "editable": false
   },
   "outputs": [],
   "source": [
    "use std::sync::mpsc;\n",
    "use std::thread::ThreadId;\n",
    "\n",
    "#[derive(Debug, Copy, Clone)]\n",
    "enum Event {\n",
    "    Hello,\n",
    "    HelloAgain,\n",
    "    IWantToStop,\n",
    "}\n",
    "\n",
    "fn main() {\n",
    "    let (sender, receiver): (\n",
    "        mpsc::Sender<(Event, ThreadId)>,\n",
    "        mpsc::Receiver<(Event, ThreadId)>,\n",
    "    ) = mpsc::channel();\n",
    "    let sender2 = sender.clone();\n",
    "}"
   ]
  },
  {
   "cell_type": "markdown",
   "id": "separated-piece",
   "metadata": {
    "deletable": false,
    "editable": false
   },
   "source": [
    "### Création des threads"
   ]
  },
  {
   "cell_type": "markdown",
   "id": "variable-fundamental",
   "metadata": {
    "deletable": false,
    "editable": false
   },
   "source": [
    "- Aussi simple que ça: Notez le move et la closure || pour y penser plus tard. Un jour ces notions vous paraîtront clairs mais ne sont pas utiles pour l'instant :"
   ]
  },
  {
   "cell_type": "code",
   "execution_count": 12,
   "id": "greatest-intermediate",
   "metadata": {
    "deletable": false,
    "editable": false
   },
   "outputs": [],
   "source": [
    "let _happy_thread = std::thread::spawn(move || { \n",
    "});\n",
    "\n",
    "let _bad_thread = std::thread::spawn(move || { \n",
    "});"
   ]
  },
  {
   "cell_type": "markdown",
   "id": "paperback-setting",
   "metadata": {
    "deletable": false,
    "editable": false
   },
   "source": [
    "- Voici des exemples d'utilisation du sender, dans le thread 1 et 2 respectifs :\n",
    "\n",
    "**thread 1**\n",
    "```\n",
    "sender\n",
    "    .send((Event::HelloAgain, thread::current().id()))\n",
    "    .unwrap();\n",
    "```\n",
    "\n",
    "**thread 2**\n",
    "```\n",
    "sender2\n",
    "    .send((Event::Hello, thread::current().id()))\n",
    "    .unwrap();\n",
    "```\n",
    "\n",
    "- Et voici le code du receiver du thread principal :\n",
    "```\n",
    "loop {\n",
    "    let (msg, id) = receiver.recv().unwrap();\n",
    "    // if condition, break\n",
    "}\n",
    "```"
   ]
  },
  {
   "cell_type": "markdown",
   "id": "reserved-valuable",
   "metadata": {
    "deletable": false,
    "editable": false
   },
   "source": [
    "> Il attend un message, l'appel est dit bloquant et fait un tour de loop jusqu'au next...."
   ]
  },
  {
   "cell_type": "markdown",
   "id": "average-variety",
   "metadata": {
    "deletable": false,
    "editable": false
   },
   "source": [
    "### Exécuter quelque chose dans son code\n",
    "\n",
    "> L’idée peut être pour continuer et de faire communiquer régulièrement les threads, en attendant un peu entre chaque message grâce au sleep() :\n",
    "\n",
    "![SLEEP](pictures/sleep.png)\n",
    "\n",
    "> Peut être aussi quitter le programme quand un des threads nous dit qu'il en peut plus. (3e variant de l'enum...)\n",
    "\n",
    "> Ou afficher le threadId pour savoir qui est vient de parler...\n",
    "\n",
    "\n",
    "> Voir même faire panic! Un thread autre que le principal au bout d'un certain temps pour voir comment le programme se comporte !"
   ]
  },
  {
   "cell_type": "code",
   "execution_count": 11,
   "id": "visible-madonna",
   "metadata": {
    "deletable": false,
    "editable": false
   },
   "outputs": [
    {
     "name": "stderr",
     "output_type": "stream",
     "text": [
      "thread '<unnamed>' panicked at 'sa mere', src/lib.rs:168:1\n",
      "stack backtrace:\n",
      "   0: rust_begin_unwind\n",
      "             at /rustc/8460ca823e8367a30dda430efda790588b8c84d3/library/std/src/panicking.rs:575:5\n",
      "   1: core::panicking::panic_fmt\n",
      "             at /rustc/8460ca823e8367a30dda430efda790588b8c84d3/library/core/src/panicking.rs:64:14\n",
      "   2: <unknown>\n",
      "   3: <unknown>\n",
      "   4: evcxr::runtime::Runtime::run_loop\n",
      "   5: evcxr::runtime::runtime_hook\n",
      "   6: evcxr_jupyter::main\n",
      "note: Some details are omitted, run with `RUST_BACKTRACE=full` for a verbose backtrace.\n"
     ]
    }
   ],
   "source": [
    "panic!(\"sa mere\");"
   ]
  },
  {
   "cell_type": "markdown",
   "id": "separate-boundary",
   "metadata": {
    "deletable": false,
    "editable": false
   },
   "source": [
    "**NB** Ce serait dommage qu'un thread se termine tout juste après sa création ..."
   ]
  },
  {
   "cell_type": "markdown",
   "id": "vocal-logging",
   "metadata": {
    "deletable": false,
    "editable": false
   },
   "source": [
    "### Code complet"
   ]
  },
  {
   "cell_type": "code",
   "execution_count": 10,
   "id": "opened-consent",
   "metadata": {
    "deletable": false,
    "editable": false
   },
   "outputs": [
    {
     "name": "stdout",
     "output_type": "stream",
     "text": [
      "message recu: Hello de ThreadId(7)\n",
      "message recu: Hello de ThreadId(8)\n",
      "message recu: HelloAgain de ThreadId(7)\n",
      "message recu: HelloAgain de ThreadId(7)\n"
     ]
    },
    {
     "name": "stderr",
     "output_type": "stream",
     "text": [
      "thread '<unnamed>' panicked at 'sa mere', src/lib.rs:46:9\n",
      "stack backtrace:\n",
      "thread '<unnamed>' panicked at 'called `Result::unwrap()` on an `Err` value: SendError { .. }', src/lib.rs:34:18\n"
     ]
    },
    {
     "name": "stdout",
     "output_type": "stream",
     "text": [
      "message recu: IWantToStop de ThreadId(8)\n",
      "A thread want to stop\n",
      "Exiting Main thread normallu. Bye\n"
     ]
    },
    {
     "data": {
      "text/plain": [
       "()"
      ]
     },
     "execution_count": 10,
     "metadata": {},
     "output_type": "execute_result"
    },
    {
     "name": "stderr",
     "output_type": "stream",
     "text": [
      "   0: rust_begin_unwind\n",
      "             at /rustc/8460ca823e8367a30dda430efda790588b8c84d3/library/std/src/panicking.rs:575:5\n",
      "   1: core::panicking::panic_fmt\n",
      "             at /rustc/8460ca823e8367a30dda430efda790588b8c84d3/library/core/src/panicking.rs:64:14\n",
      "note: Some details are omitted, run with `RUST_BACKTRACE=full` for a verbose backtrace.\n",
      "stack backtrace:\n",
      "   0: rust_begin_unwind\n",
      "             at /rustc/8460ca823e8367a30dda430efda790588b8c84d3/library/std/src/panicking.rs:575:5\n",
      "   1: core::panicking::panic_fmt\n",
      "             at /rustc/8460ca823e8367a30dda430efda790588b8c84d3/library/core/src/panicking.rs:64:14\n",
      "   2: core::result::unwrap_failed\n",
      "             at /rustc/8460ca823e8367a30dda430efda790588b8c84d3/library/core/src/result.rs:1790:5\n",
      "note: Some details are omitted, run with `RUST_BACKTRACE=full` for a verbose backtrace.\n"
     ]
    }
   ],
   "source": [
    "use std::sync::mpsc;\n",
    "use std::thread::ThreadId;\n",
    "use std::{thread, time};\n",
    "\n",
    "#[derive(Debug, Copy, Clone)]\n",
    "enum Event {\n",
    "    Hello,\n",
    "    HelloAgain,\n",
    "    IWantToStop,\n",
    "}\n",
    "\n",
    "fn main() {\n",
    "    let (sender, receiver): (\n",
    "        mpsc::Sender<(Event, ThreadId)>,\n",
    "        mpsc::Receiver<(Event, ThreadId)>,\n",
    "    ) = mpsc::channel();\n",
    "    let sender2 = sender.clone();\n",
    "\n",
    "    let three_seconds = time::Duration::from_millis(3000);\n",
    "\n",
    "    let _happy_thread = thread::spawn(move || {\n",
    "        sender.send((Event::Hello, thread::current().id())).unwrap();\n",
    "        loop {\n",
    "            thread::sleep(three_seconds);\n",
    "            sender\n",
    "                .send((Event::HelloAgain, thread::current().id()))\n",
    "                .unwrap();\n",
    "        }\n",
    "    });\n",
    "\n",
    "    let _bad_thread = thread::spawn(move || {\n",
    "        sender2\n",
    "            .send((Event::Hello, thread::current().id()))\n",
    "            .unwrap();\n",
    "        thread::sleep(three_seconds * 3);\n",
    "        sender2\n",
    "            .send((Event::IWantToStop, thread::current().id()))\n",
    "            .unwrap();\n",
    "        panic!(\"sa mere\");\n",
    "    });\n",
    "\n",
    "    loop {\n",
    "        let (msg, id) = receiver.recv().unwrap();\n",
    "        println!(\"message recu: {:?} de {:?}\", msg, id);\n",
    "        if let Event::IWantToStop = msg {\n",
    "            println!(\"A thread want to stop\");\n",
    "            break;\n",
    "        }\n",
    "    }\n",
    "    println!(\"Exiting Main thread normallu. Bye\");\n",
    "}\n",
    "main()"
   ]
  },
  {
   "cell_type": "markdown",
   "id": "chicken-spouse",
   "metadata": {
    "deletable": false,
    "editable": false
   },
   "source": [
    "> Le panic est recherché dans le code !"
   ]
  },
  {
   "cell_type": "markdown",
   "id": "inside-closing",
   "metadata": {
    "deletable": false,
    "editable": false
   },
   "source": [
    "**N'oubliez pas que Rust est extrêmement puissant dans la gestion de ses threads, ce n'est pas pour rien que l'on parle de programmation concurrente.  Tant qu'il n'y a pas de code explicitement unsafe, les threads tiennent bon. Les règles strictes de Rust qui nous font maudire ce langage lorsque nous sommes en monothreads sont de vraies bénédictions en environnement multithreaded.**"
   ]
  },
  {
   "cell_type": "markdown",
   "id": "incorporated-matter",
   "metadata": {
    "deletable": false,
    "editable": false
   },
   "source": [
    "## Le trait Send"
   ]
  },
  {
   "cell_type": "markdown",
   "id": "blessed-diana",
   "metadata": {
    "deletable": false,
    "editable": false
   },
   "source": [
    "- Rust détermine les types qui peuvent être passés a un thread **en fonction de s'ils implémentent le trait Send**. Aussi, si une structure possède plusieurs éléments qui implémentent tous le trait Send, le compilateur considéra que la structure est Send, on appelle cela un **AUTO trait** :"
   ]
  },
  {
   "cell_type": "code",
   "execution_count": 9,
   "id": "growing-debut",
   "metadata": {
    "deletable": false,
    "editable": false
   },
   "outputs": [
    {
     "name": "stderr",
     "output_type": "stream",
     "text": [
      "[src/lib.rs:123] s = S {\n",
      "    i: 1,\n",
      "    j: 2,\n",
      "    k: \"toto\",\n",
      "}\n"
     ]
    }
   ],
   "source": [
    "// Tous les types contenus ici sont Send\n",
    "#[derive(Debug)]\n",
    "struct S {\n",
    "    i: u8,\n",
    "    j: u8,\n",
    "    k: String,\n",
    "}\n",
    "let s = S {\n",
    "    i: 1,\n",
    "    j: 2,\n",
    "    k: \"toto\".to_string(),\n",
    "};\n",
    "let _t = std::thread::spawn(move || {\n",
    "    dbg!(s);\n",
    "});"
   ]
  },
  {
   "cell_type": "markdown",
   "id": "suitable-chamber",
   "metadata": {
    "deletable": false,
    "editable": false
   },
   "source": [
    "- Il y a quelques types qui ne sont pas Send comme les raw pointers, ou les RC ou simple Reference Counter (a ne pas confondre avec les ARC). Si l'on veut vraiment passer ces types à un thread, l'on sera obligé d'implémenter Send manuellement pour une structure englobant ces types, cette instruction est par nature UNSAFE :"
   ]
  },
  {
   "cell_type": "code",
   "execution_count": 8,
   "id": "three-defeat",
   "metadata": {
    "deletable": false,
    "editable": false
   },
   "outputs": [
    {
     "ename": "Error",
     "evalue": "`*const u8` cannot be sent between threads safely",
     "output_type": "error",
     "traceback": [
      "\u001b[31m[E0277] Error:\u001b[0m `*const u8` cannot be sent between threads safely",
      "    \u001b[38;5;246m╭\u001b[0m\u001b[38;5;246m─\u001b[0m\u001b[38;5;246m[\u001b[0mcommand_8:1:1\u001b[38;5;246m]\u001b[0m",
      "    \u001b[38;5;246m│\u001b[0m",
      " \u001b[38;5;246m 3 │\u001b[0m     \u001b[38;5;249ms\u001b[0m\u001b[38;5;249mt\u001b[0m\u001b[38;5;249mr\u001b[0m\u001b[38;5;249mu\u001b[0m\u001b[38;5;249mc\u001b[0m\u001b[38;5;249mt\u001b[0m\u001b[38;5;249m \u001b[0m\u001b[38;5;37mS\u001b[0m\u001b[38;5;37m1\u001b[0m\u001b[38;5;249m \u001b[0m\u001b[38;5;249m{\u001b[0m",
      " \u001b[38;5;246m   ·\u001b[0m            \u001b[38;5;37m─\u001b[0m\u001b[38;5;37m┬\u001b[0m  ",
      " \u001b[38;5;246m   ·\u001b[0m             \u001b[38;5;37m╰\u001b[0m\u001b[38;5;37m─\u001b[0m\u001b[38;5;37m─\u001b[0m note: required because it appears within the type `S1`",
      " \u001b[38;5;246m   ·\u001b[0m ",
      " \u001b[38;5;246m 9 │\u001b[0m \u001b[38;5;54m╭\u001b[0m\u001b[38;5;54m─\u001b[0m\u001b[38;5;54m▶\u001b[0m\u001b[38;5;54m \u001b[0m\u001b[38;5;249ml\u001b[0m\u001b[38;5;249me\u001b[0m\u001b[38;5;249mt\u001b[0m\u001b[38;5;249m \u001b[0m\u001b[38;5;249m_\u001b[0m\u001b[38;5;249mt\u001b[0m\u001b[38;5;249m \u001b[0m\u001b[38;5;249m=\u001b[0m\u001b[38;5;249m \u001b[0m\u001b[38;5;68ms\u001b[0m\u001b[38;5;68mt\u001b[0m\u001b[38;5;68md\u001b[0m\u001b[38;5;68m:\u001b[0m\u001b[38;5;68m:\u001b[0m\u001b[38;5;68mt\u001b[0m\u001b[38;5;68mh\u001b[0m\u001b[38;5;68mr\u001b[0m\u001b[38;5;68me\u001b[0m\u001b[38;5;68ma\u001b[0m\u001b[38;5;68md\u001b[0m\u001b[38;5;68m:\u001b[0m\u001b[38;5;68m:\u001b[0m\u001b[38;5;68ms\u001b[0m\u001b[38;5;68mp\u001b[0m\u001b[38;5;68ma\u001b[0m\u001b[38;5;68mw\u001b[0m\u001b[38;5;68mn\u001b[0m\u001b[38;5;249m(\u001b[0m\u001b[38;5;100mm\u001b[0m\u001b[38;5;100mo\u001b[0m\u001b[38;5;100mv\u001b[0m\u001b[38;5;100me\u001b[0m\u001b[38;5;100m \u001b[0m\u001b[38;5;100m|\u001b[0m\u001b[38;5;100m|\u001b[0m\u001b[38;5;54m \u001b[0m\u001b[38;5;54m{\u001b[0m",
      " \u001b[38;5;246m   ·\u001b[0m \u001b[38;5;54m│\u001b[0m            \u001b[38;5;68m─\u001b[0m\u001b[38;5;68m─\u001b[0m\u001b[38;5;68m─\u001b[0m\u001b[38;5;68m─\u001b[0m\u001b[38;5;68m─\u001b[0m\u001b[38;5;68m─\u001b[0m\u001b[38;5;68m─\u001b[0m\u001b[38;5;68m─\u001b[0m\u001b[38;5;68m─\u001b[0m\u001b[38;5;68m┬\u001b[0m\u001b[38;5;68m─\u001b[0m\u001b[38;5;68m─\u001b[0m\u001b[38;5;68m─\u001b[0m\u001b[38;5;68m─\u001b[0m\u001b[38;5;68m─\u001b[0m\u001b[38;5;68m─\u001b[0m\u001b[38;5;68m─\u001b[0m\u001b[38;5;68m─\u001b[0m \u001b[38;5;100m─\u001b[0m\u001b[38;5;100m─\u001b[0m\u001b[38;5;100m─\u001b[0m\u001b[38;5;100m┬\u001b[0m\u001b[38;5;100m─\u001b[0m\u001b[38;5;100m─\u001b[0m\u001b[38;5;100m─\u001b[0m  ",
      " \u001b[38;5;246m   ·\u001b[0m \u001b[38;5;54m│\u001b[0m                     \u001b[38;5;68m╰\u001b[0m\u001b[38;5;68m─\u001b[0m\u001b[38;5;68m─\u001b[0m\u001b[38;5;68m─\u001b[0m\u001b[38;5;68m─\u001b[0m\u001b[38;5;68m─\u001b[0m\u001b[38;5;68m─\u001b[0m\u001b[38;5;68m─\u001b[0m\u001b[38;5;68m─\u001b[0m\u001b[38;5;68m─\u001b[0m\u001b[38;5;68m─\u001b[0m\u001b[38;5;68m─\u001b[0m\u001b[38;5;68m─\u001b[0m\u001b[38;5;68m─\u001b[0m\u001b[38;5;68m─\u001b[0m\u001b[38;5;68m─\u001b[0m\u001b[38;5;68m─\u001b[0m\u001b[38;5;68m─\u001b[0m\u001b[38;5;68m─\u001b[0m required by a bound introduced by this call",
      " \u001b[38;5;246m   ·\u001b[0m \u001b[38;5;54m│\u001b[0m                                  \u001b[38;5;100m│\u001b[0m     ",
      " \u001b[38;5;246m   ·\u001b[0m \u001b[38;5;54m│\u001b[0m                                  \u001b[38;5;100m╰\u001b[0m\u001b[38;5;100m─\u001b[0m\u001b[38;5;100m─\u001b[0m\u001b[38;5;100m─\u001b[0m\u001b[38;5;100m─\u001b[0m\u001b[38;5;100m─\u001b[0m within this `[closure@src/lib.rs:127:29: 127:36]`",
      " \u001b[38;5;246m   ·\u001b[0m \u001b[38;5;54m│\u001b[0m                                  \u001b[38;5;97m│\u001b[0m     ",
      " \u001b[38;5;246m   ·\u001b[0m \u001b[38;5;54m│\u001b[0m                                  \u001b[38;5;97m╰\u001b[0m\u001b[38;5;97m─\u001b[0m\u001b[38;5;97m─\u001b[0m\u001b[38;5;97m─\u001b[0m\u001b[38;5;97m─\u001b[0m\u001b[38;5;97m─\u001b[0m note: required because it's used within this closure",
      " \u001b[38;5;246m   ⋮\u001b[0m \u001b[38;5;54m⋮\u001b[0m   ",
      " \u001b[38;5;246m11 │\u001b[0m \u001b[38;5;54m├\u001b[0m\u001b[38;5;54m─\u001b[0m\u001b[38;5;54m▶\u001b[0m\u001b[38;5;54m \u001b[0m\u001b[38;5;54m}\u001b[0m\u001b[38;5;249m)\u001b[0m\u001b[38;5;249m;\u001b[0m",
      " \u001b[38;5;246m   ·\u001b[0m \u001b[38;5;54m│\u001b[0m         ",
      " \u001b[38;5;246m   ·\u001b[0m \u001b[38;5;54m╰\u001b[0m\u001b[38;5;54m─\u001b[0m\u001b[38;5;54m─\u001b[0m\u001b[38;5;54m─\u001b[0m\u001b[38;5;54m─\u001b[0m\u001b[38;5;54m─\u001b[0m\u001b[38;5;54m─\u001b[0m\u001b[38;5;54m─\u001b[0m\u001b[38;5;54m─\u001b[0m\u001b[38;5;54m─\u001b[0m `*const u8` cannot be sent between threads safely",
      " \u001b[38;5;246m   ·\u001b[0m     ",
      " \u001b[38;5;246m   ·\u001b[0m     \u001b[38;5;115mNote\u001b[0m: required by this bound in `spawn`",
      "\u001b[38;5;246m────╯\u001b[0m"
     ]
    }
   ],
   "source": [
    "// Un pointeur en rust n'est pas Send\n",
    "#[derive(Debug)]\n",
    "struct S1 {\n",
    "    ptr: *const u8,\n",
    "}\n",
    "let s1 = S1 {\n",
    "    ptr: std::ptr::null(),\n",
    "};\n",
    "let _t = std::thread::spawn(move || {\n",
    "    dbg!(s1);\n",
    "});"
   ]
  },
  {
   "cell_type": "markdown",
   "id": "based-welding",
   "metadata": {
    "deletable": false,
    "editable": false
   },
   "source": [
    "> Après ajout de l'implémentation unsafe du trait Send pour la struct s2 :"
   ]
  },
  {
   "cell_type": "code",
   "execution_count": 7,
   "id": "still-obligation",
   "metadata": {
    "deletable": false,
    "editable": false
   },
   "outputs": [
    {
     "name": "stderr",
     "output_type": "stream",
     "text": [
      "[src/lib.rs:115] s2 = S2 {\n",
      "    ptr: 0x0000000000000000,\n",
      "}\n"
     ]
    }
   ],
   "source": [
    "// Un pointeur en rust n'est pas Send\n",
    "#[derive(Debug)]\n",
    "struct S2 {\n",
    "    ptr: *const u8,\n",
    "}\n",
    "\n",
    "unsafe impl Send for S2 {} // AJOUT POUR QUE CA COMPILE\n",
    "\n",
    "let s2 = S2 {\n",
    "    ptr: std::ptr::null(),\n",
    "};\n",
    "let _t = std::thread::spawn(move || {\n",
    "    dbg!(s2);\n",
    "});"
   ]
  },
  {
   "cell_type": "markdown",
   "id": "saved-lloyd",
   "metadata": {
    "deletable": false,
    "editable": false
   },
   "source": [
    "> Comme tout ce qui est `unsafe`, le codeur doit en assumer les risques ! Il peut y avoir de bonnes raisons ici qu'un pointeur ne soit pas Send !"
   ]
  }
 ],
 "metadata": {
  "kernelspec": {
   "display_name": "Rust",
   "language": "rust",
   "name": "rust"
  },
  "language_info": {
   "codemirror_mode": "rust",
   "file_extension": ".rs",
   "mimetype": "text/rust",
   "name": "Rust",
   "pygment_lexer": "rust",
   "version": ""
  },
  "toc": {
   "base_numbering": 1,
   "nav_menu": {},
   "number_sections": true,
   "sideBar": true,
   "skip_h1_title": false,
   "title_cell": "Table of Contents",
   "title_sidebar": "Contents",
   "toc_cell": false,
   "toc_position": {},
   "toc_section_display": true,
   "toc_window_display": false
  }
 },
 "nbformat": 4,
 "nbformat_minor": 5
}
