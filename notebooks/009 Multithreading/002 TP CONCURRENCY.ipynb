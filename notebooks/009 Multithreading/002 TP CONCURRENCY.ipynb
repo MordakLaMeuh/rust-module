{
 "cells": [
  {
   "cell_type": "markdown",
   "id": "advance-lounge",
   "metadata": {
    "deletable": false,
    "editable": false
   },
   "source": [
    "#  ___TP Concurrency___\n",
    "\n",
    "---\n",
    "\n",
    "Dans ce TP, vous devrez faire un petit programme qui ne contient qu'un seul fichier main.rs (Généré\n",
    "par Cargo). Ce programme ne prend pas d'argument et contient, en dans la fonction main(), la création d'un nouveau thread qui devra partager une ressource avec le thread du main. \n",
    "\n",
    "- **NB** Si vous ne voulez pas installer Rust directement sur votre machine, vous pouvez ouvrir un terminal à partir de la page d'accueil de Jupyter. Une fois ouvert, faites `cd programs/concurrency` pour vous rendre à la racine du projet iterator et testez. Aussi, le code peut se rédiger directement dans Jupyter en allant dans le dossier `programs` de la partie `008 Multithreading`. Vous pouvez aussi utiliser votre éditeur de code à partir de votre machine hôte, les sources du programme se trouvent dans le path `Desktop/programs/concurrency`."
   ]
  },
  {
   "cell_type": "markdown",
   "id": "assured-priest",
   "metadata": {
    "deletable": false,
    "editable": false
   },
   "source": [
    "**CONSIGNE**\n",
    "\n",
    "> - Le programme doit contenir 2 thread en tout.\n",
    "> - Créer une structure de votre choix.\n",
    "> - Les deux threads doivent pouvoir écrire et lire la meme instance de cette structure.\n",
    "> - Il est interdit d'utiliser des variables globales, et toute sorte de code unsafe."
   ]
  }
 ],
 "metadata": {
  "kernelspec": {
   "display_name": "Rust",
   "language": "rust",
   "name": "rust"
  },
  "language_info": {
   "codemirror_mode": "rust",
   "file_extension": ".rs",
   "mimetype": "text/rust",
   "name": "Rust",
   "pygment_lexer": "rust",
   "version": ""
  },
  "toc": {
   "base_numbering": "2",
   "nav_menu": {
    "height": "63px",
    "width": "830px"
   },
   "number_sections": true,
   "sideBar": true,
   "skip_h1_title": false,
   "title_cell": "Table of Contents",
   "title_sidebar": "Contents",
   "toc_cell": false,
   "toc_position": {
    "height": "calc(100% - 180px)",
    "left": "10px",
    "top": "150px",
    "width": "352px"
   },
   "toc_section_display": true,
   "toc_window_display": false
  }
 },
 "nbformat": 4,
 "nbformat_minor": 5
}
