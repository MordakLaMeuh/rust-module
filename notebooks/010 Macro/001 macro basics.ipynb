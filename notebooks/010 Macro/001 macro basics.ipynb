{
 "cells": [
  {
   "cell_type": "markdown",
   "id": "sustained-quest",
   "metadata": {
    "deletable": false,
    "editable": false
   },
   "source": [
    "# ___Les Macros___\n",
    "\n",
    "---\n",
    "\n",
    "- Cette partie traite très brièvement des macros en Rust et donne les principes généraux afin de mener à bien leur création. (Il ne s'agit pas ici de macro-procédurale)."
   ]
  },
  {
   "cell_type": "markdown",
   "id": "contrary-atlas",
   "metadata": {
    "deletable": false,
    "editable": false
   },
   "source": [
    "## La macro Hello World (Exemple de RustByExample)"
   ]
  },
  {
   "cell_type": "code",
   "execution_count": 8,
   "id": "above-evanescence",
   "metadata": {
    "deletable": false,
    "editable": false
   },
   "outputs": [
    {
     "name": "stdout",
     "output_type": "stream",
     "text": [
      "Hello World!\n"
     ]
    },
    {
     "data": {
      "text/plain": [
       "()"
      ]
     },
     "execution_count": 8,
     "metadata": {},
     "output_type": "execute_result"
    }
   ],
   "source": [
    "// Une simple macro nommée `say_hello_world`.\n",
    "#[macro_export]\n",
    "macro_rules! say_hello_world {\n",
    "    // `()` indique que la macro ne prend aucun argument.\n",
    "    () => (\n",
    "        // La macro étendra le contenu de ce bloc.\n",
    "        println!(\"Hello World!\");\n",
    "    )\n",
    "}\n",
    "\n",
    "fn main() {\n",
    "    // Cet appel va étendre `println!(\"Hello World\");`.\n",
    "    say_hello_world!()\n",
    "}\n",
    "main()"
   ]
  },
  {
   "cell_type": "markdown",
   "id": "plastic-budapest",
   "metadata": {
    "deletable": false,
    "editable": false
   },
   "source": [
    "**Sortie standard du programme :**\n",
    ">```\n",
    ">    Finished dev [unoptimized + debuginfo] target(s) in 0.19s\n",
    ">    Running `target/debug/simple_macro`\n",
    "> Hello World!\n",
    ">```"
   ]
  },
  {
   "cell_type": "markdown",
   "id": "declared-westminster",
   "metadata": {
    "deletable": false,
    "editable": false
   },
   "source": [
    "**NB** Il existe des règles spécifiques d'export et d'import de macro en Rust depuis d'autres fichiers et des dépendances."
   ]
  },
  {
   "cell_type": "markdown",
   "id": "incredible-ideal",
   "metadata": {
    "deletable": false,
    "editable": false
   },
   "source": [
    "## Macro sur une seule ligne"
   ]
  },
  {
   "cell_type": "code",
   "execution_count": 33,
   "id": "adult-completion",
   "metadata": {
    "deletable": false,
    "editable": false
   },
   "outputs": [
    {
     "name": "stdout",
     "output_type": "stream",
     "text": [
      "\n",
      "42 banane(s)\n",
      "Toto21\n"
     ]
    },
    {
     "data": {
      "text/plain": [
       "()"
      ]
     },
     "execution_count": 33,
     "metadata": {},
     "output_type": "execute_result"
    }
   ],
   "source": [
    "/// Prints to the host through the serial interface, appending a newline.\n",
    "#[macro_export]\n",
    "macro_rules! serial_println {\n",
    "    () => (print!(\"\\n\"));\n",
    "    ($fmt:expr, $($arg:tt)*) => (print!(concat!($fmt, \"\\n\"), $($arg)*));\n",
    "    ($fmt:expr) => (print!(concat!($fmt, \"\\n\")));\n",
    "}\n",
    "\n",
    "fn main() {\n",
    "    /// Vide\n",
    "    /// -> Juste un simple retour a la ligne\n",
    "    serial_println!();\n",
    "\n",
    "    /// Une chaine de caractere avec des arguments\n",
    "    /// Affixher la chaine en developpant les arguments\n",
    "    serial_println!(\"{} banane(s)\", 42);\n",
    "\n",
    "    // Une chaine de caractere seule\n",
    "    // Afficher la chaine de caractere\n",
    "    serial_println!(\"Toto21\");\n",
    "}\n",
    "main()"
   ]
  },
  {
   "cell_type": "markdown",
   "id": "academic-migration",
   "metadata": {
    "deletable": false,
    "editable": false
   },
   "source": [
    "En entrée: Avant le `=>`\n",
    "\n",
    ">- `()` veut dire vide.\n",
    ">- `$var_name::expr` veut dire \"expression formatée\", chaine de caractère quoi.\n",
    ">- la virgule `,` dans le second cas est le **délimiteur** utilise entre le 1er et le 2nd argument.\n",
    ">- `$var_name:tt` veut dire arguments quelconque.\n",
    ">- le wildcard `*` veut dire qu'il peut y en avoir toute une liste."
   ]
  },
  {
   "cell_type": "markdown",
   "id": "wooden-guarantee",
   "metadata": {
    "deletable": false,
    "editable": false
   },
   "source": [
    "## Macro Complexe et explications\n",
    "\n",
    "### Illustration\n",
    "\n",
    "![COMPLEX](pictures/complex_macro.png)"
   ]
  },
  {
   "cell_type": "markdown",
   "id": "valuable-advisory",
   "metadata": {
    "deletable": false,
    "editable": false
   },
   "source": [
    "### Utilisation de cette macro"
   ]
  },
  {
   "cell_type": "markdown",
   "id": "alleged-centre",
   "metadata": {
    "deletable": false,
    "editable": false
   },
   "source": [
    "```\n",
    "safe_convertible_enum!(\n",
    "    /// This list contains the sockets associated function types\n",
    "    #[derive(Debug, Copy, Clone)]\n",
    "    #[repr(u32)]\n",
    "    enum CallType {\n",
    "        /// Create an endpoint for communication\n",
    "        SysSocket = 1,\n",
    "        /// Bind a name to a socket\n",
    "        SysBind = 2,\n",
    "        /// Initiate a connection on a socket. Client connection-oriented\n",
    "        SysConnect = 3,\n",
    "        /// Listen for connections on a socket. Server connection-oriented\n",
    "        SysListen = 4,\n",
    "        /// Accept a connection on a socket. Server connection-oriented\n",
    "        SysAccept = 5,\n",
    "        /// Send a message on a socket. Similar to write with flags. connection-oriented\n",
    "        SysSend = 9,\n",
    "        /// Receive a message from a socket. Similar to read with flags. connection-oriented\n",
    "        SysRecv = 10,\n",
    "        /// Send a message on a socket. The destination address is specified. connectionless\n",
    "        SysSendTo = 11,\n",
    "        /// Receive a message from a socket. The source address is specified. connectionless\n",
    "        SysRecvFrom = 12,\n",
    "        /// Shut down part of a full-duplex connection. connection-oriented\n",
    "        SysShutdown = 13,\n",
    "    }\n",
    ");\n",
    "```"
   ]
  },
  {
   "cell_type": "markdown",
   "id": "previous-separate",
   "metadata": {
    "deletable": false,
    "editable": false
   },
   "source": [
    "###  Le code de la macro, au cas où ..."
   ]
  },
  {
   "cell_type": "code",
   "execution_count": 34,
   "id": "increased-currency",
   "metadata": {
    "deletable": false,
    "editable": false
   },
   "outputs": [],
   "source": [
    "/// Implements a new C style enum with his try_from boilerplate\n",
    "macro_rules! safe_convertible_enum {\n",
    "    (#[$main_doc:meta]\n",
    "     #[$derive:meta]\n",
    "     #[repr($primitive_type:tt)]\n",
    "     enum $name:ident {\n",
    "         $(\n",
    "             #[$doc:meta]\n",
    "             $variant:ident = $value:expr,\n",
    "         )*\n",
    "     }) => {\n",
    "        #[$main_doc]\n",
    "        #[$derive]\n",
    "        #[repr($primitive_type)]\n",
    "        pub enum $name {\n",
    "            $(\n",
    "                #[$doc]\n",
    "                $variant = $value,\n",
    "            )*\n",
    "        }\n",
    "\n",
    "        impl core::convert::TryFrom<$primitive_type> for $name {\n",
    "            type Error = Errno;\n",
    "            fn try_from(n: $primitive_type) -> Result<Self, Self::Error> {\n",
    "                use $name::*;\n",
    "                match n {\n",
    "                    $($value => Ok($variant),)*\n",
    "                    _ => Err(Errno::EINVAL),\n",
    "                }\n",
    "            }\n",
    "        }\n",
    "    }\n",
    "}"
   ]
  }
 ],
 "metadata": {
  "kernelspec": {
   "display_name": "Rust",
   "language": "rust",
   "name": "rust"
  },
  "language_info": {
   "codemirror_mode": "rust",
   "file_extension": ".rs",
   "mimetype": "text/rust",
   "name": "Rust",
   "pygment_lexer": "rust",
   "version": ""
  },
  "toc": {
   "base_numbering": 1,
   "nav_menu": {},
   "number_sections": true,
   "sideBar": true,
   "skip_h1_title": false,
   "title_cell": "Table of Contents",
   "title_sidebar": "Contents",
   "toc_cell": false,
   "toc_position": {},
   "toc_section_display": true,
   "toc_window_display": false
  }
 },
 "nbformat": 4,
 "nbformat_minor": 5
}
