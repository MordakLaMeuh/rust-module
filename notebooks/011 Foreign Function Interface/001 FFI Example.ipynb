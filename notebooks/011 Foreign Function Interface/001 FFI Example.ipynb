{
 "cells": [
  {
   "cell_type": "markdown",
   "id": "committed-craps",
   "metadata": {
    "deletable": false,
    "editable": false
   },
   "source": [
    "# FFI : Un exemple de A à Z\n",
    "\n",
    "> Dans cet exemple, nous allons :\n",
    "> - Linker une fonction écrite en C avec le programme Rust.\n",
    "> - Partager l'allocateur Rust à la fonction écrite en C.\n",
    "> - Appeler la fonction écrite en C avec en paramètre des types Rust."
   ]
  },
  {
   "cell_type": "markdown",
   "id": "equipped-lemon",
   "metadata": {
    "deletable": false,
    "editable": false
   },
   "source": [
    "## Rust bindgen"
   ]
  },
  {
   "cell_type": "markdown",
   "id": "indie-chocolate",
   "metadata": {
    "deletable": false,
    "editable": false
   },
   "source": [
    "- Pour la FFI, bindgen est un outil des plus efficace. En entrée, on lui donne un fichier header .h et en sortie, il nous écrit un .rs à utiliser dans le programme :\n",
    "\n",
    ">```\n",
    ">cargo install bindgen\n",
    ">```"
   ]
  },
  {
   "cell_type": "markdown",
   "id": "boxed-respondent",
   "metadata": {
    "deletable": false,
    "editable": false
   },
   "source": [
    "Dans sa forme la plus simple, mono fichier, on donne un ficher header .h à bindgen. Faisons un nouveau projet nomme ffi, créer un sous-dossier c_lib et y mettre le lib.h et le merge_sort.c présent à la fin du chapitre.\n",
    "\n",
    "- Ensuite exécuter :\n",
    ">```\n",
    ">cd src\n",
    ">bindgen ../c_lib/lib.h > c_lib.rs\n",
    ">```\n",
    "\n",
    "- **Un fichier lib.rs sera fait à partir de lib.h :**"
   ]
  },
  {
   "cell_type": "code",
   "execution_count": 10,
   "id": "compatible-disney",
   "metadata": {
    "deletable": false,
    "editable": false
   },
   "outputs": [],
   "source": [
    "pub type size_t = ::std::os::raw::c_ulong;\n",
    "#[repr(C)]\n",
    "#[derive(Debug, Copy, Clone)]\n",
    "pub struct custom_memory_fn {\n",
    "    pub allocator:\n",
    "        ::std::option::Option<unsafe extern \"C\" fn(arg1: size_t) -> *mut ::std::os::raw::c_void>,\n",
    "    pub deallocator: ::std::option::Option<unsafe extern \"C\" fn(arg1: *mut ::std::os::raw::c_void)>,\n",
    "}\n",
    "\n",
    "extern \"C\" {                                                                                                                                      \n",
    "    pub fn fusion_merge_tab(                                                                                                                      \n",
    "        t1: *mut ::std::os::raw::c_void,                                                                                                          \n",
    "        len: ::std::os::raw::c_int,                                                                                                               \n",
    "        elmt: size_t,                                                                                                                             \n",
    "        cmp: ::std::option::Option<                                                                                                               \n",
    "            unsafe extern \"C\" fn(                                                                                                                 \n",
    "                arg1: *mut ::std::os::raw::c_void,                                                                                                \n",
    "                arg2: *mut ::std::os::raw::c_void,                                                                                                \n",
    "            ) -> ::std::os::raw::c_int,                                                                                                           \n",
    "        >,                                                                                                                                        \n",
    "        mem: *mut custom_memory_fn,                                                                                                               \n",
    "    ) -> *mut ::std::os::raw::c_void;                                                                                                             \n",
    "}  "
   ]
  },
  {
   "cell_type": "markdown",
   "id": "hollow-ultimate",
   "metadata": {
    "deletable": false,
    "editable": false
   },
   "source": [
    "> Ce sont les définitions de la structure à remplir et la fonction C à appeler."
   ]
  },
  {
   "cell_type": "markdown",
   "id": "induced-integrity",
   "metadata": {
    "deletable": false,
    "editable": false
   },
   "source": [
    "## Linkage du C avec le Rust"
   ]
  },
  {
   "cell_type": "markdown",
   "id": "expressed-latino",
   "metadata": {
    "deletable": false,
    "editable": false
   },
   "source": [
    "- Maintenant, il nous faut écrire un petit programme pour compiler le C et le linker au rust, on utilise pour cela un fichier `build.rs` que l'on place à la racine du projet :"
   ]
  },
  {
   "cell_type": "code",
   "execution_count": 9,
   "id": "civilian-tourism",
   "metadata": {
    "deletable": false,
    "editable": false
   },
   "outputs": [],
   "source": [
    "use std::env;\n",
    "use std::path::Path;\n",
    "use std::process::Command;\n",
    "\n",
    "fn main() {\n",
    "    let out_dir = env::var(\"OUT_DIR\").unwrap();\n",
    "    // Note that there are a number of downsides to this approach, the comments\n",
    "    // below detail how to improve the portability of these commands.\n",
    "    Command::new(\"gcc\")\n",
    "        .args(&[\"c_lib/merge_sort.c\", \"-c\", \"-fPIC\", \"-o\"])\n",
    "        .arg(&format!(\"{}/merge_sort.o\", out_dir))\n",
    "        .status()\n",
    "        .unwrap();\n",
    "    Command::new(\"ar\")\n",
    "        .args(&[\"crus\", \"libhello.a\", \"merge_sort.o\"])\n",
    "        .current_dir(&Path::new(&out_dir))\n",
    "        .status()\n",
    "        .unwrap();\n",
    "\n",
    "    println!(\"cargo:rustc-link-search=native={}\", out_dir);\n",
    "    println!(\"cargo:rustc-link-lib=static=hello\");\n",
    "}"
   ]
  },
  {
   "cell_type": "markdown",
   "id": "mighty-albuquerque",
   "metadata": {
    "deletable": false,
    "editable": false
   },
   "source": [
    "> D'abord, il compile le fichier .c pour en faire une librairie, et il envoie les paramètres au compilateur rustc pour qu'il procède au linkage."
   ]
  },
  {
   "cell_type": "markdown",
   "id": "assigned-machinery",
   "metadata": {
    "deletable": false,
    "editable": false
   },
   "source": [
    "## La librairie est linkee a l’exécutable\n",
    "\n",
    "> Si tout s'est bien passé, le cargo run devrait fonctionner normalement avec un simple Hello World. Intéressons-nous maintenant au code C à appeler.\n",
    "\n",
    "- D'abord, il y a une sorte de structure qui prend un allocateur et un desallocateur en paramètre. std::alloc semble faire le boulot :"
   ]
  },
  {
   "cell_type": "code",
   "execution_count": 5,
   "id": "hundred-tonight",
   "metadata": {
    "deletable": false,
    "editable": false
   },
   "outputs": [],
   "source": [
    "#[repr(C)]\n",
    "#[derive(Debug, Copy, Clone)]\n",
    "pub struct custom_memory_fn {\n",
    "    pub allocator:\n",
    "        ::std::option::Option<unsafe extern \"C\" fn(arg1: size_t) -> *mut ::std::os::raw::c_void>,\n",
    "    pub deallocator: ::std::option::Option<unsafe extern \"C\" fn(arg1: *mut ::std::os::raw::c_void)>,\n",
    "}"
   ]
  },
  {
   "cell_type": "markdown",
   "id": "orange-behavior",
   "metadata": {
    "deletable": false,
    "editable": false
   },
   "source": [
    "- Écrivons ces deux fonctions dans le main.rs :"
   ]
  },
  {
   "cell_type": "markdown",
   "id": "metropolitan-agency",
   "metadata": {
    "deletable": false,
    "editable": false
   },
   "source": [
    "```\n",
    "use std::alloc::{alloc, dealloc, Layout};\n",
    "\n",
    "unsafe extern \"C\" fn allocator(arg1: c_lib::size_t) -> *mut ::std::os::raw::c_void {\n",
    "    let layout = Layout::array::<u64>(arg1 as usize / std::mem::size_of::<u64>());\n",
    "    let ptr = alloc(layout.unwrap());\n",
    "    ptr as *mut ::std::os::raw::c_void\n",
    "}\n",
    "\n",
    "unsafe extern \"C\" fn deallocator(arg1: *mut ::std::os::raw::c_void) {\n",
    "    let layout = Layout::new::<[u64; TAB_SIZE]>();\n",
    "    dealloc(arg1 as *mut u8, layout);\n",
    "}\n",
    "```"
   ]
  },
  {
   "cell_type": "markdown",
   "id": "ruled-charlotte",
   "metadata": {
    "deletable": false,
    "editable": false
   },
   "source": [
    "## La fonction de comparaison\n",
    "\n",
    "- Pareil, apparemment, on doit envoyer l’adresse d'une fonction de comparaison. Ecrivons-la :"
   ]
  },
  {
   "cell_type": "code",
   "execution_count": 7,
   "id": "remarkable-sculpture",
   "metadata": {
    "deletable": false,
    "editable": false
   },
   "outputs": [],
   "source": [
    "unsafe extern \"C\" fn cmp(\n",
    "    arg1: *mut std::os::raw::c_void,\n",
    "    arg2: *mut std::os::raw::c_void,\n",
    ") -> std::os::raw::c_int {\n",
    "    if *(arg1 as *mut u64) < *(arg2 as *mut u64) {\n",
    "        0\n",
    "    } else {\n",
    "        1\n",
    "    }\n",
    "}"
   ]
  },
  {
   "cell_type": "markdown",
   "id": "indonesian-karma",
   "metadata": {
    "deletable": false,
    "editable": false
   },
   "source": [
    "> Tout est a peu près unsafe la !"
   ]
  },
  {
   "cell_type": "markdown",
   "id": "southwest-marshall",
   "metadata": {
    "deletable": false,
    "editable": false
   },
   "source": [
    "## La fonction main du programme\n",
    "\n",
    "- Et enfin, voila comment completer la fonction main du programme :"
   ]
  },
  {
   "cell_type": "markdown",
   "id": "international-housing",
   "metadata": {
    "deletable": false,
    "editable": false
   },
   "source": [
    "```\n",
    "const TAB_SIZE: usize = 1024 * 2;\n",
    "\n",
    "fn main() {\n",
    "    let mut custom = c_lib::custom_memory_fn {\n",
    "        allocator: Some(allocator),\n",
    "        deallocator: Some(deallocator),\n",
    "    };\n",
    "\n",
    "    let layout = Layout::array::<u64>(TAB_SIZE);\n",
    "    let v = unsafe {\n",
    "        let ptr = alloc(layout.unwrap());\n",
    "        let mut v = Vec::<u64>::from_raw_parts(ptr as *mut u64, TAB_SIZE, TAB_SIZE);\n",
    "        // remplit le vecteur avec des valeurs decroissantes\n",
    "        for i in 0..(TAB_SIZE) {\n",
    "            v[i] = ((TAB_SIZE) - i) as u64;\n",
    "        }\n",
    "        let old_ptr = v.as_ptr();\n",
    "        let ptr = c_lib::fusion_merge_tab(\n",
    "            v.as_ptr() as *mut ::std::os::raw::c_void,\n",
    "            TAB_SIZE as i32,\n",
    "            std::mem::size_of::<u64>() as u64,\n",
    "            Some(cmp),\n",
    "            &mut custom as *mut c_lib::custom_memory_fn as *mut c_lib::custom_memory_fn,\n",
    "        );\n",
    "\n",
    "        println!(\"Finito !\");\n",
    "        dbg!(old_ptr);\n",
    "        dbg!(ptr);\n",
    "        if old_ptr != ptr as *const u64 {\n",
    "            v.leak(); // !!!\n",
    "            v = Vec::<u64>::from_raw_parts(ptr as *mut u64, TAB_SIZE, TAB_SIZE);\n",
    "        }\n",
    "        v\n",
    "    };\n",
    "    for i in v.into_iter() {\n",
    "        dbg!(i);\n",
    "    }\n",
    "}\n",
    "```"
   ]
  },
  {
   "cell_type": "markdown",
   "id": "defensive-tucson",
   "metadata": {
    "deletable": false,
    "editable": false
   },
   "source": [
    "**lib.h**\n",
    "```\n",
    "#ifndef LIB_H\n",
    "# define LIB_H\n",
    "\n",
    "typedef unsigned long int size_t;\n",
    "\n",
    "struct custom_memory_fn {\n",
    "    void *(*allocator)(size_t);\n",
    "    void (*deallocator)(void *);\n",
    "};\n",
    "\n",
    "void *fusion_merge_tab(void *t1,\n",
    "                       int len,\n",
    "                       size_t elmt,\n",
    "                       int (*cmp)(void *, void *),\n",
    "                       struct custom_memory_fn *mem);\n",
    "\n",
    "#endif\n",
    "```"
   ]
  },
  {
   "cell_type": "markdown",
   "id": "paperback-conspiracy",
   "metadata": {
    "deletable": false,
    "editable": false
   },
   "source": [
    "**merge_sort.c**\n",
    "```\n",
    "#include \"lib.h\"\n",
    "\n",
    "#include <stdbool.h>\n",
    "#include <errno.h>\n",
    "#include <string.h>\n",
    "\n",
    "struct\ts_info {\n",
    "    int offset;\n",
    "    int (*cmp)(void *, void *);\n",
    "    size_t elmt_len;\n",
    "};\n",
    "\n",
    "static void merge_mod(char *s1, char *s2, char *end, struct s_info *w) {\n",
    "    char *p_gr_1;\n",
    "    char *p_gr_2;\n",
    "\n",
    "    while ((p_gr_1 = s1) < end) {\n",
    "        p_gr_2 = p_gr_1 + (w->offset * w->elmt_len);\n",
    "        while (true) {\n",
    "\t\t\tif (p_gr_2 < end) {\n",
    "                if (w->cmp((void *)p_gr_2, (void *)p_gr_1) == 0) {\n",
    "                    memcpy(s2, p_gr_2, w->elmt_len);\n",
    "                    p_gr_2 += w->elmt_len;\n",
    "                } else {\n",
    "                    memcpy(s2, p_gr_1, w->elmt_len);\n",
    "                    p_gr_1 += w->elmt_len;\n",
    "                }\n",
    "                s2 += w->elmt_len;\n",
    "            }\n",
    "\t\t\tif (p_gr_1 == (s1 + w->offset * w->elmt_len)) {\n",
    "\t\t\t\twhile (p_gr_2 != (s1 + (2 * w->offset * w->elmt_len)) && p_gr_2 < end) {\n",
    "                    memcpy(s2, p_gr_2, w->elmt_len);\n",
    "                    s2 += w->elmt_len;\n",
    "                    p_gr_2 += w->elmt_len;\n",
    "                }\n",
    "\t\t\t\tbreak ;\n",
    "\t\t\t}            \n",
    "            else if (p_gr_2 == (s1 + (2 * w->offset * w->elmt_len)) || p_gr_2 >= end) {\n",
    "                while (p_gr_1 != (s1 + w->offset * w->elmt_len) && p_gr_1 < end) {\n",
    "                    memcpy(s2, p_gr_1, w->elmt_len);\n",
    "                    s2 += w->elmt_len;\n",
    "                    p_gr_1 += w->elmt_len;\n",
    "                }\n",
    "                break ;\n",
    "            }\n",
    "        }\n",
    "        s1 += 2 * w->offset * w->elmt_len;\n",
    "    }\n",
    "}\n",
    "\n",
    "static void *exec(char *t1,\n",
    "                  char *t2,\n",
    "                  int elmt_nb,\n",
    "                  size_t elmt_len,\n",
    "                  int (*cmp)(void *, void *)) {\n",
    "    struct s_info   w;\n",
    "    int             state;\n",
    "\n",
    "    w.cmp = cmp;\n",
    "    w.offset = 1;\n",
    "    w.elmt_len = elmt_len;\n",
    "    state = false;\n",
    "\n",
    "    while (w.offset < elmt_nb) {\n",
    "        if (state == false)\n",
    "            merge_mod((char *)t1, (char *)t2, (char *)t1 + (elmt_nb * elmt_len), &w);\n",
    "        else\n",
    "            merge_mod((char *)t2, (char *)t1, (char *)t2 + (elmt_nb * elmt_len), &w);\n",
    "        state = (state) ? false : true;\n",
    "        w.offset <<= 1;\n",
    "    }\n",
    "    return ((state) ? t2 : t1);\n",
    "}\n",
    "\n",
    "void *fusion_merge_tab(void *t1,\n",
    "                       int elmt_nb,\n",
    "                       size_t elmt_len,\n",
    "                       int (*cmp)(void *, void *),\n",
    "                       struct custom_memory_fn *mem) {\n",
    "    void *t2;\n",
    "    void *tmp;\n",
    " \n",
    "    if (!cmp || !mem || !mem->allocator || !mem->deallocator || !t1)\n",
    "        return (NULL);\n",
    "    if (!elmt_nb)\n",
    "        return (0);\n",
    "    if (!(t2 = (void *)mem->allocator(elmt_nb * elmt_len)))\n",
    "        return NULL;\n",
    "    if ((tmp = exec(t1, t2, elmt_nb, elmt_len, cmp)) == t1) {\n",
    "        mem->deallocator(t2);\n",
    "        return t1;\n",
    "    } else {\n",
    "        mem->deallocator(t1);\n",
    "        return tmp;\n",
    "    }\n",
    "}\n",
    "\n",
    "/*\n",
    " * #include <stdio.h>\n",
    " * \n",
    " * int cmp(void *a, void *b) {\n",
    " *     if (*(int *)a >= *(int *)b) return 1;\n",
    " *     else return 0;\n",
    " * }\n",
    " * \n",
    " * int main() {\n",
    " *     struct custom_memory_fn custom;\n",
    " *     custom.allocator = malloc;\n",
    " *     custom.deallocator = free;\n",
    " * \n",
    " *     int *tab = (int *)custom.allocator(sizeof(int) * 6);\n",
    " * \n",
    " *     tab[0] = 42;\n",
    " *     tab[1] = 10;\n",
    " *     tab[2] = -3;\n",
    " *     tab[3] = -43;\n",
    " *     tab[4] = 90;\n",
    " *     tab[5] = 2;\n",
    " *     tab = fusion_merge_tab((void*)tab, 6, sizeof(int), cmp, &custom);\n",
    " *     for (int i = 0; i < 6; i++) {\n",
    " *         printf(\"%i\\n\", i);\n",
    " *         printf(\"%i\\n\", tab[i]);\n",
    " *     }\n",
    " *     custom.deallocator(tab);\n",
    " *     return 0;\n",
    " * }\n",
    " */\n",
    "\n",
    "```"
   ]
  }
 ],
 "metadata": {
  "kernelspec": {
   "display_name": "Rust",
   "language": "rust",
   "name": "rust"
  },
  "language_info": {
   "codemirror_mode": "rust",
   "file_extension": ".rs",
   "mimetype": "text/rust",
   "name": "Rust",
   "pygment_lexer": "rust",
   "version": ""
  },
  "toc": {
   "base_numbering": 1,
   "nav_menu": {},
   "number_sections": true,
   "sideBar": true,
   "skip_h1_title": false,
   "title_cell": "Table of Contents",
   "title_sidebar": "Contents",
   "toc_cell": false,
   "toc_position": {},
   "toc_section_display": true,
   "toc_window_display": false
  }
 },
 "nbformat": 4,
 "nbformat_minor": 5
}
