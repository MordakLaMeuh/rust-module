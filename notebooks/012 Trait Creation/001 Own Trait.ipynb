{
 "cells": [
  {
   "cell_type": "markdown",
   "id": "rental-doctor",
   "metadata": {
    "deletable": false,
    "editable": false
   },
   "source": [
    "# Un trait bien dangereux..."
   ]
  },
  {
   "cell_type": "markdown",
   "id": "trying-puppy",
   "metadata": {
    "deletable": false,
    "editable": false
   },
   "source": [
    "## Les objectifs"
   ]
  },
  {
   "cell_type": "markdown",
   "id": "several-villa",
   "metadata": {
    "deletable": false,
    "editable": false
   },
   "source": [
    "- On cherchera à faire un trait qui dump les valeurs hexadécimales sous forme de byte dans la mémoire occupée par une variable de type generic T. En théorie... N'importe quoi pourra utiliser le trait et révéler ses valeurs cachées :"
   ]
  },
  {
   "cell_type": "markdown",
   "id": "million-homeless",
   "metadata": {
    "deletable": false,
    "editable": false
   },
   "source": [
    "```\n",
    "unsafe {\n",
    "    print!(\"{:#04x} \", *ptr.offset(byte as isize));\n",
    "}\n",
    "```"
   ]
  },
  {
   "cell_type": "markdown",
   "id": "intense-joshua",
   "metadata": {
    "deletable": false,
    "editable": false
   },
   "source": [
    "- Le trait se nomme HexDump qui définit la méthode hex_dump :"
   ]
  },
  {
   "cell_type": "markdown",
   "id": "fewer-height",
   "metadata": {
    "deletable": false,
    "editable": false
   },
   "source": [
    "```\n",
    "pub trait HexDump {\n",
    "    fn hex_dump(&self);\n",
    "}\n",
    "```"
   ]
  },
  {
   "cell_type": "markdown",
   "id": "threatened-baltimore",
   "metadata": {
    "deletable": false,
    "editable": false
   },
   "source": [
    "- Une implémentation non-générique aurait été telle quelle :"
   ]
  },
  {
   "cell_type": "markdown",
   "id": "equal-imagination",
   "metadata": {
    "deletable": false,
    "editable": false
   },
   "source": [
    "```\n",
    "impl HexDump for u32 {\n",
    "    fn hex_dump(&self) {}\n",
    "}\n",
    "```"
   ]
  },
  {
   "cell_type": "markdown",
   "id": "legitimate-pursuit",
   "metadata": {
    "deletable": false,
    "editable": false
   },
   "source": [
    "- Son implémentation générique se note ainsi :"
   ]
  },
  {
   "cell_type": "markdown",
   "id": "japanese-seminar",
   "metadata": {
    "deletable": false,
    "editable": false
   },
   "source": [
    "```\n",
    "impl <T>HexDump for T {\n",
    "    fn hex_dump(&self) {}\n",
    "}\n",
    "```"
   ]
  },
  {
   "cell_type": "markdown",
   "id": "premium-formation",
   "metadata": {
    "deletable": false,
    "editable": false
   },
   "source": [
    "> En y réfléchissant, il n'y a pas trop de raison qu'un type ne puisse pas fonctionner puisque la seule chose que l'on risque de faire, c'est de récupérer une adresse mémoire."
   ]
  },
  {
   "cell_type": "markdown",
   "id": "framed-magnet",
   "metadata": {
    "deletable": false,
    "editable": false
   },
   "source": [
    "## Les éléments à connaître"
   ]
  },
  {
   "cell_type": "markdown",
   "id": "chemical-contest",
   "metadata": {
    "deletable": false,
    "editable": false
   },
   "source": [
    "### Récupération de l'adresse mémoire"
   ]
  },
  {
   "cell_type": "markdown",
   "id": "educational-oxygen",
   "metadata": {
    "deletable": false,
    "editable": false
   },
   "source": [
    "- La macro std::ptr::addr_of! semble pouvoir aider a récupérer l'adresse mémoire :\n",
    "\n",
    "![ADDR_OF](pictures/addr_of.png)"
   ]
  },
  {
   "cell_type": "markdown",
   "id": "patent-aviation",
   "metadata": {
    "deletable": false,
    "editable": false
   },
   "source": [
    "- Le type retourne ne serait-il pas un *const T ?\n",
    "> Si l'on veut afficher octet par octet, ne serait il pas mieux d'avoir un *const u8 ?\n",
    "> as *const u8; peut être...."
   ]
  },
  {
   "cell_type": "markdown",
   "id": "devoted-heater",
   "metadata": {
    "deletable": false,
    "editable": false
   },
   "source": [
    "### La taille de T"
   ]
  },
  {
   "cell_type": "markdown",
   "id": "annoying-smell",
   "metadata": {
    "deletable": false,
    "editable": false
   },
   "source": [
    "- Si l'on commence a dumper comme ça la mémoire, il est mieux de connaître la taille de la donnée T en entrée :\n",
    "\n",
    "![SIZE_OF](pictures/size_of.png)"
   ]
  },
  {
   "cell_type": "markdown",
   "id": "derived-greece",
   "metadata": {
    "deletable": false,
    "editable": false
   },
   "source": [
    "## Votre code"
   ]
  },
  {
   "cell_type": "markdown",
   "id": "czech-andrews",
   "metadata": {
    "deletable": false,
    "editable": false
   },
   "source": [
    "> **On sait tout ce qu'il faut pour faire le trait maintenant...**"
   ]
  },
  {
   "cell_type": "code",
   "execution_count": 5,
   "id": "hungry-canal",
   "metadata": {
    "hide_input": false,
    "scrolled": true
   },
   "outputs": [
    {
     "data": {
      "text/plain": [
       "()"
      ]
     },
     "execution_count": 5,
     "metadata": {},
     "output_type": "execute_result"
    }
   ],
   "source": [
    "{\n",
    "    // Votre code ici\n",
    "\n",
    "    // Exemple de tests pour vous assurer de bon comportement de votre implementation.\n",
    "    // let r: u32 = 42;\n",
    "    // r.hex_dump();\n",
    "    // let r: u32 = 0;\n",
    "    // r.hex_dump();\n",
    "    // let r: f64 = 42.12;\n",
    "    // r.hex_dump();\n",
    "}"
   ]
  },
  {
   "cell_type": "markdown",
   "id": "fundamental-adaptation",
   "metadata": {
    "deletable": false,
    "editable": false,
    "solution2": "hidden",
    "solution2_first": true
   },
   "source": [
    "```\n",
    "let r: u32 = 42;\n",
    "r.hex_dump();\n",
    "let r: u32 = 0;\n",
    "r.hex_dump();\n",
    "let r: f64 = 42.12;\n",
    "r.hex_dump();\n",
    "```\n",
    "**Avec les tests ci-dessus, la sortie de votre programme devrait ressembler à cela :**\n",
    "```\n",
    "0x00 0x00 0x00 0x00 \n",
    "0x2a 0x00 0x00 0x00 \n",
    "0x8f 0xc2 0xf5 0x28 0x5c 0x0f 0x45 0x40 \n",
    "\n",
    "```"
   ]
  },
  {
   "cell_type": "code",
   "execution_count": 4,
   "id": "green-trust",
   "metadata": {
    "deletable": false,
    "editable": false,
    "scrolled": true,
    "solution2": "hidden"
   },
   "outputs": [
    {
     "name": "stdout",
     "output_type": "stream",
     "text": [
      "0x00 0x00 0x00 0x00 \n",
      "0x2a 0x00 0x00 0x00 \n",
      "0x8f 0xc2 0xf5 0x28 0x5c 0x0f 0x45 0x40 \n"
     ]
    },
    {
     "data": {
      "text/plain": [
       "()"
      ]
     },
     "execution_count": 4,
     "metadata": {},
     "output_type": "execute_result"
    }
   ],
   "source": [
    "{\n",
    "    pub trait HexDump {\n",
    "        fn hex_dump(&self);\n",
    "    }\n",
    "\n",
    "    impl<T> HexDump for T {\n",
    "        fn hex_dump(&self) {\n",
    "            let ptr = std::ptr::addr_of!(*self) as *const u8;\n",
    "            for byte in 0..std::mem::size_of::<Self>() {\n",
    "                unsafe {\n",
    "                    print!(\"{:#04x} \", *ptr.offset(byte as isize));\n",
    "                }\n",
    "            }\n",
    "            println!();\n",
    "        }\n",
    "    }\n",
    "\n",
    "    let r: u32 = 42;\n",
    "    r.hex_dump();\n",
    "    let r: u32 = 0;\n",
    "    r.hex_dump();\n",
    "    let r: f64 = 42.12;\n",
    "    r.hex_dump();\n",
    "}\n"
   ]
  }
 ],
 "metadata": {
  "kernelspec": {
   "display_name": "Rust",
   "language": "rust",
   "name": "rust"
  },
  "language_info": {
   "codemirror_mode": "rust",
   "file_extension": ".rs",
   "mimetype": "text/rust",
   "name": "Rust",
   "pygment_lexer": "rust",
   "version": ""
  },
  "toc": {
   "base_numbering": 1,
   "nav_menu": {},
   "number_sections": true,
   "sideBar": true,
   "skip_h1_title": false,
   "title_cell": "Table of Contents",
   "title_sidebar": "Contents",
   "toc_cell": false,
   "toc_position": {
    "height": "calc(100% - 180px)",
    "left": "10px",
    "top": "150px",
    "width": "268.8px"
   },
   "toc_section_display": true,
   "toc_window_display": false
  }
 },
 "nbformat": 4,
 "nbformat_minor": 5
}
