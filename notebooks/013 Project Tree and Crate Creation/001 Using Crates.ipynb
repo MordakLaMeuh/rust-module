{
 "cells": [
  {
   "cell_type": "markdown",
   "id": "stainless-scottish",
   "metadata": {
    "deletable": false,
    "editable": false
   },
   "source": [
    "# Utilisation d'une crate"
   ]
  },
  {
   "cell_type": "markdown",
   "id": "saved-territory",
   "metadata": {
    "deletable": false,
    "editable": false
   },
   "source": [
    "Une crate est un binaire ou une bibliothèque, elles sont répertoriées sur le site https://crates.io. Il y a toutes les contributions de la communauté Rust, chacun peut créer des crates et les y diffuser. Il n'est cependant pas nécessaire de diffuser une de ses propres crate pour pouvoir l'utiliser, on se contentera dans ce cas de la mettre en dépendance directement dans le code source du programme., nous reviendrons plus tard sur la notion de workspace.  Ici pour l'exemple, nous allons utiliser la crate **colored** de crate.io afin que notre Hello World puisse prendre quelques couleurs. "
   ]
  },
  {
   "cell_type": "markdown",
   "id": "flush-harmony",
   "metadata": {
    "deletable": false,
    "editable": false
   },
   "source": [
    "## Explications pas a pas"
   ]
  },
  {
   "cell_type": "markdown",
   "id": "satisfactory-abortion",
   "metadata": {
    "deletable": false,
    "editable": false
   },
   "source": [
    "- D'abord, nous allons chercher la crate colored sur crates.io :"
   ]
  },
  {
   "cell_type": "markdown",
   "id": "unknown-device",
   "metadata": {
    "deletable": false,
    "editable": false
   },
   "source": [
    "![COLORED_1](pictures/cratesio_colored_1.png)"
   ]
  },
  {
   "cell_type": "markdown",
   "id": "thick-madrid",
   "metadata": {
    "deletable": false,
    "editable": false
   },
   "source": [
    "- Sélectionner la crate nous donne des informations :"
   ]
  },
  {
   "cell_type": "markdown",
   "id": "sunrise-garlic",
   "metadata": {
    "deletable": false,
    "editable": false
   },
   "source": [
    "![COLORED_1](pictures/cratesio_colored_2.png)"
   ]
  },
  {
   "cell_type": "markdown",
   "id": "severe-leonard",
   "metadata": {
    "deletable": false,
    "editable": false
   },
   "source": [
    "*La présentation de cette crate fournir beaucoup d'exemples !*  \n",
    "- Il est possible d'accéder directement à sa Documentation en ligne en sélectionnant le lien doc.rs :"
   ]
  },
  {
   "cell_type": "markdown",
   "id": "treated-november",
   "metadata": {
    "deletable": false,
    "editable": false
   },
   "source": [
    "![COLORED_1](pictures/cratesio_colored_3.png)"
   ]
  },
  {
   "cell_type": "markdown",
   "id": "naked-antarctica",
   "metadata": {
    "deletable": false,
    "editable": false
   },
   "source": [
    "- Une fois le projet fait avec la commande **cargo new colored_crate**, on édite le fichier **cargo.toml** afin d'ajouter notre dépendance et sa version :"
   ]
  },
  {
   "cell_type": "markdown",
   "id": "honey-color",
   "metadata": {
    "deletable": false,
    "editable": false
   },
   "source": [
    "```\n",
    "[dependencies]\n",
    "colored = \"2.0.0\"\n",
    "```"
   ]
  },
  {
   "cell_type": "markdown",
   "id": "funky-amazon",
   "metadata": {
    "deletable": false,
    "editable": false
   },
   "source": [
    "Elle sera téléchargée ainsi que ses dépendances lors de notre prochain **cargo build** :"
   ]
  },
  {
   "cell_type": "markdown",
   "id": "aquatic-windows",
   "metadata": {
    "deletable": false,
    "editable": false
   },
   "source": [
    "```\n",
    "jupyter@820dcefea66a:~/Desktop/programs/colored_crate$ cargo build\n",
    "    Updating crates.io index\n",
    "   Compiling libc v0.2.126\n",
    "   Compiling lazy_static v1.4.0\n",
    "   Compiling atty v0.2.14\n",
    "   Compiling colored v2.0.0\n",
    "   Compiling projet_colored v0.1.0 (/home/mordak/projet_colored)\n",
    "    Finished dev [unoptimized + debuginfo] target(s) in 16.05s\n",
    "```"
   ]
  },
  {
   "cell_type": "markdown",
   "id": "suffering-amino",
   "metadata": {
    "deletable": false,
    "editable": false
   },
   "source": [
    "- Une fois le projet compilé, on peut accéder à la documentation de ce dernier ainsi que de ses dépendances grâce a la commande **cargo doc --open** :\n",
    "\n",
    "*Le --open l'ouvre automatiquement dans le navigateur par défaut*."
   ]
  },
  {
   "cell_type": "markdown",
   "id": "coordinated-female",
   "metadata": {
    "deletable": false,
    "editable": false
   },
   "source": [
    "![COLORED_2](pictures/projet_colored_doc_1.png)"
   ]
  },
  {
   "cell_type": "markdown",
   "id": "normal-rendering",
   "metadata": {
    "deletable": false,
    "editable": false
   },
   "source": [
    "- La documentation de la crates colored se trouve dans le menu **Crates** à gauche. C'est la même que tout à l'heure, mais celle-ci est en local :"
   ]
  },
  {
   "cell_type": "markdown",
   "id": "adjacent-saskatchewan",
   "metadata": {
    "deletable": false,
    "editable": false
   },
   "source": [
    "![COLORED_1](pictures/cratesio_colored_3.png)"
   ]
  },
  {
   "cell_type": "markdown",
   "id": "different-feelings",
   "metadata": {
    "deletable": false,
    "editable": false
   },
   "source": [
    "- Ici, l'exemple le plus proche de ce que nous voulons est ceci :  \n",
    "\n",
    "`use colored::Colorize;`  \n",
    "`println!(\"{} {} {}\", \"or use\".cyan(), \"any\".italic().yellow(), \"string type\".cyan());`"
   ]
  },
  {
   "cell_type": "markdown",
   "id": "reduced-session",
   "metadata": {
    "deletable": false,
    "editable": false
   },
   "source": [
    "- Si l'on reporte ces modifications dans notre main.rs, cela donnerait :  \n",
    "\n",
    "```\n",
    "use colored::Colorize;\n",
    "\n",
    "/// La fonction principale de mon programme\n",
    "fn main() {\n",
    "    // Write to stdout\n",
    "    println!(\"{}\", \"Hello, world!\".cyan());\n",
    "}\n",
    "```"
   ]
  },
  {
   "cell_type": "markdown",
   "id": "driving-debut",
   "metadata": {
    "deletable": false,
    "editable": false
   },
   "source": [
    "## Version Jupyter Kernel"
   ]
  },
  {
   "cell_type": "markdown",
   "id": "recovered-import",
   "metadata": {
    "deletable": false,
    "editable": false
   },
   "source": [
    "EvCxR permet d'utiliser directement une crate en la préfixant du mot-clef :dep suivi du nom de la crate et de sa version. En voici un exemple :"
   ]
  },
  {
   "cell_type": "code",
   "execution_count": 2,
   "id": "pleased-network",
   "metadata": {
    "deletable": false,
    "editable": false
   },
   "outputs": [],
   "source": [
    ":dep colored = {version = \"2.0.0\"}"
   ]
  },
  {
   "cell_type": "code",
   "execution_count": 3,
   "id": "received-static",
   "metadata": {
    "deletable": false,
    "editable": false
   },
   "outputs": [
    {
     "name": "stdout",
     "output_type": "stream",
     "text": [
      "Hello, world!\n"
     ]
    }
   ],
   "source": [
    "use colored::Colorize;\n",
    "\n",
    "println!(\"{}\", \"Hello, world!\".cyan());"
   ]
  },
  {
   "cell_type": "markdown",
   "id": "weighted-copying",
   "metadata": {
    "deletable": false,
    "editable": false
   },
   "source": [
    "Nous ajoutons la crate **colored** à notre code, sans entrer dans les détails techniques pour l'instant, elle permet d'indiquer qu'un texte sera affiché dans une certaine couleur."
   ]
  },
  {
   "cell_type": "markdown",
   "id": "alien-dance",
   "metadata": {
    "deletable": false,
    "editable": false
   },
   "source": [
    "*Hélas, bien que le code compile, la sortie n'est pas en couleur ici.*"
   ]
  },
  {
   "cell_type": "markdown",
   "id": "explicit-serve",
   "metadata": {
    "deletable": false,
    "editable": false
   },
   "source": [
    "## Compiler et exécuter le projet"
   ]
  },
  {
   "cell_type": "markdown",
   "id": "explicit-theology",
   "metadata": {
    "deletable": false,
    "editable": false
   },
   "source": [
    "- L'image docker contient le projet cargo et il est possible de compiler et d'exécuter le programme directement avec le terminal de Jupyter."
   ]
  },
  {
   "cell_type": "markdown",
   "id": "senior-disco",
   "metadata": {
    "deletable": false,
    "editable": false
   },
   "source": [
    "- Ouvrir un terminal dans Jupyter.\n",
    "- Écrire: `cd notebooks/013\\ Project\\ Tree\\ and\\ Crate\\ Creation/programs/colored_crate/`.\n",
    "- Écrire: `cargo build`.\n",
    "- Écrire: `cargo run`."
   ]
  },
  {
   "cell_type": "markdown",
   "id": "hundred-subscription",
   "metadata": {
    "deletable": false,
    "editable": false
   },
   "source": [
    "![COLORED](pictures/terminal_colored.png)"
   ]
  },
  {
   "cell_type": "markdown",
   "id": "genuine-poland",
   "metadata": {
    "deletable": false,
    "editable": false
   },
   "source": [
    "*À partir de la racine, il existe un lien symbolique qui permet d'accéder directement au projet. Ouvrir simplement un terminal et entrer `cd programs/colored_crate`.*"
   ]
  },
  {
   "cell_type": "markdown",
   "id": "floppy-solid",
   "metadata": {
    "deletable": false,
    "editable": false
   },
   "source": [
    "## La crate Rand"
   ]
  },
  {
   "cell_type": "markdown",
   "id": "blank-series",
   "metadata": {
    "deletable": false,
    "editable": false
   },
   "source": [
    "- Jupyter version"
   ]
  },
  {
   "cell_type": "code",
   "execution_count": 7,
   "id": "israeli-extension",
   "metadata": {
    "deletable": false,
    "editable": false
   },
   "outputs": [
    {
     "name": "stdout",
     "output_type": "stream",
     "text": [
      "Le nombre aléatoire est : 0.6123502050918743\n"
     ]
    }
   ],
   "source": [
    ":dep rand = {version = \"0.8.5\"}\n",
    "\n",
    "use rand::Rng;\n",
    "\n",
    "let mut rng = rand::thread_rng();\n",
    "let random_number: f64 = rng.gen(); // generates a float between 0 and 1\n",
    "println!(\"Le nombre aléatoire est : {}\", random_number);"
   ]
  },
  {
   "cell_type": "markdown",
   "id": "empirical-notification",
   "metadata": {
    "deletable": false,
    "editable": false
   },
   "source": [
    "> Le project_rand est sur l'image Docker :"
   ]
  },
  {
   "cell_type": "markdown",
   "id": "gorgeous-thomas",
   "metadata": {
    "deletable": false,
    "editable": false,
    "solution2": "hidden",
    "solution2_first": true
   },
   "source": [
    "**Essayez de modifier le fichier cargo.toml et le fichier main.rs du projet nomme project_rand afin que le programme génére un nombre aleatoire. Compilez et exécutez grâce au Terminal Jupyter**."
   ]
  },
  {
   "cell_type": "markdown",
   "id": "controversial-stationery",
   "metadata": {
    "deletable": false,
    "editable": false,
    "solution2": "hidden"
   },
   "source": [
    "**cargo.toml:**\n",
    "\n",
    "```\n",
    "[package]\n",
    "name = \"rand_crate\"\n",
    "version = \"0.1.0\"\n",
    "edition = \"2021\"\n",
    "\n",
    "# See more keys and their definitions at https://doc.rust-lang.org/cargo/reference/manifest.html\n",
    "\n",
    "[dependencies]\n",
    "rand = {version = \"0.8.5\"}\n",
    "```\n",
    "\n",
    "**main.rs:**\n",
    "\n",
    "```\n",
    "use rand::Rng;\n",
    "\n",
    "fn main() {\n",
    "    let mut rng = rand::thread_rng();\n",
    "    let random_number: f64 = rng.gen(); // generates a float between 0 and 1\n",
    "    println!(\"Le nombre aléatoire est : {}\", random_number);\n",
    "}\n",
    "```"
   ]
  }
 ],
 "metadata": {
  "kernelspec": {
   "display_name": "Rust",
   "language": "rust",
   "name": "rust"
  },
  "language_info": {
   "codemirror_mode": "rust",
   "file_extension": ".rs",
   "mimetype": "text/rust",
   "name": "Rust",
   "pygment_lexer": "rust",
   "version": ""
  },
  "toc": {
   "base_numbering": 1,
   "nav_menu": {},
   "number_sections": true,
   "sideBar": true,
   "skip_h1_title": false,
   "title_cell": "Table of Contents",
   "title_sidebar": "Contents",
   "toc_cell": false,
   "toc_position": {},
   "toc_section_display": true,
   "toc_window_display": false
  }
 },
 "nbformat": 4,
 "nbformat_minor": 5
}
