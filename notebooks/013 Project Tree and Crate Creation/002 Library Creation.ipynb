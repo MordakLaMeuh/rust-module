{
 "cells": [
  {
   "cell_type": "markdown",
   "id": "frank-colon",
   "metadata": {
    "deletable": false,
    "editable": false
   },
   "source": [
    "# ___Création d'une librairie___\n",
    "\n",
    "---\n",
    "\n",
    "Ici, nous allons créer une crate qui sera utilisée comme une librairie. Elle sera dans le sous-dossier dependencies (le choix du nom de ce dernier revient au programmeur).\n",
    "\n",
    "À partir de la racine du projet, exécutez :\n",
    "\n",
    "```\n",
    "mkdir dependencies\n",
    "cd dependencies\n",
    "cargo new --lib ma-lib\n",
    "```"
   ]
  },
  {
   "cell_type": "markdown",
   "id": "scientific-response",
   "metadata": {
    "deletable": false,
    "editable": false
   },
   "source": [
    "Contrairement à un exécutable, il n'y a plus de fichier **main.rs** ici, mais un fichier **lib.rs** :"
   ]
  },
  {
   "cell_type": "markdown",
   "id": "apparent-reform",
   "metadata": {
    "deletable": false,
    "editable": false
   },
   "source": [
    ">```\n",
    ">dependencies/:\n",
    ">total 4\n",
    ">drwxr-xr-x 3 jupyter jupyter 4096 Jul  5 03:24 ma-lib\n",
    ">\n",
    ">dependencies/ma-lib:\n",
    ">total 12\n",
    ">-rw-r--r-- 1 jupyter jupyter  153 Jul  5 03:22 Cargo.lock\n",
    ">-rw-r--r-- 1 jupyter jupyter  178 Jul  5 03:17 Cargo.toml\n",
    ">drwxr-xr-x 2 jupyter jupyter 4096 Jul  5 03:17 src\n",
    ">\n",
    ">dependencies/ma-lib:\n",
    ">total 4\n",
    ">-rw-r--r-- 1 jupyter jupyter 216 Jul  5 03:17 lib.rs\n",
    ">```"
   ]
  },
  {
   "cell_type": "markdown",
   "id": "incident-guard",
   "metadata": {
    "deletable": false,
    "editable": false
   },
   "source": [
    "La présence du fichier lib.rs suffit a Rust de savoir qu'il s'agit d'une librairie. Le fichier **Cargo.toml** ne diffère guère de celui d'un binaire."
   ]
  },
  {
   "cell_type": "markdown",
   "id": "hearing-webster",
   "metadata": {
    "deletable": false,
    "editable": false
   },
   "source": [
    "Afin de pouvoir se servir de la librairie, le fichier Cargo.toml de l’exécutable doit être modifié comme tel :\n",
    ">```\n",
    ">[dependencies.ma-lib]\n",
    ">path = \"dependencies/ma-lib\"\n",
    ">```"
   ]
  },
  {
   "cell_type": "markdown",
   "id": "natural-brook",
   "metadata": {
    "deletable": false,
    "editable": false
   },
   "source": [
    "À ce point donne, le programme principal compile et s’exécute déjà avec la librairie. La commande cargo test fonctionne aussi."
   ]
  },
  {
   "cell_type": "markdown",
   "id": "unsigned-equipment",
   "metadata": {
    "deletable": false,
    "editable": false
   },
   "source": [
    "Plutôt qu'un main() Hello World, Rust a produit une fonction add dans lib.rs :"
   ]
  },
  {
   "cell_type": "code",
   "execution_count": 2,
   "id": "retired-differential",
   "metadata": {
    "deletable": false,
    "editable": false
   },
   "outputs": [],
   "source": [
    "pub fn add(left: usize, right: usize) -> usize {\n",
    "    left + right\n",
    "}\n",
    "\n",
    "#[cfg(test)]\n",
    "mod tests {\n",
    "    use super::*;\n",
    "\n",
    "    #[test]\n",
    "    fn it_works() {\n",
    "        let result = add(2, 2);\n",
    "        assert_eq!(result, 4);\n",
    "    }\n",
    "}"
   ]
  },
  {
   "cell_type": "markdown",
   "id": "cordless-mozambique",
   "metadata": {
    "deletable": false,
    "editable": false
   },
   "source": [
    "Notons bien que la fonction est publique (grâce au mot-clef `pub`), car sans cela, elle serait inaccessible depuis le programme exécutable !"
   ]
  },
  {
   "cell_type": "markdown",
   "id": "nuclear-beads",
   "metadata": {
    "deletable": false,
    "editable": false
   },
   "source": [
    "Afin de pouvoir utiliser cette fonction add depuis le programme exécutable, il est nécessaire d'utiliser la directive `use lib_name::function_name`. Notons que remplacer function_name par un wildcard fonctionnerait aussi :\n",
    "\n",
    "> ```\n",
    ">use interface::add;\n",
    ">```\n",
    "\n",
    "Utilisons la fonction :\n",
    "\n",
    ">```\n",
    "fn main() {\n",
    "    dbg!(add(42, 42));\n",
    "}\n",
    ">```\n",
    "\n",
    "**OUTPUT**  \n",
    "[src/main.rs:4] add(42, 42) = 84"
   ]
  },
  {
   "cell_type": "markdown",
   "id": "incorporated-accessory",
   "metadata": {
    "deletable": false,
    "editable": false
   },
   "source": [
    "Ce n'est pas plus compliqué que ça. Cependant, il faut bien veiller à certains points :\n",
    "\n",
    "\n",
    "- Toujours décider de ce qui doit être publique ou pas, donner à l’exécutable un accès total à tous les sous-items de la librairie n'est généralement pas une bonne idée.\n",
    "- Bien gérer les modules. si par exemple dans ma lib, j'ai une fonction sub qui se trouve dans le fichier operations.rs enfant de lib.rs, il faudrait soit :\n",
    "\n",
    "> **... que je déclare le mod operations comme public dans ma lib et que j'y accède depuis l’exécutable avec `use ma-lib::operations::sub` :**\n",
    "\n",
    "> **main.rs**  \n",
    ">```\n",
    ">use ma-lib::operations::test;\n",
    ">```\n",
    ">**lib.rs**\n",
    ">```\n",
    "> pub mod operations;\n",
    ">```\n",
    "\n",
    "> **... Ou soit que je laisse le module privé, mais pour cela, je dois mettre dans lib.rs la ligne `pub use operations::sub` :**\n",
    "\n",
    ">**main.rs**  \n",
    ">```\n",
    ">use ma-lib::sub;\n",
    ">```\n",
    "**lib.rs**\n",
    ">```\n",
    ">mod operations;\n",
    ">pub use uperations::sub;\n",
    ">```"
   ]
  }
 ],
 "metadata": {
  "kernelspec": {
   "display_name": "Rust",
   "language": "rust",
   "name": "rust"
  },
  "language_info": {
   "codemirror_mode": "rust",
   "file_extension": ".rs",
   "mimetype": "text/rust",
   "name": "Rust",
   "pygment_lexer": "rust",
   "version": ""
  },
  "toc": {
   "base_numbering": "2",
   "nav_menu": {},
   "number_sections": true,
   "sideBar": true,
   "skip_h1_title": false,
   "title_cell": "Table of Contents",
   "title_sidebar": "Contents",
   "toc_cell": false,
   "toc_position": {
    "height": "calc(100% - 180px)",
    "left": "10px",
    "top": "150px",
    "width": "268.8px"
   },
   "toc_section_display": true,
   "toc_window_display": false
  }
 },
 "nbformat": 4,
 "nbformat_minor": 5
}
