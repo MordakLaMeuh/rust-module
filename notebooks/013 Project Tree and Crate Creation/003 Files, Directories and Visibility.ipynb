{
 "cells": [
  {
   "cell_type": "markdown",
   "id": "choice-block",
   "metadata": {
    "deletable": false,
    "editable": false
   },
   "source": [
    "# Fichiers, Dossiers et Visibilité\n",
    "\n",
    "---\n",
    "\n",
    "*Aucune information disponible*"
   ]
  }
 ],
 "metadata": {
  "kernelspec": {
   "display_name": "Rust",
   "language": "rust",
   "name": "rust"
  },
  "language_info": {
   "codemirror_mode": "rust",
   "file_extension": ".rs",
   "mimetype": "text/rust",
   "name": "Rust",
   "pygment_lexer": "rust",
   "version": ""
  },
  "toc": {
   "base_numbering": 1,
   "nav_menu": {},
   "number_sections": true,
   "sideBar": true,
   "skip_h1_title": false,
   "title_cell": "Table of Contents",
   "title_sidebar": "Contents",
   "toc_cell": false,
   "toc_position": {},
   "toc_section_display": true,
   "toc_window_display": false
  }
 },
 "nbformat": 4,
 "nbformat_minor": 5
}
