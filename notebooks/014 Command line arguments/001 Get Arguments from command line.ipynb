{
 "cells": [
  {
   "cell_type": "markdown",
   "id": "norman-editor",
   "metadata": {
    "deletable": false,
    "editable": false
   },
   "source": [
    "# Récupérer les arguments\n",
    "\n",
    "---\n",
    "\n",
    "## Présentation de std::env"
   ]
  },
  {
   "cell_type": "markdown",
   "id": "twenty-agent",
   "metadata": {
    "deletable": false,
    "editable": false
   },
   "source": [
    "- Consulter la doc sur le module **std::env** :"
   ]
  },
  {
   "cell_type": "markdown",
   "id": "public-indie",
   "metadata": {
    "deletable": false,
    "editable": false
   },
   "source": [
    "![ENV](pictures/env_doc.png)"
   ]
  },
  {
   "cell_type": "markdown",
   "id": "floppy-ukraine",
   "metadata": {
    "deletable": false,
    "editable": false
   },
   "source": [
    "> La fonction args semble permettre de récupérer les arguments."
   ]
  },
  {
   "cell_type": "markdown",
   "id": "approved-nightmare",
   "metadata": {
    "deletable": false,
    "editable": false
   },
   "source": [
    "## La fonction args() de std::env"
   ]
  },
  {
   "cell_type": "markdown",
   "id": "supposed-publication",
   "metadata": {
    "deletable": false,
    "editable": false
   },
   "source": [
    "```\n",
    "Function std::env::args                                                        1.0.0 · source ·\n",
    "\n",
    "pub fn args() -> Args ⓘ\n",
    "\n",
    "Returns the arguments that this program was started with (normally passed via the command line).\n",
    "\n",
    "The first element is traditionally the path of the executable, but it can be set to arbitrary text, and might not even exist. This means this property should not be relied upon for security purposes.\n",
    "\n",
    "On Unix systems the shell usually expands unquoted arguments with glob patterns (such as * and ?). On Windows this is not done, and such arguments are passed as-is.\n",
    "\n",
    "On glibc Linux systems, arguments are retrieved by placing a function in .init_array. glibc passes argc, argv, and envp to functions in .init_array, as a non-standard extension. This allows std::env::args to work even in a cdylib or staticlib, as it does on macOS and Windows.\n",
    "```"
   ]
  },
  {
   "cell_type": "markdown",
   "id": "impossible-cigarette",
   "metadata": {
    "deletable": false,
    "editable": false
   },
   "source": [
    "> La fonction retourne une structure Args. Voici la documentation de cette dernière :\n",
    "\n",
    "![ARGS](pictures/Args_doc.png)"
   ]
  },
  {
   "cell_type": "markdown",
   "id": "indian-tiffany",
   "metadata": {
    "deletable": false,
    "editable": false
   },
   "source": [
    "## Le trait Iterator"
   ]
  },
  {
   "cell_type": "markdown",
   "id": "hired-insulation",
   "metadata": {
    "deletable": false,
    "editable": false
   },
   "source": [
    "- D'après la documentation de Args, cette structure implémente **le trait Iterator**. Ainsi, la présence de ce trait indique qu'il est possible de parcourir la structure dans une boucle for par exemple.\n",
    "\n",
    "\n",
    "**La documentation de la fonction std::env::args donnait déjà l'exemple ci-dessous.**"
   ]
  },
  {
   "cell_type": "markdown",
   "id": "informed-tribute",
   "metadata": {
    "deletable": false,
    "editable": false
   },
   "source": [
    ">```\n",
    ">fn main() {\n",
    ">    use std::env;\n",
    ">\n",
    ">    // Prints each argument on a separate line\n",
    ">    for argument in env::args() {\n",
    ">        println!(\"argument: {}\", argument);\n",
    ">    }\n",
    ">}\n",
    ">```"
   ]
  },
  {
   "cell_type": "markdown",
   "id": "built-administrator",
   "metadata": {
    "deletable": false,
    "editable": false
   },
   "source": [
    "## Le trait ExactSizeIterator"
   ]
  },
  {
   "cell_type": "markdown",
   "id": "cheap-xerox",
   "metadata": {
    "deletable": false,
    "editable": false
   },
   "source": [
    "- Autre chose, **le trait ExactSizeIterator** étant aussi implémenté, il est possible de connaître à l'avance la 'len' de Args. (Bien que l'on pourrait d'abord collecter les arguments via collect() Puis ensuite demander la taille de la collection obtenue)."
   ]
  },
  {
   "cell_type": "markdown",
   "id": "charming-soviet",
   "metadata": {
    "deletable": false,
    "editable": false
   },
   "source": [
    "![SIZE](pictures/size_doc.png)"
   ]
  },
  {
   "cell_type": "code",
   "execution_count": 4,
   "id": "divided-apollo",
   "metadata": {
    "deletable": false,
    "editable": false
   },
   "outputs": [
    {
     "name": "stderr",
     "output_type": "stream",
     "text": [
      "[src/lib.rs:112] args.len() = 1\n"
     ]
    }
   ],
   "source": [
    "use std::env;\n",
    "\n",
    "let args = env::args();\n",
    "dbg!(args.len()); // Appel de la methode len() fournie par l'implementation de ExactSizeIterator"
   ]
  },
  {
   "cell_type": "markdown",
   "id": "legislative-zambia",
   "metadata": {
    "deletable": false,
    "editable": false
   },
   "source": [
    "## Création de la collection des arguments"
   ]
  },
  {
   "cell_type": "markdown",
   "id": "opponent-lawrence",
   "metadata": {
    "deletable": false,
    "editable": false
   },
   "source": [
    "- On privilégiera l'utilisation de la méthode collect() de Iterator pour récupérer les arguments :\n",
    "\n",
    "![SIZE](pictures/collect_doc.png)"
   ]
  },
  {
   "cell_type": "code",
   "execution_count": 12,
   "id": "infectious-effort",
   "metadata": {
    "deletable": false,
    "editable": false
   },
   "outputs": [],
   "source": [
    "use std::env;\n",
    "\n",
    "fn main() {\n",
    "    let arguments: Vec<String> = env::args().collect();\n",
    "    dbg!(&arguments);\n",
    "    if arguments.len() != 2 {\n",
    "        eprintln!(\"Usage: {} POSITIF_NUMBER\", arguments[0]);\n",
    "        return;\n",
    "    }\n",
    "    let argument = arguments[1].parse::<u32>().unwrap();\n",
    "    println!(\"le nombre est {}\", argument);\n",
    "}"
   ]
  },
  {
   "cell_type": "code",
   "execution_count": 13,
   "id": "impressed-refund",
   "metadata": {
    "deletable": false,
    "editable": false
   },
   "outputs": [
    {
     "name": "stderr",
     "output_type": "stream",
     "text": [
      "[src/lib.rs:4] &arguments = [\n",
      "    \"/home/jupyter/.cargo/bin/evcxr_jupyter\",\n",
      "]\n",
      "Usage: /home/jupyter/.cargo/bin/evcxr_jupyter POSITIF_NUMBER\n"
     ]
    },
    {
     "data": {
      "text/plain": [
       "()"
      ]
     },
     "execution_count": 13,
     "metadata": {},
     "output_type": "execute_result"
    }
   ],
   "source": [
    "main()"
   ]
  },
  {
   "cell_type": "markdown",
   "id": "intimate-olympus",
   "metadata": {
    "deletable": false,
    "editable": false
   },
   "source": [
    "> *Il n'est pas possible de simuler un passage d'argument dans Jupyter d'où le comportement ici.*\n",
    "\n",
    "**Sortie du programme dans le terminal :**\n",
    "\n",
    "\n",
    "\n",
    "```\n",
    "jupyter@820dcefea66a:~/Desktop/prog_test$ cargo run 99933ggg\n",
    "   Compiling prog_test v0.1.0 (/home/jupyter/Desktop/prog_test)\n",
    "    Finished dev [unoptimized + debuginfo] target(s) in 0.26s\n",
    "     Running `target/debug/prog_test 99933ggg`\n",
    "[src/main.rs:8] &args = [\n",
    "    \"target/debug/prog_test\",\n",
    "    \"99933ggg\",\n",
    "]\n",
    "thread 'main' panicked at 'called `Result::unwrap()` on an `Err` value: ParseIntError { kind: InvalidDigit }', src/main.rs:13:43\n",
    "note: run with `RUST_BACKTRACE=1` environment variable to display a backtrace\n",
    "```"
   ]
  },
  {
   "cell_type": "markdown",
   "id": "described-disabled",
   "metadata": {
    "deletable": false,
    "editable": false
   },
   "source": [
    "## Exercices"
   ]
  },
  {
   "cell_type": "markdown",
   "id": "ongoing-vietnamese",
   "metadata": {
    "deletable": false,
    "editable": false,
    "solution2": "hidden",
    "solution2_first": true
   },
   "source": [
    "### Selon la définition de la méthode collect() du trait Iterator, qu'implique le B: FromIterator ?\n",
    "\n",
    "```\n",
    "fn collect<B>(self) -> B\n",
    "where\n",
    "    B: FromIterator<Self::Item>,\n",
    "    Self: Sized,\n",
    "```"
   ]
  },
  {
   "cell_type": "markdown",
   "id": "featured-tongue",
   "metadata": {
    "deletable": false,
    "editable": false,
    "solution2": "hidden"
   },
   "source": [
    "Le type de sortie de la méthode DOIT implémenter le trait FromIterator. C'est le cas pour les collections Vector.\n",
    "\n",
    "![VECTOR](pictures/vector_doc.png)"
   ]
  }
 ],
 "metadata": {
  "kernelspec": {
   "display_name": "Rust",
   "language": "rust",
   "name": "rust"
  },
  "language_info": {
   "codemirror_mode": "rust",
   "file_extension": ".rs",
   "mimetype": "text/rust",
   "name": "Rust",
   "pygment_lexer": "rust",
   "version": ""
  },
  "toc": {
   "base_numbering": 1,
   "nav_menu": {},
   "number_sections": true,
   "sideBar": true,
   "skip_h1_title": false,
   "title_cell": "Table of Contents",
   "title_sidebar": "Contents",
   "toc_cell": false,
   "toc_position": {},
   "toc_section_display": true,
   "toc_window_display": false
  }
 },
 "nbformat": 4,
 "nbformat_minor": 5
}
