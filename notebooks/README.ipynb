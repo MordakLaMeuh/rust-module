{
 "cells": [
  {
   "cell_type": "markdown",
   "id": "solved-ground",
   "metadata": {
    "deletable": false,
    "editable": false
   },
   "source": [
    "# ___FORMATION  AU LANGAGE DE PROGRAMMATION RUST & WEBASM___\n",
    "\n",
    "___"
   ]
  },
  {
   "cell_type": "markdown",
   "id": "third-garage",
   "metadata": {
    "deletable": false,
    "editable": false
   },
   "source": [
    "Bienvenue dans cette formation ! Contrairement à d'autres écoles qui préconisent l'utilisation massive de slides, j'ai préféré créé une image Docker ainsi que des notebooks Jupyter avec le noyau Rust EvCxR pour rendre cette formation plus interactive et vous éviter d'avoir à installer Rust sur vos propres machine. Vous aurez aussi la possibilité d'annoter voir de complètement modifier le cours.\n",
    "\n",
    "Vous pouvez trouver la documentation du noyau EvCxR à [l'adresse suivante](https://depth-first.com/articles/2020/09/21/interactive-rust-in-a-repl-and-jupyter-notebook-with-evcxr/ \"REPL AND JUPYTER\")."
   ]
  },
  {
   "cell_type": "markdown",
   "id": "impressive-learning",
   "metadata": {
    "deletable": false,
    "editable": false
   },
   "source": [
    "- Grâce à ce noyau, il sera possible d'exécuter du code rust."
   ]
  },
  {
   "cell_type": "code",
   "execution_count": 2,
   "id": "heard-printing",
   "metadata": {
    "deletable": false,
    "editable": false
   },
   "outputs": [
    {
     "name": "stdout",
     "output_type": "stream",
     "text": [
      "2 et 2 font 5\n"
     ]
    }
   ],
   "source": [
    "let a = 2;\n",
    "let b = 2;\n",
    "println!(\"{} et {} font {}\", a, b, a + b + 1);"
   ]
  },
  {
   "cell_type": "markdown",
   "id": "sustainable-oakland",
   "metadata": {
    "deletable": false,
    "editable": false
   },
   "source": [
    "- L'interpréteur offre quelques instructions spéciales comme **:vars** qui permet de lister les variables."
   ]
  },
  {
   "cell_type": "code",
   "execution_count": 3,
   "id": "traditional-crystal",
   "metadata": {
    "deletable": false,
    "editable": false
   },
   "outputs": [
    {
     "data": {
      "text/html": [
       "<table><tr><th>Variable</th><th>Type</th></tr><tr><td>a</td><td>i32</td><tr><tr><td>b</td><td>i32</td><tr></table>"
      ],
      "text/plain": [
       "a: i32\n",
       "b: i32\n"
      ]
     },
     "execution_count": 3,
     "metadata": {},
     "output_type": "execute_result"
    }
   ],
   "source": [
    ":vars"
   ]
  },
  {
   "cell_type": "code",
   "execution_count": 4,
   "id": "polish-ability",
   "metadata": {
    "deletable": false,
    "editable": false
   },
   "outputs": [],
   "source": [
    "let s: String = \"Banane\".to_owned();"
   ]
  },
  {
   "cell_type": "markdown",
   "id": "severe-prior",
   "metadata": {
    "deletable": false,
    "editable": false
   },
   "source": [
    "***Il est aussi possible d'ouvrir un terminal pour se rendre aux projets contenus dans l'image Docker, les compiler pour les exécuter.***\n",
    "![TERMINAL_1](000%20Readme%20pictures/new_terminal.png)"
   ]
  },
  {
   "cell_type": "markdown",
   "id": "proprietary-intelligence",
   "metadata": {
    "deletable": false,
    "editable": false
   },
   "source": [
    "***L'image Docker est une debian minimale, mais le terminal suffit largement pour les besoins de la formation.***  \n",
    "![TERMINAL_2](000%20Readme%20pictures/terminal_example.png)\n",
    "![FISH](000%20Readme%20pictures/fishes.png)"
   ]
  },
  {
   "cell_type": "markdown",
   "id": "optical-intermediate",
   "metadata": {
    "deletable": false,
    "editable": false
   },
   "source": [
    "***Si vous hésitez quant à l'éditeur à utiliser pour la formation, sachez que `emacs` est installé dans le container avec `evil mode` pour les raccourcis VIM ainsi que `rust-analyzer` qui donne les erreurs. (Et pour les petits besoins, `nano` est installé aussi). Pour le lancer, il suffit de taper `emacs` ou `emacs -nw` selon le contexte.***\n",
    "![EMACS](000%20Readme%20pictures/emacs.png)"
   ]
  },
  {
   "cell_type": "markdown",
   "id": "featured-renewal",
   "metadata": {
    "deletable": false,
    "editable": false
   },
   "source": [
    "***Evidemment, vous avez aussi la possibilité d'accéder directement au container docker via `docker compose exec boilerplate bash` dans le dossier principal du depot ou bien meme `docker exec -it [CONTAINER_ID] bash`.***\n",
    "![DUAL_TERM](000%20Readme%20pictures/dual_term.png)"
   ]
  },
  {
   "cell_type": "markdown",
   "id": "physical-visit",
   "metadata": {
    "deletable": false,
    "editable": false
   },
   "source": [
    "***Enfin sachez que si vous avez un hôte compatible X11, il est possible d'utiliser Visual Studio Code en mode graphique depuis le container. Pour des raisons de sécurité, cette fonctionnalité n'est pas activée par défaut, alors, afin de pouvoir donner au container le contrôle du serveur X, il faut modifier le fichier `docker-compose.yml` en decommentant la ligne `# - \"/tmp/.X11-unix:/tmp/.X11-unix\"`. Enfin, relancer le container avec la commande `docker compose up` et dans un autre invite de commande, écrire `docker compose exec boilerplate bash code`. Si votre hôte est compatible, xcode se lancera. Notez enfin que vous pouvez lancer de la même façon emacs en mode graphique en remplaçant `code` par `emacs`.***\n",
    "![VS_CODE](000%20Readme%20pictures/vscode.png)"
   ]
  },
  {
   "cell_type": "markdown",
   "id": "alike-edgar",
   "metadata": {
    "deletable": false,
    "editable": false
   },
   "source": [
    "> ***Tout le contenu de la formation se trouve dans le dossier rust-module du dépôt de votre machine hôte, vous pouvez directement accéder aux fichiers et les modifier depuis votre éditeur favori (comme VSCode par exemple).***\n",
    "\n",
    "> ___IMPORTANT___\n",
    ">  \n",
    "> *l'UID et le GID de l'utilisateur du container docker est 1000:1000, il est possible que vous ayez à modifier le uid/gid des dossiers `./rust-module` et `./hidden.directory.config` en fonction grâce à la commande chown: `sudo chown -R 1000:1000 rust-module hidden.directory.config`. En dernier recours, l'umask utilisé pour la génération des fichiers depuis le container devra être changé en 0000. Cela se fait dans les fichiers `./hidden.directory.config/bash/bashrc` et `./hidden.directory.config/container-init.sh`*."
   ]
  },
  {
   "cell_type": "markdown",
   "id": "satellite-benchmark",
   "metadata": {
    "deletable": false,
    "editable": false,
    "solution2": "hidden",
    "solution2_first": true
   },
   "source": [
    "- Enfin, il y aura des solutions cachées qui pourront être débloquées facilement.\n",
    "\n",
    "**Comment A-ton découvert la radioactivité ?**"
   ]
  },
  {
   "cell_type": "code",
   "execution_count": 2,
   "id": "universal-sense",
   "metadata": {
    "deletable": false,
    "editable": false,
    "solution2": "hidden"
   },
   "outputs": [
    {
     "name": "stdout",
     "output_type": "stream",
     "text": [
      "Le 26 février 1896, le physicien Henri Becquerel a enfermé par hasard, dans un tiroir des cailloux d'uranium avec des plaques photographiques. Quatre jours plus tard, il a découvert en développant les plaques photographiques, la silhouette des cailloux d'uranium.\n"
     ]
    }
   ],
   "source": [
    "println!(\"Le 26 février 1896, le physicien Henri Becquerel a enfermé par hasard, dans un tiroir des cailloux d'uranium avec des plaques photographiques. Quatre jours plus tard, il a découvert en développant les plaques photographiques, la silhouette des cailloux d'uranium.\");\n"
   ]
  },
  {
   "cell_type": "markdown",
   "id": "light-figure",
   "metadata": {
    "deletable": false,
    "editable": false
   },
   "source": [
    "*Pour en savoir plus sur le kernel RUST de Jupyter, rendez vous [le dépot github officiel](https://github.com/hgfkeep/rust-jupyter/blob/master/rust-jupyter-example.ipynb \"Tour of the EvCxR Jupyter Kernel\").*"
   ]
  },
  {
   "cell_type": "markdown",
   "id": "sustained-pixel",
   "metadata": {
    "deletable": false,
    "editable": false
   },
   "source": [
    ">**ATTENTION, LES CHAPITRES 009 A 014 SONT PUREMENT INFORMATIFS ET NE FONT PAS PARTIE DE LA FORMATION RUST AVEC WEBASSEMBLY. D'AUTRES NOTIONS COMME LES TRAITS OBJET, LES FONCTIONS CONSTANTES, LES SUPERTRAITS, L'UNSAFE RUST ET LES MACROS PROCEDURALES NE SONT PAS PRESENTES DU TOUT PUISQUE TROP AVANCÉES.**"
   ]
  }
 ],
 "metadata": {
  "kernelspec": {
   "display_name": "Rust",
   "language": "rust",
   "name": "rust"
  },
  "language_info": {
   "codemirror_mode": "rust",
   "file_extension": ".rs",
   "mimetype": "text/rust",
   "name": "Rust",
   "pygment_lexer": "rust",
   "version": ""
  },
  "toc": {
   "base_numbering": "0",
   "nav_menu": {
    "height": "11.8333px",
    "width": "160px"
   },
   "number_sections": true,
   "sideBar": true,
   "skip_h1_title": true,
   "title_cell": "Table of Contents",
   "title_sidebar": "Contents",
   "toc_cell": false,
   "toc_position": {
    "height": "calc(100% - 180px)",
    "left": "10px",
    "top": "150px",
    "width": "373px"
   },
   "toc_section_display": true,
   "toc_window_display": false
  }
 },
 "nbformat": 4,
 "nbformat_minor": 5
}
