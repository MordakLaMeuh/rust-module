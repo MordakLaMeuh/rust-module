{
 "cells": [
  {
   "cell_type": "markdown",
   "id": "precious-equipment",
   "metadata": {},
   "source": [
    "# Le WebAssembly\n",
    "\n",
    "---\n",
    "\n",
    "**Bienvenu dans ce sous-module web assembly de la formation Rust. Je l'ai écrit pour le destiner à la mise en pratique du langage de programmation Rust dans le cadre de la création web. Elle est décomposée en 3 parties pour les 3 jours de la formation :**\n",
    "\n",
    "> - Présentation et **premiers pas** en web assembly.\n",
    "> - Contrôle du DOM et **fonctionnalités plus avancées**.\n",
    "> - **WebApp** et **WebGL**.\n",
    "\n",
    "![WEBASM_LOGO](pictures/webasm_logo.png)\n",
    "\n",
    "**J'essayerai du mieux possible de maintenir l'équilibre entre la formation Rust de base et son application ici.**"
   ]
  },
  {
   "cell_type": "markdown",
   "id": "cleared-hacker",
   "metadata": {
    "deletable": false,
    "editable": false
   },
   "source": [
    "## Qu'est ce que le Web Assembly\n",
    "\n",
    "La création du web assembly a été motivée par deux idées. La première est d'accélérer l'exécution de code dans les navigateurs, car, on ne peut pas dire que l'interprétation du javascript soit source de rapidité ! Google avec son moteur V8 s'interessera a la possibilite de compiler du javascript et créera Node. La seconde idée quant à elle est venue de Mozilla et consistait à écrire du code web en C, ainsi est né le programme emscripten qui permet de générer du code web assembly ou .wasm à partir de fichiers écrits en C. C'est en 2015 que le standard web assembly est créé.\n",
    "\n",
    "### Le format .wasm\n",
    "\n",
    "> La compilation vers le web assembly de code écrit en `C`, en `Rust` ou même en `Go` génèrera un fichier à l'extension `.wasm` (abréviation de web assembly). C'est un fichier binaire qui sera présent sur le serveur web et téléchargé par les navigateurs clients. Néanmoins, ce binaire ne sera pas directement exécuté par les machines hôte, et sera convertie dynamiquement par le navigateur dans une sanbox selon le processeur et l'architecture du système hôte. \n",
    "\n",
    "> Ce fichier binaire est donc un bytecode, un fichier universel qui aboutiera a de véritables instructions binaires exécutées par le navigateur de l'hôte."
   ]
  },
  {
   "cell_type": "markdown",
   "id": "opening-idaho",
   "metadata": {
    "deletable": false,
    "editable": false
   },
   "source": [
    "![WEBASM_COMP](pictures/compilation.svg)"
   ]
  },
  {
   "cell_type": "markdown",
   "id": "tamil-portal",
   "metadata": {
    "deletable": false,
    "editable": false
   },
   "source": [
    "### Points fort du web assembly\n",
    "\n",
    "- Supporte tous types de plateforme.\n",
    "- Bien plus performant que JavaScript.\n",
    "- Plusieurs langages permettent de faire du web assembly."
   ]
  },
  {
   "cell_type": "markdown",
   "id": "blessed-motivation",
   "metadata": {
    "deletable": false,
    "editable": false
   },
   "source": [
    "## Le format texte: WAT\n",
    "\n",
    "> Comme je l'ai dit précédemment, le fichier au format wasm n'est pas la représentation définitive de ce qui sera exécuté par le navigateur, mais un format intermédiaire et universel, qui sera compilé par le navigateur pour l'ordinateur de l'hôte.\n",
    "\n",
    "> Un fichier .wasm peut se convertir en fichier .wat `Web Assembly Text` avec la commande `wasm2wat` que l'on peut installer sous Debian via `apt install wabt`, voici un extrait d'un fichier de ce type :\n",
    "\n",
    "**Sortie de la commande `wasm2wat domcontrol_wasm_bg.wasm` :**\n",
    "```\n",
    "  [...]\n",
    "  (global (;0;) (mut i32) (i32.const 1048576))\n",
    "  (export \"memory\" (memory 0))\n",
    "  (export \"allocate_in\" (func 23))\n",
    "  (export \"test_fn\" (func 19))\n",
    "  (export \"xtermconvertion\" (func 11))\n",
    "  (export \"createcanvas\" (func 8))\n",
    "  (export \"__wbindgen_malloc\" (func 47))\n",
    "  (export \"__wbindgen_realloc\" (func 51))\n",
    "  (export \"__wbindgen_add_to_stack_pointer\" (func 77))\n",
    "  (export \"__wbindgen_free\" (func 61))\n",
    "  (elem (;0;) (i32.const 1) func 65 17 76 55 54 42 14 36 92 63 92 39 12 32 31 92 40 13 33 54 90 91 50 20 29 44 67 89 92 41 74 34 75 64 69 92 89)\n",
    "  (data (;0;) (i32.const 1048576) \"\\05\\00\\00\\00\\0c\\00\\00\\00\\04\\00\\00\\00\\06\\00\\00\\00\\07\\00\\00\\00\\08\\00\\00\\00a Display implementation returned an error unexpectedly\\00\\09\\00\\00\\00\\00\\00\\00\\00\\01\\00\\00\\00\\0a\\00\\00\\00/rustc/84c898d65adf2f39a5a98507f1fe0ce10a2b8dbc/library/alloc/src/string.rs\\00`\\00\\10\\00K\\00\\00\\00\\e5\\09\\00\\00\\0e\\00\\00\\00\\bc\\00\\10\\00\\00\\00\\00\\00Enter\\0a\\0dYou say \\0a\\0d$ \\00\\c9\\00\\10\\00\\0a\\00\\00\\00\\d3\\00\\10\\00\\04\\00\\00\\00\\0b\\00\\00\\00\\04\\00\\00\\00\\04\\00\\00\\00\\0c\\00\\00\\00\\0d\\00\\00\\00\\0e\\00\\00\\00\\10\\00\\00\\00\\04\\00\\00\\00\\04\\00\\00\\00\\11\\00\\00\\00\\12\\00\\00\\00\\13\\00\\00\\00called `Option::unwrap()` on a `None` valuememory allocation of  bytes failed\\00\\00\\00C\\01\\10\\00\\15\\00\\00\\00X\\01\\10\\00\\0d\\00\\00\\00library/std/src/alloc.rsx\\01\\10\\00\\18\\00\\00\\00U\\01\\00\\00\\09\\00\\00\\00library/std/src/panicking.rs\\a0\\01\\10\\00\\1c\\00\\00\\00B\\02\\00\\00\\1e\\00\\00\\00\\a0\\01\\10\\00\\1c\\00\\00\\00A\\02\\00\\00\\1f\\00\\00\\00\\14\\00\\00\\00\\0c\\00\\00\\00\\04\\00\\00\\00\\15\\00\\00\\00\\10\\00\\00\\00\\08\\00\\00\\00\\04\\00\\00\\00\\16\\00\\00\\00\\17\\00\\00\\00\\10\\00\\00\\00\\04\\00\\00\\00\\18\\00\\00\\00\\19\\00\\00\\00\\10\\00\\00\\00\\08\\00\\00\\00\\04\\00\\00\\00\\1a\\00\\00\\00\\1b\\00\\00\\00\\10\\00\\00\\00\\00\\00\\00\\00\\01\\00\\00\\00\\1c\\00\\00\\00\\1d\\00\\00\\00\\04\\00\\00\\00\\04\\00\\00\\00\\1e\\00\\00\\00\\1f\\00\\00\\00 \\00\\00\\00library/alloc/src/raw_vec.rscapacity overflow\\00\\00\\00h\\02\\10\\00\\11\\00\\00\\00L\\02\\10\\00\\1c\\00\\00\\00\\0d\\02\\00\\00\\05\\00\\00\\00a formatting trait implementation returned an error\\00\\1d\\00\\00\\00\\00\\00\\00\\00\\01\\00\\00\\00\\0a\\00\\00\\00library/alloc/src/fmt.rs\\d8\\02\\10\\00\\18\\00\\00\\00d\\02\\00\\00 \\00\\00\\00$\\00\\00\\00\\00\\00\\00\\00\\01\\00\\00\\00%\\00\\00\\00: \\00\\00\\00\\03\\10\\00\\00\\00\\00\\00\\10\\03\\10\\00\\02\\00\\00\\0000010203040506070809101112131415161718192021222324252627282930313233343536373839404142434445464748495051525354555657585960616263646566676869707172737475767778798081828384858687888990919293949596979899Error\")\n",
    "  (data (;1;) (i32.const 1049592) \"\\01\"))\n",
    "```\n",
    "\n",
    "> Ce dump représente la fin du fichier, on peut y voir l'export des fonctions du fichier rust `allocate_in`, `test_fn`, `xtermconvertion` et `createcanvas`. Fonctions qui seront ici appelées depuis le code JavaScript du fichier index.html de ce projet de test.\n",
    "\n",
    "*Il n'est vraiment pas conseillé de travailler directement avec le format text de web assembly !*"
   ]
  },
  {
   "cell_type": "markdown",
   "id": "settled-singles",
   "metadata": {
    "deletable": false,
    "editable": false
   },
   "source": [
    "## La compatibilité des navigateurs WEB\n",
    "\n",
    "> Tous les navigateurs existant dans leurs versions actuelles tel Safari, Chrome, Edge et Firefox ont la capacité de pouvoir compiler du code WebAssembly. Mais sans surprise, IE11 ne fait pas partie de la liste ! Ici, vous trouverez un tableau récapitulatif de la prise en charge de wasm : [https://caniuse.com/wasm](https://caniuse.com/wasm).\n",
    "\n",
    "![COMPAT](pictures/webasm_comp.png)"
   ]
  }
 ],
 "metadata": {
  "kernelspec": {
   "display_name": "Rust",
   "language": "rust",
   "name": "rust"
  },
  "language_info": {
   "codemirror_mode": "rust",
   "file_extension": ".rs",
   "mimetype": "text/rust",
   "name": "Rust",
   "pygment_lexer": "rust",
   "version": ""
  },
  "toc": {
   "base_numbering": 1,
   "nav_menu": {},
   "number_sections": true,
   "sideBar": true,
   "skip_h1_title": false,
   "title_cell": "Table of Contents",
   "title_sidebar": "Contents",
   "toc_cell": false,
   "toc_position": {},
   "toc_section_display": true,
   "toc_window_display": false
  }
 },
 "nbformat": 4,
 "nbformat_minor": 5
}
