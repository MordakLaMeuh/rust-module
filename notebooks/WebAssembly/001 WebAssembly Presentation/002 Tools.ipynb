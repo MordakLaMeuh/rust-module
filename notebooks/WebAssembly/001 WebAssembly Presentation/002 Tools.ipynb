{
 "cells": [
  {
   "cell_type": "markdown",
   "id": "deadly-blank",
   "metadata": {
    "deletable": false,
    "editable": false
   },
   "source": [
    "# Les outils pour le WebAssembly en Rust\n",
    "\n",
    "---"
   ]
  },
  {
   "cell_type": "markdown",
   "id": "monetary-terminology",
   "metadata": {
    "deletable": false,
    "editable": false
   },
   "source": [
    "> Il existe plusieurs programmes nécessaires qui serviront à bien mener l'expérience du WebAssembly avec Rust. Ils n'ont pas tous la même importance selon ce que l'on cherchera à faire. \n",
    "\n",
    "> L'image Docker que je vous ai fourni contient déjà tous ces outils, cette partie ne vous servirait que si vous avez installé Rust sur vos machines."
   ]
  },
  {
   "cell_type": "markdown",
   "id": "familiar-shark",
   "metadata": {
    "deletable": false,
    "editable": false
   },
   "source": [
    "## La target wasm32 de Rust"
   ]
  },
  {
   "cell_type": "markdown",
   "id": "ethical-gothic",
   "metadata": {
    "deletable": false,
    "editable": false
   },
   "source": [
    "- La target wasm32 permet de compiler un programme écrit en Rust en WebAssembly, c'est l'élément le plus essentiel. Pour l'installer, il suffit de demander à rustup d'ajouter cette nouvelle target :\n",
    "\n",
    "`rustup target add wasm32-unknown-unknown`"
   ]
  },
  {
   "cell_type": "markdown",
   "id": "hourly-devil",
   "metadata": {
    "deletable": false,
    "editable": false
   },
   "source": [
    "> La commande `rustup target list` permet de montrer l'existance de cette target :\n",
    "```\n",
    "[...]\n",
    "thumbv8m.base-none-eabi\n",
    "thumbv8m.main-none-eabi\n",
    "thumbv8m.main-none-eabihf\n",
    "wasm32-unknown-emscripten\n",
    "wasm32-unknown-unknown (installed)\n",
    "wasm32-wasi\n",
    "x86_64-apple-darwin\n",
    "x86_64-apple-ios\n",
    "x86_64-fortanix-unknown-sgx\n",
    "x86_64-linux-android\n",
    "x86_64-pc-solaris\n",
    "x86_64-pc-windows-gnu\n",
    "x86_64-pc-windows-msvc\n",
    "x86_64-sun-solaris\n",
    "x86_64-unknown-freebsd\n",
    "x86_64-unknown-fuchsia\n",
    "x86_64-unknown-illumos\n",
    "x86_64-unknown-linux-gnu (installed)\n",
    "x86_64-unknown-linux-gnux32\n",
    "x86_64-unknown-linux-musl\n",
    "x86_64-unknown-netbsd\n",
    "x86_64-unknown-none\n",
    "x86_64-unknown-redox\n",
    "x86_64-unknown-uefi\n",
    "\n",
    "```"
   ]
  },
  {
   "cell_type": "markdown",
   "id": "enabling-donna",
   "metadata": {
    "deletable": false,
    "editable": false
   },
   "source": [
    "> Remarquez le petit `(installed)` tout à droite des targets."
   ]
  },
  {
   "cell_type": "markdown",
   "id": "applicable-solomon",
   "metadata": {
    "deletable": false,
    "editable": false
   },
   "source": [
    "## Le programme wasm-pack"
   ]
  },
  {
   "cell_type": "markdown",
   "id": "impressive-islam",
   "metadata": {
    "deletable": false,
    "editable": false
   },
   "source": [
    "> La target wasm32 de rust ne suffit qu'à compiler un programme écrit en Rust vers du WebAssembly au format .wasm, seulement si on veut l'utiliser conjointement a une page Web, il manquera pas mal d'éléments pour faire la jonction.  En effet, wasm-pack facilite l'interaction entre le code Wasm et JavaScript, en générant automatiquement des fichiers d'enveloppe (bindings) pour vous permettre d'appeler des fonctions Wasm depuis JavaScript et vice versa.\n",
    "\n",
    "- Wasm-pack s'installe avec Cargo :\n",
    "\n",
    "`cargo install wasm-pack`"
   ]
  },
  {
   "cell_type": "markdown",
   "id": "ethical-broad",
   "metadata": {
    "deletable": false,
    "editable": false
   },
   "source": [
    "## Node et npm"
   ]
  },
  {
   "cell_type": "markdown",
   "id": "reduced-tournament",
   "metadata": {
    "deletable": false,
    "editable": false
   },
   "source": [
    "> Enfin, afin de permettre de faciliter la gestion des dépendances, l'intégration avec des outils JavaScript, et la distribution du code écrit en WebAssembly, vous pouvez installer l'écosystème node.\n",
    "\n",
    "- Afin d'être le plus à jour, j'ai choisi une installation manuelle depuis le site :\n",
    "\n",
    "Téléchargement depuis le site [https://nodejs.org/en](https://nodejs.org/en) : (version **linux 64**)\n",
    "\n",
    "> `wget https://nodejs.org/dist/v18.16.0/node-v18.16.0-linux-x64.tar.xz -P ${HOME}`\n",
    "\n",
    "Extraction de l'archive :\n",
    "\n",
    "> `tar -xvf ${HOME}/node-v18.16.0-linux-x64.tar.xz -C ${HOME}`\n",
    "\n",
    "Rendre les binaires accessibles en les ajoutant au path :\n",
    "\n",
    "> `PATH=${HOME}/node-v18.16.0-linux-x64/bin:${PATH}`"
   ]
  },
  {
   "cell_type": "markdown",
   "id": "bound-combine",
   "metadata": {
    "deletable": false,
    "editable": false
   },
   "source": [
    "## D'autres outils pratiques"
   ]
  },
  {
   "cell_type": "markdown",
   "id": "insured-domain",
   "metadata": {
    "deletable": false,
    "editable": false
   },
   "source": [
    "- Il peut être intéressant d'installer `cargo watch` afin que le code rust puisse être automatiquement recompilé en wasm dès que l'on met à jour les fichiers .rs. Cargo watch fonctionne bien de concert avec `npm run serve`.\n",
    "\n",
    "`cargo install cargo-watch`"
   ]
  }
 ],
 "metadata": {
  "kernelspec": {
   "display_name": "Rust",
   "language": "rust",
   "name": "rust"
  },
  "language_info": {
   "codemirror_mode": "rust",
   "file_extension": ".rs",
   "mimetype": "text/rust",
   "name": "Rust",
   "pygment_lexer": "rust",
   "version": ""
  },
  "toc": {
   "base_numbering": "2",
   "nav_menu": {},
   "number_sections": true,
   "sideBar": true,
   "skip_h1_title": false,
   "title_cell": "Table of Contents",
   "title_sidebar": "Contents",
   "toc_cell": false,
   "toc_position": {
    "height": "calc(100% - 180px)",
    "left": "10px",
    "top": "150px",
    "width": "268.8px"
   },
   "toc_section_display": true,
   "toc_window_display": false
  }
 },
 "nbformat": 4,
 "nbformat_minor": 5
}
