{
 "cells": [
  {
   "cell_type": "markdown",
   "id": "ceramic-split",
   "metadata": {
    "deletable": false,
    "editable": false
   },
   "source": [
    "# La documentation pour bien débuter\n",
    "\n",
    "---"
   ]
  },
  {
   "cell_type": "markdown",
   "id": "confirmed-insight",
   "metadata": {
    "deletable": false,
    "editable": false
   },
   "source": [
    "## La documentation officielle de Mozzila pour le WebAsm\n",
    "\n",
    "> Ce premier document est plutôt généraliste puisqu'elle est loin de ne concerner que le langage Rust. Elle décrit ce qu'est le WebAssembly et propose des exemples très simples d'implémentations pour le C et le Rust. Cependant, beaucoup d'informations fournies par cette documentation importeront peu les débutants désireux de faire du WebAssembly en Rust, qui préféreront utiliser directement la documentation de la crate wasm-bindgen.\n",
    "\n",
    "Quoi qu'il en soit, vous trouvez la documentation de Mozzila ici [https://developer.mozilla.org/en-US/docs/WebAssembly](https://developer.mozilla.org/en-US/docs/WebAssembly).\n",
    "\n",
    "![MOZILLA_WEBASM](pictures/mozzila_webasm.png)"
   ]
  },
  {
   "cell_type": "markdown",
   "id": "wrapped-message",
   "metadata": {
    "deletable": false,
    "editable": false
   },
   "source": [
    "## Wasm Bindgen"
   ]
  },
  {
   "cell_type": "markdown",
   "id": "characteristic-peoples",
   "metadata": {
    "deletable": false,
    "editable": false
   },
   "source": [
    "> Afin de pouvoir interagir avec une page web, du code javascript et d'autres modules, le code écrit en Rust destine au WebAssembly utilisera la crate `wasm-bindgen`. Bindgen tout court est un programme écrit en Rust qui permet de faire de la FFI en générant des fichiers `.rs` à partir de fichier headers C/C++  `.h`. Il n'est donc pas étonnant que l'équivalent pour le WebAssembly se nomme wasm-bindgen.\n",
    "\n",
    "> Nous utiliserons dans tous nos programmes la crate wasm-bindgen. Pour la décrire rapidement, elle fournit des macros procédurales qui réécriront les prototypes de nos fonctions en modifiant les types Rust vers des types Javascript afin que les deux langages puissent interagir ensembles.\n",
    "\n",
    "Vous trouverez la documentation de wasm_bindgen ici [https://rustwasm.github.io/wasm-bindgen/introduction.html](https://rustwasm.github.io/wasm-bindgen/introduction.html).\n",
    "\n",
    "![WASM BINDGEN](pictures/wasm_bindgen.png)"
   ]
  },
  {
   "cell_type": "markdown",
   "id": "brief-american",
   "metadata": {
    "deletable": false,
    "editable": false
   },
   "source": [
    "## L'introduction \"Rust and WebAssembly\", enfin le tutoriel ...\n",
    "\n",
    "> Ce dernier document que je vais vous présenter ici n'est en fait pas vraiment une introduction, bien qu'elle soit présentée comme telle. D'abord, elle s'adresse à des développeurs qui ont déjà de solides bases en Rust et ne constitue en rien une introduction au langage Rust.\n",
    "\n",
    "> Ensuite, il s'agit pour la première partie d'un tutoriel plus qu'une documentation stricte, la dernière partie \"Référence\" est néanmoins du plus intéressant quant à de nombreux aspects du WebAssembly avec Rust.\n",
    "\n",
    "> Vous trouverez cette \"introduction\" ici [https://rustwasm.github.io/docs/book/introduction.html](https://rustwasm.github.io/docs/book/introduction.html).\n",
    "\n",
    "![RUST_WEBASM](pictures/rust_and_webasm.png)"
   ]
  },
  {
   "cell_type": "markdown",
   "id": "physical-blanket",
   "metadata": {
    "deletable": false,
    "editable": false
   },
   "source": [
    "**À LA FIN DE CETTE FORMATION, VOUS SEREZ CERTAINEMENT EN MESURE DE SUIVRE ET DE COMPRENDRE CE TUTORIEL, JE VOUS CONSEILLE VIVEMENT DE LE FAIRE AFIN QUE VOUS PUISSIEZ CONSOLIDER LES CONNAISSANCES QUE VOUS AUREZ ACQUISES ICI.**"
   ]
  }
 ],
 "metadata": {
  "kernelspec": {
   "display_name": "Rust",
   "language": "rust",
   "name": "rust"
  },
  "language_info": {
   "codemirror_mode": "rust",
   "file_extension": ".rs",
   "mimetype": "text/rust",
   "name": "Rust",
   "pygment_lexer": "rust",
   "version": ""
  },
  "toc": {
   "base_numbering": "3",
   "nav_menu": {},
   "number_sections": true,
   "sideBar": true,
   "skip_h1_title": false,
   "title_cell": "Table of Contents",
   "title_sidebar": "Contents",
   "toc_cell": false,
   "toc_position": {
    "height": "calc(100% - 180px)",
    "left": "10px",
    "top": "150px",
    "width": "268.8px"
   },
   "toc_section_display": true,
   "toc_window_display": false
  }
 },
 "nbformat": 4,
 "nbformat_minor": 5
}
