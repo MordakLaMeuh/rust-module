{
 "cells": [
  {
   "cell_type": "markdown",
   "id": "major-terror",
   "metadata": {
    "deletable": false,
    "editable": false
   },
   "source": [
    "# Désactiver le cache de votre navigateur Web\n",
    "\n",
    "---\n",
    "\n",
    "> Avant toute chose, il est important de désactiver le cache de votre navigateur pour la tab courante qui vous servira à tester votre programme. Si vous laissez le cache actif, vos modifications ne seront pas prises en compte et vous aurez l'impression d'avoir oublié de générer votre fichier wasm ou qu'un bug est survenu.\n",
    "\n",
    "## Navigateur Firefox\n",
    "\n",
    "`Menu en haut à droite` -> `more tools` -> `Web Developer Tools` -> `Network` -> `Disable HTTP cache`\n",
    "\n",
    "- **Menu en haut à droite / more tools :**\n",
    "![FIREFOX 1](pictures/fi1.png)\n",
    "- **Web Developer Tool**\n",
    "![FIREFOX 2](pictures/fi2.png)\n",
    "- **Network**\n",
    "![FIREFOX 3](pictures/fi3.png)\n",
    "- **Disable HTTP cache** (en haut a droite)\n",
    "![FIREFOX 4](pictures/fi4.png)"
   ]
  },
  {
   "cell_type": "markdown",
   "id": "finished-number",
   "metadata": {
    "deletable": false,
    "editable": false
   },
   "source": [
    "## Navigateur chrome\n",
    "\n",
    "`Menu en haut à droite` -> `more tools` -> `Developer Tools` -> `Network` -> `Disable HTTP cache`\n",
    "\n",
    "- **Menu en haut à droite -> more tools -> Developer Tools**\n",
    "![CHROME 1](pictures/ch1.png)\n",
    "- **Network -> Disable HTTP cache**\n",
    "![CHROME_2](pictures/ch2.png)"
   ]
  }
 ],
 "metadata": {
  "kernelspec": {
   "display_name": "Rust",
   "language": "rust",
   "name": "rust"
  },
  "language_info": {
   "codemirror_mode": "rust",
   "file_extension": ".rs",
   "mimetype": "text/rust",
   "name": "Rust",
   "pygment_lexer": "rust",
   "version": ""
  },
  "toc": {
   "base_numbering": "4",
   "nav_menu": {},
   "number_sections": true,
   "sideBar": true,
   "skip_h1_title": false,
   "title_cell": "Table of Contents",
   "title_sidebar": "Contents",
   "toc_cell": false,
   "toc_position": {
    "height": "calc(100% - 180px)",
    "left": "10px",
    "top": "150px",
    "width": "268.8px"
   },
   "toc_section_display": true,
   "toc_window_display": false
  }
 },
 "nbformat": 4,
 "nbformat_minor": 5
}
