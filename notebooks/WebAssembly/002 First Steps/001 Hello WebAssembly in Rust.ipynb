{
 "cells": [
  {
   "cell_type": "markdown",
   "id": "comprehensive-patch",
   "metadata": {
    "deletable": false,
    "editable": false
   },
   "source": [
    "# Un Hello WebAssembly écrit en Rust\n",
    "\n",
    "---\n",
    "\n",
    "> Dans ce chapitre, vous allez créer votre premier fichier wasm à partir de code écrit en Rust puis l'exécuter.\n",
    "\n",
    "## Création d'un nouveau projet Rust\n",
    "\n",
    "Tout commence en Rust par la magie de Cargo, un projet destine au web n'échappe pas à cette règle. Ainsi la première commande sera un **cargo new**.\n",
    "\n",
    "- Rendez-vous sur l'image Docker grâce à la commande `docker compose exec boilerplate bash` ou en exécutant le script `shell-docker.sh` puis exécutez cargo :\n",
    "\n",
    "`cargo new --lib first-step`\n",
    "\n",
    "> Contrairement à ce que nous avons vu dans le module principal Rust, il ne sera pas question ici de faire un fichier exécutable à partir d'une fonction main, mais une librairie qui sera utilisée en tant que tel par le navigateur web. Donc au lieu de nous avoir généré un fichier main.rs, la commande ci-dessus avec le `--lib` a écrit un fichier `lib.rs`.\n",
    "\n",
    "```\n",
    ".\n",
    " |-Cargo.toml\n",
    " |-.git\n",
    " | |-info\n",
    " | ... Some git stuff ...\n",
    " |-.gitignore\n",
    " |-src\n",
    " | |-lib.rs\n",
    "\n",
    "```"
   ]
  },
  {
   "cell_type": "markdown",
   "id": "binary-array",
   "metadata": {
    "deletable": false,
    "editable": false
   },
   "source": [
    "## Configuration de cargo\n",
    "\n",
    "Puisque nous allons utiliser la crate wasm-bindgen afin de pouvoir interfacer le code Rust avec JavaScript, il est nécessaire de l'ajouter aux dépendances.\n",
    "\n",
    "La communauté Rust écrit une incroyable multitude de crates qui se trouvent sur [crates.io](crates.io), c'est là que nous trouverons la crate wasm-bindgen. *Souvenez-vous qu'une crate représente une unité de compilation.*\n",
    "\n",
    "**Lançons la recherche wasm-bindgen :**\n",
    "\n",
    "![CRATES_IO_BINDGEN](pictures/wasm_bindgen_crates.io.png)"
   ]
  },
  {
   "cell_type": "markdown",
   "id": "passing-engagement",
   "metadata": {
    "deletable": false,
    "editable": false
   },
   "source": [
    "*Vous pouvez constater que l'équipe de dev de wasm-bindgen donne un exemple complet sur le site crates.io, ce sera souvent le cas de toutes les crates que vous utiliserez.*"
   ]
  },
  {
   "cell_type": "markdown",
   "id": "ideal-biotechnology",
   "metadata": {
    "deletable": false,
    "editable": false
   },
   "source": [
    "A droite de la page, au mileu vous avezla ligne qu'il vous faudrait copier dans la partie `[dependencies]` de votre fichier Cargo.toml :\n",
    "\n",
    "> `wasm-bindgen = \"0.2.86\"` "
   ]
  },
  {
   "cell_type": "markdown",
   "id": "documentary-hollow",
   "metadata": {
    "deletable": false,
    "editable": false
   },
   "source": [
    "Enfin, on rajoutera cette section au fichier :\n",
    "\n",
    "```\n",
    "[lib]\n",
    "crate-type = [\"cdylib\"]\n",
    "```\n",
    "\n",
    "*cdylib signifie librairie dynamique, c'est le seul style de crate qui fonctionne avec wasm-pack...*"
   ]
  },
  {
   "cell_type": "markdown",
   "id": "gothic-affiliate",
   "metadata": {
    "deletable": false,
    "editable": false
   },
   "source": [
    "**Le fichier `Cargo.toml` sera donc ainsi :**\n",
    "\n",
    "```\n",
    "[package]\n",
    "name = \"first-step\"\n",
    "version = \"0.1.0\"\n",
    "edition = \"2021\"\n",
    "\n",
    "# See more keys and their definitions at https://doc.rust-lang.org/cargo/reference/manifest.html\n",
    "\n",
    "[lib]\n",
    "crate-type = [\"cdylib\"]\n",
    "\n",
    "[dependencies]\n",
    "wasm-bindgen = \"0.2.86\"\n",
    "```"
   ]
  },
  {
   "cell_type": "markdown",
   "id": "micro-imagination",
   "metadata": {
    "deletable": false,
    "editable": false
   },
   "source": [
    "## Le code minimal\n",
    "\n",
    "> Pour ce qui est de notre fichier lib.rs du dossier .src/, il est peut-être avisé de copier l'exemple donné par la team de wasm-bindgen sur crates.io. Les exemples proposés par les crates sont souvent ainsi utilisés :\n",
    "> - On les copie.\n",
    "> - On regarde si ça fonctionne et comment.\n",
    "> - On consulte la documentation de la crate pour en savoir plus sur ses fonctionnalités.\n",
    "> - Et on enrichit l'utilisation que l'on en fait."
   ]
  },
  {
   "cell_type": "markdown",
   "id": "backed-interference",
   "metadata": {
    "deletable": false,
    "editable": false
   },
   "source": [
    "- Remplaçons le contenu du fichier `lib.rs` par cet exemple :\n",
    "\n",
    "```\n",
    "use wasm_bindgen::prelude::*;\n",
    "\n",
    "// Import the `window.alert` function from the Web.\n",
    "#[wasm_bindgen]\n",
    "extern \"C\" {\n",
    "    fn alert(s: &str);\n",
    "}\n",
    "\n",
    "// Export a `greet` function from Rust to JavaScript, that alerts a\n",
    "// hello message.\n",
    "#[wasm_bindgen]\n",
    "pub fn greet(name: &str) {\n",
    "    alert(&format!(\"Hello, {}!\", name));\n",
    "}\n",
    "```"
   ]
  },
  {
   "cell_type": "markdown",
   "id": "forced-abortion",
   "metadata": {
    "deletable": false,
    "editable": false
   },
   "source": [
    "### Importation du prélude de wasm-bindgen\n",
    "\n",
    "`use wasm_bindgen::prelude::*;`\n",
    "\n",
    "Nous avons déjà vu le `use` dans la partie sur les namespaces du chapitre 002 de la formation Rust, on importe avec le wildcard `*` tout ce qui est présent dans le namespace wasm_bindgen::prelude.\n",
    "\n",
    "`cargo doc --open`\n",
    "\n",
    "![BIND_PRELUDE](pictures/wasm_prelude.png)\n",
    "\n",
    "**Ici ce qui va nous servir c'est la macro procédurale `wasm_bindgen`.**\n",
    "\n",
    "**Cette macro fait la conversion entre les types Rust et les types Javascript de façon transparente.**\n",
    "\n",
    "*Pour information, les macros procédurales permettent de créer des extensions de syntaxe, mais ce n'est pas la question dans cette formation*.\n",
    "\n"
   ]
  },
  {
   "cell_type": "markdown",
   "id": "different-candy",
   "metadata": {
    "deletable": false,
    "editable": false
   },
   "source": [
    "### La déclaration d'une fonction externe\n",
    "\n",
    "Lorsque l'on utilise Rust à des fins de FFI afin de pouvoir communiquer avec d'autres langages de programmation, les fonctions étrangères au rust à appeler seront notées comme `extern`, elles ne sont donc pas définies dans la crate. *Dans un programme C + Rust, c'est le linker qui fera les correspondances d'adresse entre les fonctions.*\n",
    "\n",
    "> Ici, on indique à la librairie qu'une fonction externe nommée `alert` existe et qu'elle est appelable en lui passant une chaine de caractère en paramètre."
   ]
  },
  {
   "cell_type": "markdown",
   "id": "complimentary-trademark",
   "metadata": {
    "deletable": false,
    "editable": false
   },
   "source": [
    "### Création d'une fonction à appeler depuis Javascript\n",
    "\n",
    "Enfin vient la définition d'une fonction nommée `greet` qui sera appelable depuis le code javascript avec une chaine de caractère en paramètre. Là aussi la macro `#[wasm_bindgen]` doit être utilisée, et d'une façon générale, on utilisera cette macro pour toutes les définitions de fonction à appeler et qui sont appelées. Les fonctions internes a notre code Rust n'auront pas besoin de cette macro.\n",
    "\n",
    "Dans la fonction `greet`, on appelle la fonction alert avec une chaine de caractère en paramètre. Notez que la macro `format!` est d'abord utilisé pour générer un type `String` et la référence de cette dernière sera une `&str`."
   ]
  },
  {
   "cell_type": "markdown",
   "id": "offshore-sociology",
   "metadata": {
    "deletable": false,
    "editable": false
   },
   "source": [
    "## Compilation de notre exemple en web assembly\n",
    "\n",
    "L'étape suivante est bien entendu de générer le fichier .wasm, pour faire cela, nous allons directement utiliser le programme `wasm-pack` qui se chargera à la fois de compiler le code Rust en assembleur web en utilisant la target `wasm32-unknown-unknown` et a la fois de générer la glu javascript.\n",
    "\n",
    "`wasm-pack build --target web`\n",
    "\n",
    "- un package resultant sera creer dans un dossier .pkg/ a la racine du projet :\n",
    "\n",
    "```\n",
    " | ... Some git stuff ...\n",
    " | | |-pack\n",
    " | | |-info\n",
    " |-pkg\n",
    " | |-first_step_bg.wasm\n",
    " | |-.gitignore\n",
    " | |-first_step.js\n",
    " | |-first_step_bg.wasm.d.ts\n",
    " | |-first_step.d.ts\n",
    " | |-package.json\n",
    " |-.gitignore\n",
    " | ... Other stuff ...\n",
    "```\n",
    "\n",
    "**ATTENTION : LES NOMS DES FICHIERS GÉNÉRÉS ONT CHANGE, LE SYMBOLE MINUS `-` EST DEVENU UN UNDERSCORE `_`.**"
   ]
  },
  {
   "cell_type": "markdown",
   "id": "constant-enforcement",
   "metadata": {
    "deletable": false,
    "editable": false
   },
   "source": [
    "## Le fichier index.html\n",
    "\n",
    "> Enfin, il manque le plus important, le fichier html qui lancera notre code assembleur, voici un exemple très simple :\n",
    "\n",
    "```\n",
    "<!DOCTYPE html>\n",
    "<html lang=\"en-US\">\n",
    "    <head>\n",
    "        <meta charset=\"utf-8\" />\n",
    "            <title>hello-wasm example</title>\n",
    "    </head>\n",
    "    <body>\n",
    "        <script type=\"module\">\n",
    "            import init, { greet } from \"./pkg/first_step.js\";\n",
    "            init().then(() => {\n",
    "                greet(\"WebAssembly\");\n",
    "            });\n",
    "        </script>\n",
    "    </body>\n",
    "</html>\n",
    "```\n",
    "**Ce fichier devra être placé à la racine du projet.**"
   ]
  },
  {
   "cell_type": "markdown",
   "id": "equal-frank",
   "metadata": {
    "deletable": false,
    "editable": false
   },
   "source": [
    "## Le lancement"
   ]
  },
  {
   "cell_type": "markdown",
   "id": "italic-lease",
   "metadata": {
    "deletable": false,
    "editable": false
   },
   "source": [
    "> Afin de pouvoir visualiser cet hello web assembly, vous pouvez utiliser le programme simple-http-server disponible sur l'image docker. À la racine du projet, écrivez :\n",
    "\n",
    "`simple-http-server -p 8082 ./`\n",
    "\n",
    "**Ensuite, dans votre navigateur sur l'hôte, vous pouvez vous rendre à l'adresse `127.0.0.1:8082` :**\n",
    "![TREE](pictures/tree.png)\n",
    "\n",
    "**Sélectionnez enfin index.html :**\n",
    "![ALERT](pictures/alert.png)"
   ]
  },
  {
   "cell_type": "markdown",
   "id": "given-syndication",
   "metadata": {
    "deletable": false,
    "editable": false
   },
   "source": [
    "**Félicitations, vous venez de réaliser votre premier Hello World en WebAssembly avec le langage de programmation Rust ! Dans les chapitres suivants, nous verrons comment ajouter de nouvelles fonctionnalités à ce programme web.**"
   ]
  },
  {
   "cell_type": "markdown",
   "id": "conditional-setting",
   "metadata": {
    "deletable": false,
    "editable": false
   },
   "source": [
    "*Grâce à la console web dev, nous pouvons constater que le fichier .wasm a été téléchargé depuis le serveur.*\n",
    "\n",
    "![WASM](pictures/fichier_wasm.png)"
   ]
  }
 ],
 "metadata": {
  "kernelspec": {
   "display_name": "Rust",
   "language": "rust",
   "name": "rust"
  },
  "language_info": {
   "codemirror_mode": "rust",
   "file_extension": ".rs",
   "mimetype": "text/rust",
   "name": "Rust",
   "pygment_lexer": "rust",
   "version": ""
  },
  "toc": {
   "base_numbering": 1,
   "nav_menu": {},
   "number_sections": true,
   "sideBar": true,
   "skip_h1_title": false,
   "title_cell": "Table of Contents",
   "title_sidebar": "Contents",
   "toc_cell": false,
   "toc_position": {},
   "toc_section_display": true,
   "toc_window_display": false
  }
 },
 "nbformat": 4,
 "nbformat_minor": 5
}
