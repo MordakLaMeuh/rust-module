{
 "cells": [
  {
   "cell_type": "markdown",
   "id": "fallen-access",
   "metadata": {
    "deletable": false,
    "editable": false
   },
   "source": [
    "# Intégration du Hello WebAssembly avec npm\n",
    "\n",
    "---\n",
    "\n",
    "> Dans cette seconde partie, nous tâcherons de faire que notre module écrit en web assembly puisse être utilisé avec npm.\n",
    "\n",
    "**Je pars du principe que vous connaissez déjà très bien l'écosystème Node et que vous n'aurez aucune difficulté à comprendre les appels à la commande npm.**"
   ]
  },
  {
   "cell_type": "markdown",
   "id": "female-tracker",
   "metadata": {
    "deletable": false,
    "editable": false
   },
   "source": [
    "## La création du module npm\n",
    "\n",
    "### Recompiler pour créer un empaqueteur\n",
    "\n",
    "- On réutilisera la commande wasm-pack avec l'argument `bundler` a la place de `web` pour la `target` :\n",
    "\n",
    "`wasm-pack build --target bundler`\n",
    "\n",
    "```\n",
    ".\n",
    " |-first_step_bg.wasm\n",
    " |-.gitignore\n",
    " |-first_step_bg.js\n",
    " |-first_step.js\n",
    " |-first_step_bg.wasm.d.ts\n",
    " |-first_step.d.ts\n",
    " |-package.json\n",
    "```\n",
    "*Normalement, par rapport au chapitre précédent. Le dossier pkg/ devrait en plus le fichier `first_step_bg.js`*\n",
    "\n",
    "### Linker le nouveau paquet\n",
    "\n",
    "- Nous utiliserons `npm link` pour rendre notre nouveau paquet accessible aux autres paquets javascript :\n",
    "\n",
    "`cd pkg`\n",
    "\n",
    "`npm link`\n",
    "\n",
    "Nous avons maintenant un package npm, écrit en Rust, mais compilé en WebAssembly. Il est prêt à être utilisé depuis JavaScript et ne nécessite pas que l'utilisateur ait Rust installé ; le code inclus est le code WebAssembly, et non le code source Rust.\n",
    "\n",
    "**Sur l'image Docker, la variable d'environnement NPM_CONFIG_PREFIX est fixée sur /home/jupyter/Desktop/node, c'est dans ce dossier node que vous trouverez vos paquets.**\n",
    "\n",
    "*Donc après avoir executer `npm link`, un lien vers le paquet `first-step` devrait être présent dans le dossier `/home/jupyter/Desktop/node/lib/node_modules/`.*\n",
    "\n",
    "```\n",
    "jupyter@3681705d7b55:~/Desktop/first-step-advanced/pkg$ ls -lR /home/jupyter/Desktop/node/\n",
    "/home/jupyter/Desktop/node/:\n",
    "total 4\n",
    "drwxr-xr-x 3 jupyter jupyter 4096 May 19 18:06 lib\n",
    "\n",
    "/home/jupyter/Desktop/node/lib:\n",
    "total 4\n",
    "drwxr-xr-x 2 jupyter jupyter 4096 May 19 18:06 node_modules\n",
    "\n",
    "/home/jupyter/Desktop/node/lib/node_modules:\n",
    "total 0\n",
    "lrwxrwxrwx 1 jupyter jupyter 32 May 19 18:06 first-step -> ../../../first-step/pkg\n",
    "```"
   ]
  },
  {
   "cell_type": "markdown",
   "id": "informed-tours",
   "metadata": {
    "deletable": false,
    "editable": false
   },
   "source": [
    "## Création d'une nouvelle page utilisant node\n",
    "\n",
    "> Afin de démontrer l'indépendance entre Rust et le paquet nouvellement créer, on generera une page en dehors du dossier que nous venons d'utiliser. "
   ]
  },
  {
   "cell_type": "markdown",
   "id": "accomplished-allergy",
   "metadata": {
    "deletable": false,
    "editable": false
   },
   "source": [
    "### Nouveau projet\n",
    "\n",
    "- Créons une nouvelle page dans un dossier `first-step-site`:\n",
    "\n",
    "`cd ${HOME}/Desktop`\n",
    "\n",
    "`mkdir first-step-site`\n",
    "\n",
    "`cd first-step-site`\n",
    "\n"
   ]
  },
  {
   "cell_type": "markdown",
   "id": "charitable-synthesis",
   "metadata": {
    "deletable": false,
    "editable": false
   },
   "source": [
    "- Une fois dans le dossier, écrivez un fichier `package.json` qui utilisera notre module `first-step` :\n",
    "\n",
    "```\n",
    "{\n",
    "    \"scripts\": {\n",
    "        \"serve\": \"webpack-dev-server\"\n",
    "    },\n",
    "    \"dependencies\": {\n",
    "        \"first-step\": \"^0.1.0\"\n",
    "    },\n",
    "    \"devDependencies\": {\n",
    "        \"webpack\": \"^5.82.1\",\n",
    "        \"webpack-cli\": \"^5.1.1\",\n",
    "        \"webpack-dev-server\": \"^4.15.0\"\n",
    "    }\n",
    "}\n",
    "```\n",
    "\n",
    "### Ajouter le paquet web assembly"
   ]
  },
  {
   "cell_type": "markdown",
   "id": "studied-breakfast",
   "metadata": {
    "deletable": false,
    "editable": false
   },
   "source": [
    "- Linker le module first-step grâce a npm link :\n",
    "\n",
    "`npm link first-step`\n",
    "\n",
    "*Un lien symbolique vers le dossier `pkg/` de notre paquet sera écrit dans le sous-dossier `node_modules`.*"
   ]
  },
  {
   "cell_type": "markdown",
   "id": "unauthorized-bones",
   "metadata": {
    "deletable": false,
    "editable": false
   },
   "source": [
    "### Configuration\n",
    "\n",
    "- Configurer webpack en écrivant le fichier `webpack.config.js` qui devra contenir :\n",
    "\n",
    "```\n",
    "const path = require(\"path\");\n",
    "module.exports = {\n",
    "    entry: \"./index.js\",\n",
    "    output: {\n",
    "        path: path.resolve(__dirname, \"dist\"),\n",
    "        filename: \"index.js\",\n",
    "    },\n",
    "    mode: \"development\",\n",
    "    experiments: {\n",
    "        asyncWebAssembly: true,\n",
    "    },\n",
    "};\n",
    "```\n",
    "\n",
    "### Le code de la page\n",
    "\n",
    "- Puis créer un fichier `index.js` qui contiendra l'appel à notre fonction :\n",
    "\n",
    "```\n",
    "import { greet } from 'first-step';\n",
    "greet(\"WebAssembly with npm\");\n",
    "```\n",
    "\n",
    "- Enfin, fabriquez un nouveau dossier `public/` et y écrire ce fichier `index.html` :\n",
    "\n",
    "`mkdir public`\n",
    "\n",
    "`cd public`\n",
    "\n",
    "Voici un exemple de contenu du fichier `index.html` :\n",
    "\n",
    "```\n",
    "<!DOCTYPE html>\n",
    "<html lang=\"en-US\">\n",
    "    <head>\n",
    "        <meta charset=\"utf-8\" />\n",
    "        <title>first-step example</title>\n",
    "    </head>\n",
    "    <body>\n",
    "        <script src=\"./index.js\"></script>\n",
    "    </body>\n",
    "</html>\n",
    "```\n",
    "\n"
   ]
  },
  {
   "cell_type": "markdown",
   "id": "express-monte",
   "metadata": {
    "deletable": false,
    "editable": false
   },
   "source": [
    "## Installation et exécution\n",
    "\n",
    "> Il ne reste plus qu'a installer tous les paquets et de lancer le serveur.\n",
    "\n",
    "### Installation\n",
    "\n",
    "`npm install`\n",
    "\n",
    "```\n",
    "up to date, audited 311 packages in 1s\n",
    "\n",
    "39 packages are looking for funding\n",
    "  run `npm fund` for details\n",
    "\n",
    "found 0 vulnerabilities\n",
    "\n",
    "```"
   ]
  },
  {
   "cell_type": "markdown",
   "id": "little-maldives",
   "metadata": {
    "deletable": false,
    "editable": false
   },
   "source": [
    "### Le script serve\n",
    "\n",
    "`npm run serve`\n",
    "\n",
    "```\n",
    "jupyter@f8fda7c4746e:~/Desktop/first-step-site$ npm run serve\n",
    "\n",
    "> serve\n",
    "> webpack-dev-server\n",
    "\n",
    "<i> [webpack-dev-server] Project is running at:\n",
    "<i> [webpack-dev-server] Loopback: http://localhost:8081/\n",
    "<i> [webpack-dev-server] Content not from webpack is served from '/home/jupyter/Desktop/first-step-site/public' directory\n",
    "asset index.js 273 KiB [emitted] (name: main)\n",
    "asset e6a6b79ae793cdaacf1b.module.wasm 17 KiB [emitted] [immutable]\n",
    "asset first-step_pkg_first_step_js.index.js 6.38 KiB [emitted]\n",
    "runtime modules 33.2 KiB 17 modules\n",
    "modules by path ./ 177 KiB\n",
    "  modules by path ./node_modules/webpack-dev-server/client/ 71.8 KiB 16 modules\n",
    "  modules by path ./node_modules/webpack/hot/*.js 5.3 KiB 4 modules\n",
    "  modules by path ./node_modules/html-entities/lib/*.js 81.3 KiB\n",
    "    ./node_modules/html-entities/lib/index.js 7.74 KiB [built] [code generated]\n",
    "    + 3 modules\n",
    "  ./index.js 107 bytes [built] [code generated]\n",
    "  ./node_modules/ansi-html-community/index.js 4.16 KiB [built] [code generated]\n",
    "  ./node_modules/events/events.js 14.5 KiB [built] [code generated]\n",
    "modules by path ../first-step/pkg/ 2.65 KiB (javascript) 17 KiB (webassembly)\n",
    "  ../first-step/pkg/first_step.js 157 bytes [built] [code generated]\n",
    "  ../first-step/pkg/first_step_bg.js 2.44 KiB [built] [code generated]\n",
    "  ../first-step/pkg/first_step_bg.wasm 60 bytes (javascript) 17 KiB (webassembly) [built] [code generated]\n",
    "webpack 5.83.1 compiled successfully in 424 ms\n",
    "\n",
    "```\n",
    "\n",
    "![NPM](pictures/realisation_npm.png)\n",
    "\n",
    "*Vous pouvez supprimer rust de l'image Docker si vous voulez constater que la page fonctionne encore :).*\n",
    "\n",
    "**DANS LE PROCHAIN CHAPITRE, NOUS NOUS RESSERVIRONS DE CETTE PAGE POUR COMMENCER À CODER EN RUST.**"
   ]
  }
 ],
 "metadata": {
  "kernelspec": {
   "display_name": "Rust",
   "language": "rust",
   "name": "rust"
  },
  "language_info": {
   "codemirror_mode": "rust",
   "file_extension": ".rs",
   "mimetype": "text/rust",
   "name": "Rust",
   "pygment_lexer": "rust",
   "version": ""
  },
  "toc": {
   "base_numbering": "2",
   "nav_menu": {},
   "number_sections": true,
   "sideBar": true,
   "skip_h1_title": false,
   "title_cell": "Table of Contents",
   "title_sidebar": "Contents",
   "toc_cell": false,
   "toc_position": {
    "height": "calc(100% - 180px)",
    "left": "10px",
    "top": "150px",
    "width": "268.8px"
   },
   "toc_section_display": true,
   "toc_window_display": false
  }
 },
 "nbformat": 4,
 "nbformat_minor": 5
}
