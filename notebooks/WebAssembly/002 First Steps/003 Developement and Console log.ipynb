{
 "cells": [
  {
   "cell_type": "markdown",
   "id": "answering-fishing",
   "metadata": {
    "deletable": false,
    "editable": false
   },
   "source": [
    "# Vers un développement plus simple\n",
    "\n",
    "---\n",
    "\n",
    "## Recompilation automatique du package\n",
    "\n",
    "> La commande `npm run serve` utilisée au chapitre précédent permet de 'recompiler' la page web dès que les fichiers index.js ou autres sont modifiés. Seulement, ce n'est pas le cas pour le code web assembly de notre package écrit en Rust.\n",
    "\n",
    "- La solution consiste à utiliser la commande `cargo watch` sur nos sources que l'on peut installer ainsi :\n",
    "\n",
    "`cargo install cargo-watch`\n",
    "\n",
    "- Bien qu'en général pour vos projets Rust cette commande s'utilisera sans aucun argument, ici pour le cas du développement pour le web, on lui donnera en suffixe la commande à exécuter pour recompiler en web assembly quand changent les sources :\n",
    "\n",
    "`cargo watch -w src/ -s \"wasm-pack build --target bundler\"`\n",
    "\n",
    "![WATCH](pictures/cargo-watch.png)"
   ]
  },
  {
   "cell_type": "markdown",
   "id": "behavioral-fabric",
   "metadata": {
    "deletable": false,
    "editable": false
   },
   "source": [
    "Utilise conjointement avec `npm run serve` sur le site, La modification du bundler aura pour effet de relancer une génération de la page web :"
   ]
  },
  {
   "cell_type": "markdown",
   "id": "designing-violence",
   "metadata": {
    "deletable": false,
    "editable": false
   },
   "source": [
    "![SERVE](pictures/npm_run_serve.png)"
   ]
  },
  {
   "cell_type": "markdown",
   "id": "processed-sister",
   "metadata": {
    "deletable": false,
    "editable": false
   },
   "source": [
    "### Régler les problèmes de mise en cache de webpack-dev\n",
    "\n",
    "> Afin d'éviter certains problèmes de mise en cache des fichiers .wasm, on modifiera le fichier `index.js` en important directement le module first-step. Ce n'est pas une bonne pratique, mais je n'ai pas trouvé de solution plus satisfaisante avec les dernières versions de webpack-dev :\n",
    "\n",
    "**Ainsi, le fichier index.js ... :**\n",
    "\n",
    "```\n",
    "import { greet } from 'first-step';\n",
    "greet(\"WebAssembly with npm\");\n",
    "```\n",
    "\n",
    "**... devient donc :**\n",
    "\n",
    "```\n",
    "import(\"./node_modules/first-step/first_step.js\").then((mod) => {\n",
    "    mod.greet(\"WebAssembly with npm\");\n",
    "});\n",
    "```\n",
    "*Si quelqu'un a une meilleure solution à me suggérer, je suis preneur.*"
   ]
  },
  {
   "cell_type": "markdown",
   "id": "hourly-exception",
   "metadata": {
    "deletable": false,
    "editable": false
   },
   "source": [
    "## Utilisation de console.log pour déboguer\n",
    "\n",
    "### namespace\n",
    "\n",
    "> Lors de l'appel a la fonction alert() de javascript, nous utilisons le namespace par défaut `window`, cependant, pour afficher quelque chose dans la console.log du navigateur web, il faudrait que nous puissions accéder à `console`. The `wasm-bindgen` Guide explique comment s'adresser à un certain namespace dans le chapitre 2.18.1.9 :\n",
    "\n",
    "![NAMESPACE](pictures/guide_namespace.png)\n",
    "\n",
    "L'appel à la fonction log de console est d'ailleurs décrit dans l'exemple :\n",
    "```\n",
    "#[wasm_bindgen]\n",
    "extern \"C\" {\n",
    "    #[wasm_bindgen(js_namespace = console)]\n",
    "    fn log(s: &str);\n",
    "}\n",
    "```\n",
    "*Ajouter ce bloc dans le fichier lib.rs.*\n",
    "\n",
    "*Ainsi, l'utilisation dans le code de l'instruction `log(\"Hello WebAssembly\");` affichera la chaine \"Hello WebAssembly\" dans la console du navigateur.*\n",
    "\n",
    "### L'équivalent de println!\n",
    "\n",
    "- À ce moment-là, il peut être intéressant de construire une macro `console_log!` afin de pouvoir bénéficier des mêmes fonctionnalités que pour `println!()`. Vous pouvez vous référer au chapitre 10 qui concerne les macros, la documentation de la macro `format_args!` est aussi utile :\n",
    "\n",
    "```\n",
    "macro_rules! console_log {\n",
    "    ($($t:tt)*) => (log(&format_args!($($t)*).to_string()))\n",
    "}\n",
    "```\n",
    "\n",
    "```\n",
    "console_log!(\"Hello, {}!\", name);\n",
    "console_log!(\"Les {} sont {}\", \"carottes\", \"cuites\");\n",
    "console_log!(\"test\");\n",
    "```"
   ]
  },
  {
   "cell_type": "markdown",
   "id": "expensive-shareware",
   "metadata": {
    "deletable": false,
    "editable": false,
    "solution2": "hidden",
    "solution2_first": true
   },
   "source": [
    "## Exercices\n",
    "\n",
    "### À l'aide de la documentation des macros chapitre 10, proposez un équivalent de la macro dbg! :"
   ]
  },
  {
   "cell_type": "markdown",
   "id": "talented-houston",
   "metadata": {
    "deletable": false,
    "editable": false,
    "solution2": "hidden"
   },
   "source": [
    "```\n",
    "macro_rules! console_dbg {\n",
    "    ($t:tt) => (console_log!(\"{:?}\", $t))\n",
    "} \n",
    "```\n",
    "\n",
    "*Remarquez la petite différence dans son utilisation...*\n",
    "\n",
    "```\n",
    "#[derive(Debug)]\n",
    "struct S {\n",
    "    i: usize,\n",
    "    j: usize,\n",
    "}\n",
    "let mut s = S { i: 3, j: 65 };\n",
    "console_dbg!(s);\n",
    "s.i += 1;\n",
    "console_dbg!(s); \n",
    "```"
   ]
  }
 ],
 "metadata": {
  "kernelspec": {
   "display_name": "Rust",
   "language": "rust",
   "name": "rust"
  },
  "language_info": {
   "codemirror_mode": "rust",
   "file_extension": ".rs",
   "mimetype": "text/rust",
   "name": "Rust",
   "pygment_lexer": "rust",
   "version": ""
  },
  "toc": {
   "base_numbering": "3",
   "nav_menu": {},
   "number_sections": true,
   "sideBar": true,
   "skip_h1_title": false,
   "title_cell": "Table of Contents",
   "title_sidebar": "Contents",
   "toc_cell": false,
   "toc_position": {
    "height": "calc(100% - 180px)",
    "left": "10px",
    "top": "150px",
    "width": "268.8px"
   },
   "toc_section_display": true,
   "toc_window_display": false
  }
 },
 "nbformat": 4,
 "nbformat_minor": 5
}
