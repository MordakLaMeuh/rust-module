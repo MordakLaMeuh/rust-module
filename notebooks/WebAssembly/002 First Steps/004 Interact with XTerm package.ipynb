{
 "cells": [
  {
   "cell_type": "markdown",
   "id": "spiritual-surveillance",
   "metadata": {
    "deletable": false,
    "editable": false
   },
   "source": [
    "# Interagir avec le terminal Xterm\n",
    "\n",
    "---\n",
    "\n",
    "> Dans ce dernier chapitre d'introduction, nous allons importer le paquet xterm présenté ici [http://xtermjs.org/](http://xtermjs.org/) afin de pouvoir obtenir davantage d'interactions entre le code web assembly et le site web.\n",
    "\n",
    "![XTERM](pictures/xterm_prez.png)"
   ]
  },
  {
   "cell_type": "markdown",
   "id": "inclusive-beverage",
   "metadata": {
    "deletable": false,
    "editable": false
   },
   "source": [
    "## Installation du paquet xterm avec npm\n",
    "\n",
    "- **Installer le nouveau paquet :**\n",
    "\n",
    "`npm install xterm`\n",
    "```\n",
    "added 1 package, and audited 312 packages in 3s\n",
    "\n",
    "39 packages are looking for funding\n",
    "  run `npm fund` for details\n",
    "\n",
    "found 0 vulnerabilities\n",
    "\n",
    "```\n",
    "\n",
    "- Le fichier **package.json** contient maintenant la dépendance xterm :\n",
    "```\n",
    "{\n",
    "    \"scripts\": {\n",
    "        \"serve\": \"webpack-dev-server\"\n",
    "    },\n",
    "    \"dependencies\": {\n",
    "        \"first-step\": \"^0.1.0\",\n",
    "        \"xterm\": \"^5.1.0\"\n",
    "    },\n",
    "    \"devDependencies\": {\n",
    "        \"webpack\": \"^5.82.1\",\n",
    "        \"webpack-cli\": \"^5.1.1\",\n",
    "        \"webpack-dev-server\": \"^4.15.0\"\n",
    "    }\n",
    "}\n",
    "\n",
    "```\n"
   ]
  },
  {
   "cell_type": "markdown",
   "id": "certified-speed",
   "metadata": {
    "deletable": false,
    "editable": false
   },
   "source": [
    "## Intégration a notre projet\n",
    "\n",
    "*Je passe très vite sur cette partie et je fais en plus simple. En tant que dev web, j'imagine que vous comprenez bien ce que je fais ici.*\n",
    "\n",
    "### Récupération du fichier css\n",
    "\n",
    "> On utilisera la feuille de style du paquet xterm :\n",
    "\n",
    "- À partir du sous-dossier `public/` :\n",
    "\n",
    "`mkdir css`\n",
    "\n",
    "`cd css`\n",
    "\n",
    "`ln -s ../../node_modules/xterm/css/xterm.css xterm.css`\n",
    "\n",
    "- Ajout de la feuille au `head` du fichier `index.html` :\n",
    "```\n",
    "        <link rel=\"stylesheet\" href=\"css/xterm.css\" />\n",
    "```\n",
    "\n",
    "### Ajout de l'élément terminal au DOM\n",
    "\n",
    "- Ajout de l'élément avec l'id terminal au `body` :\n",
    "\n",
    "```\n",
    "        <div id=\"terminal\"></div>\n",
    "```\n",
    "\n",
    "### Utilisation de l'exemple\n",
    "\n",
    "- Reprenons l'exemple de la page xterm et ajoutons ces lignes au début du fichier `index.js` :\n",
    "\n",
    "```\n",
    "import { Terminal } from 'xterm';\n",
    "const terminal = new Terminal();\n",
    "terminal.open(document.getElementById('terminal'));\n",
    "terminal.write('Hello from \\x1B[1;3;31mxterm.js\\x1B[0m $ ');\n",
    "```\n",
    "\n",
    "- Après régénération, la page Web devra ressembler  à cela :\n",
    "\n",
    "![XTERM2](pictures/xterm_first_page.png)"
   ]
  },
  {
   "cell_type": "markdown",
   "id": "nuclear-hazard",
   "metadata": {
    "deletable": false,
    "editable": false
   },
   "source": [
    "## Communication avec notre module\n",
    "\n",
    "> Le but ici sera de pouvoir interagir avec une fonction  ecrite en rust et nommee pour l'exemple `eval_key` pour chacune des touche pressees, la fonction recevra la `event.key` du listener `keydown` et retournera un ou plusieurs caracteres a afficher dans le terminal xterm.\n",
    "\n",
    "```\n",
    "    document.addEventListener('keydown', (event) => {\n",
    "        console.log(event.key);\n",
    "        var result = mod.eval_key(event.key);\n",
    "        terminal.write(result);\n",
    "    });\n",
    "```\n",
    "\n",
    "**Voici ce a quoi devrait ressembler le fichier index.js.**\n",
    "\n",
    "```\n",
    "import { Terminal } from 'xterm';\n",
    "const terminal = new Terminal();\n",
    "terminal.open(document.getElementById('terminal'));\n",
    "terminal.write('Hello from \\x1B[1;3;31mxterm.js\\x1B[0m $ ');\n",
    "\n",
    "import(\"./node_modules/first-step/first_step.js\").then((mod) => {\n",
    "    mod.greet(\"WebAssembly with npm\");\n",
    "    document.addEventListener('keydown', (event) => {\n",
    "        console.log(event.key);\n",
    "        // May use event.keyCode instead \n",
    "        var result = mod.eval_key(event.key);\n",
    "        terminal.write(result);\n",
    "    });\n",
    "});\n",
    "\n",
    "```\n",
    "*Il ne manque plus qu'à définir la fonction eval_key cote Rust.*"
   ]
  },
  {
   "cell_type": "markdown",
   "id": "atomic-religious",
   "metadata": {},
   "source": [
    "## L'implémentation minimale\n",
    "\n",
    "- La fonction devant interagir avec le code javascript, elle sera préfixée par la macro `#[wasm_bindgen]` qui se chargera de la rendre accessible depuis l'extérieur et de gérer la conversion des types entre JS et rust.\n",
    "\n",
    "```\n",
    "#[wasm_bindgen]\n",
    "pub fn eval_key(key_value: &str) -> String {\n",
    "    key_value.to_string() // Transforme la chaine en String allouee dynamiquement\n",
    "}\n",
    "```\n",
    "\n",
    "**On retournera ici la chaine de caractere a l'identique !**\n",
    "\n",
    "![XTERM3](pictures/xterm_second_page.png)\n",
    "\n",
    "*L'inconvenient de cette fonction c'est que les sequences speciales ne sont pas gerees, plutut que d'affichier Enter, nous devrions retourner a la ligne `\\n\\r`.*"
   ]
  },
  {
   "cell_type": "markdown",
   "id": "according-subject",
   "metadata": {},
   "source": [
    "## Aller plus loin...\n",
    "\n",
    "Plusieurs améliorations sont possibles ici :\n",
    "\n",
    "> - Vous pouvez modifier le code de façon a ce que le **retour à la ligne** soit correctement géré.\n",
    "> - Trouver un moyen de **stocker les inputs utilisateurs** et retournez quelque chose lors de l'appui de la touche entrée. *Vous aurez peut-être besoin d'une variable globale.*\n",
    "> - Si vous avez utilisé une variable globale pour l'exercice précédent, consulter le chapitre **2.18.2.1. constructor** et essayez d'en conclure quelque chose d'utile pour votre code."
   ]
  },
  {
   "cell_type": "markdown",
   "id": "increased-verification",
   "metadata": {
    "deletable": false,
    "editable": false
   },
   "source": [
    "**DANS CETTE PARTIE, NOUS AVONS DÉCOUVERT COMMENT APPELER UNE FONCTION ÉCRITE EN RUST WEBASSEMBLY DEPUIS UN MODULE JAVASCRIPT. DANS LES PROCHAINS CHAPITRES, NOUS VERRONS COMMENT DÉMARRER L'EXÉCUTION DEPUIS LE MODULE WASM, DE GÉRER LE DOM ET D'IMPORTER LES AUTRES MODULES.**"
   ]
  }
 ],
 "metadata": {
  "kernelspec": {
   "display_name": "Rust",
   "language": "rust",
   "name": "rust"
  },
  "language_info": {
   "codemirror_mode": "rust",
   "file_extension": ".rs",
   "mimetype": "text/rust",
   "name": "Rust",
   "pygment_lexer": "rust",
   "version": ""
  },
  "toc": {
   "base_numbering": "4",
   "nav_menu": {},
   "number_sections": true,
   "sideBar": true,
   "skip_h1_title": false,
   "title_cell": "Table of Contents",
   "title_sidebar": "Contents",
   "toc_cell": false,
   "toc_position": {
    "height": "calc(100% - 180px)",
    "left": "10px",
    "top": "150px",
    "width": "268.8px"
   },
   "toc_section_display": true,
   "toc_window_display": false
  }
 },
 "nbformat": 4,
 "nbformat_minor": 5
}
