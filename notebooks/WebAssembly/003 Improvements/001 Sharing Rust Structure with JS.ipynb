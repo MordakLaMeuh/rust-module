{
 "cells": [
  {
   "cell_type": "markdown",
   "id": "weekly-label",
   "metadata": {
    "deletable": false,
    "editable": false
   },
   "source": [
    "# Utiliser les structures Rust depuis JS\n",
    "\n",
    "---\n",
    "\n",
    "> Dans la partie précédente, nous nous sommes contentés d'appeler des fonctions rust depuis JS, cependant cela pose certaines limitations comme la difficulté de stocker des données cote rust entre plusieurs appels successifs.\n",
    "\n",
    "> On aimerait bien pouvoir exporter une structure avec ses méthodes depuis Rust et l'utiliser cote javascript comme s'il s'agissait d'un objet quelconque. C'est ce que nous allons voir dans ce chapitre."
   ]
  },
  {
   "cell_type": "markdown",
   "id": "statistical-cattle",
   "metadata": {
    "deletable": false,
    "editable": false
   },
   "source": [
    "## Le constructeur new\n",
    "\n",
    "> La documentation de wasm-bindgen est suffisamment complète à ce sujet :\n",
    "\n",
    "- The `wasm-bindgen` Guide chapitre **2.18.2.1** :\n",
    "\n",
    "```\n",
    "constructor\n",
    "\n",
    "When attached to a Rust \"constructor\" it will make the generated JavaScript bindings callable as new Foo().\n",
    "\n",
    "For example, consider this exported Rust type and constructor annotation:\n",
    "\n",
    "#[wasm_bindgen]\n",
    "pub struct Foo {\n",
    "    contents: u32,\n",
    "}\n",
    "\n",
    "#[wasm_bindgen]\n",
    "impl Foo {\n",
    "    #[wasm_bindgen(constructor)]\n",
    "    pub fn new() -> Foo {\n",
    "        Foo { contents: 0 }\n",
    "    }\n",
    "\n",
    "    pub fn get_contents(&self) -> u32 {\n",
    "        self.contents\n",
    "    }\n",
    "}\n",
    "\n",
    "This can be used in JavaScript as:\n",
    "\n",
    "import { Foo } from './my_module';\n",
    "\n",
    "const f = new Foo();\n",
    "console.log(f.get_contents());\n",
    "```"
   ]
  },
  {
   "cell_type": "markdown",
   "id": "essential-tablet",
   "metadata": {
    "deletable": false,
    "editable": false
   },
   "source": [
    "La définition de la structure et son implémentation  doivent etre préfixés par la macro `#[wasm_bindgen]`, on rajoute l'attribut constructeur `#[wasm_bindgen(constructor)]` afin de pouvoir utiliser `new` depuis JS. Ainsi, la structure devient importable, ses variables et ses méthodes disponibles.\n",
    "\n",
    "*Ne pas oublier `pub` pour le constructeur.*"
   ]
  },
  {
   "cell_type": "markdown",
   "id": "original-cartoon",
   "metadata": {
    "deletable": false,
    "editable": false
   },
   "source": [
    "## Méthodes et champs\n",
    "\n",
    "### Forme générale\n",
    "\n",
    "Afin de pouvoir partager les méthodes de l'implémentation ainsi que les champs, **il est nécessaire de les annoter comme public `pub`.**\n",
    "\n",
    "```\n",
    "#[wasm_bindgen]\n",
    "pub struct Context {\n",
    "    content: String,\n",
    "    pub value: usize, // Je peux acceder et modifier cette variable depuis JS\n",
    "} \n",
    "#[wasm_bindgen]\n",
    "impl Context {\n",
    "    #[wasm_bindgen(constructor)]\n",
    "    pub fn new() -> Self {\n",
    "        Self { content: String::new(), value: 42 }\n",
    "    }\n",
    "    pub fn dump(&self) -> String {\n",
    "        format!(\"content = {}, value = {}\", self.content, self.value)\n",
    "    }\n",
    "}\n",
    "```"
   ]
  },
  {
   "cell_type": "markdown",
   "id": "explicit-stylus",
   "metadata": {
    "deletable": false,
    "editable": false
   },
   "source": [
    "### Getter et Setter\n",
    "\n",
    "Pour qu'une variable puisse etre partagée, il est nécessaire qu'elle implémente le trait `Copy`, ce n'est pas le cas pour String. Ainsi, si l'on veut pouvoir lire ou modifier ou lire un type String, il faudra mettre en place un getter et un setter - The `wasm-bindgen` Guide chapitre **2.18.2.9** :\n",
    "\n",
    "**RUST side :**\n",
    "```\n",
    "#[wasm_bindgen]\n",
    "pub struct Context {\n",
    "    content: String,\n",
    "    pub value: usize,\n",
    "}                                                                                                                                                                            \n",
    "                                                                                                                                                                             \n",
    "#[wasm_bindgen]\n",
    "impl Context {\n",
    "    #[wasm_bindgen(constructor)]\n",
    "    pub fn new() -> Self {\n",
    "        Self { content: String::new(), value: 42 }\n",
    "    }                                                                                                                                                                        \n",
    "    #[wasm_bindgen(getter)]\n",
    "    pub fn content(&self) -> String {\n",
    "        self.content.clone()\n",
    "    }                                                                                                                                                                        \n",
    "    #[wasm_bindgen(setter)]\n",
    "    pub fn set_content(&mut self, content: &str) {\n",
    "        self.content = content.to_string();\n",
    "    }\n",
    "}\n",
    "```\n",
    "**JAVASCRIPT side :**\n",
    "```\n",
    "// Some importation code ...\n",
    "let ctx = new Context();\n",
    "ctx.content = \"Banane\";         // use setter\n",
    "console.log(ctx.content);       // use getter\n",
    "```"
   ]
  },
  {
   "cell_type": "markdown",
   "id": "vital-whale",
   "metadata": {
    "deletable": false,
    "editable": false
   },
   "source": [
    "### L'attribut ReadOnly\n",
    "\n",
    "- L'attribut `#[wasm_bindgen(readonly)]` peut etre intéressant pour empêcher les modifications d'une valeur depuis l'extérieur, sans vouloir non plus avoir une variable privée :\n",
    "\n",
    "The `wasm-bindgen` Guide chapitre **2.18.2.3** :\n",
    "\n",
    "```\n",
    "readonly\n",
    "\n",
    "When attached to a pub struct field this indicates that it's read-only from JavaScript, and a setter will not be generated and exported to JavaScript.\n",
    "\n",
    "#[wasm_bindgen]\n",
    "pub fn make_foo() -> Foo {\n",
    "    Foo {\n",
    "        first: 10,\n",
    "        second: 20,\n",
    "    }\n",
    "}\n",
    "\n",
    "#[wasm_bindgen]\n",
    "pub struct Foo {\n",
    "    pub first: u32,\n",
    "\n",
    "    #[wasm_bindgen(readonly)]\n",
    "    pub second: u32,\n",
    "}\n",
    "\n",
    "Here the first field will be both readable and writable from JS, but the second field will be a readonly field in JS where the setter isn't implemented and attempting to set it will throw an exception.\n",
    "\n",
    "import { make_foo } from \"./my_module\";\n",
    "\n",
    "const foo = make_foo();\n",
    "\n",
    "// Can both get and set `first`.\n",
    "foo.first = 99;\n",
    "console.log(foo.first);\n",
    "\n",
    "// Can only get `second`.\n",
    "console.log(foo.second);\n",
    "```"
   ]
  },
  {
   "cell_type": "markdown",
   "id": "pregnant-semiconductor",
   "metadata": {
    "deletable": false,
    "editable": false
   },
   "source": [
    "## L'attribut inspectable\n",
    "\n",
    "> Un dernier attribut intéressant est inspectable `#[wasm_bindgen(inspectable)]`, il permet d'appeler toString() et toJSON() sur les structures Rust. Seuls les champs dits publics seront visibles. Notez que les implémentations peuvent etre redéfinies manuellement. The `wasm-bindgen` Guide chapitre **2.18.2.10**."
   ]
  },
  {
   "cell_type": "markdown",
   "id": "muslim-proportion",
   "metadata": {
    "deletable": false,
    "editable": false
   },
   "source": [
    "## Exercice\n",
    "\n",
    "**REPRENEZ LE CODE DE LA PARTIE PRÉCÉDENTE ET AU LIEU D'APPELER DES FONCTIONS RUST DEPUIS JS, CRÉEZ UNE STRUCTURE EN RUST DE FAÇON À POUVOIR STOCKER LES CARACTÈRES ASSOCIES AUX TOUCHES APPUYÉES. SI L'UTILISATEUR APPUIE SUR LA TOUCHE ENTRÉE, LA CHAINE DOIT S'AFFICHER DANS LE TERMINAL.**"
   ]
  }
 ],
 "metadata": {
  "kernelspec": {
   "display_name": "Rust",
   "language": "rust",
   "name": "rust"
  },
  "language_info": {
   "codemirror_mode": "rust",
   "file_extension": ".rs",
   "mimetype": "text/rust",
   "name": "Rust",
   "pygment_lexer": "rust",
   "version": ""
  },
  "toc": {
   "base_numbering": 1,
   "nav_menu": {},
   "number_sections": true,
   "sideBar": true,
   "skip_h1_title": false,
   "title_cell": "Table of Contents",
   "title_sidebar": "Contents",
   "toc_cell": false,
   "toc_position": {},
   "toc_section_display": true,
   "toc_window_display": false
  }
 },
 "nbformat": 4,
 "nbformat_minor": 5
}
