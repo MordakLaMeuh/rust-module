{
 "cells": [
  {
   "cell_type": "markdown",
   "id": "taken-fountain",
   "metadata": {
    "deletable": false,
    "editable": false
   },
   "source": [
    "# Importation de module\n",
    "\n",
    "---\n",
    "\n",
    "> Jusque-là, nous avons importé deux modules depuis le paquet principal, le module xterm et le nôtre en web assembly. Ici, nous allons importer le module xterm depuis l'assembleur et les méthodes de ce module seront donc appelées depuis Rust."
   ]
  },
  {
   "cell_type": "markdown",
   "id": "subjective-secretary",
   "metadata": {
    "deletable": false,
    "editable": false
   },
   "source": [
    "## L'équivalent du `import { Class } from \"ModuleName\";`\n",
    "\n",
    "> The `wasm-bindgen` Guide chapitre **2.18.1.11** :"
   ]
  },
  {
   "cell_type": "markdown",
   "id": "pending-discretion",
   "metadata": {
    "deletable": false,
    "editable": false
   },
   "source": [
    "- Pour implémenter un module, l'attribut module `#[wasm_bindgen(module = \"ModuleName\")]` au début d'un bloc `extern`. Ensuite, il est nécessaire de déclarer les classes et les méthodes de ce module que nous souhaitons utiliser :\n",
    "\n",
    "```\n",
    "#[wasm_bindgen(module = \"xterm\")]\n",
    "extern \"C\" {\n",
    "    type Terminal;\n",
    "\n",
    "    #[wasm_bindgen(constructor)]\n",
    "    fn new() -> Terminal;\n",
    "\n",
    "    #[wasm_bindgen(method)]\n",
    "    fn write(this: &Terminal, chain: &str);\n",
    "}\n",
    "```\n",
    "est équivalent à `import { Terminal } from \"xterm\".\n",
    "\n",
    "*Ne pas oublier d'installer le module avec npm !*"
   ]
  },
  {
   "cell_type": "markdown",
   "id": "social-nicholas",
   "metadata": {
    "deletable": false,
    "editable": false
   },
   "source": [
    "## Déclaration des méthodes"
   ]
  },
  {
   "cell_type": "markdown",
   "id": "suitable-developer",
   "metadata": {
    "deletable": false,
    "editable": false
   },
   "source": [
    "> The `wasm-bindgen` Guide chapitre **2.18.1.10** :\n",
    "\n",
    "> Une des principales difficultés que nous pouvons rencontrer, c'est que toutes les méthodes DOIVENT ÊTRE DÉCLARÉES pour etre utilisées. Et certains types de paramètre sont plutôt compliqués à appréhender.\n",
    "\n",
    "### La méthode write de la classe Terminal\n",
    "\n",
    "- Chaque méthode devrait etre préfixée par method `#[wasm_bindgen(method)]` et doit contenir `this` qui est une référence sur la Classe. Contrairement à ce qui paraitrait intuitif, la référence ne doit pas etre mutable, c'est d'ailleurs une règle de compilation de wasm-bindgen :\n",
    "\n",
    "```\n",
    "    #[wasm_bindgen(method)]\n",
    "    fn write(this: &Terminal, chain: &str);\n",
    "```"
   ]
  },
  {
   "cell_type": "markdown",
   "id": "postal-summary",
   "metadata": {
    "deletable": false,
    "editable": false
   },
   "source": [
    "> write prend une chaine de caractère en paramètre en JS. Il n'y a aucune surprise à trouver `&str` ici."
   ]
  },
  {
   "cell_type": "markdown",
   "id": "faced-palestinian",
   "metadata": {
    "deletable": false,
    "editable": false
   },
   "source": [
    "## La méthode open de la classe Terminal\n",
    "\n",
    "> Contrairement à write, open ne prend pas une chaine de caractère en argument, mais un Élément du DOM, hors pour l'instant, nous ne savons pas comment accéder aux éléments ni encore moins les manipuler.\n",
    "\n",
    "![SERVE](pictures/xterm-open.png)"
   ]
  },
  {
   "cell_type": "markdown",
   "id": "electric-insured",
   "metadata": {
    "deletable": false,
    "editable": false
   },
   "source": [
    "**Si bêtement j'essaie d'envoyer une chaine de caractère…**\n",
    "\n",
    "```\n",
    "// ... Begin extern code ..\n",
    "    #[wasm_bindgen(method)]\n",
    "    fn open(this: &Terminal, element: &str) // Sic !\n",
    "// ... End extern code ...\n",
    "```\n",
    "```\n",
    "let term = Terminal::new();\n",
    "term.open(\"terminal\");          // crash ici\n",
    "```\n",
    "\n",
    "![SERVE](pictures/wasm-all-toto-error.png)\n",
    "\n",
    "**... Dans la prochaine partie, nous verrons les bases du DOM en rust.**"
   ]
  }
 ],
 "metadata": {
  "kernelspec": {
   "display_name": "Python 3",
   "language": "python",
   "name": "python3"
  },
  "language_info": {
   "codemirror_mode": {
    "name": "ipython",
    "version": 3
   },
   "file_extension": ".py",
   "mimetype": "text/x-python",
   "name": "python",
   "nbconvert_exporter": "python",
   "pygments_lexer": "ipython3",
   "version": "3.9.2"
  },
  "toc": {
   "base_numbering": "2",
   "nav_menu": {},
   "number_sections": true,
   "sideBar": true,
   "skip_h1_title": false,
   "title_cell": "Table of Contents",
   "title_sidebar": "Contents",
   "toc_cell": false,
   "toc_position": {
    "height": "calc(100% - 180px)",
    "left": "10px",
    "top": "150px",
    "width": "268.8px"
   },
   "toc_section_display": true,
   "toc_window_display": false
  }
 },
 "nbformat": 4,
 "nbformat_minor": 5
}
