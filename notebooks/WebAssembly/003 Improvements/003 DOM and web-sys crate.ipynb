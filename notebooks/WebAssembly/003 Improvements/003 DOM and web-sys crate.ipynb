{
 "cells": [
  {
   "cell_type": "markdown",
   "id": "wooden-workplace",
   "metadata": {
    "deletable": false,
    "editable": false
   },
   "source": [
    "# La crate web-sys et le DOM\n",
    "\n",
    "---\n",
    "\n",
    "> La crate web-sys vient en complément de wasm-bindgen et elle permet d'utiliser directement les API web depuis rust. Elle permet donc premièrement de pouvoir accéder aux éléments du DOM, d'en ajouter, supprimer etc. mais elle permet aussi d'utiliser des fonctionnalités plus avancées comme WebGL ou les websockets par exemple.\n",
    "\n",
    "fichier **cargo.toml** :\n",
    "```\n",
    "[dependencies.web-sys]\n",
    "version = \"0.3.63\"\n",
    "features = [\n",
    "  'Document',\n",
    "  'Element',\n",
    "  'HtmlElement',\n",
    "  'Node',\n",
    "  'Window',                                                                                                     ... Some more features ...                                                             \n",
    "] \n",
    "```\n",
    "**Notez que pour chaque fonctionnalité que l'on souhaite utiliser, on doit rajouter une feature, ainsi pour utiliser un canva 2D, il est nécessaire de rajouter `HtmlCanvasElement` et `CanvasRenderingContext2d`**.\n",
    "\n",
    "The `wasm-bindgen` Guide introduit quelques notions sur web-sys chapitre **3**, et beaucoup d'exemple qui y sont présentés utilisent web-sys. Vous pouvez trouver la documentation complète de la crate web-sys a cette adresse : [https://rustwasm.github.io/wasm-bindgen/api/web_sys/](https://rustwasm.github.io/wasm-bindgen/api/web_sys/)."
   ]
  },
  {
   "cell_type": "markdown",
   "id": "continent-contractor",
   "metadata": {
    "deletable": false,
    "editable": false
   },
   "source": [
    "## La fonction window\n",
    "\n",
    "- La crate web_sys ne définit qu'une seule fonction dans son namespace principal, c'est la fonction `window` :\n",
    "\n",
    "> ```\n",
    ">Function web_sys::window\n",
    ">\n",
    ">pub fn window() -> Option<Window>\n",
    ">\n",
    ">Getter for the Window object\n",
    ">\n",
    ">MDN Documentation\n",
    ">\n",
    ">This API requires the following crate features to be activated: Window\n",
    ">```\n",
    "\n",
    "`let window = web_sys::window().expect(\"no global window exists\");`\n",
    "    \n",
    "*Cette fonction retourne l'objet Window du navigateur. Notons aussi qu'il faut déjà activer la feature Window pour que cela fonctionne.*"
   ]
  },
  {
   "cell_type": "markdown",
   "id": "imported-taste",
   "metadata": {
    "deletable": false,
    "editable": false
   },
   "source": [
    "À partir de window, on descend par exemple vers l'élément qui nous intéresse comme on le ferait en Javascript.\n",
    "\n",
    ">```\n",
    ">impl Window\n",
    ">\n",
    ">pub fn document(&self) -> Option<Document>\n",
    ">\n",
    ">Getter for the document field of this object.\n",
    ">\n",
    ">MDN Documentation\n",
    ">\n",
    ">This API requires the following crate features to be activated: Document, Window\n",
    ">\n",
    ">```\n",
    "\n",
    "`let document = window.document().expect(\"should have a document on window\");`\n",
    "\n",
    ">```\n",
    ">impl Document\n",
    ">\n",
    ">pub fn body(&self) -> Option<HtmlElement>\n",
    ">\n",
    ">Getter for the body field of this object.\n",
    ">\n",
    ">MDN Documentation\n",
    ">\n",
    ">This API requires the following crate features to be activated: Document, HtmlElement\n",
    ">\n",
    ">```\n",
    "\n",
    "`let body = document.body().expect(\"document should have a body\");`\n",
    "    \n",
    "*Déjà, trois features sont utilisées. `Document`, `HtmlElement` et `Window`*"
   ]
  },
  {
   "cell_type": "markdown",
   "id": "rotary-reflection",
   "metadata": {
    "deletable": false,
    "editable": false
   },
   "source": [
    "## La manipulation du DOM\n",
    "\n",
    "> Puisque le but de web-sys est de donner accès aux API web, elle donne bien entendu accès à l'API Document, ainsi, il devient possible de faire les mêmes choses que l'on ferait en JS, par exemple :\n",
    "\n",
    "`let ma_div = document.create_element(\"div\").unwrap();`\n",
    "\n",
    "`let ma_seconde_div = document.get_element_by_id(\"terminal\").unwrap();`\n",
    "\n",
    "*Ces fonctions retournent un **Element** (A ajouter aux features donc...)*"
   ]
  },
  {
   "cell_type": "markdown",
   "id": "brown-match",
   "metadata": {
    "deletable": false,
    "editable": false
   },
   "source": [
    "### Implémentations de Deref pour HtmlElement.\n",
    "\n",
    "D'après la documentation de web-sys, la méthode `append_child` est implémentée pour une structure de type `Node` :\n",
    "\n",
    ">```\n",
    ">impl Node\n",
    ">\n",
    ">pub fn append_child(&self, node: &Node) -> Result<Node, JsValue>\n",
    ">\n",
    ">The appendChild() method.\n",
    ">\n",
    ">MDN Documentation\n",
    ">\n",
    ">This API requires the following crate features to be activated: Node\n",
    ">```\n",
    "\n",
    "Seulement, les types `HtmlElement` et `Element` implémentent le trait `Deref<Target = Node>`, c'est ainsi qu'il est possible d'utiliser la fonction `append_child` sur un `HtmlElement` comme ceci :\n",
    "\n",
    "`let new_node = mon_html_element.append_child(&un_element).unwrap();`"
   ]
  },
  {
   "cell_type": "markdown",
   "id": "aggressive-lafayette",
   "metadata": {
    "deletable": false,
    "editable": false
   },
   "source": [
    "*Illustration d'implementation du trait Deref :*"
   ]
  },
  {
   "cell_type": "code",
   "execution_count": 2,
   "id": "southern-explorer",
   "metadata": {},
   "outputs": [
    {
     "name": "stdout",
     "output_type": "stream",
     "text": [
      "Hello, world! 42\n"
     ]
    },
    {
     "data": {
      "text/plain": [
       "()"
      ]
     },
     "execution_count": 2,
     "metadata": {},
     "output_type": "execute_result"
    }
   ],
   "source": [
    "{\n",
    "    #[derive(Debug)]\n",
    "    struct InnerElement {\n",
    "        value: usize,\n",
    "    }\n",
    "\n",
    "    impl InnerElement {\n",
    "        fn inner_methode(&self) -> usize {\n",
    "            self.value\n",
    "        }\n",
    "    }\n",
    "\n",
    "    #[derive(Debug)]\n",
    "    struct Element {\n",
    "        inner: InnerElement,\n",
    "    }\n",
    "\n",
    "    impl std::ops::Deref for Element {\n",
    "        type Target = InnerElement;\n",
    "\n",
    "        fn deref(&self) -> &Self::Target {\n",
    "            &self.inner\n",
    "        }\n",
    "    }\n",
    "\n",
    "    let b = Element { inner: InnerElement { value: 42 }};\n",
    "    println!(\"Hello, world! {:?}\", b.inner_methode());\n",
    "}\n"
   ]
  },
  {
   "cell_type": "markdown",
   "id": "corresponding-indicator",
   "metadata": {
    "deletable": false,
    "editable": false
   },
   "source": [
    "## Exercice\n",
    "\n",
    "Le prototype de la fonction open de Terminal est :\n",
    "```                              \n",
    "    fn open(this: &Terminal, element: &web_sys::HtmlElement); \n",
    "```\n",
    "\n",
    ">```\n",
    ">open\n",
    ">\n",
    ">▸ open(parent: HTMLElement): void\n",
    ">\n",
    ">Defined in xterm.d.ts:879\n",
    ">\n",
    ">Parameters:\n",
    ">Name \tType \tDescription\n",
    ">parent \tHTMLElement \tThe element to create the terminal within. This element must be visible (have >dimensions) when open is called as several DOM- based measurements need to be performed when this function is >called.\n",
    ">\n",
    ">Returns: void\n",
    ">```\n",
    "\n",
    "**Element & Node implémentent tous les deux le `trait JsCast` qui permet le cast entre les types JS.**\n",
    "\n",
    "```\n",
    "EventTarget\n",
    "│\n",
    "└── Node\n",
    "    │\n",
    "    └── Element\n",
    "        │\n",
    "        ├── HTMLElement\n",
    "        │   │\n",
    "        │   ├── HTMLDivElement\n",
    "        │   ├── HTMLParagraphElement\n",
    "        │   ├── HTMLSpanElement\n",
    "        │   ├── ...\n",
    "        │\n",
    "        ├── SVGElement\n",
    "        ├── ...\n",
    "```\n",
    "**INITIALISEZ UNE INSTANCE DE LA CLASSE TERMINAL ET UTILISEZ LES MÉTHODES OPEN ET WRITE DEPUIS LE FICHIER WASM.**"
   ]
  }
 ],
 "metadata": {
  "kernelspec": {
   "display_name": "Rust",
   "language": "rust",
   "name": "rust"
  },
  "language_info": {
   "codemirror_mode": "rust",
   "file_extension": ".rs",
   "mimetype": "text/rust",
   "name": "Rust",
   "pygment_lexer": "rust",
   "version": ""
  },
  "toc": {
   "base_numbering": "3",
   "nav_menu": {},
   "number_sections": true,
   "sideBar": true,
   "skip_h1_title": false,
   "title_cell": "Table of Contents",
   "title_sidebar": "Contents",
   "toc_cell": false,
   "toc_position": {
    "height": "calc(100% - 180px)",
    "left": "10px",
    "top": "150px",
    "width": "268.8px"
   },
   "toc_section_display": true,
   "toc_window_display": false
  }
 },
 "nbformat": 4,
 "nbformat_minor": 5
}
