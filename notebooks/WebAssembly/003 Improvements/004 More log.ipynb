{
 "cells": [
  {
   "cell_type": "markdown",
   "id": "joint-contract",
   "metadata": {
    "deletable": false,
    "editable": false
   },
   "source": [
    "# Améliorer les logs grâce à 3 crates\n",
    "\n",
    "---\n",
    "\n",
    "*Cette toute petite partie décrit deux astuces afin d'avoir de meilleurs logs dans la console de développement web grâce aux crates :*\n",
    "- console_error_panic_hook\n",
    "- wasm-logger\n",
    "- log"
   ]
  },
  {
   "cell_type": "markdown",
   "id": "interpreted-clark",
   "metadata": {
    "deletable": false,
    "editable": false
   },
   "source": [
    "## Afficher les panics\n",
    "\n",
    "### console_error_panic_hook\n",
    "\n",
    "La crate `console_error_panic_hook` [https://github.com/rustwasm/console_error_panic_hook](https://github.com/rustwasm/console_error_panic_hook) a été développée afin de pouvoir afficher les traces lors d'un panic dans la console web.\n",
    "\n",
    "- L'initialisation se fait via la fonction `set_hook` de `std::panic` :\n",
    "\n",
    "```\n",
    "Function std::panic::set_hook\n",
    "\n",
    "pub fn set_hook(hook: Box<dyn Fn(&PanicInfo<'_>) + Sync + Send + 'static>)\n",
    "\n",
    "Registers a custom panic hook, replacing the previously registered hook.\n",
    "\n",
    "The panic hook is invoked when a thread panics, but before the panic runtime is invoked. As such, the hook will run with both the aborting and unwinding runtimes.\n",
    "\n",
    "The default hook, which is registered at startup, prints a message to standard error and generates a backtrace if requested. This behavior can be customized using the set_hook function. The current hook can be retrieved while reinstating the default hook with the take_hook function.\n",
    "\n",
    "The hook is provided with a PanicInfo struct which contains information about the origin of the panic, including the payload passed to panic! and the source code location from which the panic originated.\n",
    "\n",
    "The panic hook is a global resource.\n",
    "```"
   ]
  },
  {
   "cell_type": "markdown",
   "id": "executed-rolling",
   "metadata": {
    "deletable": false,
    "editable": false
   },
   "source": [
    "- La crate définit une fonction `hook` qui prend un paramètre de type `ref PanicInfo`. Cette fonction pourra etre passée à `set_hook` :\n",
    "\n",
    "```\n",
    "Function console_error_panic_hook::hook\n",
    "\n",
    "pub fn hook(info: &PanicInfo<'_>)\n",
    "\n",
    "A panic hook for use with std::panic::set_hook that logs panics into console.error.\n",
    "\n",
    "On non-wasm targets, prints the panic to stderr.\n",
    "```"
   ]
  },
  {
   "cell_type": "markdown",
   "id": "centered-client",
   "metadata": {
    "deletable": false,
    "editable": false
   },
   "source": [
    "**L'initialisation se fait donc ainsi : `std::panic::set_hook(Box::new(console_error_panic_hook::hook));`.**"
   ]
  },
  {
   "cell_type": "markdown",
   "id": "undefined-stick",
   "metadata": {
    "deletable": false,
    "editable": false
   },
   "source": [
    "## Les niveaux de log\n",
    "\n",
    "Enfin, il est possible d'utiliser la crate `wasm-logger` de concert avec la crate `log` afin d'obtenir plusieurs types de log, info, warning, error etc... associés à une présentation agréable à lire.\n",
    "\n",
    "**On écriera la ligne `wasm_logger::init(wasm_logger::Config::default());` dans le code.**\n",
    "\n",
    "Trois nouvelles macros deviennent ainsi disponibles :\n",
    "- `log::info!`\n",
    "- `log::warn!`\n",
    "- `log::error!`\n",
    "\n",
    "![LOGS](pictures/more_logs.png)"
   ]
  }
 ],
 "metadata": {
  "kernelspec": {
   "display_name": "Rust",
   "language": "rust",
   "name": "rust"
  },
  "language_info": {
   "codemirror_mode": "rust",
   "file_extension": ".rs",
   "mimetype": "text/rust",
   "name": "Rust",
   "pygment_lexer": "rust",
   "version": ""
  },
  "toc": {
   "base_numbering": "4",
   "nav_menu": {},
   "number_sections": true,
   "sideBar": true,
   "skip_h1_title": false,
   "title_cell": "Table of Contents",
   "title_sidebar": "Contents",
   "toc_cell": false,
   "toc_position": {
    "height": "calc(100% - 180px)",
    "left": "10px",
    "top": "150px",
    "width": "268.8px"
   },
   "toc_section_display": true,
   "toc_window_display": false
  }
 },
 "nbformat": 4,
 "nbformat_minor": 5
}
