{
 "cells": [
  {
   "cell_type": "markdown",
   "id": "liked-aerospace",
   "metadata": {
    "deletable": false,
    "editable": false
   },
   "source": [
    "# TP All Code in Wasm\n",
    "\n",
    "---\n",
    "\n",
    "**Le but de ce TP est de reprendre les modules précédents et de coder les mêmes fonctionnalités (Terminal) de façon à ce que tout se fasse depuis le fichier wasm, il n'y aura plus de code dans la section index.js mis à part l'import du module.**\n",
    "\n",
    "> J'ai placé sur l'image Docker un boilerplate de projet wasm, il est présent dans le dossier `/home/jupyter/Desktop/programs/wasm-boilerplate`. Copiez-le et utilisez-le pour ce TP.\n",
    "\n",
    "> Les commandes à exécuter sont `./install.sh && ./run.sh` et normalement, vous pourrez commencer à coder et le projet se mettra à jour de lui-même.\n",
    "\n",
    "## L'attribut start\n",
    "\n",
    "On peut utiliser l'attribut start `#[wasm_bindgen(start)]` pour indiquer qu'une fonction doit s'exécuter directement après le chargement du module. On peut voir cela comme équivalent à un main d'un programme, et comme le main, il ne peut y en avoir qu'un seul.\n",
    "\n",
    ">```\n",
    ">use wasm_bindgen::prelude::*;\n",
    ">\n",
    ">#[wasm_bindgen(start)]\n",
    ">pub fn main() {\n",
    ">    console_log!(\"Module started !\");\n",
    ">    // ... Some code ...\n",
    ">}\n",
    ">```\n",
    "\n",
    "La fonction main() ici sera exécutée dès la ligne de l'import :"
   ]
  },
  {
   "cell_type": "markdown",
   "id": "australian-examination",
   "metadata": {
    "deletable": false,
    "editable": false
   },
   "source": [
    "## attachCustomKeyEventHandler\n",
    "\n",
    "**Depuis le début de la formation, je commets volontairement une erreur de design en utilisant `document.addEventListener` alors que le module xterm fournit une méthode censée faire le boulot.**\n",
    "\n",
    ">```\n",
    ">attachCustomKeyEventHandler\n",
    ">\n",
    ">▸ attachCustomKeyEventHandler(customKeyEventHandler: function): void\n",
    ">\n",
    ">Defined in xterm.d.ts:908\n",
    ">\n",
    ">Parameters:\n",
    ">\n",
    ">▪ customKeyEventHandler: function\n",
    ">\n",
    ">▸ (event: KeyboardEvent): boolean\n",
    ">\n",
    ">Parameters:\n",
    ">Name \tType\n",
    ">event \tKeyboardEvent\n",
    ">\n",
    ">Returns: void\n",
    ">```"
   ]
  },
  {
   "cell_type": "markdown",
   "id": "mobile-latex",
   "metadata": {
    "deletable": false,
    "editable": false
   },
   "source": [
    "Cote rust, ce prototype s'écrirait ainsi :\n",
    "```\n",
    "    #[wasm_bindgen(method)]\n",
    "    fn attachCustomKeyEventHandler(this: &Terminal, closure: &Closure<dyn FnMut(web_sys::KeyboardEvent)>);\n",
    "```"
   ]
  },
  {
   "cell_type": "markdown",
   "id": "reverse-flooring",
   "metadata": {
    "deletable": false,
    "editable": false
   },
   "source": [
    "**Dès que vous y serez parvenu, vous pouvez commencer à regarder sérieusement les exemples proposés par le guide de wasm-bindgen.**"
   ]
  }
 ],
 "metadata": {
  "kernelspec": {
   "display_name": "Rust",
   "language": "rust",
   "name": "rust"
  },
  "language_info": {
   "codemirror_mode": "rust",
   "file_extension": ".rs",
   "mimetype": "text/rust",
   "name": "Rust",
   "pygment_lexer": "rust",
   "version": ""
  },
  "toc": {
   "base_numbering": "5",
   "nav_menu": {},
   "number_sections": true,
   "sideBar": true,
   "skip_h1_title": false,
   "title_cell": "Table of Contents",
   "title_sidebar": "Contents",
   "toc_cell": false,
   "toc_position": {
    "height": "calc(100% - 180px)",
    "left": "10px",
    "top": "150px",
    "width": "268.8px"
   },
   "toc_section_display": true,
   "toc_window_display": false
  }
 },
 "nbformat": 4,
 "nbformat_minor": 5
}
