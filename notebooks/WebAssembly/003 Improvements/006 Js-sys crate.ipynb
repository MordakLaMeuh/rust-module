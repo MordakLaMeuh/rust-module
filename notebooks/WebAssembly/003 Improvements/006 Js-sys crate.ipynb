{
 "cells": [
  {
   "cell_type": "markdown",
   "id": "stopped-praise",
   "metadata": {
    "deletable": false,
    "editable": false
   },
   "source": [
    "# La crate js-sys\n",
    "\n",
    "---\n",
    "\n",
    "> Nous avons vu que deux crates sont associées a wasm-bindgen, la crate web-sys dont nous avons déjà parlé, spécialisée dans la manipulation du DOM et la crate js-sys que nous allons explorer dans ce chapitre.\n",
    "\n",
    "```\n",
    "[dependencies]\n",
    "js-sys = \"0.3.63\"\n",
    "```"
   ]
  },
  {
   "cell_type": "markdown",
   "id": "prospective-improvement",
   "metadata": {
    "deletable": false,
    "editable": false
   },
   "source": [
    "## La difference entre web-sys et js-sys\n",
    "\n",
    "> Contrairement à la crate web-sys qui touche le DOM et donc ce qui apparait dans les navigateurs des clients, la crate js-sys touche le code javascript, c'est-à-dire qu'elle contient par exemple les types JS comme Array et permet aussi l'appel des méthodes liées au JSON. Elle permet aussi l'accès au module Math....\n",
    "\n",
    "- Pour se faire une idée, la crate web-sys n'aurait guère d'intérêt si elle était utilisée du côté serveur puisqu'il n'y a pas de DOM tandis que js-sys pourrait être a la fois utilisée cote client et cote serveur parce qu'il est question de l'api javascript.\n",
    "\n",
    "*Notez qu'il existe une fonction qui peut sembler faire exception à cette règle, la fonction console.log qui est intégrée a web_sys et non js_sys, pourtant console.log s'utilise à la fois cote serveur et cote client, mais en réalité, ce n'est pas fondamentalement le même console.log sans entrer davantage dans les détails...*\n",
    "\n",
    "En résumé, js-sys est utilisée pour interagir avec le code JavaScript, tandis que web-sys est utilisée pour interagir avec le DOM et les fonctionnalités spécifiques au navigateur. Ces deux crates ensemble permettent de manipuler à la fois le contenu affiché dans les navigateurs des clients et le code JavaScript sous-jacent."
   ]
  },
  {
   "cell_type": "markdown",
   "id": "controlled-mumbai",
   "metadata": {
    "deletable": false,
    "editable": false
   },
   "source": [
    "## Exemples d'utilisation de la crate js-sys\n",
    "\n",
    "### Accès au module Math"
   ]
  },
  {
   "cell_type": "markdown",
   "id": "extraordinary-standard",
   "metadata": {
    "deletable": false,
    "editable": false
   },
   "source": [
    "```\n",
    "use js_sys::Math;\n",
    "use wasm_bindgen::prelude::*;\n",
    "\n",
    "#[wasm_bindgen]\n",
    "pub fn get_cosinus(x: f64) -> f64 {\n",
    "    Math::cos(x)\n",
    "}\n",
    "\n",
    "#[wasm_bindgen]\n",
    "pub fn get_square_root(x: f64) -> f64 {\n",
    "    Math::sqrt(x)\n",
    "}\n",
    "```"
   ]
  },
  {
   "cell_type": "markdown",
   "id": "first-emission",
   "metadata": {
    "deletable": false,
    "editable": false
   },
   "source": [
    "### Utilisation du type Array JavaScript"
   ]
  },
  {
   "cell_type": "markdown",
   "id": "molecular-diary",
   "metadata": {
    "deletable": false,
    "editable": false
   },
   "source": [
    "```\n",
    "use js_sys::Array;\n",
    "use wasm_bindgen::prelude::*;\n",
    "\n",
    "#[wasm_bindgen(js_name = \"GetJsArray\")]\n",
    "pub fn get_js_array() -> Array {\n",
    "    let array = Array::new();\n",
    "    array.push(&JsValue::from(1));\n",
    "    array.push(&JsValue::from(2));\n",
    "    array.push(&JsValue::from(3));\n",
    "\n",
    "    let mut value = std::f64::consts::FRAC_1_PI;\n",
    "    let length = array.length();\n",
    "    for i in 0..length {\n",
    "        value += array.get(i).as_f64().unwrap();\n",
    "        array.set(i, JsValue::from(value));\n",
    "    }\n",
    "    array\n",
    "}\n",
    "```\n",
    "\n",
    "console **OUTPUT**\n",
    "\n",
    "`Array(3) [ 1.3183098861837907, 3.3183098861837905, 6.3183098861837905 ]  index.js:12:13`"
   ]
  },
  {
   "cell_type": "markdown",
   "id": "perceived-breakfast",
   "metadata": {
    "deletable": false,
    "editable": false
   },
   "source": [
    "### Utilisation d'un Object Javascript\n",
    "\n",
    "```\n",
    "use js_sys::{Object, Reflect};\n",
    "use wasm_bindgen::prelude::*;\n",
    "\n",
    "#[wasm_bindgen(js_name = \"GetJsObject\")]\n",
    "pub fn get_js_object() -> Object {\n",
    "    let object = Object::new();\n",
    "    Reflect::set(&object, &\"name\".into(), &\"Mickael\".into()).unwrap();\n",
    "    Reflect::set(&object, &\"age\".into(), &40.into()).unwrap();\n",
    "\n",
    "    let _name = Reflect::get(&object, &\"name\".into())\n",
    "        .unwrap()\n",
    "        .as_string()\n",
    "        .unwrap();\n",
    "    let _age = Reflect::get(&object, &\"age\".into())\n",
    "        .unwrap()\n",
    "        .as_f64()\n",
    "        .unwrap();\n",
    "    object\n",
    "}  \n",
    "```\n",
    "\n",
    "console **OUTPUT** :\n",
    "\n",
    "`Object { name: \"Mickael\", age: 40 }`\n"
   ]
  },
  {
   "cell_type": "markdown",
   "id": "earlier-worcester",
   "metadata": {
    "deletable": false,
    "editable": false
   },
   "source": [
    "### Utilisation de eval()\n",
    "\n",
    "```\n",
    "use js_sys::eval;\n",
    "use wasm_bindgen::prelude::*;\n",
    "\n",
    "#[wasm_bindgen(js_name = \"EvalAlert\")]\n",
    "pub fn eval_alert() {\n",
    "    let message = \"Les carottes sont cuites!\";\n",
    "    let code = format!(\"alert('{} --- {} ---{}')\", \"***\", message, \"***\");\n",
    "    eval(&code).unwrap();\n",
    "} \n",
    "```\n",
    "\n",
    "![EVAL](./pictures/alert.png)"
   ]
  },
  {
   "cell_type": "markdown",
   "id": "coral-sauce",
   "metadata": {
    "deletable": false,
    "editable": false
   },
   "source": [
    "**En conclusion, la crate js-sys facilite l'interaction entre WebAssembly (Wasm) et JavaScript. Elle fournit des types, des fonctions et des fonctionnalités pour travailler avec le code JavaScript, notamment l'accès aux objets, aux Array JS, aux fonctions de manipulation des JSON, au module Math et bien plus encore !**\n",
    "\n",
    "**Notons enfin que js-sys fournit des fonctions pour convertir des types entre Rust et JavaScript, ce qui facilite le passage de données complexes entre les deux environnements.**"
   ]
  }
 ],
 "metadata": {
  "kernelspec": {
   "display_name": "Rust",
   "language": "rust",
   "name": "rust"
  },
  "language_info": {
   "codemirror_mode": "rust",
   "file_extension": ".rs",
   "mimetype": "text/rust",
   "name": "Rust",
   "pygment_lexer": "rust",
   "version": ""
  },
  "toc": {
   "base_numbering": "6",
   "nav_menu": {},
   "number_sections": true,
   "sideBar": true,
   "skip_h1_title": false,
   "title_cell": "Table of Contents",
   "title_sidebar": "Contents",
   "toc_cell": false,
   "toc_position": {
    "height": "calc(100% - 180px)",
    "left": "10px",
    "top": "150px",
    "width": "268.8px"
   },
   "toc_section_display": true,
   "toc_window_display": false
  }
 },
 "nbformat": 4,
 "nbformat_minor": 5
}
