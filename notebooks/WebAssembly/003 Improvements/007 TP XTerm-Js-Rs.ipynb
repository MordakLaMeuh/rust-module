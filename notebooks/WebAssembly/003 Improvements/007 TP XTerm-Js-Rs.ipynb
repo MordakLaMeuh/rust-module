{
 "cells": [
  {
   "cell_type": "markdown",
   "id": "lovely-villa",
   "metadata": {
    "deletable": false,
    "editable": false
   },
   "source": [
    "# TP XTerm-Js-Rs\n",
    "\n",
    "---\n",
    "\n",
    "> Promis ! C'est la dernière fois que nous allons utiliser ce module. Dans les parties précédentes, nous avons d'abord utilisé le paquet xterm.js depuis le code Javascript puis nous nous en sommes servis directement depuis le fichier écrit en web assembly.\n",
    "\n",
    "Cependant, nous avons eu à 'déduire' ses méthodes en nous servant de sa documentation, et si nous avions à utiliser plusieurs autres méthodes afin d'améliorer l'expérience utilisateur, il pourrait vite devenir fastidieux d'avoir à déclarer chacune d'entre elles ! \n",
    "\n",
    "![XTERM](./pictures/xterm-js-rs.png)\n",
    "\n",
    "La crate xterm-js-rs a justement été écrite dans le but de nous fournir toutes les déclarations des méthodes de xterm.js, mais hélas, il se peut que les déclarations présentes dans la crate ne soient pas tout à fait les mêmes que celles que nous avions faites. Ainsi pour ce dernier TP, il faudra d'abord **ajouter** cette crate puis **adapter** le code écrit en Rust en fonction de ses nouvelles méthodes."
   ]
  },
  {
   "cell_type": "markdown",
   "id": "severe-tribute",
   "metadata": {
    "deletable": false,
    "editable": false
   },
   "source": [
    "**Seuls ces méthodes nous intéresseront :**\n",
    "- new\n",
    "- open\n",
    "- write\n",
    "- attach_custom_key_event_handler"
   ]
  }
 ],
 "metadata": {
  "kernelspec": {
   "display_name": "Rust",
   "language": "rust",
   "name": "rust"
  },
  "language_info": {
   "codemirror_mode": "rust",
   "file_extension": ".rs",
   "mimetype": "text/rust",
   "name": "Rust",
   "pygment_lexer": "rust",
   "version": ""
  },
  "toc": {
   "base_numbering": "7",
   "nav_menu": {},
   "number_sections": true,
   "sideBar": true,
   "skip_h1_title": false,
   "title_cell": "Table of Contents",
   "title_sidebar": "Contents",
   "toc_cell": false,
   "toc_position": {
    "height": "calc(100% - 180px)",
    "left": "10px",
    "top": "150px",
    "width": "268.8px"
   },
   "toc_section_display": true,
   "toc_window_display": false
  }
 },
 "nbformat": 4,
 "nbformat_minor": 5
}
