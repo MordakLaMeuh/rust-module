{
 "cells": [
  {
   "cell_type": "markdown",
   "id": "explicit-welsh",
   "metadata": {
    "deletable": false,
    "editable": false
   },
   "source": [
    "# Un WebSocket ECHO Serveur écrit en Rust\n",
    "\n",
    "---"
   ]
  },
  {
   "cell_type": "markdown",
   "id": "together-orange",
   "metadata": {
    "deletable": false,
    "editable": false
   },
   "source": [
    "## Introduction\n",
    "\n",
    "Dans cette partie, nous allons réaliser un simple echo serveur qui utilise les websockets, pour ce faire, j'ai choisi d'utiliser la crate `ws` qui semble être en mesure de pouvoir gérer cette tâche.\n",
    "\n",
    "> L'objectif de ce chapitre est de présenter les différents raisonnements qui seraient nécessaires à l'implémentation d'une crate que l'on ne connaissait pas jusqu'alors."
   ]
  },
  {
   "cell_type": "markdown",
   "id": "revised-scale",
   "metadata": {
    "deletable": false,
    "editable": false
   },
   "source": [
    "**Pour l'implémentation cote serveur, nous irons chercher la crates ws depuis crates.io, le fichier cargo.toml rassemblera à cela :**\n",
    "\n",
    "```\n",
    "[package]\n",
    "name = \"websocket-server\"\n",
    "version = \"0.1.0\"\n",
    "edition = \"2021\"\n",
    "\n",
    "# See more keys and their definitions at https://doc.rust-lang.org/cargo/reference/manifest.html\n",
    "\n",
    "[dependencies]\n",
    "ws = \"0.9.2\" \n",
    "```\n",
    "\n",
    "![WS](./pictures/ws-rs.png)"
   ]
  },
  {
   "cell_type": "markdown",
   "id": "stuck-consumption",
   "metadata": {
    "deletable": false,
    "editable": false
   },
   "source": [
    "## Se documenter\n",
    "\n",
    "- Une fois la crate mise dans les dependances du projet, nous lanceons de suite la documentation du projet avec `cargo doc --open` afin d'obtenir des informations sur comment utiliser la crate websocket :\n",
    "\n",
    "![DOC!](./pictures/doc-page1.png)"
   ]
  },
  {
   "cell_type": "markdown",
   "id": "increasing-grocery",
   "metadata": {
    "deletable": false,
    "editable": false
   },
   "source": [
    "*Nous voyons ici la documentation de la crate principal, celle de notre main.rs, il n'y a rien pour l'instant !*"
   ]
  },
  {
   "cell_type": "markdown",
   "id": "dependent-bathroom",
   "metadata": {
    "deletable": false,
    "editable": false
   },
   "source": [
    "- Dans la partie crates à gauche, allons vers la documentation de ws :\n",
    "\n",
    "![DOCU2](./pictures/doc-page2.png)\n",
    "\n",
    "*Aucun exemple n'est présente hélas, mais nous remarquons la présence d'une structure `WebSocket`, d'un trait `Handler` qui semble intéressant et aussi 2 fonctions `connect` et `listen`, qui semblent pouvoir faire le café...*"
   ]
  },
  {
   "cell_type": "markdown",
   "id": "american-harvey",
   "metadata": {
    "deletable": false,
    "editable": false
   },
   "source": [
    "- Comme nous sommes sur un programme server, il est évident que c'est la fonction `listen` que nous allons utiliser, allons-y :\n",
    "\n",
    "```\n",
    "Function ws::listen\n",
    "\n",
    "pub fn listen<A, F, H>(addr: A, factory: F) -> Result<()>where\n",
    "    A: ToSocketAddrs + Debug,\n",
    "    F: FnMut(Sender) -> H,\n",
    "    H: Handler,\n",
    "\n",
    "A utility function for setting up a WebSocket server.\n",
    "Safety\n",
    "\n",
    "This function blocks until the event loop finishes running. Avoid calling this method within another WebSocket handler.\n",
    "Examples\n",
    "\n",
    "use ws::listen;\n",
    "\n",
    "listen(\"127.0.0.1:3012\", |out| {\n",
    "    move |msg| {\n",
    "       out.send(msg)\n",
    "   }\n",
    "}).unwrap()\n",
    "```"
   ]
  },
  {
   "cell_type": "markdown",
   "id": "korean-leeds",
   "metadata": {
    "deletable": false,
    "editable": false
   },
   "source": [
    "> Un exemple est présent, la fonction semble s'exécuter sans nécessiter de préalables, le mieux à faire ici est donc de copier/coller l'exemple dans notre fichier main.rs.\n",
    "\n",
    "**À la place de l'IP/PORT propose, il est préférable de modifier en `0.0.0.0` afin de pouvoir écouter sur TOUTES les interfaces, et sélectionner un port valable pour l'image Docker ou notre OS. (8081-8089 pour Docker et +1000 pour OS).**"
   ]
  },
  {
   "cell_type": "markdown",
   "id": "manual-commerce",
   "metadata": {
    "deletable": false,
    "editable": false
   },
   "source": [
    "- On développe aussi un peu avec les brackets afin que le code paraisse plus clair :\n",
    "\n",
    "```\n",
    "use ws::listen;\n",
    "\n",
    "fn main() {\n",
    "    listen(\"0.0.0.0:8800\", |out| {\n",
    "        println!(\"Inside first closure\");\n",
    "        move |msg| {\n",
    "            println!(\"Inside second closure\");\n",
    "            out.send(msg)\n",
    "        }\n",
    "    })\n",
    "    .expect(\"Cannot Listen\");\n",
    "} \n",
    "```"
   ]
  },
  {
   "cell_type": "markdown",
   "id": "mobile-theorem",
   "metadata": {
    "deletable": false,
    "editable": false
   },
   "source": [
    "- `F: FnMut(Sender) -> H,` indique la nécessité de mettre en closure, le type `Sender` désigne-t-il l'envoyer du paquet ? La closure semble retourner un autre générique `H` ...\n",
    "\n",
    "```\n",
    "    |out| {\n",
    "        println!(\"Inside first closure\");\n",
    "        move |msg| {\n",
    "            println!(\"Inside second closure\");\n",
    "            out.send(msg)\n",
    "        }\n",
    "    }\n",
    "```\n",
    "\n",
    "- `H: Handler,` désigne un trait que doit implémenter le type de retour de la closure, implémenter Handler pour un type permet d'implémenter toute une liste de méthodes relatives aux websockets :\n",
    "\n",
    "```\n",
    "        move |msg| {\n",
    "            println!(\"Inside second closure\");\n",
    "            out.send(msg)\n",
    "        }\n",
    "```\n",
    "\n",
    "*Ici, ça devient étrange, on a du mal à imaginer que cette closure implémente le trait Handler...*\n",
    "\n",
    "```\n",
    "pub trait Handler {\n",
    "    // Provided methods\n",
    "    fn on_shutdown(&mut self) { ... }\n",
    "    fn on_open(&mut self, shake: Handshake) -> Result<()> { ... }\n",
    "    fn on_message(&mut self, msg: Message) -> Result<()> { ... }\n",
    "    fn on_close(&mut self, code: CloseCode, reason: &str) { ... }\n",
    "    fn on_error(&mut self, err: Error) { ... }\n",
    "    fn on_request(&mut self, req: &Request) -> Result<Response> { ... }\n",
    "    fn on_response(&mut self, res: &Response) -> Result<()> { ... }\n",
    "    fn on_timeout(&mut self, event: Token) -> Result<()> { ... }\n",
    "    fn on_new_timeout(&mut self, _: Token, _: Timeout) -> Result<()> { ... }\n",
    "    fn on_frame(&mut self, frame: Frame) -> Result<Option<Frame>> { ... }\n",
    "    fn on_send_frame(&mut self, frame: Frame) -> Result<Option<Frame>> { ... }\n",
    "    fn build_request(&mut self, url: &Url) -> Result<Request> { ... }\n",
    "}\n",
    "```\n",
    "*Notez que ce sont des `Provided methods` et non des `Required Methods`, donc il est tout a fait possible de ne pas en implémenter certaines parce que non utile dans notre cas.*"
   ]
  },
  {
   "cell_type": "markdown",
   "id": "sound-medline",
   "metadata": {
    "deletable": false,
    "editable": false
   },
   "source": [
    "## Refactorisation de l'exemple\n",
    "\n",
    "> Quelle proposition de code pouvez-vous faire dans le main afin d'avoir le code le plus simple possible ?"
   ]
  },
  {
   "cell_type": "markdown",
   "id": "compact-hearts",
   "metadata": {
    "deletable": false,
    "editable": false,
    "solution2": "hidden",
    "solution2_first": true
   },
   "source": [
    "### Proposition de code\n",
    "\n",
    "- Après réflexion, il semble que la forme la plus simple de l'utilisation de listen() semble de la sorte :\n",
    "\n",
    "```\n",
    "    struct Instance {}\n",
    "\n",
    "    impl ws::Handler for Instance;\n",
    "    \n",
    "    listen(\"0.0.0.0:8800\", |out: ws::Sender| -> Instance {\n",
    "        println!(\"Inside first closure\");\n",
    "        Instance {}\n",
    "    })\n",
    "    .expect(\"Cannot Listen\");  \n",
    "```\n",
    "\n",
    "Mais si cette forme-là est juste, comment se fait-il que dans l'exemple proposé par la documentation, il n'y avait aucun type de retour de la closure alors que cette même documentation indique qu'**un type de retour doit implémenter le trait Handler** ??? \n",
    "\n",
    ">```\n",
    ">use ws::listen;\n",
    ">\n",
    ">listen(\"127.0.0.1:3012\", |out| { // Il n'y a aucun type de retour pour cette closure, wtf !\n",
    ">    move |msg| {\n",
    ">       out.send(msg)\n",
    ">   }\n",
    ">}).unwrap()\n",
    ">```"
   ]
  },
  {
   "cell_type": "markdown",
   "id": "organizational-plenty",
   "metadata": {
    "deletable": false,
    "editable": false,
    "solution2": "hidden"
   },
   "source": [
    "Dans la documentation du trait Handler, il y a tout en bas dans la catégorie Implementors cela :\n",
    "```\n",
    "Implementors\n",
    "\n",
    "impl<F> Handler for F\n",
    "where\n",
    "    F: Fn(Message) -> Result<()>,\n",
    "```\n",
    "\n",
    "Comprenez-vous mieux maintenant ? C'est une implémentation générique pour tout type de fonction ou de closures dont le prototype est `Fn(Message) -> Result<()>`, c'est le cas dans l'exemple de la documentation. **C'est très velu, car il faut aller chercher tout en bas d'une page de documentation d'une crate que l'on découvre tout juste pour comprendre cette magie !**"
   ]
  },
  {
   "cell_type": "markdown",
   "id": "registered-april",
   "metadata": {
    "deletable": false,
    "editable": false
   },
   "source": [
    "### Le paramètre out\n",
    "\n",
    "- Reprenons le code que nous avons proposé plus haut :\n",
    "\n",
    "```\n",
    "    struct Instance {}\n",
    "\n",
    "    impl ws::Handler for Instance;\n",
    "\n",
    "    listen(\"0.0.0.0:8800\", |out: ws::Sender| -> Instance {\n",
    "        println!(\"Inside first closure\");\n",
    "        Instance {}\n",
    "    })\n",
    "    .expect(\"Cannot Listen\");  \n",
    "```\n",
    "Ce code compile très bien et peut se lancer, mais un warning nous indique que l'on ne fait rien de la variable `out` qui est de type `Sender`. Comme son nom l'indique, cette variable est de type Sender qui permet **d'envoyer des données** au client, et de l'autre cote, l'implémentation du trait Handler que l'on fera pour Instance semble plutôt gérer la partie de l'**écoute du client**."
   ]
  },
  {
   "cell_type": "markdown",
   "id": "subtle-donor",
   "metadata": {
    "deletable": false,
    "editable": false
   },
   "source": [
    "## Les méthodes de l'implémentation du trait Handler\n",
    "\n",
    "**Si on regarde maintenant les différentes méthodes du trait Handler, on peut grosso modo les classer en 4 catégories.**\n",
    "\n",
    "### Les méthodes de changement d'état du socket\n",
    "\n",
    ">- on_shutdown\n",
    ">- on_open\n",
    ">- on_close\n",
    ">- on_error\n",
    "\n",
    "### La méthode de réception standard\n",
    "\n",
    "> - on_message\n",
    "\n",
    "### Des méthodes plus bas niveau\n",
    "\n",
    "> - on_frame\n",
    "> - on_send_frame\n",
    "\n",
    "### Des méthodes \"spécialisées\"\n",
    "\n",
    "> - on_timeout\n",
    "> - on_new_timeout\n",
    "> - on_request\n",
    "> - on_response\n",
    "> - build_request"
   ]
  },
  {
   "cell_type": "markdown",
   "id": "committed-vehicle",
   "metadata": {
    "deletable": false,
    "editable": false
   },
   "source": [
    "**Je vous propose d'implémenter les méthodes de changement d'état en y mettant des println! afin que vous puissiez voir ce qui se passe. Et d'écrire aussi un println! qui lirait le message reçu par la socket pour on_message.**"
   ]
  },
  {
   "cell_type": "markdown",
   "id": "national-unknown",
   "metadata": {
    "deletable": false,
    "editable": false
   },
   "source": [
    "## Un dernier élément"
   ]
  },
  {
   "cell_type": "markdown",
   "id": "spread-questionnaire",
   "metadata": {
    "deletable": false,
    "editable": false
   },
   "source": [
    "**Si l'on veut terminer notre ECHO SERVER, quelle partie de code manque-t-il ?**\n",
    "\n",
    "*(pas de solution disponible ici)*"
   ]
  },
  {
   "cell_type": "markdown",
   "id": "transsexual-montreal",
   "metadata": {
    "deletable": false,
    "editable": false
   },
   "source": [
    "## Conclusion\n",
    "\n",
    "Dans cette partie, nous venons de réaliser un echo server en Rust se servant de l'api websocket, si je lance le serveur, la commande `netstat -antup` me retourne l'information que le programme écoute :\n",
    "\n",
    "`tcp        0      0 0.0.0.0:8800            0.0.0.0:*               LISTEN      13428/target/debug/`\n",
    "\n",
    "Dans la partie suivante, nous développerons la cote client en web assembleur avec les websockets de l'api WEB."
   ]
  }
 ],
 "metadata": {
  "kernelspec": {
   "display_name": "Rust",
   "language": "rust",
   "name": "rust"
  },
  "language_info": {
   "codemirror_mode": "rust",
   "file_extension": ".rs",
   "mimetype": "text/rust",
   "name": "Rust",
   "pygment_lexer": "rust",
   "version": ""
  },
  "toc": {
   "base_numbering": 1,
   "nav_menu": {},
   "number_sections": true,
   "sideBar": true,
   "skip_h1_title": false,
   "title_cell": "Table of Contents",
   "title_sidebar": "Contents",
   "toc_cell": false,
   "toc_position": {},
   "toc_section_display": true,
   "toc_window_display": false
  }
 },
 "nbformat": 4,
 "nbformat_minor": 5
}
