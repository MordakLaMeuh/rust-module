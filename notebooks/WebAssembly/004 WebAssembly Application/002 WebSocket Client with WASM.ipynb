{
 "cells": [
  {
   "cell_type": "markdown",
   "id": "incredible-narrow",
   "metadata": {
    "deletable": false,
    "editable": false
   },
   "source": [
    "# Un WebSocket Client écrit en Rust en WebAssembly\n",
    "\n",
    "---"
   ]
  },
  {
   "cell_type": "markdown",
   "id": "coated-tobago",
   "metadata": {
    "deletable": false,
    "editable": false
   },
   "source": [
    "## Introduction\n",
    "\n",
    "Dans cette partie, nous allons réaliser le site du client afin que l'on puisse utiliser notre echo serveur. Enfin, plus exactement, nous réaliserons surtout la partie web assembly en Rust pour gérer l'API WEB WebSocket via la crate web_sys de wasm_bindgen.\n",
    "\n",
    "> L'objectif de ce chapitre est de présenter les différents raisonnements qui seraient nécessaires à l'utilisation de lAPI WebSocket dans le cadre du WebAssembly en Rust."
   ]
  },
  {
   "cell_type": "markdown",
   "id": "cordless-great",
   "metadata": {
    "deletable": false,
    "editable": false
   },
   "source": [
    "## Documentation\n",
    "\n",
    "> - La première ressource dont nous aurons besoin est la description de l'API WEB WebSocket de Mozilla. Je vous en donne donc le lien [https://developer.mozilla.org/en-US/docs/Web/API/WebSockets_API/Writing_WebSocket_client_applications](https://developer.mozilla.org/en-US/docs/Web/API/WebSockets_API/Writing_WebSocket_client_applications) :\n",
    "\n",
    "![API](./pictures/websocket-api.png)\n",
    "\n",
    "> - La seconde ressource est celle du binding de l'api WebSocket de la documentation Rust (obtenue via `cargo doc --open`) de la structure WebSocket de la crate web_sys :\n",
    "\n",
    "![WS](./pictures/doc-websys-ws.png)"
   ]
  },
  {
   "cell_type": "markdown",
   "id": "minor-exclusion",
   "metadata": {
    "deletable": false,
    "editable": false
   },
   "source": [
    "*Cela constitue les deux documentations essentielles a la réalisation du client,* **veuillez ne pas regarder l'exemple des websockets du guide de wasm-bindgen pour vous en inspire, ce serait tricher.** "
   ]
  },
  {
   "cell_type": "markdown",
   "id": "armed-situation",
   "metadata": {
    "deletable": false,
    "editable": false
   },
   "source": [
    "## Création d'un nouveau projet\n",
    "\n",
    "> Afin de ne pas perdre du temps a créer un nouveau projet, je vous suggère de copier le **boilerplate** wasm que j'ai écrit, il est ici `~/Desktop/programs/wasm-boilerplate` :\n",
    "\n",
    "```\n",
    "cp -r ~/Desktop/programs/wasm-boilerplate ~/Desktop/client-ws\n",
    "cd ~/Desktop/client-ws\n",
    "```\n",
    "\n",
    "*Afin de pouvoir compiler le code Rust en web assembly puis de lancer la page web, utilisez ces deux scripts depuis la racine du projet :*\n",
    "\n",
    "`./install.sh && ./run.sh`"
   ]
  },
  {
   "cell_type": "markdown",
   "id": "sixth-subcommittee",
   "metadata": {
    "deletable": false,
    "editable": false
   },
   "source": [
    "## Les preliminaires\n",
    "\n",
    "- Afin d'avoir un vrai nouveau projet, il convient de changer le nom du projet dans le fichier `Cargo.toml` a la racine.\n",
    "-  vous suggère très fortement de tout de suite installer les 3 crates qui nous permettront d'avoir des logs de meilleure qualité ainsi que les panic dans la console WEB.\n",
    "```\n",
    "[ To add dependencies ...]\n",
    "wasm-logger = \"0.2.0\"\n",
    "log = \"0.4.6\"\n",
    "console_error_panic_hook = \"0.1.7\"   \n",
    "```\n",
    "- Enfin, dans la fonction `start` de votre programme rust, initialisez les de suite :\n",
    "```\n",
    "#[wasm_bindgen(start)]\n",
    "fn ma_fonction_start() -> Result<(), JsValue> {\n",
    "    wasm_logger::init(wasm_logger::Config::default());\n",
    "    std::panic::set_hook(Box::new(console_error_panic_hook::hook));\n",
    "    [...]\n",
    "```\n",
    "- Dernière chose, d'après la documentation de l'API WebSocket via web_sys, la feature `WebSocket` est à activer, ajoutez le à la liste des features :\n",
    "```\n",
    "[dependencies.web-sys]\n",
    "version = \"0.3.63\"\n",
    "features = [ \n",
    "    ... others features ...\n",
    "    WebSocket\n",
    "]\n",
    "```\n",
    "\n",
    "> *Voilà, nous sommes maintenant prêts à passer à l'écriture du code.*"
   ]
  },
  {
   "cell_type": "markdown",
   "id": "little-travel",
   "metadata": {
    "deletable": false,
    "editable": false
   },
   "source": [
    "## Principe général\n",
    "\n",
    "Ce que l'on vise ici, c'est la possibilité de pouvoir envoyer un message au serveur puis de lire sa réponse. Comme il s'agit d'un echo server, le message reçu sera identique à ce que l'on a envoyé.\n",
    "\n",
    "D'après la documentation de l'API Websocket, il est question de faire un `new` au départ du programme afin d'ouvrir une websocket vers le serveur. Ensuite, viendront des implémentations de callback telles que `on_open`, `on_error` & `on_message`. Nous aurons aussi besoin d'utiliser la méthode `send` pour pouvoir écrire un message au serveur. Ce send se fera une fois la socket ouverte, donc dans la callback de open."
   ]
  },
  {
   "cell_type": "markdown",
   "id": "organized-taiwan",
   "metadata": {
    "deletable": false,
    "editable": false
   },
   "source": [
    "## Implémentations"
   ]
  },
  {
   "cell_type": "markdown",
   "id": "hearing-solid",
   "metadata": {
    "deletable": false,
    "editable": false
   },
   "source": [
    "### La création de la socket\n",
    "\n",
    "La première étape sera de créer une nouvelle WebSocket via la méthode new, d'après la doc de l'api, elle prend en paramètre une chaine de caractère contenant l'IP ou l'URL suivi du numéro du port séparés par le symbole `:`.\n",
    "\n",
    "- Regardons maintenant ce que cela donne du côté de l'api rust web_sys :\n",
    "\n",
    ">```\n",
    ">impl WebSocket\n",
    ">pub fn new(url: &str) -> Result<WebSocket, JsValue>\n",
    ">\n",
    ">The new WebSocket(..) constructor, creating a new instance of WebSocket.\n",
    ">\n",
    ">MDN Documentation\n",
    ">\n",
    ">This API requires the following crate features to be activated: WebSocket\n",
    ">\n",
    ">```\n",
    "*Bon, je pense que vous êtes en mesure de pouvoir coder ça sans problème….*"
   ]
  },
  {
   "cell_type": "markdown",
   "id": "surprised-pastor",
   "metadata": {
    "deletable": false,
    "editable": false
   },
   "source": [
    "### L'implémentation du listener `open`\n",
    "\n",
    "Une fois la websocket prête avec `new`, un événement `open` devrait normalement survenir.\n",
    "\n",
    "```\n",
    "The open event is fired when a connection with a WebSocket is opened.\n",
    "```"
   ]
  },
  {
   "cell_type": "markdown",
   "id": "actual-croatia",
   "metadata": {
    "deletable": false,
    "editable": false
   },
   "source": [
    "La section correspondante dans web_sys est :\n",
    ">```\n",
    ">impl WebSocket\n",
    ">\n",
    ">pub fn set_onopen(&self, value: Option<&Function>)\n",
    ">\n",
    ">Setter for the onopen field of this object.\n",
    ">\n",
    ">MDN Documentation\n",
    ">\n",
    ">This API requires the following crate features to be activated: WebSocket\n",
    ">\n",
    ">```"
   ]
  },
  {
   "cell_type": "markdown",
   "id": "infinite-firewall",
   "metadata": {
    "deletable": false,
    "editable": false
   },
   "source": [
    "Cette méthode s'appelle donc en lui passant une Option de callback en paramètre, nous avons vu dans le précédent chapitre comment créer une closure de type `Closure` et comment en faire une `Fonction` Javascript.\n",
    "\n",
    "**méthode new :**\n",
    "\n",
    ">```\n",
    ">impl<T> Closure<T>\n",
    ">where\n",
    ">    T: ?Sized + WasmClosure,\n",
    ">\n",
    ">pub fn new<F>(t: F) -> Closure<T>\n",
    ">where\n",
    ">    F: IntoWasmClosure<T> + 'static,\n",
    ">\n",
    ">Creates a new instance of Closure from the provided Rust function.\n",
    ">\n",
    ">Note that the closure provided here, F, has a few requirements associated with it:\n",
    ">\n",
    ">    It must implement Fn or FnMut (for FnOnce functions see Closure::once and Closure::once_into_js).\n",
    ">\n",
    ">    It must be 'static, aka no stack references (use the move keyword).\n",
    ">\n",
    ">    It can have at most 7 arguments.\n",
    ">\n",
    ">    Its arguments and return values are all types that can be shared with JS (i.e. have #[wasm_bindgen] >annotations or are simple numbers, etc.)\n",
    ">```\n",
    "\n",
    "**type conversion :**\n",
    "\n",
    "`{Type Function}` = `{Type Closure}.as_ref().unchecked_ref())`"
   ]
  },
  {
   "cell_type": "markdown",
   "id": "civic-botswana",
   "metadata": {
    "deletable": false,
    "editable": false
   },
   "source": [
    "**NB : Vous devez aussi trouver un moyen d'éviter que votre closure soit déchargée de la mémoire au moment où vous sortez du bloc de code dans laquelle elle est déclarée !**"
   ]
  },
  {
   "cell_type": "markdown",
   "id": "regional-chosen",
   "metadata": {
    "deletable": false,
    "editable": false
   },
   "source": [
    "### L'implémentation du listener `error`"
   ]
  },
  {
   "cell_type": "markdown",
   "id": "formed-banking",
   "metadata": {
    "deletable": false,
    "editable": false
   },
   "source": [
    "La création de ce listener est très semblable à open, cependant un Event d'erreur peut être générée et lue dans la callback, et il peut être intéressant de penser à le faire. Le type ws_sys d'erreur event est `ErrorEvent`."
   ]
  },
  {
   "cell_type": "markdown",
   "id": "annual-nashville",
   "metadata": {
    "deletable": false,
    "editable": false
   },
   "source": [
    "### L'implémentation du listener `message`\n",
    "\n",
    "Pour ce dernier listener, ce sera un Event de type `MessageEvent` qui sera retourné, il existe une méthode de MessageEvent qui permet de récupérer les données, et un cast en chaine de caractère de type `js_sys::JsString` peut être utile dans la mesure où l'on s'attend normalement a une chaine de caractère.\n",
    "\n",
    "![EVT](./pictures/msg_event.png)"
   ]
  },
  {
   "cell_type": "markdown",
   "id": "altered-firewall",
   "metadata": {
    "deletable": false,
    "editable": false
   },
   "source": [
    "### `Écrire un message` au serveur\n",
    "\n",
    "La crate ws_sys définit la méthode `send_with_str` qui peut correspondre à ce dont on a besoin :\n",
    "\n",
    ">```\n",
    ">impl WebSocket\n",
    ">\n",
    ">pub fn send_with_str(&self, data: &str) -> Result<(), JsValue>\n",
    ">\n",
    ">The send() method.\n",
    ">\n",
    ">MDN Documentation\n",
    ">\n",
    ">This API requires the following crate features to be activated: WebSocket\n",
    ">\n",
    ">```"
   ]
  },
  {
   "cell_type": "markdown",
   "id": "appropriate-rubber",
   "metadata": {
    "deletable": false,
    "editable": false
   },
   "source": [
    "## Conclusion\n",
    "\n",
    "![CO](./pictures/console.png)\n",
    "\n",
    "**Utilisé conjointement avec le serveur rust codé dans la partie précédente, vous devriez être normalement en mesure de recevoir la chaine de caractère que vous avec envoyé au serveur.**"
   ]
  }
 ],
 "metadata": {
  "kernelspec": {
   "display_name": "Rust",
   "language": "rust",
   "name": "rust"
  },
  "language_info": {
   "codemirror_mode": "rust",
   "file_extension": ".rs",
   "mimetype": "text/rust",
   "name": "Rust",
   "pygment_lexer": "rust",
   "version": ""
  },
  "toc": {
   "base_numbering": "2",
   "nav_menu": {},
   "number_sections": true,
   "sideBar": true,
   "skip_h1_title": false,
   "title_cell": "Table of Contents",
   "title_sidebar": "Contents",
   "toc_cell": false,
   "toc_position": {
    "height": "calc(100% - 180px)",
    "left": "10px",
    "top": "150px",
    "width": "268.8px"
   },
   "toc_section_display": true,
   "toc_window_display": false
  }
 },
 "nbformat": 4,
 "nbformat_minor": 5
}
