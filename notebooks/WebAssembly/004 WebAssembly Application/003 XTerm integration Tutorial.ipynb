{
 "cells": [
  {
   "cell_type": "markdown",
   "id": "piano-wallet",
   "metadata": {
    "deletable": false,
    "editable": false
   },
   "source": [
    "# XTERM.JS le retour\n",
    "\n",
    "---"
   ]
  },
  {
   "cell_type": "markdown",
   "id": "third-bride",
   "metadata": {
    "deletable": false,
    "editable": false
   },
   "source": [
    "## Introduction\n",
    "\n",
    "> Dans cette troisième partie, nous allons d'abord recycler le code web assembly écrit pour faire fonctionner xterm.js ensuite, le but sera de pouvoir écrire plusieurs chaines de caractère au serveur depuis le terminal, ainsi le serveur nous répondra via le terminal aussi."
   ]
  },
  {
   "cell_type": "markdown",
   "id": "superb-cassette",
   "metadata": {
    "deletable": false,
    "editable": false
   },
   "source": [
    "## La réinstallation de xterm\n",
    "\n",
    "**Le code présent dans cette section devra être simplement du copier/coller, on ne va pas refaire et réfléchir deux fois aux mêmes choses.**"
   ]
  },
  {
   "cell_type": "markdown",
   "id": "lonely-illness",
   "metadata": {
    "deletable": false,
    "editable": false
   },
   "source": [
    "- Exécuter npm install xterm depuis la racine du projet\n",
    "\n",
    "`npm install xterm`\n",
    "\n",
    "*Le fichier package.json aura une nouvelle dépendance, xterm version 5.*\n",
    "\n",
    "- Récupérer la feuille de style\n",
    "\n",
    "D'abord, il faut ajouter deux dépendances au fichier package.json\n",
    "\n",
    "```\n",
    "    \"css-loader\": \"^6.7.4\",\n",
    "    \"style-loader\": \"^3.3.3\",\n",
    "```\n",
    "\n",
    "Ensuite exécuter la commande npm install\n",
    "\n",
    "`npm install`\n",
    "\n",
    "Puis finalement ajouter l'import du fichier .css depuis index.js\n",
    "\n",
    "**le fichier index.js devrait finalement ressembler à cela :**\n",
    "```\n",
    "import(\"./node_modules/xterm/css/xterm.css\").catch(console.error);\n",
    "import('./pkg').catch(console.error);\n",
    "```\n",
    "\n",
    "- Rajouter une section module dans le fichier `webpack.config.js` :\n",
    "\n",
    "```\n",
    "    module: {\n",
    "        rules: [{\n",
    "            test: /\\.css$/,\n",
    "            use: [\n",
    "                'style-loader',\n",
    "                'css-loader'\n",
    "            ]\n",
    "       }]\n",
    "    },\n",
    "\n",
    "```"
   ]
  },
  {
   "cell_type": "markdown",
   "id": "further-chase",
   "metadata": {
    "deletable": false,
    "editable": false
   },
   "source": [
    "- Modifications à apporter au fichier `lib.rs` :\n",
    "\n",
    "```\n",
    "#[wasm_bindgen(module = \"xterm\")]\n",
    "extern \"C\" {\n",
    "    type Terminal;\n",
    "\n",
    "    #[wasm_bindgen(constructor)]\n",
    "    fn new() -> Terminal;\n",
    "\n",
    "    #[wasm_bindgen(method)]\n",
    "    fn open(this: &Terminal, element: &web_sys::HtmlElement);\n",
    "\n",
    "    #[wasm_bindgen(method)]\n",
    "    fn write(this: &Terminal, chain: &str);\n",
    "\n",
    "    #[wasm_bindgen(method)]\n",
    "    fn attachCustomKeyEventHandler(this: &Terminal, closure: &Closure<dyn FnMut(web_sys::KeyboardEvent)>);\n",
    "} \n",
    "```"
   ]
  },
  {
   "cell_type": "markdown",
   "id": "french-buying",
   "metadata": {
    "deletable": false,
    "editable": false
   },
   "source": [
    "- Ajouter la feature `KeyboardEvent` au fichier `cargo.toml` dans les dépendances de web-sys :\n",
    "\n",
    "```\n",
    "[dependencies.web-sys]\n",
    "version = \"0.3.63\"\n",
    "features = [\n",
    "  'Document',\n",
    "  'Element',\n",
    "  'HtmlElement',\n",
    "  'Node',\n",
    "  'Window',\n",
    "  'MessageEvent',\n",
    "  'WebSocket',\n",
    "  'ErrorEvent',\n",
    "  'KeyboardEvent'\n",
    "] \n",
    "```"
   ]
  },
  {
   "cell_type": "markdown",
   "id": "boring-craft",
   "metadata": {
    "deletable": false,
    "editable": false
   },
   "source": [
    "- Création du DOM de la page depuis `lib.rs`. Rajouter ces lignes au début de la fonction principale :\n",
    "\n",
    "```\n",
    "    // Use `web_sys`'s global `window` function to get a handle on the global\n",
    "    // window object.\n",
    "    let window = web_sys::window().expect(\"no global `window` exists\");\n",
    "    let document = window.document().expect(\"should have a document on window\");\n",
    "    let body = document.body().expect(\"document should have a body\");\n",
    "\n",
    "    let terminal_div = document.create_element(\"div\").unwrap();\n",
    "    body.append_child(&terminal_div).unwrap();   \n",
    "```"
   ]
  },
  {
   "cell_type": "markdown",
   "id": "measured-bahamas",
   "metadata": {
    "deletable": false,
    "editable": false
   },
   "source": [
    "- Création et ouverture d'une instance xterm. Rajoutez ensuite ces 3 lignes :\n",
    "\n",
    "```\n",
    "    let terminal = Terminal::new();\n",
    "    terminal.open(&terminal_div.dyn_into::<web_sys::HtmlElement>().unwrap());\n",
    "    terminal.write(\"Hello from \\x1B[1;3;31mxterm.js\\x1B[0m $ \"); \n",
    "```"
   ]
  },
  {
   "cell_type": "markdown",
   "id": "cordless-packet",
   "metadata": {
    "deletable": false,
    "editable": false
   },
   "source": [
    "**La page web devrait ressembler à cela.**\n",
    "\n",
    "![PAGE](./pictures/page.png)"
   ]
  },
  {
   "cell_type": "markdown",
   "id": "least-entrepreneur",
   "metadata": {
    "deletable": false,
    "editable": false
   },
   "source": [
    "## Faire fonctionner le terminal avec la websocket\n",
    "\n",
    "- **Vous devez redéfinir la callback attachée a `attachCustomKeyEventHandler` de façon à ce que les chaines soient envoyées au serveur lors de l'appui sur la touche `Entrer`.**\n",
    "\n",
    "- **Les messages reçus par le client doivent s'afficher dans le terminal.**"
   ]
  }
 ],
 "metadata": {
  "kernelspec": {
   "display_name": "Rust",
   "language": "rust",
   "name": "rust"
  },
  "language_info": {
   "codemirror_mode": "rust",
   "file_extension": ".rs",
   "mimetype": "text/rust",
   "name": "Rust",
   "pygment_lexer": "rust",
   "version": ""
  },
  "toc": {
   "base_numbering": "3",
   "nav_menu": {},
   "number_sections": true,
   "sideBar": true,
   "skip_h1_title": false,
   "title_cell": "Table of Contents",
   "title_sidebar": "Contents",
   "toc_cell": false,
   "toc_position": {
    "height": "calc(100% - 180px)",
    "left": "10px",
    "top": "150px",
    "width": "268.8px"
   },
   "toc_section_display": true,
   "toc_window_display": false
  }
 },
 "nbformat": 4,
 "nbformat_minor": 5
}
