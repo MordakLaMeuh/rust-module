{
 "cells": [
  {
   "cell_type": "markdown",
   "id": "strategic-update",
   "metadata": {
    "deletable": false,
    "editable": false
   },
   "source": [
    "# Broadcaster les messages vers plusieurs clients\n",
    "\n",
    "---\n",
    "\n",
    "> Nous voici dans l'étape ultime de cette suite d'exercices. Dorénavant, nous chercherons à ce que plusieurs clients peuvent se connecter simultanément au serveur et que si un des clients écrit quelque chose dans son terminal, tous les autres clients peuvent lire le message."
   ]
  },
  {
   "cell_type": "markdown",
   "id": "german-mistress",
   "metadata": {
    "deletable": false,
    "editable": false
   },
   "source": [
    "- De quel côté du code faut-il travailler ? Client ou Serveur ?\n",
    "- Est-ce qu'un environnement mono-thread est toujours adapté à ce nouveau besoin ?\n",
    "- Comment partager des données de contexte entre plusieurs threads ?\n",
    "- Comment un thread peut-il directement communiquer à un autre thread ?\n",
    "- Qui doit communiquer avec quoi ? qui se charge de l'émission des données ?"
   ]
  },
  {
   "cell_type": "markdown",
   "id": "floral-story",
   "metadata": {
    "deletable": false,
    "editable": false
   },
   "source": [
    "**Donner la bonne reponse a chacune de ces questions, ce sera deja avoir fait 80% du dev.**\n",
    "\n",
    "*Afin de gagner du temps de dev, on ne nettoiera pas la mémoire à chaque fois qu'un client se déconnecte...*"
   ]
  },
  {
   "cell_type": "markdown",
   "id": "finnish-virginia",
   "metadata": {
    "deletable": false,
    "editable": false
   },
   "source": [
    "Bonne chance !"
   ]
  }
 ],
 "metadata": {
  "kernelspec": {
   "display_name": "Rust",
   "language": "rust",
   "name": "rust"
  },
  "language_info": {
   "codemirror_mode": "rust",
   "file_extension": ".rs",
   "mimetype": "text/rust",
   "name": "Rust",
   "pygment_lexer": "rust",
   "version": ""
  },
  "toc": {
   "base_numbering": "4",
   "nav_menu": {},
   "number_sections": true,
   "sideBar": true,
   "skip_h1_title": false,
   "title_cell": "Table of Contents",
   "title_sidebar": "Contents",
   "toc_cell": false,
   "toc_position": {
    "height": "538.2px",
    "left": "25px",
    "top": "0px",
    "width": "268.8px"
   },
   "toc_section_display": true,
   "toc_window_display": false
  }
 },
 "nbformat": 4,
 "nbformat_minor": 5
}
